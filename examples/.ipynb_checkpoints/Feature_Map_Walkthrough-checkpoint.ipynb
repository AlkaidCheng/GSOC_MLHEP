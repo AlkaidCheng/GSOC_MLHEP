{
 "cells": [
  {
   "cell_type": "markdown",
   "metadata": {},
   "source": [
    "Import the Quple Feature Map modules"
   ]
  },
  {
   "cell_type": "code",
   "execution_count": null,
   "metadata": {},
   "outputs": [],
   "source": [
    "!pip install quple"
   ]
  },
  {
   "cell_type": "code",
   "execution_count": null,
   "metadata": {},
   "outputs": [],
   "source": [
    "from quple.data_encoding.pauli_expansion import PauliExpansion\n",
    "from quple.data_encoding.pauli_z_expansion import PauliZExpansion\n",
    "from quple.data_encoding.first_order_expansion import FirstOrderExpansion\n",
    "from quple.data_encoding.second_order_expansion import SecondOrderExpansion"
   ]
  },
  {
   "cell_type": "markdown",
   "metadata": {},
   "source": [
    "Import the Qiskit Feature Map modules (most updated)"
   ]
  },
  {
   "cell_type": "code",
   "execution_count": null,
   "metadata": {},
   "outputs": [],
   "source": [
    "!pip install qiskit"
   ]
  },
  {
   "cell_type": "code",
   "execution_count": null,
   "metadata": {},
   "outputs": [],
   "source": [
    "from qiskit.circuit.library.data_preparation.pauli_feature_map import PauliFeatureMap\n",
    "from qiskit.circuit.library.data_preparation.z_feature_map import ZFeatureMap\n",
    "from qiskit.circuit.library.data_preparation.zz_feature_map import ZZFeatureMap"
   ]
  },
  {
   "cell_type": "markdown",
   "metadata": {},
   "source": [
    "Feature Map: Pauli Expansion"
   ]
  },
  {
   "cell_type": "code",
   "execution_count": null,
   "metadata": {},
   "outputs": [],
   "source": [
    "# For Quple\n",
    "cq = PauliExpansion(feature_dimension=3, depth=1, paulis=['X', 'Y'])\n",
    "cq.construct_circuit()\n",
    "print(cq)"
   ]
  },
  {
   "cell_type": "code",
   "execution_count": null,
   "metadata": {},
   "outputs": [],
   "source": [
    "# For Qiskit\n",
    "cq = PauliFeatureMap(feature_dimension=3, reps=1, paulis=['X','Y'])\n",
    "print(cq)"
   ]
  },
  {
   "cell_type": "markdown",
   "metadata": {},
   "source": [
    "Feature Map: Pauli Z Expansion"
   ]
  },
  {
   "cell_type": "code",
   "execution_count": null,
   "metadata": {},
   "outputs": [],
   "source": [
    "# For Quple\n",
    "cq = PauliZExpansion(feature_dimension=4, depth=2, z_order=2)\n",
    "cq.construct_circuit()\n",
    "print(cq)"
   ]
  },
  {
   "cell_type": "code",
   "execution_count": null,
   "metadata": {},
   "outputs": [],
   "source": [
    "# For Qiskit\n",
    "cq = PauliFeatureMap(feature_dimension=4, reps=2, paulis=['Z','ZZ'])\n",
    "print(cq)"
   ]
  },
  {
   "cell_type": "markdown",
   "metadata": {},
   "source": [
    "Feature Map: First Order Expansion"
   ]
  },
  {
   "cell_type": "code",
   "execution_count": null,
   "metadata": {},
   "outputs": [],
   "source": [
    "# For Quple\n",
    "cq = FirstOrderExpansion(feature_dimension=10, depth=3)\n",
    "cq.construct_circuit()\n",
    "print(cq)"
   ]
  },
  {
   "cell_type": "code",
   "execution_count": null,
   "metadata": {},
   "outputs": [],
   "source": [
    "# For Qiskit\n",
    "cq = ZFeatureMap(feature_dimension=10, reps=3)\n",
    "print(cq)"
   ]
  },
  {
   "cell_type": "markdown",
   "metadata": {},
   "source": [
    "Feature Map: Second Order Expansion"
   ]
  },
  {
   "cell_type": "code",
   "execution_count": null,
   "metadata": {},
   "outputs": [],
   "source": [
    "# For Quple\n",
    "cq = SecondOrderExpansion(feature_dimension=5, depth=2)\n",
    "cq.construct_circuit()\n",
    "print(cq)"
   ]
  },
  {
   "cell_type": "code",
   "execution_count": null,
   "metadata": {},
   "outputs": [],
   "source": [
    "# For Qiskit\n",
    "cq = ZZFeatureMap(feature_dimension=5, reps=2)\n",
    "print(cq)"
   ]
  },
  {
   "cell_type": "markdown",
   "metadata": {},
   "source": [
    "Basic Usage: Applying Qubit Operations"
   ]
  },
  {
   "cell_type": "code",
   "execution_count": null,
   "metadata": {},
   "outputs": [],
   "source": [
    "from quple.circuit.quantum_circuit import QuantumCircuit\n",
    "import numpy as np\n",
    "# Build a circuit\n",
    "cq = QuantumCircuit(n_qubit=5)\n",
    "# Perform H gate on qibits 0,3 and 4\n",
    "cq.H([0,3,4])\n",
    "# Perform H gate on all qubits\n",
    "cq.H(range(cq.n_qubit))\n",
    "# Perform Rz gate with theta = pi on qubit 3\n",
    "cq.Rz(np.pi, 3)\n",
    "# Perform Rx gate with theta = pi/2 on qubit 1,2 and 4\n",
    "cq.Rx(np.pi/2, [1,2,4])\n",
    "# Perform CNOT gate on qubits 0 and qubit 1 with 0 being the control qubit\n",
    "cq.CNOT((0,1))\n",
    "# Perform a series of CNOT gate on qubits (0,1), (1,2), (2,3), (3,4)\n",
    "cq.CNOT([(0,1),(1,2),(2,3),(3,4)])\n",
    "# print the circuit\n",
    "print(cq) # or cq.diagram"
   ]
  },
  {
   "cell_type": "markdown",
   "metadata": {},
   "source": [
    "Basic Usage: Parametrise Circuit"
   ]
  },
  {
   "cell_type": "code",
   "execution_count": null,
   "metadata": {},
   "outputs": [],
   "source": [
    "from quple.circuit.quantum_circuit import QuantumCircuit\n",
    "import numpy as np\n",
    "# Build a circuit\n",
    "cq = QuantumCircuit(n_qubit=5)\n",
    "# add variable x\n",
    "cq.parameter_table.append('x')\n",
    "print(cq.parameter_table.params)\n",
    "# add variable x,y and z\n",
    "cq.parameter_table.append(['x','y','z'])\n",
    "print(cq.parameter_table.params)\n",
    "# add an array variable x of size 10\n",
    "cq.parameter_table.append_array('x', 10)\n",
    "print(cq.parameter_table.params)\n",
    "# retrieve the variable x\n",
    "cq.parameter_table['x']\n",
    "# retrieve the array variable x with indices 1,2,5,7\n",
    "cq.parameter_table.get_array('x', [1,2,5,7]) # or\n",
    "cq.parameter_table.get_array('x', (1,2,5,7))\n",
    "# remove the array variable\n",
    "cq.parameter_table.remove_array('x')\n",
    "# remove the variable y\n",
    "cq.parameter_table.params.pop('y')\n",
    "\n",
    "# perform Rz by (x[0]+x[1])*pi/2 degree on qubits 1,2,4\n",
    "cq.parameter_table.append_array('x', 2)\n",
    "x = cq.parameter_table.get_array('x',[0,1])\n",
    "cq.Rz((x[0]+x[1])*np.pi/2, [1,2,4])\n",
    "print(cq)"
   ]
  },
  {
   "cell_type": "markdown",
   "metadata": {},
   "source": [
    "Basic Usage: Entangling qubits in a circuit"
   ]
  },
  {
   "cell_type": "code",
   "execution_count": null,
   "metadata": {},
   "outputs": [],
   "source": [
    "from quple.circuit.entanglement_circuit import EntanglementCircuit\n",
    "import numpy as np\n",
    "# Build a circuit\n",
    "cq = EntanglementCircuit(n_qubit=5)\n",
    "# Entangle qubits 1 and 2 with CNOT\n",
    "cq.entangle((1,2))\n",
    "print(cq)\n",
    "# Entangle qubits 1, 2, 3, 4 with CNOT on each pair of (0, 1), (1, 2), (2, 3), (3, 4)\n",
    "# you can modify how the pairings are done by overriding the _entangled_qubit_pairing method in class EntanglementCircuit\n",
    "cq.entangle((1,2,3,4))\n",
    "print(cq)\n",
    "# Entangle in reverse order\n",
    "cq.entangle((1,2,3,4), inverse=True)\n",
    "print(cq)"
   ]
  },
  {
   "cell_type": "markdown",
   "metadata": {},
   "source": [
    "Basic Usage: Get / Create an entangling map for a circuit"
   ]
  },
  {
   "cell_type": "code",
   "execution_count": null,
   "metadata": {},
   "outputs": [],
   "source": [
    "'''\n",
    "An entangler map defines the entanglement blocks in a circuit, \n",
    "inside an entanglement block, multiple qubits are entangled and\n",
    "a parametrised gate operation may act on one of these entangled qubits.\n",
    "For example, for a 4 qubit system with 5 parametrised variables\n",
    "an entangler map may be:\n",
    "[(0, 1, 2), (0, 1, 3), (0, 2, 3), (1, 2, 3)]\n",
    "i.e. there are a total of 4 entanglement blocks\n",
    "in the block (0, 1, 2), qubits 0, 1, 2 are entangled\n",
    "and an Rz rotation maybe performed on one of the qubits with the\n",
    "angle parametrised by the variables x[0], x[1] and x[2]\n",
    "the above entangler map will have all combinations of entanglement with 3 qubits,\n",
    "thus it's a 'full' entanglement\n",
    "how the 3 qubits are entangled is defined by the function _entangled_qubit_pairing\n",
    "'''\n",
    "from quple.circuit.entanglement_circuit import EntanglementCircuit\n",
    "import numpy as np\n",
    "# Build a circuit\n",
    "cq = EntanglementCircuit(n_qubit=5)\n",
    "# for full entanglement\n",
    "# here n_block_qubit is the number of qubits involved in each entanglement block\n",
    "entangler_map = cq.get_entangler_map(n_block_qubit=2, method='full')\n",
    "print(entangler_map)\n",
    "entangler_map = cq.get_entangler_map(n_block_qubit=3, method='full')\n",
    "print(entangler_map)\n",
    "# for linear entanglement\n",
    "entangler_map = cq.get_entangler_map(n_block_qubit=2, method='linear')\n",
    "print(entangler_map)"
   ]
  },
  {
   "cell_type": "markdown",
   "metadata": {},
   "source": [
    "Build Your Own Feature Map"
   ]
  },
  {
   "cell_type": "markdown",
   "metadata": {},
   "source": [
    "Example 01:"
   ]
  },
  {
   "cell_type": "code",
   "execution_count": null,
   "metadata": {},
   "outputs": [],
   "source": [
    "from quple.data_encoding.encoding_circuit import EncodingCircuit\n",
    "from typing import Optional, Callable\n",
    "class FeatureMap01(EncodingCircuit):\n",
    "    def __init__(self, feature_dimension: int,\n",
    "                 depth: int=2,\n",
    "                 encoding_map:Optional[Callable[[np.ndarray], float]] = None,\n",
    "                 name:str=None):\n",
    "        '''Create Feature Map 01\n",
    "        Args:\n",
    "            feature_dimension: dimension of data to be encoded (=number of qubits in the circuit)\n",
    "            depth: the number of repetition of the encoding circuit\n",
    "            encoding_map: data mapping function from R^(feature_dimension) to R\n",
    "            name: name of circuit\n",
    "        '''\n",
    "        super().__init__(feature_dimension, depth, encoding_map, name=name)\n",
    "    def _build_primary_layer(self):\n",
    "        # build the Hadamard layer\n",
    "        self.H(range(self.n_qubit))  #Here n_qubit = feature_dimension\n",
    "        # build the entanglement layer\n",
    "        \n",
    "        # first entanglement block\n",
    "        self.entangle((0,1))  #entangle qubit 0 and qubit 1\n",
    "        mapped_value = self.encode_parameters((0,1)) #map the data input x[0] and x[1] into a number in R\n",
    "        self.Rz(mapped_value, 1) #do rz on qubit 1\n",
    "        self.entangle((0,1)) #entangle qubit 0 and qubit 1\n",
    "        \n",
    "        # second entanglement block\n",
    "        self.entangle((1,2))  #entangle qubit 1 and qubit 2\n",
    "        mapped_value = self.encode_parameters((1,2)) #map the data input x[1] and x[2] into a number in R\n",
    "        self.Rz(mapped_value, 1) #do rz on qubit 1\n",
    "        self.entangle((1,2)) #entangle qubit 1 and qubit 2"
   ]
  },
  {
   "cell_type": "code",
   "execution_count": null,
   "metadata": {},
   "outputs": [],
   "source": [
    "cq = FeatureMap01(feature_dimension=5)\n",
    "cq.construct_circuit()\n",
    "print(cq)"
   ]
  }
 ],
 "metadata": {
  "kernelspec": {
   "display_name": "Python 3",
   "language": "python",
   "name": "python3"
  },
  "language_info": {
   "codemirror_mode": {
    "name": "ipython",
    "version": 3
   },
   "file_extension": ".py",
   "mimetype": "text/x-python",
   "name": "python",
   "nbconvert_exporter": "python",
   "pygments_lexer": "ipython3",
   "version": "3.7.6"
  }
 },
 "nbformat": 4,
 "nbformat_minor": 4
}
