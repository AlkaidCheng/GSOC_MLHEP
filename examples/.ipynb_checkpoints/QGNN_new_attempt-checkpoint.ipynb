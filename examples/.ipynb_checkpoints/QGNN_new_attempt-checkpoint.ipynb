{
 "cells": [
  {
   "cell_type": "code",
   "execution_count": 1,
   "id": "given-membrane",
   "metadata": {},
   "outputs": [],
   "source": [
    "import tensorflow_quantum as tfq\n",
    "import tensorflow as tf\n",
    "import cirq\n",
    "import numpy as np"
   ]
  },
  {
   "cell_type": "code",
   "execution_count": 2,
   "id": "gentle-cameroon",
   "metadata": {},
   "outputs": [],
   "source": [
    "import quple\n",
    "from quple import ParameterisedCircuit\n",
    "from quple.interface.tfq.layers.pqc import PQC\n",
    "from quple.data_encoding import SecondOrderPauliZEncoding, FirstOrderPauliZEncoding\n",
    "from quple.data_encoding.encoding_maps import polynomial"
   ]
  },
  {
   "cell_type": "code",
   "execution_count": 3,
   "id": "atlantic-summary",
   "metadata": {},
   "outputs": [],
   "source": [
    "batch_size = 10\n",
    "n_qubit = 5"
   ]
  },
  {
   "cell_type": "code",
   "execution_count": 4,
   "id": "extra-politics",
   "metadata": {},
   "outputs": [
    {
     "data": {
      "text/html": [
       "<pre style=\"overflow: auto; white-space: pre;\">(0, 0): ───H───Rz(pi*x_0)───H───Rz(pi*x_0)───\n",
       "\n",
       "(0, 1): ───H───Rz(pi*x_1)───H───Rz(pi*x_1)───\n",
       "\n",
       "(0, 2): ───H───Rz(pi*x_2)───H───Rz(pi*x_2)───\n",
       "\n",
       "(0, 3): ───H───Rz(pi*x_3)───H───Rz(pi*x_3)───\n",
       "\n",
       "(0, 4): ───H───Rz(pi*x_4)───H───Rz(pi*x_4)───</pre>"
      ],
      "text/plain": [
       "(0, 0): ───H───Rz(pi*x_0)───H───Rz(pi*x_0)───\n",
       "\n",
       "(0, 1): ───H───Rz(pi*x_1)───H───Rz(pi*x_1)───\n",
       "\n",
       "(0, 2): ───H───Rz(pi*x_2)───H───Rz(pi*x_2)───\n",
       "\n",
       "(0, 3): ───H───Rz(pi*x_3)───H───Rz(pi*x_3)───\n",
       "\n",
       "(0, 4): ───H───Rz(pi*x_4)───H───Rz(pi*x_4)───"
      ]
     },
     "execution_count": 4,
     "metadata": {},
     "output_type": "execute_result"
    }
   ],
   "source": [
    "encoding_circuit = FirstOrderPauliZEncoding(n_qubit, flatten_circuit=False)\n",
    "encoding_circuit"
   ]
  },
  {
   "cell_type": "code",
   "execution_count": 5,
   "id": "opponent-swiss",
   "metadata": {},
   "outputs": [
    {
     "data": {
      "text/html": [
       "<pre style=\"overflow: auto; white-space: pre;\">                                                                   ┌──────────────────┐               ┌──────────────────┐                                                                          ┌──────────────────┐               ┌──────────────────┐\n",
       "(0, 0): ───Ry(θ_0)───Rz(θ_5)───XX──────────XX──────────XX───────────XX───────────────────────────────────────────────────────────────────Ry(θ_20)────Rz(θ_25)───XX──────────XX──────────XX───────────XX───────────────────────────────────────────────────────────────────Ry(θ_40)────Rz(θ_45)──────────────\n",
       "                               │           │           │            │                                                                                           │           │           │            │\n",
       "(0, 1): ───Ry(θ_1)───Rz(θ_6)───XX^(θ_10)───┼───────────┼────────────┼────────XX───────────XX───────────XX────────────────────────────────Ry(θ_21)────Rz(θ_26)───XX^(θ_30)───┼───────────┼────────────┼────────XX───────────XX───────────XX────────────────────────────────Ry(θ_41)────Rz(θ_46)──────────────\n",
       "                                           │           │            │        │            │            │                                                                    │           │            │        │            │            │\n",
       "(0, 2): ───Ry(θ_2)───Rz(θ_7)───────────────XX^(θ_11)───┼────────────┼────────XX^(θ_14)────┼────────────┼────────XX───────────XX──────────Ry(θ_22)────Rz(θ_27)───────────────XX^(θ_31)───┼────────────┼────────XX^(θ_34)────┼────────────┼────────XX───────────XX──────────Ry(θ_42)────Rz(θ_47)──────────────\n",
       "                                                       │            │                     │            │        │            │                                                          │            │                     │            │        │            │\n",
       "(0, 3): ───Ry(θ_3)───Rz(θ_8)───────────────────────────XX^(θ_12)────┼─────────────────────XX^(θ_15)────┼────────XX^(θ_17)────┼───────────XX──────────Ry(θ_23)───Rz(θ_28)────────────────XX^(θ_32)────┼─────────────────────XX^(θ_35)────┼────────XX^(θ_37)────┼───────────XX──────────Ry(θ_43)───Rz(θ_48)───\n",
       "                                                                    │                                  │                     │           │                                                           │                                  │                     │           │\n",
       "(0, 4): ───Ry(θ_4)───Rz(θ_9)────────────────────────────────────────XX^(θ_13)──────────────────────────XX^(θ_16)─────────────XX^(θ_18)───XX^(θ_19)───Ry(θ_24)───Rz(θ_29)─────────────────────────────XX^(θ_33)──────────────────────────XX^(θ_36)─────────────XX^(θ_38)───XX^(θ_39)───Ry(θ_44)───Rz(θ_49)───\n",
       "                                                                   └──────────────────┘               └──────────────────┘                                                                          └──────────────────┘               └──────────────────┘</pre>"
      ],
      "text/plain": [
       "                                                                   ┌──────────────────┐               ┌──────────────────┐                                                                          ┌──────────────────┐               ┌──────────────────┐\n",
       "(0, 0): ───Ry(θ_0)───Rz(θ_5)───XX──────────XX──────────XX───────────XX───────────────────────────────────────────────────────────────────Ry(θ_20)────Rz(θ_25)───XX──────────XX──────────XX───────────XX───────────────────────────────────────────────────────────────────Ry(θ_40)────Rz(θ_45)──────────────\n",
       "                               │           │           │            │                                                                                           │           │           │            │\n",
       "(0, 1): ───Ry(θ_1)───Rz(θ_6)───XX^(θ_10)───┼───────────┼────────────┼────────XX───────────XX───────────XX────────────────────────────────Ry(θ_21)────Rz(θ_26)───XX^(θ_30)───┼───────────┼────────────┼────────XX───────────XX───────────XX────────────────────────────────Ry(θ_41)────Rz(θ_46)──────────────\n",
       "                                           │           │            │        │            │            │                                                                    │           │            │        │            │            │\n",
       "(0, 2): ───Ry(θ_2)───Rz(θ_7)───────────────XX^(θ_11)───┼────────────┼────────XX^(θ_14)────┼────────────┼────────XX───────────XX──────────Ry(θ_22)────Rz(θ_27)───────────────XX^(θ_31)───┼────────────┼────────XX^(θ_34)────┼────────────┼────────XX───────────XX──────────Ry(θ_42)────Rz(θ_47)──────────────\n",
       "                                                       │            │                     │            │        │            │                                                          │            │                     │            │        │            │\n",
       "(0, 3): ───Ry(θ_3)───Rz(θ_8)───────────────────────────XX^(θ_12)────┼─────────────────────XX^(θ_15)────┼────────XX^(θ_17)────┼───────────XX──────────Ry(θ_23)───Rz(θ_28)────────────────XX^(θ_32)────┼─────────────────────XX^(θ_35)────┼────────XX^(θ_37)────┼───────────XX──────────Ry(θ_43)───Rz(θ_48)───\n",
       "                                                                    │                                  │                     │           │                                                           │                                  │                     │           │\n",
       "(0, 4): ───Ry(θ_4)───Rz(θ_9)────────────────────────────────────────XX^(θ_13)──────────────────────────XX^(θ_16)─────────────XX^(θ_18)───XX^(θ_19)───Ry(θ_24)───Rz(θ_29)─────────────────────────────XX^(θ_33)──────────────────────────XX^(θ_36)─────────────XX^(θ_38)───XX^(θ_39)───Ry(θ_44)───Rz(θ_49)───\n",
       "                                                                   └──────────────────┘               └──────────────────┘                                                                          └──────────────────┘               └──────────────────┘"
      ]
     },
     "execution_count": 5,
     "metadata": {},
     "output_type": "execute_result"
    }
   ],
   "source": [
    "from quple.circuits.variational_circuits import IsingCoupling, EfficientSU2\n",
    "generator_circuit = IsingCoupling(n_qubit=n_qubit, copies=2)\n",
    "generator_circuit"
   ]
  },
  {
   "cell_type": "code",
   "execution_count": 6,
   "id": "minus-nickel",
   "metadata": {},
   "outputs": [
    {
     "data": {
      "text/html": [
       "<pre style=\"overflow: auto; white-space: pre;\">                                           ┌──┐       ┌──┐                                                ┌──┐       ┌──┐\n",
       "(0, 0): ───Ry(θ_0)───Rz(θ_5)───@───@───@────@────────────────────Ry(θ_10)───Rz(θ_15)───@──────────@───@────@────────────────────Ry(θ_20)───Rz(θ_25)──────────────\n",
       "                               │   │   │    │                                          │          │   │    │\n",
       "(0, 1): ───Ry(θ_1)───Rz(θ_6)───X───┼───┼────┼@────@────@─────────Ry(θ_11)───Rz(θ_16)───X──────────┼───┼────┼@────@────@─────────Ry(θ_21)───Rz(θ_26)──────────────\n",
       "                                   │   │    ││    │    │                                          │   │    ││    │    │\n",
       "(0, 2): ───Ry(θ_2)───Rz(θ_7)───────X───┼────┼X────┼────┼@────@───Ry(θ_12)───Rz(θ_17)──────────────X───┼────┼X────┼────┼@────@───Ry(θ_22)───Rz(θ_27)──────────────\n",
       "                                       │    │     │    ││    │                                        │    │     │    ││    │\n",
       "(0, 3): ───Ry(θ_3)───Rz(θ_8)───────────X────┼─────X────┼X────┼───@──────────Ry(θ_13)───Rz(θ_18)───────X────┼─────X────┼X────┼───@──────────Ry(θ_23)───Rz(θ_28)───\n",
       "                                            │          │     │   │                                         │          │     │   │\n",
       "(0, 4): ───Ry(θ_4)───Rz(θ_9)────────────────X──────────X─────X───X──────────Ry(θ_14)───Rz(θ_19)────────────X──────────X─────X───X──────────Ry(θ_24)───Rz(θ_29)───\n",
       "                                           └──┘       └──┘                                                └──┘       └──┘</pre>"
      ],
      "text/plain": [
       "                                           ┌──┐       ┌──┐                                                ┌──┐       ┌──┐\n",
       "(0, 0): ───Ry(θ_0)───Rz(θ_5)───@───@───@────@────────────────────Ry(θ_10)───Rz(θ_15)───@──────────@───@────@────────────────────Ry(θ_20)───Rz(θ_25)──────────────\n",
       "                               │   │   │    │                                          │          │   │    │\n",
       "(0, 1): ───Ry(θ_1)───Rz(θ_6)───X───┼───┼────┼@────@────@─────────Ry(θ_11)───Rz(θ_16)───X──────────┼───┼────┼@────@────@─────────Ry(θ_21)───Rz(θ_26)──────────────\n",
       "                                   │   │    ││    │    │                                          │   │    ││    │    │\n",
       "(0, 2): ───Ry(θ_2)───Rz(θ_7)───────X───┼────┼X────┼────┼@────@───Ry(θ_12)───Rz(θ_17)──────────────X───┼────┼X────┼────┼@────@───Ry(θ_22)───Rz(θ_27)──────────────\n",
       "                                       │    │     │    ││    │                                        │    │     │    ││    │\n",
       "(0, 3): ───Ry(θ_3)───Rz(θ_8)───────────X────┼─────X────┼X────┼───@──────────Ry(θ_13)───Rz(θ_18)───────X────┼─────X────┼X────┼───@──────────Ry(θ_23)───Rz(θ_28)───\n",
       "                                            │          │     │   │                                         │          │     │   │\n",
       "(0, 4): ───Ry(θ_4)───Rz(θ_9)────────────────X──────────X─────X───X──────────Ry(θ_14)───Rz(θ_19)────────────X──────────X─────X───X──────────Ry(θ_24)───Rz(θ_29)───\n",
       "                                           └──┘       └──┘                                                └──┘       └──┘"
      ]
     },
     "execution_count": 6,
     "metadata": {},
     "output_type": "execute_result"
    }
   ],
   "source": [
    "discriminator_circuit = EfficientSU2(n_qubit=n_qubit, copies=2)\n",
    "discriminator_circuit"
   ]
  },
  {
   "cell_type": "code",
   "execution_count": 20,
   "id": "disturbed-pleasure",
   "metadata": {},
   "outputs": [],
   "source": [
    "generator = tf.keras.Sequential()"
   ]
  },
  {
   "cell_type": "code",
   "execution_count": 21,
   "id": "bright-alias",
   "metadata": {},
   "outputs": [],
   "source": [
    "#input_layer = tf.keras.layers.Input(shape=(batch_size, n_qubit), dtype=tf.float32)\n",
    "input_layer = tf.keras.layers.Input(shape=(n_qubit), batch_size=batch_size, dtype=tf.float32)"
   ]
  },
  {
   "cell_type": "code",
   "execution_count": 22,
   "id": "greenhouse-shock",
   "metadata": {},
   "outputs": [],
   "source": [
    "qubits = quple.get_circuit_qubits(generator_circuit)\n",
    "readout = [cirq.Z(qubit) for qubit in qubits]"
   ]
  },
  {
   "cell_type": "code",
   "execution_count": 23,
   "id": "equal-advocate",
   "metadata": {},
   "outputs": [],
   "source": [
    "pqc_layer = PQC(generator_circuit, encoding_circuit,readout)"
   ]
  },
  {
   "cell_type": "code",
   "execution_count": 24,
   "id": "given-bracelet",
   "metadata": {},
   "outputs": [],
   "source": [
    "output_layer = tf.keras.layers.Dense(n_qubit, activation=\"tanh\")"
   ]
  },
  {
   "cell_type": "code",
   "execution_count": 25,
   "id": "amber-citation",
   "metadata": {},
   "outputs": [],
   "source": [
    "generator.add(input_layer)"
   ]
  },
  {
   "cell_type": "code",
   "execution_count": 26,
   "id": "heated-essex",
   "metadata": {},
   "outputs": [],
   "source": [
    "generator.add(pqc_layer)"
   ]
  },
  {
   "cell_type": "code",
   "execution_count": 27,
   "id": "atlantic-barrel",
   "metadata": {},
   "outputs": [],
   "source": [
    "generator.add(output_layer)"
   ]
  },
  {
   "cell_type": "code",
   "execution_count": 28,
   "id": "present-chester",
   "metadata": {},
   "outputs": [
    {
     "name": "stdout",
     "output_type": "stream",
     "text": [
      "Model: \"sequential_1\"\n",
      "_________________________________________________________________\n",
      "Layer (type)                 Output Shape              Param #   \n",
      "=================================================================\n",
      "pqc_1 (PQC)                  (10, 5)                   50        \n",
      "_________________________________________________________________\n",
      "dense_1 (Dense)              (10, 5)                   30        \n",
      "=================================================================\n",
      "Total params: 80\n",
      "Trainable params: 80\n",
      "Non-trainable params: 0\n",
      "_________________________________________________________________\n"
     ]
    }
   ],
   "source": [
    "generator.summary()"
   ]
  },
  {
   "cell_type": "code",
   "execution_count": 18,
   "id": "permanent-photography",
   "metadata": {},
   "outputs": [
    {
     "data": {
      "text/plain": [
       "<tf.Tensor: shape=(10, 5), dtype=float32, numpy=\n",
       "array([[-0.06467961,  0.26773226, -0.20548037,  0.16932571, -0.19221087],\n",
       "       [-0.36889392, -0.52972883, -0.18135951, -0.05169796, -0.24641778],\n",
       "       [ 0.34399307,  0.38617542,  0.02515232,  0.1190201 ,  0.24068812],\n",
       "       [-0.31629613, -0.3229137 ,  0.05962236, -0.00514397, -0.05984399],\n",
       "       [-0.01107772,  0.2710257 , -0.13891353,  0.42854258,  0.22532205],\n",
       "       [-0.38378417, -0.296323  , -0.13970445,  0.06043072, -0.24919087],\n",
       "       [-0.24547333, -0.46485674, -0.24941301,  0.04323531, -0.17559053],\n",
       "       [-0.090783  ,  0.00170035,  0.12205448,  0.25711906,  0.2805247 ],\n",
       "       [-0.14601402, -0.00184292, -0.18105973,  0.3006708 ,  0.02689574],\n",
       "       [-0.5382972 , -0.61716413,  0.11002041,  0.2643957 ,  0.14953378]],\n",
       "      dtype=float32)>"
      ]
     },
     "execution_count": 18,
     "metadata": {},
     "output_type": "execute_result"
    }
   ],
   "source": [
    "generator(x)"
   ]
  },
  {
   "cell_type": "code",
   "execution_count": null,
   "id": "numerical-permission",
   "metadata": {},
   "outputs": [],
   "source": []
  },
  {
   "cell_type": "code",
   "execution_count": 17,
   "id": "engaged-nutrition",
   "metadata": {},
   "outputs": [],
   "source": [
    "x = tf.random.normal((batch_size, n_qubit))"
   ]
  },
  {
   "cell_type": "code",
   "execution_count": 25,
   "id": "found-queen",
   "metadata": {},
   "outputs": [],
   "source": [
    "from tensorflow.python.keras.engine import training_utils\n",
    "from tensorflow.python.util import nest"
   ]
  },
  {
   "cell_type": "code",
   "execution_count": 26,
   "id": "joined-attention",
   "metadata": {},
   "outputs": [
    {
     "ename": "IndexError",
     "evalue": "list index out of range",
     "output_type": "error",
     "traceback": [
      "\u001b[0;31m---------------------------------------------------------------------------\u001b[0m",
      "\u001b[0;31mIndexError\u001b[0m                                Traceback (most recent call last)",
      "\u001b[0;32m<ipython-input-26-db9731c23078>\u001b[0m in \u001b[0;36m<module>\u001b[0;34m\u001b[0m\n\u001b[0;32m----> 1\u001b[0;31m \u001b[0moutputs\u001b[0m \u001b[0;34m=\u001b[0m \u001b[0mnest\u001b[0m\u001b[0;34m.\u001b[0m\u001b[0mflatten\u001b[0m\u001b[0;34m(\u001b[0m\u001b[0mpqc_layer\u001b[0m\u001b[0;34m.\u001b[0m\u001b[0m_inbound_nodes\u001b[0m\u001b[0;34m[\u001b[0m\u001b[0;34m-\u001b[0m\u001b[0;36m1\u001b[0m\u001b[0;34m]\u001b[0m\u001b[0;34m.\u001b[0m\u001b[0moutputs\u001b[0m\u001b[0;34m)\u001b[0m\u001b[0;34m\u001b[0m\u001b[0;34m\u001b[0m\u001b[0m\n\u001b[0m",
      "\u001b[0;31mIndexError\u001b[0m: list index out of range"
     ]
    }
   ],
   "source": [
    "outputs = nest.flatten(pqc_layer._inbound_nodes[-1].outputs)"
   ]
  },
  {
   "cell_type": "code",
   "execution_count": 27,
   "id": "crazy-liver",
   "metadata": {},
   "outputs": [
    {
     "data": {
      "text/plain": [
       "[]"
      ]
     },
     "execution_count": 27,
     "metadata": {},
     "output_type": "execute_result"
    }
   ],
   "source": [
    "pqc_layer._inbound_nodes"
   ]
  },
  {
   "cell_type": "code",
   "execution_count": null,
   "id": "satisfied-shower",
   "metadata": {},
   "outputs": [],
   "source": []
  },
  {
   "cell_type": "code",
   "execution_count": null,
   "id": "forced-creator",
   "metadata": {},
   "outputs": [],
   "source": []
  },
  {
   "cell_type": "code",
   "execution_count": 11,
   "id": "heard-completion",
   "metadata": {},
   "outputs": [],
   "source": [
    "pqc_layer2 = PQC(discriminator_circuit, encoding_circuit, readout)"
   ]
  },
  {
   "cell_type": "code",
   "execution_count": 12,
   "id": "cardiovascular-channel",
   "metadata": {},
   "outputs": [
    {
     "data": {
      "text/plain": [
       "[None]"
      ]
     },
     "execution_count": 12,
     "metadata": {},
     "output_type": "execute_result"
    }
   ],
   "source": [
    "x = tf.random.normal((batch_size, n_qubit))\n",
    "with tf.GradientTape() as gen_tape, tf.GradientTape() as disc_tape:\n",
    "    x_fake = pqc_layer(x, training=True)\n",
    "    d_fake = pqc_layer2(x_fake, training=True)\n",
    "    loss = -tf.reduce_mean(d_fake)\n",
    "grad = gen_tape.gradient(loss, pqc_layer.trainable_variables)\n",
    "grad"
   ]
  },
  {
   "cell_type": "code",
   "execution_count": 29,
   "id": "mediterranean-payday",
   "metadata": {},
   "outputs": [],
   "source": [
    "test_cq = SecondOrderPauliZEncoding(n_qubit)\n",
    "tensor_cq = tfq.convert_to_tensor([test_cq])"
   ]
  },
  {
   "cell_type": "code",
   "execution_count": 33,
   "id": "racial-patio",
   "metadata": {},
   "outputs": [],
   "source": [
    "x = tf.random.normal((batch_size, n_qubit))\n",
    "symbols, values = test_cq._get_resolved_symbols_and_values(x.numpy())"
   ]
  },
  {
   "cell_type": "code",
   "execution_count": 36,
   "id": "covered-update",
   "metadata": {},
   "outputs": [],
   "source": [
    "tiled_model = tf.tile(pqc_layer._data_circuit, [batch_size])"
   ]
  },
  {
   "cell_type": "code",
   "execution_count": 37,
   "id": "documentary-narrow",
   "metadata": {},
   "outputs": [],
   "source": [
    "final_tensor = tfq.resolve_parameters(tiled_model, symbols, values)"
   ]
  },
  {
   "cell_type": "code",
   "execution_count": 18,
   "id": "champion-consumer",
   "metadata": {},
   "outputs": [],
   "source": [
    "    def create_discriminator(self, quantum_circuit:\"cirq.Circuit\"):\n",
    "        discriminator = Sequential()\n",
    "        # input layer for the quantum encoding circuit\n",
    "        input_layer = tf.keras.layers.Input(shape=(), dtype=tf.string)\n",
    "        # variational layer \n",
    "        qubits = quple.get_circuit_qubits(quantum_circuit)\n",
    "        n_qubit = len(qubits)\n",
    "        if not self.d_readout:\n",
    "            d_readout = [cirq.Z(qubits[0])]\n",
    "        else:\n",
    "            d_readout = self.d_readout    \n",
    "        pqc_layer = tfq.layers.PQC(quantum_circuit,\n",
    "                                   d_readout,\n",
    "                                   repetitions=self.repetitions,\n",
    "                                   differentiator=self.differentiator,\n",
    "                                   regularizer=self.regularizer)\n",
    "        # classical layer for adding bias to the quantum output\n",
    "        output_layer = tf.keras.layers.Dense(1, activation=self.d_activation)\n",
    "        \n",
    "        # create generator model\n",
    "        discriminator.add(input_layer)\n",
    "        discriminator.add(pqc_layer)\n",
    "        discriminator.add(output_layer)\n",
    "        return discriminator"
   ]
  },
  {
   "cell_type": "code",
   "execution_count": 19,
   "id": "general-hampshire",
   "metadata": {},
   "outputs": [],
   "source": []
  },
  {
   "cell_type": "code",
   "execution_count": null,
   "id": "falling-prefix",
   "metadata": {},
   "outputs": [],
   "source": []
  },
  {
   "cell_type": "code",
   "execution_count": 20,
   "id": "thermal-confusion",
   "metadata": {},
   "outputs": [
    {
     "ename": "ValueError",
     "evalue": "Arithmetic expression outside of simple scalar multiplication is currently not supported. See serializer.py for more information.",
     "output_type": "error",
     "traceback": [
      "\u001b[0;31m---------------------------------------------------------------------------\u001b[0m",
      "\u001b[0;31mValueError\u001b[0m                                Traceback (most recent call last)",
      "\u001b[0;32m<ipython-input-20-ff6169f455c9>\u001b[0m in \u001b[0;36m<module>\u001b[0;34m\u001b[0m\n\u001b[1;32m      6\u001b[0m         \u001b[0mrepetitions\u001b[0m\u001b[0;34m=\u001b[0m\u001b[0;36m500\u001b[0m\u001b[0;34m,\u001b[0m\u001b[0;34m\u001b[0m\u001b[0;34m\u001b[0m\u001b[0m\n\u001b[1;32m      7\u001b[0m         \u001b[0msymbol_names\u001b[0m\u001b[0;34m=\u001b[0m\u001b[0mencoding_circuit\u001b[0m\u001b[0;34m.\u001b[0m\u001b[0msymbols\u001b[0m\u001b[0;34m,\u001b[0m\u001b[0;34m\u001b[0m\u001b[0;34m\u001b[0m\u001b[0m\n\u001b[0;32m----> 8\u001b[0;31m         symbol_values=x)\n\u001b[0m",
      "\u001b[0;32m/afs/cern.ch/work/c/chlcheng/public/local/conda/miniconda/envs/ml-base/lib/python3.7/site-packages/tensorflow/python/keras/engine/base_layer.py\u001b[0m in \u001b[0;36m__call__\u001b[0;34m(self, *args, **kwargs)\u001b[0m\n\u001b[1;32m    983\u001b[0m \u001b[0;34m\u001b[0m\u001b[0m\n\u001b[1;32m    984\u001b[0m         \u001b[0;32mwith\u001b[0m \u001b[0mops\u001b[0m\u001b[0;34m.\u001b[0m\u001b[0menable_auto_cast_variables\u001b[0m\u001b[0;34m(\u001b[0m\u001b[0mself\u001b[0m\u001b[0;34m.\u001b[0m\u001b[0m_compute_dtype_object\u001b[0m\u001b[0;34m)\u001b[0m\u001b[0;34m:\u001b[0m\u001b[0;34m\u001b[0m\u001b[0;34m\u001b[0m\u001b[0m\n\u001b[0;32m--> 985\u001b[0;31m           \u001b[0moutputs\u001b[0m \u001b[0;34m=\u001b[0m \u001b[0mcall_fn\u001b[0m\u001b[0;34m(\u001b[0m\u001b[0minputs\u001b[0m\u001b[0;34m,\u001b[0m \u001b[0;34m*\u001b[0m\u001b[0margs\u001b[0m\u001b[0;34m,\u001b[0m \u001b[0;34m**\u001b[0m\u001b[0mkwargs\u001b[0m\u001b[0;34m)\u001b[0m\u001b[0;34m\u001b[0m\u001b[0;34m\u001b[0m\u001b[0m\n\u001b[0m\u001b[1;32m    986\u001b[0m \u001b[0;34m\u001b[0m\u001b[0m\n\u001b[1;32m    987\u001b[0m         \u001b[0;32mif\u001b[0m \u001b[0mself\u001b[0m\u001b[0;34m.\u001b[0m\u001b[0m_activity_regularizer\u001b[0m\u001b[0;34m:\u001b[0m\u001b[0;34m\u001b[0m\u001b[0;34m\u001b[0m\u001b[0m\n",
      "\u001b[0;32m/afs/cern.ch/work/c/chlcheng/public/local/conda/miniconda/envs/ml-base/lib/python3.7/site-packages/tensorflow_quantum/python/layers/circuit_executors/sampled_expectation.py\u001b[0m in \u001b[0;36mcall\u001b[0;34m(self, inputs, symbol_names, symbol_values, operators, repetitions, initializer)\u001b[0m\n\u001b[1;32m    279\u001b[0m \u001b[0;34m\u001b[0m\u001b[0m\n\u001b[1;32m    280\u001b[0m         inputs, symbol_names, symbol_values = input_checks.expand_circuits(\n\u001b[0;32m--> 281\u001b[0;31m             inputs, symbol_names, symbol_values)\n\u001b[0m\u001b[1;32m    282\u001b[0m \u001b[0;34m\u001b[0m\u001b[0m\n\u001b[1;32m    283\u001b[0m         \u001b[0mcircuit_batch_dim\u001b[0m \u001b[0;34m=\u001b[0m \u001b[0mtf\u001b[0m\u001b[0;34m.\u001b[0m\u001b[0mgather\u001b[0m\u001b[0;34m(\u001b[0m\u001b[0mtf\u001b[0m\u001b[0;34m.\u001b[0m\u001b[0mshape\u001b[0m\u001b[0;34m(\u001b[0m\u001b[0minputs\u001b[0m\u001b[0;34m)\u001b[0m\u001b[0;34m,\u001b[0m \u001b[0;36m0\u001b[0m\u001b[0;34m)\u001b[0m\u001b[0;34m\u001b[0m\u001b[0;34m\u001b[0m\u001b[0m\n",
      "\u001b[0;32m/afs/cern.ch/work/c/chlcheng/public/local/conda/miniconda/envs/ml-base/lib/python3.7/site-packages/tensorflow_quantum/python/layers/circuit_executors/input_checks.py\u001b[0m in \u001b[0;36mexpand_circuits\u001b[0;34m(inputs, symbol_names, symbol_values)\u001b[0m\n\u001b[1;32m     85\u001b[0m     \u001b[0;32melif\u001b[0m \u001b[0misinstance\u001b[0m\u001b[0;34m(\u001b[0m\u001b[0minputs\u001b[0m\u001b[0;34m,\u001b[0m \u001b[0;34m(\u001b[0m\u001b[0mlist\u001b[0m\u001b[0;34m,\u001b[0m \u001b[0mtuple\u001b[0m\u001b[0;34m,\u001b[0m \u001b[0mnp\u001b[0m\u001b[0;34m.\u001b[0m\u001b[0mndarray\u001b[0m\u001b[0;34m)\u001b[0m\u001b[0;34m)\u001b[0m\u001b[0;34m:\u001b[0m\u001b[0;34m\u001b[0m\u001b[0;34m\u001b[0m\u001b[0m\n\u001b[1;32m     86\u001b[0m         \u001b[0;31m# process list of circuits.\u001b[0m\u001b[0;34m\u001b[0m\u001b[0;34m\u001b[0m\u001b[0;34m\u001b[0m\u001b[0m\n\u001b[0;32m---> 87\u001b[0;31m         \u001b[0minputs\u001b[0m \u001b[0;34m=\u001b[0m \u001b[0mutil\u001b[0m\u001b[0;34m.\u001b[0m\u001b[0mconvert_to_tensor\u001b[0m\u001b[0;34m(\u001b[0m\u001b[0minputs\u001b[0m\u001b[0;34m)\u001b[0m\u001b[0;34m\u001b[0m\u001b[0;34m\u001b[0m\u001b[0m\n\u001b[0m\u001b[1;32m     88\u001b[0m \u001b[0;34m\u001b[0m\u001b[0m\n\u001b[1;32m     89\u001b[0m     \u001b[0;32mif\u001b[0m \u001b[0;32mnot\u001b[0m \u001b[0mtf\u001b[0m\u001b[0;34m.\u001b[0m\u001b[0mis_tensor\u001b[0m\u001b[0;34m(\u001b[0m\u001b[0minputs\u001b[0m\u001b[0;34m)\u001b[0m\u001b[0;34m:\u001b[0m\u001b[0;34m\u001b[0m\u001b[0;34m\u001b[0m\u001b[0m\n",
      "\u001b[0;32m/afs/cern.ch/work/c/chlcheng/public/local/conda/miniconda/envs/ml-base/lib/python3.7/site-packages/tensorflow/python/autograph/impl/api.py\u001b[0m in \u001b[0;36mwrapper\u001b[0;34m(*args, **kwargs)\u001b[0m\n\u001b[1;32m    300\u001b[0m   \u001b[0;32mdef\u001b[0m \u001b[0mwrapper\u001b[0m\u001b[0;34m(\u001b[0m\u001b[0;34m*\u001b[0m\u001b[0margs\u001b[0m\u001b[0;34m,\u001b[0m \u001b[0;34m**\u001b[0m\u001b[0mkwargs\u001b[0m\u001b[0;34m)\u001b[0m\u001b[0;34m:\u001b[0m\u001b[0;34m\u001b[0m\u001b[0;34m\u001b[0m\u001b[0m\n\u001b[1;32m    301\u001b[0m     \u001b[0;32mwith\u001b[0m \u001b[0mag_ctx\u001b[0m\u001b[0;34m.\u001b[0m\u001b[0mControlStatusCtx\u001b[0m\u001b[0;34m(\u001b[0m\u001b[0mstatus\u001b[0m\u001b[0;34m=\u001b[0m\u001b[0mag_ctx\u001b[0m\u001b[0;34m.\u001b[0m\u001b[0mStatus\u001b[0m\u001b[0;34m.\u001b[0m\u001b[0mDISABLED\u001b[0m\u001b[0;34m)\u001b[0m\u001b[0;34m:\u001b[0m\u001b[0;34m\u001b[0m\u001b[0;34m\u001b[0m\u001b[0m\n\u001b[0;32m--> 302\u001b[0;31m       \u001b[0;32mreturn\u001b[0m \u001b[0mfunc\u001b[0m\u001b[0;34m(\u001b[0m\u001b[0;34m*\u001b[0m\u001b[0margs\u001b[0m\u001b[0;34m,\u001b[0m \u001b[0;34m**\u001b[0m\u001b[0mkwargs\u001b[0m\u001b[0;34m)\u001b[0m\u001b[0;34m\u001b[0m\u001b[0;34m\u001b[0m\u001b[0m\n\u001b[0m\u001b[1;32m    303\u001b[0m \u001b[0;34m\u001b[0m\u001b[0m\n\u001b[1;32m    304\u001b[0m   \u001b[0;32mif\u001b[0m \u001b[0minspect\u001b[0m\u001b[0;34m.\u001b[0m\u001b[0misfunction\u001b[0m\u001b[0;34m(\u001b[0m\u001b[0mfunc\u001b[0m\u001b[0;34m)\u001b[0m \u001b[0;32mor\u001b[0m \u001b[0minspect\u001b[0m\u001b[0;34m.\u001b[0m\u001b[0mismethod\u001b[0m\u001b[0;34m(\u001b[0m\u001b[0mfunc\u001b[0m\u001b[0;34m)\u001b[0m\u001b[0;34m:\u001b[0m\u001b[0;34m\u001b[0m\u001b[0;34m\u001b[0m\u001b[0m\n",
      "\u001b[0;32m/afs/cern.ch/work/c/chlcheng/public/local/conda/miniconda/envs/ml-base/lib/python3.7/site-packages/tensorflow_quantum/python/util.py\u001b[0m in \u001b[0;36mconvert_to_tensor\u001b[0;34m(items_to_convert)\u001b[0m\n\u001b[1;32m    205\u001b[0m \u001b[0;34m\u001b[0m\u001b[0m\n\u001b[1;32m    206\u001b[0m     \u001b[0;31m# This will catch impossible dimensions\u001b[0m\u001b[0;34m\u001b[0m\u001b[0;34m\u001b[0m\u001b[0;34m\u001b[0m\u001b[0m\n\u001b[0;32m--> 207\u001b[0;31m     \u001b[0;32mreturn\u001b[0m \u001b[0mtf\u001b[0m\u001b[0;34m.\u001b[0m\u001b[0mconvert_to_tensor\u001b[0m\u001b[0;34m(\u001b[0m\u001b[0mrecur\u001b[0m\u001b[0;34m(\u001b[0m\u001b[0mitems_to_convert\u001b[0m\u001b[0;34m)\u001b[0m\u001b[0;34m)\u001b[0m\u001b[0;34m\u001b[0m\u001b[0;34m\u001b[0m\u001b[0m\n\u001b[0m\u001b[1;32m    208\u001b[0m \u001b[0;34m\u001b[0m\u001b[0m\n\u001b[1;32m    209\u001b[0m \u001b[0;34m\u001b[0m\u001b[0m\n",
      "\u001b[0;32m/afs/cern.ch/work/c/chlcheng/public/local/conda/miniconda/envs/ml-base/lib/python3.7/site-packages/tensorflow_quantum/python/util.py\u001b[0m in \u001b[0;36mrecur\u001b[0;34m(items_to_convert, curr_type)\u001b[0m\n\u001b[1;32m    197\u001b[0m                 \u001b[0mcurr_type\u001b[0m \u001b[0;34m=\u001b[0m \u001b[0mcirq\u001b[0m\u001b[0;34m.\u001b[0m\u001b[0mCircuit\u001b[0m\u001b[0;34m\u001b[0m\u001b[0;34m\u001b[0m\u001b[0m\n\u001b[1;32m    198\u001b[0m                 tensored_items.append(\n\u001b[0;32m--> 199\u001b[0;31m                     serializer.serialize_circuit(item).SerializeToString())\n\u001b[0m\u001b[1;32m    200\u001b[0m             \u001b[0;32melse\u001b[0m\u001b[0;34m:\u001b[0m\u001b[0;34m\u001b[0m\u001b[0;34m\u001b[0m\u001b[0m\n\u001b[1;32m    201\u001b[0m                 raise TypeError(\"Incompatible item passed into \"\n",
      "\u001b[0;32m/afs/cern.ch/work/c/chlcheng/public/local/conda/miniconda/envs/ml-base/lib/python3.7/site-packages/tensorflow_quantum/core/serialize/serializer.py\u001b[0m in \u001b[0;36mserialize_circuit\u001b[0;34m(circuit_inp)\u001b[0m\n\u001b[1;32m    435\u001b[0m         \u001b[0mcircuit\u001b[0m\u001b[0;34m[\u001b[0m\u001b[0mmoment_ind\u001b[0m\u001b[0;34m]\u001b[0m \u001b[0;34m=\u001b[0m \u001b[0mnew_moment\u001b[0m\u001b[0;34m\u001b[0m\u001b[0;34m\u001b[0m\u001b[0m\n\u001b[1;32m    436\u001b[0m \u001b[0;34m\u001b[0m\u001b[0m\n\u001b[0;32m--> 437\u001b[0;31m     \u001b[0;32mreturn\u001b[0m \u001b[0mSERIALIZER\u001b[0m\u001b[0;34m.\u001b[0m\u001b[0mserialize\u001b[0m\u001b[0;34m(\u001b[0m\u001b[0mcircuit\u001b[0m\u001b[0;34m)\u001b[0m\u001b[0;34m\u001b[0m\u001b[0;34m\u001b[0m\u001b[0m\n\u001b[0m\u001b[1;32m    438\u001b[0m \u001b[0;34m\u001b[0m\u001b[0m\n\u001b[1;32m    439\u001b[0m \u001b[0;34m\u001b[0m\u001b[0m\n",
      "\u001b[0;32m/afs/cern.ch/work/c/chlcheng/public/local/conda/miniconda/envs/ml-base/lib/python3.7/site-packages/cirq/google/serializable_gate_set.py\u001b[0m in \u001b[0;36mserialize\u001b[0;34m(self, program, msg, arg_function_language)\u001b[0m\n\u001b[1;32m    114\u001b[0m             self._serialize_circuit(program,\n\u001b[1;32m    115\u001b[0m                                     \u001b[0mmsg\u001b[0m\u001b[0;34m.\u001b[0m\u001b[0mcircuit\u001b[0m\u001b[0;34m,\u001b[0m\u001b[0;34m\u001b[0m\u001b[0;34m\u001b[0m\u001b[0m\n\u001b[0;32m--> 116\u001b[0;31m                                     arg_function_language=arg_function_language)\n\u001b[0m\u001b[1;32m    117\u001b[0m             \u001b[0;32mif\u001b[0m \u001b[0marg_function_language\u001b[0m \u001b[0;32mis\u001b[0m \u001b[0;32mNone\u001b[0m\u001b[0;34m:\u001b[0m\u001b[0;34m\u001b[0m\u001b[0;34m\u001b[0m\u001b[0m\n\u001b[1;32m    118\u001b[0m                 arg_function_language = (\n",
      "\u001b[0;32m/afs/cern.ch/work/c/chlcheng/public/local/conda/miniconda/envs/ml-base/lib/python3.7/site-packages/cirq/google/serializable_gate_set.py\u001b[0m in \u001b[0;36m_serialize_circuit\u001b[0;34m(self, circuit, msg, arg_function_language)\u001b[0m\n\u001b[1;32m    227\u001b[0m                 self.serialize_op(op,\n\u001b[1;32m    228\u001b[0m                                   \u001b[0mmoment_proto\u001b[0m\u001b[0;34m.\u001b[0m\u001b[0moperations\u001b[0m\u001b[0;34m.\u001b[0m\u001b[0madd\u001b[0m\u001b[0;34m(\u001b[0m\u001b[0;34m)\u001b[0m\u001b[0;34m,\u001b[0m\u001b[0;34m\u001b[0m\u001b[0;34m\u001b[0m\u001b[0m\n\u001b[0;32m--> 229\u001b[0;31m                                   arg_function_language=arg_function_language)\n\u001b[0m\u001b[1;32m    230\u001b[0m \u001b[0;34m\u001b[0m\u001b[0m\n\u001b[1;32m    231\u001b[0m     def _deserialize_circuit(\n",
      "\u001b[0;32m/afs/cern.ch/work/c/chlcheng/public/local/conda/miniconda/envs/ml-base/lib/python3.7/site-packages/cirq/google/serializable_gate_set.py\u001b[0m in \u001b[0;36mserialize_op\u001b[0;34m(self, op, msg, arg_function_language)\u001b[0m\n\u001b[1;32m    148\u001b[0m                 \u001b[0;32mfor\u001b[0m \u001b[0mserializer\u001b[0m \u001b[0;32min\u001b[0m \u001b[0mself\u001b[0m\u001b[0;34m.\u001b[0m\u001b[0mserializers\u001b[0m\u001b[0;34m[\u001b[0m\u001b[0mgate_type_mro\u001b[0m\u001b[0;34m]\u001b[0m\u001b[0;34m:\u001b[0m\u001b[0;34m\u001b[0m\u001b[0;34m\u001b[0m\u001b[0m\n\u001b[1;32m    149\u001b[0m                     proto_msg = serializer.to_proto(\n\u001b[0;32m--> 150\u001b[0;31m                         op, msg, arg_function_language=arg_function_language)\n\u001b[0m\u001b[1;32m    151\u001b[0m                     \u001b[0;32mif\u001b[0m \u001b[0mproto_msg\u001b[0m \u001b[0;32mis\u001b[0m \u001b[0;32mnot\u001b[0m \u001b[0;32mNone\u001b[0m\u001b[0;34m:\u001b[0m\u001b[0;34m\u001b[0m\u001b[0;34m\u001b[0m\u001b[0m\n\u001b[1;32m    152\u001b[0m                         \u001b[0;32mreturn\u001b[0m \u001b[0mproto_msg\u001b[0m\u001b[0;34m\u001b[0m\u001b[0;34m\u001b[0m\u001b[0m\n",
      "\u001b[0;32m/afs/cern.ch/work/c/chlcheng/public/local/conda/miniconda/envs/ml-base/lib/python3.7/site-packages/cirq/google/op_serializer.py\u001b[0m in \u001b[0;36mto_proto\u001b[0;34m(self, op, msg, arg_function_language)\u001b[0m\n\u001b[1;32m    124\u001b[0m             \u001b[0mmsg\u001b[0m\u001b[0;34m.\u001b[0m\u001b[0mqubits\u001b[0m\u001b[0;34m.\u001b[0m\u001b[0madd\u001b[0m\u001b[0;34m(\u001b[0m\u001b[0;34m)\u001b[0m\u001b[0;34m.\u001b[0m\u001b[0mid\u001b[0m \u001b[0;34m=\u001b[0m \u001b[0mv2\u001b[0m\u001b[0;34m.\u001b[0m\u001b[0mqubit_to_proto_id\u001b[0m\u001b[0;34m(\u001b[0m\u001b[0mqubit\u001b[0m\u001b[0;34m)\u001b[0m\u001b[0;34m\u001b[0m\u001b[0;34m\u001b[0m\u001b[0m\n\u001b[1;32m    125\u001b[0m         \u001b[0;32mfor\u001b[0m \u001b[0marg\u001b[0m \u001b[0;32min\u001b[0m \u001b[0mself\u001b[0m\u001b[0;34m.\u001b[0m\u001b[0margs\u001b[0m\u001b[0;34m:\u001b[0m\u001b[0;34m\u001b[0m\u001b[0;34m\u001b[0m\u001b[0m\n\u001b[0;32m--> 126\u001b[0;31m             \u001b[0mvalue\u001b[0m \u001b[0;34m=\u001b[0m \u001b[0mself\u001b[0m\u001b[0;34m.\u001b[0m\u001b[0m_value_from_gate\u001b[0m\u001b[0;34m(\u001b[0m\u001b[0mop\u001b[0m\u001b[0;34m,\u001b[0m \u001b[0marg\u001b[0m\u001b[0;34m)\u001b[0m\u001b[0;34m\u001b[0m\u001b[0;34m\u001b[0m\u001b[0m\n\u001b[0m\u001b[1;32m    127\u001b[0m             \u001b[0;32mif\u001b[0m \u001b[0mvalue\u001b[0m \u001b[0;32mis\u001b[0m \u001b[0;32mnot\u001b[0m \u001b[0;32mNone\u001b[0m \u001b[0;32mand\u001b[0m \u001b[0;34m(\u001b[0m\u001b[0;32mnot\u001b[0m \u001b[0marg\u001b[0m\u001b[0;34m.\u001b[0m\u001b[0mdefault\u001b[0m \u001b[0;32mor\u001b[0m \u001b[0mvalue\u001b[0m \u001b[0;34m!=\u001b[0m \u001b[0marg\u001b[0m\u001b[0;34m.\u001b[0m\u001b[0mdefault\u001b[0m\u001b[0;34m)\u001b[0m\u001b[0;34m:\u001b[0m\u001b[0;34m\u001b[0m\u001b[0;34m\u001b[0m\u001b[0m\n\u001b[1;32m    128\u001b[0m                 _arg_to_proto(value,\n",
      "\u001b[0;32m/afs/cern.ch/work/c/chlcheng/public/local/conda/miniconda/envs/ml-base/lib/python3.7/site-packages/cirq/google/op_serializer.py\u001b[0m in \u001b[0;36m_value_from_gate\u001b[0;34m(self, op, arg)\u001b[0m\n\u001b[1;32m    143\u001b[0m                         gate, op_getter))\n\u001b[1;32m    144\u001b[0m         \u001b[0;32melif\u001b[0m \u001b[0mcallable\u001b[0m\u001b[0;34m(\u001b[0m\u001b[0mop_getter\u001b[0m\u001b[0;34m)\u001b[0m\u001b[0;34m:\u001b[0m\u001b[0;34m\u001b[0m\u001b[0;34m\u001b[0m\u001b[0m\n\u001b[0;32m--> 145\u001b[0;31m             \u001b[0mvalue\u001b[0m \u001b[0;34m=\u001b[0m \u001b[0mop_getter\u001b[0m\u001b[0;34m(\u001b[0m\u001b[0mop\u001b[0m\u001b[0;34m)\u001b[0m\u001b[0;34m\u001b[0m\u001b[0;34m\u001b[0m\u001b[0m\n\u001b[0m\u001b[1;32m    146\u001b[0m \u001b[0;34m\u001b[0m\u001b[0m\n\u001b[1;32m    147\u001b[0m         \u001b[0;32mif\u001b[0m \u001b[0marg\u001b[0m\u001b[0;34m.\u001b[0m\u001b[0mrequired\u001b[0m \u001b[0;32mand\u001b[0m \u001b[0mvalue\u001b[0m \u001b[0;32mis\u001b[0m \u001b[0;32mNone\u001b[0m\u001b[0;34m:\u001b[0m\u001b[0;34m\u001b[0m\u001b[0;34m\u001b[0m\u001b[0m\n",
      "\u001b[0;32m/afs/cern.ch/work/c/chlcheng/public/local/conda/miniconda/envs/ml-base/lib/python3.7/site-packages/tensorflow_quantum/core/serialize/serializer.py\u001b[0m in \u001b[0;36m<lambda>\u001b[0;34m(x)\u001b[0m\n\u001b[1;32m    117\u001b[0m             \u001b[0mserialized_name\u001b[0m\u001b[0;34m=\u001b[0m\u001b[0;34m\"exponent\"\u001b[0m\u001b[0;34m,\u001b[0m\u001b[0;34m\u001b[0m\u001b[0;34m\u001b[0m\u001b[0m\n\u001b[1;32m    118\u001b[0m             \u001b[0mserialized_type\u001b[0m\u001b[0;34m=\u001b[0m\u001b[0mfloat\u001b[0m\u001b[0;34m,\u001b[0m\u001b[0;34m\u001b[0m\u001b[0;34m\u001b[0m\u001b[0m\n\u001b[0;32m--> 119\u001b[0;31m             op_getter=lambda x: _symbol_extractor(x.gate.exponent)),\n\u001b[0m\u001b[1;32m    120\u001b[0m         cirq.google.SerializingArg(\n\u001b[1;32m    121\u001b[0m             \u001b[0mserialized_name\u001b[0m\u001b[0;34m=\u001b[0m\u001b[0;34m\"exponent_scalar\"\u001b[0m\u001b[0;34m,\u001b[0m\u001b[0;34m\u001b[0m\u001b[0;34m\u001b[0m\u001b[0m\n",
      "\u001b[0;32m/afs/cern.ch/work/c/chlcheng/public/local/conda/miniconda/envs/ml-base/lib/python3.7/site-packages/tensorflow_quantum/core/serialize/serializer.py\u001b[0m in \u001b[0;36m_symbol_extractor\u001b[0;34m(x)\u001b[0m\n\u001b[1;32m    104\u001b[0m             \u001b[0;32mreturn\u001b[0m \u001b[0mrhs_eval\u001b[0m\u001b[0;34m\u001b[0m\u001b[0;34m\u001b[0m\u001b[0m\n\u001b[1;32m    105\u001b[0m \u001b[0;34m\u001b[0m\u001b[0m\n\u001b[0;32m--> 106\u001b[0;31m     raise ValueError(\"Arithmetic expression outside of simple \"\n\u001b[0m\u001b[1;32m    107\u001b[0m                      \u001b[0;34m\"scalar multiplication is currently not \"\u001b[0m\u001b[0;34m\u001b[0m\u001b[0;34m\u001b[0m\u001b[0m\n\u001b[1;32m    108\u001b[0m                      \u001b[0;34m\"supported. See serializer.py for more \"\u001b[0m\u001b[0;34m\u001b[0m\u001b[0;34m\u001b[0m\u001b[0m\n",
      "\u001b[0;31mValueError\u001b[0m: Arithmetic expression outside of simple scalar multiplication is currently not supported. See serializer.py for more information."
     ]
    }
   ],
   "source": [
    "with tf.GradientTape() as g:\n",
    "    g.watch(x)\n",
    "    imperfect_outputs = gradient_safe_sampled_expectation(\n",
    "        [encoding_circuit]*batch_size,\n",
    "        operators=[cirq.Z(encoding_circuit.qubits[0])],\n",
    "        repetitions=500,\n",
    "        symbol_names=encoding_circuit.symbols,\n",
    "        symbol_values=x)"
   ]
  },
  {
   "cell_type": "code",
   "execution_count": 23,
   "id": "dietary-blogger",
   "metadata": {},
   "outputs": [],
   "source": [
    "from tensorflow_quantum.core.serialize import serializer"
   ]
  },
  {
   "cell_type": "code",
   "execution_count": 28,
   "id": "running-hello",
   "metadata": {},
   "outputs": [],
   "source": [
    "parameters = tf.random.normal([50])\n",
    "x = tf.random.normal([batch_size, n_qubit])"
   ]
  },
  {
   "cell_type": "code",
   "execution_count": 29,
   "id": "dramatic-dancing",
   "metadata": {},
   "outputs": [],
   "source": [
    "circuit_batch_dim = tf.gather(tf.shape(x), 0)"
   ]
  },
  {
   "cell_type": "code",
   "execution_count": 30,
   "id": "under-genealogy",
   "metadata": {},
   "outputs": [],
   "source": [
    "tiled_up_parameters = tf.tile([parameters], [circuit_batch_dim, 1])"
   ]
  },
  {
   "cell_type": "code",
   "execution_count": 38,
   "id": "wired-alarm",
   "metadata": {},
   "outputs": [
    {
     "data": {
      "text/plain": [
       "<tf.Tensor: shape=(10, 55), dtype=float32, numpy=\n",
       "array([[ 0.04150023,  0.02861365, -0.04375636, -2.225682  ,  0.2791032 ,\n",
       "         0.42900255,  0.3597177 , -0.13951091, -2.3726933 , -0.3764454 ,\n",
       "        -1.9183217 , -1.0474693 , -0.6480755 ,  0.9498396 , -1.6264542 ,\n",
       "        -1.1908433 , -0.63059425,  0.21978746, -0.36409274, -1.3744467 ,\n",
       "         0.5065876 ,  0.6209625 , -1.2230335 ,  0.4571757 ,  0.05707951,\n",
       "         1.4124641 ,  1.1077024 ,  0.57252353, -1.2455927 ,  0.55679137,\n",
       "        -1.079204  , -0.60399866,  0.36434639,  1.2402148 ,  1.3787953 ,\n",
       "        -0.847839  ,  0.03329713, -0.6197537 ,  0.15580612, -0.52462965,\n",
       "        -0.6852452 , -0.13608561,  0.19276415,  0.14785714, -0.7870381 ,\n",
       "        -0.6229031 ,  1.5884882 ,  1.0454324 ,  0.49661717,  0.8656109 ,\n",
       "        -0.11566029, -0.7158819 , -0.23103413,  0.6410856 ,  0.8607037 ],\n",
       "       [ 0.99016345,  0.04807105, -1.7223889 ,  1.120073  ,  0.22165841,\n",
       "         0.42900255,  0.3597177 , -0.13951091, -2.3726933 , -0.3764454 ,\n",
       "        -1.9183217 , -1.0474693 , -0.6480755 ,  0.9498396 , -1.6264542 ,\n",
       "        -1.1908433 , -0.63059425,  0.21978746, -0.36409274, -1.3744467 ,\n",
       "         0.5065876 ,  0.6209625 , -1.2230335 ,  0.4571757 ,  0.05707951,\n",
       "         1.4124641 ,  1.1077024 ,  0.57252353, -1.2455927 ,  0.55679137,\n",
       "        -1.079204  , -0.60399866,  0.36434639,  1.2402148 ,  1.3787953 ,\n",
       "        -0.847839  ,  0.03329713, -0.6197537 ,  0.15580612, -0.52462965,\n",
       "        -0.6852452 , -0.13608561,  0.19276415,  0.14785714, -0.7870381 ,\n",
       "        -0.6229031 ,  1.5884882 ,  1.0454324 ,  0.49661717,  0.8656109 ,\n",
       "        -0.11566029, -0.7158819 , -0.23103413,  0.6410856 ,  0.8607037 ],\n",
       "       [ 0.43827388,  0.21127905,  0.17736198, -0.8030454 , -0.8608643 ,\n",
       "         0.42900255,  0.3597177 , -0.13951091, -2.3726933 , -0.3764454 ,\n",
       "        -1.9183217 , -1.0474693 , -0.6480755 ,  0.9498396 , -1.6264542 ,\n",
       "        -1.1908433 , -0.63059425,  0.21978746, -0.36409274, -1.3744467 ,\n",
       "         0.5065876 ,  0.6209625 , -1.2230335 ,  0.4571757 ,  0.05707951,\n",
       "         1.4124641 ,  1.1077024 ,  0.57252353, -1.2455927 ,  0.55679137,\n",
       "        -1.079204  , -0.60399866,  0.36434639,  1.2402148 ,  1.3787953 ,\n",
       "        -0.847839  ,  0.03329713, -0.6197537 ,  0.15580612, -0.52462965,\n",
       "        -0.6852452 , -0.13608561,  0.19276415,  0.14785714, -0.7870381 ,\n",
       "        -0.6229031 ,  1.5884882 ,  1.0454324 ,  0.49661717,  0.8656109 ,\n",
       "        -0.11566029, -0.7158819 , -0.23103413,  0.6410856 ,  0.8607037 ],\n",
       "       [-1.7990277 ,  0.43920475,  1.3108994 , -1.9132756 , -0.07293519,\n",
       "         0.42900255,  0.3597177 , -0.13951091, -2.3726933 , -0.3764454 ,\n",
       "        -1.9183217 , -1.0474693 , -0.6480755 ,  0.9498396 , -1.6264542 ,\n",
       "        -1.1908433 , -0.63059425,  0.21978746, -0.36409274, -1.3744467 ,\n",
       "         0.5065876 ,  0.6209625 , -1.2230335 ,  0.4571757 ,  0.05707951,\n",
       "         1.4124641 ,  1.1077024 ,  0.57252353, -1.2455927 ,  0.55679137,\n",
       "        -1.079204  , -0.60399866,  0.36434639,  1.2402148 ,  1.3787953 ,\n",
       "        -0.847839  ,  0.03329713, -0.6197537 ,  0.15580612, -0.52462965,\n",
       "        -0.6852452 , -0.13608561,  0.19276415,  0.14785714, -0.7870381 ,\n",
       "        -0.6229031 ,  1.5884882 ,  1.0454324 ,  0.49661717,  0.8656109 ,\n",
       "        -0.11566029, -0.7158819 , -0.23103413,  0.6410856 ,  0.8607037 ],\n",
       "       [ 0.12188602,  1.4969293 ,  0.08096438, -0.51078314,  0.8465877 ,\n",
       "         0.42900255,  0.3597177 , -0.13951091, -2.3726933 , -0.3764454 ,\n",
       "        -1.9183217 , -1.0474693 , -0.6480755 ,  0.9498396 , -1.6264542 ,\n",
       "        -1.1908433 , -0.63059425,  0.21978746, -0.36409274, -1.3744467 ,\n",
       "         0.5065876 ,  0.6209625 , -1.2230335 ,  0.4571757 ,  0.05707951,\n",
       "         1.4124641 ,  1.1077024 ,  0.57252353, -1.2455927 ,  0.55679137,\n",
       "        -1.079204  , -0.60399866,  0.36434639,  1.2402148 ,  1.3787953 ,\n",
       "        -0.847839  ,  0.03329713, -0.6197537 ,  0.15580612, -0.52462965,\n",
       "        -0.6852452 , -0.13608561,  0.19276415,  0.14785714, -0.7870381 ,\n",
       "        -0.6229031 ,  1.5884882 ,  1.0454324 ,  0.49661717,  0.8656109 ,\n",
       "        -0.11566029, -0.7158819 , -0.23103413,  0.6410856 ,  0.8607037 ],\n",
       "       [-0.27080268,  1.6434245 , -0.6621585 ,  1.3589222 , -0.41146436,\n",
       "         0.42900255,  0.3597177 , -0.13951091, -2.3726933 , -0.3764454 ,\n",
       "        -1.9183217 , -1.0474693 , -0.6480755 ,  0.9498396 , -1.6264542 ,\n",
       "        -1.1908433 , -0.63059425,  0.21978746, -0.36409274, -1.3744467 ,\n",
       "         0.5065876 ,  0.6209625 , -1.2230335 ,  0.4571757 ,  0.05707951,\n",
       "         1.4124641 ,  1.1077024 ,  0.57252353, -1.2455927 ,  0.55679137,\n",
       "        -1.079204  , -0.60399866,  0.36434639,  1.2402148 ,  1.3787953 ,\n",
       "        -0.847839  ,  0.03329713, -0.6197537 ,  0.15580612, -0.52462965,\n",
       "        -0.6852452 , -0.13608561,  0.19276415,  0.14785714, -0.7870381 ,\n",
       "        -0.6229031 ,  1.5884882 ,  1.0454324 ,  0.49661717,  0.8656109 ,\n",
       "        -0.11566029, -0.7158819 , -0.23103413,  0.6410856 ,  0.8607037 ],\n",
       "       [-0.03851553,  0.8604559 ,  0.04201821, -0.67416275,  3.6923134 ,\n",
       "         0.42900255,  0.3597177 , -0.13951091, -2.3726933 , -0.3764454 ,\n",
       "        -1.9183217 , -1.0474693 , -0.6480755 ,  0.9498396 , -1.6264542 ,\n",
       "        -1.1908433 , -0.63059425,  0.21978746, -0.36409274, -1.3744467 ,\n",
       "         0.5065876 ,  0.6209625 , -1.2230335 ,  0.4571757 ,  0.05707951,\n",
       "         1.4124641 ,  1.1077024 ,  0.57252353, -1.2455927 ,  0.55679137,\n",
       "        -1.079204  , -0.60399866,  0.36434639,  1.2402148 ,  1.3787953 ,\n",
       "        -0.847839  ,  0.03329713, -0.6197537 ,  0.15580612, -0.52462965,\n",
       "        -0.6852452 , -0.13608561,  0.19276415,  0.14785714, -0.7870381 ,\n",
       "        -0.6229031 ,  1.5884882 ,  1.0454324 ,  0.49661717,  0.8656109 ,\n",
       "        -0.11566029, -0.7158819 , -0.23103413,  0.6410856 ,  0.8607037 ],\n",
       "       [-1.3368784 , -1.159491  ,  0.8764183 ,  0.3944718 ,  0.6686737 ,\n",
       "         0.42900255,  0.3597177 , -0.13951091, -2.3726933 , -0.3764454 ,\n",
       "        -1.9183217 , -1.0474693 , -0.6480755 ,  0.9498396 , -1.6264542 ,\n",
       "        -1.1908433 , -0.63059425,  0.21978746, -0.36409274, -1.3744467 ,\n",
       "         0.5065876 ,  0.6209625 , -1.2230335 ,  0.4571757 ,  0.05707951,\n",
       "         1.4124641 ,  1.1077024 ,  0.57252353, -1.2455927 ,  0.55679137,\n",
       "        -1.079204  , -0.60399866,  0.36434639,  1.2402148 ,  1.3787953 ,\n",
       "        -0.847839  ,  0.03329713, -0.6197537 ,  0.15580612, -0.52462965,\n",
       "        -0.6852452 , -0.13608561,  0.19276415,  0.14785714, -0.7870381 ,\n",
       "        -0.6229031 ,  1.5884882 ,  1.0454324 ,  0.49661717,  0.8656109 ,\n",
       "        -0.11566029, -0.7158819 , -0.23103413,  0.6410856 ,  0.8607037 ],\n",
       "       [-1.2240719 , -1.6328168 ,  0.40310425, -0.76294345, -1.1516937 ,\n",
       "         0.42900255,  0.3597177 , -0.13951091, -2.3726933 , -0.3764454 ,\n",
       "        -1.9183217 , -1.0474693 , -0.6480755 ,  0.9498396 , -1.6264542 ,\n",
       "        -1.1908433 , -0.63059425,  0.21978746, -0.36409274, -1.3744467 ,\n",
       "         0.5065876 ,  0.6209625 , -1.2230335 ,  0.4571757 ,  0.05707951,\n",
       "         1.4124641 ,  1.1077024 ,  0.57252353, -1.2455927 ,  0.55679137,\n",
       "        -1.079204  , -0.60399866,  0.36434639,  1.2402148 ,  1.3787953 ,\n",
       "        -0.847839  ,  0.03329713, -0.6197537 ,  0.15580612, -0.52462965,\n",
       "        -0.6852452 , -0.13608561,  0.19276415,  0.14785714, -0.7870381 ,\n",
       "        -0.6229031 ,  1.5884882 ,  1.0454324 ,  0.49661717,  0.8656109 ,\n",
       "        -0.11566029, -0.7158819 , -0.23103413,  0.6410856 ,  0.8607037 ],\n",
       "       [ 2.139291  , -1.7410731 ,  0.20691833, -0.08501712, -1.4309068 ,\n",
       "         0.42900255,  0.3597177 , -0.13951091, -2.3726933 , -0.3764454 ,\n",
       "        -1.9183217 , -1.0474693 , -0.6480755 ,  0.9498396 , -1.6264542 ,\n",
       "        -1.1908433 , -0.63059425,  0.21978746, -0.36409274, -1.3744467 ,\n",
       "         0.5065876 ,  0.6209625 , -1.2230335 ,  0.4571757 ,  0.05707951,\n",
       "         1.4124641 ,  1.1077024 ,  0.57252353, -1.2455927 ,  0.55679137,\n",
       "        -1.079204  , -0.60399866,  0.36434639,  1.2402148 ,  1.3787953 ,\n",
       "        -0.847839  ,  0.03329713, -0.6197537 ,  0.15580612, -0.52462965,\n",
       "        -0.6852452 , -0.13608561,  0.19276415,  0.14785714, -0.7870381 ,\n",
       "        -0.6229031 ,  1.5884882 ,  1.0454324 ,  0.49661717,  0.8656109 ,\n",
       "        -0.11566029, -0.7158819 , -0.23103413,  0.6410856 ,  0.8607037 ]],\n",
       "      dtype=float32)>"
      ]
     },
     "execution_count": 38,
     "metadata": {},
     "output_type": "execute_result"
    }
   ],
   "source": [
    "tf.concat([x, tiled_up_parameters], 1)"
   ]
  },
  {
   "cell_type": "code",
   "execution_count": 27,
   "id": "authorized-token",
   "metadata": {},
   "outputs": [
    {
     "data": {
      "text/plain": [
       "<tf.Tensor: shape=(), dtype=int32, numpy=5>"
      ]
     },
     "execution_count": 27,
     "metadata": {},
     "output_type": "execute_result"
    }
   ],
   "source": [
    "circuit_batch_dim"
   ]
  },
  {
   "cell_type": "code",
   "execution_count": 2,
   "id": "published-punch",
   "metadata": {},
   "outputs": [],
   "source": []
  },
  {
   "cell_type": "code",
   "execution_count": null,
   "id": "czech-receipt",
   "metadata": {},
   "outputs": [],
   "source": []
  }
 ],
 "metadata": {
  "kernelspec": {
   "display_name": "Python 3",
   "language": "python",
   "name": "python3"
  },
  "language_info": {
   "codemirror_mode": {
    "name": "ipython",
    "version": 3
   },
   "file_extension": ".py",
   "mimetype": "text/x-python",
   "name": "python",
   "nbconvert_exporter": "python",
   "pygments_lexer": "ipython3",
   "version": "3.7.10"
  }
 },
 "nbformat": 4,
 "nbformat_minor": 5
}
