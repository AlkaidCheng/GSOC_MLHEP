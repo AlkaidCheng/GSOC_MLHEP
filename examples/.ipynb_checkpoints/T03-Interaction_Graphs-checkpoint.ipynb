{
 "cells": [
  {
   "cell_type": "code",
   "execution_count": 1,
   "id": "unnecessary-pharmacology",
   "metadata": {},
   "outputs": [],
   "source": [
    "if 'google.colab' in str(get_ipython()):\n",
    "  # install packages required for this tutorial\n",
    "  !pip install tensorflow==2.3.1\n",
    "  !pip install tensorflow_quantum==0.4.0\n",
    "  !pip install quple==0.7.4"
   ]
  },
  {
   "cell_type": "markdown",
   "id": "frequent-thunder",
   "metadata": {},
   "source": [
    "# Tutorial-03 Interaction Graphs\n",
    "\n",
    "In this tutorial, you will learn:\n",
    "\n",
    "- Various build-in interaction graphs for connecting qubits with multi-qubit gate operations\n",
    "- Construct your own interaction graphs"
   ]
  },
  {
   "cell_type": "markdown",
   "id": "normal-raise",
   "metadata": {},
   "source": [
    "## Interaction Graphs\n",
    "An interaction graph determines how the qubits in a quantum circuit are connected by a specific gate operation. In the circuit centric architecture, all qubits must be touched by the gate operation at least once. If the gate operation acts on $m$ qubits for a circuit with $n$ qubits then an interaction graph for that gate operation will consist of a collection of distinct $m$-tuple of qubits created from the $n$ circuit qubits. The most common use cases for an interaction graph is to determine how qubits are entangled by a two-qubit gate operation. \n",
    "    \n",
    "The interaction graph category implemented by `quple` are: \n",
    "​\n",
    "* `linear` (or `nearest_neighbor`)\n",
    "​\n",
    "* `cyclic` (or `circular`),\n",
    "​\n",
    "* `star`\n",
    "​\n",
    "* `full` (or `fully_connected`)\n",
    "​\n",
    "* `alternate_linear`\n",
    "​\n",
    "* `alternate_cyclic`\n",
    "​\n",
    "* `filter_mesh` (for Quantum GAN)\n",
    "​\n",
    "* `pool_mesh` (for Quantum GAN)\n",
    "​"
   ]
  },
  {
   "cell_type": "code",
   "execution_count": 1,
   "id": "environmental-butterfly",
   "metadata": {},
   "outputs": [],
   "source": [
    "from quple.components.interaction_graphs import nearest_neighbor, cyclic, star, fully_connected, alternate_linear, alternate_cyclic"
   ]
  },
  {
   "cell_type": "markdown",
   "id": "smart-journal",
   "metadata": {},
   "source": [
    "### Interaction Graphs - Nearest Neighbor\n",
    "\n",
    "In the `nearest_neighbor` interaction, each qubit is connected to its next nearest neighbor in a linear manner."
   ]
  },
  {
   "cell_type": "code",
   "execution_count": 2,
   "id": "collected-intro",
   "metadata": {},
   "outputs": [
    {
     "data": {
      "text/plain": [
       "[(0, 1), (1, 2), (2, 3)]"
      ]
     },
     "execution_count": 2,
     "metadata": {},
     "output_type": "execute_result"
    }
   ],
   "source": [
    "# Nearest neighbor interaction graph for 4 qubit system with 2 qubit interaction\n",
    "nearest_neighbor(n=4, m=2)    "
   ]
  },
  {
   "cell_type": "code",
   "execution_count": 3,
   "id": "statistical-expense",
   "metadata": {},
   "outputs": [
    {
     "name": "stdout",
     "output_type": "stream",
     "text": [
      "(0, 0): ───@───────────\n",
      "           │\n",
      "(0, 1): ───X───@───────\n",
      "               │\n",
      "(0, 2): ───────X───@───\n",
      "                   │\n",
      "(0, 3): ───────────X───\n"
     ]
    }
   ],
   "source": [
    "from quple import ParameterisedCircuit\n",
    "# Building a circuit of 4 qubits with a layer of CNOT gates using\n",
    "# the nearest neighbor interaction graph\n",
    "circuit = ParameterisedCircuit(n_qubit=4)\n",
    "circuit.add_entanglement_layer(['CNOT'], entangle_strategy=nearest_neighbor)\n",
    "# Print out the circuit diagram\n",
    "print(circuit)"
   ]
  },
  {
   "cell_type": "code",
   "execution_count": 4,
   "id": "executed-publisher",
   "metadata": {},
   "outputs": [
    {
     "name": "stdout",
     "output_type": "stream",
     "text": [
      "---------------------------\n",
      "(0, 0): ───@───────────\n",
      "           │\n",
      "(0, 1): ───X───@───────\n",
      "               │\n",
      "(0, 2): ───────X───@───\n",
      "                   │\n",
      "(0, 3): ───────────X───\n",
      "---------------------------\n",
      "(0, 0): ───@───────────\n",
      "           │\n",
      "(0, 1): ───X───@───────\n",
      "               │\n",
      "(0, 2): ───────X───@───\n",
      "                   │\n",
      "(0, 3): ───────────X───\n",
      "---------------------------\n"
     ]
    }
   ],
   "source": [
    "# alternatively, you can simply specify a string that corresponds to the entangle strategy\n",
    "# for example one can use `linear` or `nearest-neighbor` for using the nearest-neighbor interaction graphs\n",
    "circuit = ParameterisedCircuit(n_qubit=4, entanglement_blocks=['CNOT'], entangle_strategy='linear')\n",
    "print('---------------------------')\n",
    "print(circuit)\n",
    "circuit = ParameterisedCircuit(n_qubit=4, entanglement_blocks=['CNOT'], entangle_strategy='nearest_neighbor')\n",
    "print('---------------------------')\n",
    "print(circuit)\n",
    "print('---------------------------')"
   ]
  },
  {
   "cell_type": "markdown",
   "id": "opposite-plasma",
   "metadata": {},
   "source": [
    "## Interaction Graphs - Cyclic\n",
    "\n",
    "In the `cyclic` interaction, each qubit is connected to its next nearest neighbor in a circular manner."
   ]
  },
  {
   "cell_type": "code",
   "execution_count": 5,
   "id": "expanded-guide",
   "metadata": {},
   "outputs": [
    {
     "data": {
      "text/plain": [
       "[(0, 1), (1, 2), (2, 3), (3, 0)]"
      ]
     },
     "execution_count": 5,
     "metadata": {},
     "output_type": "execute_result"
    }
   ],
   "source": [
    "# Cyclic graph for 4 qubit system with 2 qubit interaction\n",
    "cyclic(n=4, m=2) "
   ]
  },
  {
   "cell_type": "code",
   "execution_count": 6,
   "id": "piano-mother",
   "metadata": {},
   "outputs": [
    {
     "name": "stdout",
     "output_type": "stream",
     "text": [
      "(0, 0): ───@───────────X───@───────────X───\n",
      "           │           │   │           │\n",
      "(0, 1): ───X───@───────┼───X───@───────┼───\n",
      "               │       │       │       │\n",
      "(0, 2): ───────X───@───┼───────X───@───┼───\n",
      "                   │   │           │   │\n",
      "(0, 3): ───────────X───@───────────X───@───\n"
     ]
    }
   ],
   "source": [
    "# Building a circuit of 4 qubits with a layer of CNOT gates using\n",
    "# the cyclic interaction graph\n",
    "circuit = ParameterisedCircuit(n_qubit=4)\n",
    "circuit.add_entanglement_layer(['CNOT'], entangle_strategy='cyclic')\n",
    "circuit.add_entanglement_layer(['CNOT'], entangle_strategy='circular')\n",
    "# Print out the circuit diagram\n",
    "print(circuit)"
   ]
  },
  {
   "cell_type": "markdown",
   "id": "korean-removal",
   "metadata": {},
   "source": [
    "## Interaction Graphs - Star\n",
    "\n",
    "In the `star` interaction, the first qubit is connected to every other qubit."
   ]
  },
  {
   "cell_type": "code",
   "execution_count": 7,
   "id": "helpful-strand",
   "metadata": {},
   "outputs": [
    {
     "data": {
      "text/plain": [
       "[(0, 1), (0, 2), (0, 3)]"
      ]
     },
     "execution_count": 7,
     "metadata": {},
     "output_type": "execute_result"
    }
   ],
   "source": [
    "# Star interaction graph for 4 qubit system with 2 qubit interaction\n",
    "star(n=4, m=2)  "
   ]
  },
  {
   "cell_type": "code",
   "execution_count": 8,
   "id": "working-leone",
   "metadata": {},
   "outputs": [
    {
     "name": "stdout",
     "output_type": "stream",
     "text": [
      "(0, 0): ───@───@───@───\n",
      "           │   │   │\n",
      "(0, 1): ───X───┼───┼───\n",
      "               │   │\n",
      "(0, 2): ───────X───┼───\n",
      "                   │\n",
      "(0, 3): ───────────X───\n"
     ]
    }
   ],
   "source": [
    "# Building a circuit of 4 qubits with a layer of CNOT gates using\n",
    "# the fully connected interaction graph\n",
    "circuit = ParameterisedCircuit(n_qubit=4)\n",
    "circuit.add_entanglement_layer(['CNOT'], entangle_strategy='star')\n",
    "# Print out the circuit diagram\n",
    "print(circuit)"
   ]
  },
  {
   "cell_type": "markdown",
   "id": "theoretical-vacuum",
   "metadata": {},
   "source": [
    "## Interaction Graphs - Fully connected\n",
    "\n",
    "In the `fully_connected` interaction, every distinct ordered tuple of $m$ qubits are connected."
   ]
  },
  {
   "cell_type": "code",
   "execution_count": 9,
   "id": "funded-smith",
   "metadata": {},
   "outputs": [
    {
     "data": {
      "text/plain": [
       "[(0, 1), (0, 2), (0, 3), (1, 2), (1, 3), (2, 3)]"
      ]
     },
     "execution_count": 9,
     "metadata": {},
     "output_type": "execute_result"
    }
   ],
   "source": [
    "# Fully connected interaction graph for 4 qubit system with 2 qubit interaction\n",
    "fully_connected(n=4, m=2)"
   ]
  },
  {
   "cell_type": "code",
   "execution_count": 10,
   "id": "following-french",
   "metadata": {},
   "outputs": [
    {
     "data": {
      "text/html": [
       "<pre style=\"overflow: auto; white-space: pre;\">                   ┌──┐\n",
       "(0, 0): ───@───@────@─────────────\n",
       "           │   │    │\n",
       "(0, 1): ───X───┼────┼@────@───────\n",
       "               │    ││    │\n",
       "(0, 2): ───────X────┼X────┼───@───\n",
       "                    │     │   │\n",
       "(0, 3): ────────────X─────X───X───\n",
       "                   └──┘</pre>"
      ],
      "text/plain": [
       "                   ┌──┐\n",
       "(0, 0): ───@───@────@─────────────\n",
       "           │   │    │\n",
       "(0, 1): ───X───┼────┼@────@───────\n",
       "               │    ││    │\n",
       "(0, 2): ───────X────┼X────┼───@───\n",
       "                    │     │   │\n",
       "(0, 3): ────────────X─────X───X───\n",
       "                   └──┘"
      ]
     },
     "execution_count": 10,
     "metadata": {},
     "output_type": "execute_result"
    }
   ],
   "source": [
    "# Building a circuit of 4 qubits with a layer of CNOT gates using\n",
    "# the fully connected interaction graph\n",
    "circuit = ParameterisedCircuit(n_qubit=4)\n",
    "circuit.add_entanglement_layer(['CNOT'], entangle_strategy='full')\n",
    "circuit"
   ]
  },
  {
   "cell_type": "markdown",
   "id": "religious-species",
   "metadata": {},
   "source": [
    "## Interaction Graphs - Alternate Linear\n",
    "\n",
    "In the alternate, all neiboring qubits are connected but in an alternating manner"
   ]
  },
  {
   "cell_type": "code",
   "execution_count": 11,
   "id": "proof-district",
   "metadata": {},
   "outputs": [
    {
     "data": {
      "text/plain": [
       "[(0, 1), (2, 3), (1, 2), (3, 4)]"
      ]
     },
     "execution_count": 11,
     "metadata": {},
     "output_type": "execute_result"
    }
   ],
   "source": [
    "alternate_linear(n=5, m=2)"
   ]
  },
  {
   "cell_type": "code",
   "execution_count": 12,
   "id": "mobile-message",
   "metadata": {},
   "outputs": [
    {
     "data": {
      "text/html": [
       "<pre style=\"overflow: auto; white-space: pre;\">(0, 0): ───@───────\n",
       "           │\n",
       "(0, 1): ───X───@───\n",
       "               │\n",
       "(0, 2): ───@───X───\n",
       "           │\n",
       "(0, 3): ───X───@───\n",
       "               │\n",
       "(0, 4): ───────X───</pre>"
      ],
      "text/plain": [
       "(0, 0): ───@───────\n",
       "           │\n",
       "(0, 1): ───X───@───\n",
       "               │\n",
       "(0, 2): ───@───X───\n",
       "           │\n",
       "(0, 3): ───X───@───\n",
       "               │\n",
       "(0, 4): ───────X───"
      ]
     },
     "execution_count": 12,
     "metadata": {},
     "output_type": "execute_result"
    }
   ],
   "source": [
    "circuit = ParameterisedCircuit(n_qubit=5)\n",
    "circuit.add_entanglement_layer(['CNOT'], entangle_strategy='alternate_linear')\n",
    "circuit"
   ]
  },
  {
   "cell_type": "markdown",
   "id": "single-newspaper",
   "metadata": {},
   "source": [
    "## Interaction Graphs - Alternate Cyclic\n",
    "\n",
    "In the alternate, all neiboring qubits are connected but in an alternating manner"
   ]
  },
  {
   "cell_type": "code",
   "execution_count": 13,
   "id": "viral-hospital",
   "metadata": {},
   "outputs": [
    {
     "data": {
      "text/plain": [
       "[(0, 1), (2, 3), (1, 2), (3, 4), (4, 0)]"
      ]
     },
     "execution_count": 13,
     "metadata": {},
     "output_type": "execute_result"
    }
   ],
   "source": [
    "alternate_cyclic(n=5, m=2)"
   ]
  },
  {
   "cell_type": "code",
   "execution_count": 14,
   "id": "foster-split",
   "metadata": {},
   "outputs": [
    {
     "data": {
      "text/html": [
       "<pre style=\"overflow: auto; white-space: pre;\">(0, 0): ───@───────X───\n",
       "           │       │\n",
       "(0, 1): ───X───@───┼───\n",
       "               │   │\n",
       "(0, 2): ───@───X───┼───\n",
       "           │       │\n",
       "(0, 3): ───X───@───┼───\n",
       "               │   │\n",
       "(0, 4): ───────X───@───</pre>"
      ],
      "text/plain": [
       "(0, 0): ───@───────X───\n",
       "           │       │\n",
       "(0, 1): ───X───@───┼───\n",
       "               │   │\n",
       "(0, 2): ───@───X───┼───\n",
       "           │       │\n",
       "(0, 3): ───X───@───┼───\n",
       "               │   │\n",
       "(0, 4): ───────X───@───"
      ]
     },
     "execution_count": 14,
     "metadata": {},
     "output_type": "execute_result"
    }
   ],
   "source": [
    "circuit = ParameterisedCircuit(n_qubit=5)\n",
    "circuit.add_entanglement_layer(['CNOT'], entangle_strategy='alternate_cyclic')\n",
    "circuit"
   ]
  },
  {
   "cell_type": "markdown",
   "id": "foreign-musician",
   "metadata": {},
   "source": [
    "## Interaction Graphs - Custom Interaction Graph\n",
    "\n",
    "You can create your custom interaction graph that takes in two arguments: n is the number of qubits of the circuit and m is the number of qubits involved in one interaction. The function should return a list of tuples specifying the qubit connection."
   ]
  },
  {
   "cell_type": "code",
   "execution_count": 15,
   "id": "broadband-semester",
   "metadata": {},
   "outputs": [],
   "source": [
    "def my_interaction(n, m=2):\n",
    "    if m != 2:\n",
    "        raise ValueError('Only 2 qubit gates are allowed for this interaction map')\n",
    "    return [(i, i+2) for i in range(n - 2)]"
   ]
  },
  {
   "cell_type": "code",
   "execution_count": 16,
   "id": "trained-defeat",
   "metadata": {},
   "outputs": [
    {
     "data": {
      "text/plain": [
       "[(0, 2), (1, 3), (2, 4)]"
      ]
     },
     "execution_count": 16,
     "metadata": {},
     "output_type": "execute_result"
    }
   ],
   "source": [
    "# Custom interaction graph for 4 qubit system with 2 qubit interaction\n",
    "my_interaction(n=5, m=2)"
   ]
  },
  {
   "cell_type": "code",
   "execution_count": 17,
   "id": "considerable-rental",
   "metadata": {},
   "outputs": [
    {
     "data": {
      "text/html": [
       "<pre style=\"overflow: auto; white-space: pre;\">           ┌──┐\n",
       "(0, 0): ────@─────────\n",
       "            │\n",
       "(0, 1): ────┼@────────\n",
       "            ││\n",
       "(0, 2): ────X┼────@───\n",
       "             │    │\n",
       "(0, 3): ─────X────┼───\n",
       "                  │\n",
       "(0, 4): ──────────X───\n",
       "           └──┘</pre>"
      ],
      "text/plain": [
       "           ┌──┐\n",
       "(0, 0): ────@─────────\n",
       "            │\n",
       "(0, 1): ────┼@────────\n",
       "            ││\n",
       "(0, 2): ────X┼────@───\n",
       "             │    │\n",
       "(0, 3): ─────X────┼───\n",
       "                  │\n",
       "(0, 4): ──────────X───\n",
       "           └──┘"
      ]
     },
     "execution_count": 17,
     "metadata": {},
     "output_type": "execute_result"
    }
   ],
   "source": [
    "# Building a circuit of 4 qubits with a layer of CNOT gates using\n",
    "# the my_interaction connected interaction graph\n",
    "circuit = ParameterisedCircuit(n_qubit=5)\n",
    "circuit.add_entanglement_layer(['CNOT'], entangle_strategy=my_interaction)\n",
    "circuit"
   ]
  },
  {
   "cell_type": "code",
   "execution_count": null,
   "id": "random-niger",
   "metadata": {},
   "outputs": [],
   "source": []
  }
 ],
 "metadata": {
  "kernelspec": {
   "display_name": "Python 3",
   "language": "python",
   "name": "python3"
  },
  "language_info": {
   "codemirror_mode": {
    "name": "ipython",
    "version": 3
   },
   "file_extension": ".py",
   "mimetype": "text/x-python",
   "name": "python",
   "nbconvert_exporter": "python",
   "pygments_lexer": "ipython3",
   "version": "3.7.10"
  }
 },
 "nbformat": 4,
 "nbformat_minor": 5
}
