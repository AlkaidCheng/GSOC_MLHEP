{
 "cells": [
  {
   "cell_type": "markdown",
   "id": "square-genetics",
   "metadata": {},
   "source": [
    "# GSoC Task II - Quantum Generative Adversarial Network (QGAN)"
   ]
  },
  {
   "cell_type": "markdown",
   "id": "conditional-token",
   "metadata": {},
   "source": [
    "## Introduction\n",
    "\n",
    "### On the theory and motivation behind QGAN\n",
    "\n",
    "- On general quantum machine learning:\n",
    "    - A quantum neural network typical is achieved by building **parameterised quantum circuit (PQC)** with the neural network weights encoded as parameters of quantum gates which typically represents a rotation of the quantum state about some linear combination of basis state. \n",
    "    - Another important aspect is the encoding of classical data into the qubit states of a quantum circuit. A major source of quantum advantage comes from the high dimensional Hilbert space that qubits lived in which can translated as the feature space of the input data or the phase space of a neural network. \n",
    "    - For an actual hardware, the quantum feature of qubits existing as a linear combination of $2^N$ basis states where $N$ is the number of qubits together with the feature of collapse of wavefunction at measurement makes it possible to perform parallel computation of vast number of inputs (ideally $2^N$ of them) to achieve a better time complexity. \n",
    "\n",
    "- On quantum GAN:\n",
    "\n",
    "    - Major reference: https://arxiv.org/abs/1901.00848\n",
    "\n",
    "    - The essence of a quantum version of the Generative Adversarial Network (GAN) is to replace the general and discriminator neural network by a quantum neural network made up of parameterised quantum circuits.\n",
    "\n",
    "    - Assuming that the **discriminator** and the **generator** have infinite capacity, which means that ideally they can **represent any probability distribution**, then it is possible to construct a neural network whose final state reaches a Nash equilibrium where the **generator produces data that corresponds to the observed probability distribution, and the discriminator has 0.5 probability of discriminating correctly**. Therefore, the final result of the GAN is a generator model that produces samples from the observed distribution by sampling the prior distribution $p_z(z)$. The space of $z$ is usually called the latent space, and the generator $F_G$ is to map samples from the latent space to the output space $x$.\n",
    "\n",
    "### On the packages used\n",
    "- In this task, we wil be using the `quple` package for **parameterised quantum circuit (PQC) construction**. `quple` is a package developed by myself in last year's GSoC project related to Varational Quantum Classifier (VQC) and has been extended to more machine learning algorithms. The package is based on the Google `cirq` and `tensorflow_quantum` library.\n",
    "\n",
    "- For the actual model construction and training, we will be using the Google `tensorflow_quantum` library. It is responsible for **constructing the neural network layers, loss function and gradient calculation**.\n",
    "\n",
    "### Current challenges\n",
    "\n",
    "- In the native way of implementing quantum neural network layers (called PQC) using `tensorflow_quantum` (at least according to their tutorials), the input to the PQC layer is a data encoding quantum circuit that has the classical data already encoded into the parameters of the circuit gate operations. This circuit is converted to a tensorflow string and passed as an input to the PQC layer. However, this causes problem in **gradient calculation** that involves output from multiple neural networks, i.e. generator and discrminator in this case. Since the generator output is a tensor of the classical input which needs to be encoded into a data encoding circuit and then to a tensorflow string, in this process the **gradient information with respect to the generator weights is lost and can not be passed to the discriminator (i.e. no back propagation)**. To circumvent this I implemented my custom PQC layer in my own package `quple` which takes in tensor with classical data instead of tensor with the data encoding circuit in the string representation. This is achieved by combining the data encoding circuit and the parameterised circuit as a whole and resolve the symbol values of both circuits all together. However, there is a current limitation from `tensorflow_quntum` that it cannot resolve symbol expression other than simple scalar multiplication which greatly limits the complexity of the data encoding circuit. The relevant code that causes the problem is: https://github.com/tensorflow/quantum/blob/master/tensorflow_quantum/core/serialize/serializer.py#L43\n",
    "\n",
    "- `tensorflow_quantum` does not support second order differentiation of quantum layer therefore we can not use models that require second derivatives, for instance the **Wasserstein GAN with gradient penalty** (WGAN-GP). The relevant discussion can be found here: https://github.com/tensorflow/quantum/issues/285. "
   ]
  },
  {
   "cell_type": "code",
   "execution_count": 1,
   "id": "uniform-central",
   "metadata": {},
   "outputs": [],
   "source": [
    "# load some packages just to start\n",
    "from IPython.display import display, clear_output\n",
    "import matplotlib.pyplot as plt\n",
    "import numpy as np"
   ]
  },
  {
   "cell_type": "markdown",
   "id": "awful-johns",
   "metadata": {},
   "source": [
    "### Load Input\n",
    "According to the task description:\n",
    "\n",
    "- In the input file, there are only 100 samples for training and 100 samples for testing.\n",
    "- The signal events are labeled with 1 while the background events are labeled with 0."
   ]
  },
  {
   "cell_type": "code",
   "execution_count": 2,
   "id": "israeli-johnson",
   "metadata": {},
   "outputs": [],
   "source": [
    "data_path = '../data/QIS_EXAM_200Events.npz'\n",
    "data = dict(np.load(data_path, allow_pickle=True))\n",
    "x_train_bkg = data['training_input'].item()['0']\n",
    "x_test_bkg = data['test_input'].item()['0']\n",
    "x_train_sig = data['training_input'].item()['1']\n",
    "x_test_sig = data['test_input'].item()['1']\n",
    "# combine the signal and background samples\n",
    "x_train = np.concatenate((x_train_sig, x_train_bkg))\n",
    "y_train = np.concatenate((np.ones(x_train_sig.shape[0]), np.zeros(x_train_bkg.shape[0])))\n",
    "x_test = np.concatenate((x_test_sig, x_test_bkg))\n",
    "y_test = np.concatenate((np.ones(x_test_sig.shape[0]), np.zeros(x_test_bkg.shape[0])))"
   ]
  },
  {
   "cell_type": "markdown",
   "id": "potential-gravity",
   "metadata": {},
   "source": [
    "Here we follow the common scheme that each qubit encodes one feature"
   ]
  },
  {
   "cell_type": "code",
   "execution_count": 3,
   "id": "tamil-border",
   "metadata": {},
   "outputs": [
    {
     "data": {
      "text/plain": [
       "5"
      ]
     },
     "execution_count": 3,
     "metadata": {},
     "output_type": "execute_result"
    }
   ],
   "source": [
    "n_qubit = x_train.shape[1]\n",
    "n_qubit "
   ]
  },
  {
   "cell_type": "code",
   "execution_count": 4,
   "id": "comic-salem",
   "metadata": {},
   "outputs": [
    {
     "name": "stdout",
     "output_type": "stream",
     "text": [
      "Signal event shape:  (50, 5)\n",
      "Background event shape:  (50, 5)\n"
     ]
    }
   ],
   "source": [
    "print('Signal event shape: ', x_train_sig.shape)\n",
    "print('Background event shape: ', x_train_bkg.shape)"
   ]
  },
  {
   "cell_type": "markdown",
   "id": "large-victorian",
   "metadata": {},
   "source": [
    "### Visualize variable distributions \n",
    "\n",
    "Let's check our target distribution that the generator should reproduce from noise"
   ]
  },
  {
   "cell_type": "code",
   "execution_count": 5,
   "id": "trained-committee",
   "metadata": {},
   "outputs": [],
   "source": [
    "# Plot variable distributions for input\n",
    "def make_plots(data, labels, binning=20, columns=3):\n",
    "    X = [d.T for d in data]\n",
    "    fig=plt.figure(figsize=(20, 10))\n",
    "    rows =  1 + (X[0].shape[0] // columns)\n",
    "    bins = np.histogram(np.hstack(tuple(X)), bins=binning)[1]\n",
    "    plt.subplots_adjust(hspace=0.3)\n",
    "    for i in range(X[0].shape[0]):\n",
    "        ax = fig.add_subplot(rows, columns, i+1)\n",
    "        ax.set_title('Variable {}'.format(i+1), fontsize=15)\n",
    "        for j, x in enumerate(X):\n",
    "            ax.hist(x[i], bins=bins, alpha=.5, label=labels[j])\n",
    "        ax.legend(loc='lower center', bbox_to_anchor=(0.5, -.2), ncol=len(data), fontsize=10)\n",
    "    plt.show()"
   ]
  },
  {
   "cell_type": "code",
   "execution_count": 6,
   "id": "appropriate-history",
   "metadata": {},
   "outputs": [
    {
     "data": {
      "image/png": "[encoded data removed]",
      "text/plain": [
       "<Figure size 1440x720 with 5 Axes>"
      ]
     },
     "metadata": {
      "needs_background": "light"
     },
     "output_type": "display_data"
    }
   ],
   "source": [
    "make_plots([x_train_sig, x_train_bkg], ['signal', 'background'])"
   ]
  },
  {
   "cell_type": "markdown",
   "id": "assigned-inclusion",
   "metadata": {},
   "source": [
    "Here we immediately spot the problem that distributions for variables 1, 2 and 3 are discrete. They probably represent some flag of an event such as the b-tagging score. Typically GAN is not good at dealing with non-continuous distribution, so we expect the **generator** will have a **hard time producing such distribution** from random noise. "
   ]
  },
  {
   "cell_type": "markdown",
   "id": "legislative-construction",
   "metadata": {},
   "source": [
    "# Create Our QGAN model\n",
    "\n",
    "- The main reference is https://arxiv.org/pdf/1901.00848.pdf which proposes the use of variational quantum circuits as generator and discriminators\n",
    "\n",
    "- A **classical output layer** is used for both generator and discrminator. In this way, we can also implement an activation function to the final output. Therefore, this QGAN model is a **hybrid quantum-classical model** just like most quantum neural network implementations.\n",
    "\n",
    "- By default, the **tanh** activation function is used for generator and **leaky RELU** with slope 0.2 is used for discrminator. Although in this notebook I used 'linear' instead which is also the standard activation function for discriminator.\n",
    "\n",
    "- Here we use the **binary cross entropy loss**, which is the standard loss function from the original GAN paper\n",
    "\n",
    "- The **Adam optimizer** is used for both generator and discrminator\n",
    "\n",
    "- A `random_state` option is added to allow for reproducible result"
   ]
  },
  {
   "cell_type": "code",
   "execution_count": 7,
   "id": "electrical-pasta",
   "metadata": {},
   "outputs": [],
   "source": [
    "from typing import Union, Optional\n",
    "from functools import partial\n",
    "\n",
    "import numpy as np\n",
    "import cirq\n",
    "import tensorflow as tf\n",
    "from tensorflow.keras.models import Sequential\n",
    "import tensorflow_quantum as tfq\n",
    "from sklearn.metrics import roc_curve, auc, roc_auc_score\n",
    "\n",
    "import quple\n",
    "from quple.interface.tfq.layers.pqc import PQC\n",
    "from quple.utils.utils import plot_roc_curve\n",
    "\n",
    "class QGAN(object):\n",
    "    \"\"\"Quantum Generative Adversarial Network (QGAN)\n",
    "    \"\"\"    \n",
    "    def __init__(self, generator_circuit:\"cirq.Circuit\", discriminator_circuit:\"cirq.Circuit\",\n",
    "                 encoding_circuit:\"cirq.Circuit\",\n",
    "                 epochs:int=100, batch_size:int=10,   \n",
    "                 g_lr:float=1e-3, d_lr:float=1e-3, g_activation='tanh', \n",
    "                 d_activation=tf.keras.layers.LeakyReLU(alpha=0.2),\n",
    "                 g_readout=None,\n",
    "                 d_readout=None,                 \n",
    "                 differentiator:Optional[tfq.differentiators.Differentiator]=None,\n",
    "                 regularizer=None,\n",
    "                 repetitions=None,                 \n",
    "                 random_state:Optional[int]=None, \n",
    "                 name:str='QGAN', *arg, **args):\n",
    "        \"\"\" Creates a QGAN model equipped with a generator and a discriminator\n",
    "            The only difference between WGAN and DCGAN is in the definition of\n",
    "            the loss function and the discriminator step per generator step and\n",
    "            possibly the choice of activation function\n",
    "        Args:\n",
    "            generator: cirq.Circuit or quple.QuantumCircuit instace\n",
    "                A parameterised quantum circuit as a variational quantum generator (VQG)\n",
    "            discriminator: cirq.Circuit or quple.QuantumCircuit instace\n",
    "                A parameterised quantum circuit as a variational quantum discriminator (VQD)\n",
    "            encoding_circuit: cirq.Circuit or quple.QuantumCircuit instace\n",
    "                A parameterised quantum circuit for data encoding             \n",
    "            epochs: int, default=100\n",
    "                Number of epochs\n",
    "            batch_size: int, default=10\n",
    "                Batch size for training\n",
    "            g_lr: float, default=1e-4\n",
    "                Learning rate for the Adam optimizer of the generator\n",
    "            d_lr: float, default=1e-4\n",
    "                Learning rate for the Adam optimizer of the discriminator\n",
    "            g_activation: str/callable, default='sigmoid'\n",
    "                Activation function for the output layer of generator\n",
    "            d_activation: str/callable, default='tanh'\n",
    "                Activation function for the output layer of discriminator \n",
    "            g_readout: `cirq.PauliSum` or Python `list` of `cirq.PauliSum` objects, default=None\n",
    "                Measurement operators (observables) for the variational circuit layer of generator\n",
    "                If None, defaults to Pauli Z on all qubits\n",
    "            d_readout: `cirq.PauliSum` or Python `list` of `cirq.PauliSum` objects, default=None\n",
    "                Measurement operators (observables) for the variational circuit layer of generator                     \n",
    "                If None, defaults to Pauli Z on first qubit\n",
    "            differentiator: Optional `tfq.differentiator` object \n",
    "                To specify how gradients of variational circuit should be calculated.\n",
    "            regularizer: Optional `tf.keras.regularizer` object\n",
    "                Regularizer applied to the parameters of the variational circuit.\n",
    "            repetitions: int; default=None\n",
    "                Number of repetitions for measurement           \n",
    "            random_state: Optional int, default=None\n",
    "                The random state for reproducible result.\n",
    "            name: Optional str, default=\"QGAN\"\n",
    "                Name given to the classifier.                \n",
    "        \"\"\"\n",
    "        # initialize hyperparameters first\n",
    "        self.epochs = epochs\n",
    "        self.batch_size = batch_size\n",
    "        self.g_lr = g_lr\n",
    "        self.d_lr = d_lr        \n",
    "        self.g_activation = g_activation\n",
    "        self.d_activation = d_activation\n",
    "        self.differentiator = differentiator\n",
    "        self.regularizer = regularizer\n",
    "        self.repetitions = repetitions\n",
    "        self.g_readout = g_readout\n",
    "        self.d_readout = d_readout\n",
    "        self.encoding_circuit = encoding_circuit\n",
    "        # latent dimension is the same as number of features (= number of qubits)\n",
    "        self.latent_dim = len(quple.get_circuit_qubits(encoding_circuit))\n",
    "        self.random_state = random_state\n",
    "        self.set_random_state(self.random_state)\n",
    "        # create generator and discriminator models from parameterized quantum circuit\n",
    "        self.G = self.create_generator(generator_circuit)\n",
    "        self.D = self.create_discriminator(discriminator_circuit)\n",
    "        # create optimizers\n",
    "        self.G_optimizer = tf.keras.optimizers.Adam(learning_rate=self.g_lr)\n",
    "        self.D_optimizer = tf.keras.optimizers.Adam(learning_rate=self.d_lr)\n",
    "        \n",
    "        self.cross_entropy = tf.keras.losses.BinaryCrossentropy(from_logits=True)\n",
    "        \n",
    "        self.name = name\n",
    "        \n",
    "        print('Summary of Generator')\n",
    "        self.G.summary()\n",
    "        \n",
    "        print('Summary of Discriminator')\n",
    "        self.D.summary()\n",
    "    \n",
    "    @staticmethod\n",
    "    def set_random_state(random_state=None):\n",
    "        tf.random.set_seed(random_state)\n",
    "        np.random.seed(random_state)        \n",
    "        \n",
    "    def create_generator(self, quantum_circuit:\"cirq.Circuit\"):\n",
    "        generator = Sequential()\n",
    "        # input layer for feeding classical data\n",
    "        input_layer = tf.keras.layers.Input(shape=(self.latent_dim), dtype=tf.float32)\n",
    "        # variational layer \n",
    "        qubits = quple.get_circuit_qubits(quantum_circuit)\n",
    "        if not self.g_readout:\n",
    "            g_readout = [cirq.Z(qubit) for qubit in qubits]\n",
    "        else:\n",
    "            g_readout = self.g_readout\n",
    "        pqc_layer = PQC(quantum_circuit,\n",
    "                        self.encoding_circuit,\n",
    "                        g_readout,\n",
    "                        repetitions=self.repetitions,\n",
    "                        differentiator=self.differentiator,\n",
    "                        regularizer=self.regularizer)\n",
    "        # classical layer for processing quantum output\n",
    "        output_layer = tf.keras.layers.Dense(self.latent_dim, activation=self.g_activation)\n",
    "        \n",
    "        # create generator model\n",
    "        generator.add(input_layer)\n",
    "        generator.add(pqc_layer)\n",
    "        generator.add(output_layer)\n",
    "        return generator\n",
    "    \n",
    "    def create_discriminator(self, quantum_circuit:\"cirq.Circuit\"):\n",
    "        discriminator = Sequential()\n",
    "        # input layer for feeding classical data\n",
    "        input_layer = tf.keras.layers.Input(shape=(self.latent_dim), dtype=tf.float32)        \n",
    "        # variational layer \n",
    "        qubits = quple.get_circuit_qubits(quantum_circuit)\n",
    "        if not self.d_readout:\n",
    "            # by default measure PauliZ on first qubit\n",
    "            d_readout = [cirq.Z(qubits[0])]\n",
    "        else:\n",
    "            d_readout = self.d_readout    \n",
    "        pqc_layer = PQC(quantum_circuit,\n",
    "                        self.encoding_circuit,\n",
    "                        d_readout,\n",
    "                        repetitions=self.repetitions,\n",
    "                        differentiator=self.differentiator,\n",
    "                        regularizer=self.regularizer)\n",
    "        # classical layer for adding bias to the quantum output\n",
    "        output_layer = tf.keras.layers.Dense(1, activation=self.d_activation)\n",
    "        \n",
    "        # create generator model\n",
    "        discriminator.add(input_layer)\n",
    "        discriminator.add(pqc_layer)\n",
    "        discriminator.add(output_layer)\n",
    "        return discriminator\n",
    "    \n",
    "    def D_loss(self, real_output, fake_output):\n",
    "        \"\"\"Compute discriminator loss.\"\"\"\n",
    "        real_loss = self.cross_entropy(tf.ones_like(real_output), real_output)\n",
    "        fake_loss = self.cross_entropy(tf.zeros_like(fake_output), fake_output)\n",
    "        total_loss = real_loss + fake_loss\n",
    "        return total_loss\n",
    "\n",
    "    def G_loss(self, fake_output):\n",
    "        \"\"\"Compute generator loss.\"\"\"\n",
    "        return self.cross_entropy(tf.ones_like(fake_output), fake_output)\n",
    "    \n",
    "    def to_prob(self, x):\n",
    "        \"\"\"Convert discriminator output to probabilities\"\"\"\n",
    "        return tf.divide(tf.add(x, 1), 2)\n",
    "    \n",
    "    def train_step(self, x_real, real_noise=0.0):\n",
    "        \"\"\"Training step for one epoch\"\"\"\n",
    "        noise = tf.random.normal([self.batch_size, self.latent_dim])\n",
    "        #x_real_w_noise = tf.add(x_real, tf.random.normal(shape=x_real.shape, \n",
    "        #                                           mean=0.0, \n",
    "        #                                           stddev=real_noise, dtype=x_real.dtype))\n",
    "        with tf.GradientTape() as gen_tape, tf.GradientTape() as disc_tape:\n",
    "            x_fake = self.G(noise, training=True)\n",
    "            real_output = self.D(x_real, training=True)\n",
    "            p_real = self.to_prob(real_output) \n",
    "            fake_output = self.D(x_fake, training=True)\n",
    "            p_fake = self.to_prob(fake_output) \n",
    "            gen_loss = self.G_loss(p_fake)\n",
    "            disc_loss = self.D_loss(p_real, p_fake)\n",
    "\n",
    "        grad_gen = gen_tape.gradient(gen_loss, self.G.trainable_variables)\n",
    "        grad_disc = disc_tape.gradient(disc_loss, self.D.trainable_variables)\n",
    "        self.G_optimizer.apply_gradients(zip(grad_gen, self.G.trainable_variables))\n",
    "        self.D_optimizer.apply_gradients(zip(grad_disc, self.D.trainable_variables))  \n",
    "        return gen_loss, disc_loss\n",
    "    \n",
    "    @tf.function\n",
    "    def generate_samples(self, batch_size):\n",
    "        \"\"\"Generates sample using random inputs.\"\"\"\n",
    "        z = tf.random.normal((batch_size, self.latent_dim))\n",
    "        return self.G(z, training=False)  \n",
    "    \n",
    "    def predict(self, x):\n",
    "        return self.D(x, training=False)\n",
    "    \n",
    "    @staticmethod\n",
    "    def create_batches(x, batch_size, buffer_size=10000):\n",
    "        batches = tf.data.Dataset.from_tensor_slices(x).shuffle(buffer_size).batch(batch_size)\n",
    "        return batches\n",
    "    \n",
    "    def train(self, x, interactive_display=True):\n",
    "        self.set_random_state(self.random_state)\n",
    "        batches = self.create_batches(x, self.batch_size)\n",
    "        #sample_size = x.shape[0]\n",
    "        #z = tf.constant(tf.random.normal((sample_size, self.latent_dim)))\n",
    "        g_metric = tf.keras.metrics.Mean()\n",
    "        d_metric = tf.keras.metrics.Mean()\n",
    "        fig = plt.figure(figsize=(16,9))\n",
    "        g_loss_arr = []\n",
    "        d_loss_arr = []\n",
    "        epoch_arr = []\n",
    "        \n",
    "        for epoch in range(self.epochs):\n",
    "            for batch in batches:\n",
    "                gen_loss, disc_loss = self.train_step(batch)\n",
    "                g_metric(gen_loss)\n",
    "                d_metric(disc_loss)\n",
    "                \n",
    "            g_loss_arr.append(g_metric.result())\n",
    "            d_loss_arr.append(d_metric.result())\n",
    "            epoch_arr.append(epoch)\n",
    "            if interactive_display:\n",
    "                self.display_loss(g_loss_arr, d_loss_arr, epoch_arr)\n",
    "            g_metric.reset_states()\n",
    "            d_metric.reset_states()\n",
    "        if not interactive_display:\n",
    "            return g_loss_arr, d_loss_arr\n",
    "    \n",
    "    def test(self, x, y, plot=True):\n",
    "        score = self.predict(x)\n",
    "        fpr, tpr, thresholds = roc_curve(y, score)\n",
    "        roc_auc = auc(fpr, tpr)\n",
    "        if plot:\n",
    "            return plot_roc_curve(fpr, tpr, 'QDCGAN')\n",
    "        else:\n",
    "            return roc_auc\n",
    "        \n",
    "    def display_loss(self, g_loss, d_loss, epochs):\n",
    "        ax = plt.gca()\n",
    "        ax.set_xlim(0, 1.1*epochs[-1])\n",
    "        ax.cla()\n",
    "        ax.plot(epochs, g_loss, label=\"Generator\")\n",
    "        ax.plot(epochs, d_loss, label=\"Discriminator\")\n",
    "        ax.set_xlabel('Epoch', fontsize=20)\n",
    "        ax.set_ylabel('Binary Cross Entropy Loss', fontsize=20)\n",
    "        ax.grid(True)\n",
    "        ax.legend(fontsize=20)\n",
    "        display(plt.gcf())\n",
    "        clear_output(wait = True)    "
   ]
  },
  {
   "cell_type": "markdown",
   "id": "declared-undergraduate",
   "metadata": {},
   "source": [
    "# Construction of Quantum Circuits\n",
    "\n",
    "For easy contruction of quantum circuits, we use the `ParameterisedCircuit` class from the `quple` module (a package made by the author of this notebook)\n",
    "\n",
    "What does the `ParameterisedCircuit` class do?\n",
    "- It uses a layered approach for applying quantum gates. A rotation layer consist of a single qubit gate applied to every qubit. An entanglement layer consist of multi-qubit gate applied to specific pairs/sets of qubits according to the `entangle_strategy`. \n",
    "- Parameters are automatically added to operations that requires it. Users can control whether to repeat the parameters at a certain stage. For the case of data encoding, the number of parameters should match the feature dimension which matches the number of qubits. Therefore, the parameters should repeat every layer. This is achieved by setting `reuse_param_per_layer` true.\n",
    "- The argument `copies` is the **circuit depth**.\n",
    "- The argument `rotation_blocks` specify a series of single qubit operations to be applied to each of the qubits.\n",
    "- The argument `entanglement_blocks` specify a series of multiple qubit operations to be applied to a designated set of qubits\n",
    "- The argument `entangle_strategy` specify the connectivity graph of the qubits. Here `alternate_linear` means every neighboring pair is connected but in an alternating manner."
   ]
  },
  {
   "cell_type": "code",
   "execution_count": 8,
   "id": "novel-conspiracy",
   "metadata": {},
   "outputs": [],
   "source": [
    "# this will also load tfq which may take some time to initialize\n",
    "from quple import ParameterisedCircuit"
   ]
  },
  {
   "cell_type": "markdown",
   "id": "wireless-crown",
   "metadata": {},
   "source": [
    "# Quantum Data Encoding\n",
    "\n",
    "For encoding classical data into the qubits of a quantum circuit. The choice of circuit is kind of arbitray but it should start with Hadamard gate to map the qubit into computational basis ($X$-axis)\n",
    "\n",
    "A simple entanglement with `CX` is used just to give it some complexity boost"
   ]
  },
  {
   "cell_type": "code",
   "execution_count": 9,
   "id": "federal-password",
   "metadata": {},
   "outputs": [
    {
     "data": {
      "text/html": [
       "<pre style=\"overflow: auto; white-space: pre;\">(0, 0): ───H───Rz(x_0)───Ry(x_0)───@───H───Rz(x_0)───Ry(x_0)─────────────@───────\n",
       "                                   │                                     │\n",
       "(0, 1): ───H───Rz(x_1)───Ry(x_1)───X───@───H─────────Rz(x_1)───Ry(x_1)───X───@───\n",
       "                                       │                                     │\n",
       "(0, 2): ───H───Rz(x_2)───Ry(x_2)───@───X───H─────────Rz(x_2)───Ry(x_2)───@───X───\n",
       "                                   │                                     │\n",
       "(0, 3): ───H───Rz(x_3)───Ry(x_3)───X───@───H─────────Rz(x_3)───Ry(x_3)───X───@───\n",
       "                                       │                                     │\n",
       "(0, 4): ───H───Rz(x_4)───Ry(x_4)───────X───H─────────Rz(x_4)───Ry(x_4)───────X───</pre>"
      ],
      "text/plain": [
       "(0, 0): ───H───Rz(x_0)───Ry(x_0)───@───H───Rz(x_0)───Ry(x_0)─────────────@───────\n",
       "                                   │                                     │\n",
       "(0, 1): ───H───Rz(x_1)───Ry(x_1)───X───@───H─────────Rz(x_1)───Ry(x_1)───X───@───\n",
       "                                       │                                     │\n",
       "(0, 2): ───H───Rz(x_2)───Ry(x_2)───@───X───H─────────Rz(x_2)───Ry(x_2)───@───X───\n",
       "                                   │                                     │\n",
       "(0, 3): ───H───Rz(x_3)───Ry(x_3)───X───@───H─────────Rz(x_3)───Ry(x_3)───X───@───\n",
       "                                       │                                     │\n",
       "(0, 4): ───H───Rz(x_4)───Ry(x_4)───────X───H─────────Rz(x_4)───Ry(x_4)───────X───"
      ]
     },
     "execution_count": 9,
     "metadata": {},
     "output_type": "execute_result"
    }
   ],
   "source": [
    "encoding_circuit = ParameterisedCircuit(n_qubit, copies=2,\n",
    "                                        rotation_blocks=['H', 'RZ', 'RY'],\n",
    "                                        entanglement_blocks=['CX'],\n",
    "                                        parameter_symbol='x',\n",
    "                                        reuse_param_per_layer=True,\n",
    "                                        entangle_strategy='alternate_linear')\n",
    "encoding_circuit"
   ]
  },
  {
   "cell_type": "markdown",
   "id": "confirmed-delhi",
   "metadata": {},
   "source": [
    "# Quantum Variational Generator (QVG)\n",
    "\n",
    "For creating the variational circuit, we used the existing template from the `quple` package\n",
    "\n",
    "- The `IsingCoupling` class is a PQC with a layer of `RY` and `RZ` rotation followed by a layer of `XX` Ising coupling gates. We can customize the ising coupling gates but for the moment we will use the defaults.\n",
    "\n",
    "- Again, the choice is arbitrary. Just make it complex enough so it has some parameters to learn and the phase space is not too trivial (so good idea to have entanglement). "
   ]
  },
  {
   "cell_type": "code",
   "execution_count": 10,
   "id": "mediterranean-broadway",
   "metadata": {},
   "outputs": [],
   "source": [
    "from quple.circuits.variational_circuits import IsingCoupling, EfficientSU2\n",
    "generator_circuit = IsingCoupling(n_qubit=n_qubit, copies=3,\n",
    "                                  entangle_strategy='full')"
   ]
  },
  {
   "cell_type": "code",
   "execution_count": 11,
   "id": "facial-theology",
   "metadata": {},
   "outputs": [
    {
     "data": {
      "text/html": [
       "<pre style=\"overflow: auto; white-space: pre;\">                                                                   ┌──────────────────┐               ┌──────────────────┐                                                                          ┌──────────────────┐               ┌──────────────────┐                                                                          ┌──────────────────┐               ┌──────────────────┐\n",
       "(0, 0): ───Ry(θ_0)───Rz(θ_5)───XX──────────XX──────────XX───────────XX───────────────────────────────────────────────────────────────────Ry(θ_20)────Rz(θ_25)───XX──────────XX──────────XX───────────XX───────────────────────────────────────────────────────────────────Ry(θ_40)────Rz(θ_45)───XX──────────XX──────────XX───────────XX───────────────────────────────────────────────────────────────────Ry(θ_60)────Rz(θ_65)──────────────\n",
       "                               │           │           │            │                                                                                           │           │           │            │                                                                                           │           │           │            │\n",
       "(0, 1): ───Ry(θ_1)───Rz(θ_6)───XX^(θ_10)───┼───────────┼────────────┼────────XX───────────XX───────────XX────────────────────────────────Ry(θ_21)────Rz(θ_26)───XX^(θ_30)───┼───────────┼────────────┼────────XX───────────XX───────────XX────────────────────────────────Ry(θ_41)────Rz(θ_46)───XX^(θ_50)───┼───────────┼────────────┼────────XX───────────XX───────────XX────────────────────────────────Ry(θ_61)────Rz(θ_66)──────────────\n",
       "                                           │           │            │        │            │            │                                                                    │           │            │        │            │            │                                                                    │           │            │        │            │            │\n",
       "(0, 2): ───Ry(θ_2)───Rz(θ_7)───────────────XX^(θ_11)───┼────────────┼────────XX^(θ_14)────┼────────────┼────────XX───────────XX──────────Ry(θ_22)────Rz(θ_27)───────────────XX^(θ_31)───┼────────────┼────────XX^(θ_34)────┼────────────┼────────XX───────────XX──────────Ry(θ_42)────Rz(θ_47)───────────────XX^(θ_51)───┼────────────┼────────XX^(θ_54)────┼────────────┼────────XX───────────XX──────────Ry(θ_62)────Rz(θ_67)──────────────\n",
       "                                                       │            │                     │            │        │            │                                                          │            │                     │            │        │            │                                                          │            │                     │            │        │            │\n",
       "(0, 3): ───Ry(θ_3)───Rz(θ_8)───────────────────────────XX^(θ_12)────┼─────────────────────XX^(θ_15)────┼────────XX^(θ_17)────┼───────────XX──────────Ry(θ_23)───Rz(θ_28)────────────────XX^(θ_32)────┼─────────────────────XX^(θ_35)────┼────────XX^(θ_37)────┼───────────XX──────────Ry(θ_43)───Rz(θ_48)────────────────XX^(θ_52)────┼─────────────────────XX^(θ_55)────┼────────XX^(θ_57)────┼───────────XX──────────Ry(θ_63)───Rz(θ_68)───\n",
       "                                                                    │                                  │                     │           │                                                           │                                  │                     │           │                                                           │                                  │                     │           │\n",
       "(0, 4): ───Ry(θ_4)───Rz(θ_9)────────────────────────────────────────XX^(θ_13)──────────────────────────XX^(θ_16)─────────────XX^(θ_18)───XX^(θ_19)───Ry(θ_24)───Rz(θ_29)─────────────────────────────XX^(θ_33)──────────────────────────XX^(θ_36)─────────────XX^(θ_38)───XX^(θ_39)───Ry(θ_44)───Rz(θ_49)─────────────────────────────XX^(θ_53)──────────────────────────XX^(θ_56)─────────────XX^(θ_58)───XX^(θ_59)───Ry(θ_64)───Rz(θ_69)───\n",
       "                                                                   └──────────────────┘               └──────────────────┘                                                                          └──────────────────┘               └──────────────────┘                                                                          └──────────────────┘               └──────────────────┘</pre>"
      ],
      "text/plain": [
       "                                                                   ┌──────────────────┐               ┌──────────────────┐                                                                          ┌──────────────────┐               ┌──────────────────┐                                                                          ┌──────────────────┐               ┌──────────────────┐\n",
       "(0, 0): ───Ry(θ_0)───Rz(θ_5)───XX──────────XX──────────XX───────────XX───────────────────────────────────────────────────────────────────Ry(θ_20)────Rz(θ_25)───XX──────────XX──────────XX───────────XX───────────────────────────────────────────────────────────────────Ry(θ_40)────Rz(θ_45)───XX──────────XX──────────XX───────────XX───────────────────────────────────────────────────────────────────Ry(θ_60)────Rz(θ_65)──────────────\n",
       "                               │           │           │            │                                                                                           │           │           │            │                                                                                           │           │           │            │\n",
       "(0, 1): ───Ry(θ_1)───Rz(θ_6)───XX^(θ_10)───┼───────────┼────────────┼────────XX───────────XX───────────XX────────────────────────────────Ry(θ_21)────Rz(θ_26)───XX^(θ_30)───┼───────────┼────────────┼────────XX───────────XX───────────XX────────────────────────────────Ry(θ_41)────Rz(θ_46)───XX^(θ_50)───┼───────────┼────────────┼────────XX───────────XX───────────XX────────────────────────────────Ry(θ_61)────Rz(θ_66)──────────────\n",
       "                                           │           │            │        │            │            │                                                                    │           │            │        │            │            │                                                                    │           │            │        │            │            │\n",
       "(0, 2): ───Ry(θ_2)───Rz(θ_7)───────────────XX^(θ_11)───┼────────────┼────────XX^(θ_14)────┼────────────┼────────XX───────────XX──────────Ry(θ_22)────Rz(θ_27)───────────────XX^(θ_31)───┼────────────┼────────XX^(θ_34)────┼────────────┼────────XX───────────XX──────────Ry(θ_42)────Rz(θ_47)───────────────XX^(θ_51)───┼────────────┼────────XX^(θ_54)────┼────────────┼────────XX───────────XX──────────Ry(θ_62)────Rz(θ_67)──────────────\n",
       "                                                       │            │                     │            │        │            │                                                          │            │                     │            │        │            │                                                          │            │                     │            │        │            │\n",
       "(0, 3): ───Ry(θ_3)───Rz(θ_8)───────────────────────────XX^(θ_12)────┼─────────────────────XX^(θ_15)────┼────────XX^(θ_17)────┼───────────XX──────────Ry(θ_23)───Rz(θ_28)────────────────XX^(θ_32)────┼─────────────────────XX^(θ_35)────┼────────XX^(θ_37)────┼───────────XX──────────Ry(θ_43)───Rz(θ_48)────────────────XX^(θ_52)────┼─────────────────────XX^(θ_55)────┼────────XX^(θ_57)────┼───────────XX──────────Ry(θ_63)───Rz(θ_68)───\n",
       "                                                                    │                                  │                     │           │                                                           │                                  │                     │           │                                                           │                                  │                     │           │\n",
       "(0, 4): ───Ry(θ_4)───Rz(θ_9)────────────────────────────────────────XX^(θ_13)──────────────────────────XX^(θ_16)─────────────XX^(θ_18)───XX^(θ_19)───Ry(θ_24)───Rz(θ_29)─────────────────────────────XX^(θ_33)──────────────────────────XX^(θ_36)─────────────XX^(θ_38)───XX^(θ_39)───Ry(θ_44)───Rz(θ_49)─────────────────────────────XX^(θ_53)──────────────────────────XX^(θ_56)─────────────XX^(θ_58)───XX^(θ_59)───Ry(θ_64)───Rz(θ_69)───\n",
       "                                                                   └──────────────────┘               └──────────────────┘                                                                          └──────────────────┘               └──────────────────┘                                                                          └──────────────────┘               └──────────────────┘"
      ]
     },
     "execution_count": 11,
     "metadata": {},
     "output_type": "execute_result"
    }
   ],
   "source": [
    "generator_circuit"
   ]
  },
  {
   "cell_type": "markdown",
   "id": "lonely-packet",
   "metadata": {},
   "source": [
    "# Quantum Variational Discriminator (QVD)\n",
    "- `PauliBlock` refers to N-dimentional Pauli rotation, e.g. Pauli string of `Z` refers to `RZ` rotation of single qubit and `ZZ` refers to `RZZ` rotation about the Z axis of tensor product of two qubits\n",
    "- Again, the choice is arbitrary. Just make it complex enough so it has some parameters to learn and the phase space is not too trivial (so good idea to have entanglement). "
   ]
  },
  {
   "cell_type": "code",
   "execution_count": 12,
   "id": "sublime-arbor",
   "metadata": {},
   "outputs": [],
   "source": [
    "from quple import PauliBlock"
   ]
  },
  {
   "cell_type": "code",
   "execution_count": 13,
   "id": "valuable-olive",
   "metadata": {},
   "outputs": [],
   "source": [
    "discriminator_circuit = ParameterisedCircuit(n_qubit=n_qubit, copies=3,\n",
    "                                             rotation_blocks=['RZ', 'RY'],\n",
    "                                             entanglement_blocks = [PauliBlock('ZZ'), PauliBlock('XX')],\n",
    "                                             entangle_strategy='alternate_linear')"
   ]
  },
  {
   "cell_type": "code",
   "execution_count": 14,
   "id": "bridal-stewart",
   "metadata": {},
   "outputs": [
    {
     "data": {
      "text/html": [
       "<pre style=\"overflow: auto; white-space: pre;\">(0, 0): ───Rz(θ_0)───Ry(θ_5)───@──────────────@────────────────────────────────────────H───@──────────────@───H────────────────────────────────────────────────────────────────────────Rz(θ_18)───Ry(θ_23)───@─────────────────────@────────────────────────────────────────H───@──────────────@───H────────────────────────────────────────────────────────────────────────Rz(θ_36)───Ry(θ_41)───@─────────────────────@────────────────────────────────────────H───@──────────────@───H────────────────────────────────────────────────────────────────────────────\n",
       "                               │              │                                            │              │                                                                                                  │                     │                                            │              │                                                                                                  │                     │                                            │              │\n",
       "(0, 1): ───Rz(θ_1)───Ry(θ_6)───X───Rz(θ_10)───X──────────────@──────────────@──────────H───X───Rz(θ_14)───X───H──────────────────────H───────@──────────────@───H──────────────────────Rz(θ_19)───Ry(θ_24)───X──────────Rz(θ_28)───X──────────────@──────────────@──────────H───X───Rz(θ_32)───X───H──────────────────────H───────@──────────────@───H──────────────────────Rz(θ_37)───Ry(θ_42)───X──────────Rz(θ_46)───X──────────────@──────────────@──────────H───X───Rz(θ_50)───X───H──────────────────────H───────@──────────────@───H──────────────────────────\n",
       "                                                             │              │                                                                │              │                                                                                     │              │                                                                │              │                                                                                     │              │                                                                │              │\n",
       "(0, 2): ───Rz(θ_2)───Ry(θ_7)───@─────────────────────────@───X───Rz(θ_12)───X─────────────────────────────────H───@──────────────@───H───H───X───Rz(θ_16)───X───H──────────────────────Rz(θ_20)───Ry(θ_25)──────────────@─────────────────────@───X───Rz(θ_30)───X─────────────────────────────────H───@──────────────@───H───H───X───Rz(θ_34)───X───H──────────────────────Rz(θ_38)───Ry(θ_43)──────────────@─────────────────────@───X───Rz(θ_48)───X─────────────────────────────────H───@──────────────@───H───H───X───Rz(θ_52)───X───H──────────────────────────\n",
       "                               │                         │                                                        │              │                                                                                      │                     │                                                        │              │                                                                                      │                     │                                                        │              │\n",
       "(0, 3): ───Rz(θ_3)───Ry(θ_8)───X──────────────Rz(θ_11)───X───@─────────────────────────@──────────────────────H───X───Rz(θ_15)───X───H──────────────────────────H───@──────────────@───H──────────Rz(θ_21)───Ry(θ_26)───X──────────Rz(θ_29)───X───@─────────────────────────@──────────────────────H───X───Rz(θ_33)───X───H──────────────────────────H───@──────────────@───H──────────Rz(θ_39)───Ry(θ_44)───X──────────Rz(θ_47)───X───@─────────────────────────@──────────────────────H───X───Rz(θ_51)───X───H──────────────────────────H───@──────────────@───H───\n",
       "                                                             │                         │                                                                            │              │                                                              │                         │                                                                            │              │                                                              │                         │                                                                            │              │\n",
       "(0, 4): ───Rz(θ_4)───Ry(θ_9)─────────────────────────────────X──────────────Rz(θ_13)───X────────────────────────────────────────────────────────────────────────H───X───Rz(θ_17)───X───H──────────Rz(θ_22)───Ry(θ_27)─────────────────────────────X──────────────Rz(θ_31)───X────────────────────────────────────────────────────────────────────────H───X───Rz(θ_35)───X───H──────────Rz(θ_40)───Ry(θ_45)─────────────────────────────X──────────────Rz(θ_49)───X────────────────────────────────────────────────────────────────────────H───X───Rz(θ_53)───X───H───</pre>"
      ],
      "text/plain": [
       "(0, 0): ───Rz(θ_0)───Ry(θ_5)───@──────────────@────────────────────────────────────────H───@──────────────@───H────────────────────────────────────────────────────────────────────────Rz(θ_18)───Ry(θ_23)───@─────────────────────@────────────────────────────────────────H───@──────────────@───H────────────────────────────────────────────────────────────────────────Rz(θ_36)───Ry(θ_41)───@─────────────────────@────────────────────────────────────────H───@──────────────@───H────────────────────────────────────────────────────────────────────────────\n",
       "                               │              │                                            │              │                                                                                                  │                     │                                            │              │                                                                                                  │                     │                                            │              │\n",
       "(0, 1): ───Rz(θ_1)───Ry(θ_6)───X───Rz(θ_10)───X──────────────@──────────────@──────────H───X───Rz(θ_14)───X───H──────────────────────H───────@──────────────@───H──────────────────────Rz(θ_19)───Ry(θ_24)───X──────────Rz(θ_28)───X──────────────@──────────────@──────────H───X───Rz(θ_32)───X───H──────────────────────H───────@──────────────@───H──────────────────────Rz(θ_37)───Ry(θ_42)───X──────────Rz(θ_46)───X──────────────@──────────────@──────────H───X───Rz(θ_50)───X───H──────────────────────H───────@──────────────@───H──────────────────────────\n",
       "                                                             │              │                                                                │              │                                                                                     │              │                                                                │              │                                                                                     │              │                                                                │              │\n",
       "(0, 2): ───Rz(θ_2)───Ry(θ_7)───@─────────────────────────@───X───Rz(θ_12)───X─────────────────────────────────H───@──────────────@───H───H───X───Rz(θ_16)───X───H──────────────────────Rz(θ_20)───Ry(θ_25)──────────────@─────────────────────@───X───Rz(θ_30)───X─────────────────────────────────H───@──────────────@───H───H───X───Rz(θ_34)───X───H──────────────────────Rz(θ_38)───Ry(θ_43)──────────────@─────────────────────@───X───Rz(θ_48)───X─────────────────────────────────H───@──────────────@───H───H───X───Rz(θ_52)───X───H──────────────────────────\n",
       "                               │                         │                                                        │              │                                                                                      │                     │                                                        │              │                                                                                      │                     │                                                        │              │\n",
       "(0, 3): ───Rz(θ_3)───Ry(θ_8)───X──────────────Rz(θ_11)───X───@─────────────────────────@──────────────────────H───X───Rz(θ_15)───X───H──────────────────────────H───@──────────────@───H──────────Rz(θ_21)───Ry(θ_26)───X──────────Rz(θ_29)───X───@─────────────────────────@──────────────────────H───X───Rz(θ_33)───X───H──────────────────────────H───@──────────────@───H──────────Rz(θ_39)───Ry(θ_44)───X──────────Rz(θ_47)───X───@─────────────────────────@──────────────────────H───X───Rz(θ_51)───X───H──────────────────────────H───@──────────────@───H───\n",
       "                                                             │                         │                                                                            │              │                                                              │                         │                                                                            │              │                                                              │                         │                                                                            │              │\n",
       "(0, 4): ───Rz(θ_4)───Ry(θ_9)─────────────────────────────────X──────────────Rz(θ_13)───X────────────────────────────────────────────────────────────────────────H───X───Rz(θ_17)───X───H──────────Rz(θ_22)───Ry(θ_27)─────────────────────────────X──────────────Rz(θ_31)───X────────────────────────────────────────────────────────────────────────H───X───Rz(θ_35)───X───H──────────Rz(θ_40)───Ry(θ_45)─────────────────────────────X──────────────Rz(θ_49)───X────────────────────────────────────────────────────────────────────────H───X───Rz(θ_53)───X───H───"
      ]
     },
     "execution_count": 14,
     "metadata": {},
     "output_type": "execute_result"
    }
   ],
   "source": [
    "discriminator_circuit"
   ]
  },
  {
   "cell_type": "markdown",
   "id": "matched-birth",
   "metadata": {},
   "source": [
    "### Create the QGAN model\n",
    "\n",
    "- Here the hyperparameters are kind of arbitrarily chosen. I just play with a few and pick one that looks good to me. I will do tuning later in this notebook\n",
    "\n",
    "- For sake of demonstration, 100 epoch should be enough. In most cases, the generator and discrminator starts to ready out at 100 epochs (for this particular construction)."
   ]
  },
  {
   "cell_type": "code",
   "execution_count": 15,
   "id": "studied-blind",
   "metadata": {},
   "outputs": [
    {
     "name": "stdout",
     "output_type": "stream",
     "text": [
      "Summary of Generator\n",
      "Model: \"sequential\"\n",
      "_________________________________________________________________\n",
      "Layer (type)                 Output Shape              Param #   \n",
      "=================================================================\n",
      "pqc (PQC)                    (None, 5)                 70        \n",
      "_________________________________________________________________\n",
      "dense (Dense)                (None, 5)                 30        \n",
      "=================================================================\n",
      "Total params: 100\n",
      "Trainable params: 100\n",
      "Non-trainable params: 0\n",
      "_________________________________________________________________\n",
      "Summary of Discriminator\n",
      "Model: \"sequential_1\"\n",
      "_________________________________________________________________\n",
      "Layer (type)                 Output Shape              Param #   \n",
      "=================================================================\n",
      "pqc_1 (PQC)                  (None, 1)                 54        \n",
      "_________________________________________________________________\n",
      "dense_1 (Dense)              (None, 1)                 2         \n",
      "=================================================================\n",
      "Total params: 56\n",
      "Trainable params: 56\n",
      "Non-trainable params: 0\n",
      "_________________________________________________________________\n"
     ]
    }
   ],
   "source": [
    "qgan = QGAN(generator_circuit, discriminator_circuit, encoding_circuit=encoding_circuit,\n",
    "              epochs=100, d_lr=7e-3, g_lr=1e-3, g_activation='tanh', d_activation='linear',\n",
    "              random_state=2)"
   ]
  },
  {
   "cell_type": "markdown",
   "id": "downtown-necessity",
   "metadata": {},
   "source": [
    "### Start the training\n",
    "\n",
    "- Here we **only train on the signal samples** so that the discriminator tries to discrminate between samples that are signals and samples that are not (**not necessarily the background**)\n",
    "\n",
    "- We can't train with dataset with both signal and background because then the discriminator will just learn the joint distribution of the two which is not good for classification.\n",
    "\n",
    "- One can also choose to train on background samples. Given the small sample size, choosing either one won't matter much"
   ]
  },
  {
   "cell_type": "code",
   "execution_count": 16,
   "id": "legal-religion",
   "metadata": {},
   "outputs": [
    {
     "data": {
      "image/png": "[encoded data removed]",
      "text/plain": [
       "<Figure size 1152x648 with 1 Axes>"
      ]
     },
     "metadata": {
      "needs_background": "light"
     },
     "output_type": "display_data"
    }
   ],
   "source": [
    "qgan.train(x_train_sig)"
   ]
  },
  {
   "cell_type": "markdown",
   "id": "certified-apartment",
   "metadata": {},
   "source": [
    "### Comments on the loss curve\n",
    "\n",
    "- We can see that the **generator loss increases with time** whereas the **discrminator curve decreases with time**. This is an indication that **generator is not performing well** at fooling the discriminator\n",
    "\n",
    "- One possible reasons is that due to the inherent **discontinuity of the underlying distribuions** for certain features, it is hard for generator to learn it with a Gaussian noise input (which should give an output distribution that is somewhat continuous but morphed to some different shape). Another reason may be there is just **too few samples** and the generator needs more samples to tune its weight to morph the Gaussian noise input to a reasonable distribution that looks like the real one. Yet another reason maybe **due to the choice of PQCs** used but so far for all the circuits that I have tested, the same trend is observed"
   ]
  },
  {
   "cell_type": "markdown",
   "id": "natural-market",
   "metadata": {},
   "source": [
    "### Model Testing\n",
    "\n",
    "Here we use the **ROC AUC score and the ROC curve** on the **test dataset** to evaluate the performance of the QGAN model\n",
    "\n",
    "Note that we use the test dataset that contains both signal and background but the model is trained with signal events only. This means that the model does not have knowledge about the background. Therefore if the background events have distribution similar to the signal the performance will inherently be bad."
   ]
  },
  {
   "cell_type": "code",
   "execution_count": 17,
   "id": "bizarre-training",
   "metadata": {},
   "outputs": [
    {
     "data": {
      "text/plain": [
       "<module 'matplotlib.pyplot' from '/afs/cern.ch/work/c/chlcheng/public/local/conda/miniconda/envs/ml-base/lib/python3.7/site-packages/matplotlib/pyplot.py'>"
      ]
     },
     "execution_count": 17,
     "metadata": {},
     "output_type": "execute_result"
    },
    {
     "data": {
      "image/png": "[encoded data removed]",
      "text/plain": [
       "<Figure size 432x288 with 1 Axes>"
      ]
     },
     "metadata": {
      "needs_background": "light"
     },
     "output_type": "display_data"
    }
   ],
   "source": [
    "qgan.test(x_test, y_test)"
   ]
  },
  {
   "cell_type": "markdown",
   "id": "standard-mechanism",
   "metadata": {},
   "source": [
    "So we see that with the particular quantum data encoder, generator and discriminator circuits used and with the specific hyperparmeters, we got a **test auc of roughly 0.6244**."
   ]
  },
  {
   "cell_type": "markdown",
   "id": "smaller-summary",
   "metadata": {},
   "source": [
    "# Hyperparameter Tuning\n",
    "\n",
    "After some trial and error, I figured the most important factor affecting the model performance is the **quantum circuits used and the learning rate** of both generator and discriminator. \n",
    "\n",
    "The choice of quantum data encoding circuit and PQCs for the generator and discriminator is still a hot research topic and there is no general consensus on what is best to use. So all we can do is to randomly construct some circuits of our choice. Preferrably the circuits should have at least one entanglement (i.e. two-qubit operators) layer so that the qubits can spread in a higher dimensional Hilbert space and make the model more complex.\n",
    "\n",
    "For simpliity, a **grid search** will be used for hyperparameter tuning"
   ]
  },
  {
   "cell_type": "code",
   "execution_count": 18,
   "id": "stainless-roots",
   "metadata": {},
   "outputs": [],
   "source": [
    "# we first tune learning rate (just simple search space for sake of demonstration)\n",
    "search_space = {\n",
    "    'g_lr': [1e-2, 5e-3, 1e-3],\n",
    "    'd_lr': [1e-2, 5e-3, 1e-3]\n",
    "}"
   ]
  },
  {
   "cell_type": "code",
   "execution_count": 19,
   "id": "photographic-novelty",
   "metadata": {},
   "outputs": [
    {
     "data": {
      "text/plain": [
       "[{'g_lr': 0.001, 'd_lr': 0.01},\n",
       " {'g_lr': 0.005, 'd_lr': 0.005},\n",
       " {'g_lr': 0.005, 'd_lr': 0.01},\n",
       " {'g_lr': 0.01, 'd_lr': 0.01},\n",
       " {'g_lr': 0.001, 'd_lr': 0.005},\n",
       " {'g_lr': 0.01, 'd_lr': 0.001},\n",
       " {'g_lr': 0.001, 'd_lr': 0.001},\n",
       " {'g_lr': 0.01, 'd_lr': 0.005},\n",
       " {'g_lr': 0.005, 'd_lr': 0.001}]"
      ]
     },
     "execution_count": 19,
     "metadata": {},
     "output_type": "execute_result"
    }
   ],
   "source": [
    "import itertools\n",
    "categorical_combinations = [search_space[hp] for hp in search_space]\n",
    "search_points = list(set(itertools.product(*categorical_combinations)))\n",
    "search_points = [{hp:value for hp,value in zip(search_space.keys(), point)} for point in search_points]\n",
    "search_points"
   ]
  },
  {
   "cell_type": "code",
   "execution_count": 20,
   "id": "taken-worker",
   "metadata": {},
   "outputs": [
    {
     "name": "stdout",
     "output_type": "stream",
     "text": [
      "INFO: Training QGAN with the hyperparameters: {'g_lr': 0.001, 'd_lr': 0.01}\n",
      "Summary of Generator\n",
      "Model: \"sequential_2\"\n",
      "_________________________________________________________________\n",
      "Layer (type)                 Output Shape              Param #   \n",
      "=================================================================\n",
      "pqc_2 (PQC)                  (None, 5)                 70        \n",
      "_________________________________________________________________\n",
      "dense_2 (Dense)              (None, 5)                 30        \n",
      "=================================================================\n",
      "Total params: 100\n",
      "Trainable params: 100\n",
      "Non-trainable params: 0\n",
      "_________________________________________________________________\n",
      "Summary of Discriminator\n",
      "Model: \"sequential_3\"\n",
      "_________________________________________________________________\n",
      "Layer (type)                 Output Shape              Param #   \n",
      "=================================================================\n",
      "pqc_3 (PQC)                  (None, 1)                 54        \n",
      "_________________________________________________________________\n",
      "dense_3 (Dense)              (None, 1)                 2         \n",
      "=================================================================\n",
      "Total params: 56\n",
      "Trainable params: 56\n",
      "Non-trainable params: 0\n",
      "_________________________________________________________________\n",
      "INFO: Test AUC = 0.6276\n",
      "INFO: Training QGAN with the hyperparameters: {'g_lr': 0.005, 'd_lr': 0.005}\n",
      "Summary of Generator\n",
      "Model: \"sequential_4\"\n",
      "_________________________________________________________________\n",
      "Layer (type)                 Output Shape              Param #   \n",
      "=================================================================\n",
      "pqc_4 (PQC)                  (None, 5)                 70        \n",
      "_________________________________________________________________\n",
      "dense_4 (Dense)              (None, 5)                 30        \n",
      "=================================================================\n",
      "Total params: 100\n",
      "Trainable params: 100\n",
      "Non-trainable params: 0\n",
      "_________________________________________________________________\n",
      "Summary of Discriminator\n",
      "Model: \"sequential_5\"\n",
      "_________________________________________________________________\n",
      "Layer (type)                 Output Shape              Param #   \n",
      "=================================================================\n",
      "pqc_5 (PQC)                  (None, 1)                 54        \n",
      "_________________________________________________________________\n",
      "dense_5 (Dense)              (None, 1)                 2         \n",
      "=================================================================\n",
      "Total params: 56\n",
      "Trainable params: 56\n",
      "Non-trainable params: 0\n",
      "_________________________________________________________________\n",
      "INFO: Test AUC = 0.6952\n",
      "INFO: Training QGAN with the hyperparameters: {'g_lr': 0.005, 'd_lr': 0.01}\n",
      "Summary of Generator\n",
      "Model: \"sequential_6\"\n",
      "_________________________________________________________________\n",
      "Layer (type)                 Output Shape              Param #   \n",
      "=================================================================\n",
      "pqc_6 (PQC)                  (None, 5)                 70        \n",
      "_________________________________________________________________\n",
      "dense_6 (Dense)              (None, 5)                 30        \n",
      "=================================================================\n",
      "Total params: 100\n",
      "Trainable params: 100\n",
      "Non-trainable params: 0\n",
      "_________________________________________________________________\n",
      "Summary of Discriminator\n",
      "Model: \"sequential_7\"\n",
      "_________________________________________________________________\n",
      "Layer (type)                 Output Shape              Param #   \n",
      "=================================================================\n",
      "pqc_7 (PQC)                  (None, 1)                 54        \n",
      "_________________________________________________________________\n",
      "dense_7 (Dense)              (None, 1)                 2         \n",
      "=================================================================\n",
      "Total params: 56\n",
      "Trainable params: 56\n",
      "Non-trainable params: 0\n",
      "_________________________________________________________________\n",
      "INFO: Test AUC = 0.7268\n",
      "INFO: Training QGAN with the hyperparameters: {'g_lr': 0.01, 'd_lr': 0.01}\n",
      "Summary of Generator\n",
      "Model: \"sequential_8\"\n",
      "_________________________________________________________________\n",
      "Layer (type)                 Output Shape              Param #   \n",
      "=================================================================\n",
      "pqc_8 (PQC)                  (None, 5)                 70        \n",
      "_________________________________________________________________\n",
      "dense_8 (Dense)              (None, 5)                 30        \n",
      "=================================================================\n",
      "Total params: 100\n",
      "Trainable params: 100\n",
      "Non-trainable params: 0\n",
      "_________________________________________________________________\n",
      "Summary of Discriminator\n",
      "Model: \"sequential_9\"\n",
      "_________________________________________________________________\n",
      "Layer (type)                 Output Shape              Param #   \n",
      "=================================================================\n",
      "pqc_9 (PQC)                  (None, 1)                 54        \n",
      "_________________________________________________________________\n",
      "dense_9 (Dense)              (None, 1)                 2         \n",
      "=================================================================\n",
      "Total params: 56\n",
      "Trainable params: 56\n",
      "Non-trainable params: 0\n",
      "_________________________________________________________________\n",
      "INFO: Test AUC = 0.44120000000000004\n",
      "INFO: Training QGAN with the hyperparameters: {'g_lr': 0.001, 'd_lr': 0.005}\n",
      "Summary of Generator\n",
      "Model: \"sequential_10\"\n",
      "_________________________________________________________________\n",
      "Layer (type)                 Output Shape              Param #   \n",
      "=================================================================\n",
      "pqc_10 (PQC)                 (None, 5)                 70        \n",
      "_________________________________________________________________\n",
      "dense_10 (Dense)             (None, 5)                 30        \n",
      "=================================================================\n",
      "Total params: 100\n",
      "Trainable params: 100\n",
      "Non-trainable params: 0\n",
      "_________________________________________________________________\n",
      "Summary of Discriminator\n",
      "Model: \"sequential_11\"\n",
      "_________________________________________________________________\n",
      "Layer (type)                 Output Shape              Param #   \n",
      "=================================================================\n",
      "pqc_11 (PQC)                 (None, 1)                 54        \n",
      "_________________________________________________________________\n",
      "dense_11 (Dense)             (None, 1)                 2         \n",
      "=================================================================\n",
      "Total params: 56\n",
      "Trainable params: 56\n",
      "Non-trainable params: 0\n",
      "_________________________________________________________________\n",
      "INFO: Test AUC = 0.5384\n",
      "INFO: Training QGAN with the hyperparameters: {'g_lr': 0.01, 'd_lr': 0.001}\n",
      "Summary of Generator\n",
      "Model: \"sequential_12\"\n",
      "_________________________________________________________________\n",
      "Layer (type)                 Output Shape              Param #   \n",
      "=================================================================\n",
      "pqc_12 (PQC)                 (None, 5)                 70        \n",
      "_________________________________________________________________\n",
      "dense_12 (Dense)             (None, 5)                 30        \n",
      "=================================================================\n",
      "Total params: 100\n",
      "Trainable params: 100\n",
      "Non-trainable params: 0\n",
      "_________________________________________________________________\n",
      "Summary of Discriminator\n",
      "Model: \"sequential_13\"\n",
      "_________________________________________________________________\n",
      "Layer (type)                 Output Shape              Param #   \n",
      "=================================================================\n",
      "pqc_13 (PQC)                 (None, 1)                 54        \n",
      "_________________________________________________________________\n",
      "dense_13 (Dense)             (None, 1)                 2         \n",
      "=================================================================\n",
      "Total params: 56\n",
      "Trainable params: 56\n",
      "Non-trainable params: 0\n",
      "_________________________________________________________________\n"
     ]
    },
    {
     "name": "stdout",
     "output_type": "stream",
     "text": [
      "INFO: Test AUC = 0.7544000000000001\n",
      "INFO: Training QGAN with the hyperparameters: {'g_lr': 0.001, 'd_lr': 0.001}\n",
      "Summary of Generator\n",
      "Model: \"sequential_14\"\n",
      "_________________________________________________________________\n",
      "Layer (type)                 Output Shape              Param #   \n",
      "=================================================================\n",
      "pqc_14 (PQC)                 (None, 5)                 70        \n",
      "_________________________________________________________________\n",
      "dense_14 (Dense)             (None, 5)                 30        \n",
      "=================================================================\n",
      "Total params: 100\n",
      "Trainable params: 100\n",
      "Non-trainable params: 0\n",
      "_________________________________________________________________\n",
      "Summary of Discriminator\n",
      "Model: \"sequential_15\"\n",
      "_________________________________________________________________\n",
      "Layer (type)                 Output Shape              Param #   \n",
      "=================================================================\n",
      "pqc_15 (PQC)                 (None, 1)                 54        \n",
      "_________________________________________________________________\n",
      "dense_15 (Dense)             (None, 1)                 2         \n",
      "=================================================================\n",
      "Total params: 56\n",
      "Trainable params: 56\n",
      "Non-trainable params: 0\n",
      "_________________________________________________________________\n",
      "INFO: Test AUC = 0.6832\n",
      "INFO: Training QGAN with the hyperparameters: {'g_lr': 0.01, 'd_lr': 0.005}\n",
      "Summary of Generator\n",
      "Model: \"sequential_16\"\n",
      "_________________________________________________________________\n",
      "Layer (type)                 Output Shape              Param #   \n",
      "=================================================================\n",
      "pqc_16 (PQC)                 (None, 5)                 70        \n",
      "_________________________________________________________________\n",
      "dense_16 (Dense)             (None, 5)                 30        \n",
      "=================================================================\n",
      "Total params: 100\n",
      "Trainable params: 100\n",
      "Non-trainable params: 0\n",
      "_________________________________________________________________\n",
      "Summary of Discriminator\n",
      "Model: \"sequential_17\"\n",
      "_________________________________________________________________\n",
      "Layer (type)                 Output Shape              Param #   \n",
      "=================================================================\n",
      "pqc_17 (PQC)                 (None, 1)                 54        \n",
      "_________________________________________________________________\n",
      "dense_17 (Dense)             (None, 1)                 2         \n",
      "=================================================================\n",
      "Total params: 56\n",
      "Trainable params: 56\n",
      "Non-trainable params: 0\n",
      "_________________________________________________________________\n",
      "INFO: Test AUC = 0.532\n",
      "INFO: Training QGAN with the hyperparameters: {'g_lr': 0.005, 'd_lr': 0.001}\n",
      "Summary of Generator\n",
      "Model: \"sequential_18\"\n",
      "_________________________________________________________________\n",
      "Layer (type)                 Output Shape              Param #   \n",
      "=================================================================\n",
      "pqc_18 (PQC)                 (None, 5)                 70        \n",
      "_________________________________________________________________\n",
      "dense_18 (Dense)             (None, 5)                 30        \n",
      "=================================================================\n",
      "Total params: 100\n",
      "Trainable params: 100\n",
      "Non-trainable params: 0\n",
      "_________________________________________________________________\n",
      "Summary of Discriminator\n",
      "Model: \"sequential_19\"\n",
      "_________________________________________________________________\n",
      "Layer (type)                 Output Shape              Param #   \n",
      "=================================================================\n",
      "pqc_19 (PQC)                 (None, 1)                 54        \n",
      "_________________________________________________________________\n",
      "dense_19 (Dense)             (None, 1)                 2         \n",
      "=================================================================\n",
      "Total params: 56\n",
      "Trainable params: 56\n",
      "Non-trainable params: 0\n",
      "_________________________________________________________________\n",
      "INFO: Test AUC = 0.5604\n"
     ]
    },
    {
     "data": {
      "text/plain": [
       "<Figure size 1152x648 with 0 Axes>"
      ]
     },
     "metadata": {},
     "output_type": "display_data"
    },
    {
     "data": {
      "text/plain": [
       "<Figure size 1152x648 with 0 Axes>"
      ]
     },
     "metadata": {},
     "output_type": "display_data"
    },
    {
     "data": {
      "text/plain": [
       "<Figure size 1152x648 with 0 Axes>"
      ]
     },
     "metadata": {},
     "output_type": "display_data"
    },
    {
     "data": {
      "text/plain": [
       "<Figure size 1152x648 with 0 Axes>"
      ]
     },
     "metadata": {},
     "output_type": "display_data"
    },
    {
     "data": {
      "text/plain": [
       "<Figure size 1152x648 with 0 Axes>"
      ]
     },
     "metadata": {},
     "output_type": "display_data"
    },
    {
     "data": {
      "text/plain": [
       "<Figure size 1152x648 with 0 Axes>"
      ]
     },
     "metadata": {},
     "output_type": "display_data"
    },
    {
     "data": {
      "text/plain": [
       "<Figure size 1152x648 with 0 Axes>"
      ]
     },
     "metadata": {},
     "output_type": "display_data"
    },
    {
     "data": {
      "text/plain": [
       "<Figure size 1152x648 with 0 Axes>"
      ]
     },
     "metadata": {},
     "output_type": "display_data"
    },
    {
     "data": {
      "text/plain": [
       "<Figure size 1152x648 with 0 Axes>"
      ]
     },
     "metadata": {},
     "output_type": "display_data"
    }
   ],
   "source": [
    "result = []\n",
    "models = []\n",
    "for point in search_points:\n",
    "    print('INFO: Training QGAN with the hyperparameters: {}'.format(point))\n",
    "    model = QGAN(generator_circuit, discriminator_circuit, encoding_circuit=encoding_circuit,\n",
    "              epochs=100, g_activation='tanh', d_activation='linear',\n",
    "              random_state=2, **point)\n",
    "    model.train(x_train_sig, interactive_display=False)\n",
    "    roc_auc = model.test(x_test, y_test, plot=False)\n",
    "    print('INFO: Test AUC = {}'.format(roc_auc))\n",
    "    result.append(roc_auc)\n",
    "    models.append(model)"
   ]
  },
  {
   "cell_type": "code",
   "execution_count": 21,
   "id": "entitled-spread",
   "metadata": {},
   "outputs": [
    {
     "name": "stdout",
     "output_type": "stream",
     "text": [
      "The best lr combination so far is:\n",
      "{'g_lr': 0.01, 'd_lr': 0.001}\n",
      "With test auc = 0.7544000000000001\n"
     ]
    }
   ],
   "source": [
    "result = np.array(result)\n",
    "best_config_lr = search_points[np.argmax(result)]\n",
    "print('The best lr combination so far is:')\n",
    "print(best_config_lr)\n",
    "print('With test auc = {}'.format(np.max(result)))"
   ]
  },
  {
   "cell_type": "code",
   "execution_count": 22,
   "id": "insured-ivory",
   "metadata": {},
   "outputs": [
    {
     "data": {
      "text/plain": [
       "<module 'matplotlib.pyplot' from '/afs/cern.ch/work/c/chlcheng/public/local/conda/miniconda/envs/ml-base/lib/python3.7/site-packages/matplotlib/pyplot.py'>"
      ]
     },
     "execution_count": 22,
     "metadata": {},
     "output_type": "execute_result"
    },
    {
     "data": {
      "image/png": "[encoded data removed]",
      "text/plain": [
       "<Figure size 432x288 with 1 Axes>"
      ]
     },
     "metadata": {
      "needs_background": "light"
     },
     "output_type": "display_data"
    }
   ],
   "source": [
    "models[np.argmax(result)].test(x_test, y_test)"
   ]
  },
  {
   "cell_type": "code",
   "execution_count": 23,
   "id": "contemporary-cabinet",
   "metadata": {},
   "outputs": [],
   "source": [
    "# we then tune quantum circuit\n",
    "# for data encoding circuit, maybe try different entanglement, i.e. full entanglement and linear \n",
    "from quple.circuits.variational_circuits import IsingCoupling, EfficientSU2\n",
    "encodirng_cq_1 = ParameterisedCircuit(n_qubit, copies=2,\n",
    "                                    rotation_blocks=['H', 'RZ', 'RY'],\n",
    "                                    entanglement_blocks=['CX'],\n",
    "                                    parameter_symbol='x',\n",
    "                                    reuse_param_per_layer=True,\n",
    "                                    entangle_strategy='alternate_linear',\n",
    "                                    name='encodirng_cq_1')\n",
    "encodirng_cq_2 = ParameterisedCircuit(n_qubit, copies=2,\n",
    "                                    rotation_blocks=['H', 'RZ', 'RY'],\n",
    "                                    entanglement_blocks=['CX'],\n",
    "                                    parameter_symbol='x',\n",
    "                                    reuse_param_per_layer=True,\n",
    "                                    entangle_strategy='alternate_linear',\n",
    "                                    name='encodirng_cq_2')\n",
    "# just some random choice for generator and discriminator with enough complexity\n",
    "generator_cq_1 = IsingCoupling(n_qubit=n_qubit, copies=3, entangle_strategy='full', name='generator_cq_1')\n",
    "generator_cq_2 = EfficientSU2(n_qubit=n_qubit, copies=4, entangle_strategy='full', name='generator_cq_2')\n",
    "\n",
    "discrminator_cq_1 = ParameterisedCircuit(n_qubit=n_qubit, copies=3,\n",
    "                                         rotation_blocks=['RZ', 'RY'],\n",
    "                                         entanglement_blocks = [PauliBlock('ZZ'), PauliBlock('XX')],\n",
    "                                         entangle_strategy='alternate_linear',\n",
    "                                         name='discrminator_cq_1')\n",
    "discrminator_cq_2 = ParameterisedCircuit(n_qubit=n_qubit, copies=3,\n",
    "                                         rotation_blocks=['RZ'],\n",
    "                                         entanglement_blocks = [PauliBlock('ZZ'), PauliBlock('ZZZ')],\n",
    "                                         entangle_strategy='linear',\n",
    "                                         name='discrminator_cq_2')\n",
    "search_space_circuit = {\n",
    "    'encoding_circuit': [encodirng_cq_1, encodirng_cq_2],\n",
    "    'generator_circuit': [generator_cq_1, generator_cq_2],\n",
    "    'discriminator_circuit': [discrminator_cq_1, discrminator_cq_2]\n",
    "}"
   ]
  },
  {
   "cell_type": "code",
   "execution_count": 24,
   "id": "fantastic-spirituality",
   "metadata": {},
   "outputs": [
    {
     "data": {
      "text/plain": [
       "[{'encoding_circuit': 'encodirng_cq_1',\n",
       "  'generator_circuit': 'generator_cq_1',\n",
       "  'discriminator_circuit': 'discrminator_cq_1'},\n",
       " {'encoding_circuit': 'encodirng_cq_1',\n",
       "  'generator_circuit': 'generator_cq_1',\n",
       "  'discriminator_circuit': 'discrminator_cq_2'},\n",
       " {'encoding_circuit': 'encodirng_cq_1',\n",
       "  'generator_circuit': 'generator_cq_2',\n",
       "  'discriminator_circuit': 'discrminator_cq_1'},\n",
       " {'encoding_circuit': 'encodirng_cq_1',\n",
       "  'generator_circuit': 'generator_cq_2',\n",
       "  'discriminator_circuit': 'discrminator_cq_2'},\n",
       " {'encoding_circuit': 'encodirng_cq_2',\n",
       "  'generator_circuit': 'generator_cq_1',\n",
       "  'discriminator_circuit': 'discrminator_cq_1'},\n",
       " {'encoding_circuit': 'encodirng_cq_2',\n",
       "  'generator_circuit': 'generator_cq_1',\n",
       "  'discriminator_circuit': 'discrminator_cq_2'},\n",
       " {'encoding_circuit': 'encodirng_cq_2',\n",
       "  'generator_circuit': 'generator_cq_2',\n",
       "  'discriminator_circuit': 'discrminator_cq_1'},\n",
       " {'encoding_circuit': 'encodirng_cq_2',\n",
       "  'generator_circuit': 'generator_cq_2',\n",
       "  'discriminator_circuit': 'discrminator_cq_2'}]"
      ]
     },
     "execution_count": 24,
     "metadata": {},
     "output_type": "execute_result"
    }
   ],
   "source": [
    "categorical_combinations = [search_space_circuit[hp] for hp in search_space_circuit]\n",
    "points = list(itertools.product(*categorical_combinations))\n",
    "search_points_circuit = [{hp:value for hp,value in zip(search_space_circuit.keys(), point)} for point in points]\n",
    "#the __str__ of cirq circuit will print the circuit structure by default so should print quple.QuantumCircuit.name instead\n",
    "search_points_str = [{hp:value.name for hp,value in zip(search_space_circuit.keys(), point)} for point in points]\n",
    "#print out the list of search points\n",
    "search_points_str"
   ]
  },
  {
   "cell_type": "code",
   "execution_count": 25,
   "id": "plain-administration",
   "metadata": {},
   "outputs": [
    {
     "name": "stdout",
     "output_type": "stream",
     "text": [
      "INFO: Training QDCGAN with the hyperparameters: {'encoding_circuit': 'encodirng_cq_1', 'generator_circuit': 'generator_cq_1', 'discriminator_circuit': 'discrminator_cq_1'}\n",
      "Summary of Generator\n",
      "Model: \"sequential_20\"\n",
      "_________________________________________________________________\n",
      "Layer (type)                 Output Shape              Param #   \n",
      "=================================================================\n",
      "pqc_20 (PQC)                 (None, 5)                 70        \n",
      "_________________________________________________________________\n",
      "dense_20 (Dense)             (None, 5)                 30        \n",
      "=================================================================\n",
      "Total params: 100\n",
      "Trainable params: 100\n",
      "Non-trainable params: 0\n",
      "_________________________________________________________________\n",
      "Summary of Discriminator\n",
      "Model: \"sequential_21\"\n",
      "_________________________________________________________________\n",
      "Layer (type)                 Output Shape              Param #   \n",
      "=================================================================\n",
      "pqc_21 (PQC)                 (None, 1)                 54        \n",
      "_________________________________________________________________\n",
      "dense_21 (Dense)             (None, 1)                 2         \n",
      "=================================================================\n",
      "Total params: 56\n",
      "Trainable params: 56\n",
      "Non-trainable params: 0\n",
      "_________________________________________________________________\n",
      "INFO: Test AUC = 0.7544000000000001\n",
      "INFO: Training QDCGAN with the hyperparameters: {'encoding_circuit': 'encodirng_cq_1', 'generator_circuit': 'generator_cq_1', 'discriminator_circuit': 'discrminator_cq_2'}\n",
      "Summary of Generator\n",
      "Model: \"sequential_22\"\n",
      "_________________________________________________________________\n",
      "Layer (type)                 Output Shape              Param #   \n",
      "=================================================================\n",
      "pqc_22 (PQC)                 (None, 5)                 70        \n",
      "_________________________________________________________________\n",
      "dense_22 (Dense)             (None, 5)                 30        \n",
      "=================================================================\n",
      "Total params: 100\n",
      "Trainable params: 100\n",
      "Non-trainable params: 0\n",
      "_________________________________________________________________\n",
      "Summary of Discriminator\n",
      "Model: \"sequential_23\"\n",
      "_________________________________________________________________\n",
      "Layer (type)                 Output Shape              Param #   \n",
      "=================================================================\n",
      "pqc_23 (PQC)                 (None, 1)                 36        \n",
      "_________________________________________________________________\n",
      "dense_23 (Dense)             (None, 1)                 2         \n",
      "=================================================================\n",
      "Total params: 38\n",
      "Trainable params: 38\n",
      "Non-trainable params: 0\n",
      "_________________________________________________________________\n",
      "INFO: Test AUC = 0.47600000000000003\n",
      "INFO: Training QDCGAN with the hyperparameters: {'encoding_circuit': 'encodirng_cq_1', 'generator_circuit': 'generator_cq_2', 'discriminator_circuit': 'discrminator_cq_1'}\n",
      "Summary of Generator\n",
      "Model: \"sequential_24\"\n",
      "_________________________________________________________________\n",
      "Layer (type)                 Output Shape              Param #   \n",
      "=================================================================\n",
      "pqc_24 (PQC)                 (None, 5)                 50        \n",
      "_________________________________________________________________\n",
      "dense_24 (Dense)             (None, 5)                 30        \n",
      "=================================================================\n",
      "Total params: 80\n",
      "Trainable params: 80\n",
      "Non-trainable params: 0\n",
      "_________________________________________________________________\n",
      "Summary of Discriminator\n",
      "Model: \"sequential_25\"\n",
      "_________________________________________________________________\n",
      "Layer (type)                 Output Shape              Param #   \n",
      "=================================================================\n",
      "pqc_25 (PQC)                 (None, 1)                 54        \n",
      "_________________________________________________________________\n",
      "dense_25 (Dense)             (None, 1)                 2         \n",
      "=================================================================\n",
      "Total params: 56\n",
      "Trainable params: 56\n",
      "Non-trainable params: 0\n",
      "_________________________________________________________________\n",
      "INFO: Test AUC = 0.752\n",
      "INFO: Training QDCGAN with the hyperparameters: {'encoding_circuit': 'encodirng_cq_1', 'generator_circuit': 'generator_cq_2', 'discriminator_circuit': 'discrminator_cq_2'}\n",
      "Summary of Generator\n",
      "Model: \"sequential_26\"\n",
      "_________________________________________________________________\n",
      "Layer (type)                 Output Shape              Param #   \n",
      "=================================================================\n",
      "pqc_26 (PQC)                 (None, 5)                 50        \n",
      "_________________________________________________________________\n",
      "dense_26 (Dense)             (None, 5)                 30        \n",
      "=================================================================\n",
      "Total params: 80\n",
      "Trainable params: 80\n",
      "Non-trainable params: 0\n",
      "_________________________________________________________________\n",
      "Summary of Discriminator\n",
      "Model: \"sequential_27\"\n",
      "_________________________________________________________________\n",
      "Layer (type)                 Output Shape              Param #   \n",
      "=================================================================\n",
      "pqc_27 (PQC)                 (None, 1)                 36        \n",
      "_________________________________________________________________\n",
      "dense_27 (Dense)             (None, 1)                 2         \n",
      "=================================================================\n",
      "Total params: 38\n",
      "Trainable params: 38\n",
      "Non-trainable params: 0\n",
      "_________________________________________________________________\n",
      "INFO: Test AUC = 0.47600000000000003\n",
      "INFO: Training QDCGAN with the hyperparameters: {'encoding_circuit': 'encodirng_cq_2', 'generator_circuit': 'generator_cq_1', 'discriminator_circuit': 'discrminator_cq_1'}\n",
      "Summary of Generator\n",
      "Model: \"sequential_28\"\n",
      "_________________________________________________________________\n",
      "Layer (type)                 Output Shape              Param #   \n",
      "=================================================================\n",
      "pqc_28 (PQC)                 (None, 5)                 70        \n",
      "_________________________________________________________________\n",
      "dense_28 (Dense)             (None, 5)                 30        \n",
      "=================================================================\n",
      "Total params: 100\n",
      "Trainable params: 100\n",
      "Non-trainable params: 0\n",
      "_________________________________________________________________\n",
      "Summary of Discriminator\n",
      "Model: \"sequential_29\"\n",
      "_________________________________________________________________\n",
      "Layer (type)                 Output Shape              Param #   \n",
      "=================================================================\n",
      "pqc_29 (PQC)                 (None, 1)                 54        \n",
      "_________________________________________________________________\n",
      "dense_29 (Dense)             (None, 1)                 2         \n",
      "=================================================================\n",
      "Total params: 56\n",
      "Trainable params: 56\n",
      "Non-trainable params: 0\n",
      "_________________________________________________________________\n",
      "INFO: Test AUC = 0.7544000000000001\n",
      "INFO: Training QDCGAN with the hyperparameters: {'encoding_circuit': 'encodirng_cq_2', 'generator_circuit': 'generator_cq_1', 'discriminator_circuit': 'discrminator_cq_2'}\n",
      "Summary of Generator\n",
      "Model: \"sequential_30\"\n",
      "_________________________________________________________________\n",
      "Layer (type)                 Output Shape              Param #   \n",
      "=================================================================\n",
      "pqc_30 (PQC)                 (None, 5)                 70        \n",
      "_________________________________________________________________\n",
      "dense_30 (Dense)             (None, 5)                 30        \n",
      "=================================================================\n",
      "Total params: 100\n",
      "Trainable params: 100\n",
      "Non-trainable params: 0\n",
      "_________________________________________________________________\n",
      "Summary of Discriminator\n",
      "Model: \"sequential_31\"\n",
      "_________________________________________________________________\n",
      "Layer (type)                 Output Shape              Param #   \n",
      "=================================================================\n",
      "pqc_31 (PQC)                 (None, 1)                 36        \n",
      "_________________________________________________________________\n",
      "dense_31 (Dense)             (None, 1)                 2         \n",
      "=================================================================\n",
      "Total params: 38\n",
      "Trainable params: 38\n",
      "Non-trainable params: 0\n",
      "_________________________________________________________________\n"
     ]
    },
    {
     "name": "stdout",
     "output_type": "stream",
     "text": [
      "INFO: Test AUC = 0.47600000000000003\n",
      "INFO: Training QDCGAN with the hyperparameters: {'encoding_circuit': 'encodirng_cq_2', 'generator_circuit': 'generator_cq_2', 'discriminator_circuit': 'discrminator_cq_1'}\n",
      "Summary of Generator\n",
      "Model: \"sequential_32\"\n",
      "_________________________________________________________________\n",
      "Layer (type)                 Output Shape              Param #   \n",
      "=================================================================\n",
      "pqc_32 (PQC)                 (None, 5)                 50        \n",
      "_________________________________________________________________\n",
      "dense_32 (Dense)             (None, 5)                 30        \n",
      "=================================================================\n",
      "Total params: 80\n",
      "Trainable params: 80\n",
      "Non-trainable params: 0\n",
      "_________________________________________________________________\n",
      "Summary of Discriminator\n",
      "Model: \"sequential_33\"\n",
      "_________________________________________________________________\n",
      "Layer (type)                 Output Shape              Param #   \n",
      "=================================================================\n",
      "pqc_33 (PQC)                 (None, 1)                 54        \n",
      "_________________________________________________________________\n",
      "dense_33 (Dense)             (None, 1)                 2         \n",
      "=================================================================\n",
      "Total params: 56\n",
      "Trainable params: 56\n",
      "Non-trainable params: 0\n",
      "_________________________________________________________________\n",
      "INFO: Test AUC = 0.752\n",
      "INFO: Training QDCGAN with the hyperparameters: {'encoding_circuit': 'encodirng_cq_2', 'generator_circuit': 'generator_cq_2', 'discriminator_circuit': 'discrminator_cq_2'}\n",
      "Summary of Generator\n",
      "Model: \"sequential_34\"\n",
      "_________________________________________________________________\n",
      "Layer (type)                 Output Shape              Param #   \n",
      "=================================================================\n",
      "pqc_34 (PQC)                 (None, 5)                 50        \n",
      "_________________________________________________________________\n",
      "dense_34 (Dense)             (None, 5)                 30        \n",
      "=================================================================\n",
      "Total params: 80\n",
      "Trainable params: 80\n",
      "Non-trainable params: 0\n",
      "_________________________________________________________________\n",
      "Summary of Discriminator\n",
      "Model: \"sequential_35\"\n",
      "_________________________________________________________________\n",
      "Layer (type)                 Output Shape              Param #   \n",
      "=================================================================\n",
      "pqc_35 (PQC)                 (None, 1)                 36        \n",
      "_________________________________________________________________\n",
      "dense_35 (Dense)             (None, 1)                 2         \n",
      "=================================================================\n",
      "Total params: 38\n",
      "Trainable params: 38\n",
      "Non-trainable params: 0\n",
      "_________________________________________________________________\n",
      "INFO: Test AUC = 0.47600000000000003\n"
     ]
    },
    {
     "data": {
      "text/plain": [
       "<Figure size 1152x648 with 0 Axes>"
      ]
     },
     "metadata": {},
     "output_type": "display_data"
    },
    {
     "data": {
      "text/plain": [
       "<Figure size 1152x648 with 0 Axes>"
      ]
     },
     "metadata": {},
     "output_type": "display_data"
    },
    {
     "data": {
      "text/plain": [
       "<Figure size 1152x648 with 0 Axes>"
      ]
     },
     "metadata": {},
     "output_type": "display_data"
    },
    {
     "data": {
      "text/plain": [
       "<Figure size 1152x648 with 0 Axes>"
      ]
     },
     "metadata": {},
     "output_type": "display_data"
    },
    {
     "data": {
      "text/plain": [
       "<Figure size 1152x648 with 0 Axes>"
      ]
     },
     "metadata": {},
     "output_type": "display_data"
    },
    {
     "data": {
      "text/plain": [
       "<Figure size 1152x648 with 0 Axes>"
      ]
     },
     "metadata": {},
     "output_type": "display_data"
    },
    {
     "data": {
      "text/plain": [
       "<Figure size 1152x648 with 0 Axes>"
      ]
     },
     "metadata": {},
     "output_type": "display_data"
    },
    {
     "data": {
      "text/plain": [
       "<Figure size 1152x648 with 0 Axes>"
      ]
     },
     "metadata": {},
     "output_type": "display_data"
    }
   ],
   "source": [
    "result_cq = []\n",
    "models_cq = []\n",
    "for i, point in enumerate(search_points_circuit):\n",
    "    print('INFO: Training QDCGAN with the hyperparameters: {}'.format(search_points_str[i]))\n",
    "    model = QGAN(**point,\n",
    "              epochs=100, g_activation='tanh', d_activation='linear',\n",
    "              random_state=2, **best_config_lr)\n",
    "    model.train(x_train_sig, interactive_display=False)\n",
    "    roc_auc = model.test(x_test, y_test, plot=False)\n",
    "    print('INFO: Test AUC = {}'.format(roc_auc))\n",
    "    result_cq.append(roc_auc)\n",
    "    models_cq.append(model)"
   ]
  },
  {
   "cell_type": "code",
   "execution_count": 26,
   "id": "vocational-texas",
   "metadata": {},
   "outputs": [
    {
     "name": "stdout",
     "output_type": "stream",
     "text": [
      "The best circuit combination so far is:\n",
      "{'encoding_circuit': 'encodirng_cq_1', 'generator_circuit': 'generator_cq_1', 'discriminator_circuit': 'discrminator_cq_1'}\n",
      "With test auc = 0.7544000000000001\n"
     ]
    }
   ],
   "source": [
    "result_cq = np.array(result_cq)\n",
    "best_config_circuit = search_points_str[np.argmax(result_cq)]\n",
    "print('The best circuit combination so far is:')\n",
    "print(best_config_circuit)\n",
    "print('With test auc = {}'.format(np.max(result_cq)))"
   ]
  },
  {
   "cell_type": "code",
   "execution_count": 27,
   "id": "agricultural-property",
   "metadata": {},
   "outputs": [
    {
     "data": {
      "text/plain": [
       "<module 'matplotlib.pyplot' from '/afs/cern.ch/work/c/chlcheng/public/local/conda/miniconda/envs/ml-base/lib/python3.7/site-packages/matplotlib/pyplot.py'>"
      ]
     },
     "execution_count": 27,
     "metadata": {},
     "output_type": "execute_result"
    },
    {
     "data": {
      "image/png": "[encoded data removed]",
      "text/plain": [
       "<Figure size 432x288 with 1 Axes>"
      ]
     },
     "metadata": {
      "needs_background": "light"
     },
     "output_type": "display_data"
    }
   ],
   "source": [
    "models_cq[np.argmax(result_cq)].test(x_test, y_test)"
   ]
  },
  {
   "cell_type": "markdown",
   "id": "later-judges",
   "metadata": {},
   "source": [
    "## Quantum Wasserstein GAN (QWGAN)\n",
    "\n",
    "- Here we may also play with quantum version of other GAN model such as the **Wasserstein GAN**\n",
    "\n",
    "- It is mostly similar to the original GAN except **replacing the binary cross entropy loss by the Wasserstein distance** and introduce the **number of discriminator steps per generator step** concept\n",
    "\n",
    "- In an advanced version: WGAN-GP (GAN with gradient penalty). A **gradient pentaly** is added to the loss which helps in peroformance. However, as explained in the introduction, `tensorflow_quantum` currently **does not support 2nd order derivative** so it is implemented but not enabled in this notebook."
   ]
  },
  {
   "cell_type": "code",
   "execution_count": 29,
   "id": "expressed-absorption",
   "metadata": {},
   "outputs": [],
   "source": [
    "from typing import Union, Optional\n",
    "from functools import partial\n",
    "\n",
    "import cirq\n",
    "import numpy as np\n",
    "import tensorflow as tf\n",
    "from tensorflow.keras.models import Sequential\n",
    "import tensorflow_quantum as tfq\n",
    "from tqdm import tqdm\n",
    "\n",
    "import quple\n",
    "from quple.interface.tfq.layers.pqc import PQC\n",
    "\n",
    "class QWGAN(object):\n",
    "    \"\"\"Quantum Wasserstein Generative Adversarial Network (QWGAN)\n",
    "    \"\"\"    \n",
    "    def __init__(self, generator_circuit:\"cirq.Circuit\", discriminator_circuit:\"cirq.Circuit\",\n",
    "                 encoding_circuit:\"cirq.Circuit\",\n",
    "                 epochs:int=100, batch_size:int=10, n_critic:int=5, weight_gp:float=10, \n",
    "                 g_lr:float=1e-4, d_lr:float=1e-4, g_activation='tanh', \n",
    "                 d_activation=tf.keras.layers.LeakyReLU(alpha=0.01),\n",
    "                 #tf.keras.layers.LeakyReLU(alpha=0.01)\n",
    "                 g_readout=None,\n",
    "                 d_readout=None,                 \n",
    "                 differentiator:Optional[tfq.differentiators.Differentiator]=None,\n",
    "                 regularizer=None,\n",
    "                 repetitions=None,                 \n",
    "                 random_state:Optional[int]=None, \n",
    "                 name:str='QWGAN', *arg, **args):\n",
    "        \"\"\" Creates a QWGAN model equipped with a generator and a discriminator\n",
    "        Args:\n",
    "            generator: cirq.Circuit or quple.QuantumCircuit instace\n",
    "                A parameterised quantum circuit as a variational quantum generator (VQG)\n",
    "            discriminator: cirq.Circuit or quple.QuantumCircuit instace\n",
    "                A parameterised quantum circuit as a variational quantum discriminator (VQD)\n",
    "            encoding_circuit: cirq.Circuit or quple.QuantumCircuit instace\n",
    "                A parameterised quantum circuit for data encoding             \n",
    "            epochs: int, default=100\n",
    "                Number of epochs\n",
    "            batch_size: int, default=10\n",
    "                Batch size for training\n",
    "            n_critic: int, default=5\n",
    "                Number of critic (discriminator) iterations to run for every generator iteration\n",
    "            weight_gp: float, default=10\n",
    "                The weight of gradient penalty (i.e. lambda) to use\n",
    "            g_lr: float, default=1e-4\n",
    "                Learning rate for the Adam optimizer of the generator\n",
    "            d_lr: float, default=1e-4\n",
    "                Learning rate for the Adam optimizer of the discriminator\n",
    "            g_activation: str/callable, default='tanh'\n",
    "                Activation function for the output layer of generator\n",
    "            d_activation: str/callable, default=LeakyReLU\n",
    "                Activation function for the output layer of discriminator \n",
    "            g_readout: `cirq.PauliSum` or Python `list` of `cirq.PauliSum` objects, default=None\n",
    "                Measurement operators (observables) for the variational circuit layer of generator\n",
    "                If None, defaults to Pauli Z on all qubits\n",
    "            d_readout: `cirq.PauliSum` or Python `list` of `cirq.PauliSum` objects, default=None\n",
    "                Measurement operators (observables) for the variational circuit layer of generator                     \n",
    "                If None, defaults to Pauli Z on first qubit\n",
    "            differentiator: Optional `tfq.differentiator` object \n",
    "                To specify how gradients of variational circuit should be calculated.\n",
    "            regularizer: Optional `tf.keras.regularizer` object\n",
    "                Regularizer applied to the parameters of the variational circuit.\n",
    "            repetitions: int; default=None\n",
    "                Number of repetitions for measurement           \n",
    "            random_state: Optional int, default=None\n",
    "                The random state for reproducible result.\n",
    "            name: Optional str, default=\"QWGAN\"\n",
    "                Name given to the classifier.                \n",
    "        \"\"\"\n",
    "        # initialize hyperparameters first\n",
    "        self.epochs = epochs\n",
    "        self.batch_size = batch_size\n",
    "        self.n_critic = n_critic\n",
    "        self.weight_gp = weight_gp\n",
    "        self.g_lr = g_lr\n",
    "        self.d_lr = d_lr        \n",
    "        self.g_activation = g_activation\n",
    "        self.d_activation = d_activation\n",
    "        self.differentiator = differentiator\n",
    "        self.regularizer = regularizer\n",
    "        self.repetitions = repetitions\n",
    "        self.g_readout = g_readout\n",
    "        self.d_readout = d_readout\n",
    "        self.encoding_circuit = encoding_circuit\n",
    "        # latent dimension is the same as number of features (= number of qubits)\n",
    "        self.latent_dim = len(quple.get_circuit_qubits(encoding_circuit))\n",
    "        self.random_state = random_state\n",
    "        self.set_random_state(self.random_state)\n",
    "        # create generator and discriminator models from parameterized quantum circuit\n",
    "        self.G = self.create_generator(generator_circuit)\n",
    "        self.D = self.create_discriminator(discriminator_circuit)\n",
    "        # create optimizers\n",
    "        self.G_optimizer = tf.keras.optimizers.Adam(learning_rate=self.g_lr)\n",
    "        self.D_optimizer = tf.keras.optimizers.Adam(learning_rate=self.d_lr)\n",
    "        \n",
    "        self.name = name\n",
    "        \n",
    "        print('Summary of Generator')\n",
    "        self.G.summary()\n",
    "        \n",
    "        print('Summary of Discriminator')\n",
    "        self.D.summary()     \n",
    "        \n",
    "    @staticmethod\n",
    "    def set_random_state(random_state=None):\n",
    "        tf.random.set_seed(random_state)\n",
    "        np.random.seed(random_state)               \n",
    "        \n",
    "    def create_generator(self, quantum_circuit:\"cirq.Circuit\"):\n",
    "        generator = Sequential()\n",
    "        # input layer for feeding classical data\n",
    "        input_layer = tf.keras.layers.Input(shape=(self.latent_dim), dtype=tf.float32)\n",
    "        # variational layer \n",
    "        qubits = quple.get_circuit_qubits(quantum_circuit)\n",
    "        if not self.g_readout:\n",
    "            g_readout = [cirq.Z(qubit) for qubit in qubits]\n",
    "        else:\n",
    "            g_readout = self.g_readout\n",
    "        pqc_layer = PQC(quantum_circuit,\n",
    "                        self.encoding_circuit,\n",
    "                        g_readout,\n",
    "                        repetitions=self.repetitions,\n",
    "                        differentiator=self.differentiator,\n",
    "                        regularizer=self.regularizer)\n",
    "        # classical layer for processing quantum output\n",
    "        output_layer = tf.keras.layers.Dense(self.latent_dim, activation=self.g_activation)\n",
    "        \n",
    "        # create generator model\n",
    "        generator.add(input_layer)\n",
    "        generator.add(pqc_layer)\n",
    "        generator.add(output_layer)\n",
    "        return generator\n",
    "    \n",
    "    def create_discriminator(self, quantum_circuit:\"cirq.Circuit\"):\n",
    "        discriminator = Sequential()\n",
    "        # input layer for feeding classical data\n",
    "        input_layer = tf.keras.layers.Input(shape=(self.latent_dim), dtype=tf.float32)        \n",
    "        # variational layer \n",
    "        qubits = quple.get_circuit_qubits(quantum_circuit)\n",
    "        if not self.d_readout:\n",
    "            # by default measure PauliZ on first qubit\n",
    "            d_readout = [cirq.Z(qubits[0])]\n",
    "        else:\n",
    "            d_readout = self.d_readout    \n",
    "        pqc_layer = PQC(quantum_circuit,\n",
    "                        self.encoding_circuit,\n",
    "                        d_readout,\n",
    "                        repetitions=self.repetitions,\n",
    "                        differentiator=self.differentiator,\n",
    "                        regularizer=self.regularizer)\n",
    "        # classical layer for adding bias to the quantum output\n",
    "        output_layer = tf.keras.layers.Dense(1, activation=self.d_activation)\n",
    "        \n",
    "        # create generator model\n",
    "        discriminator.add(input_layer)\n",
    "        discriminator.add(pqc_layer)\n",
    "        discriminator.add(output_layer)\n",
    "        return discriminator\n",
    "    \n",
    "    def D_loss(self, real_output, fake_output):\n",
    "        \"\"\"Compute discriminator loss.\"\"\"\n",
    "        return tf.reduce_mean(fake_output) - tf.reduce_mean(real_output)\n",
    "\n",
    "    def G_loss(self, fake_output):\n",
    "        \"\"\"Compute generator loss.\"\"\"\n",
    "        return -tf.reduce_mean(fake_output)\n",
    "    \n",
    "    @tf.function \n",
    "    def G_step(self):\n",
    "        \"\"\"Perform one training step for generator\"\"\"\n",
    "        # using Gaussian noise with mean 0 and width 1 as generator input\n",
    "        noise = tf.random.normal((self.batch_size, self.latent_dim))\n",
    "        with tf.GradientTape() as t:\n",
    "            x_fake = self.G(noise, training=True)\n",
    "            fake_output = self.D(x_fake, training=True)\n",
    "            loss = self.G_loss(fake_output)\n",
    "        grad = t.gradient(loss, self.G.trainable_variables)\n",
    "        self.G_optimizer.apply_gradients(zip(grad, self.G.trainable_variables))\n",
    "        return loss\n",
    "    \n",
    "    @tf.function\n",
    "    def D_step(self, x_real):\n",
    "        \"\"\"Perform one training step for discriminator\"\"\"\n",
    "        x_real = tf.dtypes.cast(x_real, tf.float32)\n",
    "        # using Gaussian noise with mean 0 and width 1 as generator input\n",
    "        noise = tf.random.normal(x_real.shape, dtype=tf.float32)\n",
    "        with tf.GradientTape() as t:\n",
    "            x_fake = self.G(noise, training=True)\n",
    "            real_output = self.D(x_real, training=True)\n",
    "            fake_output = self.D(x_fake, training=True)\n",
    "            # compute Wasserstein loss: (x_fake - x_real) + gp_weight*gradient_term\n",
    "            cost = self.D_loss(real_output, fake_output)\n",
    "            # since tfq does not supoprt 2nd order derivative we can't evaluate\n",
    "            # cost with gradient penalty for the moment\n",
    "            #gp = self.gradient_penalty(partial(self.D, training=True), x_real, x_fake)\n",
    "            #cost = self.weight_gp * gp\n",
    "        grad = t.gradient(cost, self.D.trainable_variables)\n",
    "        self.D_optimizer.apply_gradients(zip(grad, self.D.trainable_variables))\n",
    "        return cost  \n",
    "\n",
    "    @tf.function\n",
    "    def gradient_penalty(self, f, x_real, x_fake):\n",
    "        alpha = tf.random.uniform([self.batch_size, 1], 0., 1.)\n",
    "        diff = x_fake - x_real\n",
    "        inter = x_real + (alpha * diff)\n",
    "        with tf.GradientTape() as t:\n",
    "            t.watch(inter)\n",
    "            pred = f(inter)\n",
    "        grad = t.gradient(pred, [inter])[0]\n",
    "        slopes = tf.sqrt(tf.reduce_sum(tf.square(grad), axis=1))\n",
    "        gp = tf.reduce_mean((slopes - 1.)**2)\n",
    "        return gp    \n",
    "    \n",
    "    @tf.function\n",
    "    def generate_samples(self, batch_size):\n",
    "        \"\"\"Generates sample using random inputs.\"\"\"\n",
    "        z = tf.random.normal((batch_size, self.latent_dim))\n",
    "        return self.G(z, training=False)  \n",
    "    \n",
    "    def predict(self, x):\n",
    "        return self.D(x, training=False) \n",
    "    \n",
    "    @staticmethod\n",
    "    def create_batches(x, batch_size, buffer_size=10000):\n",
    "        batches = tf.data.Dataset.from_tensor_slices(x).shuffle(buffer_size).batch(batch_size)\n",
    "        return batches\n",
    "    \n",
    "    def train(self, x, interactive_display=True):\n",
    "        self.set_random_state(self.random_state)\n",
    "        batches = self.create_batches(x, self.batch_size)\n",
    "        #sample_size = x.shape[0]\n",
    "        #z = tf.constant(tf.random.normal((sample_size, self.latent_dim)))\n",
    "        g_metric = tf.keras.metrics.Mean()\n",
    "        d_metric = tf.keras.metrics.Mean()\n",
    "        fig = plt.figure(figsize=(16,9))\n",
    "        g_loss_arr = []\n",
    "        d_loss_arr = []\n",
    "        epoch_arr = []\n",
    "        \n",
    "        for epoch in range(self.epochs):\n",
    "            for batch in batches:\n",
    "                for _ in range(self.n_critic):\n",
    "                    d_loss = self.D_step(batch)\n",
    "                    d_metric(d_loss)\n",
    "                g_loss = self.G_step()\n",
    "                g_metric(g_loss)\n",
    "                \n",
    "            g_loss_arr.append(g_metric.result())\n",
    "            d_loss_arr.append(d_metric.result())\n",
    "            epoch_arr.append(epoch)\n",
    "            \n",
    "            if interactive_display:\n",
    "                self.display_loss(g_loss_arr, d_loss_arr, epoch_arr)\n",
    "            g_metric.reset_states()\n",
    "            d_metric.reset_states()\n",
    "            \n",
    "        if not interactive_display:\n",
    "            return g_loss_arr, d_loss_arr\n",
    "            \n",
    "    def test(self, x, y, plot=True):\n",
    "        score = self.predict(x)\n",
    "        fpr, tpr, thresholds = roc_curve(y, score)\n",
    "        roc_auc = auc(fpr, tpr)\n",
    "        if plot:\n",
    "            return plot_roc_curve(fpr, tpr, 'QWGAN')\n",
    "        else:\n",
    "            return roc_auc\n",
    "        \n",
    "    def display_loss(self, g_loss, d_loss, epochs):\n",
    "        ax = plt.gca()\n",
    "        ax.set_xlim(0, 1.1*epochs[-1])\n",
    "        ax.cla()\n",
    "        ax.plot(epochs, g_loss, label=\"Generator\")\n",
    "        ax.plot(epochs, d_loss, label=\"Discriminator\")\n",
    "        ax.set_xlabel('Epoch', fontsize=20)\n",
    "        ax.set_ylabel('Wasserstein Loss', fontsize=20)\n",
    "        ax.grid(True)\n",
    "        ax.legend(fontsize=20)\n",
    "        display(plt.gcf())\n",
    "        clear_output(wait = True)    "
   ]
  },
  {
   "cell_type": "code",
   "execution_count": 30,
   "id": "micro-classics",
   "metadata": {},
   "outputs": [
    {
     "name": "stdout",
     "output_type": "stream",
     "text": [
      "Summary of Generator\n",
      "Model: \"sequential_36\"\n",
      "_________________________________________________________________\n",
      "Layer (type)                 Output Shape              Param #   \n",
      "=================================================================\n",
      "pqc_36 (PQC)                 (None, 5)                 70        \n",
      "_________________________________________________________________\n",
      "dense_36 (Dense)             (None, 5)                 30        \n",
      "=================================================================\n",
      "Total params: 100\n",
      "Trainable params: 100\n",
      "Non-trainable params: 0\n",
      "_________________________________________________________________\n",
      "Summary of Discriminator\n",
      "Model: \"sequential_37\"\n",
      "_________________________________________________________________\n",
      "Layer (type)                 Output Shape              Param #   \n",
      "=================================================================\n",
      "pqc_37 (PQC)                 (None, 1)                 54        \n",
      "_________________________________________________________________\n",
      "dense_37 (Dense)             (None, 1)                 2         \n",
      "=================================================================\n",
      "Total params: 56\n",
      "Trainable params: 56\n",
      "Non-trainable params: 0\n",
      "_________________________________________________________________\n"
     ]
    }
   ],
   "source": [
    "qwgan = QWGAN(generator_circuit, discriminator_circuit, encoding_circuit=encoding_circuit,\n",
    "              epochs=100, d_lr=1e-4, g_lr=1e-3, g_activation='tanh', d_activation='linear',\n",
    "              random_state=2)\n",
    "#tf.keras.layers.LeakyReLU(alpha=0.1)"
   ]
  },
  {
   "cell_type": "code",
   "execution_count": 31,
   "id": "precious-collins",
   "metadata": {},
   "outputs": [
    {
     "data": {
      "image/png": "[encoded data removed]",
      "text/plain": [
       "<Figure size 1152x648 with 1 Axes>"
      ]
     },
     "metadata": {
      "needs_background": "light"
     },
     "output_type": "display_data"
    }
   ],
   "source": [
    "qwgan.train(x_train_sig)"
   ]
  },
  {
   "cell_type": "code",
   "execution_count": 32,
   "id": "outstanding-perry",
   "metadata": {},
   "outputs": [
    {
     "data": {
      "text/plain": [
       "<module 'matplotlib.pyplot' from '/afs/cern.ch/work/c/chlcheng/public/local/conda/miniconda/envs/ml-base/lib/python3.7/site-packages/matplotlib/pyplot.py'>"
      ]
     },
     "execution_count": 32,
     "metadata": {},
     "output_type": "execute_result"
    },
    {
     "data": {
      "image/png": "[encoded data removed]",
      "text/plain": [
       "<Figure size 432x288 with 1 Axes>"
      ]
     },
     "metadata": {
      "needs_background": "light"
     },
     "output_type": "display_data"
    }
   ],
   "source": [
    "qwgan.test(x_test, y_test)"
   ]
  },
  {
   "cell_type": "markdown",
   "id": "crazy-hotel",
   "metadata": {},
   "source": [
    "### Comparison of generated samples and true samples"
   ]
  },
  {
   "cell_type": "code",
   "execution_count": 33,
   "id": "equipped-mention",
   "metadata": {},
   "outputs": [
    {
     "data": {
      "image/png": "[encoded data removed]",
      "text/plain": [
       "<Figure size 1440x720 with 5 Axes>"
      ]
     },
     "metadata": {
      "needs_background": "light"
     },
     "output_type": "display_data"
    }
   ],
   "source": [
    "samples = qwgan.generate_samples(batch_size=50).numpy()\n",
    "make_plots([x_train_sig, samples], ['true signal', 'fake signal'])"
   ]
  },
  {
   "cell_type": "markdown",
   "id": "beautiful-metro",
   "metadata": {},
   "source": [
    "Other things to investigate:\n",
    "\n",
    "- Use of different **differentiators** from `tensorflow_quantum`. For example the `tfq.differentiators.ParameterShift()` method which can potentially give good performance but with a faster execution time."
   ]
  }
 ],
 "metadata": {
  "kernelspec": {
   "display_name": "Python 3",
   "language": "python",
   "name": "python3"
  },
  "language_info": {
   "codemirror_mode": {
    "name": "ipython",
    "version": 3
   },
   "file_extension": ".py",
   "mimetype": "text/x-python",
   "name": "python",
   "nbconvert_exporter": "python",
   "pygments_lexer": "ipython3",
   "version": "3.7.10"
  }
 },
 "nbformat": 4,
 "nbformat_minor": 5
}
