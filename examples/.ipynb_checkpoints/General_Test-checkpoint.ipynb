{
 "cells": [
  {
   "cell_type": "code",
   "execution_count": 1,
   "metadata": {},
   "outputs": [],
   "source": [
    "import time"
   ]
  },
  {
   "cell_type": "markdown",
   "metadata": {},
   "source": [
    "## Sysinfo"
   ]
  },
  {
   "cell_type": "code",
   "execution_count": 2,
   "metadata": {},
   "outputs": [],
   "source": [
    "from quple.utils import sysinfo"
   ]
  },
  {
   "cell_type": "code",
   "execution_count": 2,
   "metadata": {},
   "outputs": [
    {
     "data": {
      "text/plain": [
       "12"
      ]
     },
     "execution_count": 2,
     "metadata": {},
     "output_type": "execute_result"
    }
   ],
   "source": [
    "sysinfo.get_cpu_count()"
   ]
  },
  {
   "cell_type": "code",
   "execution_count": 3,
   "metadata": {},
   "outputs": [
    {
     "data": {
      "text/plain": [
       "0"
      ]
     },
     "execution_count": 3,
     "metadata": {},
     "output_type": "execute_result"
    }
   ],
   "source": [
    "sysinfo.get_gpu_count()"
   ]
  },
  {
   "cell_type": "code",
   "execution_count": 3,
   "metadata": {},
   "outputs": [
    {
     "data": {
      "text/plain": [
       "62.6779899597168"
      ]
     },
     "execution_count": 3,
     "metadata": {},
     "output_type": "execute_result"
    }
   ],
   "source": [
    "sysinfo.get_system_memory()"
   ]
  },
  {
   "cell_type": "markdown",
   "metadata": {},
   "source": [
    "## Linear Algebra"
   ]
  },
  {
   "cell_type": "code",
   "execution_count": 2,
   "metadata": {},
   "outputs": [],
   "source": [
    "import numpy as np\n",
    "from quple.utils.mathext import abs2, split_gramian_matrix, gramian_matrix"
   ]
  },
  {
   "cell_type": "code",
   "execution_count": 38,
   "metadata": {},
   "outputs": [],
   "source": [
    "n_event = 10000\n",
    "n_qubit = 10\n",
    "A = np.complex128(np.random.rand(n_event, 2**n_qubit) + 1j*np.random.rand(n_event, 2**n_qubit))\n",
    "B = np.complex128(np.random.rand(n_event, 2**n_qubit) + 1j*np.random.rand(n_event, 2**n_qubit))"
   ]
  },
  {
   "cell_type": "code",
   "execution_count": 33,
   "metadata": {},
   "outputs": [
    {
     "data": {
      "text/plain": [
       "array([[1.73616853+0.502026j  , 1.20437816-0.19688715j],\n",
       "       [1.45982409+0.70053072j, 1.07379988-0.10781175j]])"
      ]
     },
     "execution_count": 33,
     "metadata": {},
     "output_type": "execute_result"
    }
   ],
   "source": [
    "A @ B.conjugate().T"
   ]
  },
  {
   "cell_type": "code",
   "execution_count": 34,
   "metadata": {},
   "outputs": [
    {
     "data": {
      "text/plain": [
       "array([[1.73616853-0.502026j  , 1.20437816+0.19688715j],\n",
       "       [1.45982409-0.70053072j, 1.07379988+0.10781175j]])"
      ]
     },
     "execution_count": 34,
     "metadata": {},
     "output_type": "execute_result"
    }
   ],
   "source": [
    "A.conjugate() @ B.T"
   ]
  },
  {
   "cell_type": "code",
   "execution_count": 19,
   "metadata": {},
   "outputs": [],
   "source": [
    "C = abs2(A.conjugate() @ B.T)"
   ]
  },
  {
   "cell_type": "code",
   "execution_count": 42,
   "metadata": {},
   "outputs": [],
   "source": [
    "D = abs2(A @ B.conjugate().T)"
   ]
  },
  {
   "cell_type": "code",
   "execution_count": 43,
   "metadata": {},
   "outputs": [],
   "source": [
    "E = abs2((B @ A.conjugate().T)).T"
   ]
  },
  {
   "cell_type": "code",
   "execution_count": 44,
   "metadata": {},
   "outputs": [
    {
     "data": {
      "text/plain": [
       "array([[ 0.00000000e+00,  0.00000000e+00,  0.00000000e+00, ...,\n",
       "         0.00000000e+00, -1.74622983e-10,  1.74622983e-10],\n",
       "       [ 0.00000000e+00,  0.00000000e+00,  0.00000000e+00, ...,\n",
       "         0.00000000e+00,  0.00000000e+00, -2.32830644e-10],\n",
       "       [ 0.00000000e+00,  0.00000000e+00,  0.00000000e+00, ...,\n",
       "         0.00000000e+00, -1.16415322e-10,  3.49245965e-10],\n",
       "       ...,\n",
       "       [ 0.00000000e+00,  0.00000000e+00,  0.00000000e+00, ...,\n",
       "         0.00000000e+00, -1.16415322e-10, -1.16415322e-10],\n",
       "       [ 5.82076609e-11,  1.16415322e-10, -1.16415322e-10, ...,\n",
       "        -8.73114914e-11,  0.00000000e+00,  0.00000000e+00],\n",
       "       [ 1.74622983e-10,  5.82076609e-11,  1.16415322e-10, ...,\n",
       "         0.00000000e+00,  0.00000000e+00,  0.00000000e+00]])"
      ]
     },
     "execution_count": 44,
     "metadata": {},
     "output_type": "execute_result"
    }
   ],
   "source": [
    "D-E"
   ]
  },
  {
   "cell_type": "code",
   "execution_count": 17,
   "metadata": {},
   "outputs": [
    {
     "data": {
      "text/plain": [
       "261474.25894331667"
      ]
     },
     "execution_count": 17,
     "metadata": {},
     "output_type": "execute_result"
    }
   ],
   "source": [
    "np.vdot(np.vdot(A[0],B[0]),np.vdot(A[0],B[0])).real"
   ]
  },
  {
   "cell_type": "code",
   "execution_count": 23,
   "metadata": {},
   "outputs": [
    {
     "data": {
      "text/plain": [
       "array([[261474.25894332, 265237.6701346 , 255192.97609822, ...,\n",
       "        252759.63293007, 254022.25656311, 261480.56569932],\n",
       "       [274467.83828542, 268099.83774944, 259170.94392384, ...,\n",
       "        249744.33087399, 256352.25248452, 256067.44912942],\n",
       "       [270018.95429385, 263942.00863949, 255662.0058756 , ...,\n",
       "        247993.96769196, 256263.56065899, 257451.1276877 ],\n",
       "       ...,\n",
       "       [275942.02682634, 278162.90470732, 263845.59447631, ...,\n",
       "        250828.11450666, 262730.38606925, 262092.39111965],\n",
       "       [260046.20822493, 269340.6838083 , 246921.94654086, ...,\n",
       "        239927.85213643, 244985.27509214, 249556.26838882],\n",
       "       [253241.69909187, 256700.81557339, 241172.45997724, ...,\n",
       "        237255.29264645, 243568.81303399, 243398.16886881]])"
      ]
     },
     "execution_count": 23,
     "metadata": {},
     "output_type": "execute_result"
    }
   ],
   "source": [
    "D"
   ]
  },
  {
   "cell_type": "code",
   "execution_count": 5,
   "metadata": {},
   "outputs": [
    {
     "name": "stdout",
     "output_type": "stream",
     "text": [
      "8.454598426818848\n"
     ]
    }
   ],
   "source": [
    "start = time.time()\n",
    "B = gramian_matrix(A, A)\n",
    "end = time.time()\n",
    "print(end-start)"
   ]
  },
  {
   "cell_type": "code",
   "execution_count": 13,
   "metadata": {},
   "outputs": [
    {
     "name": "stdout",
     "output_type": "stream",
     "text": [
      "23.721909761428833\n"
     ]
    }
   ],
   "source": [
    "start = time.time()\n",
    "C = split_gramian_matrix(A, A, 20)\n",
    "end = time.time()\n",
    "print(end-start)"
   ]
  },
  {
   "cell_type": "code",
   "execution_count": 14,
   "metadata": {},
   "outputs": [
    {
     "data": {
      "text/plain": [
       "(-2.0872903405688703e-10+6.9230314432169435e-12j)"
      ]
     },
     "execution_count": 14,
     "metadata": {},
     "output_type": "execute_result"
    }
   ],
   "source": [
    "np.sum(C-B)"
   ]
  },
  {
   "cell_type": "code",
   "execution_count": 65,
   "metadata": {},
   "outputs": [
    {
     "name": "stdout",
     "output_type": "stream",
     "text": [
      "9.388617992401123\n"
     ]
    }
   ],
   "source": [
    "start = time.time()\n",
    "C = np.zeros((n_event, n_event), dtype=np.float64)\n",
    "C[:5000, :5000] = foo1(A[:5000], A[:5000])\n",
    "C[:5000, 5000:] = foo1(A[:5000], A[5000:])\n",
    "C[5000:, :5000] = foo1(A[5000:], A[:5000])\n",
    "C[5000:, 5000:] = foo1(A[5000:], A[5000:])\n",
    "end = time.time()\n",
    "print(end-start)"
   ]
  },
  {
   "cell_type": "code",
   "execution_count": 116,
   "metadata": {},
   "outputs": [
    {
     "data": {
      "text/plain": [
       "array([[470177.0673174 , 262605.02247132, 262982.49287237, ...,\n",
       "        264808.69307487, 268778.36240316, 274050.45608064],\n",
       "       [262605.02247132, 465902.98328999, 263699.63570596, ...,\n",
       "        263075.35115233, 263327.32404276, 262728.35221375],\n",
       "       [262982.49287237, 263699.63570596, 466256.491901  , ...,\n",
       "        259451.75003039, 267528.94031165, 266838.29910547],\n",
       "       ...,\n",
       "       [264808.69307487, 263075.35115233, 259451.75003039, ...,\n",
       "        456033.64336617, 273888.92733905, 264153.33774485],\n",
       "       [268778.36240316, 263327.32404276, 267528.94031165, ...,\n",
       "        273888.92733905, 476020.79343496, 278846.41609876],\n",
       "       [274050.45608064, 262728.35221375, 266838.29910547, ...,\n",
       "        264153.33774485, 278846.41609876, 476213.03393253]])"
      ]
     },
     "execution_count": 116,
     "metadata": {},
     "output_type": "execute_result"
    }
   ],
   "source": [
    "B"
   ]
  },
  {
   "cell_type": "code",
   "execution_count": 78,
   "metadata": {},
   "outputs": [
    {
     "data": {
      "text/plain": [
       "True"
      ]
     },
     "execution_count": 78,
     "metadata": {},
     "output_type": "execute_result"
    }
   ],
   "source": [
    "C[0][0] == abs2(np.dot(A[0],A[0].conjugate()))"
   ]
  },
  {
   "cell_type": "code",
   "execution_count": 82,
   "metadata": {},
   "outputs": [
    {
     "data": {
      "text/plain": [
       "210"
      ]
     },
     "execution_count": 82,
     "metadata": {},
     "output_type": "execute_result"
    }
   ],
   "source": [
    "np.where(C!=B)[0][0]"
   ]
  },
  {
   "cell_type": "code",
   "execution_count": 83,
   "metadata": {},
   "outputs": [
    {
     "data": {
      "text/plain": [
       "1"
      ]
     },
     "execution_count": 83,
     "metadata": {},
     "output_type": "execute_result"
    }
   ],
   "source": [
    "np.where(C!=B)[1][0]"
   ]
  },
  {
   "cell_type": "code",
   "execution_count": 88,
   "metadata": {},
   "outputs": [
    {
     "data": {
      "text/plain": [
       "False"
      ]
     },
     "execution_count": 88,
     "metadata": {},
     "output_type": "execute_result"
    }
   ],
   "source": [
    "B[210][1] == abs2(np.dot(A[210],A.conjugate()[1]))"
   ]
  },
  {
   "cell_type": "code",
   "execution_count": 85,
   "metadata": {},
   "outputs": [
    {
     "data": {
      "text/plain": [
       "array([261373.4504781 , 271266.31178452, 259797.23936805, ...,\n",
       "       269320.49128068, 264153.33774485, 476213.03393253])"
      ]
     },
     "execution_count": 85,
     "metadata": {},
     "output_type": "execute_result"
    }
   ],
   "source": [
    "C[np.where(C!=B)]"
   ]
  },
  {
   "cell_type": "code",
   "execution_count": 89,
   "metadata": {},
   "outputs": [
    {
     "data": {
      "text/plain": [
       "261373.45047809675"
      ]
     },
     "execution_count": 89,
     "metadata": {},
     "output_type": "execute_result"
    }
   ],
   "source": []
  },
  {
   "cell_type": "code",
   "execution_count": 90,
   "metadata": {},
   "outputs": [
    {
     "data": {
      "text/plain": [
       "261373.45047809658"
      ]
     },
     "execution_count": 90,
     "metadata": {},
     "output_type": "execute_result"
    }
   ],
   "source": [
    "B[210][1]"
   ]
  },
  {
   "cell_type": "code",
   "execution_count": 93,
   "metadata": {},
   "outputs": [
    {
     "data": {
      "text/plain": [
       "dtype('float64')"
      ]
     },
     "execution_count": 93,
     "metadata": {},
     "output_type": "execute_result"
    }
   ],
   "source": [
    "abs2(np.dot(A[210],A.conjugate()[1])).dtype"
   ]
  },
  {
   "cell_type": "code",
   "execution_count": 94,
   "metadata": {},
   "outputs": [
    {
     "data": {
      "text/plain": [
       "dtype('float64')"
      ]
     },
     "execution_count": 94,
     "metadata": {},
     "output_type": "execute_result"
    }
   ],
   "source": [
    "C[210][1].dtype"
   ]
  },
  {
   "cell_type": "code",
   "execution_count": 96,
   "metadata": {},
   "outputs": [
    {
     "data": {
      "text/plain": [
       "250"
      ]
     },
     "execution_count": 96,
     "metadata": {},
     "output_type": "execute_result"
    }
   ],
   "source": [
    "1000 // 4"
   ]
  },
  {
   "cell_type": "code",
   "execution_count": 119,
   "metadata": {},
   "outputs": [
    {
     "data": {
      "text/plain": [
       "1"
      ]
     },
     "execution_count": 119,
     "metadata": {},
     "output_type": "execute_result"
    }
   ],
   "source": [
    "4%3"
   ]
  },
  {
   "cell_type": "code",
   "execution_count": 25,
   "metadata": {},
   "outputs": [],
   "source": [
    "import numpy as np\n",
    "from qiskit import *\n",
    "circ = QuantumCircuit(3)\n",
    "# Add a H gate on qubit 0, putting this qubit in superposition.\n",
    "circ.h(0)\n",
    "# Add a CX (CNOT) gate on control qubit 0 and target qubit 1, putting\n",
    "# the qubits in a Bell state.\n",
    "circ.cx(0, 1)\n",
    "# Add a CX (CNOT) gate on control qubit 0 and target qubit 2, putting\n",
    "# the qubits in a GHZ state.\n",
    "circ.cx(0, 2)\n",
    "from qiskit import Aer\n",
    "\n",
    "# Run the quantum circuit on a statevector simulator backend\n",
    "backend = Aer.get_backend('statevector_simulator')\n",
    "result = execute([circ for c in range(10000)], backend).result()"
   ]
  },
  {
   "cell_type": "code",
   "execution_count": 21,
   "metadata": {},
   "outputs": [],
   "source": [
    "del result.results[0].data.statevector"
   ]
  },
  {
   "cell_type": "code",
   "execution_count": 27,
   "metadata": {},
   "outputs": [],
   "source": [
    "del result.results[0].data"
   ]
  },
  {
   "cell_type": "code",
   "execution_count": 29,
   "metadata": {},
   "outputs": [
    {
     "data": {
      "text/plain": [
       "ExperimentResultData(statevector=[0.70710678+0.j 0.        +0.j 0.        +0.j 0.        +0.j\n",
       " 0.        +0.j 0.        +0.j 0.        +0.j 0.70710678+0.j])"
      ]
     },
     "execution_count": 29,
     "metadata": {},
     "output_type": "execute_result"
    }
   ],
   "source": [
    "result.results[1].data"
   ]
  },
  {
   "cell_type": "code",
   "execution_count": 30,
   "metadata": {},
   "outputs": [],
   "source": [
    "test = []"
   ]
  },
  {
   "cell_type": "code",
   "execution_count": 31,
   "metadata": {},
   "outputs": [],
   "source": [
    "test.append(result.results[1].data.statevector.copy())"
   ]
  },
  {
   "cell_type": "code",
   "execution_count": 32,
   "metadata": {},
   "outputs": [],
   "source": [
    "del result.results[1].data.statevector"
   ]
  },
  {
   "cell_type": "code",
   "execution_count": 33,
   "metadata": {},
   "outputs": [
    {
     "data": {
      "text/plain": [
       "[array([0.70710678+0.j, 0.        +0.j, 0.        +0.j, 0.        +0.j,\n",
       "        0.        +0.j, 0.        +0.j, 0.        +0.j, 0.70710678+0.j])]"
      ]
     },
     "execution_count": 33,
     "metadata": {},
     "output_type": "execute_result"
    }
   ],
   "source": [
    "test"
   ]
  },
  {
   "cell_type": "code",
   "execution_count": 34,
   "metadata": {},
   "outputs": [
    {
     "data": {
      "text/plain": [
       "ExperimentResultData()"
      ]
     },
     "execution_count": 34,
     "metadata": {},
     "output_type": "execute_result"
    }
   ],
   "source": [
    "result.results[1].data"
   ]
  },
  {
   "cell_type": "code",
   "execution_count": 36,
   "metadata": {},
   "outputs": [
    {
     "data": {
      "text/plain": [
       "6.705522537231445"
      ]
     },
     "execution_count": 36,
     "metadata": {},
     "output_type": "execute_result"
    }
   ],
   "source": [
    "30000*30000*8/1024**3"
   ]
  },
  {
   "cell_type": "code",
   "execution_count": 37,
   "metadata": {},
   "outputs": [],
   "source": [
    "def a(b):\n",
    "    b[0] = 1"
   ]
  },
  {
   "cell_type": "code",
   "execution_count": 39,
   "metadata": {},
   "outputs": [],
   "source": [
    "b = np.zeros((1))"
   ]
  },
  {
   "cell_type": "code",
   "execution_count": 41,
   "metadata": {},
   "outputs": [],
   "source": [
    "a(b)"
   ]
  },
  {
   "cell_type": "code",
   "execution_count": 42,
   "metadata": {},
   "outputs": [
    {
     "data": {
      "text/plain": [
       "array([1.])"
      ]
     },
     "execution_count": 42,
     "metadata": {},
     "output_type": "execute_result"
    }
   ],
   "source": [
    "b"
   ]
  },
  {
   "cell_type": "code",
   "execution_count": 85,
   "metadata": {},
   "outputs": [],
   "source": [
    "import qiskit\n",
    "from abc import ABC\n",
    "\n",
    "class QiskitCircuit(ABC):\n",
    "    def __init__(self, n_qubit):\n",
    "        self._circuit = qiskit.QuantumCircuit(n_qubit)\n",
    "    def append(self, gate_ops, qubits):\n",
    "        self._circuit.append(gate_ops, qubits)\n",
    "    def __repr__(self):\n",
    "        return self._circuit.__repr__()\n",
    "    def __str__(self):\n",
    "        return self._circuit.__str__()\n",
    "    \n",
    "__GATE_MAPPING__ = {\n",
    "    \"H\": lambda: qiskit.circuit.library.standard_gates.HGate(), # Hadamard gate\n",
    "    \"I\": lambda: qiskit.circuit.library.standard_gates.IGate(),  # one-qubit Identity gate\n",
    "    \"S\": lambda: qiskit.circuit.library.standard_gates.SGate(), # Clifford S gate\n",
    "    \"T\": lambda: qiskit.circuit.library.standard_gates.TGate(), # non-Clifford T gate\n",
    "    'X': lambda: qiskit.circuit.library.standard_gates.XGate(), # Pauli-X gate\n",
    "    \"Y\": lambda: qiskit.circuit.library.standard_gates.YGate(), # Pauli-Y gate\n",
    "    \"Z\": lambda: qiskit.circuit.library.standard_gates.ZGate(), # Pauli-Z gate\n",
    "    \"PauliX\": lambda: qiskit.circuit.library.standard_gates.XGate(), # Pauli-X gate\n",
    "    \"PauliY\": lambda: qiskit.circuit.library.standard_gates.YGate(), # Pauli-Y gate\n",
    "    \"PauliZ\": lambda: qiskit.circuit.library.standard_gates.ZGate(), # Pauli-Z gate\n",
    "    \"Phase\": lambda theta: qiskit.circuit.library.standard_gates.PhaseGate(theta), # Phase gate\n",
    "    \"CX\": lambda: qiskit.circuit.library.standard_gates.CXGate(), # Controlled-NOT gate\n",
    "    \"CY\": lambda: qiskit.circuit.library.standard_gates.CYGate(), # Controlled-Y gate\n",
    "    \"CNOT\": lambda: qiskit.circuit.library.standard_gates.CXGate(), # Controlled-NOT gate\n",
    "    \"CZ\": lambda: qiskit.circuit.library.standard_gates.CZGate(), # Controlled-Z gate\n",
    "    \"XX\": None, # tensor product of two X gates (X parity gate)\n",
    "    \"YY\": None, # tensor product of two Y gates (Y parity gate)\n",
    "    \"ZZ\": None, # tensor product of two Z gates (Z parity gate)\n",
    "    \"XPowGate\": None, # rotation along X axis with extra phase factor\n",
    "    \"YPowGate\": None, # rotation along Y axis with extra phase factor \n",
    "    \"ZPowGate\": None, # rotation along Z axis with extra phase factor\n",
    "    \"XXPowGate\": None, # X parity gate raised to some power\n",
    "    \"YYPowGate\": None, # Y parity gate raised to some power\n",
    "    \"ZZPowGate\": None, # Z parity gate raised to some power\n",
    "    \"MS\": lambda: qiskit.circuit.library.standard_gates.MSGate(), # Mølmer–Sørensen gate == RXX (A rotation around the XX axis in the two-qubit bloch sphere)\n",
    "    \"RXX\": lambda theta: qiskit.circuit.library.standard_gates.RXXGate(theta), # XX Ising coupling gate (A rotation around the XX axis in the two-qubit bloch sphere)\n",
    "    \"RXX\": lambda theta: qiskit.circuit.library.standard_gates.RYYGate(theta), # YY Ising coupling gate (A rotation around the YY axis in the two-qubit bloch sphere)\n",
    "    \"RXX\": lambda theta: qiskit.circuit.library.standard_gates.RZZGate(theta), # ZZ Ising coupling gate (A rotation around the ZZ axis in the two-qubit bloch sphere)                        \n",
    "    \"RX\": lambda theta: qiskit.circuit.library.standard_gates.RXGate(theta), # rotation along X axis\n",
    "    \"RY\": lambda theta: qiskit.circuit.library.standard_gates.RYGate(theta), # rotation along Y axis\n",
    "    \"RZ\": lambda theta: qiskit.circuit.library.standard_gates.RZGate(theta), # rotation along Z axis\n",
    "    \"CCNOT\": lambda: qiskit.circuit.library.standard_gates.CCXGate(), # Toffoli gate\n",
    "    \"CCX\": lambda: qiskit.circuit.library.standard_gates.CCXGate(), # Toffoli gate\n",
    "    \"Toffoli\": lambda: qiskit.circuit.library.standard_gates.CCXGate(), # Toffoli gate\n",
    "    \"SWAP\": lambda: qiskit.circuit.library.standard_gates.SwapGate(), # SWAP gate\n",
    "    \"CSWAP\": lambda: qiskit.circuit.library.standard_gates.CSwapGate(), # Controlled SWAP gate\n",
    "    \"ISWAP\": lambda: qiskit.circuit.library.standard_gates.iSwapGate(), # ISWAP gate\n",
    "    \"RISWAP\": None, #Rotation ISWAP gate (X⊗X + Y⊗Y)\n",
    "    \"FSim\": None, # Fermionic simulation gate\n",
    "    \"Fredkin\": None, # Controlled SWAP gate\n",
    "    \"CXPowGate\": None, # Controlled Power of an X gate\n",
    "    \"CZPowGate\": None, # Controlled Power of an Z gate\n",
    "    \"CNOTPowGate\": None, # Controlled Power of an X gate\n",
    "    \"U1\": lambda: qiskit.circuit.library.standard_gates.U1Gate(),\n",
    "    \"U2\": lambda: qiskit.circuit.library.standard_gates.U2Gate(),\n",
    "    \"U3\": lambda: qiskit.circuit.library.standard_gates.U3Gate()\n",
    "}"
   ]
  },
  {
   "cell_type": "code",
   "execution_count": 54,
   "metadata": {},
   "outputs": [],
   "source": [
    "a = lambda: np.complex128(np.random.rand(n_event, 2**n_qubit) + 1j*np.random.rand(n_event, 2**n_qubit))"
   ]
  },
  {
   "cell_type": "code",
   "execution_count": 86,
   "metadata": {},
   "outputs": [],
   "source": [
    "qc = QiskitCircuit(2)"
   ]
  },
  {
   "cell_type": "code",
   "execution_count": 70,
   "metadata": {},
   "outputs": [
    {
     "data": {
      "text/plain": [
       "<qiskit.circuit.instructionset.InstructionSet at 0x7fe48b94c590>"
      ]
     },
     "execution_count": 70,
     "metadata": {},
     "output_type": "execute_result"
    }
   ],
   "source": [
    "qc.append(qiskit.circuit.library.standard_gates.XGate(), [0])"
   ]
  },
  {
   "cell_type": "code",
   "execution_count": 87,
   "metadata": {},
   "outputs": [],
   "source": [
    "qc.append(__GATE_MAPPING__[\"CX\"](), (0,1))"
   ]
  },
  {
   "cell_type": "code",
   "execution_count": 88,
   "metadata": {},
   "outputs": [
    {
     "name": "stdout",
     "output_type": "stream",
     "text": [
      "          \n",
      "q_0: ──■──\n",
      "     ┌─┴─┐\n",
      "q_1: ┤ X ├\n",
      "     └───┘\n"
     ]
    }
   ],
   "source": [
    "print(qc)"
   ]
  },
  {
   "cell_type": "code",
   "execution_count": 3,
   "metadata": {},
   "outputs": [],
   "source": [
    "import numpy as np\n",
    "import quple\n",
    "from quple.classifiers import QSVM, QSVMLogger\n",
    "from quple.data_encoding import  EncodingCircuit\n",
    "from quple import PauliBlock\n",
    "from quple.data_encoding.encoding_maps import trial_2\n",
    "from quple.utils.sysinfo import get_cpu_count\n",
    "from quple.classifiers.qsvm import QSVM, QSVMLogger\n",
    "from quple.qiskit_interface.feature_maps import FeatureMaps02\n",
    "from sklearn.preprocessing import StandardScaler, MinMaxScaler\n",
    "from sklearn.decomposition import PCA\n",
    "from quple.qiskit_interface.tools import get_qiskit_state_vectors, get_qiskit_state_vectors_test"
   ]
  },
  {
   "cell_type": "code",
   "execution_count": 2,
   "metadata": {},
   "outputs": [],
   "source": [
    "def get_encoding_circuit(n_qubit, depth, degree):\n",
    "    if degree > 0:\n",
    "        encoding_circuit = EncodingCircuit(feature_dimension=n_qubit, \n",
    "                                            copies=depth,\n",
    "                                            rotation_blocks=['H',PauliBlock('Z', trial_2(1)),\n",
    "                                                               PauliBlock('Y',trial_2(degree))],\n",
    "                                            entanglement_blocks=[PauliBlock('ZZ',trial_2(degree))],\n",
    "                                            entangle_strategy='alternate_linear')\n",
    "    else:\n",
    "        encoding_circuit = EncodingCircuit(feature_dimension=n_qubit, \n",
    "                                            copies=depth,\n",
    "                                            rotation_blocks=['H',PauliBlock('Z', trial_2(1))],\n",
    "                                            entanglement_blocks=[PauliBlock('ZZ',trial_2(0))],\n",
    "                                            entangle_strategy='alternate_linear') \n",
    "    return encoding_circuit "
   ]
  },
  {
   "cell_type": "code",
   "execution_count": 4,
   "metadata": {},
   "outputs": [],
   "source": [
    "data = np.load('/afs/cern.ch/work/c/chlcheng/Repository/qml_work/data/ttH_hadronic_ATLAS.npy')\n",
    "x = data[:, :-1]\n",
    "y = data[:, -1]"
   ]
  },
  {
   "cell_type": "code",
   "execution_count": 7,
   "metadata": {},
   "outputs": [],
   "source": [
    "n_qubit = 10\n",
    "n_event = 1000\n",
    "degree = 2\n",
    "depth = 2\n",
    "random_seed = 10598"
   ]
  },
  {
   "cell_type": "code",
   "execution_count": 8,
   "metadata": {},
   "outputs": [],
   "source": [
    "# we apply 3 data preprocessors\n",
    "# 1. PCA to reduce the dimension to 5 to fit the 5 qubit circuit\n",
    "# 2. StandardScaler to standardize features by removing the mean and scaling to unit variance\n",
    "# 3. MinMaxScaler to bound the data in the range [-1,+1]\n",
    "preprocessors = [PCA(n_components=n_qubit, random_state=3), StandardScaler(), MinMaxScaler((-1,1))]\n",
    "from quple.components.data_preparation import prepare_train_val_test\n",
    "# split the data into training set, validation set and test set\n",
    "x_train, x_val, x_test, y_train, y_val, y_test = prepare_train_val_test(x, y, train_size=n_event, \n",
    "                                                                        val_size=n_event, test_size=n_event, \n",
    "                                                                        preprocessors=preprocessors, random_state=random_seed,\n",
    "                                                                        stratify=y)"
   ]
  },
  {
   "cell_type": "code",
   "execution_count": 11,
   "metadata": {},
   "outputs": [],
   "source": [
    "cq = get_encoding_circuit(10, 2, 2)"
   ]
  },
  {
   "cell_type": "code",
   "execution_count": 9,
   "metadata": {},
   "outputs": [],
   "source": [
    "import cirq\n",
    "simulator = cirq.Simulator()"
   ]
  },
  {
   "cell_type": "code",
   "execution_count": 19,
   "metadata": {},
   "outputs": [
    {
     "ename": "ValueError",
     "evalue": "Circuit has no measurements to sample.",
     "output_type": "error",
     "traceback": [
      "\u001b[0;31m---------------------------------------------------------------------------\u001b[0m",
      "\u001b[0;31mValueError\u001b[0m                                Traceback (most recent call last)",
      "\u001b[0;32m<ipython-input-19-ea94bcf08798>\u001b[0m in \u001b[0;36m<module>\u001b[0;34m\u001b[0m\n\u001b[0;32m----> 1\u001b[0;31m \u001b[0mtest\u001b[0m \u001b[0;34m=\u001b[0m\u001b[0msimulator\u001b[0m\u001b[0;34m.\u001b[0m\u001b[0mrun_sweep\u001b[0m\u001b[0;34m(\u001b[0m\u001b[0mcq\u001b[0m\u001b[0;34m,\u001b[0m \u001b[0mcq\u001b[0m\u001b[0;34m.\u001b[0m\u001b[0mget_parameter_resolver\u001b[0m\u001b[0;34m(\u001b[0m\u001b[0mx_train\u001b[0m\u001b[0;34m)\u001b[0m\u001b[0;34m)\u001b[0m\u001b[0;34m\u001b[0m\u001b[0;34m\u001b[0m\u001b[0m\n\u001b[0m",
      "\u001b[0;32m/afs/cern.ch/work/c/chlcheng/public/local/conda/miniconda/envs/ml-base/lib/python3.7/site-packages/cirq/sim/simulator.py\u001b[0m in \u001b[0;36mrun_sweep\u001b[0;34m(self, program, params, repetitions)\u001b[0m\n\u001b[1;32m     69\u001b[0m         \"\"\"\n\u001b[1;32m     70\u001b[0m         \u001b[0;32mif\u001b[0m \u001b[0;32mnot\u001b[0m \u001b[0mprogram\u001b[0m\u001b[0;34m.\u001b[0m\u001b[0mhas_measurements\u001b[0m\u001b[0;34m(\u001b[0m\u001b[0;34m)\u001b[0m\u001b[0;34m:\u001b[0m\u001b[0;34m\u001b[0m\u001b[0;34m\u001b[0m\u001b[0m\n\u001b[0;32m---> 71\u001b[0;31m             \u001b[0;32mraise\u001b[0m \u001b[0mValueError\u001b[0m\u001b[0;34m(\u001b[0m\u001b[0;34m\"Circuit has no measurements to sample.\"\u001b[0m\u001b[0;34m)\u001b[0m\u001b[0;34m\u001b[0m\u001b[0;34m\u001b[0m\u001b[0m\n\u001b[0m\u001b[1;32m     72\u001b[0m \u001b[0;34m\u001b[0m\u001b[0m\n\u001b[1;32m     73\u001b[0m         \u001b[0m_verify_unique_measurement_keys\u001b[0m\u001b[0;34m(\u001b[0m\u001b[0mprogram\u001b[0m\u001b[0;34m)\u001b[0m\u001b[0;34m\u001b[0m\u001b[0;34m\u001b[0m\u001b[0m\n",
      "\u001b[0;31mValueError\u001b[0m: Circuit has no measurements to sample."
     ]
    }
   ],
   "source": [
    "test =simulator.run_sweep(cq, cq.get_parameter_resolver(x_train))"
   ]
  },
  {
   "cell_type": "code",
   "execution_count": 17,
   "metadata": {},
   "outputs": [
    {
     "data": {
      "text/plain": [
       "{'params': cirq.ParamResolver({'<x_0/pi>': -0.24157500391745962, '<x_1/pi>': -0.05242975950994076, '<x_2/pi>': -0.1621841252274078, '<x_3/pi>': -0.16677067568495463, '<x_4/pi>': -0.17290613450123574, '<x_5/pi>': -0.07592058313628317, '<x_6/pi>': -0.08882010850306604, '<x_7/pi>': -0.1593766856211992, '<x_8/pi>': 0.02045699838515274, '<x_9/pi>': -0.1938201166091102, '<x_0**2/pi>': 0.18333857995231947, '<x_1**2/pi>': 0.00863586021542238, '<x_2**2/pi>': 0.08263548076100866, '<x_3**2/pi>': 0.0873754145743294, '<x_4**2/pi>': 0.09392272325119459, '<x_5**2/pi>': 0.01810793567506481, '<x_6**2/pi>': 0.02478406112068208, '<x_7**2/pi>': 0.0797993685465747, '<x_8**2/pi>': 0.001314721286063067, '<x_9**2/pi>': 0.11801781607461131, '<(x_0 + x_1)**2/pi**2>': 0.08643880091800164, '<(x_2 + x_3)**2/pi**2>': 0.10821126104329201, '<(x_4 + x_5)**2/pi**2>': 0.06191473541026155, '<(x_6 + x_7)**2/pi**2>': 0.06160164861356289, '<(x_8 + x_9)**2/pi**2>': 0.03005477076033385, '<(x_1 + x_2)**2/pi**2>': 0.04605911952205592, '<(x_3 + x_4)**2/pi**2>': 0.11538033537826521, '<(x_5 + x_6)**2/pi**2>': 0.027139495481811136, '<(x_7 + x_8)**2/pi**2>': 0.019298679501760962}),\n",
       " 'measurements': {},\n",
       " '_final_simulator_state': cirq.StateVectorSimulatorState(state_vector=np.array([ 2.2002791e-01+4.7907132e-01j, -1.5276277e-01+1.7033884e-01j,\n",
       "         7.7196956e-03+1.4068915e-02j, ..., -2.4354193e-04-9.6022695e-06j,\n",
       "         8.4818430e-07-1.3158336e-05j,  3.4764147e-05-4.2856095e-07j],\n",
       "       dtype=complex64), qubit_map={cirq.GridQubit(0, 0): 0, cirq.GridQubit(0, 1): 1, cirq.GridQubit(0, 2): 2, cirq.GridQubit(0, 3): 3, cirq.GridQubit(0, 4): 4, cirq.GridQubit(0, 5): 5, cirq.GridQubit(0, 6): 6, cirq.GridQubit(0, 7): 7, cirq.GridQubit(0, 8): 8, cirq.GridQubit(0, 9): 9}),\n",
       " '_qubit_map': {cirq.GridQubit(0, 0): 0,\n",
       "  cirq.GridQubit(0, 1): 1,\n",
       "  cirq.GridQubit(0, 2): 2,\n",
       "  cirq.GridQubit(0, 3): 3,\n",
       "  cirq.GridQubit(0, 4): 4,\n",
       "  cirq.GridQubit(0, 5): 5,\n",
       "  cirq.GridQubit(0, 6): 6,\n",
       "  cirq.GridQubit(0, 7): 7,\n",
       "  cirq.GridQubit(0, 8): 8,\n",
       "  cirq.GridQubit(0, 9): 9},\n",
       " '_qid_shape': (2, 2, 2, 2, 2, 2, 2, 2, 2, 2),\n",
       " 'final_state_vector': array([ 2.2002791e-01+4.7907132e-01j, -1.5276277e-01+1.7033884e-01j,\n",
       "         7.7196956e-03+1.4068915e-02j, ..., -2.4354193e-04-9.6022695e-06j,\n",
       "         8.4818430e-07-1.3158336e-05j,  3.4764147e-05-4.2856095e-07j],\n",
       "       dtype=complex64)}"
      ]
     },
     "execution_count": 17,
     "metadata": {},
     "output_type": "execute_result"
    }
   ],
   "source": [
    "test[0].__dict__"
   ]
  },
  {
   "cell_type": "code",
   "execution_count": 1,
   "metadata": {},
   "outputs": [],
   "source": [
    "import numpy as np\n",
    "import quple\n",
    "from quple.data_encoding import  EncodingCircuit\n",
    "from quple import PauliBlock\n",
    "from quple.data_encoding.encoding_maps import polynomial\n",
    "from quple.utils.sysinfo import get_cpu_count\n",
    "quple.MAX_WORKERS = get_cpu_count()"
   ]
  },
  {
   "cell_type": "code",
   "execution_count": 2,
   "metadata": {},
   "outputs": [],
   "source": [
    "def get_encoding_circuit(n_qubit, depth, degree):\n",
    "    if degree > 0:\n",
    "        encoding_circuit = EncodingCircuit(feature_dimension=n_qubit, \n",
    "                                            copies=depth,\n",
    "                                            rotation_blocks=['H',PauliBlock('Z', polynomial(1)),\n",
    "                                                               PauliBlock('Y',polynomial(degree))],\n",
    "                                            entanglement_blocks=[PauliBlock('ZZ',polynomial(degree))],\n",
    "                                            entangle_strategy='alternate_linear')\n",
    "    else:\n",
    "        encoding_circuit = EncodingCircuit(feature_dimension=n_qubit, \n",
    "                                            copies=depth,\n",
    "                                            rotation_blocks=['H',PauliBlock('Z', polynomial(1))],\n",
    "                                            entanglement_blocks=[PauliBlock('ZZ',polynomial(0))],\n",
    "                                            entangle_strategy='alternate_linear') \n",
    "    return encoding_circuit "
   ]
  },
  {
   "cell_type": "code",
   "execution_count": 17,
   "metadata": {},
   "outputs": [],
   "source": [
    "import sympy as sp\n",
    "cq = EncodingCircuit(feature_dimension=3, \n",
    "                    copies=1,\n",
    "                    rotation_blocks=['H',PauliBlock('Z', polynomial(1)),\n",
    "                                       PauliBlock('Y',polynomial(2))],\n",
    "                    entanglement_blocks=[PauliBlock('ZZ',polynomial(2))],\n",
    "                    entangle_strategy='alternate_linear',\n",
    "                    parameter_symbol='y',\n",
    "                    parameter_scale=sp.pi**2)"
   ]
  },
  {
   "cell_type": "code",
   "execution_count": 18,
   "metadata": {},
   "outputs": [
    {
     "data": {
      "text/html": [
       "<pre style=\"overflow: auto; white-space: pre;\">(0, 0): ───H───Rz(pi*y_0)───Ry(pi*&lt;y_0**2&gt;)───@─────────────────────────────────@─────────────────────────────────────────\n",
       "                                              │                                 │\n",
       "(0, 1): ───H───Rz(pi*y_1)───Ry(pi*&lt;y_1**2&gt;)───X───Rz(pi*&lt;(y_0/2 + y_1/2)**2&gt;)───X───@─────────────────────────────────@───\n",
       "                                                                                    │                                 │\n",
       "(0, 2): ───H───Rz(pi*y_2)───Ry(pi*&lt;y_2**2&gt;)─────────────────────────────────────────X───Rz(pi*&lt;(y_1/2 + y_2/2)**2&gt;)───X───</pre>"
      ],
      "text/plain": [
       "(0, 0): ───H───Rz(pi*y_0)───Ry(pi*<y_0**2>)───@─────────────────────────────────@─────────────────────────────────────────\n",
       "                                              │                                 │\n",
       "(0, 1): ───H───Rz(pi*y_1)───Ry(pi*<y_1**2>)───X───Rz(pi*<(y_0/2 + y_1/2)**2>)───X───@─────────────────────────────────@───\n",
       "                                                                                    │                                 │\n",
       "(0, 2): ───H───Rz(pi*y_2)───Ry(pi*<y_2**2>)─────────────────────────────────────────X───Rz(pi*<(y_1/2 + y_2/2)**2>)───X───"
      ]
     },
     "execution_count": 18,
     "metadata": {},
     "output_type": "execute_result"
    }
   ],
   "source": [
    "cq"
   ]
  },
  {
   "cell_type": "code",
   "execution_count": 24,
   "metadata": {},
   "outputs": [],
   "source": [
    "import numpy as np\n",
    "import matplotlib.pyplot as plt\n",
    "data = dict(np.load('/eos/atlas/unpledged/group-wisc/qsvm_inputs_ttH/15_qubit_20000_event/input/ttH_new_Delphes_nqubit_15_nevent_20000_run_0.npz', allow_pickle=True))\n",
    "x = data['x_train']"
   ]
  },
  {
   "cell_type": "code",
   "execution_count": 94,
   "metadata": {},
   "outputs": [],
   "source": [
    "X = x[:, 1]\n",
    "#X = (X - X.mean())/X.std()"
   ]
  },
  {
   "cell_type": "code",
   "execution_count": 81,
   "metadata": {},
   "outputs": [
    {
     "data": {
      "image/png": "[encoded data removed]",
      "text/plain": [
       "<Figure size 432x288 with 1 Axes>"
      ]
     },
     "metadata": {
      "needs_background": "light"
     },
     "output_type": "display_data"
    }
   ],
   "source": [
    "_ = plt.hist(X_stan, bins = 100)"
   ]
  },
  {
   "cell_type": "code",
   "execution_count": 74,
   "metadata": {},
   "outputs": [
    {
     "data": {
      "text/plain": [
       "(20000,)"
      ]
     },
     "execution_count": 74,
     "metadata": {},
     "output_type": "execute_result"
    }
   ],
   "source": [
    "np.exp(-X*(1j)/2).shape"
   ]
  },
  {
   "cell_type": "code",
   "execution_count": 113,
   "metadata": {},
   "outputs": [
    {
     "data": {
      "text/plain": [
       "<Figure size 432x288 with 0 Axes>"
      ]
     },
     "metadata": {},
     "output_type": "display_data"
    },
    {
     "data": {
      "image/png": "[encoded data removed]",
      "text/plain": [
       "<Figure size 1080x720 with 15 Axes>"
      ]
     },
     "metadata": {
      "needs_background": "light"
     },
     "output_type": "display_data"
    }
   ],
   "source": [
    "degree = 4\n",
    "plt.clf()\n",
    "fig, axis = plt.subplots(3,5, figsize=(15,10))\n",
    "plt.subplots_adjust(hspace=0.3, wspace=0.3)\n",
    "for i in range(3):\n",
    "    for j in range(5):\n",
    "        k = i*5+j\n",
    "        X = x[:, k]\n",
    "        axis[i][j].hist(X, bins = 100, label='real')\n",
    "        axis[i][j].legend(loc='best')\n",
    "        axis[i][j].set_title('Feature {}'.format(k+1))"
   ]
  },
  {
   "cell_type": "code",
   "execution_count": 126,
   "metadata": {},
   "outputs": [
    {
     "data": {
      "text/plain": [
       "(array([  1.,   1.,   0.,   2.,   5.,   2.,   0.,   3.,   3.,   4.,   0.,\n",
       "          2.,   3.,   7.,   3.,   5.,  10.,   7.,   8.,  13.,  17.,  20.,\n",
       "         32.,  27.,  44.,  40.,  55.,  41.,  75.,  75.,  96., 112., 130.,\n",
       "        158., 202., 238., 265., 302., 396., 449., 487., 523., 613., 606.,\n",
       "        730., 759., 773., 838., 822., 739., 816., 844., 788., 746., 729.,\n",
       "        720., 656., 595., 573., 520., 478., 411., 360., 320., 270., 241.,\n",
       "        187., 169., 131., 112., 109.,  89.,  64.,  50.,  38.,  34.,  42.,\n",
       "         30.,  21.,  13.,  18.,  17.,  16.,  12.,   6.,   5.,   6.,   4.,\n",
       "          3.,   5.,   1.,   1.,   0.,   2.,   1.,   0.,   1.,   2.,   0.,\n",
       "          1.]),\n",
       " array([-0.65058434, -0.63757265, -0.62456097, -0.61154928, -0.59853759,\n",
       "        -0.58552591, -0.57251422, -0.55950253, -0.54649085, -0.53347916,\n",
       "        -0.52046747, -0.50745578, -0.4944441 , -0.48143241, -0.46842072,\n",
       "        -0.45540904, -0.44239735, -0.42938566, -0.41637398, -0.40336229,\n",
       "        -0.3903506 , -0.37733892, -0.36432723, -0.35131554, -0.33830386,\n",
       "        -0.32529217, -0.31228048, -0.2992688 , -0.28625711, -0.27324542,\n",
       "        -0.26023374, -0.24722205, -0.23421036, -0.22119868, -0.20818699,\n",
       "        -0.1951753 , -0.18216362, -0.16915193, -0.15614024, -0.14312855,\n",
       "        -0.13011687, -0.11710518, -0.10409349, -0.09108181, -0.07807012,\n",
       "        -0.06505843, -0.05204675, -0.03903506, -0.02602337, -0.01301169,\n",
       "         0.        ,  0.01301169,  0.02602337,  0.03903506,  0.05204675,\n",
       "         0.06505843,  0.07807012,  0.09108181,  0.10409349,  0.11710518,\n",
       "         0.13011687,  0.14312855,  0.15614024,  0.16915193,  0.18216362,\n",
       "         0.1951753 ,  0.20818699,  0.22119868,  0.23421036,  0.24722205,\n",
       "         0.26023374,  0.27324542,  0.28625711,  0.2992688 ,  0.31228048,\n",
       "         0.32529217,  0.33830386,  0.35131554,  0.36432723,  0.37733892,\n",
       "         0.3903506 ,  0.40336229,  0.41637398,  0.42938566,  0.44239735,\n",
       "         0.45540904,  0.46842072,  0.48143241,  0.4944441 ,  0.50745578,\n",
       "         0.52046747,  0.53347916,  0.54649085,  0.55950253,  0.57251422,\n",
       "         0.58552591,  0.59853759,  0.61154928,  0.62456097,  0.63757265,\n",
       "         0.65058434]),\n",
       " <a list of 100 Patch objects>)"
      ]
     },
     "execution_count": 126,
     "metadata": {},
     "output_type": "execute_result"
    },
    {
     "data": {
      "image/png": "[encoded data removed]",
      "text/plain": [
       "<Figure size 432x288 with 1 Axes>"
      ]
     },
     "metadata": {
      "needs_background": "light"
     },
     "output_type": "display_data"
    }
   ],
   "source": [
    "X = x[:, 8]\n",
    "#_ = plt.hist((np.exp(-X*(1j)/2)).imag, bins=100)\n",
    "plt.clf()\n",
    "plt.hist((np.cos(X**degree/2)*np.exp(-X*(1j)/2)-np.sin(X**degree/2)*np.exp(X*(1j)/2)).imag, bins = 100, label='real')"
   ]
  },
  {
   "cell_type": "code",
   "execution_count": 135,
   "metadata": {},
   "outputs": [
    {
     "data": {
      "text/plain": [
       "<Figure size 432x288 with 0 Axes>"
      ]
     },
     "metadata": {},
     "output_type": "display_data"
    },
    {
     "data": {
      "image/png": "[encoded data removed]",
      "text/plain": [
       "<Figure size 1080x720 with 15 Axes>"
      ]
     },
     "metadata": {
      "needs_background": "light"
     },
     "output_type": "display_data"
    }
   ],
   "source": [
    "degree = 4\n",
    "plt.clf()\n",
    "fig, axis = plt.subplots(3,5, figsize=(15,10))\n",
    "plt.subplots_adjust(hspace=0.3, wspace=0.3)\n",
    "for i in range(3):\n",
    "    for j in range(5):\n",
    "        k = i*5+j\n",
    "        X = x[:, k]\n",
    "        a1,_,_=axis[i][j].hist((np.cos(X**degree/2)*np.exp(-X*(1j)/2)-np.sin(X**degree/2)*np.exp(X*(1j)/2)).real, bins = 100, label='real')\n",
    "        a2,_,_=axis[i][j].hist((np.cos(X**degree/2)*np.exp(-X*(1j)/2)-np.sin(X**degree/2)*np.exp(X*(1j)/2)).imag, bins = 100, label='imag')\n",
    "        axis[i][j].set_ylim((None, max(max(a1),max(a2))))\n",
    "        axis[i][j].legend(loc='best')\n",
    "        axis[i][j].set_title('Qubit {}'.format(k+1))"
   ]
  },
  {
   "cell_type": "code",
   "execution_count": 128,
   "metadata": {},
   "outputs": [
    {
     "data": {
      "text/plain": [
       "<Figure size 432x288 with 0 Axes>"
      ]
     },
     "metadata": {},
     "output_type": "display_data"
    },
    {
     "data": {
      "image/png": "[encoded data removed]",
      "text/plain": [
       "<Figure size 1080x720 with 15 Axes>"
      ]
     },
     "metadata": {
      "needs_background": "light"
     },
     "output_type": "display_data"
    }
   ],
   "source": [
    "degree = 4\n",
    "plt.clf()\n",
    "fig, axis = plt.subplots(3,5, figsize=(15,10))\n",
    "plt.subplots_adjust(hspace=0.3, wspace=0.3)\n",
    "for i in range(3):\n",
    "    for j in range(5):\n",
    "        k = i*5+j\n",
    "        X = x[:, k]\n",
    "        a1, _,_ = axis[i][j].hist((np.cos(X**degree/2)*np.exp(-X*(1j)/2)-np.sin(X**degree/2)*np.exp(X*(1j)/2)).imag, bins = 100, label='real')\n",
    "        #a2, _,_ = axis[i][j].hist((np.exp(-X*(1j)/2)).imag, bins = 100, label='imag')\n",
    "        axis[i][j].set_ylim((None, max([max(a1), max(a2)])))\n",
    "        axis[i][j].legend(loc='best')\n",
    "        axis[i][j].set_title('Qubit {}'.format(k+1))"
   ]
  },
  {
   "cell_type": "code",
   "execution_count": 130,
   "metadata": {},
   "outputs": [
    {
     "data": {
      "text/plain": [
       "<Figure size 432x288 with 0 Axes>"
      ]
     },
     "metadata": {},
     "output_type": "display_data"
    },
    {
     "data": {
      "image/png": "[encoded data removed]",
      "text/plain": [
       "<Figure size 1080x720 with 15 Axes>"
      ]
     },
     "metadata": {
      "needs_background": "light"
     },
     "output_type": "display_data"
    }
   ],
   "source": [
    "degree = 3\n",
    "plt.clf()\n",
    "fig, axis = plt.subplots(3,5, figsize=(15,10))\n",
    "plt.subplots_adjust(hspace=0.3, wspace=0.3)\n",
    "for i in range(3):\n",
    "    for j in range(5):\n",
    "        k = i*5+j\n",
    "        X = x[:, k]\n",
    "        a1, _,_ = axis[i][j].hist((np.cos(X**degree/2)*np.exp(-X*(1j)/2)-np.sin(X**degree/2)*np.exp(X*(1j)/2)).real, bins = 100, label='real')\n",
    "        #a2, _,_ = axis[i][j].hist((np.exp(-X*(1j)/2)).imag, bins = 100, label='imag')\n",
    "        axis[i][j].set_ylim((None, max([max(a1), max(a2)])))\n",
    "        axis[i][j].legend(loc='best')\n",
    "        axis[i][j].set_title('Qubit {}'.format(k+1))"
   ]
  },
  {
   "cell_type": "code",
   "execution_count": 95,
   "metadata": {},
   "outputs": [
    {
     "data": {
      "image/png": "[encoded data removed]",
      "text/plain": [
       "<Figure size 432x288 with 1 Axes>"
      ]
     },
     "metadata": {
      "needs_background": "light"
     },
     "output_type": "display_data"
    }
   ],
   "source": [
    "degree = 4\n",
    "_ = plt.hist((np.cos(X**degree/2)*np.exp(-X*(1j)/2)-np.sin(X**degree/2)*np.exp(X*(1j)/2)).real, bins = 100)"
   ]
  },
  {
   "cell_type": "code",
   "execution_count": 54,
   "metadata": {},
   "outputs": [
    {
     "data": {
      "image/png": "[encoded data removed]",
      "text/plain": [
       "<Figure size 432x288 with 1 Axes>"
      ]
     },
     "metadata": {
      "needs_background": "light"
     },
     "output_type": "display_data"
    }
   ],
   "source": [
    "_ = plt.hist((np.cos(X**degree/2)*np.exp(-X*(1j)/2)-np.sin(X**degree/2)*np.exp(X*(1j)/2)).imag, bins = 100)"
   ]
  },
  {
   "cell_type": "code",
   "execution_count": 37,
   "metadata": {},
   "outputs": [
    {
     "data": {
      "image/png": "[encoded data removed]",
      "text/plain": [
       "<Figure size 432x288 with 1 Axes>"
      ]
     },
     "metadata": {
      "needs_background": "light"
     },
     "output_type": "display_data"
    }
   ],
   "source": [
    "_ = plt.hist((X-X.mean())/X.std(), bins = 100)"
   ]
  },
  {
   "cell_type": "code",
   "execution_count": 38,
   "metadata": {},
   "outputs": [
    {
     "data": {
      "image/png": "[encoded data removed]",
      "text/plain": [
       "<Figure size 432x288 with 1 Axes>"
      ]
     },
     "metadata": {
      "needs_background": "light"
     },
     "output_type": "display_data"
    }
   ],
   "source": [
    "_ = plt.hist((X)/X.std(), bins = 100)"
   ]
  },
  {
   "cell_type": "code",
   "execution_count": 64,
   "metadata": {},
   "outputs": [],
   "source": [
    "from quple import QuantumCircuit\n",
    "import sympy as sp\n",
    "cq = QuantumCircuit(1)\n",
    "cq.RY(sp.Symbol('x'), 0)\n",
    "final_state = cq.get_state_vectors(np.array([[1],[1]]))"
   ]
  },
  {
   "cell_type": "code",
   "execution_count": 66,
   "metadata": {},
   "outputs": [
    {
     "name": "stdout",
     "output_type": "stream",
     "text": [
      "(0, 0): ───Ry(x)───\n"
     ]
    }
   ],
   "source": [
    "print(cq)"
   ]
  },
  {
   "cell_type": "code",
   "execution_count": 67,
   "metadata": {},
   "outputs": [
    {
     "name": "stdout",
     "output_type": "stream",
     "text": [
      "0.8775825618903728 0.479425538604203\n"
     ]
    }
   ],
   "source": [
    "print(np.cos(1/2), np.sin(1/2))"
   ]
  },
  {
   "cell_type": "code",
   "execution_count": 65,
   "metadata": {},
   "outputs": [
    {
     "data": {
      "text/plain": [
       "array([[0.8775825+0.j, 0.4794257+0.j],\n",
       "       [0.8775825+0.j, 0.4794257+0.j]], dtype=complex64)"
      ]
     },
     "execution_count": 65,
     "metadata": {},
     "output_type": "execute_result"
    }
   ],
   "source": [
    "final_state"
   ]
  },
  {
   "cell_type": "code",
   "execution_count": 79,
   "metadata": {},
   "outputs": [
    {
     "data": {
      "text/plain": [
       "(1.00000004612674+0j)"
      ]
     },
     "execution_count": 79,
     "metadata": {},
     "output_type": "execute_result"
    }
   ],
   "source": [
    "np.array([0.8775825+0.j, 0.4794257+0.j]) @ np.array([0.8775825+0.j, 0.4794257+0.j])"
   ]
  },
  {
   "cell_type": "code",
   "execution_count": 4,
   "metadata": {},
   "outputs": [
    {
     "ename": "NameError",
     "evalue": "name 'resolver' is not defined",
     "output_type": "error",
     "traceback": [
      "\u001b[0;31m---------------------------------------------------------------------------\u001b[0m",
      "\u001b[0;31mNameError\u001b[0m                                 Traceback (most recent call last)",
      "\u001b[0;32m<ipython-input-4-8ce117d32f7e>\u001b[0m in \u001b[0;36m<module>\u001b[0;34m\u001b[0m\n\u001b[0;32m----> 1\u001b[0;31m \u001b[0msymbol_names\u001b[0m \u001b[0;34m=\u001b[0m \u001b[0mlist\u001b[0m\u001b[0;34m(\u001b[0m\u001b[0mresolver\u001b[0m\u001b[0;34m[\u001b[0m\u001b[0;36m0\u001b[0m\u001b[0;34m]\u001b[0m\u001b[0;34m.\u001b[0m\u001b[0mparam_dict\u001b[0m\u001b[0;34m.\u001b[0m\u001b[0mkeys\u001b[0m\u001b[0;34m(\u001b[0m\u001b[0;34m)\u001b[0m\u001b[0;34m)\u001b[0m\u001b[0;34m\u001b[0m\u001b[0;34m\u001b[0m\u001b[0m\n\u001b[0m",
      "\u001b[0;31mNameError\u001b[0m: name 'resolver' is not defined"
     ]
    }
   ],
   "source": [
    "symbol_names = list(resolver[0].param_dict.keys())"
   ]
  },
  {
   "cell_type": "code",
   "execution_count": 53,
   "metadata": {},
   "outputs": [
    {
     "ename": "TypeError",
     "evalue": "symbol_values cannot be parsed to float32 tensor given input: ",
     "output_type": "error",
     "traceback": [
      "\u001b[0;31m---------------------------------------------------------------------------\u001b[0m",
      "\u001b[0;31mTypeError\u001b[0m                                 Traceback (most recent call last)",
      "\u001b[0;32m<ipython-input-53-e3ee25ce3bdc>\u001b[0m in \u001b[0;36m<module>\u001b[0;34m\u001b[0m\n\u001b[1;32m      1\u001b[0m \u001b[0;32mimport\u001b[0m \u001b[0mtensorflow_quantum\u001b[0m \u001b[0;32mas\u001b[0m \u001b[0mtfq\u001b[0m\u001b[0;34m\u001b[0m\u001b[0;34m\u001b[0m\u001b[0m\n\u001b[1;32m      2\u001b[0m \u001b[0mstate_layer\u001b[0m \u001b[0;34m=\u001b[0m \u001b[0mtfq\u001b[0m\u001b[0;34m.\u001b[0m\u001b[0mlayers\u001b[0m\u001b[0;34m.\u001b[0m\u001b[0mState\u001b[0m\u001b[0;34m(\u001b[0m\u001b[0mbackend\u001b[0m\u001b[0;34m=\u001b[0m\u001b[0;32mNone\u001b[0m\u001b[0;34m)\u001b[0m\u001b[0;34m\u001b[0m\u001b[0;34m\u001b[0m\u001b[0m\n\u001b[0;32m----> 3\u001b[0;31m \u001b[0mstates\u001b[0m \u001b[0;34m=\u001b[0m \u001b[0mstate_layer\u001b[0m\u001b[0;34m(\u001b[0m\u001b[0mcq\u001b[0m\u001b[0;34m,\u001b[0m \u001b[0msymbol_names\u001b[0m\u001b[0;34m=\u001b[0m\u001b[0msymbol_names\u001b[0m\u001b[0;34m,\u001b[0m \u001b[0msymbol_values\u001b[0m\u001b[0;34m=\u001b[0m\u001b[0mresolver\u001b[0m\u001b[0;34m)\u001b[0m\u001b[0;34m\u001b[0m\u001b[0;34m\u001b[0m\u001b[0m\n\u001b[0m",
      "\u001b[0;32m/afs/cern.ch/work/c/chlcheng/public/local/conda/miniconda/envs/ml-base/lib/python3.7/site-packages/tensorflow_core/python/keras/engine/base_layer.py\u001b[0m in \u001b[0;36m__call__\u001b[0;34m(self, inputs, *args, **kwargs)\u001b[0m\n\u001b[1;32m    820\u001b[0m           with base_layer_utils.autocast_context_manager(\n\u001b[1;32m    821\u001b[0m               self._compute_dtype):\n\u001b[0;32m--> 822\u001b[0;31m             \u001b[0moutputs\u001b[0m \u001b[0;34m=\u001b[0m \u001b[0mself\u001b[0m\u001b[0;34m.\u001b[0m\u001b[0mcall\u001b[0m\u001b[0;34m(\u001b[0m\u001b[0mcast_inputs\u001b[0m\u001b[0;34m,\u001b[0m \u001b[0;34m*\u001b[0m\u001b[0margs\u001b[0m\u001b[0;34m,\u001b[0m \u001b[0;34m**\u001b[0m\u001b[0mkwargs\u001b[0m\u001b[0;34m)\u001b[0m\u001b[0;34m\u001b[0m\u001b[0;34m\u001b[0m\u001b[0m\n\u001b[0m\u001b[1;32m    823\u001b[0m           \u001b[0mself\u001b[0m\u001b[0;34m.\u001b[0m\u001b[0m_handle_activity_regularization\u001b[0m\u001b[0;34m(\u001b[0m\u001b[0minputs\u001b[0m\u001b[0;34m,\u001b[0m \u001b[0moutputs\u001b[0m\u001b[0;34m)\u001b[0m\u001b[0;34m\u001b[0m\u001b[0;34m\u001b[0m\u001b[0m\n\u001b[1;32m    824\u001b[0m           \u001b[0mself\u001b[0m\u001b[0;34m.\u001b[0m\u001b[0m_set_mask_metadata\u001b[0m\u001b[0;34m(\u001b[0m\u001b[0minputs\u001b[0m\u001b[0;34m,\u001b[0m \u001b[0moutputs\u001b[0m\u001b[0;34m,\u001b[0m \u001b[0minput_masks\u001b[0m\u001b[0;34m)\u001b[0m\u001b[0;34m\u001b[0m\u001b[0;34m\u001b[0m\u001b[0m\n",
      "\u001b[0;32m/afs/cern.ch/work/c/chlcheng/public/local/conda/miniconda/envs/ml-base/lib/python3.7/site-packages/tensorflow_quantum/python/layers/circuit_executors/state.py\u001b[0m in \u001b[0;36mcall\u001b[0;34m(self, inputs, symbol_names, symbol_values)\u001b[0m\n\u001b[1;32m    145\u001b[0m         \"\"\"\n\u001b[1;32m    146\u001b[0m         inputs, symbol_names, symbol_values = input_checks.expand_circuits(\n\u001b[0;32m--> 147\u001b[0;31m             inputs, symbol_names, symbol_values)\n\u001b[0m\u001b[1;32m    148\u001b[0m         \u001b[0;32mreturn\u001b[0m \u001b[0mself\u001b[0m\u001b[0;34m.\u001b[0m\u001b[0mstate_op\u001b[0m\u001b[0;34m(\u001b[0m\u001b[0minputs\u001b[0m\u001b[0;34m,\u001b[0m \u001b[0msymbol_names\u001b[0m\u001b[0;34m,\u001b[0m \u001b[0msymbol_values\u001b[0m\u001b[0;34m)\u001b[0m\u001b[0;34m\u001b[0m\u001b[0;34m\u001b[0m\u001b[0m\n",
      "\u001b[0;32m/afs/cern.ch/work/c/chlcheng/public/local/conda/miniconda/envs/ml-base/lib/python3.7/site-packages/tensorflow_quantum/python/layers/circuit_executors/input_checks.py\u001b[0m in \u001b[0;36mexpand_circuits\u001b[0;34m(inputs, symbol_names, symbol_values)\u001b[0m\n\u001b[1;32m     74\u001b[0m     \u001b[0;32mif\u001b[0m \u001b[0;32mnot\u001b[0m \u001b[0mtf\u001b[0m\u001b[0;34m.\u001b[0m\u001b[0mis_tensor\u001b[0m\u001b[0;34m(\u001b[0m\u001b[0msymbol_values\u001b[0m\u001b[0;34m)\u001b[0m\u001b[0;34m:\u001b[0m\u001b[0;34m\u001b[0m\u001b[0;34m\u001b[0m\u001b[0m\n\u001b[1;32m     75\u001b[0m         raise TypeError(\"symbol_values cannot be parsed to float32\"\n\u001b[0;32m---> 76\u001b[0;31m                         \" tensor given input: \".format(symbol_values))\n\u001b[0m\u001b[1;32m     77\u001b[0m \u001b[0;34m\u001b[0m\u001b[0m\n\u001b[1;32m     78\u001b[0m     \u001b[0msymbol_batch_dim\u001b[0m \u001b[0;34m=\u001b[0m \u001b[0mtf\u001b[0m\u001b[0;34m.\u001b[0m\u001b[0mgather\u001b[0m\u001b[0;34m(\u001b[0m\u001b[0mtf\u001b[0m\u001b[0;34m.\u001b[0m\u001b[0mshape\u001b[0m\u001b[0;34m(\u001b[0m\u001b[0msymbol_values\u001b[0m\u001b[0;34m)\u001b[0m\u001b[0;34m,\u001b[0m \u001b[0;36m0\u001b[0m\u001b[0;34m)\u001b[0m\u001b[0;34m\u001b[0m\u001b[0;34m\u001b[0m\u001b[0m\n",
      "\u001b[0;31mTypeError\u001b[0m: symbol_values cannot be parsed to float32 tensor given input: "
     ]
    }
   ],
   "source": [
    "import tensorflow_quantum as tfq\n",
    "state_layer = tfq.layers.State(backend=None)\n",
    "states = state_layer(cq, symbol_names=symbol_names, symbol_values=resolver)"
   ]
  },
  {
   "cell_type": "code",
   "execution_count": 64,
   "metadata": {},
   "outputs": [
    {
     "ename": "ResourceExhaustedError",
     "evalue": "OOM when allocating tensor with shape[3000,1048576] and type complex64 on /job:localhost/replica:0/task:0/device:CPU:0 by allocator cpu [Op:TfqSimulateState]",
     "output_type": "error",
     "traceback": [
      "\u001b[0;31m---------------------------------------------------------------------------\u001b[0m",
      "\u001b[0;31mResourceExhaustedError\u001b[0m                    Traceback (most recent call last)",
      "\u001b[0;32m<ipython-input-64-6aa5c655213a>\u001b[0m in \u001b[0;36m<module>\u001b[0;34m\u001b[0m\n\u001b[1;32m     17\u001b[0m \u001b[0mstate_layer\u001b[0m \u001b[0;34m=\u001b[0m \u001b[0mtfq\u001b[0m\u001b[0;34m.\u001b[0m\u001b[0mlayers\u001b[0m\u001b[0;34m.\u001b[0m\u001b[0mState\u001b[0m\u001b[0;34m(\u001b[0m\u001b[0;34m)\u001b[0m\u001b[0;34m\u001b[0m\u001b[0;34m\u001b[0m\u001b[0m\n\u001b[1;32m     18\u001b[0m \u001b[0msymbol_names\u001b[0m \u001b[0;34m=\u001b[0m \u001b[0;34m[\u001b[0m\u001b[0mtheta\u001b[0m\u001b[0;34m.\u001b[0m\u001b[0mname\u001b[0m \u001b[0;32mfor\u001b[0m \u001b[0mtheta\u001b[0m \u001b[0;32min\u001b[0m \u001b[0mthetas\u001b[0m\u001b[0;34m]\u001b[0m\u001b[0;34m\u001b[0m\u001b[0;34m\u001b[0m\u001b[0m\n\u001b[0;32m---> 19\u001b[0;31m \u001b[0mstates\u001b[0m \u001b[0;34m=\u001b[0m \u001b[0mstate_layer\u001b[0m\u001b[0;34m(\u001b[0m\u001b[0mcq\u001b[0m\u001b[0;34m,\u001b[0m \u001b[0msymbol_names\u001b[0m\u001b[0;34m=\u001b[0m\u001b[0msymbol_names\u001b[0m\u001b[0;34m,\u001b[0m \u001b[0msymbol_values\u001b[0m\u001b[0;34m=\u001b[0m\u001b[0mx\u001b[0m\u001b[0;34m)\u001b[0m\u001b[0;34m\u001b[0m\u001b[0;34m\u001b[0m\u001b[0m\n\u001b[0m",
      "\u001b[0;32m/afs/cern.ch/work/c/chlcheng/public/local/conda/miniconda/envs/ml-base/lib/python3.7/site-packages/tensorflow_core/python/keras/engine/base_layer.py\u001b[0m in \u001b[0;36m__call__\u001b[0;34m(self, inputs, *args, **kwargs)\u001b[0m\n\u001b[1;32m    820\u001b[0m           with base_layer_utils.autocast_context_manager(\n\u001b[1;32m    821\u001b[0m               self._compute_dtype):\n\u001b[0;32m--> 822\u001b[0;31m             \u001b[0moutputs\u001b[0m \u001b[0;34m=\u001b[0m \u001b[0mself\u001b[0m\u001b[0;34m.\u001b[0m\u001b[0mcall\u001b[0m\u001b[0;34m(\u001b[0m\u001b[0mcast_inputs\u001b[0m\u001b[0;34m,\u001b[0m \u001b[0;34m*\u001b[0m\u001b[0margs\u001b[0m\u001b[0;34m,\u001b[0m \u001b[0;34m**\u001b[0m\u001b[0mkwargs\u001b[0m\u001b[0;34m)\u001b[0m\u001b[0;34m\u001b[0m\u001b[0;34m\u001b[0m\u001b[0m\n\u001b[0m\u001b[1;32m    823\u001b[0m           \u001b[0mself\u001b[0m\u001b[0;34m.\u001b[0m\u001b[0m_handle_activity_regularization\u001b[0m\u001b[0;34m(\u001b[0m\u001b[0minputs\u001b[0m\u001b[0;34m,\u001b[0m \u001b[0moutputs\u001b[0m\u001b[0;34m)\u001b[0m\u001b[0;34m\u001b[0m\u001b[0;34m\u001b[0m\u001b[0m\n\u001b[1;32m    824\u001b[0m           \u001b[0mself\u001b[0m\u001b[0;34m.\u001b[0m\u001b[0m_set_mask_metadata\u001b[0m\u001b[0;34m(\u001b[0m\u001b[0minputs\u001b[0m\u001b[0;34m,\u001b[0m \u001b[0moutputs\u001b[0m\u001b[0;34m,\u001b[0m \u001b[0minput_masks\u001b[0m\u001b[0;34m)\u001b[0m\u001b[0;34m\u001b[0m\u001b[0;34m\u001b[0m\u001b[0m\n",
      "\u001b[0;32m/afs/cern.ch/work/c/chlcheng/public/local/conda/miniconda/envs/ml-base/lib/python3.7/site-packages/tensorflow_quantum/python/layers/circuit_executors/state.py\u001b[0m in \u001b[0;36mcall\u001b[0;34m(self, inputs, symbol_names, symbol_values)\u001b[0m\n\u001b[1;32m    146\u001b[0m         inputs, symbol_names, symbol_values = input_checks.expand_circuits(\n\u001b[1;32m    147\u001b[0m             inputs, symbol_names, symbol_values)\n\u001b[0;32m--> 148\u001b[0;31m         \u001b[0;32mreturn\u001b[0m \u001b[0mself\u001b[0m\u001b[0;34m.\u001b[0m\u001b[0mstate_op\u001b[0m\u001b[0;34m(\u001b[0m\u001b[0minputs\u001b[0m\u001b[0;34m,\u001b[0m \u001b[0msymbol_names\u001b[0m\u001b[0;34m,\u001b[0m \u001b[0msymbol_values\u001b[0m\u001b[0;34m)\u001b[0m\u001b[0;34m\u001b[0m\u001b[0;34m\u001b[0m\u001b[0m\n\u001b[0m",
      "\u001b[0;32m/afs/cern.ch/work/c/chlcheng/public/local/conda/miniconda/envs/ml-base/lib/python3.7/site-packages/tensorflow_quantum/core/ops/circuit_execution_ops.py\u001b[0m in \u001b[0;36m<lambda>\u001b[0;34m(programs, symbol_names, symbol_values)\u001b[0m\n\u001b[1;32m    239\u001b[0m         \u001b[0;32mreturn\u001b[0m \u001b[0;32mlambda\u001b[0m \u001b[0mprograms\u001b[0m\u001b[0;34m,\u001b[0m \u001b[0msymbol_names\u001b[0m\u001b[0;34m,\u001b[0m \u001b[0msymbol_values\u001b[0m\u001b[0;34m:\u001b[0m\u001b[0;31m \u001b[0m\u001b[0;31m\\\u001b[0m\u001b[0;34m\u001b[0m\u001b[0;34m\u001b[0m\u001b[0m\n\u001b[1;32m    240\u001b[0m         tfq_utility_ops.padded_to_ragged(TFQWavefunctionSimulator.state(\n\u001b[0;32m--> 241\u001b[0;31m             programs, symbol_names, symbol_values))\n\u001b[0m\u001b[1;32m    242\u001b[0m \u001b[0;34m\u001b[0m\u001b[0m\n\u001b[1;32m    243\u001b[0m     \u001b[0;32mif\u001b[0m \u001b[0misinstance\u001b[0m\u001b[0;34m(\u001b[0m\u001b[0mbackend\u001b[0m\u001b[0;34m,\u001b[0m \u001b[0;34m(\u001b[0m\u001b[0mcirq\u001b[0m\u001b[0;34m.\u001b[0m\u001b[0mSimulatesFinalState\u001b[0m\u001b[0;34m)\u001b[0m\u001b[0;34m)\u001b[0m\u001b[0;34m:\u001b[0m\u001b[0;34m\u001b[0m\u001b[0;34m\u001b[0m\u001b[0m\n",
      "\u001b[0;32m/afs/cern.ch/work/c/chlcheng/public/local/conda/miniconda/envs/ml-base/lib/python3.7/site-packages/tensorflow_quantum/core/ops/tfq_simulate_ops.py\u001b[0m in \u001b[0;36mtfq_simulate_state\u001b[0;34m(programs, symbol_names, symbol_values)\u001b[0m\n\u001b[1;32m     67\u001b[0m     \"\"\"\n\u001b[1;32m     68\u001b[0m     return SIM_OP_MODULE.tfq_simulate_state(programs, symbol_names,\n\u001b[0;32m---> 69\u001b[0;31m                                             tf.cast(symbol_values, tf.float32))\n\u001b[0m\u001b[1;32m     70\u001b[0m \u001b[0;34m\u001b[0m\u001b[0m\n\u001b[1;32m     71\u001b[0m \u001b[0;34m\u001b[0m\u001b[0m\n",
      "\u001b[0;32m<string>\u001b[0m in \u001b[0;36mtfq_simulate_state\u001b[0;34m(programs, symbol_names, symbol_values, name)\u001b[0m\n",
      "\u001b[0;32m/afs/cern.ch/work/c/chlcheng/public/local/conda/miniconda/envs/ml-base/lib/python3.7/site-packages/tensorflow_core/python/framework/ops.py\u001b[0m in \u001b[0;36mraise_from_not_ok_status\u001b[0;34m(e, name)\u001b[0m\n\u001b[1;32m   6604\u001b[0m   \u001b[0mmessage\u001b[0m \u001b[0;34m=\u001b[0m \u001b[0me\u001b[0m\u001b[0;34m.\u001b[0m\u001b[0mmessage\u001b[0m \u001b[0;34m+\u001b[0m \u001b[0;34m(\u001b[0m\u001b[0;34m\" name: \"\u001b[0m \u001b[0;34m+\u001b[0m \u001b[0mname\u001b[0m \u001b[0;32mif\u001b[0m \u001b[0mname\u001b[0m \u001b[0;32mis\u001b[0m \u001b[0;32mnot\u001b[0m \u001b[0;32mNone\u001b[0m \u001b[0;32melse\u001b[0m \u001b[0;34m\"\"\u001b[0m\u001b[0;34m)\u001b[0m\u001b[0;34m\u001b[0m\u001b[0;34m\u001b[0m\u001b[0m\n\u001b[1;32m   6605\u001b[0m   \u001b[0;31m# pylint: disable=protected-access\u001b[0m\u001b[0;34m\u001b[0m\u001b[0;34m\u001b[0m\u001b[0;34m\u001b[0m\u001b[0m\n\u001b[0;32m-> 6606\u001b[0;31m   \u001b[0msix\u001b[0m\u001b[0;34m.\u001b[0m\u001b[0mraise_from\u001b[0m\u001b[0;34m(\u001b[0m\u001b[0mcore\u001b[0m\u001b[0;34m.\u001b[0m\u001b[0m_status_to_exception\u001b[0m\u001b[0;34m(\u001b[0m\u001b[0me\u001b[0m\u001b[0;34m.\u001b[0m\u001b[0mcode\u001b[0m\u001b[0;34m,\u001b[0m \u001b[0mmessage\u001b[0m\u001b[0;34m)\u001b[0m\u001b[0;34m,\u001b[0m \u001b[0;32mNone\u001b[0m\u001b[0;34m)\u001b[0m\u001b[0;34m\u001b[0m\u001b[0;34m\u001b[0m\u001b[0m\n\u001b[0m\u001b[1;32m   6607\u001b[0m   \u001b[0;31m# pylint: enable=protected-access\u001b[0m\u001b[0;34m\u001b[0m\u001b[0;34m\u001b[0m\u001b[0;34m\u001b[0m\u001b[0m\n\u001b[1;32m   6608\u001b[0m \u001b[0;34m\u001b[0m\u001b[0m\n",
      "\u001b[0;32m/afs/cern.ch/work/c/chlcheng/public/local/conda/miniconda/envs/ml-base/lib/python3.7/site-packages/six.py\u001b[0m in \u001b[0;36mraise_from\u001b[0;34m(value, from_value)\u001b[0m\n",
      "\u001b[0;31mResourceExhaustedError\u001b[0m: OOM when allocating tensor with shape[3000,1048576] and type complex64 on /job:localhost/replica:0/task:0/device:CPU:0 by allocator cpu [Op:TfqSimulateState]"
     ]
    }
   ],
   "source": [
    "import numpy as np\n",
    "import sympy\n",
    "import cirq\n",
    "from cirq import Circuit, GridQubit\n",
    "import tensorflow_quantum as tfq\n",
    "\n",
    "n_qubit = 20\n",
    "n_circuits = 2047\n",
    "\n",
    "\n",
    "cq = Circuit()\n",
    "thetas = sympy.symarray('θ', n_qubit)\n",
    "qubits = GridQubit.rect(1, n_qubit)\n",
    "cq.append([cirq.rz(theta)(qubit) for theta, qubit in zip(thetas, qubits)])\n",
    "\n",
    "x = np.random.rand(3000, 20)\n",
    "state_layer = tfq.layers.State()\n",
    "symbol_names = [theta.name for theta in thetas]\n",
    "states = state_layer(cq, symbol_names=symbol_names, symbol_values=x)"
   ]
  },
  {
   "cell_type": "code",
   "execution_count": 1,
   "metadata": {},
   "outputs": [],
   "source": [
    "import sympy as sp"
   ]
  },
  {
   "cell_type": "code",
   "execution_count": 5,
   "metadata": {},
   "outputs": [
    {
     "data": {
      "text/plain": [
       "sympy.core.numbers.Pi"
      ]
     },
     "execution_count": 5,
     "metadata": {},
     "output_type": "execute_result"
    }
   ],
   "source": [
    "type(sp.pi)"
   ]
  },
  {
   "cell_type": "code",
   "execution_count": 1,
   "metadata": {},
   "outputs": [],
   "source": [
    "import tensorflow as tf\n",
    "import tensorflow_quantum as tfq\n",
    "import numpy as np\n",
    "import glob\n",
    "import os\n",
    "import quple\n",
    "from quple.classifiers import QSVM, QSVMLogger\n",
    "from quple.data_encoding import  EncodingCircuit\n",
    "from quple import PauliBlock\n",
    "from quple.data_encoding.encoding_maps import trial_2\n",
    "from quple.utils.sysinfo import get_cpu_count"
   ]
  },
  {
   "cell_type": "code",
   "execution_count": 2,
   "metadata": {},
   "outputs": [],
   "source": [
    "def compute_kernel_from_states(data_batch, stride=1000):\n",
    "    batch_dim = tf.gather(tf.shape(data_batch), 0)\n",
    "    empty_symbols = tf.convert_to_tensor([], dtype=tf.dtypes.string)\n",
    "    empty_values = tf.tile(tf.convert_to_tensor([[]]), [stride, 1])\n",
    "    ref_others = tf.reshape(tf.tile(data_batch, [stride]), [stride, batch_dim])\n",
    "    res = np.empty((batch_dim, batch_dim))\n",
    "    for i in range(0, batch_dim, stride):\n",
    "        print('Processing state overlaps: ', i, '/', batch_dim.numpy())\n",
    "        interim = tfq.math.inner_product(data_batch[i:i+stride], empty_symbols, empty_values, ref_others)\n",
    "        res[i:i+stride] = (tf.math.abs(interim) ** 2).numpy()\n",
    "    return res"
   ]
  },
  {
   "cell_type": "code",
   "execution_count": 3,
   "metadata": {},
   "outputs": [],
   "source": [
    "files = glob.glob('/eos/atlas/unpledged/group-wisc/users/shsun/for_akaid/qsvm_inputs_q20_20k/*.npz')"
   ]
  },
  {
   "cell_type": "code",
   "execution_count": 4,
   "metadata": {},
   "outputs": [],
   "source": [
    "data = dict(np.load(files[0],allow_pickle=True))\n",
    "x_train, x_val, x_test = data['x_train'], data['x_val'], data['x_test']\n",
    "y_train, y_val, y_test = data['y_train'], data['y_val'], data['y_test']"
   ]
  },
  {
   "cell_type": "code",
   "execution_count": 5,
   "metadata": {},
   "outputs": [],
   "source": [
    "quple.MAX_WORKERS = get_cpu_count()\n",
    "def get_encoding_circuit(n_qubit, depth, degree):\n",
    "    if degree > 0:\n",
    "        encoding_circuit = EncodingCircuit(feature_dimension=n_qubit, \n",
    "                                            copies=depth,\n",
    "                                            rotation_blocks=['H',PauliBlock('Z', trial_2(1)),\n",
    "                                                               PauliBlock('Y',trial_2(degree))],\n",
    "                                            entanglement_blocks=[PauliBlock('ZZ',trial_2(degree))],\n",
    "                                            entangle_strategy='alternate_linear')\n",
    "    else:\n",
    "        encoding_circuit = EncodingCircuit(feature_dimension=n_qubit, \n",
    "                                            copies=depth,\n",
    "                                            rotation_blocks=['H',PauliBlock('Z', trial_2(1))],\n",
    "                                            entanglement_blocks=[PauliBlock('ZZ',trial_2(0))],\n",
    "                                            entangle_strategy='alternate_linear') \n",
    "    return encoding_circuit "
   ]
  },
  {
   "cell_type": "code",
   "execution_count": 6,
   "metadata": {},
   "outputs": [],
   "source": [
    "cq = get_encoding_circuit(20, 2, 2)"
   ]
  },
  {
   "cell_type": "code",
   "execution_count": 7,
   "metadata": {},
   "outputs": [
    {
     "name": "stdout",
     "output_type": "stream",
     "text": [
      "1.532259225845337\n"
     ]
    }
   ],
   "source": [
    "import time\n",
    "start = time.time()\n",
    "resolved_circuits = cq.resolve_parameters(x_train[:100])\n",
    "end = time.time()\n",
    "print(end-start)"
   ]
  },
  {
   "cell_type": "code",
   "execution_count": 8,
   "metadata": {},
   "outputs": [
    {
     "name": "stdout",
     "output_type": "stream",
     "text": [
      "5.003594398498535\n"
     ]
    }
   ],
   "source": [
    "import time\n",
    "start = time.time()\n",
    "resolved_circuits = cq.resolve_parameters_with_tfq(x_train[:100])\n",
    "end = time.time()\n",
    "print(end-start)"
   ]
  },
  {
   "cell_type": "code",
   "execution_count": 9,
   "metadata": {},
   "outputs": [
    {
     "data": {
      "text/html": [
       "<pre style=\"overflow: auto; white-space: pre;\">(0, 0): ────H───Rz(-0.234π)───Ry(0.172π)───@────────────────@───────────────────────────────────────────────────────────────────────────────────────────────────────────────────────────────────────────────────────────────────────────────────────────────────────────────────────────────────H───Rz(-0.234π)───Ry(0.172π)────@─────────────────────────@───────────────────────────────────────────────────────────────────────────────────────────────────────────────────────────────────────────────────────────────────────────────────────────────────────────────────────────────────────\n",
       "                                           │                │                                                                                                                                                                                                                                                                   │                         │\n",
       "(0, 1): ────H───Rz(-0.212π)───Ry(0.142π)───X───Rz(0.199π)───X─────────────────────────@─────────────────────────────────────────────────────────────────────────────────────────────────@───────────────────────────────────────────────────────────────────────────────────────────────────────H───Rz(-0.212π)───Ry(0.142π)────X────────────Rz(0.199π)───X─────────────────────────@─────────────────────────────────────────────────────────────────────────────────────────────────@───────────────────────────────────────────────────────────────────────────────────────────────────────────\n",
       "                                                                                      │                                                                                                 │                                                                                                                                                                                           │                                                                                                 │\n",
       "(0, 2): ────H───Rz(-0.094π)───Ry(0.028π)───@─────────────────────────────@────────────X────────────────────────────────────────────────────────────────────────────────────Rz(0.094π)───X───────────────────────────────────────────────────────────────────────────────────────────────────────H───Rz(-0.094π)───Ry(0.028π)────@──────────────────────────────────────@────────────X────────────────────────────────────────────────────────────────────────────────────Rz(0.094π)───X───────────────────────────────────────────────────────────────────────────────────────────────────────────\n",
       "                                           │                             │                                                                                                                                                                                                                                                      │                                      │\n",
       "(0, 3): ────H───Rz(-0.089π)───Ry(0.025π)───X────────────────Rz(0.033π)───X────────────────────@──────────────────────────────────────────────────────────────────────────────────────────────────────@──────────────────────────────────────────────────────────────────────────────────────────H───Rz(-0.089π)───Ry(0.025π)────X─────────────────────────Rz(0.033π)───X────────────────────@──────────────────────────────────────────────────────────────────────────────────────────────────────@──────────────────────────────────────────────────────────────────────────────────────────────\n",
       "                                                                                              │                                                                                                      │                                                                                                                                                                                      │                                                                                                      │\n",
       "(0, 4): ────H───Rz(-0.056π)───Ry(0.01π)────@──────────────────────────────────────────@───────X─────────────────────────────────────────────────────────────────────────────────────────Rz(0.021π)───X──────────────────────────────────────────────────────────────────────────────────────────H───Rz(-0.056π)───Ry(0.01π)─────@───────────────────────────────────────────────────@───────X─────────────────────────────────────────────────────────────────────────────────────────Rz(0.021π)───X──────────────────────────────────────────────────────────────────────────────────────────────\n",
       "                                           │                                          │                                                                                                                                                                                                                                         │                                                   │\n",
       "(0, 5): ────H───Rz(0.022π)────Ry(0.001π)───X─────────────────────────────Rz(0.001π)───X────────────────────@──────────────────────────────────────────────────────────────────────────────────────────────────────@─────────────────────────────────────────────────────────────────────────────H───Rz(0.022π)────Ry(0.001π)────X──────────────────────────────────────Rz(0.001π)───X────────────────────@──────────────────────────────────────────────────────────────────────────────────────────────────────@─────────────────────────────────────────────────────────────────────────────────\n",
       "                                                                                                           │                                                                                                      │                                                                                                                                                                                      │                                                                                                      │\n",
       "(0, 6): ────H───Rz(0.013π)────Ry(0.001π)───@──────────────────────────────────────────────────@────────────X─────────────────────────────────────────────────────────────────────────────────────────Rz(0.001π)───X─────────────────────────────────────────────────────────────────────────────H───Rz(0.013π)────Ry(0.001π)────@───────────────────────────────────────────────────────────@────────────X─────────────────────────────────────────────────────────────────────────────────────────Rz(0.001π)───X─────────────────────────────────────────────────────────────────────────────────\n",
       "                                           │                                                  │                                                                                                                                                                                                                                 │                                                           │\n",
       "(0, 7): ────H───Rz(-0.021π)───Ry(0.001π)───X──────────────────────────────────────────Rz(0)───X─────────────────────────@──────────────────────────────────────────────────────────────────────────────────────────────────────@────────────────────────────────────────────────────────────────H───Rz(-0.021π)───Ry(0.001π)────X───────────────────────────────────────────────────Rz(0)───X─────────────────────────@──────────────────────────────────────────────────────────────────────────────────────────────────────@────────────────────────────────────────────────────────────────────\n",
       "                                                                                                                        │                                                                                                      │                                                                                                                                                                                      │                                                                                                      │\n",
       "(0, 8): ────H───Rz(-0.168π)───Ry(0.088π)───@───────────────────────────────────────────────────────────────@────────────X─────────────────────────────────────────────────────────────────────────────────────────Rz(0.036π)───X────────────────────────────────────────────────────────────────H───Rz(-0.168π)───Ry(0.088π)────@────────────────────────────────────────────────────────────────────────@────────────X─────────────────────────────────────────────────────────────────────────────────────────Rz(0.036π)───X────────────────────────────────────────────────────────────────────\n",
       "                                           │                                                               │                                                                                                                                                                                                                    │                                                                        │\n",
       "(0, 9): ────H───Rz(-0.165π)───Ry(0.085π)───X──────────────────────────────────────────────────Rz(0.111π)───X────────────────────────@───────────────────────────────────────────────────────────────────────────────────────────────────────@───────────────────────────────────────────────────H───Rz(-0.165π)───Ry(0.085π)────X───────────────────────────────────────────────────────────Rz(0.111π)───X────────────────────────@───────────────────────────────────────────────────────────────────────────────────────────────────────@───────────────────────────────────────────────────────\n",
       "                                                                                                                                    │                                                                                                       │                                                                                                                                                                                     │                                                                                                       │\n",
       "(0, 10): ───H───Rz(-0.063π)───Ry(0.012π)───@────────────────────────────────────────────────────────────────────────────@───────────X──────────────────────────────────────────────────────────────────────────────────────────Rz(0.052π)───X───────────────────────────────────────────────────H───Rz(-0.063π)───Ry(0.012π)────@─────────────────────────────────────────────────────────────────────────────────────@───────────X──────────────────────────────────────────────────────────────────────────────────────────Rz(0.052π)───X───────────────────────────────────────────────────────\n",
       "                                           │                                                                            │                                                                                                                                                                                                       │                                                                                     │\n",
       "(0, 11): ───H───Rz(0.007π)────Ry(0)────────X───────────────────────────────────────────────────────────────Rz(0.003π)───X────────────────────────@───────────────────────────────────────────────────────────────────────────────────────────────────────@──────────────────────────────────────H───Rz(0.007π)────Ry(0)─────────X────────────────────────────────────────────────────────────────────────Rz(0.003π)───X────────────────────────@───────────────────────────────────────────────────────────────────────────────────────────────────────@──────────────────────────────────────────\n",
       "                                                                                                                                                 │                                                                                                       │                                                                                                                                                                                     │                                                                                                       │\n",
       "(0, 12): ───H───Rz(-0.101π)───Ry(0.032π)───@────────────────────────────────────────────────────────────────────────────────────────@────────────X──────────────────────────────────────────────────────────────────────────────────────────Rz(0.009π)───X──────────────────────────────────────H───Rz(-0.101π)───Ry(0.032π)────@─────────────────────────────────────────────────────────────────────────────────────────────────@────────────X──────────────────────────────────────────────────────────────────────────────────────────Rz(0.009π)───X──────────────────────────────────────────\n",
       "                                           │                                                                                        │                                                                                                                                                                                           │                                                                                                 │\n",
       "(0, 13): ───H───Rz(0.002π)────Ry(0)────────X────────────────────────────────────────────────────────────────────────────Rz(0.01π)───X─────────────────────────@───────────────────────────────────────────────────────────────────────────────────────────────────────@─────────────────────────H───Rz(0.002π)────Ry(0)─────────X─────────────────────────────────────────────────────────────────────────────────────Rz(0.01π)───X─────────────────────────@───────────────────────────────────────────────────────────────────────────────────────────────────────@─────────────────────────────\n",
       "                                                                                                                                                              │                                                                                                       │                                                                                                                                                                                     │                                                                                                       │\n",
       "(0, 14): ───H───Rz(-0.059π)───Ry(0.011π)───@─────────────────────────────────────────────────────────────────────────────────────────────────────@────────────X──────────────────────────────────────────────────────────────────────────────────────────Rz(0.003π)───X─────────────────────────H───Rz(-0.059π)───Ry(0.011π)────@──────────────────────────────────────────────────────────────────────────────────────────────────────────────@────────────X──────────────────────────────────────────────────────────────────────────────────────────Rz(0.003π)───X─────────────────────────────\n",
       "                                           │                                                                                                     │                                                                                                                                                                              │                                                                                                              │\n",
       "(0, 15): ───H───Rz(-0.267π)───Ry(0.224π)───X────────────────────────────────────────────────────────────────────────────────────────Rz(0.107π)───X─────────────────────────@───────────────────────────────────────────────────────────────────────────────────────────────────────@────────────H───Rz(-0.267π)───Ry(0.224π)────X─────────────────────────────────────────────────────────────────────────────────────────────────Rz(0.107π)───X─────────────────────────@───────────────────────────────────────────────────────────────────────────────────────────────────────@────────────────\n",
       "                                                                                                                                                                           │                                                                                                       │                                                                                                                                                                                     │                                                                                                       │\n",
       "(0, 16): ───H───Rz(-0.152π)───Ry(0.072π)───@──────────────────────────────────────────────────────────────────────────────────────────────────────────────────@────────────X──────────────────────────────────────────────────────────────────────────────────────────Rz(0.175π)───X────────────H───Rz(-0.152π)───Ry(0.072π)─────────────────@──────────────────────────────────────────────────────────────────────────────────────────────────────────────@────────────X──────────────────────────────────────────────────────────────────────────────────────────Rz(0.175π)───X────────────────\n",
       "                                           │                                                                                                                  │                                                                                                                                                                              │                                                                                                              │\n",
       "(0, 17): ───H───Rz(-0.026π)───Ry(0.002π)───X─────────────────────────────────────────────────────────────────────────────────────────────────────Rz(0.031π)───X─────────────────────────@───────────────────────────────────────────────────────────────────────────────────────────────────────@───H─────────────Rz(-0.026π)───Ry(0.002π)───X─────────────────────────────────────────────────────────────────────────────────────────────────Rz(0.031π)───X─────────────────────────@───────────────────────────────────────────────────────────────────────────────────────────────────────@───\n",
       "                                                                                                                                                                                        │                                                                                                       │                                                                                                                                                                                     │                                                                                                       │\n",
       "(0, 18): ───H───Rz(-0.09π)────Ry(0.025π)───@───────────────────────────────────────────────────────────────────────────────────────────────────────────────────────────────@────────────X──────────────────────────────────────────────────────────────────────────────────────────Rz(0.013π)───X───H─────────────Rz(-0.09π)────Ry(0.025π)───@───────────────────────────────────────────────────────────────────────────────────────────────────────────────────────────@────────────X──────────────────────────────────────────────────────────────────────────────────────────Rz(0.013π)───X───\n",
       "                                           │                                                                                                                               │                                                                                                                                                                 │                                                                                                                           │\n",
       "(0, 19): ───H───Rz(-0.057π)───Ry(0.01π)────X──────────────────────────────────────────────────────────────────────────────────────────────────────────────────Rz(0.022π)───X────────────────────────────────────────────────────────────────────────────────────────────────────────────────────────H─────────────Rz(-0.057π)───Ry(0.01π)────X──────────────────────────────────────────────────────────────────────────────────────────────────────────────Rz(0.022π)───X────────────────────────────────────────────────────────────────────────────────────────────────────────────────────────</pre>"
      ],
      "text/plain": [
       "(0, 0): ────H───Rz(-0.234π)───Ry(0.172π)───@────────────────@───────────────────────────────────────────────────────────────────────────────────────────────────────────────────────────────────────────────────────────────────────────────────────────────────────────────────────────────────H───Rz(-0.234π)───Ry(0.172π)────@─────────────────────────@───────────────────────────────────────────────────────────────────────────────────────────────────────────────────────────────────────────────────────────────────────────────────────────────────────────────────────────────────────\n",
       "                                           │                │                                                                                                                                                                                                                                                                   │                         │\n",
       "(0, 1): ────H───Rz(-0.212π)───Ry(0.142π)───X───Rz(0.199π)───X─────────────────────────@─────────────────────────────────────────────────────────────────────────────────────────────────@───────────────────────────────────────────────────────────────────────────────────────────────────────H───Rz(-0.212π)───Ry(0.142π)────X────────────Rz(0.199π)───X─────────────────────────@─────────────────────────────────────────────────────────────────────────────────────────────────@───────────────────────────────────────────────────────────────────────────────────────────────────────────\n",
       "                                                                                      │                                                                                                 │                                                                                                                                                                                           │                                                                                                 │\n",
       "(0, 2): ────H───Rz(-0.094π)───Ry(0.028π)───@─────────────────────────────@────────────X────────────────────────────────────────────────────────────────────────────────────Rz(0.094π)───X───────────────────────────────────────────────────────────────────────────────────────────────────────H───Rz(-0.094π)───Ry(0.028π)────@──────────────────────────────────────@────────────X────────────────────────────────────────────────────────────────────────────────────Rz(0.094π)───X───────────────────────────────────────────────────────────────────────────────────────────────────────────\n",
       "                                           │                             │                                                                                                                                                                                                                                                      │                                      │\n",
       "(0, 3): ────H───Rz(-0.089π)───Ry(0.025π)───X────────────────Rz(0.033π)───X────────────────────@──────────────────────────────────────────────────────────────────────────────────────────────────────@──────────────────────────────────────────────────────────────────────────────────────────H───Rz(-0.089π)───Ry(0.025π)────X─────────────────────────Rz(0.033π)───X────────────────────@──────────────────────────────────────────────────────────────────────────────────────────────────────@──────────────────────────────────────────────────────────────────────────────────────────────\n",
       "                                                                                              │                                                                                                      │                                                                                                                                                                                      │                                                                                                      │\n",
       "(0, 4): ────H───Rz(-0.056π)───Ry(0.01π)────@──────────────────────────────────────────@───────X─────────────────────────────────────────────────────────────────────────────────────────Rz(0.021π)───X──────────────────────────────────────────────────────────────────────────────────────────H───Rz(-0.056π)───Ry(0.01π)─────@───────────────────────────────────────────────────@───────X─────────────────────────────────────────────────────────────────────────────────────────Rz(0.021π)───X──────────────────────────────────────────────────────────────────────────────────────────────\n",
       "                                           │                                          │                                                                                                                                                                                                                                         │                                                   │\n",
       "(0, 5): ────H───Rz(0.022π)────Ry(0.001π)───X─────────────────────────────Rz(0.001π)───X────────────────────@──────────────────────────────────────────────────────────────────────────────────────────────────────@─────────────────────────────────────────────────────────────────────────────H───Rz(0.022π)────Ry(0.001π)────X──────────────────────────────────────Rz(0.001π)───X────────────────────@──────────────────────────────────────────────────────────────────────────────────────────────────────@─────────────────────────────────────────────────────────────────────────────────\n",
       "                                                                                                           │                                                                                                      │                                                                                                                                                                                      │                                                                                                      │\n",
       "(0, 6): ────H───Rz(0.013π)────Ry(0.001π)───@──────────────────────────────────────────────────@────────────X─────────────────────────────────────────────────────────────────────────────────────────Rz(0.001π)───X─────────────────────────────────────────────────────────────────────────────H───Rz(0.013π)────Ry(0.001π)────@───────────────────────────────────────────────────────────@────────────X─────────────────────────────────────────────────────────────────────────────────────────Rz(0.001π)───X─────────────────────────────────────────────────────────────────────────────────\n",
       "                                           │                                                  │                                                                                                                                                                                                                                 │                                                           │\n",
       "(0, 7): ────H───Rz(-0.021π)───Ry(0.001π)───X──────────────────────────────────────────Rz(0)───X─────────────────────────@──────────────────────────────────────────────────────────────────────────────────────────────────────@────────────────────────────────────────────────────────────────H───Rz(-0.021π)───Ry(0.001π)────X───────────────────────────────────────────────────Rz(0)───X─────────────────────────@──────────────────────────────────────────────────────────────────────────────────────────────────────@────────────────────────────────────────────────────────────────────\n",
       "                                                                                                                        │                                                                                                      │                                                                                                                                                                                      │                                                                                                      │\n",
       "(0, 8): ────H───Rz(-0.168π)───Ry(0.088π)───@───────────────────────────────────────────────────────────────@────────────X─────────────────────────────────────────────────────────────────────────────────────────Rz(0.036π)───X────────────────────────────────────────────────────────────────H───Rz(-0.168π)───Ry(0.088π)────@────────────────────────────────────────────────────────────────────────@────────────X─────────────────────────────────────────────────────────────────────────────────────────Rz(0.036π)───X────────────────────────────────────────────────────────────────────\n",
       "                                           │                                                               │                                                                                                                                                                                                                    │                                                                        │\n",
       "(0, 9): ────H───Rz(-0.165π)───Ry(0.085π)───X──────────────────────────────────────────────────Rz(0.111π)───X────────────────────────@───────────────────────────────────────────────────────────────────────────────────────────────────────@───────────────────────────────────────────────────H───Rz(-0.165π)───Ry(0.085π)────X───────────────────────────────────────────────────────────Rz(0.111π)───X────────────────────────@───────────────────────────────────────────────────────────────────────────────────────────────────────@───────────────────────────────────────────────────────\n",
       "                                                                                                                                    │                                                                                                       │                                                                                                                                                                                     │                                                                                                       │\n",
       "(0, 10): ───H───Rz(-0.063π)───Ry(0.012π)───@────────────────────────────────────────────────────────────────────────────@───────────X──────────────────────────────────────────────────────────────────────────────────────────Rz(0.052π)───X───────────────────────────────────────────────────H───Rz(-0.063π)───Ry(0.012π)────@─────────────────────────────────────────────────────────────────────────────────────@───────────X──────────────────────────────────────────────────────────────────────────────────────────Rz(0.052π)───X───────────────────────────────────────────────────────\n",
       "                                           │                                                                            │                                                                                                                                                                                                       │                                                                                     │\n",
       "(0, 11): ───H───Rz(0.007π)────Ry(0)────────X───────────────────────────────────────────────────────────────Rz(0.003π)───X────────────────────────@───────────────────────────────────────────────────────────────────────────────────────────────────────@──────────────────────────────────────H───Rz(0.007π)────Ry(0)─────────X────────────────────────────────────────────────────────────────────────Rz(0.003π)───X────────────────────────@───────────────────────────────────────────────────────────────────────────────────────────────────────@──────────────────────────────────────────\n",
       "                                                                                                                                                 │                                                                                                       │                                                                                                                                                                                     │                                                                                                       │\n",
       "(0, 12): ───H───Rz(-0.101π)───Ry(0.032π)───@────────────────────────────────────────────────────────────────────────────────────────@────────────X──────────────────────────────────────────────────────────────────────────────────────────Rz(0.009π)───X──────────────────────────────────────H───Rz(-0.101π)───Ry(0.032π)────@─────────────────────────────────────────────────────────────────────────────────────────────────@────────────X──────────────────────────────────────────────────────────────────────────────────────────Rz(0.009π)───X──────────────────────────────────────────\n",
       "                                           │                                                                                        │                                                                                                                                                                                           │                                                                                                 │\n",
       "(0, 13): ───H───Rz(0.002π)────Ry(0)────────X────────────────────────────────────────────────────────────────────────────Rz(0.01π)───X─────────────────────────@───────────────────────────────────────────────────────────────────────────────────────────────────────@─────────────────────────H───Rz(0.002π)────Ry(0)─────────X─────────────────────────────────────────────────────────────────────────────────────Rz(0.01π)───X─────────────────────────@───────────────────────────────────────────────────────────────────────────────────────────────────────@─────────────────────────────\n",
       "                                                                                                                                                              │                                                                                                       │                                                                                                                                                                                     │                                                                                                       │\n",
       "(0, 14): ───H───Rz(-0.059π)───Ry(0.011π)───@─────────────────────────────────────────────────────────────────────────────────────────────────────@────────────X──────────────────────────────────────────────────────────────────────────────────────────Rz(0.003π)───X─────────────────────────H───Rz(-0.059π)───Ry(0.011π)────@──────────────────────────────────────────────────────────────────────────────────────────────────────────────@────────────X──────────────────────────────────────────────────────────────────────────────────────────Rz(0.003π)───X─────────────────────────────\n",
       "                                           │                                                                                                     │                                                                                                                                                                              │                                                                                                              │\n",
       "(0, 15): ───H───Rz(-0.267π)───Ry(0.224π)───X────────────────────────────────────────────────────────────────────────────────────────Rz(0.107π)───X─────────────────────────@───────────────────────────────────────────────────────────────────────────────────────────────────────@────────────H───Rz(-0.267π)───Ry(0.224π)────X─────────────────────────────────────────────────────────────────────────────────────────────────Rz(0.107π)───X─────────────────────────@───────────────────────────────────────────────────────────────────────────────────────────────────────@────────────────\n",
       "                                                                                                                                                                           │                                                                                                       │                                                                                                                                                                                     │                                                                                                       │\n",
       "(0, 16): ───H───Rz(-0.152π)───Ry(0.072π)───@──────────────────────────────────────────────────────────────────────────────────────────────────────────────────@────────────X──────────────────────────────────────────────────────────────────────────────────────────Rz(0.175π)───X────────────H───Rz(-0.152π)───Ry(0.072π)─────────────────@──────────────────────────────────────────────────────────────────────────────────────────────────────────────@────────────X──────────────────────────────────────────────────────────────────────────────────────────Rz(0.175π)───X────────────────\n",
       "                                           │                                                                                                                  │                                                                                                                                                                              │                                                                                                              │\n",
       "(0, 17): ───H───Rz(-0.026π)───Ry(0.002π)───X─────────────────────────────────────────────────────────────────────────────────────────────────────Rz(0.031π)───X─────────────────────────@───────────────────────────────────────────────────────────────────────────────────────────────────────@───H─────────────Rz(-0.026π)───Ry(0.002π)───X─────────────────────────────────────────────────────────────────────────────────────────────────Rz(0.031π)───X─────────────────────────@───────────────────────────────────────────────────────────────────────────────────────────────────────@───\n",
       "                                                                                                                                                                                        │                                                                                                       │                                                                                                                                                                                     │                                                                                                       │\n",
       "(0, 18): ───H───Rz(-0.09π)────Ry(0.025π)───@───────────────────────────────────────────────────────────────────────────────────────────────────────────────────────────────@────────────X──────────────────────────────────────────────────────────────────────────────────────────Rz(0.013π)───X───H─────────────Rz(-0.09π)────Ry(0.025π)───@───────────────────────────────────────────────────────────────────────────────────────────────────────────────────────────@────────────X──────────────────────────────────────────────────────────────────────────────────────────Rz(0.013π)───X───\n",
       "                                           │                                                                                                                               │                                                                                                                                                                 │                                                                                                                           │\n",
       "(0, 19): ───H───Rz(-0.057π)───Ry(0.01π)────X──────────────────────────────────────────────────────────────────────────────────────────────────────────────────Rz(0.022π)───X────────────────────────────────────────────────────────────────────────────────────────────────────────────────────────H─────────────Rz(-0.057π)───Ry(0.01π)────X──────────────────────────────────────────────────────────────────────────────────────────────────────────────Rz(0.022π)───X────────────────────────────────────────────────────────────────────────────────────────────────────────────────────────"
      ]
     },
     "execution_count": 9,
     "metadata": {},
     "output_type": "execute_result"
    }
   ],
   "source": [
    "resolved_circuits[0]"
   ]
  },
  {
   "cell_type": "code",
   "execution_count": 12,
   "metadata": {},
   "outputs": [],
   "source": [
    "train_cq = cq.resolve_parameters(x_train)"
   ]
  },
  {
   "cell_type": "code",
   "execution_count": 8,
   "metadata": {},
   "outputs": [],
   "source": [
    "test_cq = cq.resolve_parameters(x_val)"
   ]
  },
  {
   "cell_type": "code",
   "execution_count": null,
   "metadata": {},
   "outputs": [
    {
     "name": "stdout",
     "output_type": "stream",
     "text": [
      "Processing state overlaps:  0 / 20000\n"
     ]
    }
   ],
   "source": [
    "km_test = compute_kernel_from_states(tfq.convert_to_tensor(train_cq), 50)"
   ]
  },
  {
   "cell_type": "code",
   "execution_count": 11,
   "metadata": {},
   "outputs": [],
   "source": [
    "sv = cq.get_state_vectors(x_train)"
   ]
  },
  {
   "cell_type": "code",
   "execution_count": 12,
   "metadata": {},
   "outputs": [],
   "source": [
    "km = QSVM.get_kernel_matrix(sv, sv)"
   ]
  },
  {
   "cell_type": "code",
   "execution_count": 15,
   "metadata": {},
   "outputs": [
    {
     "data": {
      "text/plain": [
       "dtype('float64')"
      ]
     },
     "execution_count": 15,
     "metadata": {},
     "output_type": "execute_result"
    }
   ],
   "source": [
    "km.dtype"
   ]
  },
  {
   "cell_type": "code",
   "execution_count": 1,
   "metadata": {},
   "outputs": [],
   "source": [
    "import numpy as np"
   ]
  },
  {
   "cell_type": "code",
   "execution_count": 10,
   "metadata": {},
   "outputs": [],
   "source": [
    "results = {\n",
    "    'qsvm': np.array([0.922461275, 0.92333801, 0.91988033, 0.927383595, 0.923012335, 0.92062854, 0.927130265, 0.92099453, 0.92197447]),\n",
    "    'bdt': np.array([0.923454955,0.923707945,0.921401945,0.92841118,0.923207315,0.92059199,0.92527666,0.921389855,0.92175359,0.922242625,0.922175395,0.92178587,0.923032395,0.92391366,0.918940385,0.918958025,0.92533246,0.921119375,0.923239515,0.921636175,0.9198949,0.922698265,0.92125866,0.92686224,0.924698295,0.92411976,0.920300805,0.922056975,0.925716345,0.926870935]),\n",
    "    'svm': np.array([0.91977742,0.919741955,0.91621401,0.92203226,0.9203329,0.916664545,0.92447415,0.91639005,0.919807785,0.91759945,0.9188447,0.918800485,0.91853832,0.92081842,0.916095535,0.917496995,0.92138657,0.915784025,0.91835458,0.91882923,0.91473011,0.919055865,0.917476215,0.922858345,0.91995467,0.92069564,0.91729699,0.91709962,0.92131231,0.923075795])\n",
    "}"
   ]
  },
  {
   "cell_type": "code",
   "execution_count": 11,
   "metadata": {},
   "outputs": [
    {
     "name": "stdout",
     "output_type": "stream",
     "text": [
      "qsvm: 0.9229781500 ± 0.0026717295 (9)\n",
      "bdt: 0.9232439372 ± 0.0024284266 (9)\n",
      "svm: 0.9194927861 ± 0.0027519839 (9)\n",
      "ΔBDT: -0.0002657872 (𝜇/σ=-0.2738)\n",
      "ΔSVM: 0.0034853639 (𝜇/σ=3.3371)\n"
     ]
    }
   ],
   "source": [
    "l = len(results['qsvm'])\n",
    "for k in results:\n",
    "    print('{}: {:.10f} ± {:.10f} ({})'.format(k, np.mean(results[k][:l]), np.std(results[k][:l], ddof=1), l))\n",
    "\n",
    "    mu = np.mean(results['qsvm'][:l]-results['bdt'][:l])\n",
    "sigma = np.std(results['qsvm'][:l]-results['bdt'][:l], ddof=1)\n",
    "print('ΔBDT: {:.10f} (𝜇/σ={:.4f})'.format(mu, mu/sigma))\n",
    "mu = np.mean(results['qsvm'][:l]-results['svm'][:l])\n",
    "sigma = np.std(results['qsvm'][:l]-results['svm'][:l], ddof=1)\n",
    "print('ΔSVM: {:.10f} (𝜇/σ={:.4f})'.format(mu, mu/sigma))"
   ]
  },
  {
   "cell_type": "code",
   "execution_count": null,
   "metadata": {},
   "outputs": [],
   "source": []
  }
 ],
 "metadata": {
  "kernelspec": {
   "display_name": "Python 3",
   "language": "python",
   "name": "python3"
  },
  "language_info": {
   "codemirror_mode": {
    "name": "ipython",
    "version": 3
   },
   "file_extension": ".py",
   "mimetype": "text/x-python",
   "name": "python",
   "nbconvert_exporter": "python",
   "pygments_lexer": "ipython3",
   "version": "3.7.6"
  }
 },
 "nbformat": 4,
 "nbformat_minor": 4
}
