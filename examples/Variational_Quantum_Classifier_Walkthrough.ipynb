{
  "nbformat": 4,
  "nbformat_minor": 0,
  "metadata": {
    "colab": {
      "name": "Variational_Quantum_Classifier_Walkthrough.ipynb",
      "provenance": [],
      "collapsed_sections": [],
      "authorship_tag": "ABX9TyMc9bvPHX3kdTuP38eAs13P",
      "include_colab_link": true
    },
    "kernelspec": {
      "name": "python3",
      "display_name": "Python 3"
    }
  },
  "cells": [
    {
      "cell_type": "markdown",
      "metadata": {
        "id": "view-in-github",
        "colab_type": "text"
      },
      "source": [
        "<a href=\"https://colab.research.google.com/github/AlkaidCheng/GSOC_MLHEP/blob/master/examples/Variational_Quantum_Classifier_Walkthrough.ipynb\" target=\"_parent\"><img src=\"https://colab.research.google.com/assets/colab-badge.svg\" alt=\"Open In Colab\"/></a>"
      ]
    },
    {
      "cell_type": "markdown",
      "metadata": {
        "id": "N0PB4eQMAOfY",
        "colab_type": "text"
      },
      "source": [
        "# Variational Quantum Classifier\n",
        "- Step 1: Prepare training data and perform data preprocessing\n",
        "- Step 2: Construct encoding circuit\n",
        "- Step 3: Construct variational circuit\n",
        "- Step 4: Build the VQC model with the encoding circuit as input layer, variational circuit as pqc layer and an output layer with a custom activation function\n",
        "- Step 5: Decide on the optimizer, the loss function, the evaluation metrics and callbacks for training\n",
        "- Step 6: Train the classifier\n",
        "- Step 7: Evaluate the result"
      ]
    },
    {
      "cell_type": "markdown",
      "metadata": {
        "id": "eBLAePh-D81t",
        "colab_type": "text"
      },
      "source": [
        "###Install dependencies"
      ]
    },
    {
      "cell_type": "code",
      "metadata": {
        "id": "jKdFdGqMAbpx",
        "colab_type": "code",
        "colab": {
          "base_uri": "https://localhost:8080/",
          "height": 1000
        },
        "outputId": "bf8c9649-34f7-4033-8ed5-9813376235bf"
      },
      "source": [
        "#this will also install tensorflow==2.1.0 and tensorflow_quantum\n",
        "!pip install  quple"
      ],
      "execution_count": 1,
      "outputs": [
        {
          "output_type": "stream",
          "text": [
            "Collecting quple\n",
            "\u001b[?25l  Downloading https://files.pythonhosted.org/packages/14/92/47dbcae3ad66f38be11fc9ab04d8c5853d40468d965e7860502c30a12ce7/quple-0.5.8.1-py3-none-any.whl (50kB)\n",
            "\u001b[K     |████████████████████████████████| 51kB 1.6MB/s \n",
            "\u001b[?25hCollecting cirq\n",
            "\u001b[?25l  Downloading https://files.pythonhosted.org/packages/1e/5b/6f8cb54ea8c0041ad9c8e4ece07cb5ca9eb1c29de68e68795b4a40d90cc6/cirq-0.8.2-py3-none-any.whl (1.4MB)\n",
            "\u001b[K     |████████████████████████████████| 1.4MB 6.4MB/s \n",
            "\u001b[?25hCollecting tensorflow==2.1.0\n",
            "\u001b[?25l  Downloading https://files.pythonhosted.org/packages/85/d4/c0cd1057b331bc38b65478302114194bd8e1b9c2bbc06e300935c0e93d90/tensorflow-2.1.0-cp36-cp36m-manylinux2010_x86_64.whl (421.8MB)\n",
            "\u001b[K     |████████████████████████████████| 421.8MB 36kB/s \n",
            "\u001b[?25hRequirement already satisfied: numpy in /usr/local/lib/python3.6/dist-packages (from quple) (1.18.5)\n",
            "Collecting tensorflow-quantum==0.3.0\n",
            "\u001b[?25l  Downloading https://files.pythonhosted.org/packages/e2/60/3c73e8c4b68efdd84927e3a2975c52fbf9af50305c3dbecbf0557b8f7b73/tensorflow_quantum-0.3.0-cp36-cp36m-manylinux2010_x86_64.whl (3.9MB)\n",
            "\u001b[K     |████████████████████████████████| 3.9MB 46.2MB/s \n",
            "\u001b[?25hRequirement already satisfied: dataclasses; python_version < \"3.7\" in /usr/local/lib/python3.6/dist-packages (from cirq->quple) (0.7)\n",
            "Requirement already satisfied: sympy in /usr/local/lib/python3.6/dist-packages (from cirq->quple) (1.1.1)\n",
            "Requirement already satisfied: matplotlib~=3.0 in /usr/local/lib/python3.6/dist-packages (from cirq->quple) (3.2.2)\n",
            "Collecting freezegun~=0.3.15\n",
            "  Downloading https://files.pythonhosted.org/packages/17/5d/1b9d6d3c7995fff473f35861d674e0113a5f0bd5a72fe0199c3f254665c7/freezegun-0.3.15-py2.py3-none-any.whl\n",
            "Requirement already satisfied: networkx~=2.4 in /usr/local/lib/python3.6/dist-packages (from cirq->quple) (2.5)\n",
            "Requirement already satisfied: requests~=2.18 in /usr/local/lib/python3.6/dist-packages (from cirq->quple) (2.23.0)\n",
            "Requirement already satisfied: scipy in /usr/local/lib/python3.6/dist-packages (from cirq->quple) (1.4.1)\n",
            "Requirement already satisfied: protobuf~=3.12.0 in /usr/local/lib/python3.6/dist-packages (from cirq->quple) (3.12.4)\n",
            "Requirement already satisfied: sortedcontainers~=2.0 in /usr/local/lib/python3.6/dist-packages (from cirq->quple) (2.2.2)\n",
            "Requirement already satisfied: google-api-core[grpc]<2.0.0dev,>=1.14.0 in /usr/local/lib/python3.6/dist-packages (from cirq->quple) (1.16.0)\n",
            "Requirement already satisfied: typing-extensions in /usr/local/lib/python3.6/dist-packages (from cirq->quple) (3.7.4.3)\n",
            "Requirement already satisfied: pandas in /usr/local/lib/python3.6/dist-packages (from cirq->quple) (1.0.5)\n",
            "Requirement already satisfied: wheel>=0.26; python_version >= \"3\" in /usr/local/lib/python3.6/dist-packages (from tensorflow==2.1.0->quple) (0.35.1)\n",
            "Requirement already satisfied: keras-preprocessing>=1.1.0 in /usr/local/lib/python3.6/dist-packages (from tensorflow==2.1.0->quple) (1.1.2)\n",
            "Requirement already satisfied: six>=1.12.0 in /usr/local/lib/python3.6/dist-packages (from tensorflow==2.1.0->quple) (1.15.0)\n",
            "Collecting keras-applications>=1.0.8\n",
            "\u001b[?25l  Downloading https://files.pythonhosted.org/packages/71/e3/19762fdfc62877ae9102edf6342d71b28fbfd9dea3d2f96a882ce099b03f/Keras_Applications-1.0.8-py3-none-any.whl (50kB)\n",
            "\u001b[K     |████████████████████████████████| 51kB 6.1MB/s \n",
            "\u001b[?25hRequirement already satisfied: wrapt>=1.11.1 in /usr/local/lib/python3.6/dist-packages (from tensorflow==2.1.0->quple) (1.12.1)\n",
            "Requirement already satisfied: absl-py>=0.7.0 in /usr/local/lib/python3.6/dist-packages (from tensorflow==2.1.0->quple) (0.8.1)\n",
            "Collecting tensorflow-estimator<2.2.0,>=2.1.0rc0\n",
            "\u001b[?25l  Downloading https://files.pythonhosted.org/packages/18/90/b77c328a1304437ab1310b463e533fa7689f4bfc41549593056d812fab8e/tensorflow_estimator-2.1.0-py2.py3-none-any.whl (448kB)\n",
            "\u001b[K     |████████████████████████████████| 450kB 26.3MB/s \n",
            "\u001b[?25hCollecting gast==0.2.2\n",
            "  Downloading https://files.pythonhosted.org/packages/4e/35/11749bf99b2d4e3cceb4d55ca22590b0d7c2c62b9de38ac4a4a7f4687421/gast-0.2.2.tar.gz\n",
            "Requirement already satisfied: termcolor>=1.1.0 in /usr/local/lib/python3.6/dist-packages (from tensorflow==2.1.0->quple) (1.1.0)\n",
            "Requirement already satisfied: astor>=0.6.0 in /usr/local/lib/python3.6/dist-packages (from tensorflow==2.1.0->quple) (0.8.1)\n",
            "Requirement already satisfied: grpcio>=1.8.6 in /usr/local/lib/python3.6/dist-packages (from tensorflow==2.1.0->quple) (1.31.0)\n",
            "Requirement already satisfied: google-pasta>=0.1.6 in /usr/local/lib/python3.6/dist-packages (from tensorflow==2.1.0->quple) (0.2.0)\n",
            "Collecting tensorboard<2.2.0,>=2.1.0\n",
            "\u001b[?25l  Downloading https://files.pythonhosted.org/packages/d9/41/bbf49b61370e4f4d245d4c6051dfb6db80cec672605c91b1652ac8cc3d38/tensorboard-2.1.1-py3-none-any.whl (3.8MB)\n",
            "\u001b[K     |████████████████████████████████| 3.9MB 39.0MB/s \n",
            "\u001b[?25hRequirement already satisfied: opt-einsum>=2.3.2 in /usr/local/lib/python3.6/dist-packages (from tensorflow==2.1.0->quple) (3.3.0)\n",
            "Collecting pathos==0.2.5\n",
            "\u001b[?25l  Downloading https://files.pythonhosted.org/packages/c6/a2/cd59f73d5ede4f122687bf8f63de5d671c9561e493ca699241f05b038278/pathos-0.2.5.tar.gz (162kB)\n",
            "\u001b[K     |████████████████████████████████| 163kB 35.7MB/s \n",
            "\u001b[?25hRequirement already satisfied: mpmath>=0.19 in /usr/local/lib/python3.6/dist-packages (from sympy->cirq->quple) (1.1.0)\n",
            "Requirement already satisfied: cycler>=0.10 in /usr/local/lib/python3.6/dist-packages (from matplotlib~=3.0->cirq->quple) (0.10.0)\n",
            "Requirement already satisfied: kiwisolver>=1.0.1 in /usr/local/lib/python3.6/dist-packages (from matplotlib~=3.0->cirq->quple) (1.2.0)\n",
            "Requirement already satisfied: pyparsing!=2.0.4,!=2.1.2,!=2.1.6,>=2.0.1 in /usr/local/lib/python3.6/dist-packages (from matplotlib~=3.0->cirq->quple) (2.4.7)\n",
            "Requirement already satisfied: python-dateutil>=2.1 in /usr/local/lib/python3.6/dist-packages (from matplotlib~=3.0->cirq->quple) (2.8.1)\n",
            "Requirement already satisfied: decorator>=4.3.0 in /usr/local/lib/python3.6/dist-packages (from networkx~=2.4->cirq->quple) (4.4.2)\n",
            "Requirement already satisfied: certifi>=2017.4.17 in /usr/local/lib/python3.6/dist-packages (from requests~=2.18->cirq->quple) (2020.6.20)\n",
            "Requirement already satisfied: chardet<4,>=3.0.2 in /usr/local/lib/python3.6/dist-packages (from requests~=2.18->cirq->quple) (3.0.4)\n",
            "Requirement already satisfied: urllib3!=1.25.0,!=1.25.1,<1.26,>=1.21.1 in /usr/local/lib/python3.6/dist-packages (from requests~=2.18->cirq->quple) (1.24.3)\n",
            "Requirement already satisfied: idna<3,>=2.5 in /usr/local/lib/python3.6/dist-packages (from requests~=2.18->cirq->quple) (2.10)\n",
            "Requirement already satisfied: setuptools in /usr/local/lib/python3.6/dist-packages (from protobuf~=3.12.0->cirq->quple) (49.6.0)\n",
            "Requirement already satisfied: googleapis-common-protos<2.0dev,>=1.6.0 in /usr/local/lib/python3.6/dist-packages (from google-api-core[grpc]<2.0.0dev,>=1.14.0->cirq->quple) (1.52.0)\n",
            "Requirement already satisfied: google-auth<2.0dev,>=0.4.0 in /usr/local/lib/python3.6/dist-packages (from google-api-core[grpc]<2.0.0dev,>=1.14.0->cirq->quple) (1.17.2)\n",
            "Requirement already satisfied: pytz in /usr/local/lib/python3.6/dist-packages (from google-api-core[grpc]<2.0.0dev,>=1.14.0->cirq->quple) (2018.9)\n",
            "Requirement already satisfied: h5py in /usr/local/lib/python3.6/dist-packages (from keras-applications>=1.0.8->tensorflow==2.1.0->quple) (2.10.0)\n",
            "Requirement already satisfied: markdown>=2.6.8 in /usr/local/lib/python3.6/dist-packages (from tensorboard<2.2.0,>=2.1.0->tensorflow==2.1.0->quple) (3.2.2)\n",
            "Requirement already satisfied: google-auth-oauthlib<0.5,>=0.4.1 in /usr/local/lib/python3.6/dist-packages (from tensorboard<2.2.0,>=2.1.0->tensorflow==2.1.0->quple) (0.4.1)\n",
            "Requirement already satisfied: werkzeug>=0.11.15 in /usr/local/lib/python3.6/dist-packages (from tensorboard<2.2.0,>=2.1.0->tensorflow==2.1.0->quple) (1.0.1)\n",
            "Collecting ppft>=1.6.6.1\n",
            "\u001b[?25l  Downloading https://files.pythonhosted.org/packages/2b/fb/fa21f6e9aedc4823448473ed96e8eab64af1cb248c18165f045a90e1c6b4/ppft-1.6.6.2.zip (106kB)\n",
            "\u001b[K     |████████████████████████████████| 112kB 48.7MB/s \n",
            "\u001b[?25hRequirement already satisfied: dill>=0.3.1 in /usr/local/lib/python3.6/dist-packages (from pathos==0.2.5->tensorflow-quantum==0.3.0->quple) (0.3.2)\n",
            "Collecting pox>=0.2.7\n",
            "\u001b[?25l  Downloading https://files.pythonhosted.org/packages/1a/0c/ec447fb0ed88bc1c09bf0dadf00e40ea05fda17e841d15bb351a52d9e192/pox-0.2.8.zip (128kB)\n",
            "\u001b[K     |████████████████████████████████| 133kB 49.6MB/s \n",
            "\u001b[?25hRequirement already satisfied: multiprocess>=0.70.9 in /usr/local/lib/python3.6/dist-packages (from pathos==0.2.5->tensorflow-quantum==0.3.0->quple) (0.70.10)\n",
            "Requirement already satisfied: pyasn1-modules>=0.2.1 in /usr/local/lib/python3.6/dist-packages (from google-auth<2.0dev,>=0.4.0->google-api-core[grpc]<2.0.0dev,>=1.14.0->cirq->quple) (0.2.8)\n",
            "Requirement already satisfied: cachetools<5.0,>=2.0.0 in /usr/local/lib/python3.6/dist-packages (from google-auth<2.0dev,>=0.4.0->google-api-core[grpc]<2.0.0dev,>=1.14.0->cirq->quple) (4.1.1)\n",
            "Requirement already satisfied: rsa<5,>=3.1.4; python_version >= \"3\" in /usr/local/lib/python3.6/dist-packages (from google-auth<2.0dev,>=0.4.0->google-api-core[grpc]<2.0.0dev,>=1.14.0->cirq->quple) (4.6)\n",
            "Requirement already satisfied: importlib-metadata; python_version < \"3.8\" in /usr/local/lib/python3.6/dist-packages (from markdown>=2.6.8->tensorboard<2.2.0,>=2.1.0->tensorflow==2.1.0->quple) (1.7.0)\n",
            "Requirement already satisfied: requests-oauthlib>=0.7.0 in /usr/local/lib/python3.6/dist-packages (from google-auth-oauthlib<0.5,>=0.4.1->tensorboard<2.2.0,>=2.1.0->tensorflow==2.1.0->quple) (1.3.0)\n",
            "Requirement already satisfied: pyasn1<0.5.0,>=0.4.6 in /usr/local/lib/python3.6/dist-packages (from pyasn1-modules>=0.2.1->google-auth<2.0dev,>=0.4.0->google-api-core[grpc]<2.0.0dev,>=1.14.0->cirq->quple) (0.4.8)\n",
            "Requirement already satisfied: zipp>=0.5 in /usr/local/lib/python3.6/dist-packages (from importlib-metadata; python_version < \"3.8\"->markdown>=2.6.8->tensorboard<2.2.0,>=2.1.0->tensorflow==2.1.0->quple) (3.1.0)\n",
            "Requirement already satisfied: oauthlib>=3.0.0 in /usr/local/lib/python3.6/dist-packages (from requests-oauthlib>=0.7.0->google-auth-oauthlib<0.5,>=0.4.1->tensorboard<2.2.0,>=2.1.0->tensorflow==2.1.0->quple) (3.1.0)\n",
            "Building wheels for collected packages: gast, pathos, ppft, pox\n",
            "  Building wheel for gast (setup.py) ... \u001b[?25l\u001b[?25hdone\n",
            "  Created wheel for gast: filename=gast-0.2.2-cp36-none-any.whl size=7542 sha256=eb9c1b2aac90894316e3d2fc9975d0407827ef92f1766006e7cbb33b065e90d8\n",
            "  Stored in directory: /root/.cache/pip/wheels/5c/2e/7e/a1d4d4fcebe6c381f378ce7743a3ced3699feb89bcfbdadadd\n",
            "  Building wheel for pathos (setup.py) ... \u001b[?25l\u001b[?25hdone\n",
            "  Created wheel for pathos: filename=pathos-0.2.5-cp36-none-any.whl size=77577 sha256=9ee0e57c0eea6986b6d45ff1d1d14d4b0797f9600a18795dd4c515743322fcb0\n",
            "  Stored in directory: /root/.cache/pip/wheels/61/6d/83/90b0c3d2c271da2c4850731e894798c98f8dbedbac74e8eff0\n",
            "  Building wheel for ppft (setup.py) ... \u001b[?25l\u001b[?25hdone\n",
            "  Created wheel for ppft: filename=ppft-1.6.6.2-cp36-none-any.whl size=64743 sha256=ad89159a9a4874caa368161b1ad9f5e8e8ab22169b281fa73945705290665abe\n",
            "  Stored in directory: /root/.cache/pip/wheels/db/d2/2d/0ee21ede61786bb13247dbc69079373fd500c2bb0481913084\n",
            "  Building wheel for pox (setup.py) ... \u001b[?25l\u001b[?25hdone\n",
            "  Created wheel for pox: filename=pox-0.2.8-cp36-none-any.whl size=28290 sha256=0ddc9e2fcbe51d6a5465cbb31f253b988cc39b9dd09e7790d30d9d7caa12a764\n",
            "  Stored in directory: /root/.cache/pip/wheels/39/ed/ce/a93103746b327e18bffaeb99ba0d57a88b392f31d719cea700\n",
            "Successfully built gast pathos ppft pox\n",
            "\u001b[31mERROR: tensorflow-probability 0.11.0 has requirement gast>=0.3.2, but you'll have gast 0.2.2 which is incompatible.\u001b[0m\n",
            "\u001b[31mERROR: tensorflow-quantum 0.3.0 has requirement cirq==0.8.0, but you'll have cirq 0.8.2 which is incompatible.\u001b[0m\n",
            "\u001b[31mERROR: tensorflow-quantum 0.3.0 has requirement sympy==1.4, but you'll have sympy 1.1.1 which is incompatible.\u001b[0m\n",
            "Installing collected packages: freezegun, cirq, keras-applications, tensorflow-estimator, gast, tensorboard, tensorflow, ppft, pox, pathos, tensorflow-quantum, quple\n",
            "  Found existing installation: tensorflow-estimator 2.3.0\n",
            "    Uninstalling tensorflow-estimator-2.3.0:\n",
            "      Successfully uninstalled tensorflow-estimator-2.3.0\n",
            "  Found existing installation: gast 0.3.3\n",
            "    Uninstalling gast-0.3.3:\n",
            "      Successfully uninstalled gast-0.3.3\n",
            "  Found existing installation: tensorboard 2.3.0\n",
            "    Uninstalling tensorboard-2.3.0:\n",
            "      Successfully uninstalled tensorboard-2.3.0\n",
            "  Found existing installation: tensorflow 2.3.0\n",
            "    Uninstalling tensorflow-2.3.0:\n",
            "      Successfully uninstalled tensorflow-2.3.0\n",
            "Successfully installed cirq-0.8.2 freezegun-0.3.15 gast-0.2.2 keras-applications-1.0.8 pathos-0.2.5 pox-0.2.8 ppft-1.6.6.2 quple-0.5.8.1 tensorboard-2.1.1 tensorflow-2.1.0 tensorflow-estimator-2.1.0 tensorflow-quantum-0.3.0\n"
          ],
          "name": "stdout"
        }
      ]
    },
    {
      "cell_type": "markdown",
      "metadata": {
        "id": "PWHLwqOJEEIg",
        "colab_type": "text"
      },
      "source": [
        " ## Step 1: Prepare Training Data and Perform Data Preprocessing"
      ]
    },
    {
      "cell_type": "code",
      "metadata": {
        "id": "PO4t9AVfEDpn",
        "colab_type": "code",
        "colab": {
          "base_uri": "https://localhost:8080/",
          "height": 216
        },
        "outputId": "173895ce-7887-4dd3-d011-3555139f9d94"
      },
      "source": [
        "# download training data (hmumu 2jet)\n",
        "!wget -O hmumu_2jet.tar.gz https://cernbox.cern.ch/index.php/s/frrpvyVfSPYdMSk/download\n",
        "!tar -zxf hmumu_2jet.tar.gz"
      ],
      "execution_count": 2,
      "outputs": [
        {
          "output_type": "stream",
          "text": [
            "--2020-08-31 20:21:42--  https://cernbox.cern.ch/index.php/s/frrpvyVfSPYdMSk/download\n",
            "Resolving cernbox.cern.ch (cernbox.cern.ch)... 128.142.32.38, 188.184.97.72, 128.142.32.26\n",
            "Connecting to cernbox.cern.ch (cernbox.cern.ch)|128.142.32.38|:443... connected.\n",
            "HTTP request sent, awaiting response... 200 OK\n",
            "Length: 1648491 (1.6M) [application/gzip]\n",
            "Saving to: ‘hmumu_2jet.tar.gz’\n",
            "\n",
            "hmumu_2jet.tar.gz   100%[===================>]   1.57M  2.36MB/s    in 0.7s    \n",
            "\n",
            "Last-modified header invalid -- time-stamp ignored.\n",
            "2020-08-31 20:21:44 (2.36 MB/s) - ‘hmumu_2jet.tar.gz’ saved [1648491/1648491]\n",
            "\n"
          ],
          "name": "stdout"
        }
      ]
    },
    {
      "cell_type": "code",
      "metadata": {
        "id": "e7NAge0nFcER",
        "colab_type": "code",
        "colab": {
          "base_uri": "https://localhost:8080/",
          "height": 283
        },
        "outputId": "f3919ad7-ac5a-41a9-fc3d-b34eae284c9c"
      },
      "source": [
        "import numpy as np\n",
        "# prepare training data\n",
        "data = np.load('hmumu_twojet_0719.npy')\n",
        "x = data[:,:-1]\n",
        "y = data[:,-1]\n",
        "print('x:\\n', x)\n",
        "print('y:\\n', y)"
      ],
      "execution_count": 3,
      "outputs": [
        {
          "output_type": "stream",
          "text": [
            "x:\n",
            " [[ 1.35123826e+02  9.97897017e-01  9.58638570e-01 ...  4.58769383e-01\n",
            "  -3.05654504e+00  1.80854129e+03]\n",
            " [ 2.43290406e+02  3.03747750e-01  6.74568519e-01 ... -1.34468994e+00\n",
            "  -2.72506172e+00  5.11933555e+02]\n",
            " [ 1.64464537e+02 -5.81922591e-02  5.42151745e-02 ... -6.23148328e-01\n",
            "   3.07514485e+00  3.44958465e+02]\n",
            " ...\n",
            " [ 2.16542712e+01 -3.05524425e+00  4.59151309e-01 ...  9.26630829e-01\n",
            "   3.08020790e+00  5.62347204e+02]\n",
            " [ 4.19387585e+01  1.89239955e+00  4.48033832e-01 ...  1.73410377e+00\n",
            "  -2.62992120e+00  1.44320990e+02]\n",
            " [ 9.33202609e+01  8.70685882e-01  8.74988118e-01 ... -1.21892943e+00\n",
            "   2.85587492e+00  2.03240716e+02]]\n",
            "y:\n",
            " [1. 1. 1. ... 0. 0. 0.]\n"
          ],
          "name": "stdout"
        }
      ]
    },
    {
      "cell_type": "code",
      "metadata": {
        "id": "rqZx_NT7HxUg",
        "colab_type": "code",
        "colab": {}
      },
      "source": [
        "# let's say we want to train on a circuit with 5 qubit\n",
        "n_qubit = 5\n",
        "# let's say we want to train on 1000 events\n",
        "n_event = 1000"
      ],
      "execution_count": 4,
      "outputs": []
    },
    {
      "cell_type": "code",
      "metadata": {
        "id": "Sm9f_K_HHloX",
        "colab_type": "code",
        "colab": {}
      },
      "source": [
        "# prepare data preprocessors from sklearn\n",
        "from sklearn.preprocessing import StandardScaler, MinMaxScaler\n",
        "from sklearn.decomposition import PCA\n",
        "# we apply 3 data preprocessors\n",
        "# 1. PCA to reduce the dimension to 5 to fit the 5 qubit circuit\n",
        "# 2. StandardScaler to standardize features by removing the mean and scaling to unit variance\n",
        "# 3. MinMaxScaler to bound the data in the range [-1,+1]\n",
        "preprocessors = [PCA(n_components=n_qubit, random_state=3), StandardScaler(), MinMaxScaler((-1,1))]"
      ],
      "execution_count": 5,
      "outputs": []
    },
    {
      "cell_type": "code",
      "metadata": {
        "id": "n1QdWPfWIAJR",
        "colab_type": "code",
        "colab": {
          "base_uri": "https://localhost:8080/",
          "height": 1000
        },
        "outputId": "b4a8e53b-6ae2-4224-85f8-f9a8276b10ed"
      },
      "source": [
        "from quple.components.data_preparation import prepare_train_val_test\n",
        "# split the data into training set, validation set and test set\n",
        "x_train, x_val, x_test, y_train, y_val, y_test = prepare_train_val_test(x, y, train_size=n_event, val_size=n_event, test_size=n_event, preprocessors=preprocessors, random_state=24)\n",
        "print('x_train:\\n', x_train)\n",
        "print('y_train:\\n', y_train)\n",
        "print('x_val:\\n', x_val)\n",
        "print('y_val:\\n', y_val)\n",
        "print('x_test:\\n', x_test)\n",
        "print('y_test:\\n', y_test)"
      ],
      "execution_count": 6,
      "outputs": [
        {
          "output_type": "stream",
          "text": [
            "x_train:\n",
            " [[-8.79408431e-01 -2.91849404e-01 -7.06406980e-01 -1.50171968e-01\n",
            "  -1.47083778e-01]\n",
            " [-6.85069866e-01 -5.15238276e-01 -7.45426413e-01 -1.49557330e-01\n",
            "  -2.77217974e-01]\n",
            " [-9.65548075e-01 -5.41138509e-01 -7.17157856e-01  5.28963334e-02\n",
            "  -2.94952005e-01]\n",
            " ...\n",
            " [-8.05304035e-01 -5.60343372e-01 -7.32252537e-01  1.18326216e-01\n",
            "  -3.20379264e-01]\n",
            " [-8.28134277e-01 -5.54357138e-01 -4.72595477e-01  1.14451725e-01\n",
            "  -2.63482577e-01]\n",
            " [-9.30681340e-01 -7.04202429e-01 -5.31064503e-01 -5.78536766e-04\n",
            "  -2.29519358e-01]]\n",
            "y_train:\n",
            " [1. 1. 0. 1. 0. 0. 1. 0. 1. 1. 1. 1. 0. 0. 0. 0. 0. 1. 1. 1. 1. 1. 0. 0.\n",
            " 1. 0. 1. 1. 0. 0. 1. 1. 0. 0. 1. 0. 1. 1. 0. 1. 1. 0. 1. 0. 1. 1. 1. 0.\n",
            " 1. 0. 0. 0. 0. 1. 1. 1. 1. 0. 0. 0. 0. 0. 0. 0. 0. 0. 1. 0. 0. 1. 1. 1.\n",
            " 1. 0. 1. 1. 1. 1. 1. 0. 0. 1. 0. 1. 1. 1. 1. 0. 0. 1. 0. 1. 1. 1. 0. 1.\n",
            " 0. 0. 0. 0. 0. 1. 0. 0. 0. 0. 0. 0. 0. 0. 1. 1. 1. 0. 0. 1. 0. 0. 0. 1.\n",
            " 1. 0. 1. 1. 0. 1. 0. 1. 1. 1. 1. 0. 1. 0. 1. 0. 0. 1. 1. 0. 0. 0. 1. 0.\n",
            " 1. 0. 0. 0. 1. 0. 0. 1. 0. 0. 1. 1. 1. 0. 1. 1. 1. 1. 0. 0. 0. 1. 1. 0.\n",
            " 1. 1. 0. 0. 0. 0. 0. 1. 0. 1. 0. 0. 1. 1. 1. 0. 1. 1. 1. 1. 1. 0. 1. 1.\n",
            " 0. 0. 0. 0. 1. 0. 1. 1. 1. 1. 1. 0. 0. 0. 0. 0. 1. 0. 0. 1. 0. 1. 0. 0.\n",
            " 1. 1. 0. 0. 0. 0. 1. 0. 1. 1. 1. 0. 1. 1. 0. 1. 0. 1. 0. 1. 0. 0. 1. 0.\n",
            " 1. 0. 0. 1. 1. 0. 1. 0. 1. 0. 0. 1. 1. 1. 0. 1. 0. 0. 1. 0. 0. 0. 1. 0.\n",
            " 1. 1. 1. 0. 1. 0. 0. 0. 1. 0. 1. 1. 1. 0. 1. 0. 0. 0. 1. 1. 1. 1. 0. 0.\n",
            " 0. 0. 0. 1. 0. 0. 1. 1. 1. 1. 0. 1. 0. 0. 1. 0. 0. 0. 1. 0. 1. 0. 0. 0.\n",
            " 1. 0. 0. 0. 0. 1. 1. 1. 0. 0. 0. 1. 1. 1. 0. 0. 0. 0. 1. 1. 1. 0. 1. 0.\n",
            " 1. 0. 1. 1. 1. 1. 1. 1. 0. 1. 1. 0. 0. 1. 0. 1. 1. 1. 1. 0. 0. 0. 1. 1.\n",
            " 1. 1. 0. 0. 1. 1. 0. 0. 1. 0. 0. 0. 0. 0. 0. 0. 1. 0. 0. 1. 0. 1. 1. 1.\n",
            " 1. 1. 1. 0. 0. 1. 1. 1. 0. 0. 1. 0. 0. 1. 0. 0. 1. 1. 1. 0. 0. 1. 0. 0.\n",
            " 1. 1. 0. 1. 0. 0. 1. 0. 0. 1. 0. 0. 1. 0. 1. 1. 0. 0. 1. 0. 0. 1. 0. 1.\n",
            " 0. 1. 0. 1. 1. 0. 0. 1. 1. 0. 1. 1. 1. 0. 0. 1. 1. 0. 1. 0. 1. 1. 1. 1.\n",
            " 1. 1. 0. 1. 1. 0. 1. 1. 0. 0. 1. 0. 0. 0. 1. 0. 0. 1. 0. 1. 1. 1. 1. 0.\n",
            " 1. 0. 1. 0. 1. 0. 0. 1. 1. 1. 1. 0. 1. 0. 1. 0. 0. 0. 0. 1. 0. 1. 1. 1.\n",
            " 0. 0. 0. 1. 0. 0. 0. 1. 1. 0. 1. 0. 1. 0. 1. 1. 0. 1. 0. 0. 1. 0. 0. 0.\n",
            " 0. 0. 0. 1. 0. 1. 0. 0. 0. 0. 1. 1. 1. 1. 0. 0. 0. 1. 1. 1. 0. 1. 1. 0.\n",
            " 0. 1. 1. 0. 1. 0. 0. 0. 0. 0. 1. 1. 1. 1. 1. 1. 1. 0. 0. 0. 0. 1. 0. 0.\n",
            " 0. 0. 1. 1. 1. 1. 1. 0. 1. 0. 1. 0. 1. 0. 1. 1. 0. 1. 0. 1. 1. 1. 0. 1.\n",
            " 1. 0. 0. 1. 1. 0. 0. 0. 1. 0. 1. 0. 1. 0. 1. 0. 0. 1. 1. 1. 0. 0. 1. 1.\n",
            " 1. 0. 0. 1. 1. 1. 0. 0. 1. 0. 0. 1. 0. 0. 0. 0. 1. 0. 0. 1. 1. 0. 0. 1.\n",
            " 0. 1. 1. 1. 1. 0. 1. 1. 0. 1. 1. 0. 0. 1. 1. 0. 1. 0. 0. 0. 0. 0. 1. 1.\n",
            " 0. 0. 0. 0. 1. 0. 0. 1. 0. 1. 0. 1. 0. 0. 1. 1. 0. 0. 1. 1. 1. 0. 1. 0.\n",
            " 0. 0. 0. 0. 0. 1. 1. 1. 1. 1. 1. 0. 1. 1. 1. 0. 1. 0. 1. 1. 0. 1. 0. 0.\n",
            " 1. 0. 1. 0. 1. 0. 1. 0. 1. 1. 0. 1. 1. 0. 1. 1. 1. 1. 0. 1. 0. 1. 0. 1.\n",
            " 0. 1. 1. 1. 0. 1. 1. 1. 1. 1. 0. 1. 0. 1. 0. 0. 0. 0. 0. 1. 0. 0. 1. 1.\n",
            " 1. 0. 0. 1. 1. 1. 0. 0. 1. 1. 1. 1. 1. 1. 1. 0. 0. 0. 0. 1. 0. 1. 1. 1.\n",
            " 0. 1. 1. 1. 0. 0. 0. 1. 1. 0. 1. 0. 1. 1. 1. 0. 1. 0. 1. 1. 0. 0. 1. 1.\n",
            " 1. 1. 0. 0. 0. 0. 1. 0. 1. 0. 1. 1. 1. 1. 1. 0. 0. 0. 1. 1. 0. 0. 1. 1.\n",
            " 0. 0. 1. 1. 1. 0. 0. 0. 0. 1. 0. 1. 1. 0. 1. 1. 1. 0. 0. 0. 1. 0. 0. 0.\n",
            " 1. 0. 0. 1. 1. 1. 0. 1. 0. 0. 0. 1. 1. 1. 0. 1. 1. 1. 0. 0. 0. 1. 1. 0.\n",
            " 0. 0. 0. 1. 1. 0. 0. 1. 1. 0. 0. 0. 1. 1. 1. 0. 0. 1. 0. 0. 0. 0. 1. 0.\n",
            " 1. 0. 0. 1. 0. 1. 0. 0. 0. 1. 1. 0. 1. 1. 0. 0. 1. 1. 1. 0. 0. 0. 0. 0.\n",
            " 0. 1. 0. 0. 0. 1. 1. 1. 0. 0. 0. 1. 1. 1. 0. 1. 0. 1. 0. 0. 0. 0. 1. 0.\n",
            " 1. 0. 1. 0. 1. 1. 0. 1. 1. 0. 1. 0. 0. 1. 1. 1. 0. 0. 1. 0. 1. 0. 1. 0.\n",
            " 1. 0. 1. 0. 0. 1. 0. 1. 1. 1. 1. 0. 1. 1. 1. 0.]\n",
            "x_val:\n",
            " [[-0.83013073 -0.54528437 -0.47341057  0.1393761  -0.16619947]\n",
            " [-0.5047483   0.11900704 -0.82626187 -0.16155041 -0.24892488]\n",
            " [-0.91709298 -0.06876512 -0.68053873  0.47318983 -0.23757591]\n",
            " ...\n",
            " [-0.37975466 -0.57868379 -0.70244155  0.12880188 -0.08416524]\n",
            " [-0.91965924 -0.7061528  -0.53797588  0.02479361 -0.17347031]\n",
            " [-0.78959202 -0.1909028  -0.65966665 -0.16761549 -0.27807758]]\n",
            "y_val:\n",
            " [0. 1. 0. 0. 0. 1. 1. 0. 1. 1. 1. 1. 0. 1. 1. 1. 0. 0. 0. 1. 1. 0. 0. 0.\n",
            " 0. 1. 0. 1. 1. 0. 0. 0. 1. 0. 1. 1. 0. 0. 0. 0. 1. 1. 1. 0. 0. 1. 1. 1.\n",
            " 1. 1. 1. 1. 1. 1. 1. 1. 1. 1. 0. 0. 1. 1. 0. 0. 0. 1. 1. 1. 0. 0. 1. 1.\n",
            " 1. 0. 1. 1. 0. 1. 1. 0. 0. 1. 1. 0. 0. 0. 0. 0. 0. 0. 1. 1. 0. 1. 0. 1.\n",
            " 0. 1. 1. 0. 1. 1. 0. 0. 1. 0. 0. 1. 1. 0. 0. 0. 1. 1. 0. 0. 0. 0. 1. 0.\n",
            " 1. 0. 0. 0. 0. 1. 1. 1. 1. 1. 0. 1. 0. 0. 1. 0. 0. 0. 0. 0. 1. 0. 1. 0.\n",
            " 1. 0. 1. 0. 0. 1. 1. 0. 0. 0. 1. 0. 0. 1. 0. 0. 0. 0. 1. 0. 0. 0. 0. 0.\n",
            " 1. 1. 0. 1. 1. 0. 1. 0. 0. 1. 0. 0. 0. 1. 0. 1. 1. 0. 1. 0. 1. 1. 0. 1.\n",
            " 0. 0. 0. 1. 0. 0. 0. 1. 1. 0. 1. 1. 1. 0. 1. 0. 1. 0. 1. 1. 0. 0. 1. 1.\n",
            " 1. 1. 0. 0. 1. 0. 0. 0. 0. 0. 1. 1. 1. 1. 1. 0. 1. 1. 0. 1. 1. 0. 1. 1.\n",
            " 1. 1. 1. 1. 0. 0. 1. 1. 1. 1. 0. 0. 1. 1. 0. 0. 1. 1. 0. 1. 0. 1. 0. 1.\n",
            " 0. 0. 1. 0. 0. 0. 1. 0. 1. 1. 1. 0. 1. 1. 0. 0. 0. 0. 1. 0. 0. 0. 0. 1.\n",
            " 0. 0. 0. 0. 0. 0. 0. 0. 0. 0. 0. 0. 0. 1. 0. 0. 0. 1. 0. 0. 1. 1. 1. 1.\n",
            " 1. 0. 0. 0. 1. 1. 0. 0. 1. 0. 1. 0. 0. 1. 1. 0. 1. 1. 0. 1. 0. 1. 1. 0.\n",
            " 0. 1. 1. 0. 0. 1. 1. 1. 0. 1. 0. 0. 1. 0. 1. 1. 1. 0. 0. 1. 1. 0. 0. 1.\n",
            " 1. 1. 0. 0. 0. 1. 0. 0. 1. 0. 1. 1. 1. 1. 1. 0. 0. 0. 0. 0. 0. 1. 1. 1.\n",
            " 1. 0. 0. 0. 0. 0. 1. 1. 0. 1. 1. 1. 0. 1. 0. 1. 1. 0. 1. 0. 1. 1. 0. 1.\n",
            " 0. 0. 1. 0. 0. 0. 1. 1. 0. 1. 1. 1. 0. 0. 0. 1. 1. 0. 1. 1. 0. 1. 0. 0.\n",
            " 0. 0. 0. 1. 1. 1. 0. 0. 1. 1. 1. 0. 1. 1. 1. 1. 0. 1. 1. 0. 1. 0. 1. 1.\n",
            " 1. 0. 0. 1. 1. 0. 1. 1. 1. 0. 1. 1. 1. 1. 1. 1. 0. 1. 0. 1. 0. 0. 0. 0.\n",
            " 1. 0. 1. 0. 1. 0. 1. 1. 1. 0. 1. 1. 1. 0. 1. 0. 1. 0. 1. 1. 0. 0. 0. 1.\n",
            " 1. 1. 1. 1. 0. 0. 1. 1. 1. 0. 1. 1. 1. 0. 0. 1. 1. 1. 0. 1. 1. 1. 0. 1.\n",
            " 1. 1. 0. 0. 1. 1. 0. 1. 0. 1. 1. 0. 1. 0. 1. 1. 1. 1. 1. 0. 0. 0. 1. 0.\n",
            " 0. 1. 1. 1. 0. 0. 0. 1. 0. 0. 0. 1. 0. 1. 0. 1. 0. 0. 0. 1. 0. 0. 1. 1.\n",
            " 1. 0. 0. 1. 1. 1. 0. 0. 1. 1. 1. 1. 1. 0. 0. 0. 1. 1. 1. 1. 0. 0. 1. 1.\n",
            " 0. 1. 0. 0. 0. 0. 0. 0. 0. 1. 0. 0. 0. 0. 1. 0. 1. 0. 0. 1. 0. 1. 1. 0.\n",
            " 0. 1. 0. 0. 1. 1. 1. 1. 1. 1. 1. 0. 0. 1. 1. 0. 1. 0. 1. 1. 1. 1. 1. 0.\n",
            " 1. 1. 0. 1. 0. 0. 1. 1. 1. 1. 0. 1. 0. 1. 1. 0. 1. 0. 1. 0. 1. 1. 0. 1.\n",
            " 0. 1. 0. 0. 1. 1. 1. 1. 1. 1. 1. 0. 1. 0. 0. 1. 0. 1. 1. 0. 1. 0. 0. 1.\n",
            " 0. 1. 0. 1. 0. 0. 0. 0. 1. 1. 0. 1. 1. 0. 1. 1. 0. 1. 0. 0. 0. 1. 1. 1.\n",
            " 1. 1. 1. 1. 0. 0. 1. 0. 0. 0. 0. 1. 0. 1. 0. 0. 1. 0. 0. 0. 1. 0. 0. 1.\n",
            " 0. 0. 0. 1. 0. 0. 0. 0. 1. 1. 0. 1. 0. 1. 1. 1. 1. 0. 0. 1. 1. 0. 1. 0.\n",
            " 1. 1. 1. 0. 0. 0. 0. 1. 1. 0. 0. 1. 1. 1. 1. 1. 1. 0. 0. 1. 1. 1. 0. 0.\n",
            " 0. 0. 0. 0. 1. 1. 1. 0. 0. 1. 1. 1. 1. 0. 0. 0. 0. 1. 0. 1. 0. 0. 0. 1.\n",
            " 0. 0. 1. 0. 0. 1. 0. 0. 0. 0. 1. 0. 0. 0. 0. 0. 1. 0. 1. 0. 0. 1. 0. 1.\n",
            " 1. 0. 0. 0. 0. 0. 1. 1. 0. 1. 0. 0. 0. 0. 0. 0. 0. 0. 0. 0. 1. 1. 1. 1.\n",
            " 1. 1. 1. 1. 0. 0. 0. 0. 1. 0. 0. 0. 0. 1. 1. 0. 1. 1. 0. 0. 1. 1. 1. 0.\n",
            " 1. 1. 0. 1. 1. 0. 1. 0. 1. 1. 1. 1. 0. 0. 0. 0. 1. 1. 1. 0. 1. 1. 0. 0.\n",
            " 1. 0. 1. 1. 1. 1. 1. 1. 0. 0. 1. 1. 1. 1. 0. 1. 0. 0. 0. 1. 0. 1. 0. 1.\n",
            " 1. 1. 1. 1. 0. 1. 0. 0. 1. 0. 1. 0. 0. 0. 0. 1. 0. 1. 0. 0. 1. 1. 0. 0.\n",
            " 1. 1. 1. 1. 1. 0. 0. 1. 0. 1. 0. 0. 1. 0. 0. 1. 0. 1. 1. 0. 1. 0. 0. 0.\n",
            " 0. 1. 0. 1. 0. 0. 0. 1. 0. 0. 1. 1. 1. 1. 0. 1.]\n",
            "x_test:\n",
            " [[-0.96471153 -0.43094093 -0.79325162 -0.04603553 -0.12272579]\n",
            " [-0.70365594 -0.73498679 -0.54817112  0.12721248 -0.32764879]\n",
            " [-0.83248314 -0.75282906 -0.67910609 -0.01554019 -0.24307406]\n",
            " ...\n",
            " [-0.72652839 -0.68247315 -0.68878543 -0.02151464 -0.29236982]\n",
            " [-0.91841603 -0.74886192 -0.57157735 -0.03813519 -0.19022273]\n",
            " [-0.36064385 -0.34923532 -0.73484028  0.27350936 -0.35960529]]\n",
            "y_test:\n",
            " [0. 1. 1. 0. 0. 0. 1. 1. 1. 1. 0. 0. 1. 0. 0. 1. 1. 0. 1. 0. 0. 1. 1. 1.\n",
            " 1. 1. 0. 0. 0. 1. 1. 1. 0. 1. 1. 0. 1. 1. 1. 0. 1. 0. 1. 1. 1. 0. 0. 1.\n",
            " 1. 0. 0. 1. 1. 0. 0. 0. 0. 1. 1. 0. 0. 1. 0. 1. 0. 1. 0. 1. 1. 0. 0. 1.\n",
            " 1. 0. 1. 1. 0. 1. 0. 0. 0. 0. 0. 0. 1. 1. 0. 1. 0. 1. 0. 0. 1. 0. 1. 1.\n",
            " 1. 1. 1. 1. 0. 0. 1. 0. 0. 1. 0. 0. 0. 1. 0. 0. 1. 1. 0. 1. 1. 1. 0. 1.\n",
            " 1. 0. 1. 1. 0. 0. 0. 1. 0. 1. 0. 0. 0. 0. 0. 0. 0. 0. 0. 0. 1. 0. 0. 1.\n",
            " 1. 1. 1. 1. 1. 0. 1. 1. 1. 1. 1. 0. 1. 1. 1. 1. 1. 0. 0. 1. 1. 1. 1. 0.\n",
            " 0. 1. 0. 0. 1. 0. 1. 0. 0. 1. 1. 0. 1. 1. 1. 0. 1. 1. 0. 1. 1. 0. 1. 0.\n",
            " 1. 1. 1. 0. 1. 1. 1. 0. 0. 1. 0. 1. 1. 0. 0. 0. 0. 0. 0. 0. 0. 0. 1. 1.\n",
            " 0. 1. 0. 0. 0. 1. 0. 1. 1. 0. 0. 1. 0. 1. 1. 1. 1. 0. 1. 0. 1. 0. 0. 1.\n",
            " 1. 1. 0. 0. 0. 0. 0. 0. 0. 0. 1. 1. 1. 0. 0. 0. 0. 1. 0. 0. 1. 0. 1. 0.\n",
            " 0. 0. 1. 0. 1. 1. 0. 1. 1. 0. 0. 1. 0. 1. 1. 0. 0. 0. 0. 0. 1. 0. 1. 0.\n",
            " 1. 0. 0. 0. 1. 0. 1. 1. 0. 1. 1. 0. 0. 1. 0. 0. 1. 0. 0. 1. 1. 1. 1. 1.\n",
            " 0. 0. 0. 0. 0. 0. 1. 1. 1. 1. 1. 0. 1. 0. 1. 0. 1. 0. 0. 0. 0. 0. 1. 1.\n",
            " 1. 0. 0. 0. 0. 0. 0. 0. 0. 1. 1. 1. 0. 0. 0. 1. 0. 1. 0. 0. 0. 1. 0. 0.\n",
            " 0. 0. 0. 0. 1. 1. 0. 0. 1. 0. 0. 0. 1. 1. 0. 0. 0. 1. 1. 1. 0. 0. 1. 0.\n",
            " 1. 0. 1. 1. 1. 1. 0. 1. 1. 1. 1. 1. 1. 0. 1. 0. 0. 0. 1. 1. 0. 1. 1. 0.\n",
            " 0. 0. 1. 0. 0. 0. 0. 1. 1. 0. 1. 0. 0. 1. 1. 0. 1. 1. 0. 1. 1. 1. 1. 1.\n",
            " 1. 0. 1. 0. 1. 0. 0. 1. 0. 0. 0. 1. 0. 1. 0. 0. 1. 1. 1. 0. 1. 0. 1. 0.\n",
            " 0. 0. 1. 0. 0. 0. 0. 0. 0. 1. 0. 1. 1. 0. 1. 1. 0. 0. 0. 1. 1. 0. 1. 0.\n",
            " 1. 1. 1. 1. 1. 0. 1. 0. 0. 1. 1. 0. 1. 1. 0. 0. 1. 0. 0. 1. 1. 1. 1. 1.\n",
            " 0. 1. 1. 1. 0. 1. 0. 0. 1. 0. 0. 0. 1. 1. 1. 1. 1. 0. 1. 0. 1. 0. 0. 0.\n",
            " 0. 0. 0. 1. 0. 0. 0. 0. 0. 1. 0. 1. 0. 1. 0. 0. 0. 0. 0. 0. 0. 1. 0. 0.\n",
            " 1. 1. 1. 0. 0. 1. 0. 1. 0. 1. 1. 1. 0. 0. 1. 1. 0. 0. 1. 1. 0. 1. 0. 0.\n",
            " 1. 1. 1. 1. 0. 0. 1. 1. 1. 0. 0. 1. 0. 0. 1. 1. 1. 1. 0. 0. 0. 0. 0. 0.\n",
            " 0. 0. 1. 1. 0. 1. 1. 0. 1. 1. 0. 0. 1. 1. 0. 1. 1. 0. 1. 0. 1. 0. 1. 1.\n",
            " 0. 1. 0. 0. 1. 0. 1. 0. 0. 1. 1. 0. 1. 0. 0. 1. 0. 0. 1. 0. 1. 1. 0. 1.\n",
            " 1. 0. 1. 1. 0. 1. 0. 0. 1. 1. 0. 1. 1. 1. 0. 1. 0. 1. 0. 1. 1. 0. 1. 0.\n",
            " 1. 1. 0. 0. 1. 0. 0. 1. 1. 0. 1. 1. 0. 0. 0. 0. 0. 0. 0. 0. 0. 1. 1. 0.\n",
            " 1. 0. 0. 1. 0. 1. 1. 1. 1. 0. 0. 1. 0. 0. 1. 0. 0. 0. 0. 1. 1. 0. 1. 0.\n",
            " 1. 1. 1. 1. 0. 1. 1. 0. 1. 1. 0. 1. 0. 0. 0. 0. 0. 0. 0. 1. 1. 1. 0. 0.\n",
            " 1. 1. 1. 1. 0. 0. 1. 0. 1. 0. 0. 1. 1. 1. 0. 1. 0. 1. 0. 1. 1. 1. 1. 1.\n",
            " 0. 1. 1. 0. 1. 1. 0. 0. 0. 0. 0. 0. 0. 0. 1. 0. 1. 0. 1. 1. 0. 1. 0. 0.\n",
            " 0. 0. 1. 1. 1. 0. 0. 1. 0. 0. 0. 0. 0. 0. 1. 0. 1. 0. 0. 0. 1. 1. 1. 0.\n",
            " 1. 0. 1. 0. 0. 1. 0. 1. 0. 0. 0. 0. 1. 1. 1. 1. 0. 1. 1. 1. 0. 1. 1. 0.\n",
            " 0. 1. 0. 1. 0. 1. 1. 0. 1. 0. 0. 0. 0. 1. 1. 1. 1. 0. 1. 0. 0. 1. 0. 0.\n",
            " 0. 0. 0. 1. 0. 1. 1. 0. 0. 0. 1. 1. 0. 0. 1. 0. 1. 0. 0. 1. 1. 1. 1. 0.\n",
            " 0. 1. 1. 1. 0. 1. 1. 1. 1. 0. 0. 1. 0. 0. 0. 0. 1. 1. 0. 0. 0. 0. 1. 0.\n",
            " 0. 1. 0. 0. 1. 0. 0. 0. 1. 0. 1. 1. 0. 1. 0. 1. 0. 1. 1. 0. 0. 1. 0. 1.\n",
            " 0. 1. 0. 0. 1. 0. 1. 0. 1. 1. 1. 0. 1. 0. 1. 0. 1. 1. 0. 1. 1. 0. 0. 1.\n",
            " 0. 0. 1. 0. 0. 1. 0. 0. 0. 1. 0. 1. 0. 1. 0. 1. 0. 1. 1. 1. 0. 0. 1. 0.\n",
            " 1. 0. 0. 1. 0. 0. 0. 0. 1. 0. 1. 0. 0. 1. 1. 1.]\n"
          ],
          "name": "stdout"
        }
      ]
    },
    {
      "cell_type": "markdown",
      "metadata": {
        "id": "2tqSOAYpJKsZ",
        "colab_type": "text"
      },
      "source": [
        "## Step 2: Construct Encoding Circuit"
      ]
    },
    {
      "cell_type": "code",
      "metadata": {
        "id": "gI96ZPJrIQzu",
        "colab_type": "code",
        "colab": {}
      },
      "source": [
        "from quple.data_encoding import FirstOrderPauliZEncoding, SecondOrderPauliZEncoding\n",
        "from quple.data_encoding.encoding_maps import self_product, cosine_product, modified_cosine_product, distance_measure, arithmetic_mean"
      ],
      "execution_count": 7,
      "outputs": []
    },
    {
      "cell_type": "code",
      "metadata": {
        "id": "67eS6wfzJiXh",
        "colab_type": "code",
        "colab": {
          "base_uri": "https://localhost:8080/",
          "height": 166
        },
        "outputId": "028322bf-85cb-4cf6-9bae-75c5663ec952"
      },
      "source": [
        "# let's try the first order pauli z encoding circuit with depth 2\n",
        "encoding_circuit = FirstOrderPauliZEncoding(feature_dimension=n_qubit, copies=2)\n",
        "encoding_circuit"
      ],
      "execution_count": 8,
      "outputs": [
        {
          "output_type": "execute_result",
          "data": {
            "text/html": [
              "<pre style=\"overflow: auto; white-space: pre;\">(0, 0): ───H───Rz(pi*x_0)───H───Rz(pi*x_0)───\n",
              "\n",
              "(0, 1): ───H───Rz(pi*x_1)───H───Rz(pi*x_1)───\n",
              "\n",
              "(0, 2): ───H───Rz(pi*x_2)───H───Rz(pi*x_2)───\n",
              "\n",
              "(0, 3): ───H───Rz(pi*x_3)───H───Rz(pi*x_3)───\n",
              "\n",
              "(0, 4): ───H───Rz(pi*x_4)───H───Rz(pi*x_4)───</pre>"
            ],
            "text/plain": [
              "(0, 0): ───H───Rz(pi*x_0)───H───Rz(pi*x_0)───\n",
              "\n",
              "(0, 1): ───H───Rz(pi*x_1)───H───Rz(pi*x_1)───\n",
              "\n",
              "(0, 2): ───H───Rz(pi*x_2)───H───Rz(pi*x_2)───\n",
              "\n",
              "(0, 3): ───H───Rz(pi*x_3)───H───Rz(pi*x_3)───\n",
              "\n",
              "(0, 4): ───H───Rz(pi*x_4)───H───Rz(pi*x_4)───"
            ]
          },
          "metadata": {
            "tags": []
          },
          "execution_count": 8
        }
      ]
    },
    {
      "cell_type": "markdown",
      "metadata": {
        "id": "QaU8WRGyCdEh",
        "colab_type": "text"
      },
      "source": [
        "## Step 3: Construct Variational Circuit"
      ]
    },
    {
      "cell_type": "code",
      "metadata": {
        "id": "nm53mWkPCa52",
        "colab_type": "code",
        "colab": {}
      },
      "source": [
        "from quple.circuits.variational_circuits import EfficientSU2"
      ],
      "execution_count": 9,
      "outputs": []
    },
    {
      "cell_type": "code",
      "metadata": {
        "id": "OmFINiVEAHsn",
        "colab_type": "code",
        "colab": {
          "base_uri": "https://localhost:8080/",
          "height": 233
        },
        "outputId": "a9a00947-1383-4443-fb88-f5fdbb29d6c1"
      },
      "source": [
        "# let's try the Efficient SU2 variational circuit with depth 2\n",
        "variational_circuit = EfficientSU2(n_qubit=n_qubit, copies=2)\n",
        "variational_circuit.add_readout('XX')\n",
        "variational_circuit"
      ],
      "execution_count": 10,
      "outputs": [
        {
          "output_type": "execute_result",
          "data": {
            "text/html": [
              "<pre style=\"overflow: auto; white-space: pre;\">                                             ┌──┐       ┌──┐                                                ┌──┐       ┌──┐\n",
              "(-1, -1): ──────────────────────────────────────────────────────────────────────────────────────────────────────────────────────────────────────────────XX──────────XX──────────XX──────────XX──────────XX──────────\n",
              "                                                                                                                                                        │           │           │           │           │\n",
              "(0, 0): ─────Ry(θ_0)───Rz(θ_5)───@───@───@────@────────────────────Ry(θ_10)───Rz(θ_15)───@──────────@───@────@────────────────────Ry(θ_20)───Rz(θ_25)───XX^(θ_30)───┼───────────┼───────────┼───────────┼───────────\n",
              "                                 │   │   │    │                                          │          │   │    │                                                      │           │           │           │\n",
              "(0, 1): ─────Ry(θ_1)───Rz(θ_6)───X───┼───┼────┼@────@────@─────────Ry(θ_11)───Rz(θ_16)───X──────────┼───┼────┼@────@────@─────────Ry(θ_21)───Rz(θ_26)───────────────XX^(θ_31)───┼───────────┼───────────┼───────────\n",
              "                                     │   │    ││    │    │                                          │   │    ││    │    │                                                       │           │           │\n",
              "(0, 2): ─────Ry(θ_2)───Rz(θ_7)───────X───┼────┼X────┼────┼@────@───Ry(θ_12)───Rz(θ_17)──────────────X───┼────┼X────┼────┼@────@───Ry(θ_22)───Rz(θ_27)───────────────────────────XX^(θ_32)───┼───────────┼───────────\n",
              "                                         │    │     │    ││    │                                        │    │     │    ││    │                                                             │           │\n",
              "(0, 3): ─────Ry(θ_3)───Rz(θ_8)───────────X────┼─────X────┼X────┼───@──────────Ry(θ_13)───Rz(θ_18)───────X────┼─────X────┼X────┼───@──────────Ry(θ_23)───Rz(θ_28)────────────────────────────XX^(θ_33)───┼───────────\n",
              "                                              │          │     │   │                                         │          │     │   │                                                                     │\n",
              "(0, 4): ─────Ry(θ_4)───Rz(θ_9)────────────────X──────────X─────X───X──────────Ry(θ_14)───Rz(θ_19)────────────X──────────X─────X───X──────────Ry(θ_24)───Rz(θ_29)────────────────────────────────────────XX^(θ_34)───\n",
              "                                             └──┘       └──┘                                                └──┘       └──┘</pre>"
            ],
            "text/plain": [
              "                                             ┌──┐       ┌──┐                                                ┌──┐       ┌──┐\n",
              "(-1, -1): ──────────────────────────────────────────────────────────────────────────────────────────────────────────────────────────────────────────────XX──────────XX──────────XX──────────XX──────────XX──────────\n",
              "                                                                                                                                                        │           │           │           │           │\n",
              "(0, 0): ─────Ry(θ_0)───Rz(θ_5)───@───@───@────@────────────────────Ry(θ_10)───Rz(θ_15)───@──────────@───@────@────────────────────Ry(θ_20)───Rz(θ_25)───XX^(θ_30)───┼───────────┼───────────┼───────────┼───────────\n",
              "                                 │   │   │    │                                          │          │   │    │                                                      │           │           │           │\n",
              "(0, 1): ─────Ry(θ_1)───Rz(θ_6)───X───┼───┼────┼@────@────@─────────Ry(θ_11)───Rz(θ_16)───X──────────┼───┼────┼@────@────@─────────Ry(θ_21)───Rz(θ_26)───────────────XX^(θ_31)───┼───────────┼───────────┼───────────\n",
              "                                     │   │    ││    │    │                                          │   │    ││    │    │                                                       │           │           │\n",
              "(0, 2): ─────Ry(θ_2)───Rz(θ_7)───────X───┼────┼X────┼────┼@────@───Ry(θ_12)───Rz(θ_17)──────────────X───┼────┼X────┼────┼@────@───Ry(θ_22)───Rz(θ_27)───────────────────────────XX^(θ_32)───┼───────────┼───────────\n",
              "                                         │    │     │    ││    │                                        │    │     │    ││    │                                                             │           │\n",
              "(0, 3): ─────Ry(θ_3)───Rz(θ_8)───────────X────┼─────X────┼X────┼───@──────────Ry(θ_13)───Rz(θ_18)───────X────┼─────X────┼X────┼───@──────────Ry(θ_23)───Rz(θ_28)────────────────────────────XX^(θ_33)───┼───────────\n",
              "                                              │          │     │   │                                         │          │     │   │                                                                     │\n",
              "(0, 4): ─────Ry(θ_4)───Rz(θ_9)────────────────X──────────X─────X───X──────────Ry(θ_14)───Rz(θ_19)────────────X──────────X─────X───X──────────Ry(θ_24)───Rz(θ_29)────────────────────────────────────────XX^(θ_34)───\n",
              "                                             └──┘       └──┘                                                └──┘       └──┘"
            ]
          },
          "metadata": {
            "tags": []
          },
          "execution_count": 10
        }
      ]
    },
    {
      "cell_type": "markdown",
      "metadata": {
        "id": "qsiqOV_vKLnQ",
        "colab_type": "text"
      },
      "source": [
        "## Step 4 and 5: Build the VQC Model"
      ]
    },
    {
      "cell_type": "code",
      "metadata": {
        "id": "PLWaOSHmKRw5",
        "colab_type": "code",
        "colab": {}
      },
      "source": [
        "from quple.classifiers import VQC\n",
        "import tensorflow as tf"
      ],
      "execution_count": 11,
      "outputs": []
    },
    {
      "cell_type": "code",
      "metadata": {
        "id": "QX_sNCJ_Kocb",
        "colab_type": "code",
        "colab": {
          "base_uri": "https://localhost:8080/",
          "height": 50
        },
        "outputId": "2a6a8585-4051-4498-c4fc-607bd20c0a6a"
      },
      "source": [
        "# let's use the following settings\n",
        "# output layer activation = sigmoid\n",
        "# optimizer = Adam\n",
        "# metrics = binary accuracy and auc\n",
        "# loss = mean squared loss\n",
        "\n",
        "# construct the vqc model\n",
        "vqc = VQC(encoding_circuit, variational_circuit,\n",
        "          activation='sigmoid',\n",
        "          optimizer=tf.keras.optimizers.Adam(learning_rate=0.01),\n",
        "          metrics=['binary_accuracy','AUC'],\n",
        "          readout=[variational_circuit.gate_operation('Z', variational_circuit.readout_qubit)],\n",
        "          loss='mse',\n",
        "          random_state=16)"
      ],
      "execution_count": 12,
      "outputs": [
        {
          "output_type": "stream",
          "text": [
            "Registered encoding circuit with feature dimension: 5\n",
            "Registered variational circuit with number of parameters: 35\n"
          ],
          "name": "stderr"
        }
      ]
    },
    {
      "cell_type": "markdown",
      "metadata": {
        "id": "dVfymFo0iDl_",
        "colab_type": "text"
      },
      "source": [
        "## Step 6: Train the Classifier"
      ]
    },
    {
      "cell_type": "code",
      "metadata": {
        "id": "k5tc5enoKP5j",
        "colab_type": "code",
        "colab": {
          "base_uri": "https://localhost:8080/",
          "height": 416
        },
        "outputId": "11dc9d31-c37d-4810-ce85-ca0273e3bc50"
      },
      "source": [
        "# train the vqc moel\n",
        "callback = tf.keras.callbacks.EarlyStopping(monitor='loss', patience=10, restore_best_weights=True)\n",
        "vqc.fit(x_train, y_train,\n",
        "        batch_size=64,\n",
        "        epochs=10,\n",
        "        verbose=1,\n",
        "        validation_data=(x_val, y_val),\n",
        "        callbacks=[callback])"
      ],
      "execution_count": 13,
      "outputs": [
        {
          "output_type": "stream",
          "text": [
            "Converting circuits to tensors...\n",
            "Converting circuits to tensors...\n"
          ],
          "name": "stderr"
        },
        {
          "output_type": "stream",
          "text": [
            "Train on 1000 samples, validate on 1000 samples\n",
            "Epoch 1/10\n",
            "1000/1000 [==============================] - 19s 19ms/sample - loss: 0.2408 - binary_accuracy: 0.6170 - AUC: 0.6542 - val_loss: 0.2281 - val_binary_accuracy: 0.6820 - val_AUC: 0.7968\n",
            "Epoch 2/10\n",
            "1000/1000 [==============================] - 17s 17ms/sample - loss: 0.2253 - binary_accuracy: 0.6780 - AUC: 0.7653 - val_loss: 0.2165 - val_binary_accuracy: 0.7000 - val_AUC: 0.8206\n",
            "Epoch 3/10\n",
            "1000/1000 [==============================] - 17s 17ms/sample - loss: 0.2142 - binary_accuracy: 0.6990 - AUC: 0.8132 - val_loss: 0.2070 - val_binary_accuracy: 0.7230 - val_AUC: 0.8427\n",
            "Epoch 4/10\n",
            "1000/1000 [==============================] - 17s 17ms/sample - loss: 0.2073 - binary_accuracy: 0.7380 - AUC: 0.8351 - val_loss: 0.2018 - val_binary_accuracy: 0.7450 - val_AUC: 0.8533\n",
            "Epoch 5/10\n",
            "1000/1000 [==============================] - 17s 17ms/sample - loss: 0.2028 - binary_accuracy: 0.7310 - AUC: 0.8416 - val_loss: 0.1991 - val_binary_accuracy: 0.7380 - val_AUC: 0.8555\n",
            "Epoch 6/10\n",
            "1000/1000 [==============================] - 17s 17ms/sample - loss: 0.1994 - binary_accuracy: 0.7440 - AUC: 0.8563 - val_loss: 0.1976 - val_binary_accuracy: 0.7450 - val_AUC: 0.8561\n",
            "Epoch 7/10\n",
            "1000/1000 [==============================] - 17s 17ms/sample - loss: 0.1982 - binary_accuracy: 0.7440 - AUC: 0.8543 - val_loss: 0.1968 - val_binary_accuracy: 0.7410 - val_AUC: 0.8530\n",
            "Epoch 8/10\n",
            "1000/1000 [==============================] - 17s 17ms/sample - loss: 0.1973 - binary_accuracy: 0.7360 - AUC: 0.8598 - val_loss: 0.1964 - val_binary_accuracy: 0.7430 - val_AUC: 0.8526\n",
            "Epoch 9/10\n",
            "1000/1000 [==============================] - 17s 17ms/sample - loss: 0.1970 - binary_accuracy: 0.7500 - AUC: 0.8584 - val_loss: 0.1963 - val_binary_accuracy: 0.7470 - val_AUC: 0.8532\n",
            "Epoch 10/10\n",
            "1000/1000 [==============================] - 17s 17ms/sample - loss: 0.1968 - binary_accuracy: 0.7460 - AUC: 0.8564 - val_loss: 0.1961 - val_binary_accuracy: 0.7420 - val_AUC: 0.8516\n"
          ],
          "name": "stdout"
        },
        {
          "output_type": "execute_result",
          "data": {
            "text/plain": [
              "<tensorflow.python.keras.callbacks.History at 0x7f7ea7f1b9b0>"
            ]
          },
          "metadata": {
            "tags": []
          },
          "execution_count": 13
        }
      ]
    },
    {
      "cell_type": "markdown",
      "metadata": {
        "id": "xpxcuil_iKi6",
        "colab_type": "text"
      },
      "source": [
        "## Step 7: Evaluate the Result"
      ]
    },
    {
      "cell_type": "code",
      "metadata": {
        "id": "GT53ASfjkb2M",
        "colab_type": "code",
        "colab": {
          "base_uri": "https://localhost:8080/",
          "height": 66
        },
        "outputId": "ebc11dfd-4724-4f04-b172-56d8913d6589"
      },
      "source": [
        "# test the model\n",
        "results = vqc.evaluate(x_test, y_test)\n",
        "results"
      ],
      "execution_count": 14,
      "outputs": [
        {
          "output_type": "stream",
          "text": [
            "Converting circuits to tensors...\n"
          ],
          "name": "stderr"
        },
        {
          "output_type": "stream",
          "text": [
            "1000/1000 [==============================] - 1s 1ms/sample - loss: 0.1928 - binary_accuracy: 0.7540 - AUC: 0.8693\n"
          ],
          "name": "stdout"
        },
        {
          "output_type": "execute_result",
          "data": {
            "text/plain": [
              "[0.19279021203517913, 0.754, 0.8693333]"
            ]
          },
          "metadata": {
            "tags": []
          },
          "execution_count": 14
        }
      ]
    },
    {
      "cell_type": "code",
      "metadata": {
        "id": "U4MZmoUNkpOB",
        "colab_type": "code",
        "colab": {
          "base_uri": "https://localhost:8080/",
          "height": 321
        },
        "outputId": "864b60a6-aa6b-40e5-cfac-bccad0e61dfc"
      },
      "source": [
        "import quple\n",
        "# plot a roc curve\n",
        "fpr, tpr, _, _ = vqc.roc_curve(x_test, y_test)\n",
        "plt = quple.utils.utils.plot_roc_curve(fpr, tpr, label='FirstOrder_5_qubit', title='ROC Curve')"
      ],
      "execution_count": 17,
      "outputs": [
        {
          "output_type": "stream",
          "text": [
            "Converting circuits to tensors...\n"
          ],
          "name": "stderr"
        },
        {
          "output_type": "display_data",
          "data": {
            "image/png": "[encoded data removed]",
            "text/plain": [
              "<Figure size 432x288 with 1 Axes>"
            ]
          },
          "metadata": {
            "tags": [],
            "needs_background": "light"
          }
        }
      ]
    },
    {
      "cell_type": "markdown",
      "metadata": {
        "id": "Ca-icDCMiTVT",
        "colab_type": "text"
      },
      "source": [
        "## Try Different Encoding Circuits"
      ]
    },
    {
      "cell_type": "code",
      "metadata": {
        "id": "KzhxzYogcXm2",
        "colab_type": "code",
        "colab": {
          "base_uri": "https://localhost:8080/",
          "height": 186
        },
        "outputId": "d3da985f-dce2-475f-f7b1-0e97d6e06cfe"
      },
      "source": [
        "# Try out different encoding maps and using SecondOrderExpansion encoding circuit\n",
        "# encoding map = self_product ~ x_0*x_1*x_2...\n",
        "second_order_self_product = SecondOrderPauliZEncoding(feature_dimension=n_qubit, entangle_strategy='linear')\n",
        "print(second_order_self_product)"
      ],
      "execution_count": 20,
      "outputs": [
        {
          "output_type": "stream",
          "text": [
            "(0, 0): ───H───Rz(pi*x_0)───@──────────────────────@────────────────────────────────────────────────────────────────────────────────H───Rz(pi*x_0)───@───────────────────────────────@────────────────────────────────────────────────────────────────────────────────────\n",
            "                            │                      │                                                                                                 │                               │\n",
            "(0, 1): ───H───Rz(pi*x_1)───X───Rz(pi*<x_0*x_1>)───X───@──────────────────────@─────────────────────────────────────────────────────H───Rz(pi*x_1)───X────────────Rz(pi*<x_0*x_1>)───X───@──────────────────────@─────────────────────────────────────────────────────────\n",
            "                                                       │                      │                                                                                                          │                      │\n",
            "(0, 2): ───H───Rz(pi*x_2)──────────────────────────────X───Rz(pi*<x_1*x_2>)───X───@──────────────────────@──────────────────────────H───Rz(pi*x_2)───────────────────────────────────────X───Rz(pi*<x_1*x_2>)───X───@──────────────────────@──────────────────────────────\n",
            "                                                                                  │                      │                                                                                                          │                      │\n",
            "(0, 3): ───H───Rz(pi*x_3)─────────────────────────────────────────────────────────X───Rz(pi*<x_2*x_3>)───X───@──────────────────────@───H────────────Rz(pi*x_3)─────────────────────────────────────────────────────X───Rz(pi*<x_2*x_3>)───X───@──────────────────────@───\n",
            "                                                                                                             │                      │                                                                                                          │                      │\n",
            "(0, 4): ───H───Rz(pi*x_4)────────────────────────────────────────────────────────────────────────────────────X───Rz(pi*<x_3*x_4>)───X───H────────────Rz(pi*x_4)────────────────────────────────────────────────────────────────────────────────X───Rz(pi*<x_3*x_4>)───X───\n"
          ],
          "name": "stdout"
        }
      ]
    },
    {
      "cell_type": "code",
      "metadata": {
        "id": "RNrEGpPbdHWW",
        "colab_type": "code",
        "colab": {
          "base_uri": "https://localhost:8080/",
          "height": 186
        },
        "outputId": "49eabd42-8259-4f2d-dee5-506e26905033"
      },
      "source": [
        "# encoding map = cosine_product ~ cos(x_0)*cos(x_1)*...\n",
        "second_order_cosine_product = SecondOrderPauliZEncoding(feature_dimension=n_qubit, encoding_map=cosine_product, entangle_strategy='linear')\n",
        "print(second_order_cosine_product)"
      ],
      "execution_count": 21,
      "outputs": [
        {
          "output_type": "stream",
          "text": [
            "(0, 0): ───H───Rz(pi*x_0)───@────────────────────────────────@──────────────────────────────────────────────────────────────────────────────────────────────────────────────H───Rz(pi*x_0)───@─────────────────────────────────────────@──────────────────────────────────────────────────────────────────────────────────────────────────────────────────\n",
            "                            │                                │                                                                                                                               │                                         │\n",
            "(0, 1): ───H───Rz(pi*x_1)───X───Rz(pi*<cos(x_0)*cos(x_1)>)───X───@────────────────────────────────@─────────────────────────────────────────────────────────────────────────H───Rz(pi*x_1)───X────────────Rz(pi*<cos(x_0)*cos(x_1)>)───X───@────────────────────────────────@─────────────────────────────────────────────────────────────────────────────\n",
            "                                                                 │                                │                                                                                                                                        │                                │\n",
            "(0, 2): ───H───Rz(pi*x_2)────────────────────────────────────────X───Rz(pi*<cos(x_1)*cos(x_2)>)───X───@────────────────────────────────@────────────────────────────────────H───Rz(pi*x_2)─────────────────────────────────────────────────X───Rz(pi*<cos(x_1)*cos(x_2)>)───X───@────────────────────────────────@────────────────────────────────────────\n",
            "                                                                                                      │                                │                                                                                                                                        │                                │\n",
            "(0, 3): ───H───Rz(pi*x_3)─────────────────────────────────────────────────────────────────────────────X───Rz(pi*<cos(x_2)*cos(x_3)>)───X───@────────────────────────────────@───H────────────Rz(pi*x_3)─────────────────────────────────────────────────────────────────────────X───Rz(pi*<cos(x_2)*cos(x_3)>)───X───@────────────────────────────────@───\n",
            "                                                                                                                                           │                                │                                                                                                                                        │                                │\n",
            "(0, 4): ───H───Rz(pi*x_4)──────────────────────────────────────────────────────────────────────────────────────────────────────────────────X───Rz(pi*<cos(x_3)*cos(x_4)>)───X───H────────────Rz(pi*x_4)──────────────────────────────────────────────────────────────────────────────────────────────────────────────X───Rz(pi*<cos(x_3)*cos(x_4)>)───X───\n"
          ],
          "name": "stdout"
        }
      ]
    },
    {
      "cell_type": "code",
      "metadata": {
        "id": "B_bpz_pJdIsg",
        "colab_type": "code",
        "colab": {
          "base_uri": "https://localhost:8080/",
          "height": 186
        },
        "outputId": "4b0ba7a3-7fd0-43b3-8637-fec620a41ef2"
      },
      "source": [
        "# encoding map = distance_measure ~ (x_0-x_1)*(x_1-x_2)*(x_2-x_3)/2**(number of pairs)...\n",
        "second_order_distance_measure = SecondOrderPauliZEncoding(feature_dimension=n_qubit, encoding_map=distance_measure, entangle_strategy='linear')\n",
        "print(second_order_distance_measure)"
      ],
      "execution_count": 22,
      "outputs": [
        {
          "output_type": "stream",
          "text": [
            "(0, 0): ───H───Rz(pi*x_0)───@────────────────────────────@──────────────────────────────────────────────────────────────────────────────────────────────────H───Rz(pi*x_0)───@─────────────────────────────────────@──────────────────────────────────────────────────────────────────────────────────────────────────────\n",
            "                            │                            │                                                                                                                   │                                     │\n",
            "(0, 1): ───H───Rz(pi*x_1)───X───Rz(pi*<x_0/2 - x_1/2>)───X───@────────────────────────────@─────────────────────────────────────────────────────────────────H───Rz(pi*x_1)───X────────────Rz(pi*<x_0/2 - x_1/2>)───X───@────────────────────────────@─────────────────────────────────────────────────────────────────────\n",
            "                                                             │                            │                                                                                                                            │                            │\n",
            "(0, 2): ───H───Rz(pi*x_2)────────────────────────────────────X───Rz(pi*<x_1/2 - x_2/2>)───X───@────────────────────────────@────────────────────────────────H───Rz(pi*x_2)─────────────────────────────────────────────X───Rz(pi*<x_1/2 - x_2/2>)───X───@────────────────────────────@────────────────────────────────────\n",
            "                                                                                              │                            │                                                                                                                            │                            │\n",
            "(0, 3): ───H───Rz(pi*x_3)─────────────────────────────────────────────────────────────────────X───Rz(pi*<x_2/2 - x_3/2>)───X───@────────────────────────────@───H────────────Rz(pi*x_3)─────────────────────────────────────────────────────────────────X───Rz(pi*<x_2/2 - x_3/2>)───X───@────────────────────────────@───\n",
            "                                                                                                                               │                            │                                                                                                                            │                            │\n",
            "(0, 4): ───H───Rz(pi*x_4)──────────────────────────────────────────────────────────────────────────────────────────────────────X───Rz(pi*<x_3/2 - x_4/2>)───X───H────────────Rz(pi*x_4)──────────────────────────────────────────────────────────────────────────────────────────────────X───Rz(pi*<x_3/2 - x_4/2>)───X───\n"
          ],
          "name": "stdout"
        }
      ]
    },
    {
      "cell_type": "code",
      "metadata": {
        "id": "5EomBVn9dJu5",
        "colab_type": "code",
        "colab": {
          "base_uri": "https://localhost:8080/",
          "height": 186
        },
        "outputId": "ea930fac-7e72-4b85-c8d5-006091ab274c"
      },
      "source": [
        "# encoding map = arithmetic_mean ~ (x_0+x_1+x_2+...)/N...\n",
        "second_order_arithmetic_mean = SecondOrderPauliZEncoding(feature_dimension=n_qubit, encoding_map=arithmetic_mean, entangle_strategy='linear')\n",
        "print(second_order_arithmetic_mean)"
      ],
      "execution_count": 23,
      "outputs": [
        {
          "output_type": "stream",
          "text": [
            "(0, 0): ───H───Rz(pi*x_0)───@────────────────────────────@──────────────────────────────────────────────────────────────────────────────────────────────────H───Rz(pi*x_0)───@─────────────────────────────────────@──────────────────────────────────────────────────────────────────────────────────────────────────────\n",
            "                            │                            │                                                                                                                   │                                     │\n",
            "(0, 1): ───H───Rz(pi*x_1)───X───Rz(pi*<x_0/2 + x_1/2>)───X───@────────────────────────────@─────────────────────────────────────────────────────────────────H───Rz(pi*x_1)───X────────────Rz(pi*<x_0/2 + x_1/2>)───X───@────────────────────────────@─────────────────────────────────────────────────────────────────────\n",
            "                                                             │                            │                                                                                                                            │                            │\n",
            "(0, 2): ───H───Rz(pi*x_2)────────────────────────────────────X───Rz(pi*<x_1/2 + x_2/2>)───X───@────────────────────────────@────────────────────────────────H───Rz(pi*x_2)─────────────────────────────────────────────X───Rz(pi*<x_1/2 + x_2/2>)───X───@────────────────────────────@────────────────────────────────────\n",
            "                                                                                              │                            │                                                                                                                            │                            │\n",
            "(0, 3): ───H───Rz(pi*x_3)─────────────────────────────────────────────────────────────────────X───Rz(pi*<x_2/2 + x_3/2>)───X───@────────────────────────────@───H────────────Rz(pi*x_3)─────────────────────────────────────────────────────────────────X───Rz(pi*<x_2/2 + x_3/2>)───X───@────────────────────────────@───\n",
            "                                                                                                                               │                            │                                                                                                                            │                            │\n",
            "(0, 4): ───H───Rz(pi*x_4)──────────────────────────────────────────────────────────────────────────────────────────────────────X───Rz(pi*<x_3/2 + x_4/2>)───X───H────────────Rz(pi*x_4)──────────────────────────────────────────────────────────────────────────────────────────────────X───Rz(pi*<x_3/2 + x_4/2>)───X───\n"
          ],
          "name": "stdout"
        }
      ]
    },
    {
      "cell_type": "code",
      "metadata": {
        "id": "gVnJNOi4eZRh",
        "colab_type": "code",
        "colab": {
          "base_uri": "https://localhost:8080/",
          "height": 150
        },
        "outputId": "10bd2f6d-fa93-4066-8eb6-a13dbc96afb1"
      },
      "source": [
        "# construct the models with the various encoding circuits\n",
        "my_models = [\n",
        "  VQC(second_order_self_product, variational_circuit, metrics=['binary_accuracy','AUC'], loss='mse', readout=[second_order_self_product.gate_operation('Z', variational_circuit.readout_qubit)], random_state=16),\n",
        "  VQC(second_order_cosine_product, variational_circuit, metrics=['binary_accuracy','AUC'], loss='mse', readout=[second_order_cosine_product.gate_operation('Z', variational_circuit.readout_qubit)], random_state=16),\n",
        "  VQC(second_order_distance_measure, variational_circuit, metrics=['binary_accuracy','AUC'], loss='mse', readout=[second_order_distance_measure.gate_operation('Z', variational_circuit.readout_qubit)], random_state=16),\n",
        "  VQC(second_order_arithmetic_mean, variational_circuit, metrics=['binary_accuracy','AUC'], loss='mse', readout=[second_order_arithmetic_mean.gate_operation('Z', variational_circuit.readout_qubit)], random_state=16)\n",
        "]"
      ],
      "execution_count": 24,
      "outputs": [
        {
          "output_type": "stream",
          "text": [
            "Registered encoding circuit with feature dimension: 5\n",
            "Registered variational circuit with number of parameters: 35\n",
            "Registered encoding circuit with feature dimension: 5\n",
            "Registered variational circuit with number of parameters: 35\n",
            "Registered encoding circuit with feature dimension: 5\n",
            "Registered variational circuit with number of parameters: 35\n",
            "Registered encoding circuit with feature dimension: 5\n",
            "Registered variational circuit with number of parameters: 35\n"
          ],
          "name": "stderr"
        }
      ]
    },
    {
      "cell_type": "code",
      "metadata": {
        "id": "_KlghdW5gW4j",
        "colab_type": "code",
        "colab": {
          "base_uri": "https://localhost:8080/",
          "height": 216
        },
        "outputId": "ae6fc438-b80e-45cb-ca1c-fac547004c8a"
      },
      "source": [
        "# create the tensor form of the resolved encoding circuits (this can be feeded to model.fit directly so that the conversion does not happen inside fit)\n",
        "x_train_tensors = [model.convert_to_tensor(x_train) for model in my_models]\n",
        "x_val_tensors = [model.convert_to_tensor(x_val) for model in my_models]\n",
        "x_test_tensors = [model.convert_to_tensor(x_test) for model in my_models]"
      ],
      "execution_count": 25,
      "outputs": [
        {
          "output_type": "stream",
          "text": [
            "Converting circuits to tensors...\n",
            "Converting circuits to tensors...\n",
            "Converting circuits to tensors...\n",
            "Converting circuits to tensors...\n",
            "Converting circuits to tensors...\n",
            "Converting circuits to tensors...\n",
            "Converting circuits to tensors...\n",
            "Converting circuits to tensors...\n",
            "Converting circuits to tensors...\n",
            "Converting circuits to tensors...\n",
            "Converting circuits to tensors...\n",
            "Converting circuits to tensors...\n"
          ],
          "name": "stderr"
        }
      ]
    },
    {
      "cell_type": "code",
      "metadata": {
        "id": "K7nfYE3Kgoub",
        "colab_type": "code",
        "colab": {
          "base_uri": "https://localhost:8080/",
          "height": 1000
        },
        "outputId": "ecc1be8a-9a20-4011-d83d-7ae78fd1e310"
      },
      "source": [
        "# train the models\n",
        "# you may increase the number of epochs if it did not converge \n",
        "for i,model in enumerate(my_models):\n",
        "  model.fit(\n",
        "    x_train_tensors[i], y_train,\n",
        "    batch_size=64,\n",
        "    epochs=10,\n",
        "    verbose=1,\n",
        "    validation_data=(x_val_tensors[i], y_val),\n",
        "    callbacks=[callback])"
      ],
      "execution_count": 26,
      "outputs": [
        {
          "output_type": "stream",
          "text": [
            "Train on 1000 samples, validate on 1000 samples\n",
            "Epoch 1/10\n",
            "1000/1000 [==============================] - 24s 24ms/sample - loss: 0.2437 - binary_accuracy: 0.5990 - AUC: 0.6285 - val_loss: 0.2403 - val_binary_accuracy: 0.6350 - val_AUC: 0.6842\n",
            "Epoch 2/10\n",
            "1000/1000 [==============================] - 23s 23ms/sample - loss: 0.2406 - binary_accuracy: 0.6160 - AUC: 0.6670 - val_loss: 0.2373 - val_binary_accuracy: 0.6520 - val_AUC: 0.7072\n",
            "Epoch 3/10\n",
            "1000/1000 [==============================] - 24s 24ms/sample - loss: 0.2377 - binary_accuracy: 0.6320 - AUC: 0.6888 - val_loss: 0.2344 - val_binary_accuracy: 0.6650 - val_AUC: 0.7216\n",
            "Epoch 4/10\n",
            "1000/1000 [==============================] - 24s 24ms/sample - loss: 0.2350 - binary_accuracy: 0.6400 - AUC: 0.7024 - val_loss: 0.2317 - val_binary_accuracy: 0.6760 - val_AUC: 0.7308\n",
            "Epoch 5/10\n",
            "1000/1000 [==============================] - 24s 24ms/sample - loss: 0.2324 - binary_accuracy: 0.6550 - AUC: 0.7130 - val_loss: 0.2293 - val_binary_accuracy: 0.6790 - val_AUC: 0.7384\n",
            "Epoch 6/10\n",
            "1000/1000 [==============================] - 24s 24ms/sample - loss: 0.2300 - binary_accuracy: 0.6660 - AUC: 0.7200 - val_loss: 0.2271 - val_binary_accuracy: 0.6840 - val_AUC: 0.7444\n",
            "Epoch 7/10\n",
            "1000/1000 [==============================] - 24s 24ms/sample - loss: 0.2279 - binary_accuracy: 0.6640 - AUC: 0.7259 - val_loss: 0.2250 - val_binary_accuracy: 0.6850 - val_AUC: 0.7493\n",
            "Epoch 8/10\n",
            "1000/1000 [==============================] - 23s 23ms/sample - loss: 0.2261 - binary_accuracy: 0.6680 - AUC: 0.7324 - val_loss: 0.2232 - val_binary_accuracy: 0.6890 - val_AUC: 0.7541\n",
            "Epoch 9/10\n",
            "1000/1000 [==============================] - 24s 24ms/sample - loss: 0.2243 - binary_accuracy: 0.6740 - AUC: 0.7371 - val_loss: 0.2216 - val_binary_accuracy: 0.6910 - val_AUC: 0.7585\n",
            "Epoch 10/10\n",
            "1000/1000 [==============================] - 24s 24ms/sample - loss: 0.2228 - binary_accuracy: 0.6770 - AUC: 0.7403 - val_loss: 0.2201 - val_binary_accuracy: 0.6910 - val_AUC: 0.7618\n",
            "Train on 1000 samples, validate on 1000 samples\n",
            "Epoch 1/10\n",
            "1000/1000 [==============================] - 25s 25ms/sample - loss: 0.2434 - binary_accuracy: 0.5850 - AUC: 0.6361 - val_loss: 0.2427 - val_binary_accuracy: 0.5940 - val_AUC: 0.6534\n",
            "Epoch 2/10\n",
            "1000/1000 [==============================] - 23s 23ms/sample - loss: 0.2420 - binary_accuracy: 0.6130 - AUC: 0.6600 - val_loss: 0.2416 - val_binary_accuracy: 0.6190 - val_AUC: 0.6679\n",
            "Epoch 3/10\n",
            "1000/1000 [==============================] - 23s 23ms/sample - loss: 0.2407 - binary_accuracy: 0.6390 - AUC: 0.6778 - val_loss: 0.2405 - val_binary_accuracy: 0.6290 - val_AUC: 0.6773\n",
            "Epoch 4/10\n",
            "1000/1000 [==============================] - 24s 24ms/sample - loss: 0.2395 - binary_accuracy: 0.6500 - AUC: 0.6917 - val_loss: 0.2395 - val_binary_accuracy: 0.6350 - val_AUC: 0.6872\n",
            "Epoch 5/10\n",
            "1000/1000 [==============================] - 23s 23ms/sample - loss: 0.2382 - binary_accuracy: 0.6690 - AUC: 0.7044 - val_loss: 0.2385 - val_binary_accuracy: 0.6560 - val_AUC: 0.6987\n",
            "Epoch 6/10\n",
            "1000/1000 [==============================] - 23s 23ms/sample - loss: 0.2369 - binary_accuracy: 0.6830 - AUC: 0.7156 - val_loss: 0.2375 - val_binary_accuracy: 0.6700 - val_AUC: 0.7052\n",
            "Epoch 7/10\n",
            "1000/1000 [==============================] - 24s 24ms/sample - loss: 0.2357 - binary_accuracy: 0.6940 - AUC: 0.7243 - val_loss: 0.2365 - val_binary_accuracy: 0.6800 - val_AUC: 0.7130\n",
            "Epoch 8/10\n",
            "1000/1000 [==============================] - 23s 23ms/sample - loss: 0.2345 - binary_accuracy: 0.6990 - AUC: 0.7340 - val_loss: 0.2355 - val_binary_accuracy: 0.6840 - val_AUC: 0.7178\n",
            "Epoch 9/10\n",
            "1000/1000 [==============================] - 25s 25ms/sample - loss: 0.2333 - binary_accuracy: 0.7020 - AUC: 0.7401 - val_loss: 0.2345 - val_binary_accuracy: 0.6870 - val_AUC: 0.7212\n",
            "Epoch 10/10\n",
            "1000/1000 [==============================] - 24s 24ms/sample - loss: 0.2322 - binary_accuracy: 0.7050 - AUC: 0.7454 - val_loss: 0.2335 - val_binary_accuracy: 0.6860 - val_AUC: 0.7273\n",
            "Train on 1000 samples, validate on 1000 samples\n",
            "Epoch 1/10\n",
            "1000/1000 [==============================] - 26s 26ms/sample - loss: 0.2461 - binary_accuracy: 0.5190 - AUC: 0.6217 - val_loss: 0.2429 - val_binary_accuracy: 0.5920 - val_AUC: 0.6639\n",
            "Epoch 2/10\n",
            "1000/1000 [==============================] - 25s 25ms/sample - loss: 0.2433 - binary_accuracy: 0.6200 - AUC: 0.6555 - val_loss: 0.2406 - val_binary_accuracy: 0.6630 - val_AUC: 0.6986\n",
            "Epoch 3/10\n",
            "1000/1000 [==============================] - 24s 24ms/sample - loss: 0.2412 - binary_accuracy: 0.6560 - AUC: 0.6847 - val_loss: 0.2388 - val_binary_accuracy: 0.6710 - val_AUC: 0.7220\n",
            "Epoch 4/10\n",
            "1000/1000 [==============================] - 24s 24ms/sample - loss: 0.2393 - binary_accuracy: 0.6640 - AUC: 0.7098 - val_loss: 0.2374 - val_binary_accuracy: 0.6680 - val_AUC: 0.7383\n",
            "Epoch 5/10\n",
            "1000/1000 [==============================] - 23s 23ms/sample - loss: 0.2381 - binary_accuracy: 0.6560 - AUC: 0.7213 - val_loss: 0.2360 - val_binary_accuracy: 0.6690 - val_AUC: 0.7512\n",
            "Epoch 6/10\n",
            "1000/1000 [==============================] - 24s 24ms/sample - loss: 0.2364 - binary_accuracy: 0.6560 - AUC: 0.7428 - val_loss: 0.2346 - val_binary_accuracy: 0.6690 - val_AUC: 0.7617\n",
            "Epoch 7/10\n",
            "1000/1000 [==============================] - 23s 23ms/sample - loss: 0.2350 - binary_accuracy: 0.6550 - AUC: 0.7533 - val_loss: 0.2333 - val_binary_accuracy: 0.6690 - val_AUC: 0.7706\n",
            "Epoch 8/10\n",
            "1000/1000 [==============================] - 24s 24ms/sample - loss: 0.2337 - binary_accuracy: 0.6540 - AUC: 0.7638 - val_loss: 0.2319 - val_binary_accuracy: 0.6730 - val_AUC: 0.7794\n",
            "Epoch 9/10\n",
            "1000/1000 [==============================] - 24s 24ms/sample - loss: 0.2322 - binary_accuracy: 0.6550 - AUC: 0.7724 - val_loss: 0.2305 - val_binary_accuracy: 0.6760 - val_AUC: 0.7872\n",
            "Epoch 10/10\n",
            "1000/1000 [==============================] - 24s 24ms/sample - loss: 0.2309 - binary_accuracy: 0.6630 - AUC: 0.7823 - val_loss: 0.2291 - val_binary_accuracy: 0.6790 - val_AUC: 0.7937\n",
            "Train on 1000 samples, validate on 1000 samples\n",
            "Epoch 1/10\n",
            "1000/1000 [==============================] - 25s 25ms/sample - loss: 0.2584 - binary_accuracy: 0.4650 - AUC: 0.3874 - val_loss: 0.2583 - val_binary_accuracy: 0.4670 - val_AUC: 0.3767\n",
            "Epoch 2/10\n",
            "1000/1000 [==============================] - 24s 24ms/sample - loss: 0.2568 - binary_accuracy: 0.4770 - AUC: 0.4112 - val_loss: 0.2565 - val_binary_accuracy: 0.4830 - val_AUC: 0.4039\n",
            "Epoch 3/10\n",
            "1000/1000 [==============================] - 25s 25ms/sample - loss: 0.2551 - binary_accuracy: 0.4960 - AUC: 0.4336 - val_loss: 0.2547 - val_binary_accuracy: 0.5020 - val_AUC: 0.4328\n",
            "Epoch 4/10\n",
            "1000/1000 [==============================] - 24s 24ms/sample - loss: 0.2536 - binary_accuracy: 0.5090 - AUC: 0.4613 - val_loss: 0.2527 - val_binary_accuracy: 0.5110 - val_AUC: 0.4684\n",
            "Epoch 5/10\n",
            "1000/1000 [==============================] - 24s 24ms/sample - loss: 0.2517 - binary_accuracy: 0.5180 - AUC: 0.4978 - val_loss: 0.2510 - val_binary_accuracy: 0.5290 - val_AUC: 0.5053\n",
            "Epoch 6/10\n",
            "1000/1000 [==============================] - 24s 24ms/sample - loss: 0.2500 - binary_accuracy: 0.5360 - AUC: 0.5388 - val_loss: 0.2492 - val_binary_accuracy: 0.5310 - val_AUC: 0.5452\n",
            "Epoch 7/10\n",
            "1000/1000 [==============================] - 24s 24ms/sample - loss: 0.2482 - binary_accuracy: 0.5490 - AUC: 0.5818 - val_loss: 0.2474 - val_binary_accuracy: 0.5410 - val_AUC: 0.5861\n",
            "Epoch 8/10\n",
            "1000/1000 [==============================] - 23s 23ms/sample - loss: 0.2465 - binary_accuracy: 0.5610 - AUC: 0.6175 - val_loss: 0.2455 - val_binary_accuracy: 0.5580 - val_AUC: 0.6228\n",
            "Epoch 9/10\n",
            "1000/1000 [==============================] - 24s 24ms/sample - loss: 0.2446 - binary_accuracy: 0.5810 - AUC: 0.6514 - val_loss: 0.2436 - val_binary_accuracy: 0.5780 - val_AUC: 0.6532\n",
            "Epoch 10/10\n",
            "1000/1000 [==============================] - 24s 24ms/sample - loss: 0.2427 - binary_accuracy: 0.6040 - AUC: 0.6784 - val_loss: 0.2418 - val_binary_accuracy: 0.5850 - val_AUC: 0.6764\n"
          ],
          "name": "stdout"
        }
      ]
    },
    {
      "cell_type": "code",
      "metadata": {
        "id": "x_oDnIAyhDyn",
        "colab_type": "code",
        "colab": {
          "base_uri": "https://localhost:8080/",
          "height": 304
        },
        "outputId": "14cf3cd0-b654-4eb2-e496-4c9d05596b87"
      },
      "source": [
        "# plot the roc curves\n",
        "fpr_list, tpr_list = [], []\n",
        "for i,model in enumerate(my_models):\n",
        "  fpr, tpr, _, _ = model.roc_curve(x_test_tensors[i], y_test)\n",
        "  fpr_list.append(fpr)\n",
        "  tpr_list.append(tpr)\n",
        "labels = ['SecondOrder_self_product_5_qubit',\n",
        "          'SecondOrder_cosine_product_5_qubit',\n",
        "          'SecondOrder_distance_measure_5_qubit',\n",
        "          'SecondOrder_arithmetic_mean_5_qubit']\n",
        "multi_model_plt = quple.utils.utils.plot_stacked_roc_curve(fpr_list, tpr_list, labels)"
      ],
      "execution_count": 28,
      "outputs": [
        {
          "output_type": "display_data",
          "data": {
            "image/png": "[encoded data removed]",
            "text/plain": [
              "<Figure size 432x288 with 1 Axes>"
            ]
          },
          "metadata": {
            "tags": [],
            "needs_background": "light"
          }
        }
      ]
    },
    {
      "cell_type": "code",
      "metadata": {
        "id": "3FdtpXXkRqen",
        "colab_type": "code",
        "colab": {}
      },
      "source": [
        ""
      ],
      "execution_count": null,
      "outputs": []
    }
  ]
}