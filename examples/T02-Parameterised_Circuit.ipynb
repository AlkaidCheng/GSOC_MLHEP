{
 "cells": [
  {
   "cell_type": "code",
   "execution_count": 1,
   "metadata": {
    "colab": {
     "base_uri": "https://localhost:8080/",
     "height": 674
    },
    "colab_type": "code",
    "id": "alRR_IkjjIp8",
    "outputId": "3fe1adb6-2a21-4275-93c9-f78868b25ab1"
   },
   "outputs": [],
   "source": [
    "if 'google.colab' in str(get_ipython()):\n",
    "  # install packages needed for this task\n",
    "  !pip install tensorflow==2.3.1\n",
    "  !pip install tensorflow_quantum==0.4.0\n",
    "  !pip install quple==0.7.4"
   ]
  },
  {
   "cell_type": "markdown",
   "metadata": {},
   "source": [
    "# Tutorial-02 Parameterised Quantum Circuit (PQC)\n",
    "\n",
    "In this tutorial, you will learn how to:\n",
    "\n",
    "- Design a PQC with layered structures"
   ]
  },
  {
   "cell_type": "markdown",
   "metadata": {},
   "source": [
    "## Construction of PQCs\n",
    "\n",
    "In `quple`, the `ParameterisedCircuit` class allows for easy construction of PQCs commonly used for many quantum machine learning applications.\n",
    "\n",
    "The `ParameterisedCircuit` architecture consists of alternating rotation and entanglement layers that are repeated for a certain number of times. In both layers, parameterized circuit-blocks act on the circuit in a defined way. The rotation layer consists of single qubit gate operations (rotation blocks) that are applied to every qubit in the circuit. The entanglement layer consists of two (or multiple) qubit gate operations (entanglement blocks) applied to the set of qubits defined by an interaction graph.\n",
    "\n",
    "The `ParameterisedCircuit` class accepts the following arguments (in addition to those accepted by the `QuantumCircuit` class):\n",
    "- `copies`: Number of times the layers are repeated (referred as the \"depth\" of a circuit).\n",
    "- `rotation_blocks`: A list of single qubit gate operations to be applied in the rotation layer.\n",
    "- `entanglement_blocks`:  A list of multi qubit gate operations to be applied in the entanglement layer.\n",
    "- `entangle_strategy`: Determines how the qubits are connected in an entanglement block. \\\n",
    "    If None, it defaults to using full entanglement.\\\n",
    "    If str, it specifies the name of the strategy.\\\n",
    "    If callable, it specifies the function to map to an interaction graph.\\\n",
    "    If list of str, it specifies the names of a list of strategies. The strategy to use is decided by the current block index. For example, if the circuit is building the n-th entanglement block in the entanglement layer, then the n-th strategy in the list will be used.\\\n",
    "    If list of callable, it specifies the list of functions to map to an interaction graph. The function to use is decided by the current block index.\n",
    "    Default strategy is 'full' in which entanglement gate operations are applied to all qubit pairs.\n",
    "- `parameter_symbol`: Symbol prefix for circuit parameters. Default is 'θ'.\n",
    "- `flatten_circuit`: Whether to flatten circuit parameters when the circuit is modified.\n",
    "- `reuse_param_per_depth`: Whether to reuse parameter symbols at every new depth (symbol starting index reset to 0)\n",
    "- `reuse_param_per_layer`: Whether to reuse parameter symbols at every new layer (symbol starting index reset to 0)\n",
    "- `reuse_param_per_template`: Whether to reuse parameter symbols at every new template block (symbol starting index reset to 0)\n",
    "- `parameter_index`: Starting index of the first parameter"
   ]
  },
  {
   "cell_type": "code",
   "execution_count": 2,
   "metadata": {
    "colab": {},
    "colab_type": "code",
    "id": "_-FPj7uLjKu2"
   },
   "outputs": [],
   "source": [
    "from quple import ParameterisedCircuit"
   ]
  },
  {
   "cell_type": "code",
   "execution_count": 3,
   "metadata": {
    "colab": {
     "base_uri": "https://localhost:8080/",
     "height": 223
    },
    "colab_type": "code",
    "id": "qsS3uJU-jLnX",
    "outputId": "bf71b2c1-4425-4e38-aa14-1acbcd55df1f"
   },
   "outputs": [
    {
     "data": {
      "text/html": [
       "<pre style=\"overflow: auto; white-space: pre;\">(0, 0): ───H───\n",
       "\n",
       "(0, 1): ───H───\n",
       "\n",
       "(0, 2): ───H───\n",
       "\n",
       "(0, 3): ───H───\n",
       "\n",
       "(0, 4): ───H───</pre>"
      ],
      "text/plain": [
       "(0, 0): ───H───\n",
       "\n",
       "(0, 1): ───H───\n",
       "\n",
       "(0, 2): ───H───\n",
       "\n",
       "(0, 3): ───H───\n",
       "\n",
       "(0, 4): ───H───"
      ]
     },
     "execution_count": 3,
     "metadata": {},
     "output_type": "execute_result"
    }
   ],
   "source": [
    "# create a PQC of 5 qubits with a layer of Hadamard gates\n",
    "cq_1 = ParameterisedCircuit(5, copies=1, rotation_blocks=['H'])\n",
    "cq_1"
   ]
  },
  {
   "cell_type": "code",
   "execution_count": 4,
   "metadata": {},
   "outputs": [
    {
     "data": {
      "text/html": [
       "<pre style=\"overflow: auto; white-space: pre;\">                                     ┌──┐       ┌──┐\n",
       "(0, 0): ───H───Rz(θ_0)───@───@───@────@────────────────────────\n",
       "                         │   │   │    │\n",
       "(0, 1): ───H───Rz(θ_1)───X───┼───┼────┼@────@────@─────────────\n",
       "                             │   │    ││    │    │\n",
       "(0, 2): ───H───Rz(θ_2)───────X───┼────┼X────┼────┼@────@───────\n",
       "                                 │    │     │    ││    │\n",
       "(0, 3): ───H───Rz(θ_3)───────────X────┼─────X────┼X────┼───@───\n",
       "                                      │          │     │   │\n",
       "(0, 4): ───H───Rz(θ_4)────────────────X──────────X─────X───X───\n",
       "                                     └──┘       └──┘</pre>"
      ],
      "text/plain": [
       "                                     ┌──┐       ┌──┐\n",
       "(0, 0): ───H───Rz(θ_0)───@───@───@────@────────────────────────\n",
       "                         │   │   │    │\n",
       "(0, 1): ───H───Rz(θ_1)───X───┼───┼────┼@────@────@─────────────\n",
       "                             │   │    ││    │    │\n",
       "(0, 2): ───H───Rz(θ_2)───────X───┼────┼X────┼────┼@────@───────\n",
       "                                 │    │     │    ││    │\n",
       "(0, 3): ───H───Rz(θ_3)───────────X────┼─────X────┼X────┼───@───\n",
       "                                      │          │     │   │\n",
       "(0, 4): ───H───Rz(θ_4)────────────────X──────────X─────X───X───\n",
       "                                     └──┘       └──┘"
      ]
     },
     "execution_count": 4,
     "metadata": {},
     "output_type": "execute_result"
    }
   ],
   "source": [
    "# create a PQC of 5 qubits with a layer of Hadamard gates followed by a layer of RZ gates and CNOT entanglement gates\n",
    "# by default\n",
    "cq_2 = ParameterisedCircuit(5, copies=1, rotation_blocks=['H', 'RZ'], \n",
    "                            entanglement_blocks=['CNOT'])\n",
    "cq_2"
   ]
  },
  {
   "cell_type": "code",
   "execution_count": 5,
   "metadata": {},
   "outputs": [
    {
     "data": {
      "text/html": [
       "<pre style=\"overflow: auto; white-space: pre;\">                                     ┌──┐       ┌──┐\n",
       "(0, 0): ───H───Rz(θ_0)───@───@───@────@────────────────────────\n",
       "                         │   │   │    │\n",
       "(0, 1): ───H───Rz(θ_1)───X───┼───┼────┼@────@────@─────────────\n",
       "                             │   │    ││    │    │\n",
       "(0, 2): ───H───Rz(θ_2)───────X───┼────┼X────┼────┼@────@───────\n",
       "                                 │    │     │    ││    │\n",
       "(0, 3): ───H───Rz(θ_3)───────────X────┼─────X────┼X────┼───@───\n",
       "                                      │          │     │   │\n",
       "(0, 4): ───H───Rz(θ_4)────────────────X──────────X─────X───X───\n",
       "                                     └──┘       └──┘</pre>"
      ],
      "text/plain": [
       "                                     ┌──┐       ┌──┐\n",
       "(0, 0): ───H───Rz(θ_0)───@───@───@────@────────────────────────\n",
       "                         │   │   │    │\n",
       "(0, 1): ───H───Rz(θ_1)───X───┼───┼────┼@────@────@─────────────\n",
       "                             │   │    ││    │    │\n",
       "(0, 2): ───H───Rz(θ_2)───────X───┼────┼X────┼────┼@────@───────\n",
       "                                 │    │     │    ││    │\n",
       "(0, 3): ───H───Rz(θ_3)───────────X────┼─────X────┼X────┼───@───\n",
       "                                      │          │     │   │\n",
       "(0, 4): ───H───Rz(θ_4)────────────────X──────────X─────X───X───\n",
       "                                     └──┘       └──┘"
      ]
     },
     "execution_count": 5,
     "metadata": {},
     "output_type": "execute_result"
    }
   ],
   "source": [
    "# create a PQC of 5 qubits with a layer of Hadamard gates followed by a layer of RZ gates and CNOT entanglement gates\n",
    "# by default, the entanglement gates will be applied to all qubit pairs.\n",
    "cq_3 = ParameterisedCircuit(5, copies=1, rotation_blocks=['H', 'RZ'], \n",
    "                            entanglement_blocks=['CNOT'])\n",
    "cq_3"
   ]
  },
  {
   "cell_type": "code",
   "execution_count": 6,
   "metadata": {
    "colab": {
     "base_uri": "https://localhost:8080/",
     "height": 35
    },
    "colab_type": "code",
    "id": "9nPWuV08jT0x",
    "outputId": "bf699d4e-72f1-42de-f660-3bf395063f25"
   },
   "outputs": [
    {
     "data": {
      "text/html": [
       "<pre style=\"overflow: auto; white-space: pre;\">(0, 0): ───H───Rz(x_0)───XX────────────────H────────Rz(x_0)───XX──────────────────────────\n",
       "                         │                                    │\n",
       "(0, 1): ───H───Rz(x_1)───XX^x_4───XX───────H────────Rz(x_1)───XX^x_4────XX────────────────\n",
       "                                  │                                     │\n",
       "(0, 2): ───H───Rz(x_2)────────────XX^x_5───XX───────H─────────Rz(x_2)───XX^x_5───XX───────\n",
       "                                           │                                     │\n",
       "(0, 3): ───H───Rz(x_3)─────────────────────XX^x_6───H─────────Rz(x_3)────────────XX^x_6───</pre>"
      ],
      "text/plain": [
       "(0, 0): ───H───Rz(x_0)───XX────────────────H────────Rz(x_0)───XX──────────────────────────\n",
       "                         │                                    │\n",
       "(0, 1): ───H───Rz(x_1)───XX^x_4───XX───────H────────Rz(x_1)───XX^x_4────XX────────────────\n",
       "                                  │                                     │\n",
       "(0, 2): ───H───Rz(x_2)────────────XX^x_5───XX───────H─────────Rz(x_2)───XX^x_5───XX───────\n",
       "                                           │                                     │\n",
       "(0, 3): ───H───Rz(x_3)─────────────────────XX^x_6───H─────────Rz(x_3)────────────XX^x_6───"
      ]
     },
     "execution_count": 6,
     "metadata": {},
     "output_type": "execute_result"
    }
   ],
   "source": [
    "# create a PQC of 3 qubits with a layer of Hadamard gates followed by a layer of RZ gates and XX \n",
    "# entanglement gates repeated 2 times\n",
    "# here we use the 'linear' entanglement strategy which all neighboring qubit pairs are entangled\n",
    "# let's use 'x' as the parameter symbol and let the symbol index starts from 10\n",
    "cq_4 = ParameterisedCircuit(4, copies=2, rotation_blocks=['H', 'RZ'], \n",
    "                            entanglement_blocks=['XX'], \n",
    "                            entangle_strategy='linear',\n",
    "                            parameter_symbol='x',\n",
    "                            parameter_index=10,\n",
    "                            reuse_param_per_depth=True)\n",
    "cq_4"
   ]
  },
  {
   "cell_type": "code",
   "execution_count": 7,
   "metadata": {},
   "outputs": [
    {
     "data": {
      "text/plain": [
       "array([x_0, x_1, x_2, x_3, x_4, x_5, x_6], dtype=object)"
      ]
     },
     "execution_count": 7,
     "metadata": {},
     "output_type": "execute_result"
    }
   ],
   "source": [
    "# return parameter symbols (automatically sorted) as an array of sympy.Symbol objects\n",
    "cq_4.parameters"
   ]
  },
  {
   "cell_type": "code",
   "execution_count": 8,
   "metadata": {},
   "outputs": [
    {
     "data": {
      "text/plain": [
       "['x_0', 'x_1', 'x_2', 'x_3', 'x_4', 'x_5', 'x_6']"
      ]
     },
     "execution_count": 8,
     "metadata": {},
     "output_type": "execute_result"
    }
   ],
   "source": [
    "# alternatively, one can use the \"symbols\" method, which returns a list of string of symbols\n",
    "cq_4.symbols"
   ]
  },
  {
   "cell_type": "markdown",
   "metadata": {},
   "source": [
    "## Customize layer structures\n",
    "\n",
    "It is not necessary to have rotation layers followed by entanglement layers. To customize individual layers, one can use the `add_rotation_layer` and `add_entanglement_layer` method"
   ]
  },
  {
   "cell_type": "code",
   "execution_count": 16,
   "metadata": {},
   "outputs": [
    {
     "data": {
      "text/html": [
       "<pre style=\"overflow: auto; white-space: pre;\">(0, 0): ───@───────\n",
       "           │\n",
       "(0, 1): ───X───@───\n",
       "               │\n",
       "(0, 2): ───@───X───\n",
       "           │\n",
       "(0, 3): ───X───@───\n",
       "               │\n",
       "(0, 4): ───────X───</pre>"
      ],
      "text/plain": [
       "(0, 0): ───@───────\n",
       "           │\n",
       "(0, 1): ───X───@───\n",
       "               │\n",
       "(0, 2): ───@───X───\n",
       "           │\n",
       "(0, 3): ───X───@───\n",
       "               │\n",
       "(0, 4): ───────X───"
      ]
     },
     "execution_count": 16,
     "metadata": {},
     "output_type": "execute_result"
    }
   ],
   "source": [
    "cq_5 = ParameterisedCircuit(5, entanglement_blocks='CNOT', entangle_strategy='alternate_linear')\n",
    "cq_5"
   ]
  },
  {
   "cell_type": "code",
   "execution_count": 17,
   "metadata": {},
   "outputs": [
    {
     "data": {
      "text/html": [
       "<pre style=\"overflow: auto; white-space: pre;\">(0, 0): ───@───Rz(θ_0)───Ry(θ_5)─────────────\n",
       "           │\n",
       "(0, 1): ───X───@─────────Rz(θ_1)───Ry(θ_6)───\n",
       "               │\n",
       "(0, 2): ───@───X─────────Rz(θ_2)───Ry(θ_7)───\n",
       "           │\n",
       "(0, 3): ───X───@─────────Rz(θ_3)───Ry(θ_8)───\n",
       "               │\n",
       "(0, 4): ───────X─────────Rz(θ_4)───Ry(θ_9)───</pre>"
      ],
      "text/plain": [
       "(0, 0): ───@───Rz(θ_0)───Ry(θ_5)─────────────\n",
       "           │\n",
       "(0, 1): ───X───@─────────Rz(θ_1)───Ry(θ_6)───\n",
       "               │\n",
       "(0, 2): ───@───X─────────Rz(θ_2)───Ry(θ_7)───\n",
       "           │\n",
       "(0, 3): ───X───@─────────Rz(θ_3)───Ry(θ_8)───\n",
       "               │\n",
       "(0, 4): ───────X─────────Rz(θ_4)───Ry(θ_9)───"
      ]
     },
     "execution_count": 17,
     "metadata": {},
     "output_type": "execute_result"
    }
   ],
   "source": [
    "# add an RZ layer and an RY layer\n",
    "cq_5.add_rotation_layer(['RZ','RY'])\n",
    "cq_5"
   ]
  },
  {
   "cell_type": "code",
   "execution_count": 18,
   "metadata": {},
   "outputs": [
    {
     "data": {
      "text/html": [
       "<pre style=\"overflow: auto; white-space: pre;\">(0, 0): ───@───Rz(θ_0)───Ry(θ_5)─────────────×───────\n",
       "           │                                 │\n",
       "(0, 1): ───X───@─────────Rz(θ_1)───Ry(θ_6)───×───×───\n",
       "               │                                 │\n",
       "(0, 2): ───@───X─────────Rz(θ_2)───Ry(θ_7)───×───×───\n",
       "           │                                 │\n",
       "(0, 3): ───X───@─────────Rz(θ_3)───Ry(θ_8)───×───×───\n",
       "               │                                 │\n",
       "(0, 4): ───────X─────────Rz(θ_4)───Ry(θ_9)───────×───</pre>"
      ],
      "text/plain": [
       "(0, 0): ───@───Rz(θ_0)───Ry(θ_5)─────────────×───────\n",
       "           │                                 │\n",
       "(0, 1): ───X───@─────────Rz(θ_1)───Ry(θ_6)───×───×───\n",
       "               │                                 │\n",
       "(0, 2): ───@───X─────────Rz(θ_2)───Ry(θ_7)───×───×───\n",
       "           │                                 │\n",
       "(0, 3): ───X───@─────────Rz(θ_3)───Ry(θ_8)───×───×───\n",
       "               │                                 │\n",
       "(0, 4): ───────X─────────Rz(θ_4)───Ry(θ_9)───────×───"
      ]
     },
     "execution_count": 18,
     "metadata": {},
     "output_type": "execute_result"
    }
   ],
   "source": [
    "# add a SWAP layer\n",
    "cq_5.add_entanglement_layer(['SWAP'], entangle_strategy='alternate_linear')\n",
    "cq_5"
   ]
  },
  {
   "cell_type": "markdown",
   "metadata": {},
   "source": [
    "## Merging parameterised circuits\n",
    "\n",
    "Often the times you want to combine two parameterised circuits with the parameter symbols automatically updated. This can be achieved by the `quple.merge_pqc` method of the build in `merge` method from a `ParameterisedCircuit` instance."
   ]
  },
  {
   "cell_type": "code",
   "execution_count": 19,
   "metadata": {},
   "outputs": [
    {
     "name": "stdout",
     "output_type": "stream",
     "text": [
      "------------------------------------------------------------------\n",
      "Circuit A:\n",
      "(0, 0): ───Rx(θ_0)───\n",
      "\n",
      "(0, 1): ───Rx(θ_1)───\n",
      "\n",
      "(0, 2): ───Rx(θ_2)───\n",
      "\n",
      "(0, 3): ───Rx(θ_3)───\n",
      "------------------------------------------------------------------\n",
      "Circuit B:\n",
      "(0, 0): ───@───────────\n",
      "           │\n",
      "(0, 1): ───X───@───────\n",
      "               │\n",
      "(0, 2): ───────X───@───\n",
      "                   │\n",
      "(0, 3): ───────────X───\n",
      "------------------------------------------------------------------\n",
      "Circuit C:\n",
      "(0, 0): ───Rz(θ_0)───\n",
      "\n",
      "(0, 1): ───Rz(θ_1)───\n",
      "\n",
      "(0, 2): ───Rz(θ_2)───\n",
      "\n",
      "(0, 3): ───Rz(θ_3)───\n",
      "------------------------------------------------------------------\n",
      "Merge circuit A, B and C to a new circuit D(this will also unflatten the circuit)\n",
      "(0, 0): ───Rx(θ_0)───@───────────Rz(θ_4)───\n",
      "                     │\n",
      "(0, 1): ───Rx(θ_1)───X───@───────Rz(θ_5)───\n",
      "                         │\n",
      "(0, 2): ───Rx(θ_2)───────X───@───Rz(θ_6)───\n",
      "                             │\n",
      "(0, 3): ───Rx(θ_3)───────────X───Rz(θ_7)───\n",
      "------------------------------------------------------------------\n",
      "Merge circuit A, B to a new circuit E and changeg parameter symbol to \"x\"\n",
      "(0, 0): ───Rx(x_0)───@───────────\n",
      "                     │\n",
      "(0, 1): ───Rx(x_1)───X───@───────\n",
      "                         │\n",
      "(0, 2): ───Rx(x_2)───────X───@───\n",
      "                             │\n",
      "(0, 3): ───Rx(x_3)───────────X───\n",
      "------------------------------------------------------------------\n",
      "Circuit F:\n",
      "(0, 0): ───Rx(θ_0)───Ry(θ_4)───ZZ────────────────────────────────\n",
      "                               │\n",
      "(0, 1): ───Rx(θ_1)───Ry(θ_5)───ZZ^(θ_8)───ZZ─────────────────────\n",
      "                                          │\n",
      "(0, 2): ───Rx(θ_2)───Ry(θ_6)──────────────ZZ^(θ_9)───ZZ──────────\n",
      "                                                     │\n",
      "(0, 3): ───Rx(θ_3)───Ry(θ_7)─────────────────────────ZZ^(θ_10)───\n",
      "------------------------------------------------------------------\n",
      "Circuit G:\n",
      "(0, 0): ───H───×───────────\n",
      "               │\n",
      "(0, 1): ───H───×───×───────\n",
      "                   │\n",
      "(0, 2): ───H───────×───×───\n",
      "                       │\n",
      "(0, 3): ───H───────────×───\n",
      "------------------------------------------------------------------\n",
      "Merge circuit F with G (this will modify circuit F)\n",
      "(0, 0): ───Rx(θ_0)───Ry(θ_4)───ZZ────────────────────────────────H───×───────────\n",
      "                               │                                     │\n",
      "(0, 1): ───Rx(θ_1)───Ry(θ_5)───ZZ^(θ_8)───ZZ─────────────────────H───×───×───────\n",
      "                                          │                              │\n",
      "(0, 2): ───Rx(θ_2)───Ry(θ_6)──────────────ZZ^(θ_9)───ZZ──────────H───────×───×───\n",
      "                                                     │                       │\n",
      "(0, 3): ───Rx(θ_3)───Ry(θ_7)─────────────────────────ZZ^(θ_10)───H───────────×───\n"
     ]
    }
   ],
   "source": [
    "import quple\n",
    "n_qubit = 4\n",
    "# construct 3 different pqc\n",
    "A = ParameterisedCircuit(n_qubit, copies=1, rotation_blocks=['RX'])\n",
    "print('------------------------------------------------------------------')\n",
    "print('Circuit A:')\n",
    "print(A)\n",
    "B = ParameterisedCircuit(n_qubit, copies=1, entanglement_blocks=['CNOT'], entangle_strategy='linear')\n",
    "print('------------------------------------------------------------------')\n",
    "print('Circuit B:')\n",
    "print(B)\n",
    "C = ParameterisedCircuit(n_qubit, copies=1, rotation_blocks=['RZ'])\n",
    "print('------------------------------------------------------------------')\n",
    "print('Circuit C:')\n",
    "print(C)\n",
    "print('------------------------------------------------------------------')\n",
    "print('Merge circuit A, B and C to a new circuit D(this will also unflatten the circuit)')\n",
    "D = quple.merge_pqc([A,B,C])\n",
    "print(D)\n",
    "# merge the pqc and require the resulting circuit in terms of a new symbol x\n",
    "E = quple.merge_pqc([A, B], symbol='x')\n",
    "print('------------------------------------------------------------------')\n",
    "print('Merge circuit A, B to a new circuit E and changeg parameter symbol to \"x\"')\n",
    "print(E)\n",
    "print('------------------------------------------------------------------')\n",
    "F = ParameterisedCircuit(n_qubit, copies=1, rotation_blocks=['RX','RY'], entanglement_blocks=['ZZ'], entangle_strategy='linear')\n",
    "print('Circuit F:')\n",
    "print(F)\n",
    "print('------------------------------------------------------------------')\n",
    "G = ParameterisedCircuit(n_qubit, copies=1, rotation_blocks=['H'], entanglement_blocks=['SWAP'], entangle_strategy='linear')\n",
    "print('Circuit G:')\n",
    "print(G)\n",
    "print('------------------------------------------------------------------')\n",
    "print('Merge circuit F with G (this will modify circuit F)')\n",
    "F.merge(G)\n",
    "print(F)"
   ]
  },
  {
   "cell_type": "code",
   "execution_count": null,
   "metadata": {},
   "outputs": [],
   "source": []
  }
 ],
 "metadata": {
  "colab": {
   "authorship_tag": "ABX9TyPvX2Xa5rwKeJQIGwf4cnq5",
   "include_colab_link": true,
   "name": "T02-Parameterised_Circuit.ipynb",
   "provenance": []
  },
  "kernelspec": {
   "display_name": "Python 3",
   "language": "python",
   "name": "python3"
  },
  "language_info": {
   "codemirror_mode": {
    "name": "ipython",
    "version": 3
   },
   "file_extension": ".py",
   "mimetype": "text/x-python",
   "name": "python",
   "nbconvert_exporter": "python",
   "pygments_lexer": "ipython3",
   "version": "3.7.10"
  }
 },
 "nbformat": 4,
 "nbformat_minor": 1
}
