{
 "cells": [
  {
   "cell_type": "markdown",
   "metadata": {
    "colab_type": "text",
    "id": "view-in-github"
   },
   "source": [
    "<a href=\"https://colab.research.google.com/github/AlkaidCheng/quple.github.io/blob/master/examples/Encoding_Circuit_Walkthrough.ipynb\" target=\"_parent\"><img src=\"https://colab.research.google.com/assets/colab-badge.svg\" alt=\"Open In Colab\"/></a>"
   ]
  },
  {
   "cell_type": "code",
   "execution_count": 1,
   "metadata": {
    "colab": {
     "base_uri": "https://localhost:8080/",
     "height": 1000
    },
    "colab_type": "code",
    "id": "_vLlpynw_Bsc",
    "outputId": "e0dad442-7c84-41ac-ec39-dcedc081c396"
   },
   "outputs": [
    {
     "name": "stdout",
     "output_type": "stream",
     "text": [
      "Collecting quple\n",
      "\u001b[?25l  Downloading https://files.pythonhosted.org/packages/e9/53/9d116d61b6c5d3787bfd49ccce2620079f0e0d66a6606cce958a64897765/quple-0.5.7.0-py3-none-any.whl (50kB)\n",
      "\u001b[K     |████████████████████████████████| 51kB 1.9MB/s \n",
      "\u001b[?25hCollecting tensorflow==2.1.0\n",
      "\u001b[?25l  Downloading https://files.pythonhosted.org/packages/85/d4/c0cd1057b331bc38b65478302114194bd8e1b9c2bbc06e300935c0e93d90/tensorflow-2.1.0-cp36-cp36m-manylinux2010_x86_64.whl (421.8MB)\n",
      "\u001b[K     |████████████████████████████████| 421.8MB 34kB/s \n",
      "\u001b[?25hCollecting cirq\n",
      "\u001b[?25l  Downloading https://files.pythonhosted.org/packages/1e/5b/6f8cb54ea8c0041ad9c8e4ece07cb5ca9eb1c29de68e68795b4a40d90cc6/cirq-0.8.2-py3-none-any.whl (1.4MB)\n",
      "\u001b[K     |████████████████████████████████| 1.4MB 41.4MB/s \n",
      "\u001b[?25hRequirement already satisfied: numpy in /usr/local/lib/python3.6/dist-packages (from quple) (1.18.5)\n",
      "Collecting tensorflow-quantum==0.3.0\n",
      "\u001b[?25l  Downloading https://files.pythonhosted.org/packages/e2/60/3c73e8c4b68efdd84927e3a2975c52fbf9af50305c3dbecbf0557b8f7b73/tensorflow_quantum-0.3.0-cp36-cp36m-manylinux2010_x86_64.whl (3.9MB)\n",
      "\u001b[K     |████████████████████████████████| 3.9MB 42.3MB/s \n",
      "\u001b[?25hRequirement already satisfied: six>=1.12.0 in /usr/local/lib/python3.6/dist-packages (from tensorflow==2.1.0->quple) (1.15.0)\n",
      "Requirement already satisfied: keras-preprocessing>=1.1.0 in /usr/local/lib/python3.6/dist-packages (from tensorflow==2.1.0->quple) (1.1.2)\n",
      "Collecting tensorboard<2.2.0,>=2.1.0\n",
      "\u001b[?25l  Downloading https://files.pythonhosted.org/packages/d9/41/bbf49b61370e4f4d245d4c6051dfb6db80cec672605c91b1652ac8cc3d38/tensorboard-2.1.1-py3-none-any.whl (3.8MB)\n",
      "\u001b[K     |████████████████████████████████| 3.9MB 44.6MB/s \n",
      "\u001b[?25hCollecting gast==0.2.2\n",
      "  Downloading https://files.pythonhosted.org/packages/4e/35/11749bf99b2d4e3cceb4d55ca22590b0d7c2c62b9de38ac4a4a7f4687421/gast-0.2.2.tar.gz\n",
      "Requirement already satisfied: opt-einsum>=2.3.2 in /usr/local/lib/python3.6/dist-packages (from tensorflow==2.1.0->quple) (3.3.0)\n",
      "Collecting tensorflow-estimator<2.2.0,>=2.1.0rc0\n",
      "\u001b[?25l  Downloading https://files.pythonhosted.org/packages/18/90/b77c328a1304437ab1310b463e533fa7689f4bfc41549593056d812fab8e/tensorflow_estimator-2.1.0-py2.py3-none-any.whl (448kB)\n",
      "\u001b[K     |████████████████████████████████| 450kB 42.6MB/s \n",
      "\u001b[?25hRequirement already satisfied: scipy==1.4.1; python_version >= \"3\" in /usr/local/lib/python3.6/dist-packages (from tensorflow==2.1.0->quple) (1.4.1)\n",
      "Requirement already satisfied: absl-py>=0.7.0 in /usr/local/lib/python3.6/dist-packages (from tensorflow==2.1.0->quple) (0.8.1)\n",
      "Requirement already satisfied: grpcio>=1.8.6 in /usr/local/lib/python3.6/dist-packages (from tensorflow==2.1.0->quple) (1.31.0)\n",
      "Requirement already satisfied: wrapt>=1.11.1 in /usr/local/lib/python3.6/dist-packages (from tensorflow==2.1.0->quple) (1.12.1)\n",
      "Requirement already satisfied: wheel>=0.26; python_version >= \"3\" in /usr/local/lib/python3.6/dist-packages (from tensorflow==2.1.0->quple) (0.35.1)\n",
      "Requirement already satisfied: termcolor>=1.1.0 in /usr/local/lib/python3.6/dist-packages (from tensorflow==2.1.0->quple) (1.1.0)\n",
      "Requirement already satisfied: google-pasta>=0.1.6 in /usr/local/lib/python3.6/dist-packages (from tensorflow==2.1.0->quple) (0.2.0)\n",
      "Requirement already satisfied: astor>=0.6.0 in /usr/local/lib/python3.6/dist-packages (from tensorflow==2.1.0->quple) (0.8.1)\n",
      "Collecting keras-applications>=1.0.8\n",
      "\u001b[?25l  Downloading https://files.pythonhosted.org/packages/71/e3/19762fdfc62877ae9102edf6342d71b28fbfd9dea3d2f96a882ce099b03f/Keras_Applications-1.0.8-py3-none-any.whl (50kB)\n",
      "\u001b[K     |████████████████████████████████| 51kB 6.4MB/s \n",
      "\u001b[?25hRequirement already satisfied: protobuf>=3.8.0 in /usr/local/lib/python3.6/dist-packages (from tensorflow==2.1.0->quple) (3.12.4)\n",
      "Requirement already satisfied: pandas in /usr/local/lib/python3.6/dist-packages (from cirq->quple) (1.0.5)\n",
      "Requirement already satisfied: typing-extensions in /usr/local/lib/python3.6/dist-packages (from cirq->quple) (3.7.4.3)\n",
      "Requirement already satisfied: sympy in /usr/local/lib/python3.6/dist-packages (from cirq->quple) (1.1.1)\n",
      "Collecting freezegun~=0.3.15\n",
      "  Downloading https://files.pythonhosted.org/packages/17/5d/1b9d6d3c7995fff473f35861d674e0113a5f0bd5a72fe0199c3f254665c7/freezegun-0.3.15-py2.py3-none-any.whl\n",
      "Requirement already satisfied: matplotlib~=3.0 in /usr/local/lib/python3.6/dist-packages (from cirq->quple) (3.2.2)\n",
      "Requirement already satisfied: dataclasses; python_version < \"3.7\" in /usr/local/lib/python3.6/dist-packages (from cirq->quple) (0.7)\n",
      "Requirement already satisfied: requests~=2.18 in /usr/local/lib/python3.6/dist-packages (from cirq->quple) (2.23.0)\n",
      "Requirement already satisfied: google-api-core[grpc]<2.0.0dev,>=1.14.0 in /usr/local/lib/python3.6/dist-packages (from cirq->quple) (1.16.0)\n",
      "Requirement already satisfied: sortedcontainers~=2.0 in /usr/local/lib/python3.6/dist-packages (from cirq->quple) (2.2.2)\n",
      "Requirement already satisfied: networkx~=2.4 in /usr/local/lib/python3.6/dist-packages (from cirq->quple) (2.5)\n",
      "Collecting pathos==0.2.5\n",
      "\u001b[?25l  Downloading https://files.pythonhosted.org/packages/c6/a2/cd59f73d5ede4f122687bf8f63de5d671c9561e493ca699241f05b038278/pathos-0.2.5.tar.gz (162kB)\n",
      "\u001b[K     |████████████████████████████████| 163kB 50.8MB/s \n",
      "\u001b[?25hRequirement already satisfied: setuptools>=41.0.0 in /usr/local/lib/python3.6/dist-packages (from tensorboard<2.2.0,>=2.1.0->tensorflow==2.1.0->quple) (49.6.0)\n",
      "Requirement already satisfied: werkzeug>=0.11.15 in /usr/local/lib/python3.6/dist-packages (from tensorboard<2.2.0,>=2.1.0->tensorflow==2.1.0->quple) (1.0.1)\n",
      "Requirement already satisfied: markdown>=2.6.8 in /usr/local/lib/python3.6/dist-packages (from tensorboard<2.2.0,>=2.1.0->tensorflow==2.1.0->quple) (3.2.2)\n",
      "Requirement already satisfied: google-auth-oauthlib<0.5,>=0.4.1 in /usr/local/lib/python3.6/dist-packages (from tensorboard<2.2.0,>=2.1.0->tensorflow==2.1.0->quple) (0.4.1)\n",
      "Requirement already satisfied: google-auth<2,>=1.6.3 in /usr/local/lib/python3.6/dist-packages (from tensorboard<2.2.0,>=2.1.0->tensorflow==2.1.0->quple) (1.17.2)\n",
      "Requirement already satisfied: h5py in /usr/local/lib/python3.6/dist-packages (from keras-applications>=1.0.8->tensorflow==2.1.0->quple) (2.10.0)\n",
      "Requirement already satisfied: pytz>=2017.2 in /usr/local/lib/python3.6/dist-packages (from pandas->cirq->quple) (2018.9)\n",
      "Requirement already satisfied: python-dateutil>=2.6.1 in /usr/local/lib/python3.6/dist-packages (from pandas->cirq->quple) (2.8.1)\n",
      "Requirement already satisfied: mpmath>=0.19 in /usr/local/lib/python3.6/dist-packages (from sympy->cirq->quple) (1.1.0)\n",
      "Requirement already satisfied: pyparsing!=2.0.4,!=2.1.2,!=2.1.6,>=2.0.1 in /usr/local/lib/python3.6/dist-packages (from matplotlib~=3.0->cirq->quple) (2.4.7)\n",
      "Requirement already satisfied: kiwisolver>=1.0.1 in /usr/local/lib/python3.6/dist-packages (from matplotlib~=3.0->cirq->quple) (1.2.0)\n",
      "Requirement already satisfied: cycler>=0.10 in /usr/local/lib/python3.6/dist-packages (from matplotlib~=3.0->cirq->quple) (0.10.0)\n",
      "Requirement already satisfied: idna<3,>=2.5 in /usr/local/lib/python3.6/dist-packages (from requests~=2.18->cirq->quple) (2.10)\n",
      "Requirement already satisfied: urllib3!=1.25.0,!=1.25.1,<1.26,>=1.21.1 in /usr/local/lib/python3.6/dist-packages (from requests~=2.18->cirq->quple) (1.24.3)\n",
      "Requirement already satisfied: chardet<4,>=3.0.2 in /usr/local/lib/python3.6/dist-packages (from requests~=2.18->cirq->quple) (3.0.4)\n",
      "Requirement already satisfied: certifi>=2017.4.17 in /usr/local/lib/python3.6/dist-packages (from requests~=2.18->cirq->quple) (2020.6.20)\n",
      "Requirement already satisfied: googleapis-common-protos<2.0dev,>=1.6.0 in /usr/local/lib/python3.6/dist-packages (from google-api-core[grpc]<2.0.0dev,>=1.14.0->cirq->quple) (1.52.0)\n",
      "Requirement already satisfied: decorator>=4.3.0 in /usr/local/lib/python3.6/dist-packages (from networkx~=2.4->cirq->quple) (4.4.2)\n",
      "Collecting ppft>=1.6.6.1\n",
      "\u001b[?25l  Downloading https://files.pythonhosted.org/packages/2b/fb/fa21f6e9aedc4823448473ed96e8eab64af1cb248c18165f045a90e1c6b4/ppft-1.6.6.2.zip (106kB)\n",
      "\u001b[K     |████████████████████████████████| 112kB 42.5MB/s \n",
      "\u001b[?25hRequirement already satisfied: dill>=0.3.1 in /usr/local/lib/python3.6/dist-packages (from pathos==0.2.5->tensorflow-quantum==0.3.0->quple) (0.3.2)\n",
      "Collecting pox>=0.2.7\n",
      "\u001b[?25l  Downloading https://files.pythonhosted.org/packages/1a/0c/ec447fb0ed88bc1c09bf0dadf00e40ea05fda17e841d15bb351a52d9e192/pox-0.2.8.zip (128kB)\n",
      "\u001b[K     |████████████████████████████████| 133kB 47.0MB/s \n",
      "\u001b[?25hRequirement already satisfied: multiprocess>=0.70.9 in /usr/local/lib/python3.6/dist-packages (from pathos==0.2.5->tensorflow-quantum==0.3.0->quple) (0.70.10)\n",
      "Requirement already satisfied: importlib-metadata; python_version < \"3.8\" in /usr/local/lib/python3.6/dist-packages (from markdown>=2.6.8->tensorboard<2.2.0,>=2.1.0->tensorflow==2.1.0->quple) (1.7.0)\n",
      "Requirement already satisfied: requests-oauthlib>=0.7.0 in /usr/local/lib/python3.6/dist-packages (from google-auth-oauthlib<0.5,>=0.4.1->tensorboard<2.2.0,>=2.1.0->tensorflow==2.1.0->quple) (1.3.0)\n",
      "Requirement already satisfied: cachetools<5.0,>=2.0.0 in /usr/local/lib/python3.6/dist-packages (from google-auth<2,>=1.6.3->tensorboard<2.2.0,>=2.1.0->tensorflow==2.1.0->quple) (4.1.1)\n",
      "Requirement already satisfied: pyasn1-modules>=0.2.1 in /usr/local/lib/python3.6/dist-packages (from google-auth<2,>=1.6.3->tensorboard<2.2.0,>=2.1.0->tensorflow==2.1.0->quple) (0.2.8)\n",
      "Requirement already satisfied: rsa<5,>=3.1.4; python_version >= \"3\" in /usr/local/lib/python3.6/dist-packages (from google-auth<2,>=1.6.3->tensorboard<2.2.0,>=2.1.0->tensorflow==2.1.0->quple) (4.6)\n",
      "Requirement already satisfied: zipp>=0.5 in /usr/local/lib/python3.6/dist-packages (from importlib-metadata; python_version < \"3.8\"->markdown>=2.6.8->tensorboard<2.2.0,>=2.1.0->tensorflow==2.1.0->quple) (3.1.0)\n",
      "Requirement already satisfied: oauthlib>=3.0.0 in /usr/local/lib/python3.6/dist-packages (from requests-oauthlib>=0.7.0->google-auth-oauthlib<0.5,>=0.4.1->tensorboard<2.2.0,>=2.1.0->tensorflow==2.1.0->quple) (3.1.0)\n",
      "Requirement already satisfied: pyasn1<0.5.0,>=0.4.6 in /usr/local/lib/python3.6/dist-packages (from pyasn1-modules>=0.2.1->google-auth<2,>=1.6.3->tensorboard<2.2.0,>=2.1.0->tensorflow==2.1.0->quple) (0.4.8)\n",
      "Building wheels for collected packages: gast, pathos, ppft, pox\n",
      "  Building wheel for gast (setup.py) ... \u001b[?25l\u001b[?25hdone\n",
      "  Created wheel for gast: filename=gast-0.2.2-cp36-none-any.whl size=7542 sha256=a5e01552118c3113515d6306ff7096a8ec0c48b82a86e6ce988809b2e9ebe02b\n",
      "  Stored in directory: /root/.cache/pip/wheels/5c/2e/7e/a1d4d4fcebe6c381f378ce7743a3ced3699feb89bcfbdadadd\n",
      "  Building wheel for pathos (setup.py) ... \u001b[?25l\u001b[?25hdone\n",
      "  Created wheel for pathos: filename=pathos-0.2.5-cp36-none-any.whl size=77577 sha256=c11142fd43a5dac0d8bbf94ae9a6871dccf1b417ff3d572495b5c46ff54a50a8\n",
      "  Stored in directory: /root/.cache/pip/wheels/61/6d/83/90b0c3d2c271da2c4850731e894798c98f8dbedbac74e8eff0\n",
      "  Building wheel for ppft (setup.py) ... \u001b[?25l\u001b[?25hdone\n",
      "  Created wheel for ppft: filename=ppft-1.6.6.2-cp36-none-any.whl size=64743 sha256=69215b00446a4e52092ebb805748430cc03292ab3f3dd29ff7b7cdd5c23924d5\n",
      "  Stored in directory: /root/.cache/pip/wheels/db/d2/2d/0ee21ede61786bb13247dbc69079373fd500c2bb0481913084\n",
      "  Building wheel for pox (setup.py) ... \u001b[?25l\u001b[?25hdone\n",
      "  Created wheel for pox: filename=pox-0.2.8-cp36-none-any.whl size=28290 sha256=176b58caf28778bae02225f16f5d3d7fbf4af35d3fe165bca84af1047ac76203\n",
      "  Stored in directory: /root/.cache/pip/wheels/39/ed/ce/a93103746b327e18bffaeb99ba0d57a88b392f31d719cea700\n",
      "Successfully built gast pathos ppft pox\n",
      "\u001b[31mERROR: tensorflow-probability 0.11.0 has requirement gast>=0.3.2, but you'll have gast 0.2.2 which is incompatible.\u001b[0m\n",
      "\u001b[31mERROR: tensorflow-quantum 0.3.0 has requirement cirq==0.8.0, but you'll have cirq 0.8.2 which is incompatible.\u001b[0m\n",
      "\u001b[31mERROR: tensorflow-quantum 0.3.0 has requirement sympy==1.4, but you'll have sympy 1.1.1 which is incompatible.\u001b[0m\n",
      "Installing collected packages: tensorboard, gast, tensorflow-estimator, keras-applications, tensorflow, freezegun, cirq, ppft, pox, pathos, tensorflow-quantum, quple\n",
      "  Found existing installation: tensorboard 2.3.0\n",
      "    Uninstalling tensorboard-2.3.0:\n",
      "      Successfully uninstalled tensorboard-2.3.0\n",
      "  Found existing installation: gast 0.3.3\n",
      "    Uninstalling gast-0.3.3:\n",
      "      Successfully uninstalled gast-0.3.3\n",
      "  Found existing installation: tensorflow-estimator 2.3.0\n",
      "    Uninstalling tensorflow-estimator-2.3.0:\n",
      "      Successfully uninstalled tensorflow-estimator-2.3.0\n",
      "  Found existing installation: tensorflow 2.3.0\n",
      "    Uninstalling tensorflow-2.3.0:\n",
      "      Successfully uninstalled tensorflow-2.3.0\n",
      "Successfully installed cirq-0.8.2 freezegun-0.3.15 gast-0.2.2 keras-applications-1.0.8 pathos-0.2.5 pox-0.2.8 ppft-1.6.6.2 quple-0.5.7.0 tensorboard-2.1.1 tensorflow-2.1.0 tensorflow-estimator-2.1.0 tensorflow-quantum-0.3.0\n"
     ]
    }
   ],
   "source": [
    "!pip install quple"
   ]
  },
  {
   "cell_type": "markdown",
   "metadata": {
    "colab_type": "text",
    "id": "ZkahJDU1_gLP"
   },
   "source": [
    "# Data Encoding Circuit\n",
    "\n",
    "A data encoding circuit is a quantum circuit for the encoding of classical data into the quantum state of the circuit qubits. It can be interpreted as a feature map $\\mathbf{x} \\rightarrow U_{\\phi(\\mathbf{x})}|0\\rangle^{\\otimes n}$ to the Hilbert space of $n$ qubits, where $\\phi$ is an encoding function which transforms the data vector into the circuit parameters. Specifically, $U_{\\phi (\\mathbf{x})}$ is implemented as a series of unitary gate operations in the quantum circuit. There are several ways to encode data into qubits and each one provides different expressive power to the original data. \n",
    "\n",
    "The encoding circuits implemented by Quple consists of layers of unitary operators of the form $\\exp(i\\psi(x)\\Sigma)H^{\\times n}$ where $\\psi$ is a data encoding function, $\\Sigma$ is a generalized Pauli operator from the general Pauli group $G_n$ which is an $n$-fold tensor product of Pauli operators on $n$ qubits, and $x = (x_1, \\dots , x_n )$ are the input features to be encoded. Layers of Pauli operators may be repeated several times (called the circuit depths) to the increase frequency spectrum of the final quantum state and thereby the expressivity of a quantum model equipped with the encoding circuit. \n",
    "\n",
    "The class that implements the encoding circuits are\n",
    "* GeneralPauliEncoding\n",
    "* GeneralPauliZEncoding\n",
    "* FirstOrderPauliZEncoding\n",
    "* SecondOrderPauliZEncoding"
   ]
  },
  {
   "cell_type": "markdown",
   "metadata": {
    "colab_type": "text",
    "id": "BzCyqEG6-9eC"
   },
   "source": [
    "Import the Quple encoding circuit modules"
   ]
  },
  {
   "cell_type": "code",
   "execution_count": 2,
   "metadata": {
    "colab": {},
    "colab_type": "code",
    "id": "ZqNk2Jtg--8Q"
   },
   "outputs": [],
   "source": [
    "from quple.data_encoding import GeneralPauliEncoding\n",
    "from quple.data_encoding import GeneralPauliZEncoding\n",
    "from quple.data_encoding import FirstOrderPauliZEncoding\n",
    "from quple.data_encoding import SecondOrderPauliZEncoding"
   ]
  },
  {
   "cell_type": "markdown",
   "metadata": {
    "colab_type": "text",
    "id": "LqlVtKnlBfhS"
   },
   "source": [
    "### GeneralPauliEncoding\n",
    "\n",
    "Arguments:\n",
    "* feature_dimension (int): dimension of feature vector\n",
    "* paulis (str, list of str): Pauli operations to be performed on each circuit block\n",
    "* encoding_map (callable, default=None): data mapping function from $\\mathbb{R}^{\\text{feature dimension}} \\rightarrow \\mathbb{R}$. If None, the self product encoding function is used. \n",
    "* copies (int): number of times the circuit is repeated (circuit depth)"
   ]
  },
  {
   "cell_type": "code",
   "execution_count": 4,
   "metadata": {
    "colab": {
     "base_uri": "https://localhost:8080/",
     "height": 166
    },
    "colab_type": "code",
    "id": "OHRuBapRBdXv",
    "outputId": "5e7f2ba5-e97a-4a69-9436-f4acb0dc3034"
   },
   "outputs": [
    {
     "name": "stdout",
     "output_type": "stream",
     "text": [
      "(0, 0): ───H───Rz(pi*x_0)───H───Rz(pi*x_0)───\n",
      "\n",
      "(0, 1): ───H───Rz(pi*x_1)───H───Rz(pi*x_1)───\n",
      "\n",
      "(0, 2): ───H───Rz(pi*x_2)───H───Rz(pi*x_2)───\n",
      "\n",
      "(0, 3): ───H───Rz(pi*x_3)───H───Rz(pi*x_3)───\n",
      "\n",
      "(0, 4): ───H───Rz(pi*x_4)───H───Rz(pi*x_4)───\n"
     ]
    }
   ],
   "source": [
    "# Creates a general pruali encoding circuit with feature dimension 5 with circuit depth 2 using the Pauli 'Z'\n",
    "encoding_circuit = GeneralPauliEncoding(feature_dimension=5, paulis=['Z'], copies=2)\n",
    "print(encoding_circuit)"
   ]
  },
  {
   "cell_type": "code",
   "execution_count": 6,
   "metadata": {
    "colab": {
     "base_uri": "https://localhost:8080/",
     "height": 100
    },
    "colab_type": "code",
    "id": "EcA7E0MiE5XA",
    "outputId": "73ab580d-f8fc-4a6e-c403-5cdb3baf627a"
   },
   "outputs": [
    {
     "name": "stdout",
     "output_type": "stream",
     "text": [
      "(0, 0): ───H───H───Rz(pi*x_0)───H─────────────────────────────────H───@──────────────────────@───H───H───@──────────────────────@───H──────────────────────────────────────\n",
      "                                                                      │                      │           │                      │\n",
      "(0, 1): ───H────────────────────H───Rz(pi*x_1)───H────────────────H───X───Rz(pi*<x_0*x_1>)───X───H───────┼──────────────────────┼───H───────@──────────────────────@───H───\n",
      "                                                                                                         │                      │           │                      │\n",
      "(0, 2): ───H─────────────────────────────────────H───Rz(pi*x_2)───H──────────────────────────────────H───X───Rz(pi*<x_0*x_2>)───X───H───H───X───Rz(pi*<x_1*x_2>)───X───H───\n"
     ]
    }
   ],
   "source": [
    "# Creates a general pruali encoding circuit with feature dimension 3 with circuit depth 1 using the Pauli 'X' and 'XX\n",
    "encoding_circuit = GeneralPauliEncoding(feature_dimension=3, paulis=['X', 'XX'], copies=1)\n",
    "print(encoding_circuit)"
   ]
  },
  {
   "cell_type": "markdown",
   "metadata": {
    "colab_type": "text",
    "id": "mAVIcxhKFe2K"
   },
   "source": [
    "### GeneralPauliZEncoding\n",
    "\n",
    "A special case of `GeneralPauliEncoding` with Pauli operations composing of various orders of `Z` \n",
    "\n",
    "Arguments:\n",
    "* feature_dimension (int): dimension of feature vector\n",
    "* z_order (int): Order of pauli z operations to be performed on each circuit block\n",
    "* encoding_map (callable, default=None): data mapping function from $\\mathbb{R}^{\\text{feature dimension}} \\rightarrow \\mathbb{R}$. If None, the self product encoding function is used. \n",
    "* copies (int): number of times the circuit is repeated (circuit depth)"
   ]
  },
  {
   "cell_type": "code",
   "execution_count": 8,
   "metadata": {
    "colab": {
     "base_uri": "https://localhost:8080/",
     "height": 133
    },
    "colab_type": "code",
    "id": "V-SZN24FFCYf",
    "outputId": "c018f112-06f1-49db-dbc8-bb22d6a16e7e"
   },
   "outputs": [
    {
     "name": "stdout",
     "output_type": "stream",
     "text": [
      "(0, 0): ───H───Rz(pi*x_0)───H───Rz(pi*x_0)───\n",
      "\n",
      "(0, 1): ───H───Rz(pi*x_1)───H───Rz(pi*x_1)───\n",
      "\n",
      "(0, 2): ───H───Rz(pi*x_2)───H───Rz(pi*x_2)───\n",
      "\n",
      "(0, 3): ───H───Rz(pi*x_3)───H───Rz(pi*x_3)───\n"
     ]
    }
   ],
   "source": [
    "# Creates a general pruali z encoding circuit with feature dimension 4 with circuit depth 2 using the Pauli 'Z'\n",
    "encoding_circuit = GeneralPauliZEncoding(feature_dimension=4, z_order=1, copies=2)\n",
    "print(encoding_circuit)"
   ]
  },
  {
   "cell_type": "code",
   "execution_count": 9,
   "metadata": {
    "colab": {
     "base_uri": "https://localhost:8080/",
     "height": 100
    },
    "colab_type": "code",
    "id": "oI5vKNatGBko",
    "outputId": "1424e764-c126-4446-e660-c0a744eaa52a"
   },
   "outputs": [
    {
     "name": "stdout",
     "output_type": "stream",
     "text": [
      "(0, 0): ───H───Rz(pi*x_0)───@──────────────────────@───@──────────────────────@──────────────────────────────@──────────────────────────────────@───\n",
      "                            │                      │   │                      │                              │                                  │\n",
      "(0, 1): ───H───Rz(pi*x_1)───X───Rz(pi*<x_0*x_1>)───X───┼──────────────────────┼───@──────────────────────@───X───@──────────────────────────@───X───\n",
      "                                                       │                      │   │                      │       │                          │\n",
      "(0, 2): ───H───Rz(pi*x_2)──────────────────────────────X───Rz(pi*<x_0*x_2>)───X───X───Rz(pi*<x_1*x_2>)───X───────X───Rz(pi*<x_0*x_1*x_2>)───X───────\n"
     ]
    }
   ],
   "source": [
    "# Creates a general pruali z encoding circuit with feature dimension 4 with circuit depth 1 using the Pauli 'Z', 'ZZ' and 'ZZZ'\n",
    "encoding_circuit = GeneralPauliZEncoding(feature_dimension=3, z_order=3, copies=1)\n",
    "print(encoding_circuit)"
   ]
  },
  {
   "cell_type": "markdown",
   "metadata": {
    "colab_type": "text",
    "id": "rOF2gRZQGOFH"
   },
   "source": [
    "### FirstOrderPauliZEncoding\n",
    "\n",
    "A special case of `GeneralPauliZEncoding` with `z_order=1`\n",
    "\n",
    "Arguments:\n",
    "* feature_dimension (int): dimension of feature vector\n",
    "* encoding_map (callable, default=None): data mapping function from $\\mathbb{R}^{\\text{feature dimension}} \\rightarrow \\mathbb{R}$. If None, the self product encoding function is used. \n",
    "* copies (int): number of times the circuit is repeated (circuit depth)"
   ]
  },
  {
   "cell_type": "code",
   "execution_count": 11,
   "metadata": {
    "colab": {
     "base_uri": "https://localhost:8080/",
     "height": 166
    },
    "colab_type": "code",
    "id": "8pWvq5tsGIgV",
    "outputId": "608ee55f-0799-4b9f-8664-569d925b8bd8"
   },
   "outputs": [
    {
     "name": "stdout",
     "output_type": "stream",
     "text": [
      "(0, 0): ───H───Rz(pi*x_0)───H───Rz(pi*x_0)───\n",
      "\n",
      "(0, 1): ───H───Rz(pi*x_1)───H───Rz(pi*x_1)───\n",
      "\n",
      "(0, 2): ───H───Rz(pi*x_2)───H───Rz(pi*x_2)───\n",
      "\n",
      "(0, 3): ───H───Rz(pi*x_3)───H───Rz(pi*x_3)───\n",
      "\n",
      "(0, 4): ───H───Rz(pi*x_4)───H───Rz(pi*x_4)───\n"
     ]
    }
   ],
   "source": [
    "# Creates a general pruali z encoding circuit with feature dimension 5 with circuit depth 2 using the Pauli 'Z'\n",
    "encoding_circuit = FirstOrderPauliZEncoding(feature_dimension=5, copies=2)\n",
    "print(encoding_circuit)"
   ]
  },
  {
   "cell_type": "markdown",
   "metadata": {
    "colab_type": "text",
    "id": "EpJzjPNXGecu"
   },
   "source": [
    "### SecondOrderPauliZEncoding\n",
    "\n",
    "A special case of `GeneralPauliZEncoding` with `z_order=2`\n",
    "\n",
    "Arguments:\n",
    "* feature_dimension (int): dimension of feature vector\n",
    "* encoding_map (callable, default=None): data mapping function from $\\mathbb{R}^{\\text{feature dimension}} \\rightarrow \\mathbb{R}$. If None, the self product encoding function is used. \n",
    "* copies (int): number of times the circuit is repeated (circuit depth)"
   ]
  },
  {
   "cell_type": "code",
   "execution_count": 12,
   "metadata": {
    "colab": {
     "base_uri": "https://localhost:8080/",
     "height": 100
    },
    "colab_type": "code",
    "id": "YSO3TOSrGazv",
    "outputId": "f7ed8b0e-f267-44c0-fa4c-c94fa02472a1"
   },
   "outputs": [
    {
     "name": "stdout",
     "output_type": "stream",
     "text": [
      "(0, 0): ───H───Rz(pi*x_0)───@──────────────────────@───@──────────────────────@──────────────────────────H───Rz(pi*x_0)────────────────@──────────────────────@───@──────────────────────@──────────────────────────────\n",
      "                            │                      │   │                      │                                                        │                      │   │                      │\n",
      "(0, 1): ───H───Rz(pi*x_1)───X───Rz(pi*<x_0*x_1>)───X───┼──────────────────────┼───@──────────────────────@───H────────────Rz(pi*x_1)───X───Rz(pi*<x_0*x_1>)───X───┼──────────────────────┼───@──────────────────────@───\n",
      "                                                       │                      │   │                      │                                                        │                      │   │                      │\n",
      "(0, 2): ───H───Rz(pi*x_2)──────────────────────────────X───Rz(pi*<x_0*x_2>)───X───X───Rz(pi*<x_1*x_2>)───X───H────────────Rz(pi*x_2)──────────────────────────────X───Rz(pi*<x_0*x_2>)───X───X───Rz(pi*<x_1*x_2>)───X───\n"
     ]
    }
   ],
   "source": [
    "# Creates a general pruali z encoding circuit with feature dimension 3 with circuit depth 2 using the Pauli 'Z' and 'ZZ'\n",
    "encoding_circuit = SecondOrderPauliZEncoding(feature_dimension=3, copies=2)\n",
    "print(encoding_circuit)"
   ]
  },
  {
   "cell_type": "markdown",
   "metadata": {
    "colab_type": "text",
    "id": "V-yhV5KyGtsn"
   },
   "source": [
    "### Use of a different encoding map"
   ]
  },
  {
   "cell_type": "code",
   "execution_count": 13,
   "metadata": {
    "colab": {
     "base_uri": "https://localhost:8080/",
     "height": 100
    },
    "colab_type": "code",
    "id": "_9JJCTovGqBf",
    "outputId": "8ba3b0c6-5573-4bb9-ee6d-a6f35a42756c"
   },
   "outputs": [
    {
     "name": "stdout",
     "output_type": "stream",
     "text": [
      "(0, 0): ───H───Rz(pi*x_0)───@────────────────────────────@───@────────────────────────────@────────────────────────────────────\n",
      "                            │                            │   │                            │\n",
      "(0, 1): ───H───Rz(pi*x_1)───X───Rz(pi*<x_0/2 - x_1/2>)───X───┼────────────────────────────┼───@────────────────────────────@───\n",
      "                                                             │                            │   │                            │\n",
      "(0, 2): ───H───Rz(pi*x_2)────────────────────────────────────X───Rz(pi*<x_0/2 - x_2/2>)───X───X───Rz(pi*<x_1/2 - x_2/2>)───X───\n"
     ]
    }
   ],
   "source": [
    "from quple.data_encoding.encoding_maps import distance_measure\n",
    "# Creates a general pruali z encoding circuit with feature dimension 3 with circuit depth 1 using the Pauli 'Z' and 'ZZ' using the distance measure encoding map\n",
    "encoding_circuit = SecondOrderPauliZEncoding(feature_dimension=3, copies=1, encoding_map=distance_measure)\n",
    "print(encoding_circuit)"
   ]
  },
  {
   "cell_type": "code",
   "execution_count": 14,
   "metadata": {
    "colab": {},
    "colab_type": "code",
    "id": "vxeijK42HBPU"
   },
   "outputs": [],
   "source": [
    "# create a custom encoding map\n",
    "from functools import reduce\n",
    "import sympy as sp\n",
    "def my_encoding_map(x):\n",
    "    if len(x) == 1:\n",
    "      coeff = x[0]\n",
    "    elif len(x) == 2:\n",
    "      coeff = sp.cos(x[0])*x[1]\n",
    "    else:\n",
    "      raise ValueError('My encoding map only supports feature diemsnion <= 2')\n",
    "    return coeff"
   ]
  },
  {
   "cell_type": "code",
   "execution_count": 15,
   "metadata": {
    "colab": {
     "base_uri": "https://localhost:8080/",
     "height": 100
    },
    "colab_type": "code",
    "id": "Uje9auYyH0DC",
    "outputId": "714564ea-a3ba-4bf4-b1f0-91f5f909334b"
   },
   "outputs": [
    {
     "name": "stdout",
     "output_type": "stream",
     "text": [
      "(0, 0): ───H───Rz(pi*x_0)───@───────────────────────────@───@───────────────────────────@───────────────────────────────────\n",
      "                            │                           │   │                           │\n",
      "(0, 1): ───H───Rz(pi*x_1)───X───Rz(pi*<x_1*cos(x_0)>)───X───┼───────────────────────────┼───@───────────────────────────@───\n",
      "                                                            │                           │   │                           │\n",
      "(0, 2): ───H───Rz(pi*x_2)───────────────────────────────────X───Rz(pi*<x_2*cos(x_0)>)───X───X───Rz(pi*<x_2*cos(x_1)>)───X───\n"
     ]
    }
   ],
   "source": [
    "encoding_circuit = SecondOrderPauliZEncoding(feature_dimension=3, copies=1, encoding_map=my_encoding_map)\n",
    "print(encoding_circuit)"
   ]
  },
  {
   "cell_type": "markdown",
   "metadata": {
    "colab_type": "text",
    "id": "AI0LsE-xH-ii"
   },
   "source": [
    "## Resolving a data encoding circuit with actual data vectors"
   ]
  },
  {
   "cell_type": "code",
   "execution_count": 17,
   "metadata": {
    "colab": {
     "base_uri": "https://localhost:8080/",
     "height": 66
    },
    "colab_type": "code",
    "id": "VEUFrLSOIGR3",
    "outputId": "bf666fff-f9cb-4d17-be60-e6f9329ab50e"
   },
   "outputs": [
    {
     "name": "stdout",
     "output_type": "stream",
     "text": [
      "[[ 0.07476693 -0.29216153  0.76977616 -0.83644406  0.02246134]\n",
      " [ 0.00893361  0.79092911  0.25800722 -0.74341188 -0.73301761]\n",
      " [ 0.18589551  0.49253429 -0.94400566  0.70345424  0.59829961]]\n"
     ]
    }
   ],
   "source": [
    "# create some pseudo data\n",
    "import numpy as np\n",
    "feature_dimension = 5\n",
    "num = 3\n",
    "data = np.random.rand(num, feature_dimension)*2-1\n",
    "print(data)"
   ]
  },
  {
   "cell_type": "code",
   "execution_count": 18,
   "metadata": {
    "colab": {
     "base_uri": "https://localhost:8080/",
     "height": 220
    },
    "colab_type": "code",
    "id": "UvW6hJ4tH3Gv",
    "outputId": "e289ab4e-1fb1-4d97-8c5c-4981b5744255"
   },
   "outputs": [
    {
     "name": "stdout",
     "output_type": "stream",
     "text": [
      "                                                                                  ┌──┐                                                 ┌─────────────────┐                                  ┌──┐                      ┌─────────────────┐                                                                                                                                         ┌──┐                                                 ┌─────────────────┐                                  ┌──┐                      ┌─────────────────┐\n",
      "(0, 0): ───H───Rz(pi*x_0)───@──────────────────────@───@──────────────────────@────@────────────────────────@───@───────────────────────@─────────────────────────────────────────────────────────────────────────────────────────────────────────────────────────────────────────────────────────H───Rz(pi*x_0)───@───────────────────────────────@───@──────────────────────@────@────────────────────────@───@───────────────────────@─────────────────────────────────────────────────────────────────────────────────────────────────────────────────────────────────────────────────────────────\n",
      "                            │                      │   │                      │    │                        │   │                       │                                                                                                                                                                          │                               │   │                      │    │                        │   │                       │\n",
      "(0, 1): ───H───Rz(pi*x_1)───X───Rz(pi*<x_0*x_1>)───X───┼──────────────────────┼────┼@───────────────────────┼───┼───────────────────────┼────────────────────@───@──────────────────────@────@─────────────────────────@──────────────────────────────────────────────────────────────────────────H───Rz(pi*x_1)───X────────────Rz(pi*<x_0*x_1>)───X───┼──────────────────────┼────┼@───────────────────────┼───┼───────────────────────┼────────────────────@───@──────────────────────@────@─────────────────────────@──────────────────────────────────────────────────────────────────────────────\n",
      "                                                       │                      │    ││                       │   │                       │                    │   │                      │    │                         │                                                                                                                               │                      │    ││                       │   │                       │                    │   │                      │    │                         │\n",
      "(0, 2): ───H───Rz(pi*x_2)──────────────────────────────X───Rz(pi*<x_0*x_2>)───X────┼X───────────────────────┼───┼───────────────────────┼Rz(pi*<x_1*x_2>)────X───┼──────────────────────┼────┼@────────────────────────┼────────────────────@───@──────────────────────@──────────────────────────H───Rz(pi*x_2)───────────────────────────────────────X───Rz(pi*<x_0*x_2>)───X────┼X───────────────────────┼───┼───────────────────────┼Rz(pi*<x_1*x_2>)────X───┼──────────────────────┼────┼@────────────────────────┼────────────────────@───@──────────────────────@──────────────────────────────\n",
      "                                                                                   │                        │   │                       │                        │                      │    ││                        │                    │   │                      │                                                                                                           │                        │   │                       │                        │                      │    ││                        │                    │   │                      │\n",
      "(0, 3): ───H───Rz(pi*x_3)──────────────────────────────────────────────────────────X─────Rz(pi*<x_0*x_3>)───X───┼───────────────────────┼────────────────────────X───Rz(pi*<x_1*x_3>)───X────┼X────────────────────────┼Rz(pi*<x_2*x_3>)────X───┼──────────────────────┼───@──────────────────────@───H────────────Rz(pi*x_3)──────────────────────────────────────────────────────X─────Rz(pi*<x_0*x_3>)───X───┼───────────────────────┼────────────────────────X───Rz(pi*<x_1*x_3>)───X────┼X────────────────────────┼Rz(pi*<x_2*x_3>)────X───┼──────────────────────┼───@──────────────────────@───\n",
      "                                                                                                                │                       │                                                    │                         │                        │                      │   │                      │                                                                                                             │                       │                                                    │                         │                        │                      │   │                      │\n",
      "(0, 4): ───H───Rz(pi*x_4)───────────────────────────────────────────────────────────────────────────────────────X───Rz(pi*<x_0*x_4>)────X────────────────────────────────────────────────────X─────Rz(pi*<x_1*x_4>)────X────────────────────────X───Rz(pi*<x_2*x_4>)───X───X───Rz(pi*<x_3*x_4>)───X───H────────────Rz(pi*x_4)───────────────────────────────────────────────────────────────────────────────────X───Rz(pi*<x_0*x_4>)────X────────────────────────────────────────────────────X─────Rz(pi*<x_1*x_4>)────X────────────────────────X───Rz(pi*<x_2*x_4>)───X───X───Rz(pi*<x_3*x_4>)───X───\n",
      "                                                                                  └──┘                                                 └─────────────────┘                                  └──┘                      └─────────────────┘                                                                                                                                         └──┘                                                 └─────────────────┘                                  └──┘                      └─────────────────┘\n"
     ]
    }
   ],
   "source": [
    "# Creates a general pruali z encoding circuit with feature dimension 5 with circuit depth 1 using the Pauli 'Z' and 'ZZ'\n",
    "encoding_circuit = SecondOrderPauliZEncoding(feature_dimension=feature_dimension, copies=2)\n",
    "print(encoding_circuit)"
   ]
  },
  {
   "cell_type": "code",
   "execution_count": 20,
   "metadata": {
    "colab": {
     "base_uri": "https://localhost:8080/",
     "height": 586
    },
    "colab_type": "code",
    "id": "nW4aGilbI9dJ",
    "outputId": "7c2c1969-da87-411b-f081-8a8c546a00f4"
   },
   "outputs": [
    {
     "name": "stdout",
     "output_type": "stream",
     "text": [
      "                                                                        ┌──┐                                      ┌────────────┐                            ┌──┐                 ┌────────────┐                                                                                                                     ┌──┐                                      ┌────────────┐                            ┌──┐                 ┌────────────┐\n",
      "(0, 0): ───H───Rz(0.075π)────@─────────────────@───@────────────────@────@───────────────────@───@─────────────────@─────────────────────────────────────────────────────────────────────────────────────────────────────────────────────────H───Rz(0.075π)────@───────────────────────────@───@────────────────@────@───────────────────@───@─────────────────@─────────────────────────────────────────────────────────────────────────────────────────────────────────────────────────────\n",
      "                             │                 │   │                │    │                   │   │                 │                                                                                                                                           │                           │   │                │    │                   │   │                 │\n",
      "(0, 1): ───H───Rz(-0.292π)───X───Rz(-0.022π)───X───┼────────────────┼────┼@──────────────────┼───┼─────────────────┼───────────────@───@────────────────@────@────────────────────@──────────────────────────────────────────────────────────H───Rz(-0.292π)───X─────────────Rz(-0.022π)───X───┼────────────────┼────┼@──────────────────┼───┼─────────────────┼───────────────@───@────────────────@────@────────────────────@──────────────────────────────────────────────────────────────\n",
      "                                                   │                │    ││                  │   │                 │               │   │                │    │                    │                                                                                                            │                │    ││                  │   │                 │               │   │                │    │                    │\n",
      "(0, 2): ───H───Rz(0.77π)───────────────────────────X───Rz(0.058π)───X────┼X──────────────────┼───┼─────────────────┼Rz(-0.225π)────X───┼────────────────┼────┼@───────────────────┼───────────────@───@────────────────@─────────────────────H───Rz(0.77π)─────────────────────────────────────X───Rz(0.058π)───X────┼X──────────────────┼───┼─────────────────┼Rz(-0.225π)────X───┼────────────────┼────┼@───────────────────┼───────────────@───@────────────────@─────────────────────────\n",
      "                                                                         │                   │   │                 │                   │                │    ││                   │               │   │                │                                                                                             │                   │   │                 │                   │                │    ││                   │               │   │                │\n",
      "(0, 3): ───H───Rz(-0.836π)───────────────────────────────────────────────X─────Rz(-0.063π)───X───┼─────────────────┼───────────────────X───Rz(0.244π)───X────┼X───────────────────┼Rz(-0.644π)────X───┼────────────────┼───@─────────────────@───H─────────────Rz(-0.836π)───────────────────────────────────────────X─────Rz(-0.063π)───X───┼─────────────────┼───────────────────X───Rz(0.244π)───X────┼X───────────────────┼Rz(-0.644π)────X───┼────────────────┼───@─────────────────@───\n",
      "                                                                                                 │                 │                                         │                    │                   │                │   │                 │                                                                                               │                 │                                         │                    │                   │                │   │                 │\n",
      "(0, 4): ───H───Rz(0.022π)────────────────────────────────────────────────────────────────────────X───Rz(0.002π)────X─────────────────────────────────────────X─────Rz(-0.007π)────X───────────────────X───Rz(0.017π)───X───X───Rz(-0.019π)───X───H─────────────Rz(0.022π)────────────────────────────────────────────────────────────────────X───Rz(0.002π)────X─────────────────────────────────────────X─────Rz(-0.007π)────X───────────────────X───Rz(0.017π)───X───X───Rz(-0.019π)───X───\n",
      "                                                                        └──┘                                      └────────────┘                            └──┘                 └────────────┘                                                                                                                     └──┘                                      └────────────┘                            └──┘                 └────────────┘\n",
      "                                                                       ┌──┐                                       ┌───────────┐                             ┌──┐                ┌────────────┐                                                                                                                   ┌──┐                                       ┌───────────┐                             ┌──┐                ┌────────────┐\n",
      "(0, 0): ───H───Rz(0.009π)────@────────────────@───@────────────────@────@───────────────────@───@──────────────────@────────────────────────────────────────────────────────────────────────────────────────────────────────────────────────H───Rz(0.009π)───@──────────────────────────@───@────────────────@────@───────────────────@───@──────────────────@────────────────────────────────────────────────────────────────────────────────────────────────────────────────────────────\n",
      "                             │                │   │                │    │                   │   │                  │                                                                                                                                         │                          │   │                │    │                   │   │                  │\n",
      "(0, 1): ───H───Rz(0.791π)────X───Rz(0.007π)───X───┼────────────────┼────┼@──────────────────┼───┼──────────────────┼──────────────@───@─────────────────@────@───────────────────@──────────────────────────────────────────────────────────H───Rz(0.791π)───X─────────────Rz(0.007π)───X───┼────────────────┼────┼@──────────────────┼───┼──────────────────┼──────────────@───@─────────────────@────@───────────────────@──────────────────────────────────────────────────────────────\n",
      "                                                  │                │    ││                  │   │                  │              │   │                 │    │                   │                                                                                                          │                │    ││                  │   │                  │              │   │                 │    │                   │\n",
      "(0, 2): ───H───Rz(0.258π)─────────────────────────X───Rz(0.002π)───X────┼X──────────────────┼───┼──────────────────┼Rz(0.204π)────X───┼─────────────────┼────┼@──────────────────┼───────────────@───@─────────────────@────────────────────H───Rz(0.258π)──────────────────────────────────X───Rz(0.002π)───X────┼X──────────────────┼───┼──────────────────┼Rz(0.204π)────X───┼─────────────────┼────┼@──────────────────┼───────────────@───@─────────────────@────────────────────────\n",
      "                                                                        │                   │   │                  │                  │                 │    ││                  │               │   │                 │                                                                                          │                   │   │                  │                  │                 │    ││                  │               │   │                 │\n",
      "(0, 3): ───H───Rz(-0.743π)──────────────────────────────────────────────X─────Rz(-0.007π)───X───┼──────────────────┼──────────────────X───Rz(-0.588π)───X────┼X──────────────────┼Rz(-0.192π)────X───┼─────────────────┼───@────────────────@───H────────────Rz(-0.743π)──────────────────────────────────────────X─────Rz(-0.007π)───X───┼──────────────────┼──────────────────X───Rz(-0.588π)───X────┼X──────────────────┼Rz(-0.192π)────X───┼─────────────────┼───@────────────────@───\n",
      "                                                                                                │                  │                                         │                   │                   │                 │   │                │                                                                                             │                  │                                         │                   │                   │                 │   │                │\n",
      "(0, 4): ───H───Rz(-0.733π)──────────────────────────────────────────────────────────────────────X───Rz(-0.007π)────X─────────────────────────────────────────X─────Rz(-0.58π)────X───────────────────X───Rz(-0.189π)───X───X───Rz(0.545π)───X───H────────────Rz(-0.733π)──────────────────────────────────────────────────────────────────X───Rz(-0.007π)────X─────────────────────────────────────────X─────Rz(-0.58π)────X───────────────────X───Rz(-0.189π)───X───X───Rz(0.545π)───X───\n",
      "                                                                       └──┘                                       └───────────┘                             └──┘                └────────────┘                                                                                                                   └──┘                                       └───────────┘                             └──┘                └────────────┘\n",
      "                                                                        ┌──┐                                     ┌────────────┐                            ┌──┐                ┌────────────┐                                                                                                                    ┌──┐                                     ┌────────────┐                            ┌──┐                ┌────────────┐\n",
      "(0, 0): ───H───Rz(0.186π)────@────────────────@───@─────────────────@────@──────────────────@───@─────────────────@────────────────────────────────────────────────────────────────────────────────────────────────────────────────────────H───Rz(0.186π)────@─────────────────────────@───@─────────────────@────@──────────────────@───@─────────────────@────────────────────────────────────────────────────────────────────────────────────────────────────────────────────────────\n",
      "                             │                │   │                 │    │                  │   │                 │                                                                                                                                          │                         │   │                 │    │                  │   │                 │\n",
      "(0, 1): ───H───Rz(0.493π)────X───Rz(0.092π)───X───┼─────────────────┼────┼@─────────────────┼───┼─────────────────┼───────────────@───@────────────────@────@───────────────────@──────────────────────────────────────────────────────────H───Rz(0.493π)────X────────────Rz(0.092π)───X───┼─────────────────┼────┼@─────────────────┼───┼─────────────────┼───────────────@───@────────────────@────@───────────────────@──────────────────────────────────────────────────────────────\n",
      "                                                  │                 │    ││                 │   │                 │               │   │                │    │                   │                                                                                                          │                 │    ││                 │   │                 │               │   │                │    │                   │\n",
      "(0, 2): ───H───Rz(-0.944π)────────────────────────X───Rz(-0.175π)───X────┼X─────────────────┼───┼─────────────────┼Rz(-0.465π)────X───┼────────────────┼────┼@──────────────────┼───────────────@───@─────────────────@────────────────────H───Rz(-0.944π)─────────────────────────────────X───Rz(-0.175π)───X────┼X─────────────────┼───┼─────────────────┼Rz(-0.465π)────X───┼────────────────┼────┼@──────────────────┼───────────────@───@─────────────────@────────────────────────\n",
      "                                                                         │                  │   │                 │                   │                │    ││                  │               │   │                 │                                                                                           │                  │   │                 │                   │                │    ││                  │               │   │                 │\n",
      "(0, 3): ───H───Rz(0.703π)────────────────────────────────────────────────X─────Rz(0.131π)───X───┼─────────────────┼───────────────────X───Rz(0.346π)───X────┼X──────────────────┼Rz(-0.664π)────X───┼─────────────────┼───@────────────────@───H─────────────Rz(0.703π)───────────────────────────────────────────X─────Rz(0.131π)───X───┼─────────────────┼───────────────────X───Rz(0.346π)───X────┼X──────────────────┼Rz(-0.664π)────X───┼─────────────────┼───@────────────────@───\n",
      "                                                                                                │                 │                                         │                   │                   │                 │   │                │                                                                                             │                 │                                         │                   │                   │                 │   │                │\n",
      "(0, 4): ───H───Rz(0.598π)───────────────────────────────────────────────────────────────────────X───Rz(0.111π)────X─────────────────────────────────────────X─────Rz(0.295π)────X───────────────────X───Rz(-0.565π)───X───X───Rz(0.421π)───X───H─────────────Rz(0.598π)──────────────────────────────────────────────────────────────────X───Rz(0.111π)────X─────────────────────────────────────────X─────Rz(0.295π)────X───────────────────X───Rz(-0.565π)───X───X───Rz(0.421π)───X───\n",
      "                                                                        └──┘                                     └────────────┘                            └──┘                └────────────┘                                                                                                                    └──┘                                     └────────────┘                            └──┘                └────────────┘\n"
     ]
    }
   ],
   "source": [
    "# resolve the circuits with the given data\n",
    "resolved_circuits = encoding_circuit.resolve_parameters(data)\n",
    "for circuit in resolved_circuits:\n",
    "  print(circuit)"
   ]
  }
 ],
 "metadata": {
  "colab": {
   "authorship_tag": "ABX9TyOFaXR2Cx2ff8b7K6eC6Yc1",
   "collapsed_sections": [],
   "include_colab_link": true,
   "name": "Encoding_Circuit_Walkthrough.ipynb",
   "provenance": []
  },
  "kernelspec": {
   "display_name": "Python 3",
   "language": "python",
   "name": "python3"
  },
  "language_info": {
   "codemirror_mode": {
    "name": "ipython",
    "version": 3
   },
   "file_extension": ".py",
   "mimetype": "text/x-python",
   "name": "python",
   "nbconvert_exporter": "python",
   "pygments_lexer": "ipython3",
   "version": "3.7.10"
  }
 },
 "nbformat": 4,
 "nbformat_minor": 1
}
