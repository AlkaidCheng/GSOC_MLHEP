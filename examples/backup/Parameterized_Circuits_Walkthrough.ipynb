{
  "nbformat": 4,
  "nbformat_minor": 0,
  "metadata": {
    "colab": {
      "name": "Parameterized_Circuits_Walkthrough.ipynb",
      "provenance": [],
      "collapsed_sections": [],
      "authorship_tag": "ABX9TyMKPoATe/ha7788HtRFneOD",
      "include_colab_link": true
    },
    "kernelspec": {
      "name": "python3",
      "display_name": "Python 3"
    }
  },
  "cells": [
    {
      "cell_type": "markdown",
      "metadata": {
        "id": "view-in-github",
        "colab_type": "text"
      },
      "source": [
        "<a href=\"https://colab.research.google.com/github/AlkaidCheng/quple.github.io/blob/master/examples/Parameterized_Circuits_Walkthrough.ipynb\" target=\"_parent\"><img src=\"https://colab.research.google.com/assets/colab-badge.svg\" alt=\"Open In Colab\"/></a>"
      ]
    },
    {
      "cell_type": "code",
      "metadata": {
        "id": "wI-L8TXgVlKa",
        "colab_type": "code",
        "colab": {
          "base_uri": "https://localhost:8080/",
          "height": 1000
        },
        "outputId": "2fe4c9bf-f9c3-47a0-9f1f-80c5996c0877"
      },
      "source": [
        "!pip install quple"
      ],
      "execution_count": 1,
      "outputs": [
        {
          "output_type": "stream",
          "text": [
            "Requirement already satisfied: quple in /usr/local/lib/python3.6/dist-packages (0.5.7.4)\n",
            "Requirement already satisfied: tensorflow-quantum==0.3.0 in /usr/local/lib/python3.6/dist-packages (from quple) (0.3.0)\n",
            "Requirement already satisfied: cirq in /usr/local/lib/python3.6/dist-packages (from quple) (0.8.2)\n",
            "Requirement already satisfied: tensorflow==2.1.0 in /usr/local/lib/python3.6/dist-packages (from quple) (2.1.0)\n",
            "Requirement already satisfied: numpy in /usr/local/lib/python3.6/dist-packages (from quple) (1.18.5)\n",
            "Requirement already satisfied: pathos==0.2.5 in /usr/local/lib/python3.6/dist-packages (from tensorflow-quantum==0.3.0->quple) (0.2.5)\n",
            "Requirement already satisfied: sympy==1.4 in /usr/local/lib/python3.6/dist-packages (from tensorflow-quantum==0.3.0->quple) (1.4)\n",
            "Requirement already satisfied: pandas in /usr/local/lib/python3.6/dist-packages (from cirq->quple) (1.0.5)\n",
            "Requirement already satisfied: typing-extensions in /usr/local/lib/python3.6/dist-packages (from cirq->quple) (3.7.4.3)\n",
            "Requirement already satisfied: freezegun~=0.3.15 in /usr/local/lib/python3.6/dist-packages (from cirq->quple) (0.3.15)\n",
            "Requirement already satisfied: google-api-core[grpc]<2.0.0dev,>=1.14.0 in /usr/local/lib/python3.6/dist-packages (from cirq->quple) (1.16.0)\n",
            "Requirement already satisfied: requests~=2.18 in /usr/local/lib/python3.6/dist-packages (from cirq->quple) (2.23.0)\n",
            "Requirement already satisfied: scipy in /usr/local/lib/python3.6/dist-packages (from cirq->quple) (1.4.1)\n",
            "Requirement already satisfied: networkx~=2.4 in /usr/local/lib/python3.6/dist-packages (from cirq->quple) (2.5)\n",
            "Requirement already satisfied: sortedcontainers~=2.0 in /usr/local/lib/python3.6/dist-packages (from cirq->quple) (2.2.2)\n",
            "Requirement already satisfied: matplotlib~=3.0 in /usr/local/lib/python3.6/dist-packages (from cirq->quple) (3.2.2)\n",
            "Requirement already satisfied: protobuf~=3.12.0 in /usr/local/lib/python3.6/dist-packages (from cirq->quple) (3.12.4)\n",
            "Requirement already satisfied: dataclasses; python_version < \"3.7\" in /usr/local/lib/python3.6/dist-packages (from cirq->quple) (0.7)\n",
            "Requirement already satisfied: opt-einsum>=2.3.2 in /usr/local/lib/python3.6/dist-packages (from tensorflow==2.1.0->quple) (3.3.0)\n",
            "Requirement already satisfied: absl-py>=0.7.0 in /usr/local/lib/python3.6/dist-packages (from tensorflow==2.1.0->quple) (0.8.1)\n",
            "Requirement already satisfied: astor>=0.6.0 in /usr/local/lib/python3.6/dist-packages (from tensorflow==2.1.0->quple) (0.8.1)\n",
            "Requirement already satisfied: keras-preprocessing>=1.1.0 in /usr/local/lib/python3.6/dist-packages (from tensorflow==2.1.0->quple) (1.1.2)\n",
            "Requirement already satisfied: tensorflow-estimator<2.2.0,>=2.1.0rc0 in /usr/local/lib/python3.6/dist-packages (from tensorflow==2.1.0->quple) (2.1.0)\n",
            "Requirement already satisfied: six>=1.12.0 in /usr/local/lib/python3.6/dist-packages (from tensorflow==2.1.0->quple) (1.15.0)\n",
            "Requirement already satisfied: wheel>=0.26; python_version >= \"3\" in /usr/local/lib/python3.6/dist-packages (from tensorflow==2.1.0->quple) (0.35.1)\n",
            "Requirement already satisfied: wrapt>=1.11.1 in /usr/local/lib/python3.6/dist-packages (from tensorflow==2.1.0->quple) (1.12.1)\n",
            "Requirement already satisfied: termcolor>=1.1.0 in /usr/local/lib/python3.6/dist-packages (from tensorflow==2.1.0->quple) (1.1.0)\n",
            "Requirement already satisfied: keras-applications>=1.0.8 in /usr/local/lib/python3.6/dist-packages (from tensorflow==2.1.0->quple) (1.0.8)\n",
            "Requirement already satisfied: google-pasta>=0.1.6 in /usr/local/lib/python3.6/dist-packages (from tensorflow==2.1.0->quple) (0.2.0)\n",
            "Requirement already satisfied: tensorboard<2.2.0,>=2.1.0 in /usr/local/lib/python3.6/dist-packages (from tensorflow==2.1.0->quple) (2.1.1)\n",
            "Requirement already satisfied: grpcio>=1.8.6 in /usr/local/lib/python3.6/dist-packages (from tensorflow==2.1.0->quple) (1.31.0)\n",
            "Requirement already satisfied: gast==0.2.2 in /usr/local/lib/python3.6/dist-packages (from tensorflow==2.1.0->quple) (0.2.2)\n",
            "Requirement already satisfied: ppft>=1.6.6.1 in /usr/local/lib/python3.6/dist-packages (from pathos==0.2.5->tensorflow-quantum==0.3.0->quple) (1.6.6.2)\n",
            "Requirement already satisfied: pox>=0.2.7 in /usr/local/lib/python3.6/dist-packages (from pathos==0.2.5->tensorflow-quantum==0.3.0->quple) (0.2.8)\n",
            "Requirement already satisfied: dill>=0.3.1 in /usr/local/lib/python3.6/dist-packages (from pathos==0.2.5->tensorflow-quantum==0.3.0->quple) (0.3.2)\n",
            "Requirement already satisfied: multiprocess>=0.70.9 in /usr/local/lib/python3.6/dist-packages (from pathos==0.2.5->tensorflow-quantum==0.3.0->quple) (0.70.10)\n",
            "Requirement already satisfied: mpmath>=0.19 in /usr/local/lib/python3.6/dist-packages (from sympy==1.4->tensorflow-quantum==0.3.0->quple) (1.1.0)\n",
            "Requirement already satisfied: pytz>=2017.2 in /usr/local/lib/python3.6/dist-packages (from pandas->cirq->quple) (2018.9)\n",
            "Requirement already satisfied: python-dateutil>=2.6.1 in /usr/local/lib/python3.6/dist-packages (from pandas->cirq->quple) (2.8.1)\n",
            "Requirement already satisfied: setuptools>=34.0.0 in /usr/local/lib/python3.6/dist-packages (from google-api-core[grpc]<2.0.0dev,>=1.14.0->cirq->quple) (49.6.0)\n",
            "Requirement already satisfied: googleapis-common-protos<2.0dev,>=1.6.0 in /usr/local/lib/python3.6/dist-packages (from google-api-core[grpc]<2.0.0dev,>=1.14.0->cirq->quple) (1.52.0)\n",
            "Requirement already satisfied: google-auth<2.0dev,>=0.4.0 in /usr/local/lib/python3.6/dist-packages (from google-api-core[grpc]<2.0.0dev,>=1.14.0->cirq->quple) (1.17.2)\n",
            "Requirement already satisfied: urllib3!=1.25.0,!=1.25.1,<1.26,>=1.21.1 in /usr/local/lib/python3.6/dist-packages (from requests~=2.18->cirq->quple) (1.24.3)\n",
            "Requirement already satisfied: idna<3,>=2.5 in /usr/local/lib/python3.6/dist-packages (from requests~=2.18->cirq->quple) (2.10)\n",
            "Requirement already satisfied: chardet<4,>=3.0.2 in /usr/local/lib/python3.6/dist-packages (from requests~=2.18->cirq->quple) (3.0.4)\n",
            "Requirement already satisfied: certifi>=2017.4.17 in /usr/local/lib/python3.6/dist-packages (from requests~=2.18->cirq->quple) (2020.6.20)\n",
            "Requirement already satisfied: decorator>=4.3.0 in /usr/local/lib/python3.6/dist-packages (from networkx~=2.4->cirq->quple) (4.4.2)\n",
            "Requirement already satisfied: pyparsing!=2.0.4,!=2.1.2,!=2.1.6,>=2.0.1 in /usr/local/lib/python3.6/dist-packages (from matplotlib~=3.0->cirq->quple) (2.4.7)\n",
            "Requirement already satisfied: kiwisolver>=1.0.1 in /usr/local/lib/python3.6/dist-packages (from matplotlib~=3.0->cirq->quple) (1.2.0)\n",
            "Requirement already satisfied: cycler>=0.10 in /usr/local/lib/python3.6/dist-packages (from matplotlib~=3.0->cirq->quple) (0.10.0)\n",
            "Requirement already satisfied: h5py in /usr/local/lib/python3.6/dist-packages (from keras-applications>=1.0.8->tensorflow==2.1.0->quple) (2.10.0)\n",
            "Requirement already satisfied: google-auth-oauthlib<0.5,>=0.4.1 in /usr/local/lib/python3.6/dist-packages (from tensorboard<2.2.0,>=2.1.0->tensorflow==2.1.0->quple) (0.4.1)\n",
            "Requirement already satisfied: markdown>=2.6.8 in /usr/local/lib/python3.6/dist-packages (from tensorboard<2.2.0,>=2.1.0->tensorflow==2.1.0->quple) (3.2.2)\n",
            "Requirement already satisfied: werkzeug>=0.11.15 in /usr/local/lib/python3.6/dist-packages (from tensorboard<2.2.0,>=2.1.0->tensorflow==2.1.0->quple) (1.0.1)\n",
            "Requirement already satisfied: cachetools<5.0,>=2.0.0 in /usr/local/lib/python3.6/dist-packages (from google-auth<2.0dev,>=0.4.0->google-api-core[grpc]<2.0.0dev,>=1.14.0->cirq->quple) (4.1.1)\n",
            "Requirement already satisfied: pyasn1-modules>=0.2.1 in /usr/local/lib/python3.6/dist-packages (from google-auth<2.0dev,>=0.4.0->google-api-core[grpc]<2.0.0dev,>=1.14.0->cirq->quple) (0.2.8)\n",
            "Requirement already satisfied: rsa<5,>=3.1.4; python_version >= \"3\" in /usr/local/lib/python3.6/dist-packages (from google-auth<2.0dev,>=0.4.0->google-api-core[grpc]<2.0.0dev,>=1.14.0->cirq->quple) (4.6)\n",
            "Requirement already satisfied: requests-oauthlib>=0.7.0 in /usr/local/lib/python3.6/dist-packages (from google-auth-oauthlib<0.5,>=0.4.1->tensorboard<2.2.0,>=2.1.0->tensorflow==2.1.0->quple) (1.3.0)\n",
            "Requirement already satisfied: importlib-metadata; python_version < \"3.8\" in /usr/local/lib/python3.6/dist-packages (from markdown>=2.6.8->tensorboard<2.2.0,>=2.1.0->tensorflow==2.1.0->quple) (1.7.0)\n",
            "Requirement already satisfied: pyasn1<0.5.0,>=0.4.6 in /usr/local/lib/python3.6/dist-packages (from pyasn1-modules>=0.2.1->google-auth<2.0dev,>=0.4.0->google-api-core[grpc]<2.0.0dev,>=1.14.0->cirq->quple) (0.4.8)\n",
            "Requirement already satisfied: oauthlib>=3.0.0 in /usr/local/lib/python3.6/dist-packages (from requests-oauthlib>=0.7.0->google-auth-oauthlib<0.5,>=0.4.1->tensorboard<2.2.0,>=2.1.0->tensorflow==2.1.0->quple) (3.1.0)\n",
            "Requirement already satisfied: zipp>=0.5 in /usr/local/lib/python3.6/dist-packages (from importlib-metadata; python_version < \"3.8\"->markdown>=2.6.8->tensorboard<2.2.0,>=2.1.0->tensorflow==2.1.0->quple) (3.1.0)\n"
          ],
          "name": "stdout"
        }
      ]
    },
    {
      "cell_type": "markdown",
      "metadata": {
        "id": "YSlYUvz2aiIX",
        "colab_type": "text"
      },
      "source": [
        "Import modules for construction of quantum circuits and parameterised quantum circuits"
      ]
    },
    {
      "cell_type": "code",
      "metadata": {
        "id": "8G5LzEcsahXI",
        "colab_type": "code",
        "colab": {}
      },
      "source": [
        "from quple import QuantumCircuit, ParameterisedCircuit"
      ],
      "execution_count": 2,
      "outputs": []
    },
    {
      "cell_type": "markdown",
      "metadata": {
        "id": "LiZAAaDjZLNl",
        "colab_type": "text"
      },
      "source": [
        "# Quantum Circuits\n",
        "\n",
        "A quantum circuit is a system of quantum bits (called qubits) together with a sequence of unitary operations (quantum gates) applied to the qubits which transform the quantum state of the system. \n",
        "\n",
        "The construction of quantum circuits is implemented by the `QuantumCircuit` class which is a wrapper of the `cirq.Circuit` instance\n",
        "\n",
        "Args:\n",
        "* n_qubit (int, iterable of cirq.GridQubit)\n",
        "    If int, it specifies the number of qubits in the circuit.\n",
        "    If iterable of cirq.GridQubit object, it specifies the exact\n",
        "    qubit layout of the circuit. \n",
        "* name: str\n",
        "    Name of the circuit\n",
        "* insert_strategy (cirq.InsertStrategy, default=None)\n",
        "    The insertion strategy of gate operations in the circuit. If None, defaults to INLINE. \n",
        "* backend (default=None): The backend for the quantum circuit. If None, defaults to quantum simulator."
      ]
    },
    {
      "cell_type": "code",
      "metadata": {
        "id": "whmCePZGaPvo",
        "colab_type": "code",
        "colab": {
          "base_uri": "https://localhost:8080/",
          "height": 66
        },
        "outputId": "46605644-f600-43df-9ec4-2276964ac448"
      },
      "source": [
        "# Construction of the circuit for a Bell state\n",
        "\n",
        "# Creates a circuit with 2 qubits\n",
        "circuit = QuantumCircuit(2, name='BellCircuit')\n",
        "# Apply the Hadamard gate to the qubit with index 0 \n",
        "circuit.H(0)\n",
        "# Apply the CNOT gate to qubits with indices 0 and 1\n",
        "# with the first one being the control qubit\n",
        "circuit.CNOT((0,1))\n",
        "# Print out the circuit diagram\n",
        "print(circuit)"
      ],
      "execution_count": 3,
      "outputs": [
        {
          "output_type": "stream",
          "text": [
            "(0, 0): ───H───@───\n",
            "               │\n",
            "(0, 1): ───────X───\n"
          ],
          "name": "stdout"
        }
      ]
    },
    {
      "cell_type": "code",
      "metadata": {
        "id": "TGJa-tdlbTx0",
        "colab_type": "code",
        "colab": {
          "base_uri": "https://localhost:8080/",
          "height": 100
        },
        "outputId": "48a529e8-8829-4104-96ac-68a9249ad8b9"
      },
      "source": [
        "# Construction of a circuit with custom qubit layout\n",
        "\n",
        "import cirq\n",
        "import numpy as np\n",
        "qubits = [cirq.GridQubit(1,2), cirq.GridQubit(2, 3), cirq.GridQubit(3, 4)]\n",
        "\n",
        "# Creates a circuit with the given qubits\n",
        "circuit = QuantumCircuit(qubits)\n",
        "# Apply the Hadamard gate to the qubits with indices 0, 1 and 2\n",
        "circuit.H([0, 1, 2])\n",
        "# Rotate the first qubit along x axis by an angle pi\n",
        "circuit.RX(theta=np.pi, qubit_expr=0)\n",
        "# Apply XX gate to the first and second qubit\n",
        "circuit.XX((0, 1))\n",
        "# Apply SWAP gate to the second and third qubit\n",
        "circuit.SWAP((1,2))\n",
        "# Print out the circuit diagram\n",
        "print(circuit)"
      ],
      "execution_count": 4,
      "outputs": [
        {
          "output_type": "stream",
          "text": [
            "(1, 2): ───H───Rx(π)───XX───────\n",
            "                       │\n",
            "(2, 3): ───H───────────XX───×───\n",
            "                            │\n",
            "(3, 4): ───H────────────────×───\n"
          ],
          "name": "stdout"
        }
      ]
    },
    {
      "cell_type": "code",
      "metadata": {
        "id": "ZyrkLLiKkwcd",
        "colab_type": "code",
        "colab": {
          "base_uri": "https://localhost:8080/",
          "height": 33
        },
        "outputId": "3640e927-b28f-438d-aae5-e19af78aaf07"
      },
      "source": [
        "# Print out the number of qubits in the circuit\n",
        "circuit.n_qubit"
      ],
      "execution_count": 5,
      "outputs": [
        {
          "output_type": "execute_result",
          "data": {
            "text/plain": [
              "3"
            ]
          },
          "metadata": {
            "tags": []
          },
          "execution_count": 5
        }
      ]
    },
    {
      "cell_type": "code",
      "metadata": {
        "id": "DF1Uy7z_k3xS",
        "colab_type": "code",
        "colab": {
          "base_uri": "https://localhost:8080/",
          "height": 33
        },
        "outputId": "3927921c-fe40-43d3-cd72-6fb5b90a5cf4"
      },
      "source": [
        "# Print out the qubits in the circuit\n",
        "circuit.qubits"
      ],
      "execution_count": 6,
      "outputs": [
        {
          "output_type": "execute_result",
          "data": {
            "text/plain": [
              "[cirq.GridQubit(1, 2), cirq.GridQubit(2, 3), cirq.GridQubit(3, 4)]"
            ]
          },
          "metadata": {
            "tags": []
          },
          "execution_count": 6
        }
      ]
    },
    {
      "cell_type": "markdown",
      "metadata": {
        "id": "M4H7LAkPYjd7",
        "colab_type": "text"
      },
      "source": [
        "### Parameterizing a quantum circuit\n",
        "\n",
        "A quantum circuit is said to be parameterized if it contains gate operations with undetermined parameter expressions. For example, the gate operation $Rx(\\theta)$ is the Pauli rotation on the qubit about the $x$-axis by an angle parameterized by $\\theta$. "
      ]
    },
    {
      "cell_type": "code",
      "metadata": {
        "id": "lfjYP5BxYalK",
        "colab_type": "code",
        "colab": {
          "base_uri": "https://localhost:8080/",
          "height": 233
        },
        "outputId": "fef40b31-7b0e-4c78-c7cd-1eb7ab28789e"
      },
      "source": [
        "# Construction of a parameterised circuit\n",
        "\n",
        "import sympy as sp\n",
        "import numpy as np\n",
        "\n",
        "# Creates a circuit with 3 qubits\n",
        "circuit = QuantumCircuit(3, name='PQC')    \n",
        "# Apply the Hadamard gate to all qubits\n",
        "circuit.H(circuit.qubits)\n",
        "# Create an array of symbols of size 3 with 'θ' as prefix\n",
        "theta = sp.symarray('θ', 3)\n",
        "# Apply the RZ gate to all qubits parameterised by θ\n",
        "for i, qubit in enumerate(circuit.qubits):\n",
        "  circuit.RZ(theta[i], qubit)\n",
        "# Apply CNOT to qubits with indices 0 and 1 and\n",
        "# qubits with indices 1 and 2 with the first one\n",
        "# being the control qubit\n",
        "circuit.CNOT([(0,1), (1, 2)])\n",
        "# Print out the circuit diagram\n",
        "print(circuit)\n",
        "\n",
        "print('\\n\\n')\n",
        "# Resolve the parameters of the circuit\n",
        "parameter_values = np.array([np.pi, 2*np.pi, 3*np.pi])\n",
        "resolved_circuit = circuit.resolve_parameters(parameter_values)\n",
        "#Print out the resolved circuit\n",
        "print(resolved_circuit)"
      ],
      "execution_count": 7,
      "outputs": [
        {
          "output_type": "stream",
          "text": [
            "(0, 0): ───H───Rz(θ_0)───@───────\n",
            "                         │\n",
            "(0, 1): ───H───Rz(θ_1)───X───@───\n",
            "                             │\n",
            "(0, 2): ───H───Rz(θ_2)───────X───\n",
            "\n",
            "\n",
            "\n",
            "(0, 0): ───H───Rz(π)────@───────\n",
            "                        │\n",
            "(0, 1): ───H───Rz(2π)───X───@───\n",
            "                            │\n",
            "(0, 2): ───H───Rz(-π)───────X───\n"
          ],
          "name": "stdout"
        }
      ]
    },
    {
      "cell_type": "markdown",
      "metadata": {
        "id": "zzXDnkMga1X3",
        "colab_type": "text"
      },
      "source": [
        "# Parameterized Quantum Circuits\n",
        "\n",
        "In Quple, the construction of parameterized quantum circuits is implemented by the `ParameterizedCircuit` class based on the google Cirq library. It uses a specific quantum circuit design called the circuit-centric architecture which is composed of some $L$ copies (called the circuit depth) of a primary circuit block. \n",
        "\n",
        "For a quantum circuit with $n$ qubits, each circuit block consists of a layer (called the rotation layer) of single qubit gates applied to each qubit followed by a layer (called the entanglement layer) of two (or three) qubit gates to entangle the qubits with a given connectivity. It is a natural design that can be easily implemented in actual quantum computers and its strongly entangling nature has various advantages including error mitigation, the ability to efficiently represent the solution space of some machine learning tasks and to  capture nontrivial correlation in the quantum data.\n",
        "\n",
        "Arguments:\n",
        "* n_qubit (int): Number of qubits in the circuit\n",
        "* copies (int): Number of times the layers are repeated (i.e. circuit depth).\n",
        "* rotation_blocks: A list of single qubit gate operations to be applied in the rotation layer.\n",
        "* entanglement_blocks: A list of multi qubit gate operations to be applied in the entanglement layer.\n",
        "* entangle_strategy (default='full'): determines how the qubits are connected in an entanglement block.\n",
        "* parameter_symbol (str): Symbol prefix for circuit parameters.\n",
        "* final_rotation_layer (boolean): Whether to add an extra final rotation layer to the circuit.\n",
        "* flatten_circuit (boolean): Whether to flatten circuit parameters when the circuit is modified.\n"
      ]
    },
    {
      "cell_type": "code",
      "metadata": {
        "id": "eSM_I9IHjC9A",
        "colab_type": "code",
        "colab": {
          "base_uri": "https://localhost:8080/",
          "height": 133
        },
        "outputId": "c29047f2-cf8f-4551-966d-30f3ef31d963"
      },
      "source": [
        "# Construct a parameterised circuit with a rotation layer consisting of the 'H' and 'RZ' blocks, and an entanglement layer consisting of the 'CNOT' blocks with linear entanglement\n",
        "pqc = ParameterisedCircuit(n_qubit=4, rotation_blocks=['H','RZ'], entanglement_blocks=['CNOT'], entangle_strategy='linear', copies=2)\n",
        "# Print out the circuit diagram\n",
        "print(pqc)"
      ],
      "execution_count": 8,
      "outputs": [
        {
          "output_type": "stream",
          "text": [
            "(0, 0): ───H───Rz(θ_0)───@───────H───Rz(θ_4)───@─────────────────\n",
            "                         │                     │\n",
            "(0, 1): ───H───Rz(θ_1)───X───@───H───Rz(θ_5)───X─────────@───────\n",
            "                             │                           │\n",
            "(0, 2): ───H───Rz(θ_2)───────X───@───H─────────Rz(θ_6)───X───@───\n",
            "                                 │                           │\n",
            "(0, 3): ───H───Rz(θ_3)───────────X───H─────────Rz(θ_7)───────X───\n"
          ],
          "name": "stdout"
        }
      ]
    },
    {
      "cell_type": "code",
      "metadata": {
        "id": "WzQNoFanjydn",
        "colab_type": "code",
        "colab": {
          "base_uri": "https://localhost:8080/",
          "height": 133
        },
        "outputId": "7c1d194b-bf18-43e0-c8a0-b2ab73efd8f5"
      },
      "source": [
        "# Alternatively, the build() method can be called\n",
        "pqc = ParameterisedCircuit(n_qubit=4)\n",
        "pqc.build(rotation_blocks=['H','RZ'], entanglement_blocks=['CNOT'], entangle_strategy='linear', copies=2)\n",
        "# Print out the circuit diagram\n",
        "print(pqc)"
      ],
      "execution_count": 9,
      "outputs": [
        {
          "output_type": "stream",
          "text": [
            "(0, 0): ───H───Rz(θ_0)───@───────H───Rz(θ_4)───@─────────────────\n",
            "                         │                     │\n",
            "(0, 1): ───H───Rz(θ_1)───X───@───H───Rz(θ_5)───X─────────@───────\n",
            "                             │                           │\n",
            "(0, 2): ───H───Rz(θ_2)───────X───@───H─────────Rz(θ_6)───X───@───\n",
            "                                 │                           │\n",
            "(0, 3): ───H───Rz(θ_3)───────────X───H─────────Rz(θ_7)───────X───\n"
          ],
          "name": "stdout"
        }
      ]
    },
    {
      "cell_type": "code",
      "metadata": {
        "id": "1PnzRX9aj-i3",
        "colab_type": "code",
        "colab": {
          "base_uri": "https://localhost:8080/",
          "height": 133
        },
        "outputId": "9082c7d3-7dec-4b7b-9c4d-97502a8ea93d"
      },
      "source": [
        "# Alternatively, the rotation layer and entanglement layer can be added independently\n",
        "pqc = ParameterisedCircuit(n_qubit=4)\n",
        "pqc.add_rotation_layer(rotation_blocks=['H','RZ'])\n",
        "pqc.add_entanglement_layer(entanglement_blocks=['CNOT'], entangle_strategy='linear')\n",
        "# Print out the circuit diagram\n",
        "print(pqc)"
      ],
      "execution_count": 10,
      "outputs": [
        {
          "output_type": "stream",
          "text": [
            "(0, 0): ───H───Rz(θ_0)───@───────────\n",
            "                         │\n",
            "(0, 1): ───H───Rz(θ_1)───X───@───────\n",
            "                             │\n",
            "(0, 2): ───H───Rz(θ_2)───────X───@───\n",
            "                                 │\n",
            "(0, 3): ───H───Rz(θ_3)───────────X───\n"
          ],
          "name": "stdout"
        }
      ]
    },
    {
      "cell_type": "code",
      "metadata": {
        "id": "IU7Wat9FkWL_",
        "colab_type": "code",
        "colab": {
          "base_uri": "https://localhost:8080/",
          "height": 33
        },
        "outputId": "68d00c2a-948b-4001-8a16-6b0d21bf91ac"
      },
      "source": [
        "# Print out the parameter symbols in the circuit\n",
        "pqc.parameters"
      ],
      "execution_count": 11,
      "outputs": [
        {
          "output_type": "execute_result",
          "data": {
            "text/plain": [
              "array([θ_0, θ_1, θ_2, θ_3], dtype=object)"
            ]
          },
          "metadata": {
            "tags": []
          },
          "execution_count": 11
        }
      ]
    },
    {
      "cell_type": "code",
      "metadata": {
        "id": "sBK5ZdnXkjcQ",
        "colab_type": "code",
        "colab": {
          "base_uri": "https://localhost:8080/",
          "height": 33
        },
        "outputId": "28f74d4d-4bf5-4b19-d581-c9c5df5ebed6"
      },
      "source": [
        "# Print out the number of parameters in the circuit\n",
        "pqc.num_param"
      ],
      "execution_count": 12,
      "outputs": [
        {
          "output_type": "execute_result",
          "data": {
            "text/plain": [
              "4"
            ]
          },
          "metadata": {
            "tags": []
          },
          "execution_count": 12
        }
      ]
    },
    {
      "cell_type": "code",
      "metadata": {
        "id": "yi7Agx5mkq7N",
        "colab_type": "code",
        "colab": {}
      },
      "source": [
        ""
      ],
      "execution_count": 12,
      "outputs": []
    }
  ]
}