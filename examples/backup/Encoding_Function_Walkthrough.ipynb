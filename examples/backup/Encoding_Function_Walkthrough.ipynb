{
 "cells": [
  {
   "cell_type": "markdown",
   "metadata": {
    "colab_type": "text",
    "id": "view-in-github"
   },
   "source": [
    "<a href=\"https://colab.research.google.com/github/AlkaidCheng/quple.github.io/blob/master/examples/Encoding_Function_Walkthrough.ipynb\" target=\"_parent\"><img src=\"https://colab.research.google.com/assets/colab-badge.svg\" alt=\"Open In Colab\"/></a>"
   ]
  },
  {
   "cell_type": "code",
   "execution_count": 1,
   "metadata": {
    "colab": {
     "base_uri": "https://localhost:8080/",
     "height": 1000
    },
    "colab_type": "code",
    "id": "DEG3WW51m0e3",
    "outputId": "3f3d9623-a75f-43c5-f8eb-32f3f9e671b8"
   },
   "outputs": [
    {
     "name": "stdout",
     "output_type": "stream",
     "text": [
      "Collecting quple\n",
      "\u001b[?25l  Downloading https://files.pythonhosted.org/packages/8c/50/d53a3a6e44751e663bc5178f6ca89ebc2fff0430e4232ef49cf14b99a3e6/quple-0.5.7.4-py3-none-any.whl (50kB)\n",
      "\u001b[K     |████████████████████████████████| 51kB 1.6MB/s \n",
      "\u001b[?25hCollecting cirq\n",
      "\u001b[?25l  Downloading https://files.pythonhosted.org/packages/1e/5b/6f8cb54ea8c0041ad9c8e4ece07cb5ca9eb1c29de68e68795b4a40d90cc6/cirq-0.8.2-py3-none-any.whl (1.4MB)\n",
      "\u001b[K     |████████████████████████████████| 1.4MB 6.4MB/s \n",
      "\u001b[?25hCollecting tensorflow==2.1.0\n",
      "\u001b[?25l  Downloading https://files.pythonhosted.org/packages/85/d4/c0cd1057b331bc38b65478302114194bd8e1b9c2bbc06e300935c0e93d90/tensorflow-2.1.0-cp36-cp36m-manylinux2010_x86_64.whl (421.8MB)\n",
      "\u001b[K     |████████████████████████████████| 421.8MB 38kB/s \n",
      "\u001b[?25hRequirement already satisfied: numpy in /usr/local/lib/python3.6/dist-packages (from quple) (1.18.5)\n",
      "Collecting tensorflow-quantum==0.3.0\n",
      "\u001b[?25l  Downloading https://files.pythonhosted.org/packages/e2/60/3c73e8c4b68efdd84927e3a2975c52fbf9af50305c3dbecbf0557b8f7b73/tensorflow_quantum-0.3.0-cp36-cp36m-manylinux2010_x86_64.whl (3.9MB)\n",
      "\u001b[K     |████████████████████████████████| 3.9MB 45.2MB/s \n",
      "\u001b[?25hRequirement already satisfied: typing-extensions in /usr/local/lib/python3.6/dist-packages (from cirq->quple) (3.7.4.3)\n",
      "Requirement already satisfied: sympy in /usr/local/lib/python3.6/dist-packages (from cirq->quple) (1.1.1)\n",
      "Collecting freezegun~=0.3.15\n",
      "  Downloading https://files.pythonhosted.org/packages/17/5d/1b9d6d3c7995fff473f35861d674e0113a5f0bd5a72fe0199c3f254665c7/freezegun-0.3.15-py2.py3-none-any.whl\n",
      "Requirement already satisfied: matplotlib~=3.0 in /usr/local/lib/python3.6/dist-packages (from cirq->quple) (3.2.2)\n",
      "Requirement already satisfied: pandas in /usr/local/lib/python3.6/dist-packages (from cirq->quple) (1.0.5)\n",
      "Requirement already satisfied: protobuf~=3.12.0 in /usr/local/lib/python3.6/dist-packages (from cirq->quple) (3.12.4)\n",
      "Requirement already satisfied: sortedcontainers~=2.0 in /usr/local/lib/python3.6/dist-packages (from cirq->quple) (2.2.2)\n",
      "Requirement already satisfied: google-api-core[grpc]<2.0.0dev,>=1.14.0 in /usr/local/lib/python3.6/dist-packages (from cirq->quple) (1.16.0)\n",
      "Requirement already satisfied: scipy in /usr/local/lib/python3.6/dist-packages (from cirq->quple) (1.4.1)\n",
      "Requirement already satisfied: dataclasses; python_version < \"3.7\" in /usr/local/lib/python3.6/dist-packages (from cirq->quple) (0.7)\n",
      "Requirement already satisfied: requests~=2.18 in /usr/local/lib/python3.6/dist-packages (from cirq->quple) (2.23.0)\n",
      "Requirement already satisfied: networkx~=2.4 in /usr/local/lib/python3.6/dist-packages (from cirq->quple) (2.5)\n",
      "Requirement already satisfied: astor>=0.6.0 in /usr/local/lib/python3.6/dist-packages (from tensorflow==2.1.0->quple) (0.8.1)\n",
      "Collecting keras-applications>=1.0.8\n",
      "\u001b[?25l  Downloading https://files.pythonhosted.org/packages/71/e3/19762fdfc62877ae9102edf6342d71b28fbfd9dea3d2f96a882ce099b03f/Keras_Applications-1.0.8-py3-none-any.whl (50kB)\n",
      "\u001b[K     |████████████████████████████████| 51kB 6.7MB/s \n",
      "\u001b[?25hRequirement already satisfied: wheel>=0.26; python_version >= \"3\" in /usr/local/lib/python3.6/dist-packages (from tensorflow==2.1.0->quple) (0.35.1)\n",
      "Requirement already satisfied: wrapt>=1.11.1 in /usr/local/lib/python3.6/dist-packages (from tensorflow==2.1.0->quple) (1.12.1)\n",
      "Requirement already satisfied: keras-preprocessing>=1.1.0 in /usr/local/lib/python3.6/dist-packages (from tensorflow==2.1.0->quple) (1.1.2)\n",
      "Requirement already satisfied: grpcio>=1.8.6 in /usr/local/lib/python3.6/dist-packages (from tensorflow==2.1.0->quple) (1.31.0)\n",
      "Collecting tensorflow-estimator<2.2.0,>=2.1.0rc0\n",
      "\u001b[?25l  Downloading https://files.pythonhosted.org/packages/18/90/b77c328a1304437ab1310b463e533fa7689f4bfc41549593056d812fab8e/tensorflow_estimator-2.1.0-py2.py3-none-any.whl (448kB)\n",
      "\u001b[K     |████████████████████████████████| 450kB 39.4MB/s \n",
      "\u001b[?25hRequirement already satisfied: six>=1.12.0 in /usr/local/lib/python3.6/dist-packages (from tensorflow==2.1.0->quple) (1.15.0)\n",
      "Collecting tensorboard<2.2.0,>=2.1.0\n",
      "\u001b[?25l  Downloading https://files.pythonhosted.org/packages/d9/41/bbf49b61370e4f4d245d4c6051dfb6db80cec672605c91b1652ac8cc3d38/tensorboard-2.1.1-py3-none-any.whl (3.8MB)\n",
      "\u001b[K     |████████████████████████████████| 3.9MB 43.7MB/s \n",
      "\u001b[?25hRequirement already satisfied: absl-py>=0.7.0 in /usr/local/lib/python3.6/dist-packages (from tensorflow==2.1.0->quple) (0.8.1)\n",
      "Requirement already satisfied: termcolor>=1.1.0 in /usr/local/lib/python3.6/dist-packages (from tensorflow==2.1.0->quple) (1.1.0)\n",
      "Requirement already satisfied: google-pasta>=0.1.6 in /usr/local/lib/python3.6/dist-packages (from tensorflow==2.1.0->quple) (0.2.0)\n",
      "Requirement already satisfied: opt-einsum>=2.3.2 in /usr/local/lib/python3.6/dist-packages (from tensorflow==2.1.0->quple) (3.3.0)\n",
      "Collecting gast==0.2.2\n",
      "  Downloading https://files.pythonhosted.org/packages/4e/35/11749bf99b2d4e3cceb4d55ca22590b0d7c2c62b9de38ac4a4a7f4687421/gast-0.2.2.tar.gz\n",
      "Collecting pathos==0.2.5\n",
      "\u001b[?25l  Downloading https://files.pythonhosted.org/packages/c6/a2/cd59f73d5ede4f122687bf8f63de5d671c9561e493ca699241f05b038278/pathos-0.2.5.tar.gz (162kB)\n",
      "\u001b[K     |████████████████████████████████| 163kB 44.6MB/s \n",
      "\u001b[?25hRequirement already satisfied: mpmath>=0.19 in /usr/local/lib/python3.6/dist-packages (from sympy->cirq->quple) (1.1.0)\n",
      "Requirement already satisfied: python-dateutil!=2.0,>=1.0 in /usr/local/lib/python3.6/dist-packages (from freezegun~=0.3.15->cirq->quple) (2.8.1)\n",
      "Requirement already satisfied: kiwisolver>=1.0.1 in /usr/local/lib/python3.6/dist-packages (from matplotlib~=3.0->cirq->quple) (1.2.0)\n",
      "Requirement already satisfied: pyparsing!=2.0.4,!=2.1.2,!=2.1.6,>=2.0.1 in /usr/local/lib/python3.6/dist-packages (from matplotlib~=3.0->cirq->quple) (2.4.7)\n",
      "Requirement already satisfied: cycler>=0.10 in /usr/local/lib/python3.6/dist-packages (from matplotlib~=3.0->cirq->quple) (0.10.0)\n",
      "Requirement already satisfied: pytz>=2017.2 in /usr/local/lib/python3.6/dist-packages (from pandas->cirq->quple) (2018.9)\n",
      "Requirement already satisfied: setuptools in /usr/local/lib/python3.6/dist-packages (from protobuf~=3.12.0->cirq->quple) (49.6.0)\n",
      "Requirement already satisfied: googleapis-common-protos<2.0dev,>=1.6.0 in /usr/local/lib/python3.6/dist-packages (from google-api-core[grpc]<2.0.0dev,>=1.14.0->cirq->quple) (1.52.0)\n",
      "Requirement already satisfied: google-auth<2.0dev,>=0.4.0 in /usr/local/lib/python3.6/dist-packages (from google-api-core[grpc]<2.0.0dev,>=1.14.0->cirq->quple) (1.17.2)\n",
      "Requirement already satisfied: idna<3,>=2.5 in /usr/local/lib/python3.6/dist-packages (from requests~=2.18->cirq->quple) (2.10)\n",
      "Requirement already satisfied: certifi>=2017.4.17 in /usr/local/lib/python3.6/dist-packages (from requests~=2.18->cirq->quple) (2020.6.20)\n",
      "Requirement already satisfied: chardet<4,>=3.0.2 in /usr/local/lib/python3.6/dist-packages (from requests~=2.18->cirq->quple) (3.0.4)\n",
      "Requirement already satisfied: urllib3!=1.25.0,!=1.25.1,<1.26,>=1.21.1 in /usr/local/lib/python3.6/dist-packages (from requests~=2.18->cirq->quple) (1.24.3)\n",
      "Requirement already satisfied: decorator>=4.3.0 in /usr/local/lib/python3.6/dist-packages (from networkx~=2.4->cirq->quple) (4.4.2)\n",
      "Requirement already satisfied: h5py in /usr/local/lib/python3.6/dist-packages (from keras-applications>=1.0.8->tensorflow==2.1.0->quple) (2.10.0)\n",
      "Requirement already satisfied: werkzeug>=0.11.15 in /usr/local/lib/python3.6/dist-packages (from tensorboard<2.2.0,>=2.1.0->tensorflow==2.1.0->quple) (1.0.1)\n",
      "Requirement already satisfied: markdown>=2.6.8 in /usr/local/lib/python3.6/dist-packages (from tensorboard<2.2.0,>=2.1.0->tensorflow==2.1.0->quple) (3.2.2)\n",
      "Requirement already satisfied: google-auth-oauthlib<0.5,>=0.4.1 in /usr/local/lib/python3.6/dist-packages (from tensorboard<2.2.0,>=2.1.0->tensorflow==2.1.0->quple) (0.4.1)\n",
      "Collecting ppft>=1.6.6.1\n",
      "\u001b[?25l  Downloading https://files.pythonhosted.org/packages/2b/fb/fa21f6e9aedc4823448473ed96e8eab64af1cb248c18165f045a90e1c6b4/ppft-1.6.6.2.zip (106kB)\n",
      "\u001b[K     |████████████████████████████████| 112kB 37.7MB/s \n",
      "\u001b[?25hRequirement already satisfied: dill>=0.3.1 in /usr/local/lib/python3.6/dist-packages (from pathos==0.2.5->tensorflow-quantum==0.3.0->quple) (0.3.2)\n",
      "Collecting pox>=0.2.7\n",
      "\u001b[?25l  Downloading https://files.pythonhosted.org/packages/1a/0c/ec447fb0ed88bc1c09bf0dadf00e40ea05fda17e841d15bb351a52d9e192/pox-0.2.8.zip (128kB)\n",
      "\u001b[K     |████████████████████████████████| 133kB 46.7MB/s \n",
      "\u001b[?25hRequirement already satisfied: multiprocess>=0.70.9 in /usr/local/lib/python3.6/dist-packages (from pathos==0.2.5->tensorflow-quantum==0.3.0->quple) (0.70.10)\n",
      "Requirement already satisfied: rsa<5,>=3.1.4; python_version >= \"3\" in /usr/local/lib/python3.6/dist-packages (from google-auth<2.0dev,>=0.4.0->google-api-core[grpc]<2.0.0dev,>=1.14.0->cirq->quple) (4.6)\n",
      "Requirement already satisfied: cachetools<5.0,>=2.0.0 in /usr/local/lib/python3.6/dist-packages (from google-auth<2.0dev,>=0.4.0->google-api-core[grpc]<2.0.0dev,>=1.14.0->cirq->quple) (4.1.1)\n",
      "Requirement already satisfied: pyasn1-modules>=0.2.1 in /usr/local/lib/python3.6/dist-packages (from google-auth<2.0dev,>=0.4.0->google-api-core[grpc]<2.0.0dev,>=1.14.0->cirq->quple) (0.2.8)\n",
      "Requirement already satisfied: importlib-metadata; python_version < \"3.8\" in /usr/local/lib/python3.6/dist-packages (from markdown>=2.6.8->tensorboard<2.2.0,>=2.1.0->tensorflow==2.1.0->quple) (1.7.0)\n",
      "Requirement already satisfied: requests-oauthlib>=0.7.0 in /usr/local/lib/python3.6/dist-packages (from google-auth-oauthlib<0.5,>=0.4.1->tensorboard<2.2.0,>=2.1.0->tensorflow==2.1.0->quple) (1.3.0)\n",
      "Requirement already satisfied: pyasn1>=0.1.3 in /usr/local/lib/python3.6/dist-packages (from rsa<5,>=3.1.4; python_version >= \"3\"->google-auth<2.0dev,>=0.4.0->google-api-core[grpc]<2.0.0dev,>=1.14.0->cirq->quple) (0.4.8)\n",
      "Requirement already satisfied: zipp>=0.5 in /usr/local/lib/python3.6/dist-packages (from importlib-metadata; python_version < \"3.8\"->markdown>=2.6.8->tensorboard<2.2.0,>=2.1.0->tensorflow==2.1.0->quple) (3.1.0)\n",
      "Requirement already satisfied: oauthlib>=3.0.0 in /usr/local/lib/python3.6/dist-packages (from requests-oauthlib>=0.7.0->google-auth-oauthlib<0.5,>=0.4.1->tensorboard<2.2.0,>=2.1.0->tensorflow==2.1.0->quple) (3.1.0)\n",
      "Building wheels for collected packages: gast, pathos, ppft, pox\n",
      "  Building wheel for gast (setup.py) ... \u001b[?25l\u001b[?25hdone\n",
      "  Created wheel for gast: filename=gast-0.2.2-cp36-none-any.whl size=7542 sha256=5f31af24e1d86d8f7fd792a794853cc9871f8ffa40eb6f73010bc13239724338\n",
      "  Stored in directory: /root/.cache/pip/wheels/5c/2e/7e/a1d4d4fcebe6c381f378ce7743a3ced3699feb89bcfbdadadd\n",
      "  Building wheel for pathos (setup.py) ... \u001b[?25l\u001b[?25hdone\n",
      "  Created wheel for pathos: filename=pathos-0.2.5-cp36-none-any.whl size=77577 sha256=e0f675b2aca5d9c68c276bcdc68fbe373198ff1cf686b87c4080e952a764cec3\n",
      "  Stored in directory: /root/.cache/pip/wheels/61/6d/83/90b0c3d2c271da2c4850731e894798c98f8dbedbac74e8eff0\n",
      "  Building wheel for ppft (setup.py) ... \u001b[?25l\u001b[?25hdone\n",
      "  Created wheel for ppft: filename=ppft-1.6.6.2-cp36-none-any.whl size=64743 sha256=79b3dfec4fc8f034a1eeb788df308fbb53b67853ee58b96c3c86059d01bd9803\n",
      "  Stored in directory: /root/.cache/pip/wheels/db/d2/2d/0ee21ede61786bb13247dbc69079373fd500c2bb0481913084\n",
      "  Building wheel for pox (setup.py) ... \u001b[?25l\u001b[?25hdone\n",
      "  Created wheel for pox: filename=pox-0.2.8-cp36-none-any.whl size=28290 sha256=a76e3164a1a7ae60eedd6184e61efeeef0619c831c5caa258f011570abfc64c3\n",
      "  Stored in directory: /root/.cache/pip/wheels/39/ed/ce/a93103746b327e18bffaeb99ba0d57a88b392f31d719cea700\n",
      "Successfully built gast pathos ppft pox\n",
      "\u001b[31mERROR: tensorflow-probability 0.11.0 has requirement gast>=0.3.2, but you'll have gast 0.2.2 which is incompatible.\u001b[0m\n",
      "\u001b[31mERROR: tensorflow-quantum 0.3.0 has requirement cirq==0.8.0, but you'll have cirq 0.8.2 which is incompatible.\u001b[0m\n",
      "\u001b[31mERROR: tensorflow-quantum 0.3.0 has requirement sympy==1.4, but you'll have sympy 1.1.1 which is incompatible.\u001b[0m\n",
      "Installing collected packages: freezegun, cirq, keras-applications, tensorflow-estimator, tensorboard, gast, tensorflow, ppft, pox, pathos, tensorflow-quantum, quple\n",
      "  Found existing installation: tensorflow-estimator 2.3.0\n",
      "    Uninstalling tensorflow-estimator-2.3.0:\n",
      "      Successfully uninstalled tensorflow-estimator-2.3.0\n",
      "  Found existing installation: tensorboard 2.3.0\n",
      "    Uninstalling tensorboard-2.3.0:\n",
      "      Successfully uninstalled tensorboard-2.3.0\n",
      "  Found existing installation: gast 0.3.3\n",
      "    Uninstalling gast-0.3.3:\n",
      "      Successfully uninstalled gast-0.3.3\n",
      "  Found existing installation: tensorflow 2.3.0\n",
      "    Uninstalling tensorflow-2.3.0:\n",
      "      Successfully uninstalled tensorflow-2.3.0\n",
      "Successfully installed cirq-0.8.2 freezegun-0.3.15 gast-0.2.2 keras-applications-1.0.8 pathos-0.2.5 pox-0.2.8 ppft-1.6.6.2 quple-0.5.7.4 tensorboard-2.1.1 tensorflow-2.1.0 tensorflow-estimator-2.1.0 tensorflow-quantum-0.3.0\n"
     ]
    }
   ],
   "source": [
    "!pip install quple"
   ]
  },
  {
   "cell_type": "markdown",
   "metadata": {
    "colab_type": "text",
    "id": "0fRiXs3RuFbE"
   },
   "source": [
    "# Encoding Function\n",
    "\n",
    "An encoding function $\\phi(\\mathbf{x})$ specifies how input features $\\mathbf{x}$ are encoded into the parameters of a unitary gate operation in an encoding circuit. Usually, the parameters involved in a unitary gate operation are the rotation angles about some axis of the single qubit or multi-qubit Bloch sphere depending on the number of qubits the gate operation is acting on. Therefore, for input features of dimension $n$, the encoding function is a map $f: \\mathbb{R}^n \\rightarrow \\mathbb{R}$. It is natural to restrict the range of the encoding function to be within $(0, 2\\pi)$ or $(-\\pi, \\pi)$ to correspond to the effective range of an angle of rotation. \n",
    "\t\n",
    "In Quple, encoding circuits from the \\colorbox{lightgray}{EncodingCircuit} class will have its gate operations parameterized by the expressions of the form $\\pi\\phi(\\mathbf{x})$ with the $\\pi$ factor extracted out by default which restricts the range of $\\phi(\\mathbf{x})$ to be within $[0, 2]$ or $[-1, 1]$. There are a number of encoding functions that are implemented in Quple which also put a restriction on the value of each input feature to be within $[-1, +1]$ to make sure the encoding functions will map input features of arbitrary dimension to a value of the required range.  Users can also create their own encoding function as  long as it takes an array like input $\\mathbf{x}$ and output a number that is within the required range. \n",
    "\n",
    "Some of the available encoding functions are\n",
    "\n",
    "| Encoding Function   |    Formula  ($n=1$)   |  <div style=\"width:500px\">     Formula($n>1$)    </div> | Domain  |  <div style=\"width:500px\">  Range  </div> |\n",
    "| :-----------------: |:-------------:| :-------------:| :-------:| :------:|\n",
    "| self_product      | $x_0$    | $\\prod_{i=0}^n x_i$ | [-1, +1] | [-1, +1] |\n",
    "|cosine_product | $x_0$ |$\\prod_{i=0}^n (\\cos(\\pi(x_i+1)/2))$ | [-1, +1] | [1, +1] |\t\n",
    "|distance_measure |$x_0$ |$\\prod_{i<j} (x_i-x_j)/2^{\\text{pairs}}$  | [-1, +1] | [-1, +1]  |\n",
    "|one_norm_distance |$x_0$ | $\\sum_{i<j} |x_i-x_j|/\\text{pairs}$ | [-1, +1] | [0, +2] |\t\t\t\t\t\t\t\n",
    "|two_norm_distance |$x_0$ | $[\\sum_{i<j} (x_i-x_j)^2/{\\text{pairs}}]^{1/2}$ | [-1, +1] | [0, +2]  |\t\n",
    "|arithmetic_mean | $x_0$ |\t$\\sum_{i=0}^n x_i/n$ | [-1, +1] | [-1, +1]  |\t\t\t\t\t\t\t\t\n",
    "|second_moment | $x_0$ |\t$[\\sum_{i=0}^n (x_i+1)^2/n]^{1/2}$ | [-1, +1] | [-1, +1]  |\t\t\t\t\t\t\t\t\n",
    "|cube_sum | \t$x_0$ |$\\sum_{i=0}^n x_i^3/n$ | [-1, +1] | [-1, +1]  |\t\t\t\t\t\t\t\t\n",
    "|exponential_square_sum | $x_0$ |\t$2\\exp[(\\sum_{i=0}^n x_i^2/n)-1]$ | [-1, +1] | [$2\\exp(-1)$, +2] |\t\t\t\t\t\t\t\t\n",
    "|exponential_cube_sum | $x_0$ |\t$2\\exp[(\\sum_{i=0}^n x_i^3/n)-1]$ | [-1, +1] | [$2\\exp(-2)$, +2] |\n",
    "|polynomial | $x_0^d$ |\t$[\\sum_{i=0}^n x_i/n]^d$ | [-1, +1] | [-1, +1] |"
   ]
  },
  {
   "cell_type": "code",
   "execution_count": 1,
   "metadata": {
    "colab": {},
    "colab_type": "code",
    "id": "cK9F1KxjuUhF"
   },
   "outputs": [],
   "source": [
    "from quple.data_encoding.encoding_maps import self_product, cosine_product, modified_cosine_product, distance_measure, one_norm_distance, two_norm_distance, arithmetic_mean, second_moment, cube_sum, exponential_cube_sum, exponential_square_sum, polynomial"
   ]
  },
  {
   "cell_type": "code",
   "execution_count": 3,
   "metadata": {
    "colab": {},
    "colab_type": "code",
    "id": "v1-FfIXlm4fW"
   },
   "outputs": [],
   "source": [
    "# Prepare the parameter symbols\n",
    "import sympy as sp\n",
    "x = sp.symarray('x', 5)"
   ]
  },
  {
   "cell_type": "code",
   "execution_count": 8,
   "metadata": {
    "colab": {
     "base_uri": "https://localhost:8080/",
     "height": 33
    },
    "colab_type": "code",
    "id": "jqNQVOZixNOR",
    "outputId": "ad0ceb80-722d-48c0-c855-c98611011728"
   },
   "outputs": [
    {
     "data": {
      "text/plain": [
       "x_0*x_1*x_2*x_3*x_4"
      ]
     },
     "execution_count": 8,
     "metadata": {
      "tags": []
     },
     "output_type": "execute_result"
    }
   ],
   "source": [
    "self_product(x)"
   ]
  },
  {
   "cell_type": "code",
   "execution_count": 15,
   "metadata": {
    "colab": {
     "base_uri": "https://localhost:8080/",
     "height": 33
    },
    "colab_type": "code",
    "id": "M0FkWPlFxnK8",
    "outputId": "fa6f9ca1-e25f-4e51-eaf5-2bcefcf27353"
   },
   "outputs": [
    {
     "data": {
      "text/plain": [
       "cos(x_0)*cos(x_1)*cos(x_2)*cos(x_3)*cos(x_4)"
      ]
     },
     "execution_count": 15,
     "metadata": {
      "tags": []
     },
     "output_type": "execute_result"
    }
   ],
   "source": [
    "# this version of cosine product is without rescaling the range of angles\n",
    "cosine_product(x)"
   ]
  },
  {
   "cell_type": "code",
   "execution_count": 17,
   "metadata": {
    "colab": {
     "base_uri": "https://localhost:8080/",
     "height": 33
    },
    "colab_type": "code",
    "id": "emxJg4fLxRoc",
    "outputId": "ac30b695-1fe0-4b96-e1ab-f9b273b89d6b"
   },
   "outputs": [
    {
     "data": {
      "text/plain": [
       "cos(pi*(x_0/2 + 1/2))*cos(pi*(x_1/2 + 1/2))*cos(pi*(x_2/2 + 1/2))*cos(pi*(x_3/2 + 1/2))*cos(pi*(x_4/2 + 1/2))"
      ]
     },
     "execution_count": 17,
     "metadata": {
      "tags": []
     },
     "output_type": "execute_result"
    }
   ],
   "source": [
    "# this version of cosine product will rescale the range of angles\n",
    "modified_cosine_product(x)"
   ]
  },
  {
   "cell_type": "code",
   "execution_count": 18,
   "metadata": {
    "colab": {
     "base_uri": "https://localhost:8080/",
     "height": 33
    },
    "colab_type": "code",
    "id": "wmfMMu3HxcnF",
    "outputId": "372c7c7c-d45f-4d11-a0f7-6262fe84bcd9"
   },
   "outputs": [
    {
     "data": {
      "text/plain": [
       "(-x_0 + x_4)*(x_0 - x_1)*(x_1 - x_2)*(x_2 - x_3)*(x_3 - x_4)/32"
      ]
     },
     "execution_count": 18,
     "metadata": {
      "tags": []
     },
     "output_type": "execute_result"
    }
   ],
   "source": [
    "distance_measure(x)"
   ]
  },
  {
   "cell_type": "code",
   "execution_count": 19,
   "metadata": {
    "colab": {
     "base_uri": "https://localhost:8080/",
     "height": 33
    },
    "colab_type": "code",
    "id": "7ZfgEdw7xfJ_",
    "outputId": "55aba3a8-1d41-436f-fa4b-3374ca9bd4cd"
   },
   "outputs": [
    {
     "data": {
      "text/plain": [
       "Abs(x_0 - x_1)/5 + Abs(x_0 - x_4)/5 + Abs(x_1 - x_2)/5 + Abs(x_2 - x_3)/5 + Abs(x_3 - x_4)/5"
      ]
     },
     "execution_count": 19,
     "metadata": {
      "tags": []
     },
     "output_type": "execute_result"
    }
   ],
   "source": [
    "one_norm_distance(x)"
   ]
  },
  {
   "cell_type": "code",
   "execution_count": 20,
   "metadata": {
    "colab": {
     "base_uri": "https://localhost:8080/",
     "height": 33
    },
    "colab_type": "code",
    "id": "KlOqo6mAx2k8",
    "outputId": "5ef4e91f-6f12-489b-8b4f-e32c04ddeb8f"
   },
   "outputs": [
    {
     "data": {
      "text/plain": [
       "((-x_0 + x_4)**2/5 + (x_0 - x_1)**2/5 + (x_1 - x_2)**2/5 + (x_2 - x_3)**2/5 + (x_3 - x_4)**2/5)**0.5"
      ]
     },
     "execution_count": 20,
     "metadata": {
      "tags": []
     },
     "output_type": "execute_result"
    }
   ],
   "source": [
    "two_norm_distance(x)"
   ]
  },
  {
   "cell_type": "code",
   "execution_count": 21,
   "metadata": {
    "colab": {
     "base_uri": "https://localhost:8080/",
     "height": 33
    },
    "colab_type": "code",
    "id": "cG829TLlx4AU",
    "outputId": "a05d0b68-3298-4df5-c3b9-957af1662505"
   },
   "outputs": [
    {
     "data": {
      "text/plain": [
       "x_0/5 + x_1/5 + x_2/5 + x_3/5 + x_4/5"
      ]
     },
     "execution_count": 21,
     "metadata": {
      "tags": []
     },
     "output_type": "execute_result"
    }
   ],
   "source": [
    "arithmetic_mean(x)"
   ]
  },
  {
   "cell_type": "code",
   "execution_count": 22,
   "metadata": {
    "colab": {
     "base_uri": "https://localhost:8080/",
     "height": 33
    },
    "colab_type": "code",
    "id": "PakHvxujx5XL",
    "outputId": "32fbf6e1-fbe4-4480-ab52-72506576248f"
   },
   "outputs": [
    {
     "data": {
      "text/plain": [
       "((x_0 + 1)**2/5 + (x_1 + 1)**2/5 + (x_2 + 1)**2/5 + (x_3 + 1)**2/5 + (x_4 + 1)**2/5)**0.5"
      ]
     },
     "execution_count": 22,
     "metadata": {
      "tags": []
     },
     "output_type": "execute_result"
    }
   ],
   "source": [
    "second_moment(x)"
   ]
  },
  {
   "cell_type": "code",
   "execution_count": 23,
   "metadata": {
    "colab": {
     "base_uri": "https://localhost:8080/",
     "height": 33
    },
    "colab_type": "code",
    "id": "a-IC4MaGx7B1",
    "outputId": "2f2e1867-2379-49ab-883e-cb92a00100a5"
   },
   "outputs": [
    {
     "data": {
      "text/plain": [
       "x_0**3/5 + x_1**3/5 + x_2**3/5 + x_3**3/5 + x_4**3/5"
      ]
     },
     "execution_count": 23,
     "metadata": {
      "tags": []
     },
     "output_type": "execute_result"
    }
   ],
   "source": [
    "cube_sum(x)"
   ]
  },
  {
   "cell_type": "code",
   "execution_count": 24,
   "metadata": {
    "colab": {
     "base_uri": "https://localhost:8080/",
     "height": 33
    },
    "colab_type": "code",
    "id": "QI0kXqxbx8gc",
    "outputId": "02a2184f-b25f-4e77-d236-bc1425ad30de"
   },
   "outputs": [
    {
     "data": {
      "text/plain": [
       "2*exp(x_0**2/5 + x_1**2/5 + x_2**2/5 + x_3**2/5 + x_4**2/5 - 1)"
      ]
     },
     "execution_count": 24,
     "metadata": {
      "tags": []
     },
     "output_type": "execute_result"
    }
   ],
   "source": [
    "exponential_square_sum(x)"
   ]
  },
  {
   "cell_type": "code",
   "execution_count": 25,
   "metadata": {
    "colab": {
     "base_uri": "https://localhost:8080/",
     "height": 33
    },
    "colab_type": "code",
    "id": "F78p2ZIMx-pX",
    "outputId": "b87d8865-b61b-4aac-bde5-ba86b9e341cc"
   },
   "outputs": [
    {
     "data": {
      "text/plain": [
       "2*exp(x_0**3/5 + x_1**3/5 + x_2**3/5 + x_3**3/5 + x_4**3/5 - 1)"
      ]
     },
     "execution_count": 25,
     "metadata": {
      "tags": []
     },
     "output_type": "execute_result"
    }
   ],
   "source": [
    "exponential_cube_sum(x)"
   ]
  },
  {
   "cell_type": "code",
   "execution_count": 27,
   "metadata": {
    "colab": {
     "base_uri": "https://localhost:8080/",
     "height": 100
    },
    "colab_type": "code",
    "id": "T_jxWAWZx_lZ",
    "outputId": "04775586-c069-4f0b-bbdc-ec802ef7cd29"
   },
   "outputs": [
    {
     "name": "stdout",
     "output_type": "stream",
     "text": [
      "(0, 0): ───H───Rz(pi*<x_0**3>)───@──────────────────────────────────@──────────────────────────────────────────\n",
      "                                 │                                  │\n",
      "(0, 1): ───H───Rz(pi*<x_1**3>)───X───Rz(pi*<x_0**3/2 + x_1**3/2>)───X───@──────────────────────────────────@───\n",
      "                                                                        │                                  │\n",
      "(0, 2): ───H───Rz(pi*<x_2**3>)──────────────────────────────────────────X───Rz(pi*<x_1**3/2 + x_2**3/2>)───X───\n"
     ]
    }
   ],
   "source": [
    "from quple.data_encoding import GeneralPauliEncoding\n",
    "# Construct an encoding circuit with GeneralPauliEncoding using the Paulis 'Z' and 'ZZ' for encoding data of feature dimension 3 using the cube sum encoding function. \n",
    "encoding_circuit = GeneralPauliEncoding(feature_dimension=3, paulis=['Z', 'ZZ'],\n",
    "                                        encoding_map=cube_sum, entangle_strategy='linear', copies=1)\n",
    "print(encoding_circuit)"
   ]
  }
 ],
 "metadata": {
  "colab": {
   "authorship_tag": "ABX9TyO6x3uxwGAW8sE6s7C2tY+7",
   "include_colab_link": true,
   "name": "Encoding_Function_Walkthrough.ipynb",
   "provenance": []
  },
  "kernelspec": {
   "display_name": "Python 3",
   "language": "python",
   "name": "python3"
  },
  "language_info": {
   "codemirror_mode": {
    "name": "ipython",
    "version": 3
   },
   "file_extension": ".py",
   "mimetype": "text/x-python",
   "name": "python",
   "nbconvert_exporter": "python",
   "pygments_lexer": "ipython3",
   "version": "3.7.10"
  }
 },
 "nbformat": 4,
 "nbformat_minor": 1
}
