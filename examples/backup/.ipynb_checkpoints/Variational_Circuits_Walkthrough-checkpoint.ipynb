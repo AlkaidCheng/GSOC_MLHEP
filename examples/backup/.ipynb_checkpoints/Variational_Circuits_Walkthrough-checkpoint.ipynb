{
 "cells": [
  {
   "cell_type": "markdown",
   "metadata": {
    "colab_type": "text",
    "id": "view-in-github"
   },
   "source": [
    "<a href=\"https://colab.research.google.com/github/AlkaidCheng/quple.github.io/blob/master/examples/Variational_Circuits_Walkthrough.ipynb\" target=\"_parent\"><img src=\"https://colab.research.google.com/assets/colab-badge.svg\" alt=\"Open In Colab\"/></a>"
   ]
  },
  {
   "cell_type": "code",
   "execution_count": 1,
   "metadata": {
    "colab": {
     "base_uri": "https://localhost:8080/",
     "height": 1000
    },
    "colab_type": "code",
    "id": "iFutwyKKKqk3",
    "outputId": "a21d27cf-39e5-4612-fb44-c94806927980"
   },
   "outputs": [
    {
     "name": "stdout",
     "output_type": "stream",
     "text": [
      "Collecting quple\n",
      "\u001b[?25l  Downloading https://files.pythonhosted.org/packages/8c/50/d53a3a6e44751e663bc5178f6ca89ebc2fff0430e4232ef49cf14b99a3e6/quple-0.5.7.4-py3-none-any.whl (50kB)\n",
      "\u001b[K     |████████████████████████████████| 51kB 1.6MB/s \n",
      "\u001b[?25hCollecting tensorflow==2.1.0\n",
      "\u001b[?25l  Downloading https://files.pythonhosted.org/packages/85/d4/c0cd1057b331bc38b65478302114194bd8e1b9c2bbc06e300935c0e93d90/tensorflow-2.1.0-cp36-cp36m-manylinux2010_x86_64.whl (421.8MB)\n",
      "\u001b[K     |████████████████████████████████| 421.8MB 38kB/s \n",
      "\u001b[?25hCollecting tensorflow-quantum==0.3.0\n",
      "\u001b[?25l  Downloading https://files.pythonhosted.org/packages/e2/60/3c73e8c4b68efdd84927e3a2975c52fbf9af50305c3dbecbf0557b8f7b73/tensorflow_quantum-0.3.0-cp36-cp36m-manylinux2010_x86_64.whl (3.9MB)\n",
      "\u001b[K     |████████████████████████████████| 3.9MB 42.1MB/s \n",
      "\u001b[?25hRequirement already satisfied: numpy in /usr/local/lib/python3.6/dist-packages (from quple) (1.18.5)\n",
      "Collecting cirq\n",
      "\u001b[?25l  Downloading https://files.pythonhosted.org/packages/1e/5b/6f8cb54ea8c0041ad9c8e4ece07cb5ca9eb1c29de68e68795b4a40d90cc6/cirq-0.8.2-py3-none-any.whl (1.4MB)\n",
      "\u001b[K     |████████████████████████████████| 1.4MB 30.1MB/s \n",
      "\u001b[?25hRequirement already satisfied: scipy==1.4.1; python_version >= \"3\" in /usr/local/lib/python3.6/dist-packages (from tensorflow==2.1.0->quple) (1.4.1)\n",
      "Collecting tensorboard<2.2.0,>=2.1.0\n",
      "\u001b[?25l  Downloading https://files.pythonhosted.org/packages/d9/41/bbf49b61370e4f4d245d4c6051dfb6db80cec672605c91b1652ac8cc3d38/tensorboard-2.1.1-py3-none-any.whl (3.8MB)\n",
      "\u001b[K     |████████████████████████████████| 3.9MB 40.6MB/s \n",
      "\u001b[?25hRequirement already satisfied: grpcio>=1.8.6 in /usr/local/lib/python3.6/dist-packages (from tensorflow==2.1.0->quple) (1.31.0)\n",
      "Collecting tensorflow-estimator<2.2.0,>=2.1.0rc0\n",
      "\u001b[?25l  Downloading https://files.pythonhosted.org/packages/18/90/b77c328a1304437ab1310b463e533fa7689f4bfc41549593056d812fab8e/tensorflow_estimator-2.1.0-py2.py3-none-any.whl (448kB)\n",
      "\u001b[K     |████████████████████████████████| 450kB 46.8MB/s \n",
      "\u001b[?25hRequirement already satisfied: termcolor>=1.1.0 in /usr/local/lib/python3.6/dist-packages (from tensorflow==2.1.0->quple) (1.1.0)\n",
      "Collecting gast==0.2.2\n",
      "  Downloading https://files.pythonhosted.org/packages/4e/35/11749bf99b2d4e3cceb4d55ca22590b0d7c2c62b9de38ac4a4a7f4687421/gast-0.2.2.tar.gz\n",
      "Requirement already satisfied: six>=1.12.0 in /usr/local/lib/python3.6/dist-packages (from tensorflow==2.1.0->quple) (1.15.0)\n",
      "Requirement already satisfied: google-pasta>=0.1.6 in /usr/local/lib/python3.6/dist-packages (from tensorflow==2.1.0->quple) (0.2.0)\n",
      "Requirement already satisfied: wrapt>=1.11.1 in /usr/local/lib/python3.6/dist-packages (from tensorflow==2.1.0->quple) (1.12.1)\n",
      "Requirement already satisfied: opt-einsum>=2.3.2 in /usr/local/lib/python3.6/dist-packages (from tensorflow==2.1.0->quple) (3.3.0)\n",
      "Collecting keras-applications>=1.0.8\n",
      "\u001b[?25l  Downloading https://files.pythonhosted.org/packages/71/e3/19762fdfc62877ae9102edf6342d71b28fbfd9dea3d2f96a882ce099b03f/Keras_Applications-1.0.8-py3-none-any.whl (50kB)\n",
      "\u001b[K     |████████████████████████████████| 51kB 6.7MB/s \n",
      "\u001b[?25hRequirement already satisfied: absl-py>=0.7.0 in /usr/local/lib/python3.6/dist-packages (from tensorflow==2.1.0->quple) (0.8.1)\n",
      "Requirement already satisfied: wheel>=0.26; python_version >= \"3\" in /usr/local/lib/python3.6/dist-packages (from tensorflow==2.1.0->quple) (0.35.1)\n",
      "Requirement already satisfied: protobuf>=3.8.0 in /usr/local/lib/python3.6/dist-packages (from tensorflow==2.1.0->quple) (3.12.4)\n",
      "Requirement already satisfied: keras-preprocessing>=1.1.0 in /usr/local/lib/python3.6/dist-packages (from tensorflow==2.1.0->quple) (1.1.2)\n",
      "Requirement already satisfied: astor>=0.6.0 in /usr/local/lib/python3.6/dist-packages (from tensorflow==2.1.0->quple) (0.8.1)\n",
      "Collecting pathos==0.2.5\n",
      "\u001b[?25l  Downloading https://files.pythonhosted.org/packages/c6/a2/cd59f73d5ede4f122687bf8f63de5d671c9561e493ca699241f05b038278/pathos-0.2.5.tar.gz (162kB)\n",
      "\u001b[K     |████████████████████████████████| 163kB 50.6MB/s \n",
      "\u001b[?25hCollecting sympy==1.4\n",
      "\u001b[?25l  Downloading https://files.pythonhosted.org/packages/21/21/f4105795ca7f35c541d82c5b06be684dd2f5cb4f508fb487cd7aea4de776/sympy-1.4-py2.py3-none-any.whl (5.3MB)\n",
      "\u001b[K     |████████████████████████████████| 5.3MB 41.4MB/s \n",
      "\u001b[?25hRequirement already satisfied: google-api-core[grpc]<2.0.0dev,>=1.14.0 in /usr/local/lib/python3.6/dist-packages (from cirq->quple) (1.16.0)\n",
      "Requirement already satisfied: pandas in /usr/local/lib/python3.6/dist-packages (from cirq->quple) (1.0.5)\n",
      "Requirement already satisfied: sortedcontainers~=2.0 in /usr/local/lib/python3.6/dist-packages (from cirq->quple) (2.2.2)\n",
      "Collecting freezegun~=0.3.15\n",
      "  Downloading https://files.pythonhosted.org/packages/17/5d/1b9d6d3c7995fff473f35861d674e0113a5f0bd5a72fe0199c3f254665c7/freezegun-0.3.15-py2.py3-none-any.whl\n",
      "Requirement already satisfied: dataclasses; python_version < \"3.7\" in /usr/local/lib/python3.6/dist-packages (from cirq->quple) (0.7)\n",
      "Requirement already satisfied: requests~=2.18 in /usr/local/lib/python3.6/dist-packages (from cirq->quple) (2.23.0)\n",
      "Requirement already satisfied: typing-extensions in /usr/local/lib/python3.6/dist-packages (from cirq->quple) (3.7.4.3)\n",
      "Requirement already satisfied: networkx~=2.4 in /usr/local/lib/python3.6/dist-packages (from cirq->quple) (2.5)\n",
      "Requirement already satisfied: matplotlib~=3.0 in /usr/local/lib/python3.6/dist-packages (from cirq->quple) (3.2.2)\n",
      "Requirement already satisfied: setuptools>=41.0.0 in /usr/local/lib/python3.6/dist-packages (from tensorboard<2.2.0,>=2.1.0->tensorflow==2.1.0->quple) (49.6.0)\n",
      "Requirement already satisfied: markdown>=2.6.8 in /usr/local/lib/python3.6/dist-packages (from tensorboard<2.2.0,>=2.1.0->tensorflow==2.1.0->quple) (3.2.2)\n",
      "Requirement already satisfied: google-auth-oauthlib<0.5,>=0.4.1 in /usr/local/lib/python3.6/dist-packages (from tensorboard<2.2.0,>=2.1.0->tensorflow==2.1.0->quple) (0.4.1)\n",
      "Requirement already satisfied: werkzeug>=0.11.15 in /usr/local/lib/python3.6/dist-packages (from tensorboard<2.2.0,>=2.1.0->tensorflow==2.1.0->quple) (1.0.1)\n",
      "Requirement already satisfied: google-auth<2,>=1.6.3 in /usr/local/lib/python3.6/dist-packages (from tensorboard<2.2.0,>=2.1.0->tensorflow==2.1.0->quple) (1.17.2)\n",
      "Requirement already satisfied: h5py in /usr/local/lib/python3.6/dist-packages (from keras-applications>=1.0.8->tensorflow==2.1.0->quple) (2.10.0)\n",
      "Collecting ppft>=1.6.6.1\n",
      "\u001b[?25l  Downloading https://files.pythonhosted.org/packages/2b/fb/fa21f6e9aedc4823448473ed96e8eab64af1cb248c18165f045a90e1c6b4/ppft-1.6.6.2.zip (106kB)\n",
      "\u001b[K     |████████████████████████████████| 112kB 50.3MB/s \n",
      "\u001b[?25hRequirement already satisfied: dill>=0.3.1 in /usr/local/lib/python3.6/dist-packages (from pathos==0.2.5->tensorflow-quantum==0.3.0->quple) (0.3.2)\n",
      "Collecting pox>=0.2.7\n",
      "\u001b[?25l  Downloading https://files.pythonhosted.org/packages/1a/0c/ec447fb0ed88bc1c09bf0dadf00e40ea05fda17e841d15bb351a52d9e192/pox-0.2.8.zip (128kB)\n",
      "\u001b[K     |████████████████████████████████| 133kB 43.1MB/s \n",
      "\u001b[?25hRequirement already satisfied: multiprocess>=0.70.9 in /usr/local/lib/python3.6/dist-packages (from pathos==0.2.5->tensorflow-quantum==0.3.0->quple) (0.70.10)\n",
      "Requirement already satisfied: mpmath>=0.19 in /usr/local/lib/python3.6/dist-packages (from sympy==1.4->tensorflow-quantum==0.3.0->quple) (1.1.0)\n",
      "Requirement already satisfied: googleapis-common-protos<2.0dev,>=1.6.0 in /usr/local/lib/python3.6/dist-packages (from google-api-core[grpc]<2.0.0dev,>=1.14.0->cirq->quple) (1.52.0)\n",
      "Requirement already satisfied: pytz in /usr/local/lib/python3.6/dist-packages (from google-api-core[grpc]<2.0.0dev,>=1.14.0->cirq->quple) (2018.9)\n",
      "Requirement already satisfied: python-dateutil>=2.6.1 in /usr/local/lib/python3.6/dist-packages (from pandas->cirq->quple) (2.8.1)\n",
      "Requirement already satisfied: idna<3,>=2.5 in /usr/local/lib/python3.6/dist-packages (from requests~=2.18->cirq->quple) (2.10)\n",
      "Requirement already satisfied: urllib3!=1.25.0,!=1.25.1,<1.26,>=1.21.1 in /usr/local/lib/python3.6/dist-packages (from requests~=2.18->cirq->quple) (1.24.3)\n",
      "Requirement already satisfied: certifi>=2017.4.17 in /usr/local/lib/python3.6/dist-packages (from requests~=2.18->cirq->quple) (2020.6.20)\n",
      "Requirement already satisfied: chardet<4,>=3.0.2 in /usr/local/lib/python3.6/dist-packages (from requests~=2.18->cirq->quple) (3.0.4)\n",
      "Requirement already satisfied: decorator>=4.3.0 in /usr/local/lib/python3.6/dist-packages (from networkx~=2.4->cirq->quple) (4.4.2)\n",
      "Requirement already satisfied: pyparsing!=2.0.4,!=2.1.2,!=2.1.6,>=2.0.1 in /usr/local/lib/python3.6/dist-packages (from matplotlib~=3.0->cirq->quple) (2.4.7)\n",
      "Requirement already satisfied: cycler>=0.10 in /usr/local/lib/python3.6/dist-packages (from matplotlib~=3.0->cirq->quple) (0.10.0)\n",
      "Requirement already satisfied: kiwisolver>=1.0.1 in /usr/local/lib/python3.6/dist-packages (from matplotlib~=3.0->cirq->quple) (1.2.0)\n",
      "Requirement already satisfied: importlib-metadata; python_version < \"3.8\" in /usr/local/lib/python3.6/dist-packages (from markdown>=2.6.8->tensorboard<2.2.0,>=2.1.0->tensorflow==2.1.0->quple) (1.7.0)\n",
      "Requirement already satisfied: requests-oauthlib>=0.7.0 in /usr/local/lib/python3.6/dist-packages (from google-auth-oauthlib<0.5,>=0.4.1->tensorboard<2.2.0,>=2.1.0->tensorflow==2.1.0->quple) (1.3.0)\n",
      "Requirement already satisfied: cachetools<5.0,>=2.0.0 in /usr/local/lib/python3.6/dist-packages (from google-auth<2,>=1.6.3->tensorboard<2.2.0,>=2.1.0->tensorflow==2.1.0->quple) (4.1.1)\n",
      "Requirement already satisfied: rsa<5,>=3.1.4; python_version >= \"3\" in /usr/local/lib/python3.6/dist-packages (from google-auth<2,>=1.6.3->tensorboard<2.2.0,>=2.1.0->tensorflow==2.1.0->quple) (4.6)\n",
      "Requirement already satisfied: pyasn1-modules>=0.2.1 in /usr/local/lib/python3.6/dist-packages (from google-auth<2,>=1.6.3->tensorboard<2.2.0,>=2.1.0->tensorflow==2.1.0->quple) (0.2.8)\n",
      "Requirement already satisfied: zipp>=0.5 in /usr/local/lib/python3.6/dist-packages (from importlib-metadata; python_version < \"3.8\"->markdown>=2.6.8->tensorboard<2.2.0,>=2.1.0->tensorflow==2.1.0->quple) (3.1.0)\n",
      "Requirement already satisfied: oauthlib>=3.0.0 in /usr/local/lib/python3.6/dist-packages (from requests-oauthlib>=0.7.0->google-auth-oauthlib<0.5,>=0.4.1->tensorboard<2.2.0,>=2.1.0->tensorflow==2.1.0->quple) (3.1.0)\n",
      "Requirement already satisfied: pyasn1>=0.1.3 in /usr/local/lib/python3.6/dist-packages (from rsa<5,>=3.1.4; python_version >= \"3\"->google-auth<2,>=1.6.3->tensorboard<2.2.0,>=2.1.0->tensorflow==2.1.0->quple) (0.4.8)\n",
      "Building wheels for collected packages: gast, pathos, ppft, pox\n",
      "  Building wheel for gast (setup.py) ... \u001b[?25l\u001b[?25hdone\n",
      "  Created wheel for gast: filename=gast-0.2.2-cp36-none-any.whl size=7542 sha256=868b8c08c8858c80e19bd4c603d008bbb77d446debc59233abdcf274c9438f23\n",
      "  Stored in directory: /root/.cache/pip/wheels/5c/2e/7e/a1d4d4fcebe6c381f378ce7743a3ced3699feb89bcfbdadadd\n",
      "  Building wheel for pathos (setup.py) ... \u001b[?25l\u001b[?25hdone\n",
      "  Created wheel for pathos: filename=pathos-0.2.5-cp36-none-any.whl size=77577 sha256=fb1c2aef0b5c936043b416c45e3d81662fe545bec2bfc8149143ee73da53e5bc\n",
      "  Stored in directory: /root/.cache/pip/wheels/61/6d/83/90b0c3d2c271da2c4850731e894798c98f8dbedbac74e8eff0\n",
      "  Building wheel for ppft (setup.py) ... \u001b[?25l\u001b[?25hdone\n",
      "  Created wheel for ppft: filename=ppft-1.6.6.2-cp36-none-any.whl size=64743 sha256=4c193edcc22f19400c1592f0d1705ec4cc4344069b1d3d0cf97053469ad24805\n",
      "  Stored in directory: /root/.cache/pip/wheels/db/d2/2d/0ee21ede61786bb13247dbc69079373fd500c2bb0481913084\n",
      "  Building wheel for pox (setup.py) ... \u001b[?25l\u001b[?25hdone\n",
      "  Created wheel for pox: filename=pox-0.2.8-cp36-none-any.whl size=28290 sha256=9252c0a7b49c2772fa2210dd3661e9a370ede182b153f9c767188be115f49865\n",
      "  Stored in directory: /root/.cache/pip/wheels/39/ed/ce/a93103746b327e18bffaeb99ba0d57a88b392f31d719cea700\n",
      "Successfully built gast pathos ppft pox\n",
      "\u001b[31mERROR: tensorflow-probability 0.11.0 has requirement gast>=0.3.2, but you'll have gast 0.2.2 which is incompatible.\u001b[0m\n",
      "\u001b[31mERROR: tensorflow-quantum 0.3.0 has requirement cirq==0.8.0, but you'll have cirq 0.8.2 which is incompatible.\u001b[0m\n",
      "Installing collected packages: tensorboard, tensorflow-estimator, gast, keras-applications, tensorflow, freezegun, sympy, cirq, ppft, pox, pathos, tensorflow-quantum, quple\n",
      "  Found existing installation: tensorboard 2.3.0\n",
      "    Uninstalling tensorboard-2.3.0:\n",
      "      Successfully uninstalled tensorboard-2.3.0\n",
      "  Found existing installation: tensorflow-estimator 2.3.0\n",
      "    Uninstalling tensorflow-estimator-2.3.0:\n",
      "      Successfully uninstalled tensorflow-estimator-2.3.0\n",
      "  Found existing installation: gast 0.3.3\n",
      "    Uninstalling gast-0.3.3:\n",
      "      Successfully uninstalled gast-0.3.3\n",
      "  Found existing installation: tensorflow 2.3.0\n",
      "    Uninstalling tensorflow-2.3.0:\n",
      "      Successfully uninstalled tensorflow-2.3.0\n",
      "  Found existing installation: sympy 1.1.1\n",
      "    Uninstalling sympy-1.1.1:\n",
      "      Successfully uninstalled sympy-1.1.1\n",
      "Successfully installed cirq-0.8.2 freezegun-0.3.15 gast-0.2.2 keras-applications-1.0.8 pathos-0.2.5 pox-0.2.8 ppft-1.6.6.2 quple-0.5.7.4 sympy-1.4 tensorboard-2.1.1 tensorflow-2.1.0 tensorflow-estimator-2.1.0 tensorflow-quantum-0.3.0\n"
     ]
    }
   ],
   "source": [
    "!pip install quple"
   ]
  },
  {
   "cell_type": "markdown",
   "metadata": {
    "colab_type": "text",
    "id": "as6Bp8yhLQ1j"
   },
   "source": [
    "# Variational Circuit\n",
    "\n",
    "A variational (or model) circuit is a parameterized quantum circuit representing a unitary $U(\\theta)$ parameterized by a set of free parameters $\\theta$ which are treated as the weights in a machine learing model.\n",
    "\n",
    " The variational circuit implemented by Quple is based on a circuit-centric design. In this architecture, a variational circuit of $n$ qubits is composed of $L$ copies (i.e. the circuit depth) of a primary circuit block. Each circuit block consists of a layer of single qubit gates (the rotation layer) applied to each of the qubits, followed by a layer of two qubit gates (the entanglement layer) to entangle all qubits according to a given interaction graph. A final rotation layer is added to the circuit so that measurement on any of the data qubits will effectively include the effect of all the two qubit gates in the entanglement layer. It is an example of a strongly entangling circuit which has the advantage of capturing correlations between the data features at all ranges for a short range circuit. \n",
    "\t\n",
    "The class that implements the variational circuits are\n",
    "* RealAmplitudes\n",
    "* EfficientSU2\n",
    "* ExcitationPreserving\n",
    "* IsingCoupling"
   ]
  },
  {
   "cell_type": "code",
   "execution_count": 2,
   "metadata": {
    "colab": {},
    "colab_type": "code",
    "id": "9BPHblIfK6X7"
   },
   "outputs": [],
   "source": [
    "from quple.circuits.variational_circuits import RealAmplitudes, EfficientSU2, ExcitationPreserving, IsingCoupling"
   ]
  },
  {
   "cell_type": "markdown",
   "metadata": {
    "colab_type": "text",
    "id": "WnlZqUX2MP79"
   },
   "source": [
    "### Variational Circuit - RealAmplitudes\n",
    "The `RealAmplitudes` circuit consists of a layer of single qubit Pauli Y rotations acting on each qubit followed by a layer of CNOT entanglement on pairs of qubits under a given interaction graph. The resultant quantum state from the RealAmplitudes circuit will only have real amplitudes with zero complex part. It is a hardware efficient circuit as it uses entangling interactions that are naturally available on hardware and do not require compilation. \n",
    "\n",
    "Arguments:\n",
    "* n_qubit (int): Number of qubits in the circuit\n",
    "* copies (int): Number of times the circuit layers are repeated.\n",
    "* entangle_strategy (default='full'): Determines how the qubits are connected in an entanglement block.\n",
    "* parameter_symbol (str): Symbol prefix for circuit parameters."
   ]
  },
  {
   "cell_type": "code",
   "execution_count": 3,
   "metadata": {
    "colab": {
     "base_uri": "https://localhost:8080/",
     "height": 200
    },
    "colab_type": "code",
    "id": "-DeS7pKqMPDG",
    "outputId": "d57669a0-09d1-4bdc-e17c-0aa9039d0384"
   },
   "outputs": [
    {
     "name": "stdout",
     "output_type": "stream",
     "text": [
      "                                 ┌──┐       ┌──┐                                   ┌──┐       ┌──┐\n",
      "(0, 0): ───Ry(θ_0)───@───@───@────@────────────────────Ry(θ_5)───@─────────@───@────@────────────────────Ry(θ_10)──────────────\n",
      "                     │   │   │    │                              │         │   │    │\n",
      "(0, 1): ───Ry(θ_1)───X───┼───┼────┼@────@────@─────────Ry(θ_6)───X─────────┼───┼────┼@────@────@─────────Ry(θ_11)──────────────\n",
      "                         │   │    ││    │    │                             │   │    ││    │    │\n",
      "(0, 2): ───Ry(θ_2)───────X───┼────┼X────┼────┼@────@───Ry(θ_7)─────────────X───┼────┼X────┼────┼@────@───Ry(θ_12)──────────────\n",
      "                             │    │     │    ││    │                           │    │     │    ││    │\n",
      "(0, 3): ───Ry(θ_3)───────────X────┼─────X────┼X────┼───@─────────Ry(θ_8)───────X────┼─────X────┼X────┼───@──────────Ry(θ_13)───\n",
      "                                  │          │     │   │                            │          │     │   │\n",
      "(0, 4): ───Ry(θ_4)────────────────X──────────X─────X───X─────────Ry(θ_9)────────────X──────────X─────X───X──────────Ry(θ_14)───\n",
      "                                 └──┘       └──┘                                   └──┘       └──┘\n"
     ]
    }
   ],
   "source": [
    "# RealAmplitudes variational circuit with 5 qubits and circuit depth 2 constructed from RY rotations and fully connected CNOT entanglement \n",
    "variational_circuit = RealAmplitudes(n_qubit=5, copies=2)\n",
    "print(variational_circuit)"
   ]
  },
  {
   "cell_type": "markdown",
   "metadata": {
    "colab_type": "text",
    "id": "8AdFvKw2PI85"
   },
   "source": [
    "### Variational Circuit - EfficientSU2\n",
    "The `EfficientSU2` circuit consists of a layer of single qubit operations spanned by SU(2) (such as the Pauli X, Y and Y operations and their rotations) acting on each qubit and a layer of CNOT entanglement on pairs of qubits under a given interaction graph. It is a hardware efficient circuit as it uses entangling interactions that are naturally available on hardware and do not require compilation. \n",
    "\n",
    "Arguments:\n",
    "* n_qubit (int): Number of qubits in the circuit\n",
    "* su2_gates (default=['RY','RZ']): The SU(2) gates to be used in the circuit.\n",
    "* copies (int): Number of times the circuit layers are repeated.\n",
    "* entangle_strategy (default='full'): Determines how the qubits are connected in an entanglement block.\n",
    "* parameter_symbol (str): Symbol prefix for circuit parameters."
   ]
  },
  {
   "cell_type": "code",
   "execution_count": 4,
   "metadata": {
    "colab": {
     "base_uri": "https://localhost:8080/",
     "height": 166
    },
    "colab_type": "code",
    "id": "Nz8Uk2dlPEC7",
    "outputId": "a2f255f0-f217-45c7-9c0e-3c497afc3486"
   },
   "outputs": [
    {
     "name": "stdout",
     "output_type": "stream",
     "text": [
      "(0, 0): ───Ry(θ_0)───Rz(θ_5)───@───────────Ry(θ_10)───Rz(θ_15)───@──────────────────Ry(θ_20)───Rz(θ_25)──────────────\n",
      "                               │                                 │\n",
      "(0, 1): ───Ry(θ_1)───Rz(θ_6)───X───@───────Ry(θ_11)───Rz(θ_16)───X──────────@───────Ry(θ_21)───Rz(θ_26)──────────────\n",
      "                                   │                                        │\n",
      "(0, 2): ───Ry(θ_2)───Rz(θ_7)───────X───@───Ry(θ_12)───Rz(θ_17)──────────────X───@───Ry(θ_22)───Rz(θ_27)──────────────\n",
      "                                       │                                        │\n",
      "(0, 3): ───Ry(θ_3)───Rz(θ_8)───────────X───@──────────Ry(θ_13)───Rz(θ_18)───────X───@──────────Ry(θ_23)───Rz(θ_28)───\n",
      "                                           │                                        │\n",
      "(0, 4): ───Ry(θ_4)───Rz(θ_9)───────────────X──────────Ry(θ_14)───Rz(θ_19)───────────X──────────Ry(θ_24)───Rz(θ_29)───\n"
     ]
    }
   ],
   "source": [
    "# EfficientSU2 variational circuit with 5 qubits and circuit depth 2 constructed from ['RY', 'RZ'] rotations and linearly connected CNOT entanglement repeated 2 times\n",
    "variational_circuit = EfficientSU2(n_qubit=5, copies=2, entangle_strategy='linear')\n",
    "print(variational_circuit)"
   ]
  },
  {
   "cell_type": "markdown",
   "metadata": {
    "colab_type": "text",
    "id": "DlEvlZW6QNBN"
   },
   "source": [
    "### Variational Circuit - ExcitationPreserving\n",
    "\n",
    "The `ExcitationPreserving` circuit consists of a layer of single qubit Pauli Z rotation acting on each qubit  and a layer of two qubit gates from the Fermionic simulation, or fSim, gate set acting on pairs of qubits under a given interaction graph. Under this gate set, the $\\sigma_X\\sigma_X$ and $\\sigma_Y\\sigma_Y$ couplings between the qubits have equal coefficients which conserves the number of excitations of the qubits.  Algorithms performed with just Pauli Z rotations and fSim gates enable error mitigation techiques including post selection and zero noise extrapolation.\n",
    "\n",
    "Arguments:\n",
    "* n_qubit (int): Number of qubits in the circuit\n",
    "* entanglement_gate ('RISWAP' or 'FSim', default='RISWAP'): Excitation preserving gate operation to use for entangling qubits\n",
    "* copies (int): Number of times the circuit layers are repeated.\n",
    "* entangle_strategy (default='full'): Determines how the qubits are connected in an entanglement block.\n",
    "* parameter_symbol (str): Symbol prefix for circuit parameters."
   ]
  },
  {
   "cell_type": "code",
   "execution_count": 5,
   "metadata": {
    "colab": {
     "base_uri": "https://localhost:8080/",
     "height": 166
    },
    "colab_type": "code",
    "id": "DKSorzVVQCmX",
    "outputId": "d20bee9c-3613-4810-d720-5eac1e4abeec"
   },
   "outputs": [
    {
     "name": "stdout",
     "output_type": "stream",
     "text": [
      "(0, 0): ───Rz(ɸ_0)───iSwap───────────────────────────────────────────────────────────────────────iSwap──────────────Rz(ɸ_10)───\n",
      "                     │                                                                           │\n",
      "(0, 1): ───Rz(ɸ_1)───iSwap^(2*ɸ_5/pi)───iSwap────────────────────────────────────────────────────┼──────────────────Rz(ɸ_11)───\n",
      "                                        │                                                        │\n",
      "(0, 2): ───Rz(ɸ_2)──────────────────────iSwap^(2*ɸ_6/pi)───iSwap─────────────────────────────────┼──────────────────Rz(ɸ_12)───\n",
      "                                                           │                                     │\n",
      "(0, 3): ───Rz(ɸ_3)─────────────────────────────────────────iSwap^(2*ɸ_7/pi)───iSwap──────────────┼──────────────────Rz(ɸ_13)───\n",
      "                                                                              │                  │\n",
      "(0, 4): ───Rz(ɸ_4)────────────────────────────────────────────────────────────iSwap^(2*ɸ_8/pi)───iSwap^(2*ɸ_9/pi)───Rz(ɸ_14)───\n"
     ]
    }
   ],
   "source": [
    "# ExcitationPreserving variational circuit with 5 qubits and circuit depth 1 constructed from RZ rotation and circularly connected RISWAP entanglement\n",
    "variational_circuit = ExcitationPreserving(n_qubit=5, copies=1, entangle_strategy='circular', parameter_symbol='ɸ')\n",
    "print(variational_circuit)"
   ]
  },
  {
   "cell_type": "code",
   "execution_count": 6,
   "metadata": {
    "colab": {
     "base_uri": "https://localhost:8080/",
     "height": 166
    },
    "colab_type": "code",
    "id": "OSLMXodHQ3lo",
    "outputId": "1dad742f-e373-490d-a5e6-054907505aa1"
   },
   "outputs": [
    {
     "name": "stdout",
     "output_type": "stream",
     "text": [
      "(0, 0): ───Rz(θ_0)───fsim(θ_5, θ_6)───fsim(θ_7, θ_8)───fsim(θ_9, θ_10)───fsim(θ_11, θ_12)───Rz(θ_13)───\n",
      "                     │                │                │                 │\n",
      "(0, 1): ───Rz(θ_1)───#2───────────────┼────────────────┼─────────────────┼──────────────────Rz(θ_14)───\n",
      "                                      │                │                 │\n",
      "(0, 2): ───Rz(θ_2)────────────────────#2───────────────┼─────────────────┼──────────────────Rz(θ_15)───\n",
      "                                                       │                 │\n",
      "(0, 3): ───Rz(θ_3)─────────────────────────────────────#2────────────────┼──────────────────Rz(θ_16)───\n",
      "                                                                         │\n",
      "(0, 4): ───Rz(θ_4)───────────────────────────────────────────────────────#2─────────────────Rz(θ_17)───\n"
     ]
    }
   ],
   "source": [
    "# ExcitationPreserving variational circuit with 5 qubits and circuit depth 1 constructed from RZ rotation and star connected FSim entanglement\n",
    "variational_circuit = ExcitationPreserving(n_qubit=5, copies=1, entanglement_gate='FSim', entangle_strategy='star')\n",
    "print(variational_circuit)"
   ]
  },
  {
   "cell_type": "markdown",
   "metadata": {
    "colab_type": "text",
    "id": "JmxCJBE3RZHI"
   },
   "source": [
    "### Variational Circuit - IsingCoupling\n",
    "\n",
    "The `IsingCoupling` circuit consists of a layer of single qubit Pauli rotations acting on each qubit and a layer of two qubit XX Ising coupling gates which is a rotation around the $XX$ axis in the two-qubit bloch sphere. \n",
    "\n",
    "Arguments:\n",
    "\n",
    "* n_qubit (int): Number of qubits in the circuit\n",
    "* rotation_gates (default=['RY','RZ']): Rotation gates to be used in the circuit.\n",
    "* copies (int): Number of times the circuit layers are repeated.\n",
    "* entangle_strategy (default='full'): Determines how the qubits are connected in an entanglement block.\n",
    "* parameter_symbol (str): Symbol prefix for circuit parameters."
   ]
  },
  {
   "cell_type": "code",
   "execution_count": 7,
   "metadata": {
    "colab": {
     "base_uri": "https://localhost:8080/",
     "height": 200
    },
    "colab_type": "code",
    "id": "2f7p_awRRVmI",
    "outputId": "b51549c0-3b32-45ea-bc52-8f934b2aac88"
   },
   "outputs": [
    {
     "name": "stdout",
     "output_type": "stream",
     "text": [
      "                                                                   ┌──────────────────┐               ┌──────────────────┐\n",
      "(0, 0): ───Ry(θ_0)───Rz(θ_5)───XX──────────XX──────────XX───────────XX───────────────────────────────────────────────────────────────────Ry(θ_20)────Rz(θ_25)──────────────\n",
      "                               │           │           │            │\n",
      "(0, 1): ───Ry(θ_1)───Rz(θ_6)───XX^(θ_10)───┼───────────┼────────────┼────────XX───────────XX───────────XX────────────────────────────────Ry(θ_21)────Rz(θ_26)──────────────\n",
      "                                           │           │            │        │            │            │\n",
      "(0, 2): ───Ry(θ_2)───Rz(θ_7)───────────────XX^(θ_11)───┼────────────┼────────XX^(θ_14)────┼────────────┼────────XX───────────XX──────────Ry(θ_22)────Rz(θ_27)──────────────\n",
      "                                                       │            │                     │            │        │            │\n",
      "(0, 3): ───Ry(θ_3)───Rz(θ_8)───────────────────────────XX^(θ_12)────┼─────────────────────XX^(θ_15)────┼────────XX^(θ_17)────┼───────────XX──────────Ry(θ_23)───Rz(θ_28)───\n",
      "                                                                    │                                  │                     │           │\n",
      "(0, 4): ───Ry(θ_4)───Rz(θ_9)────────────────────────────────────────XX^(θ_13)──────────────────────────XX^(θ_16)─────────────XX^(θ_18)───XX^(θ_19)───Ry(θ_24)───Rz(θ_29)───\n",
      "                                                                   └──────────────────┘               └──────────────────┘\n"
     ]
    }
   ],
   "source": [
    "# IsingCoupling variational circuit with 5 qubits and circuit depth 1 constructed from ['RY','RZ'] rotation and fully connected XX entanglement raised to some parameterised power\n",
    "variational_circuit = IsingCoupling(n_qubit=5, copies=1, entangle_strategy='full')\n",
    "print(variational_circuit)"
   ]
  },
  {
   "cell_type": "markdown",
   "metadata": {
    "colab_type": "text",
    "id": "3ryAFfIoSWer"
   },
   "source": [
    "## Readout qubit\n",
    "\n",
    "Addition of an extra readout qubit that is entangled to all data qubits via a custom two-qubit gate operation which is used as the qubit for measurement when training a VQC model. "
   ]
  },
  {
   "cell_type": "code",
   "execution_count": 8,
   "metadata": {
    "colab": {
     "base_uri": "https://localhost:8080/",
     "height": 383
    },
    "colab_type": "code",
    "id": "OOotnTd_Sivm",
    "outputId": "82c55854-b976-42e2-b52e-657ff06f1def"
   },
   "outputs": [
    {
     "name": "stdout",
     "output_type": "stream",
     "text": [
      "(0, 0): ───Ry(θ_0)───Rz(θ_5)───@───────────Ry(θ_10)───Rz(θ_15)───@──────────────────Ry(θ_20)───Rz(θ_25)──────────────\n",
      "                               │                                 │\n",
      "(0, 1): ───Ry(θ_1)───Rz(θ_6)───X───@───────Ry(θ_11)───Rz(θ_16)───X──────────@───────Ry(θ_21)───Rz(θ_26)──────────────\n",
      "                                   │                                        │\n",
      "(0, 2): ───Ry(θ_2)───Rz(θ_7)───────X───@───Ry(θ_12)───Rz(θ_17)──────────────X───@───Ry(θ_22)───Rz(θ_27)──────────────\n",
      "                                       │                                        │\n",
      "(0, 3): ───Ry(θ_3)───Rz(θ_8)───────────X───@──────────Ry(θ_13)───Rz(θ_18)───────X───@──────────Ry(θ_23)───Rz(θ_28)───\n",
      "                                           │                                        │\n",
      "(0, 4): ───Ry(θ_4)───Rz(θ_9)───────────────X──────────Ry(θ_14)───Rz(θ_19)───────────X──────────Ry(θ_24)───Rz(θ_29)───\n",
      "\n",
      "\n",
      "(-1, -1): ──────────────────────────────────────────────────────────────────────────────────────────────────H──────────XX──────────XX──────────XX──────────XX──────────XX──────────\n",
      "                                                                                                                       │           │           │           │           │\n",
      "(0, 0): ─────Ry(θ_0)───Rz(θ_5)───@───────────Ry(θ_10)───Rz(θ_15)───@──────────────────Ry(θ_20)───Rz(θ_25)──────────────XX^(θ_30)───┼───────────┼───────────┼───────────┼───────────\n",
      "                                 │                                 │                                                               │           │           │           │\n",
      "(0, 1): ─────Ry(θ_1)───Rz(θ_6)───X───@───────Ry(θ_11)───Rz(θ_16)───X──────────@───────Ry(θ_21)───Rz(θ_26)──────────────────────────XX^(θ_31)───┼───────────┼───────────┼───────────\n",
      "                                     │                                        │                                                                │           │           │\n",
      "(0, 2): ─────Ry(θ_2)───Rz(θ_7)───────X───@───Ry(θ_12)───Rz(θ_17)──────────────X───@───Ry(θ_22)───Rz(θ_27)──────────────────────────────────────XX^(θ_32)───┼───────────┼───────────\n",
      "                                         │                                        │                                                                        │           │\n",
      "(0, 3): ─────Ry(θ_3)───Rz(θ_8)───────────X───@──────────Ry(θ_13)───Rz(θ_18)───────X───@──────────Ry(θ_23)───Rz(θ_28)───────────────────────────────────────XX^(θ_33)───┼───────────\n",
      "                                             │                                        │                                                                                │\n",
      "(0, 4): ─────Ry(θ_4)───Rz(θ_9)───────────────X──────────Ry(θ_14)───Rz(θ_19)───────────X──────────Ry(θ_24)───Rz(θ_29)───────────────────────────────────────────────────XX^(θ_34)───\n"
     ]
    }
   ],
   "source": [
    "# EfficientSU2 variational circuit with 5 qubits and circuit depth 2 constructed from ['RY', 'RZ'] rotations and linearly connected CNOT entanglement repeated 2 times\n",
    "variational_circuit = EfficientSU2(n_qubit=5, copies=2, entangle_strategy='linear')\n",
    "print(variational_circuit)\n",
    "print('\\n')\n",
    "# Add a readout qubit with XX entanglement (raised to some parameterised power, i.e. roughly equal to RXX)\n",
    "variational_circuit.add_readout('XX')\n",
    "print(variational_circuit)"
   ]
  },
  {
   "cell_type": "code",
   "execution_count": null,
   "metadata": {
    "colab": {},
    "colab_type": "code",
    "id": "Xuq_XyCsVG1z"
   },
   "outputs": [],
   "source": []
  }
 ],
 "metadata": {
  "colab": {
   "authorship_tag": "ABX9TyNlUqHGajE8ltmr5jNxD+x3",
   "include_colab_link": true,
   "name": "Variational_Circuits_Walkthrough.ipynb",
   "provenance": []
  },
  "kernelspec": {
   "display_name": "Python 3",
   "language": "python",
   "name": "python3"
  },
  "language_info": {
   "codemirror_mode": {
    "name": "ipython",
    "version": 3
   },
   "file_extension": ".py",
   "mimetype": "text/x-python",
   "name": "python",
   "nbconvert_exporter": "python",
   "pygments_lexer": "ipython3",
   "version": "3.7.10"
  }
 },
 "nbformat": 4,
 "nbformat_minor": 1
}
