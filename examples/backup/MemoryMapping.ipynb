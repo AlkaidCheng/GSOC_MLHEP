{
 "cells": [
  {
   "cell_type": "code",
   "execution_count": 1,
   "metadata": {},
   "outputs": [],
   "source": [
    "import numpy as np\n",
    "from pdb import set_trace\n",
    "\n",
    "import quple\n",
    "from quple.classifiers import QSVM, QSVMLogger\n",
    "from quple.data_encoding import  EncodingCircuit\n",
    "from quple import ParameterisedCircuit, PauliBlock\n",
    "from quple.data_encoding.encoding_maps import trial_2\n",
    "from sklearn.preprocessing import StandardScaler, MinMaxScaler\n",
    "from sklearn.decomposition import PCA\n",
    "from quple.components.data_preparation import prepare_train_val_test\n",
    "#import tensorflow as tf\n",
    "random_seed = 10598\n",
    "# data preparation\n",
    "#data = np.load('/afs/cern.ch/work/c/chlcheng/Repository/qml_work/data/ttH_hadronic_ATLAS.npy')\n",
    "data = np.load('data/ttH_hadronic_ATLAS.npy')\n",
    "x = data[:, :-1]\n",
    "y = data[:, -1]\n",
    "\n",
    "n_trials = 1\n",
    "depth = 2"
   ]
  },
  {
   "cell_type": "code",
   "execution_count": 2,
   "metadata": {},
   "outputs": [],
   "source": [
    "degree = 1\n",
    "n_qubit = 20\n",
    "n_event = 20000"
   ]
  },
  {
   "cell_type": "code",
   "execution_count": 3,
   "metadata": {},
   "outputs": [],
   "source": [
    "if degree > 0:\n",
    "    encoding_circuit = EncodingCircuit(feature_dimension=n_qubit, \n",
    "                                        copies=depth,\n",
    "                                        rotation_blocks=['H',PauliBlock('Z', trial_2(1)),\n",
    "                                                           PauliBlock('Y',trial_2(degree))],\n",
    "                                        entanglement_blocks=[PauliBlock('ZZ',trial_2(degree))],\n",
    "                                        entangle_strategy='alternate_linear')\n",
    "else:\n",
    "    encoding_circuit = EncodingCircuit(feature_dimension=n_qubit, \n",
    "                                        copies=depth,\n",
    "                                        rotation_blocks=['H',PauliBlock('Z', trial_2(1))],\n",
    "                                        entanglement_blocks=[PauliBlock('ZZ',trial_2(0))],\n",
    "                                        entangle_strategy='alternate_linear')  "
   ]
  },
  {
   "cell_type": "code",
   "execution_count": 4,
   "metadata": {},
   "outputs": [],
   "source": [
    "preprocessors = [PCA(n_components=n_qubit, random_state=3),  MinMaxScaler((-1,1))]\n",
    "x_train, x_val, x_test, y_train, y_val, y_test = prepare_train_val_test(x, y, train_size=n_event, \n",
    "                                        val_size=n_event, test_size=n_event, \n",
    "                                        preprocessors=preprocessors, random_state=random_seed, stratify=y)              "
   ]
  },
  {
   "cell_type": "code",
   "execution_count": 5,
   "metadata": {},
   "outputs": [],
   "source": [
    "qsvm = QSVM(encoding_circuit)"
   ]
  },
  {
   "cell_type": "code",
   "execution_count": 6,
   "metadata": {},
   "outputs": [],
   "source": [
    "nrows, ncols = 2000, 2**n_qubit"
   ]
  },
  {
   "cell_type": "code",
   "execution_count": 7,
   "metadata": {},
   "outputs": [],
   "source": [
    "interval = 1000"
   ]
  },
  {
   "cell_type": "code",
   "execution_count": null,
   "metadata": {},
   "outputs": [],
   "source": [
    "for i in range(round(nrows/interval)):\n",
    "    f = np.memmap('ttH_ATLAS_20_qubit_2000_events_train_statevectors.dat', dtype=np.complex64,\n",
    "              mode='w+', shape=(nrows, ncols))\n",
    "    print('Getting {}-th statevectors'.format(i))\n",
    "    state_vectors = qsvm.get_state_vectors(x_train[i*interval:(i+1)*interval])\n",
    "    print('Saving')\n",
    "    f[i*interval:(i+1)*interval, :] = state_vectors\n",
    "    print('Done')\n",
    "    del f"
   ]
  },
  {
   "cell_type": "code",
   "execution_count": 17,
   "metadata": {},
   "outputs": [
    {
     "name": "stdout",
     "output_type": "stream",
     "text": [
      "Getting 0-th statevectors\n",
      "Saving\n",
      "Done\n",
      "Getting 1-th statevectors\n",
      "Saving\n",
      "Done\n"
     ]
    }
   ],
   "source": [
    "for i in range(round(nrows/interval)):\n",
    "    f = np.memmap('/home/chlcheng/ttH_ATLAS_20_qubit_2000_events_train_statevectors.dat', dtype=np.complex64,\n",
    "              mode='w+', shape=(nrows, ncols))\n",
    "    print('Getting {}-th statevectors'.format(i))\n",
    "    state_vectors = qsvm.get_state_vectors(x_train[i*interval:(i+1)*interval])\n",
    "    print('Saving')\n",
    "    f[i*interval:(i+1)*interval, :] = state_vectors\n",
    "    print('Done')\n",
    "    del f"
   ]
  },
  {
   "cell_type": "code",
   "execution_count": 1,
   "metadata": {},
   "outputs": [],
   "source": [
    "import numpy as np\n",
    "f = np.memmap('/home/chlcheng/ttH_ATLAS_20_qubit_2000_events_train_statevectors.dat', dtype=np.complex64,\n",
    "              mode='r', shape=(2000, 2**20))"
   ]
  },
  {
   "cell_type": "code",
   "execution_count": null,
   "metadata": {},
   "outputs": [],
   "source": [
    "f = np.memmap('ttH_ATLAS_20_qubit_2000_events_train_statevectors.dat', dtype=np.complex64,\n",
    "              mode='r', shape=(n_event, 2**n_qubit))"
   ]
  },
  {
   "cell_type": "code",
   "execution_count": null,
   "metadata": {},
   "outputs": [],
   "source": [
    "qsvm.get_kernel_matrix(f, f)"
   ]
  },
  {
   "cell_type": "code",
   "execution_count": 9,
   "metadata": {},
   "outputs": [],
   "source": [
    "\n",
    "def _block_slices(dim_size, block_size):\n",
    "    \"\"\"Generator that yields slice objects for indexing into \n",
    "    sequential blocks of an array along a particular axis\n",
    "    \"\"\"\n",
    "    count = 0\n",
    "    while True:\n",
    "        yield slice(count, int(count + block_size), 1)\n",
    "        count += block_size\n",
    "        if count > dim_size:\n",
    "            raise StopIteration\n",
    "\n",
    "def blockwise_dot(A, B, max_elements=int(2**18), out=None):\n",
    "    \"\"\"\n",
    "    Computes the dot product of two matrices in a block-wise fashion. \n",
    "    Only blocks of `A` with a maximum size of `max_elements` will be \n",
    "    processed simultaneously.\n",
    "    \"\"\"\n",
    "\n",
    "    m,  n = A.shape\n",
    "    n1, o = B.shape\n",
    "\n",
    "    if n1 != n:\n",
    "        raise ValueError('matrices are not aligned')\n",
    "\n",
    "    if A.flags.f_contiguous:\n",
    "        # prioritize processing as many columns of A as possible\n",
    "        max_cols = int(max(1, max_elements / m))\n",
    "        max_rows =  int(max_elements / max_cols)\n",
    "\n",
    "    else:\n",
    "        # prioritize processing as many rows of A as possible\n",
    "        max_rows = int(max(1, max_elements / n))\n",
    "        max_cols = int(max_elements / max_rows)\n",
    "\n",
    "    if out is None:\n",
    "        out = np.empty((m, o), dtype=np.result_type(A, B))\n",
    "    elif out.shape != (m, o):\n",
    "        raise ValueError('output array has incorrect dimensions')\n",
    "    \n",
    "    for mm in _block_slices(m, max_rows):\n",
    "        print(mm)\n",
    "        out[mm, :] = 0\n",
    "        for nn in _block_slices(n, max_cols):\n",
    "            print(nn)\n",
    "            A_block = A[mm, nn].copy()  # copy to force a read\n",
    "            out[mm, :] += A_block @ B[nn, :]\n",
    "            del A_block\n",
    "\n",
    "    return out"
   ]
  },
  {
   "cell_type": "code",
   "execution_count": null,
   "metadata": {},
   "outputs": [
    {
     "name": "stdout",
     "output_type": "stream",
     "text": [
      "slice(0, 2, 1)\n",
      "slice(0, 1048576, 1)\n"
     ]
    }
   ],
   "source": [
    "result = blockwise_dot(f.conjugate(), f.T, max_elements=int(2**21))"
   ]
  },
  {
   "cell_type": "code",
   "execution_count": 4,
   "metadata": {},
   "outputs": [],
   "source": [
    "result = f.conjugate() @ f.T"
   ]
  },
  {
   "cell_type": "code",
   "execution_count": null,
   "metadata": {},
   "outputs": [],
   "source": []
  }
 ],
 "metadata": {
  "kernelspec": {
   "display_name": "Python 3",
   "language": "python",
   "name": "python3"
  },
  "language_info": {
   "codemirror_mode": {
    "name": "ipython",
    "version": 3
   },
   "file_extension": ".py",
   "mimetype": "text/x-python",
   "name": "python",
   "nbconvert_exporter": "python",
   "pygments_lexer": "ipython3",
   "version": "3.7.6"
  }
 },
 "nbformat": 4,
 "nbformat_minor": 4
}
