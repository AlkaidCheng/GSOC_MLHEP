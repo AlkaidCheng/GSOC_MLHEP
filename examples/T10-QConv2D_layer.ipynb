{
 "cells": [
  {
   "cell_type": "markdown",
   "id": "fac4a3ae",
   "metadata": {},
   "source": [
    "# QConv2D layer\n",
    "\n",
    "This tutorial demonstrates how to use the Quntum Convolution 2D (QConv2D) layer from Quple. The code is written using the [Tensorflow Keras Layers API](https://www.tensorflow.org/api_docs/python/tf/keras/layers/Layer) and the [Tensorflow Quantum Layers API](https://www.tensorflow.org/quantum/api_docs/python/tfq/layers)."
   ]
  },
  {
   "cell_type": "markdown",
   "id": "1d1e9729",
   "metadata": {},
   "source": [
    "## 0. Setup"
   ]
  },
  {
   "cell_type": "code",
   "execution_count": 1,
   "id": "944605c0",
   "metadata": {},
   "outputs": [],
   "source": [
    "import sys\n",
    "# install modules if inside google Colab environment\n",
    "if 'google.colab' in sys.modules:\n",
    "    !pip install tensorflow==2.4.1\n",
    "    !pip install tensorflow-quantum\n",
    "    !pip install quple==0.9.0"
   ]
  },
  {
   "cell_type": "code",
   "execution_count": 1,
   "id": "c3f6a5a8",
   "metadata": {},
   "outputs": [],
   "source": [
    "import numpy as np\n",
    "\n",
    "import tensorflow as tf\n",
    "import tensorflow_quantum as tfq\n",
    "\n",
    "from quple.utils.visualization import visualize_images\n",
    "from quple.data_encoding import FirstOrderPauliZEncoding\n",
    "from quple import ParameterisedCircuit\n",
    "\n",
    "from quple.interface.tfq.layers import PQC, QConv2D"
   ]
  },
  {
   "cell_type": "markdown",
   "id": "4c2b0c08",
   "metadata": {},
   "source": [
    "## 1. Create QConv2D layer\n",
    "\n",
    "<img src=\"https://miro.medium.com/max/790/1*1VJDP6qDY9-ExTuQVEOlVg.gif\" width=\"250\" align=\"left\"> \n",
    "\n",
    "- Quantum convolution uses a **quantum filter** as the basic building block. It replaces the classical filter by a Parameterised Quantum Circuit (PQC) which scan across the local regions (the **receptive field**) of an image. \n",
    "\n",
    "- In the classical case, an output pixel value (neuron) that are connected to a local region in the input image is computed as the dot product between the kernel weights of the classical filter and the pixel values in the local region. \n",
    "\n",
    "- In the quantum case, a quantum filter transforms the pixel values in the local region into the quantum states of its data circuit via a suitable feature map, hence projecting the data into a higher dimensional quantum (Hilbert) space. The quantum states are then propagated to the model circuit of the quantum filter which undergoes a sequence parameterised gate operations and outputs the expectation value of a given measurement operator. \n",
    "\n",
    "- The `QConv2D` layer inherits from the `PQC` layer which requires `data_circuit`, `model_circuit` and `operators` as inputs. The implementation of the `QConv2D` is similar to the `tf.keras.layers.Conv2D` layer, borrowing common concepts in traditional convolution such as `filters`, `kernel_size`, `strides` and `padding`. \n",
    "\n",
    "- Note that the `kernel_size` of a quantum filter does not refer to the number of trainable weights in the quantum filter but instead to the dimensions of the receptive field passed to the data circuit."
   ]
  },
  {
   "cell_type": "markdown",
   "id": "eee06c89",
   "metadata": {},
   "source": [
    "For demonstration purpose, we will use a 2x2 quantum filter in terms of a 4 qubit PQC"
   ]
  },
  {
   "cell_type": "markdown",
   "id": "1269839d",
   "metadata": {},
   "source": [
    "### data circuit for 2x2 quantum filter\n",
    "\n",
    "A simple `FirstOrderPauliZEncoding` circuit is used as the data encoding circuit for the 2x2 quantum filter"
   ]
  },
  {
   "cell_type": "code",
   "execution_count": 2,
   "id": "a18be0ef",
   "metadata": {},
   "outputs": [
    {
     "data": {
      "text/html": [
       "<pre style=\"overflow: auto; white-space: pre;\">(0, 0): ───H───Rz(pi*&lt;x_0/pi&gt;)───H───Rz(pi*&lt;x_0/pi&gt;)───\n",
       "\n",
       "(0, 1): ───H───Rz(pi*&lt;x_1/pi&gt;)───H───Rz(pi*&lt;x_1/pi&gt;)───\n",
       "\n",
       "(0, 2): ───H───Rz(pi*&lt;x_2/pi&gt;)───H───Rz(pi*&lt;x_2/pi&gt;)───\n",
       "\n",
       "(0, 3): ───H───Rz(pi*&lt;x_3/pi&gt;)───H───Rz(pi*&lt;x_3/pi&gt;)───</pre>"
      ],
      "text/plain": [
       "(0, 0): ───H───Rz(pi*<x_0/pi>)───H───Rz(pi*<x_0/pi>)───\n",
       "\n",
       "(0, 1): ───H───Rz(pi*<x_1/pi>)───H───Rz(pi*<x_1/pi>)───\n",
       "\n",
       "(0, 2): ───H───Rz(pi*<x_2/pi>)───H───Rz(pi*<x_2/pi>)───\n",
       "\n",
       "(0, 3): ───H───Rz(pi*<x_3/pi>)───H───Rz(pi*<x_3/pi>)───"
      ]
     },
     "execution_count": 2,
     "metadata": {},
     "output_type": "execute_result"
    }
   ],
   "source": [
    "data_circuit_2x2 = FirstOrderPauliZEncoding(feature_dimension=4, copies=2, parameter_scale=1)\n",
    "data_circuit_2x2"
   ]
  },
  {
   "cell_type": "markdown",
   "id": "a1f218ec",
   "metadata": {},
   "source": [
    "### kernel circuit for 2x2 quantum filter\n",
    "\n",
    "The kernel circuit used here is also known as the **EfficientSU2** circuit "
   ]
  },
  {
   "cell_type": "code",
   "execution_count": 3,
   "id": "dbf8c46b",
   "metadata": {},
   "outputs": [
    {
     "data": {
      "text/html": [
       "<pre style=\"overflow: auto; white-space: pre;\">(0, 0): ───Ry(θ_0)───Rz(θ_4)───@───Ry(θ_8)───Rz(θ_12)──────────────@───────\n",
       "                               │                                   │\n",
       "(0, 1): ───Ry(θ_1)───Rz(θ_5)───X───@─────────Ry(θ_9)────Rz(θ_13)───X───@───\n",
       "                                   │                                   │\n",
       "(0, 2): ───Ry(θ_2)───Rz(θ_6)───@───X─────────Ry(θ_10)───Rz(θ_14)───@───X───\n",
       "                               │                                   │\n",
       "(0, 3): ───Ry(θ_3)───Rz(θ_7)───X─────────────Ry(θ_11)───Rz(θ_15)───X───────</pre>"
      ],
      "text/plain": [
       "(0, 0): ───Ry(θ_0)───Rz(θ_4)───@───Ry(θ_8)───Rz(θ_12)──────────────@───────\n",
       "                               │                                   │\n",
       "(0, 1): ───Ry(θ_1)───Rz(θ_5)───X───@─────────Ry(θ_9)────Rz(θ_13)───X───@───\n",
       "                                   │                                   │\n",
       "(0, 2): ───Ry(θ_2)───Rz(θ_6)───@───X─────────Ry(θ_10)───Rz(θ_14)───@───X───\n",
       "                               │                                   │\n",
       "(0, 3): ───Ry(θ_3)───Rz(θ_7)───X─────────────Ry(θ_11)───Rz(θ_15)───X───────"
      ]
     },
     "execution_count": 3,
     "metadata": {},
     "output_type": "execute_result"
    }
   ],
   "source": [
    "kernel_circuit_2x2 = ParameterisedCircuit(n_qubit=4, copies=2, \n",
    "                                      rotation_blocks=[\"RY\", \"RZ\"],\n",
    "                                      entanglement_blocks=[\"CX\"],\n",
    "                                      entangle_strategy=\"alternate_linear\")\n",
    "kernel_circuit_2x2"
   ]
  },
  {
   "cell_type": "code",
   "execution_count": 4,
   "id": "e9ef1146",
   "metadata": {},
   "outputs": [
    {
     "data": {
      "text/plain": [
       "[cirq.Z(cirq.GridQubit(0, 3))]"
      ]
     },
     "execution_count": 4,
     "metadata": {},
     "output_type": "execute_result"
    }
   ],
   "source": [
    "# measure the last qubit\n",
    "readout_2x2 = kernel_circuit_2x2.get_gate_operation(\"Z\", kernel_circuit_2x2.qubits[-1])\n",
    "readout_2x2"
   ]
  },
  {
   "cell_type": "code",
   "execution_count": 5,
   "id": "c82cc4ea",
   "metadata": {},
   "outputs": [],
   "source": [
    "# create a QConv2D layer\n",
    "qconv2d = QConv2D(kernel_circuit_2x2, data_circuit_2x2, readout_2x2,\n",
    "                  kernel_size=(2, 2), filters=2, strides=(1, 1), padding=\"same\",\n",
    "                  seed=2021)"
   ]
  },
  {
   "cell_type": "markdown",
   "id": "158cc706",
   "metadata": {},
   "source": [
    "## 2. Validation of the QConv2D Layer\n",
    "\n",
    "In this section, we will verify that the implementation of the QConv2D model is consistent with classical convolution\n",
    "\n",
    "We shall begin with some random 3x3 images"
   ]
  },
  {
   "cell_type": "code",
   "execution_count": 6,
   "id": "5dcda910",
   "metadata": {},
   "outputs": [
    {
     "data": {
      "text/plain": [
       "<module 'matplotlib.pyplot' from '/afs/cern.ch/work/c/chlcheng/public/local/conda/miniconda/envs/ml-base/lib/python3.7/site-packages/matplotlib/pyplot.py'>"
      ]
     },
     "execution_count": 6,
     "metadata": {},
     "output_type": "execute_result"
    },
    {
     "data": {
      "text/plain": [
       "<Figure size 432x288 with 0 Axes>"
      ]
     },
     "metadata": {},
     "output_type": "display_data"
    },
    {
     "data": {
      "image/png": "[encoded data removed]",
      "text/plain": [
       "<Figure size 1440x648 with 10 Axes>"
      ]
     },
     "metadata": {
      "needs_background": "light"
     },
     "output_type": "display_data"
    }
   ],
   "source": [
    "# ensure reproducible result\n",
    "np.random.seed(2021)\n",
    "sample_size = 10\n",
    "x = np.random.normal(size=(sample_size, 3, 3))\n",
    "visualize_images(x, columns=5)"
   ]
  },
  {
   "cell_type": "code",
   "execution_count": 7,
   "id": "8e09172f",
   "metadata": {},
   "outputs": [
    {
     "data": {
      "text/plain": [
       "(10, 3, 3, 2)"
      ]
     },
     "execution_count": 7,
     "metadata": {},
     "output_type": "execute_result"
    }
   ],
   "source": [
    "# obtained the convoluted output\n",
    "output = qconv2d(x).numpy()\n",
    "output.shape"
   ]
  },
  {
   "cell_type": "markdown",
   "id": "ddde83fa",
   "metadata": {},
   "source": [
    "Let's take a look at the output of the above simple quantum convolution"
   ]
  },
  {
   "cell_type": "code",
   "execution_count": 8,
   "id": "2b3cbff7",
   "metadata": {},
   "outputs": [
    {
     "name": "stdout",
     "output_type": "stream",
     "text": [
      "Convolution output from first filter:\n"
     ]
    },
    {
     "data": {
      "text/plain": [
       "<module 'matplotlib.pyplot' from '/afs/cern.ch/work/c/chlcheng/public/local/conda/miniconda/envs/ml-base/lib/python3.7/site-packages/matplotlib/pyplot.py'>"
      ]
     },
     "execution_count": 8,
     "metadata": {},
     "output_type": "execute_result"
    },
    {
     "data": {
      "text/plain": [
       "<Figure size 432x288 with 0 Axes>"
      ]
     },
     "metadata": {},
     "output_type": "display_data"
    },
    {
     "data": {
      "image/png": "[encoded data removed]",
      "text/plain": [
       "<Figure size 1440x648 with 10 Axes>"
      ]
     },
     "metadata": {
      "needs_background": "light"
     },
     "output_type": "display_data"
    }
   ],
   "source": [
    "reshaped_output_1 = np.reshape(output[:,:,:,0], (sample_size, 3, 3))\n",
    "print(\"Convolution output from first filter:\")\n",
    "visualize_images(reshaped_output_1, columns=5)"
   ]
  },
  {
   "cell_type": "code",
   "execution_count": 9,
   "id": "4c0ffaf6",
   "metadata": {},
   "outputs": [
    {
     "name": "stdout",
     "output_type": "stream",
     "text": [
      "Convolution output from second filter:\n"
     ]
    },
    {
     "data": {
      "text/plain": [
       "<module 'matplotlib.pyplot' from '/afs/cern.ch/work/c/chlcheng/public/local/conda/miniconda/envs/ml-base/lib/python3.7/site-packages/matplotlib/pyplot.py'>"
      ]
     },
     "execution_count": 9,
     "metadata": {},
     "output_type": "execute_result"
    },
    {
     "data": {
      "text/plain": [
       "<Figure size 432x288 with 0 Axes>"
      ]
     },
     "metadata": {},
     "output_type": "display_data"
    },
    {
     "data": {
      "image/png": "[encoded data removed]",
      "text/plain": [
       "<Figure size 1440x648 with 10 Axes>"
      ]
     },
     "metadata": {
      "needs_background": "light"
     },
     "output_type": "display_data"
    }
   ],
   "source": [
    "reshaped_output_2 = np.reshape(output[:,:,:,1], (sample_size, 3, 3))\n",
    "print(\"Convolution output from second filter:\")\n",
    "visualize_images(reshaped_output_2, columns=5)"
   ]
  },
  {
   "cell_type": "markdown",
   "id": "96f9dea2",
   "metadata": {},
   "source": [
    "The trainable weights of the `QConv2D` layer has the shape (filters, input_channels, circuit_params)"
   ]
  },
  {
   "cell_type": "code",
   "execution_count": 10,
   "id": "21b3867b",
   "metadata": {},
   "outputs": [
    {
     "name": "stdout",
     "output_type": "stream",
     "text": [
      "=================================================\n",
      "Kernel weights shape:\n",
      "(2, 1, 16)\n",
      "=================================================\n",
      "Kernel weights for first filter:\n",
      "tf.Tensor(\n",
      "[0.03559315 5.7009115  1.0772028  4.297093   6.010479   5.235625\n",
      " 2.9352243  4.9933195  3.6981454  5.297507   3.907697   2.5383832\n",
      " 2.9044323  3.9199426  5.579139   3.9190686 ], shape=(16,), dtype=float32)\n",
      "=================================================\n",
      "Kernel weights for second filter:\n",
      "tf.Tensor(\n",
      "[4.4562674e+00 5.4074174e-01 3.1140223e+00 4.9358603e-01 1.4023731e+00\n",
      " 4.7630778e-01 5.8784399e+00 3.6493928e+00 4.3248701e+00 6.0587411e+00\n",
      " 3.4179924e+00 5.9370828e+00 5.0049121e-03 4.7158751e-01 3.0801444e+00\n",
      " 5.3433084e+00], shape=(16,), dtype=float32)\n",
      "=================================================\n"
     ]
    }
   ],
   "source": [
    "weights = qconv2d.kernel\n",
    "print(\"=================================================\")\n",
    "print(\"Kernel weights shape:\")\n",
    "print(weights.shape)\n",
    "print(\"=================================================\")\n",
    "print(\"Kernel weights for first filter:\")\n",
    "print(weights[0, 0, :])\n",
    "print(\"=================================================\")\n",
    "print(\"Kernel weights for second filter:\")\n",
    "print(weights[1, 0, :])\n",
    "print(\"=================================================\")"
   ]
  },
  {
   "cell_type": "markdown",
   "id": "3da52e44",
   "metadata": {},
   "source": [
    "### Extract data patches from input"
   ]
  },
  {
   "cell_type": "markdown",
   "id": "ff533ad5",
   "metadata": {},
   "source": [
    "To validate, we first create the data patches that are passed to the data circuit of the quantum filter"
   ]
  },
  {
   "cell_type": "code",
   "execution_count": 11,
   "id": "4b2b2d95",
   "metadata": {},
   "outputs": [],
   "source": [
    "# change input order to (batchsize, planes, rows, cols, depths)\n",
    "x_reshaped = tf.reshape(x, shape=(sample_size, 1, 3, 3, 1))\n",
    "x_patches = tf.extract_volume_patches(x_reshaped, \n",
    "            ksizes=(1, 1, 2, 2, 1), strides=(1, 1, 1, 1, 1), padding=\"SAME\")"
   ]
  },
  {
   "cell_type": "code",
   "execution_count": 12,
   "id": "7ea7d34a",
   "metadata": {
    "scrolled": true
   },
   "outputs": [
    {
     "name": "stdout",
     "output_type": "stream",
     "text": [
      "=================================================\n",
      "Input 0:\n",
      "[[ 1.48860905  0.67601087 -0.41845137]\n",
      " [-0.80652081  0.55587583 -0.70550429]\n",
      " [ 1.13085826  0.64500184  0.10641374]]\n",
      "=================================================\n",
      "Data patches:\n",
      "tf.Tensor(\n",
      "[[[ 1.48860905  0.67601087 -0.80652081  0.55587583]\n",
      "  [ 0.67601087 -0.41845137  0.55587583 -0.70550429]\n",
      "  [-0.41845137  0.         -0.70550429  0.        ]]\n",
      "\n",
      " [[-0.80652081  0.55587583  1.13085826  0.64500184]\n",
      "  [ 0.55587583 -0.70550429  0.64500184  0.10641374]\n",
      "  [-0.70550429  0.          0.10641374  0.        ]]\n",
      "\n",
      " [[ 1.13085826  0.64500184  0.          0.        ]\n",
      "  [ 0.64500184  0.10641374  0.          0.        ]\n",
      "  [ 0.10641374  0.          0.          0.        ]]], shape=(3, 3, 4), dtype=float64)\n",
      "=================================================\n"
     ]
    }
   ],
   "source": [
    "print(\"=================================================\")\n",
    "print(\"Input 0:\")\n",
    "print(x[0, :, :])\n",
    "print(\"=================================================\")\n",
    "print(\"Data patches:\")\n",
    "print(x_patches[0, 0, :, :, :])\n",
    "print(\"=================================================\")"
   ]
  },
  {
   "cell_type": "markdown",
   "id": "e9673b7e",
   "metadata": {},
   "source": [
    "Notice that the first data patch is the top left 2x2 region of the input sample\n",
    "\n",
    "The 0's in the data patches come from the padding"
   ]
  },
  {
   "cell_type": "markdown",
   "id": "db8be2b8",
   "metadata": {},
   "source": [
    "### Manual parameter resolving\n",
    "\n",
    "To validate the output from `QConv2D` layer, we will manually resolve the parameter values in the data and kernel circuits"
   ]
  },
  {
   "cell_type": "code",
   "execution_count": 13,
   "id": "8f078f1f",
   "metadata": {},
   "outputs": [],
   "source": [
    "# flatten the data patches\n",
    "reshaped_patches = tf.reshape(x_patches, shape=(sample_size * 3 * 3, 4))\n",
    "resolved_data_circuits = data_circuit_2x2.resolve_parameters(reshaped_patches.numpy())"
   ]
  },
  {
   "cell_type": "code",
   "execution_count": 14,
   "id": "411cd3d5",
   "metadata": {},
   "outputs": [
    {
     "data": {
      "text/html": [
       "<pre style=\"overflow: auto; white-space: pre;\">(0, 0): ───H───Rz(0.474π)────H───Rz(0.474π)────\n",
       "\n",
       "(0, 1): ───H───Rz(0.215π)────H───Rz(0.215π)────\n",
       "\n",
       "(0, 2): ───H───Rz(-0.257π)───H───Rz(-0.257π)───\n",
       "\n",
       "(0, 3): ───H───Rz(0.177π)────H───Rz(0.177π)────</pre>"
      ],
      "text/plain": [
       "(0, 0): ───H───Rz(0.474π)────H───Rz(0.474π)────\n",
       "\n",
       "(0, 1): ───H───Rz(0.215π)────H───Rz(0.215π)────\n",
       "\n",
       "(0, 2): ───H───Rz(-0.257π)───H───Rz(-0.257π)───\n",
       "\n",
       "(0, 3): ───H───Rz(0.177π)────H───Rz(0.177π)────"
      ]
     },
     "execution_count": 14,
     "metadata": {},
     "output_type": "execute_result"
    }
   ],
   "source": [
    "# first data patch from first sample\n",
    "resolved_data_circuits[0]"
   ]
  },
  {
   "cell_type": "code",
   "execution_count": 15,
   "id": "56bd43a7",
   "metadata": {},
   "outputs": [
    {
     "data": {
      "text/plain": [
       "(2, 1, 16)"
      ]
     },
     "execution_count": 15,
     "metadata": {},
     "output_type": "execute_result"
    }
   ],
   "source": [
    "weights.numpy().shape"
   ]
  },
  {
   "cell_type": "code",
   "execution_count": 16,
   "id": "3eb2d12a",
   "metadata": {},
   "outputs": [
    {
     "data": {
      "text/html": [
       "<pre style=\"overflow: auto; white-space: pre;\">(0, 0): ───Ry(0.011π)───Rz(1.91π)────@───Ry(1.18π)───Rz(0.925π)───────────────@───────\n",
       "                                     │                                        │\n",
       "(0, 1): ───Ry(1.81π)────Rz(1.67π)────X───@───────────Ry(1.69π)────Rz(1.25π)───X───@───\n",
       "                                         │                                        │\n",
       "(0, 2): ───Ry(0.343π)───Rz(0.934π)───@───X───────────Ry(1.24π)────Rz(1.78π)───@───X───\n",
       "                                     │                                        │\n",
       "(0, 3): ───Ry(1.37π)────Rz(1.59π)────X───────────────Ry(0.808π)───Rz(1.25π)───X───────</pre>"
      ],
      "text/plain": [
       "(0, 0): ───Ry(0.011π)───Rz(1.91π)────@───Ry(1.18π)───Rz(0.925π)───────────────@───────\n",
       "                                     │                                        │\n",
       "(0, 1): ───Ry(1.81π)────Rz(1.67π)────X───@───────────Ry(1.69π)────Rz(1.25π)───X───@───\n",
       "                                         │                                        │\n",
       "(0, 2): ───Ry(0.343π)───Rz(0.934π)───@───X───────────Ry(1.24π)────Rz(1.78π)───@───X───\n",
       "                                     │                                        │\n",
       "(0, 3): ───Ry(1.37π)────Rz(1.59π)────X───────────────Ry(0.808π)───Rz(1.25π)───X───────"
      ]
     },
     "execution_count": 16,
     "metadata": {},
     "output_type": "execute_result"
    }
   ],
   "source": [
    "# first filter\n",
    "resolved_kernel_circuit_1 = kernel_circuit_2x2.resolve_parameters(weights[0, 0, :].numpy())\n",
    "resolved_kernel_circuit_1"
   ]
  },
  {
   "cell_type": "code",
   "execution_count": 17,
   "id": "8e3d1e34",
   "metadata": {},
   "outputs": [
    {
     "data": {
      "text/html": [
       "<pre style=\"overflow: auto; white-space: pre;\">(0, 0): ───Ry(1.42π)────Rz(0.446π)───@───Ry(1.38π)───Rz(0.002π)───────────────@───────\n",
       "                                     │                                        │\n",
       "(0, 1): ───Ry(0.172π)───Rz(0.152π)───X───@───────────Ry(1.93π)────Rz(0.15π)───X───@───\n",
       "                                         │                                        │\n",
       "(0, 2): ───Ry(0.991π)───Rz(1.87π)────@───X───────────Ry(1.09π)────Rz(0.98π)───@───X───\n",
       "                                     │                                        │\n",
       "(0, 3): ───Ry(0.157π)───Rz(1.16π)────X───────────────Ry(1.89π)────Rz(1.7π)────X───────</pre>"
      ],
      "text/plain": [
       "(0, 0): ───Ry(1.42π)────Rz(0.446π)───@───Ry(1.38π)───Rz(0.002π)───────────────@───────\n",
       "                                     │                                        │\n",
       "(0, 1): ───Ry(0.172π)───Rz(0.152π)───X───@───────────Ry(1.93π)────Rz(0.15π)───X───@───\n",
       "                                         │                                        │\n",
       "(0, 2): ───Ry(0.991π)───Rz(1.87π)────@───X───────────Ry(1.09π)────Rz(0.98π)───@───X───\n",
       "                                     │                                        │\n",
       "(0, 3): ───Ry(0.157π)───Rz(1.16π)────X───────────────Ry(1.89π)────Rz(1.7π)────X───────"
      ]
     },
     "execution_count": 17,
     "metadata": {},
     "output_type": "execute_result"
    }
   ],
   "source": [
    "# second filter\n",
    "resolved_kernel_circuit_2 = kernel_circuit_2x2.resolve_parameters(weights[1, 0, :].numpy())\n",
    "resolved_kernel_circuit_2"
   ]
  },
  {
   "cell_type": "code",
   "execution_count": 18,
   "id": "6f0a1aa8",
   "metadata": {},
   "outputs": [],
   "source": [
    "combined_circuits_1 = []\n",
    "combined_circuits_2 = []\n",
    "for cq in resolved_data_circuits:\n",
    "    combined_circuit_1 = ParameterisedCircuit.from_cirq(cq + resolved_kernel_circuit_1)\n",
    "    combined_circuit_2 = ParameterisedCircuit.from_cirq(cq + resolved_kernel_circuit_2)\n",
    "    combined_circuits_1.append(combined_circuit_1)\n",
    "    combined_circuits_2.append(combined_circuit_2)"
   ]
  },
  {
   "cell_type": "code",
   "execution_count": 19,
   "id": "b91062c9",
   "metadata": {},
   "outputs": [
    {
     "data": {
      "text/html": [
       "<pre style=\"overflow: auto; white-space: pre;\">(0, 0): ───H───Rz(0.474π)────H───Rz(0.474π)────Ry(0.011π)───Rz(1.91π)────@───Ry(1.18π)───Rz(0.925π)───────────────@───────\n",
       "                                                                         │                                        │\n",
       "(0, 1): ───H───Rz(0.215π)────H───Rz(0.215π)────Ry(1.81π)────Rz(1.67π)────X───@───────────Ry(1.69π)────Rz(1.25π)───X───@───\n",
       "                                                                             │                                        │\n",
       "(0, 2): ───H───Rz(-0.257π)───H───Rz(-0.257π)───Ry(0.343π)───Rz(0.934π)───@───X───────────Ry(1.24π)────Rz(1.78π)───@───X───\n",
       "                                                                         │                                        │\n",
       "(0, 3): ───H───Rz(0.177π)────H───Rz(0.177π)────Ry(1.37π)────Rz(1.59π)────X───────────────Ry(0.808π)───Rz(1.25π)───X───────</pre>"
      ],
      "text/plain": [
       "(0, 0): ───H───Rz(0.474π)────H───Rz(0.474π)────Ry(0.011π)───Rz(1.91π)────@───Ry(1.18π)───Rz(0.925π)───────────────@───────\n",
       "                                                                         │                                        │\n",
       "(0, 1): ───H───Rz(0.215π)────H───Rz(0.215π)────Ry(1.81π)────Rz(1.67π)────X───@───────────Ry(1.69π)────Rz(1.25π)───X───@───\n",
       "                                                                             │                                        │\n",
       "(0, 2): ───H───Rz(-0.257π)───H───Rz(-0.257π)───Ry(0.343π)───Rz(0.934π)───@───X───────────Ry(1.24π)────Rz(1.78π)───@───X───\n",
       "                                                                         │                                        │\n",
       "(0, 3): ───H───Rz(0.177π)────H───Rz(0.177π)────Ry(1.37π)────Rz(1.59π)────X───────────────Ry(0.808π)───Rz(1.25π)───X───────"
      ]
     },
     "execution_count": 19,
     "metadata": {},
     "output_type": "execute_result"
    }
   ],
   "source": [
    "combined_circuits_1[0]"
   ]
  },
  {
   "cell_type": "code",
   "execution_count": 20,
   "id": "b33d23e3",
   "metadata": {},
   "outputs": [
    {
     "data": {
      "text/html": [
       "<pre style=\"overflow: auto; white-space: pre;\">(0, 0): ───H───Rz(0.474π)────H───Rz(0.474π)────Ry(1.42π)────Rz(0.446π)───@───Ry(1.38π)───Rz(0.002π)───────────────@───────\n",
       "                                                                         │                                        │\n",
       "(0, 1): ───H───Rz(0.215π)────H───Rz(0.215π)────Ry(0.172π)───Rz(0.152π)───X───@───────────Ry(1.93π)────Rz(0.15π)───X───@───\n",
       "                                                                             │                                        │\n",
       "(0, 2): ───H───Rz(-0.257π)───H───Rz(-0.257π)───Ry(0.991π)───Rz(1.87π)────@───X───────────Ry(1.09π)────Rz(0.98π)───@───X───\n",
       "                                                                         │                                        │\n",
       "(0, 3): ───H───Rz(0.177π)────H───Rz(0.177π)────Ry(0.157π)───Rz(1.16π)────X───────────────Ry(1.89π)────Rz(1.7π)────X───────</pre>"
      ],
      "text/plain": [
       "(0, 0): ───H───Rz(0.474π)────H───Rz(0.474π)────Ry(1.42π)────Rz(0.446π)───@───Ry(1.38π)───Rz(0.002π)───────────────@───────\n",
       "                                                                         │                                        │\n",
       "(0, 1): ───H───Rz(0.215π)────H───Rz(0.215π)────Ry(0.172π)───Rz(0.152π)───X───@───────────Ry(1.93π)────Rz(0.15π)───X───@───\n",
       "                                                                             │                                        │\n",
       "(0, 2): ───H───Rz(-0.257π)───H───Rz(-0.257π)───Ry(0.991π)───Rz(1.87π)────@───X───────────Ry(1.09π)────Rz(0.98π)───@───X───\n",
       "                                                                         │                                        │\n",
       "(0, 3): ───H───Rz(0.177π)────H───Rz(0.177π)────Ry(0.157π)───Rz(1.16π)────X───────────────Ry(1.89π)────Rz(1.7π)────X───────"
      ]
     },
     "execution_count": 20,
     "metadata": {},
     "output_type": "execute_result"
    }
   ],
   "source": [
    "combined_circuits_2[0]"
   ]
  },
  {
   "cell_type": "markdown",
   "id": "a620a2dd",
   "metadata": {},
   "source": [
    "Let's check the result by simulating the resolved circuit for the quantum filter(s)"
   ]
  },
  {
   "cell_type": "code",
   "execution_count": 21,
   "id": "80e5b5fb",
   "metadata": {},
   "outputs": [],
   "source": [
    "output_from_resolved_circuits_1 = []\n",
    "output_from_resolved_circuits_2 = []\n",
    "for cq1, cq2 in zip(combined_circuits_1, combined_circuits_2):\n",
    "    output_1 = cq1.get_expectation(operators=readout_2x2, repetitions=1000000)[0, 0]\n",
    "    output_2 = cq2.get_expectation(operators=readout_2x2, repetitions=1000000)[0, 0]\n",
    "    output_from_resolved_circuits_1.append(output_1)\n",
    "    output_from_resolved_circuits_2.append(output_2)\n",
    "output_from_resolved_circuits_1 = np.reshape(output_from_resolved_circuits_1, (sample_size, 3, 3))\n",
    "output_from_resolved_circuits_2 = np.reshape(output_from_resolved_circuits_2, (sample_size, 3, 3))"
   ]
  },
  {
   "cell_type": "code",
   "execution_count": 22,
   "id": "0b8ed1d4",
   "metadata": {},
   "outputs": [
    {
     "name": "stdout",
     "output_type": "stream",
     "text": [
      "Validation output from first filter:\n"
     ]
    },
    {
     "data": {
      "text/plain": [
       "<module 'matplotlib.pyplot' from '/afs/cern.ch/work/c/chlcheng/public/local/conda/miniconda/envs/ml-base/lib/python3.7/site-packages/matplotlib/pyplot.py'>"
      ]
     },
     "execution_count": 22,
     "metadata": {},
     "output_type": "execute_result"
    },
    {
     "data": {
      "text/plain": [
       "<Figure size 432x288 with 0 Axes>"
      ]
     },
     "metadata": {},
     "output_type": "display_data"
    },
    {
     "data": {
      "image/png": "[encoded data removed]",
      "text/plain": [
       "<Figure size 1440x648 with 10 Axes>"
      ]
     },
     "metadata": {
      "needs_background": "light"
     },
     "output_type": "display_data"
    }
   ],
   "source": [
    "print(\"Validation output from first filter:\")\n",
    "visualize_images(output_from_resolved_circuits_1, columns=5)"
   ]
  },
  {
   "cell_type": "code",
   "execution_count": 23,
   "id": "f09f303b",
   "metadata": {},
   "outputs": [
    {
     "name": "stdout",
     "output_type": "stream",
     "text": [
      "Validation output from second filter:\n"
     ]
    },
    {
     "data": {
      "text/plain": [
       "<module 'matplotlib.pyplot' from '/afs/cern.ch/work/c/chlcheng/public/local/conda/miniconda/envs/ml-base/lib/python3.7/site-packages/matplotlib/pyplot.py'>"
      ]
     },
     "execution_count": 23,
     "metadata": {},
     "output_type": "execute_result"
    },
    {
     "data": {
      "text/plain": [
       "<Figure size 432x288 with 0 Axes>"
      ]
     },
     "metadata": {},
     "output_type": "display_data"
    },
    {
     "data": {
      "image/png": "[encoded data removed]",
      "text/plain": [
       "<Figure size 1440x648 with 10 Axes>"
      ]
     },
     "metadata": {
      "needs_background": "light"
     },
     "output_type": "display_data"
    }
   ],
   "source": [
    "print(\"Validation output from second filter:\")\n",
    "visualize_images(output_from_resolved_circuits_2, columns=5)"
   ]
  },
  {
   "cell_type": "markdown",
   "id": "ec747770",
   "metadata": {},
   "source": [
    "### Comparing results\n",
    "\n",
    "Here we compare the results obtained from\n",
    "1. QConv2D\n",
    "2. Manually resolving quantul filter circuit and evaluate the expection value of operators"
   ]
  },
  {
   "cell_type": "code",
   "execution_count": 24,
   "id": "a0d220a1",
   "metadata": {},
   "outputs": [
    {
     "data": {
      "text/plain": [
       "array([[[-1.5299022e-04,  9.8049641e-04, -1.0008179e-03],\n",
       "        [-4.9996376e-04,  8.3410740e-04, -8.8033080e-04],\n",
       "        [ 9.6946955e-04,  3.8565695e-04, -1.5753508e-04]],\n",
       "\n",
       "       [[ 1.0838509e-03, -3.2949448e-04, -1.2893155e-03],\n",
       "        [ 6.7412853e-04, -9.0897083e-07,  3.5485625e-04],\n",
       "        [-5.1921606e-04, -3.6156178e-04, -5.9112906e-05]],\n",
       "\n",
       "       [[ 1.0201335e-04,  4.6968460e-05, -2.1538138e-04],\n",
       "        [-3.8778782e-04, -3.3974648e-05, -1.2436509e-04],\n",
       "        [-1.5853345e-04,  6.9226325e-04,  5.6475401e-04]],\n",
       "\n",
       "       [[ 5.6231022e-04, -1.8405318e-03,  5.0875545e-04],\n",
       "        [-6.1070919e-04, -1.8662214e-04, -1.6538501e-03],\n",
       "        [ 2.2648275e-04,  1.6269982e-03,  4.0277839e-05]],\n",
       "\n",
       "       [[ 1.9466877e-04, -1.5837550e-03, -5.9580803e-04],\n",
       "        [-1.1562705e-03, -2.4271011e-04,  8.5761398e-04],\n",
       "        [ 1.6254187e-03,  9.9053979e-04,  1.8909574e-04]],\n",
       "\n",
       "       [[ 8.8806450e-04,  2.2664070e-03, -1.5537143e-03],\n",
       "        [-2.0178705e-03, -1.5974045e-04, -1.3592094e-04],\n",
       "        [ 3.6644936e-04,  5.7390332e-04, -5.6278706e-04]],\n",
       "\n",
       "       [[ 6.9373846e-04, -4.9865246e-04,  1.8255115e-03],\n",
       "        [ 8.3330274e-04,  1.2782216e-04, -3.7795305e-04],\n",
       "        [ 9.8332763e-04, -9.4845891e-04, -8.0363452e-04]],\n",
       "\n",
       "       [[-7.7500939e-04,  5.6773424e-04, -5.2326918e-04],\n",
       "        [-2.3582578e-04,  6.2167645e-04,  9.1224909e-04],\n",
       "        [-4.5329332e-05,  7.2771311e-04, -8.3118677e-05]],\n",
       "\n",
       "       [[ 9.4220042e-05, -4.2420626e-04, -1.1197105e-04],\n",
       "        [-2.9699504e-04, -2.1100044e-04,  1.2872815e-03],\n",
       "        [ 1.4460832e-03, -2.7340651e-04,  1.2054145e-03]],\n",
       "\n",
       "       [[ 2.0092726e-04, -2.0229816e-04,  7.1913004e-05],\n",
       "        [-1.6028285e-03,  1.2886673e-03,  1.5884489e-03],\n",
       "        [ 2.5051832e-04,  2.1964312e-04, -6.5928698e-04]]], dtype=float32)"
      ]
     },
     "execution_count": 24,
     "metadata": {},
     "output_type": "execute_result"
    }
   ],
   "source": [
    "# for first filter\n",
    "output_from_resolved_circuits_1 - reshaped_output_1"
   ]
  },
  {
   "cell_type": "code",
   "execution_count": 25,
   "id": "a23e888b",
   "metadata": {},
   "outputs": [
    {
     "data": {
      "text/plain": [
       "array([[[-5.7804585e-04, -1.5999377e-04,  1.5589595e-04],\n",
       "        [ 1.0895729e-03,  2.3336634e-03,  6.7928433e-04],\n",
       "        [ 1.8140376e-03, -3.9190054e-05,  1.4349818e-05]],\n",
       "\n",
       "       [[ 1.3648197e-03,  1.1536125e-03,  1.3526380e-03],\n",
       "        [ 3.5551935e-04, -1.1617243e-03,  6.7287683e-04],\n",
       "        [ 7.5891614e-05,  1.0305643e-03,  2.9720366e-04]],\n",
       "\n",
       "       [[ 6.9141388e-06, -1.5332550e-04,  1.5339851e-03],\n",
       "        [ 1.7271638e-03, -1.1091679e-03,  1.5018508e-03],\n",
       "        [ 4.3013692e-04,  1.3006842e-03,  1.7219782e-04]],\n",
       "\n",
       "       [[-2.0830035e-03, -5.2526593e-04, -7.2412938e-04],\n",
       "        [-9.1007352e-04,  7.1793795e-05, -8.3893538e-04],\n",
       "        [ 4.6295673e-04,  6.3160062e-04,  9.5413625e-04]],\n",
       "\n",
       "       [[ 8.6668134e-04,  8.3248317e-04, -9.9337101e-04],\n",
       "        [ 6.0606748e-04, -2.0386279e-04, -1.2503937e-04],\n",
       "        [-6.3583627e-04, -2.5697052e-04,  8.2671642e-04]],\n",
       "\n",
       "       [[ 5.4465234e-04,  1.0800734e-04,  1.2296140e-03],\n",
       "        [-2.4126470e-04,  1.5266985e-03,  2.7483702e-04],\n",
       "        [-2.3567677e-04,  8.8933739e-04,  1.3943911e-03]],\n",
       "\n",
       "       [[-4.8145279e-04,  1.0320209e-03, -9.6768141e-04],\n",
       "        [ 7.6688081e-04,  3.7821531e-03,  8.4817410e-05],\n",
       "        [ 7.3736906e-04, -7.7890605e-04, -3.0151010e-04]],\n",
       "\n",
       "       [[ 4.9347430e-04, -5.9002638e-04,  9.7364187e-05],\n",
       "        [ 8.3048537e-04,  8.4244460e-04,  6.8962574e-04],\n",
       "        [ 2.1761307e-04, -3.9400160e-04, -9.7402930e-04]],\n",
       "\n",
       "       [[-3.1892657e-03,  6.2903762e-04,  1.3291836e-05],\n",
       "        [-1.5733615e-03,  5.5177510e-04, -1.2143850e-03],\n",
       "        [-1.0811836e-03,  2.2675470e-04,  1.5505701e-03]],\n",
       "\n",
       "       [[ 9.9961367e-04, -4.5791268e-05,  1.5410781e-04],\n",
       "        [ 1.5904568e-03,  8.9101307e-04, -4.9842894e-04],\n",
       "        [ 9.7996742e-04,  2.8978288e-04,  1.1793971e-03]]], dtype=float32)"
      ]
     },
     "execution_count": 25,
     "metadata": {},
     "output_type": "execute_result"
    }
   ],
   "source": [
    "# for second filter\n",
    "output_from_resolved_circuits_2 - reshaped_output_2"
   ]
  },
  {
   "cell_type": "markdown",
   "id": "67a73d86",
   "metadata": {},
   "source": [
    "The major reason for the small difference is due to simulation using sampling for the resolved circuit method versus the analytic simulation for the tfq default simulator"
   ]
  },
  {
   "cell_type": "markdown",
   "id": "92f53ab5",
   "metadata": {},
   "source": [
    "## 3. Create a simple CNN model from QConv2D"
   ]
  },
  {
   "cell_type": "markdown",
   "id": "4654594f",
   "metadata": {},
   "source": [
    "To demonstrate, we create two classes of easily distinguishable 4x4 images. \n",
    "\n",
    "- A total of 1000 samples are used, half for each class. \n",
    "- 500 samples are used for training, 250 for validation, 250 for testing"
   ]
  },
  {
   "cell_type": "code",
   "execution_count": 26,
   "id": "546dab75",
   "metadata": {},
   "outputs": [],
   "source": [
    "# for reproducibility\n",
    "np.random.seed(2021)\n",
    "sample_size = 500\n",
    "x_class_1 = np.random.normal(1, 0.1, size=(sample_size, 4, 4))\n",
    "x_class_2 = np.random.normal(1, 0.1, size=(sample_size, 4, 4))\n",
    "mesh_1 = np.array([[0, 1, 1, 0],\n",
    "                   [1, 0, 0, 1],\n",
    "                   [1, 0, 0, 1],\n",
    "                   [0, 1, 1, 0]])\n",
    "mesh_2 = np.array([[1, 0, 0, 1],\n",
    "                   [0, 1, 1, 0],\n",
    "                   [0, 1, 1, 0],\n",
    "                   [1, 0, 0, 1]])\n",
    "x_class_1 = x_class_1 - mesh_1\n",
    "x_class_2 = x_class_2 - mesh_2\n",
    "from quple.utils.data_preparation import rescale_data\n",
    "x_class_1 = rescale_data(x_class_1, val_range=(-1, 1))\n",
    "x_class_2 = rescale_data(x_class_2, val_range=(-1, 1))"
   ]
  },
  {
   "cell_type": "code",
   "execution_count": 27,
   "id": "c55a78fb",
   "metadata": {},
   "outputs": [
    {
     "name": "stdout",
     "output_type": "stream",
     "text": [
      "Class 1 image:\n"
     ]
    },
    {
     "data": {
      "text/plain": [
       "<module 'matplotlib.pyplot' from '/afs/cern.ch/work/c/chlcheng/public/local/conda/miniconda/envs/ml-base/lib/python3.7/site-packages/matplotlib/pyplot.py'>"
      ]
     },
     "execution_count": 27,
     "metadata": {},
     "output_type": "execute_result"
    },
    {
     "data": {
      "text/plain": [
       "<Figure size 432x288 with 0 Axes>"
      ]
     },
     "metadata": {},
     "output_type": "display_data"
    },
    {
     "data": {
      "image/png": "[encoded data removed]",
      "text/plain": [
       "<Figure size 1440x1080 with 20 Axes>"
      ]
     },
     "metadata": {
      "needs_background": "light"
     },
     "output_type": "display_data"
    }
   ],
   "source": [
    "print(\"Class 1 image:\")\n",
    "visualize_images(x_class_1[:20], columns=5)"
   ]
  },
  {
   "cell_type": "code",
   "execution_count": 28,
   "id": "5ac03e5e",
   "metadata": {},
   "outputs": [
    {
     "name": "stdout",
     "output_type": "stream",
     "text": [
      "Class 2 image:\n"
     ]
    },
    {
     "data": {
      "text/plain": [
       "<module 'matplotlib.pyplot' from '/afs/cern.ch/work/c/chlcheng/public/local/conda/miniconda/envs/ml-base/lib/python3.7/site-packages/matplotlib/pyplot.py'>"
      ]
     },
     "execution_count": 28,
     "metadata": {},
     "output_type": "execute_result"
    },
    {
     "data": {
      "text/plain": [
       "<Figure size 432x288 with 0 Axes>"
      ]
     },
     "metadata": {},
     "output_type": "display_data"
    },
    {
     "data": {
      "image/png": "[encoded data removed]",
      "text/plain": [
       "<Figure size 1440x1080 with 20 Axes>"
      ]
     },
     "metadata": {
      "needs_background": "light"
     },
     "output_type": "display_data"
    }
   ],
   "source": [
    "print(\"Class 2 image:\")\n",
    "visualize_images(x_class_2[:20], columns=5)"
   ]
  },
  {
   "cell_type": "markdown",
   "id": "ae6cb864",
   "metadata": {},
   "source": [
    "Create training, validation and test datasets"
   ]
  },
  {
   "cell_type": "code",
   "execution_count": 29,
   "id": "a30ed49d",
   "metadata": {},
   "outputs": [],
   "source": [
    "x = np.concatenate((x_class_1, x_class_2))\n",
    "y = np.concatenate((np.zeros(sample_size), np.ones(sample_size)))\n",
    "from sklearn.utils import shuffle\n",
    "x, y = shuffle(x, y, random_state=2021)\n",
    "x_train = x[:500]\n",
    "y_train = y[:500]\n",
    "x_val = x[500:750]\n",
    "y_val = y[500:750]\n",
    "x_test = x[750:]\n",
    "y_test = y[750:]"
   ]
  },
  {
   "cell_type": "code",
   "execution_count": 30,
   "id": "75d17fcd",
   "metadata": {},
   "outputs": [
    {
     "name": "stdout",
     "output_type": "stream",
     "text": [
      "Train image:\n"
     ]
    },
    {
     "data": {
      "text/plain": [
       "<module 'matplotlib.pyplot' from '/afs/cern.ch/work/c/chlcheng/public/local/conda/miniconda/envs/ml-base/lib/python3.7/site-packages/matplotlib/pyplot.py'>"
      ]
     },
     "execution_count": 30,
     "metadata": {},
     "output_type": "execute_result"
    },
    {
     "data": {
      "text/plain": [
       "<Figure size 432x288 with 0 Axes>"
      ]
     },
     "metadata": {},
     "output_type": "display_data"
    },
    {
     "data": {
      "image/png": "[encoded data removed]",
      "text/plain": [
       "<Figure size 1440x1080 with 20 Axes>"
      ]
     },
     "metadata": {
      "needs_background": "light"
     },
     "output_type": "display_data"
    }
   ],
   "source": [
    "print(\"Train image:\")\n",
    "visualize_images(x_train[:20], columns=5)"
   ]
  },
  {
   "cell_type": "markdown",
   "id": "1fb06cec",
   "metadata": {},
   "source": [
    "Now create a QCNN model with the following architecture:\n",
    "1. one Conv2D layer with 2x2 kernel, 1 filter and 1x1 stride -> output 8x8 image\n",
    "2. one Conv2D layer with 2x2 kernel, 1 filter and 2x2 stride -> output 4x4 image\n",
    "3. one PQC layer with 4 qubits -> output classification score"
   ]
  },
  {
   "cell_type": "code",
   "execution_count": 31,
   "id": "9a79ac7b",
   "metadata": {},
   "outputs": [
    {
     "data": {
      "text/html": [
       "<pre style=\"overflow: auto; white-space: pre;\">(0, 0): ───H───Rz(pi*&lt;x_0/pi&gt;)───H───Rz(pi*&lt;x_0/pi&gt;)───\n",
       "\n",
       "(0, 1): ───H───Rz(pi*&lt;x_1/pi&gt;)───H───Rz(pi*&lt;x_1/pi&gt;)───\n",
       "\n",
       "(0, 2): ───H───Rz(pi*&lt;x_2/pi&gt;)───H───Rz(pi*&lt;x_2/pi&gt;)───\n",
       "\n",
       "(0, 3): ───H───Rz(pi*&lt;x_3/pi&gt;)───H───Rz(pi*&lt;x_3/pi&gt;)───</pre>"
      ],
      "text/plain": [
       "(0, 0): ───H───Rz(pi*<x_0/pi>)───H───Rz(pi*<x_0/pi>)───\n",
       "\n",
       "(0, 1): ───H───Rz(pi*<x_1/pi>)───H───Rz(pi*<x_1/pi>)───\n",
       "\n",
       "(0, 2): ───H───Rz(pi*<x_2/pi>)───H───Rz(pi*<x_2/pi>)───\n",
       "\n",
       "(0, 3): ───H───Rz(pi*<x_3/pi>)───H───Rz(pi*<x_3/pi>)───"
      ]
     },
     "execution_count": 31,
     "metadata": {},
     "output_type": "execute_result"
    }
   ],
   "source": [
    "data_circuit_2x2 = FirstOrderPauliZEncoding(feature_dimension=4, copies=2, parameter_scale=1)\n",
    "data_circuit_2x2"
   ]
  },
  {
   "cell_type": "code",
   "execution_count": 32,
   "id": "8ed726b6",
   "metadata": {},
   "outputs": [
    {
     "data": {
      "text/html": [
       "<pre style=\"overflow: auto; white-space: pre;\">(0, 0): ───Ry(θ_0)───Rz(θ_4)───@───Ry(θ_8)───Rz(θ_12)──────────────@───Ry(θ_16)───Rz(θ_20)──────────────\n",
       "                               │                                   │\n",
       "(0, 1): ───Ry(θ_1)───Rz(θ_5)───X───@─────────Ry(θ_9)────Rz(θ_13)───X───@──────────Ry(θ_17)───Rz(θ_21)───\n",
       "                                   │                                   │\n",
       "(0, 2): ───Ry(θ_2)───Rz(θ_6)───@───X─────────Ry(θ_10)───Rz(θ_14)───@───X──────────Ry(θ_18)───Rz(θ_22)───\n",
       "                               │                                   │\n",
       "(0, 3): ───Ry(θ_3)───Rz(θ_7)───X─────────────Ry(θ_11)───Rz(θ_15)───X──────────────Ry(θ_19)───Rz(θ_23)───</pre>"
      ],
      "text/plain": [
       "(0, 0): ───Ry(θ_0)───Rz(θ_4)───@───Ry(θ_8)───Rz(θ_12)──────────────@───Ry(θ_16)───Rz(θ_20)──────────────\n",
       "                               │                                   │\n",
       "(0, 1): ───Ry(θ_1)───Rz(θ_5)───X───@─────────Ry(θ_9)────Rz(θ_13)───X───@──────────Ry(θ_17)───Rz(θ_21)───\n",
       "                                   │                                   │\n",
       "(0, 2): ───Ry(θ_2)───Rz(θ_6)───@───X─────────Ry(θ_10)───Rz(θ_14)───@───X──────────Ry(θ_18)───Rz(θ_22)───\n",
       "                               │                                   │\n",
       "(0, 3): ───Ry(θ_3)───Rz(θ_7)───X─────────────Ry(θ_11)───Rz(θ_15)───X──────────────Ry(θ_19)───Rz(θ_23)───"
      ]
     },
     "execution_count": 32,
     "metadata": {},
     "output_type": "execute_result"
    }
   ],
   "source": [
    "kernel_circuit_2x2 = ParameterisedCircuit(n_qubit=4, copies=2, \n",
    "                                      rotation_blocks=[\"RY\", \"RZ\"],\n",
    "                                      entanglement_blocks=[\"CX\"],\n",
    "                                      entangle_strategy=\"alternate_linear\",\n",
    "                                      final_rotation_layer=True)\n",
    "kernel_circuit_2x2"
   ]
  },
  {
   "cell_type": "code",
   "execution_count": 33,
   "id": "628c3f62",
   "metadata": {},
   "outputs": [
    {
     "data": {
      "text/plain": [
       "[cirq.Z(cirq.GridQubit(0, 3))]"
      ]
     },
     "execution_count": 33,
     "metadata": {},
     "output_type": "execute_result"
    }
   ],
   "source": [
    "# measure the last qubit\n",
    "readout_2x2 = kernel_circuit_2x2.get_gate_operation(\"Z\", kernel_circuit_2x2.qubits[-1])\n",
    "readout_2x2"
   ]
  },
  {
   "cell_type": "code",
   "execution_count": 34,
   "id": "ec63b039",
   "metadata": {},
   "outputs": [
    {
     "data": {
      "text/html": [
       "<pre style=\"overflow: auto; white-space: pre;\">(0, 0): ───H───Rz(pi*&lt;x_0/pi&gt;)───H───Rz(pi*&lt;x_0/pi&gt;)───\n",
       "\n",
       "(0, 1): ───H───Rz(pi*&lt;x_1/pi&gt;)───H───Rz(pi*&lt;x_1/pi&gt;)───\n",
       "\n",
       "(0, 2): ───H───Rz(pi*&lt;x_2/pi&gt;)───H───Rz(pi*&lt;x_2/pi&gt;)───\n",
       "\n",
       "(0, 3): ───H───Rz(pi*&lt;x_3/pi&gt;)───H───Rz(pi*&lt;x_3/pi&gt;)───</pre>"
      ],
      "text/plain": [
       "(0, 0): ───H───Rz(pi*<x_0/pi>)───H───Rz(pi*<x_0/pi>)───\n",
       "\n",
       "(0, 1): ───H───Rz(pi*<x_1/pi>)───H───Rz(pi*<x_1/pi>)───\n",
       "\n",
       "(0, 2): ───H───Rz(pi*<x_2/pi>)───H───Rz(pi*<x_2/pi>)───\n",
       "\n",
       "(0, 3): ───H───Rz(pi*<x_3/pi>)───H───Rz(pi*<x_3/pi>)───"
      ]
     },
     "execution_count": 34,
     "metadata": {},
     "output_type": "execute_result"
    }
   ],
   "source": [
    "PQC_data_circuit = FirstOrderPauliZEncoding(feature_dimension=4, copies=2, parameter_scale=1)\n",
    "PQC_data_circuit"
   ]
  },
  {
   "cell_type": "code",
   "execution_count": 35,
   "id": "601c2901",
   "metadata": {},
   "outputs": [
    {
     "data": {
      "text/html": [
       "<pre style=\"overflow: auto; white-space: pre;\">(0, 0): ───Ry(θ_0)───Rz(θ_4)───ZZ─────────────────────XX──────────Ry(θ_14)────Rz(θ_18)──────────────ZZ──────────────────────XX──────────Ry(θ_28)────Rz(θ_32)──────────────ZZ──────────────────────XX──────────────────────\n",
       "                               │                      │                                             │                       │                                             │                       │\n",
       "(0, 1): ───Ry(θ_1)───Rz(θ_5)───ZZ^(θ_8)───ZZ──────────XX^(θ_11)───XX──────────Ry(θ_15)───Rz(θ_19)───ZZ^(θ_22)───ZZ──────────XX^(θ_25)───XX──────────Ry(θ_29)───Rz(θ_33)───ZZ^(θ_36)───ZZ──────────XX^(θ_39)───XX──────────\n",
       "                                          │                       │                                             │                       │                                             │                       │\n",
       "(0, 2): ───Ry(θ_2)───Rz(θ_6)───ZZ─────────ZZ^(θ_10)───XX──────────XX^(θ_13)───Ry(θ_16)───Rz(θ_20)───ZZ──────────ZZ^(θ_24)───XX──────────XX^(θ_27)───Ry(θ_30)───Rz(θ_34)───ZZ──────────ZZ^(θ_38)───XX──────────XX^(θ_41)───\n",
       "                               │                      │                                             │                       │                                             │                       │\n",
       "(0, 3): ───Ry(θ_3)───Rz(θ_7)───ZZ^(θ_9)───────────────XX^(θ_12)───────────────Ry(θ_17)───Rz(θ_21)───ZZ^(θ_23)───────────────XX^(θ_26)───────────────Ry(θ_31)───Rz(θ_35)───ZZ^(θ_37)───────────────XX^(θ_40)───────────────</pre>"
      ],
      "text/plain": [
       "(0, 0): ───Ry(θ_0)───Rz(θ_4)───ZZ─────────────────────XX──────────Ry(θ_14)────Rz(θ_18)──────────────ZZ──────────────────────XX──────────Ry(θ_28)────Rz(θ_32)──────────────ZZ──────────────────────XX──────────────────────\n",
       "                               │                      │                                             │                       │                                             │                       │\n",
       "(0, 1): ───Ry(θ_1)───Rz(θ_5)───ZZ^(θ_8)───ZZ──────────XX^(θ_11)───XX──────────Ry(θ_15)───Rz(θ_19)───ZZ^(θ_22)───ZZ──────────XX^(θ_25)───XX──────────Ry(θ_29)───Rz(θ_33)───ZZ^(θ_36)───ZZ──────────XX^(θ_39)───XX──────────\n",
       "                                          │                       │                                             │                       │                                             │                       │\n",
       "(0, 2): ───Ry(θ_2)───Rz(θ_6)───ZZ─────────ZZ^(θ_10)───XX──────────XX^(θ_13)───Ry(θ_16)───Rz(θ_20)───ZZ──────────ZZ^(θ_24)───XX──────────XX^(θ_27)───Ry(θ_30)───Rz(θ_34)───ZZ──────────ZZ^(θ_38)───XX──────────XX^(θ_41)───\n",
       "                               │                      │                                             │                       │                                             │                       │\n",
       "(0, 3): ───Ry(θ_3)───Rz(θ_7)───ZZ^(θ_9)───────────────XX^(θ_12)───────────────Ry(θ_17)───Rz(θ_21)───ZZ^(θ_23)───────────────XX^(θ_26)───────────────Ry(θ_31)───Rz(θ_35)───ZZ^(θ_37)───────────────XX^(θ_40)───────────────"
      ]
     },
     "execution_count": 35,
     "metadata": {},
     "output_type": "execute_result"
    }
   ],
   "source": [
    "PQC_model_circuit = ParameterisedCircuit(n_qubit=4, copies=3, \n",
    "                                      rotation_blocks=[\"RY\", \"RZ\"],\n",
    "                                      entanglement_blocks=[\"ZZ\", \"XX\"],\n",
    "                                      entangle_strategy=\"alternate_linear\")\n",
    "PQC_model_circuit"
   ]
  },
  {
   "cell_type": "code",
   "execution_count": 36,
   "id": "9ff65496",
   "metadata": {},
   "outputs": [
    {
     "data": {
      "text/plain": [
       "[cirq.Z(cirq.GridQubit(0, 3))]"
      ]
     },
     "execution_count": 36,
     "metadata": {},
     "output_type": "execute_result"
    }
   ],
   "source": [
    "# measure the last qubit\n",
    "PQC_readout = PQC_model_circuit.get_gate_operation(\"Z\", PQC_model_circuit.qubits[-1])\n",
    "PQC_readout"
   ]
  },
  {
   "cell_type": "code",
   "execution_count": 46,
   "id": "d3a1f3ee",
   "metadata": {},
   "outputs": [],
   "source": [
    "model = tf.keras.Sequential()\n",
    "model.add(tf.keras.layers.Input(shape=(4, 4), dtype=tf.float32))\n",
    "model.add(QConv2D(kernel_circuit_2x2, data_circuit_2x2, readout_2x2, kernel_size=(2, 2), \n",
    "                    filters=1, strides=(1, 1), padding=\"same\", seed=2021))\n",
    "model.add(QConv2D(kernel_circuit_2x2, data_circuit_2x2, readout_2x2, kernel_size=(2, 2), \n",
    "                    filters=1, strides=(2, 2), padding=\"same\", seed=2022))\n",
    "model.add(tf.keras.layers.Flatten())\n",
    "model.add(PQC(PQC_model_circuit, PQC_data_circuit, PQC_readout, seed=2023))"
   ]
  },
  {
   "cell_type": "code",
   "execution_count": 39,
   "id": "6f00d086",
   "metadata": {},
   "outputs": [],
   "source": [
    "tf.random.set_seed(2021)\n",
    "model.compile(optimizer=\"adam\", loss=\"mse\", metrics=['binary_accuracy'])"
   ]
  },
  {
   "cell_type": "markdown",
   "id": "3ecf84bd",
   "metadata": {},
   "source": [
    "No train the model. \n",
    "\n",
    "In the first few epochs, the accuracy is not going up. This is probably due to the sharp boundary of the images. \n",
    "\n",
    "At around 8 epochs, the CNN classifier reached perfect accuracy."
   ]
  },
  {
   "cell_type": "code",
   "execution_count": 40,
   "id": "2ac9ed42",
   "metadata": {},
   "outputs": [
    {
     "name": "stdout",
     "output_type": "stream",
     "text": [
      "Epoch 1/15\n",
      "32/32 [==============================] - 9s 247ms/step - loss: 1.7425 - binary_accuracy: 0.4768 - val_loss: 1.2240 - val_binary_accuracy: 0.5520\n",
      "Epoch 2/15\n",
      "32/32 [==============================] - 7s 214ms/step - loss: 1.3332 - binary_accuracy: 0.4342 - val_loss: 0.7477 - val_binary_accuracy: 0.5520\n",
      "Epoch 3/15\n",
      "32/32 [==============================] - 7s 214ms/step - loss: 0.7535 - binary_accuracy: 0.4742 - val_loss: 0.4181 - val_binary_accuracy: 0.5520\n",
      "Epoch 4/15\n",
      "32/32 [==============================] - 7s 216ms/step - loss: 0.4724 - binary_accuracy: 0.4387 - val_loss: 0.2839 - val_binary_accuracy: 0.5520\n",
      "Epoch 5/15\n",
      "32/32 [==============================] - 7s 213ms/step - loss: 0.3044 - binary_accuracy: 0.4736 - val_loss: 0.2392 - val_binary_accuracy: 0.5520\n",
      "Epoch 6/15\n",
      "32/32 [==============================] - 7s 214ms/step - loss: 0.2516 - binary_accuracy: 0.4798 - val_loss: 0.2208 - val_binary_accuracy: 0.5520\n",
      "Epoch 7/15\n",
      "32/32 [==============================] - 7s 214ms/step - loss: 0.2263 - binary_accuracy: 0.4803 - val_loss: 0.2035 - val_binary_accuracy: 0.5520\n",
      "Epoch 8/15\n",
      "32/32 [==============================] - 7s 214ms/step - loss: 0.2036 - binary_accuracy: 0.6771 - val_loss: 0.1822 - val_binary_accuracy: 1.0000\n",
      "Epoch 9/15\n",
      "32/32 [==============================] - 7s 214ms/step - loss: 0.1811 - binary_accuracy: 1.0000 - val_loss: 0.1607 - val_binary_accuracy: 1.0000\n",
      "Epoch 10/15\n",
      "32/32 [==============================] - 7s 213ms/step - loss: 0.1603 - binary_accuracy: 1.0000 - val_loss: 0.1396 - val_binary_accuracy: 1.0000\n",
      "Epoch 11/15\n",
      "32/32 [==============================] - 7s 213ms/step - loss: 0.1391 - binary_accuracy: 1.0000 - val_loss: 0.1175 - val_binary_accuracy: 1.0000\n",
      "Epoch 12/15\n",
      "32/32 [==============================] - 7s 213ms/step - loss: 0.1182 - binary_accuracy: 1.0000 - val_loss: 0.0976 - val_binary_accuracy: 1.0000\n",
      "Epoch 13/15\n",
      "32/32 [==============================] - 7s 214ms/step - loss: 0.0994 - binary_accuracy: 1.0000 - val_loss: 0.0796 - val_binary_accuracy: 1.0000\n",
      "Epoch 14/15\n",
      "32/32 [==============================] - 7s 214ms/step - loss: 0.0795 - binary_accuracy: 1.0000 - val_loss: 0.0651 - val_binary_accuracy: 1.0000\n",
      "Epoch 15/15\n",
      "32/32 [==============================] - 7s 213ms/step - loss: 0.0650 - binary_accuracy: 1.0000 - val_loss: 0.0529 - val_binary_accuracy: 1.0000\n"
     ]
    },
    {
     "data": {
      "text/plain": [
       "<tensorflow.python.keras.callbacks.History at 0x7f2648c73450>"
      ]
     },
     "execution_count": 40,
     "metadata": {},
     "output_type": "execute_result"
    }
   ],
   "source": [
    "model.fit(x_train, y_train, batch_size=16, epochs=15, validation_data=(x_val, y_val))"
   ]
  },
  {
   "cell_type": "code",
   "execution_count": 41,
   "id": "583b9ef1",
   "metadata": {},
   "outputs": [
    {
     "name": "stdout",
     "output_type": "stream",
     "text": [
      "Evaluate on test data\n",
      "8/8 [==============================] - 2s 187ms/step - loss: 0.0553 - binary_accuracy: 1.0000\n",
      "test loss, test acc: [0.055333204567432404, 1.0]\n"
     ]
    }
   ],
   "source": [
    "print(\"Evaluate on test data\")\n",
    "results = model.evaluate(x_test, y_test, batch_size=32)\n",
    "print(\"test loss, test acc:\", results)"
   ]
  },
  {
   "cell_type": "code",
   "execution_count": 42,
   "id": "ec0ee74e",
   "metadata": {},
   "outputs": [],
   "source": [
    "y_pred = model.predict(x_test).flatten()"
   ]
  },
  {
   "cell_type": "code",
   "execution_count": 43,
   "id": "4b9f98cb",
   "metadata": {},
   "outputs": [],
   "source": [
    "pred_labels = np.where(y_pred < 0.5, 0., 1.)"
   ]
  },
  {
   "cell_type": "code",
   "execution_count": 44,
   "id": "29b6db2e",
   "metadata": {},
   "outputs": [
    {
     "data": {
      "text/plain": [
       "array([0., 1., 0., 1., 1., 0., 0., 0., 1., 1., 1., 1., 0., 0., 1., 1., 0.,\n",
       "       0., 1., 0., 0., 1., 0., 0., 1., 0., 1., 1., 1., 1., 0., 1., 1., 0.,\n",
       "       1., 0., 0., 1., 1., 0., 1., 0., 0., 0., 0., 1., 1., 1., 1., 1., 0.,\n",
       "       1., 0., 0., 1., 0., 0., 1., 1., 1., 1., 0., 1., 1., 1., 0., 0., 0.,\n",
       "       0., 1., 0., 1., 0., 0., 0., 0., 0., 1., 1., 0., 1., 0., 1., 0., 1.,\n",
       "       0., 1., 1., 0., 0., 1., 1., 1., 0., 0., 0., 1., 1., 1., 1.])"
      ]
     },
     "execution_count": 44,
     "metadata": {},
     "output_type": "execute_result"
    }
   ],
   "source": [
    "pred_labels[:100]"
   ]
  },
  {
   "cell_type": "code",
   "execution_count": 45,
   "id": "477b42ae",
   "metadata": {},
   "outputs": [
    {
     "data": {
      "text/plain": [
       "array([0., 1., 0., 1., 1., 0., 0., 0., 1., 1., 1., 1., 0., 0., 1., 1., 0.,\n",
       "       0., 1., 0., 0., 1., 0., 0., 1., 0., 1., 1., 1., 1., 0., 1., 1., 0.,\n",
       "       1., 0., 0., 1., 1., 0., 1., 0., 0., 0., 0., 1., 1., 1., 1., 1., 0.,\n",
       "       1., 0., 0., 1., 0., 0., 1., 1., 1., 1., 0., 1., 1., 1., 0., 0., 0.,\n",
       "       0., 1., 0., 1., 0., 0., 0., 0., 0., 1., 1., 0., 1., 0., 1., 0., 1.,\n",
       "       0., 1., 1., 0., 0., 1., 1., 1., 0., 0., 0., 1., 1., 1., 1.])"
      ]
     },
     "execution_count": 45,
     "metadata": {},
     "output_type": "execute_result"
    }
   ],
   "source": [
    "y_test[:100]"
   ]
  },
  {
   "cell_type": "markdown",
   "id": "b5b38ee0",
   "metadata": {},
   "source": [
    "Let's find out what each Conv2D layer does"
   ]
  },
  {
   "cell_type": "code",
   "execution_count": 64,
   "id": "682c3d32",
   "metadata": {},
   "outputs": [],
   "source": [
    "conv2d_layer1_output = model.layers[0](x_test)\n",
    "conv2d_layer2_output = model.layers[1](conv2d_layer1_output)"
   ]
  },
  {
   "cell_type": "code",
   "execution_count": 65,
   "id": "24eda3a8",
   "metadata": {},
   "outputs": [
    {
     "name": "stdout",
     "output_type": "stream",
     "text": [
      "Ouput from first QConv2D layer:\n"
     ]
    },
    {
     "data": {
      "text/plain": [
       "<module 'matplotlib.pyplot' from '/afs/cern.ch/work/c/chlcheng/public/local/conda/miniconda/envs/ml-base/lib/python3.7/site-packages/matplotlib/pyplot.py'>"
      ]
     },
     "execution_count": 65,
     "metadata": {},
     "output_type": "execute_result"
    },
    {
     "data": {
      "text/plain": [
       "<Figure size 432x288 with 0 Axes>"
      ]
     },
     "metadata": {},
     "output_type": "display_data"
    },
    {
     "data": {
      "image/png": "[encoded data removed]",
      "text/plain": [
       "<Figure size 1440x1080 with 20 Axes>"
      ]
     },
     "metadata": {
      "needs_background": "light"
     },
     "output_type": "display_data"
    }
   ],
   "source": [
    "print(\"Ouput from first QConv2D layer:\")\n",
    "visualize_images(conv2d_layer1_output[:20], columns=5)"
   ]
  },
  {
   "cell_type": "code",
   "execution_count": 66,
   "id": "7daa71ed",
   "metadata": {},
   "outputs": [
    {
     "name": "stdout",
     "output_type": "stream",
     "text": [
      "Ouput from second QConv2D layer:\n"
     ]
    },
    {
     "data": {
      "text/plain": [
       "<module 'matplotlib.pyplot' from '/afs/cern.ch/work/c/chlcheng/public/local/conda/miniconda/envs/ml-base/lib/python3.7/site-packages/matplotlib/pyplot.py'>"
      ]
     },
     "execution_count": 66,
     "metadata": {},
     "output_type": "execute_result"
    },
    {
     "data": {
      "text/plain": [
       "<Figure size 432x288 with 0 Axes>"
      ]
     },
     "metadata": {},
     "output_type": "display_data"
    },
    {
     "data": {
      "image/png": "[encoded data removed]",
      "text/plain": [
       "<Figure size 1440x1080 with 20 Axes>"
      ]
     },
     "metadata": {
      "needs_background": "light"
     },
     "output_type": "display_data"
    }
   ],
   "source": [
    "print(\"Ouput from second QConv2D layer:\")\n",
    "visualize_images(conv2d_layer2_output[:20], columns=5)"
   ]
  },
  {
   "cell_type": "markdown",
   "id": "3ce2213e",
   "metadata": {},
   "source": [
    "Now try another architecture:\n",
    "1. one Conv2D layer with 2x2 kernel, 4 filter and 1x1 stride -> output 8x8 image with depth 4\n",
    "2. one Conv2D layer with 2x2 kernel, 1 filter and 2x2 stride -> output 4x4 image with depth 1\n",
    "3. one PQC layer with 4 qubits -> output classification score"
   ]
  },
  {
   "cell_type": "code",
   "execution_count": 50,
   "id": "b7faf215",
   "metadata": {},
   "outputs": [],
   "source": [
    "model_2 = tf.keras.Sequential()\n",
    "model_2.add(tf.keras.layers.Input(shape=(4, 4), dtype=tf.float32))\n",
    "model_2.add(QConv2D(kernel_circuit_2x2, data_circuit_2x2, readout_2x2, kernel_size=(2, 2), \n",
    "                    filters=4, strides=(1, 1), padding=\"same\", seed=2021))\n",
    "model_2.add(QConv2D(kernel_circuit_2x2, data_circuit_2x2, readout_2x2, kernel_size=(2, 2), \n",
    "                    filters=1, strides=(2, 2), padding=\"same\", seed=2022))\n",
    "model_2.add(tf.keras.layers.Flatten())\n",
    "model_2.add(PQC(PQC_model_circuit, PQC_data_circuit, PQC_readout, seed=2023))"
   ]
  },
  {
   "cell_type": "code",
   "execution_count": 51,
   "id": "6655fa82",
   "metadata": {},
   "outputs": [],
   "source": [
    "tf.random.set_seed(2021)\n",
    "model_2.compile(optimizer=\"adam\", loss=\"mse\", metrics=['binary_accuracy'])"
   ]
  },
  {
   "cell_type": "markdown",
   "id": "37d19a7e",
   "metadata": {},
   "source": [
    "Now train the model.\n",
    "\n",
    "This time it requires around 9 epochs to reach perfect accuracy."
   ]
  },
  {
   "cell_type": "code",
   "execution_count": 52,
   "id": "9f04315a",
   "metadata": {},
   "outputs": [
    {
     "name": "stdout",
     "output_type": "stream",
     "text": [
      "Epoch 1/15\n",
      "32/32 [==============================] - 20s 604ms/step - loss: 1.7291 - binary_accuracy: 0.4768 - val_loss: 1.2456 - val_binary_accuracy: 0.5520\n",
      "Epoch 2/15\n",
      "32/32 [==============================] - 19s 603ms/step - loss: 1.3656 - binary_accuracy: 0.4342 - val_loss: 0.7774 - val_binary_accuracy: 0.5520\n",
      "Epoch 3/15\n",
      "32/32 [==============================] - 19s 604ms/step - loss: 0.7869 - binary_accuracy: 0.4742 - val_loss: 0.4404 - val_binary_accuracy: 0.5520\n",
      "Epoch 4/15\n",
      "32/32 [==============================] - 19s 599ms/step - loss: 0.4968 - binary_accuracy: 0.4387 - val_loss: 0.2962 - val_binary_accuracy: 0.5520\n",
      "Epoch 5/15\n",
      "32/32 [==============================] - 19s 603ms/step - loss: 0.3172 - binary_accuracy: 0.4736 - val_loss: 0.2511 - val_binary_accuracy: 0.5520\n",
      "Epoch 6/15\n",
      "32/32 [==============================] - 19s 602ms/step - loss: 0.2648 - binary_accuracy: 0.4798 - val_loss: 0.2397 - val_binary_accuracy: 0.5520\n",
      "Epoch 7/15\n",
      "32/32 [==============================] - 19s 602ms/step - loss: 0.2461 - binary_accuracy: 0.4803 - val_loss: 0.2317 - val_binary_accuracy: 0.5520\n",
      "Epoch 8/15\n",
      "32/32 [==============================] - 19s 601ms/step - loss: 0.2324 - binary_accuracy: 0.4944 - val_loss: 0.2171 - val_binary_accuracy: 0.5520\n",
      "Epoch 9/15\n",
      "32/32 [==============================] - 19s 604ms/step - loss: 0.2167 - binary_accuracy: 0.6693 - val_loss: 0.2012 - val_binary_accuracy: 1.0000\n",
      "Epoch 10/15\n",
      "32/32 [==============================] - 19s 601ms/step - loss: 0.2008 - binary_accuracy: 1.0000 - val_loss: 0.1848 - val_binary_accuracy: 1.0000\n",
      "Epoch 11/15\n",
      "32/32 [==============================] - 19s 600ms/step - loss: 0.1835 - binary_accuracy: 1.0000 - val_loss: 0.1657 - val_binary_accuracy: 1.0000\n",
      "Epoch 12/15\n",
      "32/32 [==============================] - 19s 603ms/step - loss: 0.1660 - binary_accuracy: 1.0000 - val_loss: 0.1482 - val_binary_accuracy: 1.0000\n",
      "Epoch 13/15\n",
      "32/32 [==============================] - 19s 598ms/step - loss: 0.1485 - binary_accuracy: 1.0000 - val_loss: 0.1293 - val_binary_accuracy: 1.0000\n",
      "Epoch 14/15\n",
      "32/32 [==============================] - 19s 604ms/step - loss: 0.1287 - binary_accuracy: 1.0000 - val_loss: 0.1136 - val_binary_accuracy: 1.0000\n",
      "Epoch 15/15\n",
      "32/32 [==============================] - 19s 601ms/step - loss: 0.1123 - binary_accuracy: 1.0000 - val_loss: 0.0976 - val_binary_accuracy: 1.0000\n"
     ]
    },
    {
     "data": {
      "text/plain": [
       "<tensorflow.python.keras.callbacks.History at 0x7f252e91edd0>"
      ]
     },
     "execution_count": 52,
     "metadata": {},
     "output_type": "execute_result"
    }
   ],
   "source": [
    "model_2.fit(x_train, y_train, batch_size=16, epochs=15, validation_data=(x_val, y_val))"
   ]
  },
  {
   "cell_type": "code",
   "execution_count": 58,
   "id": "9810578f",
   "metadata": {},
   "outputs": [
    {
     "name": "stdout",
     "output_type": "stream",
     "text": [
      "Evaluate on test data\n",
      "8/8 [==============================] - 5s 612ms/step - loss: 0.0997 - binary_accuracy: 1.0000\n",
      "test loss, test acc: [0.09973854571580887, 1.0]\n"
     ]
    }
   ],
   "source": [
    "print(\"Evaluate on test data\")\n",
    "results = model_2.evaluate(x_test, y_test, batch_size=32)\n",
    "print(\"test loss, test acc:\", results)"
   ]
  },
  {
   "cell_type": "code",
   "execution_count": 59,
   "id": "88166566",
   "metadata": {},
   "outputs": [],
   "source": [
    "y_pred = model_2.predict(x_test).flatten()"
   ]
  },
  {
   "cell_type": "code",
   "execution_count": 60,
   "id": "d9e9a178",
   "metadata": {},
   "outputs": [],
   "source": [
    "pred_labels = np.where(y_pred < 0.5, 0., 1.)"
   ]
  },
  {
   "cell_type": "code",
   "execution_count": 61,
   "id": "a467f4df",
   "metadata": {},
   "outputs": [
    {
     "data": {
      "text/plain": [
       "array([0., 1., 0., 1., 1., 0., 0., 0., 1., 1., 1., 1., 0., 0., 1., 1., 0.,\n",
       "       0., 1., 0., 0., 1., 0., 0., 1., 0., 1., 1., 1., 1., 0., 1., 1., 0.,\n",
       "       1., 0., 0., 1., 1., 0., 1., 0., 0., 0., 0., 1., 1., 1., 1., 1., 0.,\n",
       "       1., 0., 0., 1., 0., 0., 1., 1., 1., 1., 0., 1., 1., 1., 0., 0., 0.,\n",
       "       0., 1., 0., 1., 0., 0., 0., 0., 0., 1., 1., 0., 1., 0., 1., 0., 1.,\n",
       "       0., 1., 1., 0., 0., 1., 1., 1., 0., 0., 0., 1., 1., 1., 1.])"
      ]
     },
     "execution_count": 61,
     "metadata": {},
     "output_type": "execute_result"
    }
   ],
   "source": [
    "pred_labels[:100]"
   ]
  },
  {
   "cell_type": "code",
   "execution_count": 62,
   "id": "77ac6ae6",
   "metadata": {},
   "outputs": [
    {
     "data": {
      "text/plain": [
       "array([0., 1., 0., 1., 1., 0., 0., 0., 1., 1., 1., 1., 0., 0., 1., 1., 0.,\n",
       "       0., 1., 0., 0., 1., 0., 0., 1., 0., 1., 1., 1., 1., 0., 1., 1., 0.,\n",
       "       1., 0., 0., 1., 1., 0., 1., 0., 0., 0., 0., 1., 1., 1., 1., 1., 0.,\n",
       "       1., 0., 0., 1., 0., 0., 1., 1., 1., 1., 0., 1., 1., 1., 0., 0., 0.,\n",
       "       0., 1., 0., 1., 0., 0., 0., 0., 0., 1., 1., 0., 1., 0., 1., 0., 1.,\n",
       "       0., 1., 1., 0., 0., 1., 1., 1., 0., 0., 0., 1., 1., 1., 1.])"
      ]
     },
     "execution_count": 62,
     "metadata": {},
     "output_type": "execute_result"
    }
   ],
   "source": [
    "y_test[:100]"
   ]
  },
  {
   "cell_type": "markdown",
   "id": "4d0e0b1d",
   "metadata": {},
   "source": [
    "Let's find out what each Conv2D layer does"
   ]
  },
  {
   "cell_type": "code",
   "execution_count": 67,
   "id": "15d31c1c",
   "metadata": {},
   "outputs": [],
   "source": [
    "conv2d_layer1_output_model2 = model_2.layers[0](x_test)\n",
    "conv2d_layer2_output_model2 = model_2.layers[1](conv2d_layer1_output_model2)"
   ]
  },
  {
   "cell_type": "code",
   "execution_count": 68,
   "id": "1b2f0437",
   "metadata": {},
   "outputs": [
    {
     "data": {
      "text/plain": [
       "TensorShape([250, 4, 4, 4])"
      ]
     },
     "execution_count": 68,
     "metadata": {},
     "output_type": "execute_result"
    }
   ],
   "source": [
    "conv2d_layer1_output_model2.shape"
   ]
  },
  {
   "cell_type": "code",
   "execution_count": 72,
   "id": "09b1ba81",
   "metadata": {},
   "outputs": [
    {
     "name": "stdout",
     "output_type": "stream",
     "text": [
      "Ouput from first QConv2D layer (filter 1):\n"
     ]
    },
    {
     "data": {
      "text/plain": [
       "<module 'matplotlib.pyplot' from '/afs/cern.ch/work/c/chlcheng/public/local/conda/miniconda/envs/ml-base/lib/python3.7/site-packages/matplotlib/pyplot.py'>"
      ]
     },
     "execution_count": 72,
     "metadata": {},
     "output_type": "execute_result"
    },
    {
     "data": {
      "text/plain": [
       "<Figure size 432x288 with 0 Axes>"
      ]
     },
     "metadata": {},
     "output_type": "display_data"
    },
    {
     "data": {
      "image/png": "[encoded data removed]",
      "text/plain": [
       "<Figure size 1440x1080 with 20 Axes>"
      ]
     },
     "metadata": {
      "needs_background": "light"
     },
     "output_type": "display_data"
    }
   ],
   "source": [
    "print(\"Ouput from first QConv2D layer (filter 1):\")\n",
    "visualize_images(conv2d_layer1_output_model2[:20, :, :, 0], columns=5)"
   ]
  },
  {
   "cell_type": "code",
   "execution_count": 74,
   "id": "a56fba7b",
   "metadata": {},
   "outputs": [
    {
     "name": "stdout",
     "output_type": "stream",
     "text": [
      "Ouput from first QConv2D layer (filter 2):\n"
     ]
    },
    {
     "data": {
      "text/plain": [
       "<module 'matplotlib.pyplot' from '/afs/cern.ch/work/c/chlcheng/public/local/conda/miniconda/envs/ml-base/lib/python3.7/site-packages/matplotlib/pyplot.py'>"
      ]
     },
     "execution_count": 74,
     "metadata": {},
     "output_type": "execute_result"
    },
    {
     "data": {
      "text/plain": [
       "<Figure size 432x288 with 0 Axes>"
      ]
     },
     "metadata": {},
     "output_type": "display_data"
    },
    {
     "data": {
      "image/png": "[encoded data removed]",
      "text/plain": [
       "<Figure size 1440x1080 with 20 Axes>"
      ]
     },
     "metadata": {
      "needs_background": "light"
     },
     "output_type": "display_data"
    }
   ],
   "source": [
    "print(\"Ouput from first QConv2D layer (filter 2):\")\n",
    "visualize_images(conv2d_layer1_output_model2[:20, :, :, 1], columns=5)"
   ]
  },
  {
   "cell_type": "code",
   "execution_count": 75,
   "id": "d0596bc3",
   "metadata": {},
   "outputs": [
    {
     "name": "stdout",
     "output_type": "stream",
     "text": [
      "Ouput from first QConv2D layer (filter 3):\n"
     ]
    },
    {
     "data": {
      "text/plain": [
       "<module 'matplotlib.pyplot' from '/afs/cern.ch/work/c/chlcheng/public/local/conda/miniconda/envs/ml-base/lib/python3.7/site-packages/matplotlib/pyplot.py'>"
      ]
     },
     "execution_count": 75,
     "metadata": {},
     "output_type": "execute_result"
    },
    {
     "data": {
      "text/plain": [
       "<Figure size 432x288 with 0 Axes>"
      ]
     },
     "metadata": {},
     "output_type": "display_data"
    },
    {
     "data": {
      "image/png": "[encoded data removed]",
      "text/plain": [
       "<Figure size 1440x1080 with 20 Axes>"
      ]
     },
     "metadata": {
      "needs_background": "light"
     },
     "output_type": "display_data"
    }
   ],
   "source": [
    "print(\"Ouput from first QConv2D layer (filter 3):\")\n",
    "visualize_images(conv2d_layer1_output_model2[:20, :, :, 2], columns=5)"
   ]
  },
  {
   "cell_type": "code",
   "execution_count": 76,
   "id": "ab456abf",
   "metadata": {},
   "outputs": [
    {
     "name": "stdout",
     "output_type": "stream",
     "text": [
      "Ouput from first QConv2D layer (filter 4):\n"
     ]
    },
    {
     "data": {
      "text/plain": [
       "<module 'matplotlib.pyplot' from '/afs/cern.ch/work/c/chlcheng/public/local/conda/miniconda/envs/ml-base/lib/python3.7/site-packages/matplotlib/pyplot.py'>"
      ]
     },
     "execution_count": 76,
     "metadata": {},
     "output_type": "execute_result"
    },
    {
     "data": {
      "text/plain": [
       "<Figure size 432x288 with 0 Axes>"
      ]
     },
     "metadata": {},
     "output_type": "display_data"
    },
    {
     "data": {
      "image/png": "[encoded data removed]",
      "text/plain": [
       "<Figure size 1440x1080 with 20 Axes>"
      ]
     },
     "metadata": {
      "needs_background": "light"
     },
     "output_type": "display_data"
    }
   ],
   "source": [
    "print(\"Ouput from first QConv2D layer (filter 4):\")\n",
    "visualize_images(conv2d_layer1_output_model2[:20, :, :, 3], columns=5)"
   ]
  },
  {
   "cell_type": "code",
   "execution_count": 77,
   "id": "12b6c940",
   "metadata": {},
   "outputs": [
    {
     "name": "stdout",
     "output_type": "stream",
     "text": [
      "Ouput from second QConv2D layer:\n"
     ]
    },
    {
     "data": {
      "text/plain": [
       "<module 'matplotlib.pyplot' from '/afs/cern.ch/work/c/chlcheng/public/local/conda/miniconda/envs/ml-base/lib/python3.7/site-packages/matplotlib/pyplot.py'>"
      ]
     },
     "execution_count": 77,
     "metadata": {},
     "output_type": "execute_result"
    },
    {
     "data": {
      "text/plain": [
       "<Figure size 432x288 with 0 Axes>"
      ]
     },
     "metadata": {},
     "output_type": "display_data"
    },
    {
     "data": {
      "image/png": "[encoded data removed]",
      "text/plain": [
       "<Figure size 1440x1080 with 20 Axes>"
      ]
     },
     "metadata": {
      "needs_background": "light"
     },
     "output_type": "display_data"
    }
   ],
   "source": [
    "print(\"Ouput from second QConv2D layer:\")\n",
    "visualize_images(conv2d_layer2_output_model2[:20], columns=5)"
   ]
  },
  {
   "cell_type": "code",
   "execution_count": null,
   "id": "8aecd30f",
   "metadata": {},
   "outputs": [],
   "source": []
  }
 ],
 "metadata": {
  "kernelspec": {
   "display_name": "Python 3",
   "language": "python",
   "name": "python3"
  },
  "language_info": {
   "codemirror_mode": {
    "name": "ipython",
    "version": 3
   },
   "file_extension": ".py",
   "mimetype": "text/x-python",
   "name": "python",
   "nbconvert_exporter": "python",
   "pygments_lexer": "ipython3",
   "version": "3.7.10"
  }
 },
 "nbformat": 4,
 "nbformat_minor": 5
}
