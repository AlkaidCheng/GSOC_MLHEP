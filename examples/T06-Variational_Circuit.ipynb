{
 "cells": [
  {
   "cell_type": "code",
   "execution_count": 1,
   "metadata": {},
   "outputs": [],
   "source": [
    "if 'google.colab' in str(get_ipython()):\n",
    "  # install packages required for this tutorial\n",
    "  !pip install tensorflow==2.3.1\n",
    "  !pip install tensorflow_quantum==0.4.0\n",
    "  !pip install quple==0.7.4"
   ]
  },
  {
   "cell_type": "markdown",
   "metadata": {},
   "source": [
    "# Tutorial-06 Variational Circuit\n",
    "\n",
    "In this tutorial, you will learn how to:\n",
    "\n",
    "- Create various build-in variational circuits\n",
    "- Add readout qubit to an variational circuit"
   ]
  },
  {
   "cell_type": "markdown",
   "metadata": {},
   "source": [
    "## Variational Circuit - Introduction\n",
    "\n",
    "A variational (or model) circuit is a parameterized quantum circuit representing a unitary $U(\\theta)$ parameterized by a set of free parameters $\\theta$ which are treated as the weights in a machine learing model.\n",
    "\n",
    " The variational circuit implemented by Quple is based on a circuit-centric design. In this architecture, a variational circuit of $n$ qubits is composed of $L$ copies (i.e. the circuit depth) of a primary circuit block. Each circuit block consists of a layer of single qubit gates (the rotation layer) applied to each of the qubits, followed by a layer of two qubit gates (the entanglement layer) to entangle all qubits according to a given interaction graph. A final rotation layer is added to the circuit so that measurement on any of the data qubits will effectively include the effect of all the two qubit gates in the entanglement layer. It is an example of a strongly entangling circuit which has the advantage of capturing correlations between the data features at all ranges for a short range circuit. \n",
    "\t\n",
    "The classes that implement the variational circuits are\n",
    "* RealAmplitudes\n",
    "* EfficientSU2\n",
    "* ExcitationPreserving\n",
    "* IsingCoupling"
   ]
  },
  {
   "cell_type": "code",
   "execution_count": 2,
   "metadata": {},
   "outputs": [],
   "source": [
    "from quple.circuits.variational_circuits import RealAmplitudes, EfficientSU2, ExcitationPreserving, IsingCoupling"
   ]
  },
  {
   "cell_type": "markdown",
   "metadata": {},
   "source": [
    "## Variational Circuit - RealAmplitudes\n",
    "The `RealAmplitudes` circuit consists of a layer of single qubit Pauli Y rotations acting on each qubit followed by a layer of CNOT entanglement on pairs of qubits under a given interaction graph. The resultant quantum state from the RealAmplitudes circuit will only have real amplitudes with zero complex part. It is a hardware efficient circuit as it uses entangling interactions that are naturally available on hardware and do not require compilation. \n",
    "\n",
    "Arguments:\n",
    "* n_qubit (int): Number of qubits in the circuit\n",
    "* copies (int): Number of times the circuit layers are repeated.\n",
    "* entangle_strategy (default='full'): Determines how the qubits are connected in an entanglement block.\n",
    "* parameter_symbol (str): Symbol prefix for circuit parameters."
   ]
  },
  {
   "cell_type": "code",
   "execution_count": 3,
   "metadata": {},
   "outputs": [
    {
     "data": {
      "text/html": [
       "<pre style=\"overflow: auto; white-space: pre;\">                                 ┌──┐       ┌──┐                                   ┌──┐       ┌──┐\n",
       "(0, 0): ───Ry(θ_0)───@───@───@────@────────────────────Ry(θ_5)───@─────────@───@────@────────────────────Ry(θ_10)──────────────\n",
       "                     │   │   │    │                              │         │   │    │\n",
       "(0, 1): ───Ry(θ_1)───X───┼───┼────┼@────@────@─────────Ry(θ_6)───X─────────┼───┼────┼@────@────@─────────Ry(θ_11)──────────────\n",
       "                         │   │    ││    │    │                             │   │    ││    │    │\n",
       "(0, 2): ───Ry(θ_2)───────X───┼────┼X────┼────┼@────@───Ry(θ_7)─────────────X───┼────┼X────┼────┼@────@───Ry(θ_12)──────────────\n",
       "                             │    │     │    ││    │                           │    │     │    ││    │\n",
       "(0, 3): ───Ry(θ_3)───────────X────┼─────X────┼X────┼───@─────────Ry(θ_8)───────X────┼─────X────┼X────┼───@──────────Ry(θ_13)───\n",
       "                                  │          │     │   │                            │          │     │   │\n",
       "(0, 4): ───Ry(θ_4)────────────────X──────────X─────X───X─────────Ry(θ_9)────────────X──────────X─────X───X──────────Ry(θ_14)───\n",
       "                                 └──┘       └──┘                                   └──┘       └──┘</pre>"
      ],
      "text/plain": [
       "                                 ┌──┐       ┌──┐                                   ┌──┐       ┌──┐\n",
       "(0, 0): ───Ry(θ_0)───@───@───@────@────────────────────Ry(θ_5)───@─────────@───@────@────────────────────Ry(θ_10)──────────────\n",
       "                     │   │   │    │                              │         │   │    │\n",
       "(0, 1): ───Ry(θ_1)───X───┼───┼────┼@────@────@─────────Ry(θ_6)───X─────────┼───┼────┼@────@────@─────────Ry(θ_11)──────────────\n",
       "                         │   │    ││    │    │                             │   │    ││    │    │\n",
       "(0, 2): ───Ry(θ_2)───────X───┼────┼X────┼────┼@────@───Ry(θ_7)─────────────X───┼────┼X────┼────┼@────@───Ry(θ_12)──────────────\n",
       "                             │    │     │    ││    │                           │    │     │    ││    │\n",
       "(0, 3): ───Ry(θ_3)───────────X────┼─────X────┼X────┼───@─────────Ry(θ_8)───────X────┼─────X────┼X────┼───@──────────Ry(θ_13)───\n",
       "                                  │          │     │   │                            │          │     │   │\n",
       "(0, 4): ───Ry(θ_4)────────────────X──────────X─────X───X─────────Ry(θ_9)────────────X──────────X─────X───X──────────Ry(θ_14)───\n",
       "                                 └──┘       └──┘                                   └──┘       └──┘"
      ]
     },
     "execution_count": 3,
     "metadata": {},
     "output_type": "execute_result"
    }
   ],
   "source": [
    "# RealAmplitudes variational circuit with 5 qubits and circuit depth 2 constructed from RY rotations and fully connected CNOT entanglement \n",
    "variational_circuit = RealAmplitudes(n_qubit=5, copies=2)\n",
    "variational_circuit"
   ]
  },
  {
   "cell_type": "markdown",
   "metadata": {},
   "source": [
    "## Variational Circuit - EfficientSU2\n",
    "The `EfficientSU2` circuit consists of a layer of single qubit operations spanned by SU(2) (such as the Pauli X, Y and Y operations and their rotations) acting on each qubit and a layer of CNOT entanglement on pairs of qubits under a given interaction graph. It is a hardware efficient circuit as it uses entangling interactions that are naturally available on hardware and do not require compilation. \n",
    "\n",
    "Arguments:\n",
    "* n_qubit (int): Number of qubits in the circuit\n",
    "* su2_gates (default=['RY','RZ']): The SU(2) gates to be used in the circuit.\n",
    "* copies (int): Number of times the circuit layers are repeated.\n",
    "* entangle_strategy (default='full'): Determines how the qubits are connected in an entanglement block.\n",
    "* parameter_symbol (str): Symbol prefix for circuit parameters."
   ]
  },
  {
   "cell_type": "markdown",
   "metadata": {},
   "source": [
    "## Variational Circuit - ExcitationPreserving\n",
    "\n",
    "The `ExcitationPreserving` circuit consists of a layer of single qubit Pauli Z rotation acting on each qubit  and a layer of two qubit gates from the Fermionic simulation, or fSim, gate set acting on pairs of qubits under a given interaction graph. Under this gate set, the $\\sigma_X\\sigma_X$ and $\\sigma_Y\\sigma_Y$ couplings between the qubits have equal coefficients which conserves the number of excitations of the qubits.  Algorithms performed with just Pauli Z rotations and fSim gates enable error mitigation techiques including post selection and zero noise extrapolation.\n",
    "\n",
    "Arguments:\n",
    "* n_qubit (int): Number of qubits in the circuit\n",
    "* entanglement_gate ('RISWAP' or 'FSim', default='RISWAP'): Excitation preserving gate operation to use for entangling qubits\n",
    "* copies (int): Number of times the circuit layers are repeated.\n",
    "* entangle_strategy (default='full'): Determines how the qubits are connected in an entanglement block.\n",
    "* parameter_symbol (str): Symbol prefix for circuit parameters."
   ]
  },
  {
   "cell_type": "code",
   "execution_count": 4,
   "metadata": {},
   "outputs": [
    {
     "data": {
      "text/html": [
       "<pre style=\"overflow: auto; white-space: pre;\">(0, 0): ───Rz(ɸ_0)───iSwap───────────────────────────────────────────────────────────────────────iSwap──────────────Rz(ɸ_10)───\n",
       "                     │                                                                           │\n",
       "(0, 1): ───Rz(ɸ_1)───iSwap^(2*ɸ_5/pi)───iSwap────────────────────────────────────────────────────┼──────────────────Rz(ɸ_11)───\n",
       "                                        │                                                        │\n",
       "(0, 2): ───Rz(ɸ_2)──────────────────────iSwap^(2*ɸ_6/pi)───iSwap─────────────────────────────────┼──────────────────Rz(ɸ_12)───\n",
       "                                                           │                                     │\n",
       "(0, 3): ───Rz(ɸ_3)─────────────────────────────────────────iSwap^(2*ɸ_7/pi)───iSwap──────────────┼──────────────────Rz(ɸ_13)───\n",
       "                                                                              │                  │\n",
       "(0, 4): ───Rz(ɸ_4)────────────────────────────────────────────────────────────iSwap^(2*ɸ_8/pi)───iSwap^(2*ɸ_9/pi)───Rz(ɸ_14)───</pre>"
      ],
      "text/plain": [
       "(0, 0): ───Rz(ɸ_0)───iSwap───────────────────────────────────────────────────────────────────────iSwap──────────────Rz(ɸ_10)───\n",
       "                     │                                                                           │\n",
       "(0, 1): ───Rz(ɸ_1)───iSwap^(2*ɸ_5/pi)───iSwap────────────────────────────────────────────────────┼──────────────────Rz(ɸ_11)───\n",
       "                                        │                                                        │\n",
       "(0, 2): ───Rz(ɸ_2)──────────────────────iSwap^(2*ɸ_6/pi)───iSwap─────────────────────────────────┼──────────────────Rz(ɸ_12)───\n",
       "                                                           │                                     │\n",
       "(0, 3): ───Rz(ɸ_3)─────────────────────────────────────────iSwap^(2*ɸ_7/pi)───iSwap──────────────┼──────────────────Rz(ɸ_13)───\n",
       "                                                                              │                  │\n",
       "(0, 4): ───Rz(ɸ_4)────────────────────────────────────────────────────────────iSwap^(2*ɸ_8/pi)───iSwap^(2*ɸ_9/pi)───Rz(ɸ_14)───"
      ]
     },
     "execution_count": 4,
     "metadata": {},
     "output_type": "execute_result"
    }
   ],
   "source": [
    "# ExcitationPreserving variational circuit with 5 qubits and circuit depth 1 constructed from RZ rotation and circularly connected RISWAP entanglement\n",
    "variational_circuit = ExcitationPreserving(n_qubit=5, copies=1, entangle_strategy='circular', parameter_symbol='ɸ')\n",
    "variational_circuit"
   ]
  },
  {
   "cell_type": "code",
   "execution_count": 5,
   "metadata": {},
   "outputs": [
    {
     "data": {
      "text/html": [
       "<pre style=\"overflow: auto; white-space: pre;\">(0, 0): ───Rz(θ_0)───FSim(θ_5, θ_6)───FSim(θ_7, θ_8)───FSim(θ_9, θ_10)───FSim(θ_11, θ_12)───Rz(θ_13)───\n",
       "                     │                │                │                 │\n",
       "(0, 1): ───Rz(θ_1)───FSim(θ_5, θ_6)───┼────────────────┼─────────────────┼──────────────────Rz(θ_14)───\n",
       "                                      │                │                 │\n",
       "(0, 2): ───Rz(θ_2)────────────────────FSim(θ_7, θ_8)───┼─────────────────┼──────────────────Rz(θ_15)───\n",
       "                                                       │                 │\n",
       "(0, 3): ───Rz(θ_3)─────────────────────────────────────FSim(θ_9, θ_10)───┼──────────────────Rz(θ_16)───\n",
       "                                                                         │\n",
       "(0, 4): ───Rz(θ_4)───────────────────────────────────────────────────────FSim(θ_11, θ_12)───Rz(θ_17)───</pre>"
      ],
      "text/plain": [
       "(0, 0): ───Rz(θ_0)───FSim(θ_5, θ_6)───FSim(θ_7, θ_8)───FSim(θ_9, θ_10)───FSim(θ_11, θ_12)───Rz(θ_13)───\n",
       "                     │                │                │                 │\n",
       "(0, 1): ───Rz(θ_1)───FSim(θ_5, θ_6)───┼────────────────┼─────────────────┼──────────────────Rz(θ_14)───\n",
       "                                      │                │                 │\n",
       "(0, 2): ───Rz(θ_2)────────────────────FSim(θ_7, θ_8)───┼─────────────────┼──────────────────Rz(θ_15)───\n",
       "                                                       │                 │\n",
       "(0, 3): ───Rz(θ_3)─────────────────────────────────────FSim(θ_9, θ_10)───┼──────────────────Rz(θ_16)───\n",
       "                                                                         │\n",
       "(0, 4): ───Rz(θ_4)───────────────────────────────────────────────────────FSim(θ_11, θ_12)───Rz(θ_17)───"
      ]
     },
     "execution_count": 5,
     "metadata": {},
     "output_type": "execute_result"
    }
   ],
   "source": [
    "# ExcitationPreserving variational circuit with 5 qubits and circuit depth 1 constructed from RZ rotation and star connected FSim entanglement\n",
    "variational_circuit = ExcitationPreserving(n_qubit=5, copies=1, entanglement_gate='FSim', entangle_strategy='star')\n",
    "variational_circuit"
   ]
  },
  {
   "cell_type": "markdown",
   "metadata": {},
   "source": [
    "### Variational Circuit - IsingCoupling\n",
    "\n",
    "The `IsingCoupling` circuit consists of a layer of single qubit Pauli rotations acting on each qubit and a layer of two qubit XX Ising coupling gates which is a rotation around the $XX$ axis in the two-qubit bloch sphere. \n",
    "\n",
    "Arguments:\n",
    "\n",
    "* n_qubit (int): Number of qubits in the circuit\n",
    "* rotation_gates (default=['RY','RZ']): Rotation gates to be used in the circuit.\n",
    "* copies (int): Number of times the circuit layers are repeated.\n",
    "* entangle_strategy (default='full'): Determines how the qubits are connected in an entanglement block.\n",
    "* parameter_symbol (str): Symbol prefix for circuit parameters."
   ]
  },
  {
   "cell_type": "code",
   "execution_count": 6,
   "metadata": {},
   "outputs": [
    {
     "data": {
      "text/html": [
       "<pre style=\"overflow: auto; white-space: pre;\">                                                                   ┌──────────────────┐               ┌──────────────────┐\n",
       "(0, 0): ───Ry(θ_0)───Rz(θ_5)───XX──────────XX──────────XX───────────XX───────────────────────────────────────────────────────────────────Ry(θ_20)────Rz(θ_25)──────────────\n",
       "                               │           │           │            │\n",
       "(0, 1): ───Ry(θ_1)───Rz(θ_6)───XX^(θ_10)───┼───────────┼────────────┼────────XX───────────XX───────────XX────────────────────────────────Ry(θ_21)────Rz(θ_26)──────────────\n",
       "                                           │           │            │        │            │            │\n",
       "(0, 2): ───Ry(θ_2)───Rz(θ_7)───────────────XX^(θ_11)───┼────────────┼────────XX^(θ_14)────┼────────────┼────────XX───────────XX──────────Ry(θ_22)────Rz(θ_27)──────────────\n",
       "                                                       │            │                     │            │        │            │\n",
       "(0, 3): ───Ry(θ_3)───Rz(θ_8)───────────────────────────XX^(θ_12)────┼─────────────────────XX^(θ_15)────┼────────XX^(θ_17)────┼───────────XX──────────Ry(θ_23)───Rz(θ_28)───\n",
       "                                                                    │                                  │                     │           │\n",
       "(0, 4): ───Ry(θ_4)───Rz(θ_9)────────────────────────────────────────XX^(θ_13)──────────────────────────XX^(θ_16)─────────────XX^(θ_18)───XX^(θ_19)───Ry(θ_24)───Rz(θ_29)───\n",
       "                                                                   └──────────────────┘               └──────────────────┘</pre>"
      ],
      "text/plain": [
       "                                                                   ┌──────────────────┐               ┌──────────────────┐\n",
       "(0, 0): ───Ry(θ_0)───Rz(θ_5)───XX──────────XX──────────XX───────────XX───────────────────────────────────────────────────────────────────Ry(θ_20)────Rz(θ_25)──────────────\n",
       "                               │           │           │            │\n",
       "(0, 1): ───Ry(θ_1)───Rz(θ_6)───XX^(θ_10)───┼───────────┼────────────┼────────XX───────────XX───────────XX────────────────────────────────Ry(θ_21)────Rz(θ_26)──────────────\n",
       "                                           │           │            │        │            │            │\n",
       "(0, 2): ───Ry(θ_2)───Rz(θ_7)───────────────XX^(θ_11)───┼────────────┼────────XX^(θ_14)────┼────────────┼────────XX───────────XX──────────Ry(θ_22)────Rz(θ_27)──────────────\n",
       "                                                       │            │                     │            │        │            │\n",
       "(0, 3): ───Ry(θ_3)───Rz(θ_8)───────────────────────────XX^(θ_12)────┼─────────────────────XX^(θ_15)────┼────────XX^(θ_17)────┼───────────XX──────────Ry(θ_23)───Rz(θ_28)───\n",
       "                                                                    │                                  │                     │           │\n",
       "(0, 4): ───Ry(θ_4)───Rz(θ_9)────────────────────────────────────────XX^(θ_13)──────────────────────────XX^(θ_16)─────────────XX^(θ_18)───XX^(θ_19)───Ry(θ_24)───Rz(θ_29)───\n",
       "                                                                   └──────────────────┘               └──────────────────┘"
      ]
     },
     "execution_count": 6,
     "metadata": {},
     "output_type": "execute_result"
    }
   ],
   "source": [
    "# IsingCoupling variational circuit with 5 qubits and circuit depth 1 constructed from ['RY','RZ'] rotation and fully connected XX entanglement raised to some parameterised power\n",
    "variational_circuit = IsingCoupling(n_qubit=5, copies=1, entangle_strategy='full')\n",
    "variational_circuit"
   ]
  },
  {
   "cell_type": "markdown",
   "metadata": {},
   "source": [
    "## Readout qubit\n",
    "\n",
    "Addition of an extra readout qubit that is entangled to all data qubits via a custom two-qubit gate operation which is used as the qubit for measurement when training a VQC model. "
   ]
  },
  {
   "cell_type": "code",
   "execution_count": 7,
   "metadata": {},
   "outputs": [
    {
     "name": "stdout",
     "output_type": "stream",
     "text": [
      "(0, 0): ───Ry(θ_0)───Rz(θ_5)───@───────────Ry(θ_10)───Rz(θ_15)───@──────────────────Ry(θ_20)───Rz(θ_25)──────────────\n",
      "                               │                                 │\n",
      "(0, 1): ───Ry(θ_1)───Rz(θ_6)───X───@───────Ry(θ_11)───Rz(θ_16)───X──────────@───────Ry(θ_21)───Rz(θ_26)──────────────\n",
      "                                   │                                        │\n",
      "(0, 2): ───Ry(θ_2)───Rz(θ_7)───────X───@───Ry(θ_12)───Rz(θ_17)──────────────X───@───Ry(θ_22)───Rz(θ_27)──────────────\n",
      "                                       │                                        │\n",
      "(0, 3): ───Ry(θ_3)───Rz(θ_8)───────────X───@──────────Ry(θ_13)───Rz(θ_18)───────X───@──────────Ry(θ_23)───Rz(θ_28)───\n",
      "                                           │                                        │\n",
      "(0, 4): ───Ry(θ_4)───Rz(θ_9)───────────────X──────────Ry(θ_14)───Rz(θ_19)───────────X──────────Ry(θ_24)───Rz(θ_29)───\n",
      "---------------------------------------------------------------------------------------------------\n"
     ]
    },
    {
     "data": {
      "text/html": [
       "<pre style=\"overflow: auto; white-space: pre;\">(-1, -1): ──────────────────────────────────────────────────────────────────────────────────────────────────XX──────────XX──────────XX──────────XX──────────XX──────────\n",
       "                                                                                                            │           │           │           │           │\n",
       "(0, 0): ─────Ry(θ_0)───Rz(θ_5)───@───────────Ry(θ_10)───Rz(θ_15)───@──────────────────Ry(θ_20)───Rz(θ_25)───XX^(θ_30)───┼───────────┼───────────┼───────────┼───────────\n",
       "                                 │                                 │                                                    │           │           │           │\n",
       "(0, 1): ─────Ry(θ_1)───Rz(θ_6)───X───@───────Ry(θ_11)───Rz(θ_16)───X──────────@───────Ry(θ_21)───Rz(θ_26)───────────────XX^(θ_31)───┼───────────┼───────────┼───────────\n",
       "                                     │                                        │                                                     │           │           │\n",
       "(0, 2): ─────Ry(θ_2)───Rz(θ_7)───────X───@───Ry(θ_12)───Rz(θ_17)──────────────X───@───Ry(θ_22)───Rz(θ_27)───────────────────────────XX^(θ_32)───┼───────────┼───────────\n",
       "                                         │                                        │                                                             │           │\n",
       "(0, 3): ─────Ry(θ_3)───Rz(θ_8)───────────X───@──────────Ry(θ_13)───Rz(θ_18)───────X───@──────────Ry(θ_23)───Rz(θ_28)────────────────────────────XX^(θ_33)───┼───────────\n",
       "                                             │                                        │                                                                     │\n",
       "(0, 4): ─────Ry(θ_4)───Rz(θ_9)───────────────X──────────Ry(θ_14)───Rz(θ_19)───────────X──────────Ry(θ_24)───Rz(θ_29)────────────────────────────────────────XX^(θ_34)───</pre>"
      ],
      "text/plain": [
       "(-1, -1): ──────────────────────────────────────────────────────────────────────────────────────────────────XX──────────XX──────────XX──────────XX──────────XX──────────\n",
       "                                                                                                            │           │           │           │           │\n",
       "(0, 0): ─────Ry(θ_0)───Rz(θ_5)───@───────────Ry(θ_10)───Rz(θ_15)───@──────────────────Ry(θ_20)───Rz(θ_25)───XX^(θ_30)───┼───────────┼───────────┼───────────┼───────────\n",
       "                                 │                                 │                                                    │           │           │           │\n",
       "(0, 1): ─────Ry(θ_1)───Rz(θ_6)───X───@───────Ry(θ_11)───Rz(θ_16)───X──────────@───────Ry(θ_21)───Rz(θ_26)───────────────XX^(θ_31)───┼───────────┼───────────┼───────────\n",
       "                                     │                                        │                                                     │           │           │\n",
       "(0, 2): ─────Ry(θ_2)───Rz(θ_7)───────X───@───Ry(θ_12)───Rz(θ_17)──────────────X───@───Ry(θ_22)───Rz(θ_27)───────────────────────────XX^(θ_32)───┼───────────┼───────────\n",
       "                                         │                                        │                                                             │           │\n",
       "(0, 3): ─────Ry(θ_3)───Rz(θ_8)───────────X───@──────────Ry(θ_13)───Rz(θ_18)───────X───@──────────Ry(θ_23)───Rz(θ_28)────────────────────────────XX^(θ_33)───┼───────────\n",
       "                                             │                                        │                                                                     │\n",
       "(0, 4): ─────Ry(θ_4)───Rz(θ_9)───────────────X──────────Ry(θ_14)───Rz(θ_19)───────────X──────────Ry(θ_24)───Rz(θ_29)────────────────────────────────────────XX^(θ_34)───"
      ]
     },
     "execution_count": 7,
     "metadata": {},
     "output_type": "execute_result"
    }
   ],
   "source": [
    "# EfficientSU2 variational circuit with 5 qubits and circuit depth 2 constructed from ['RY', 'RZ'] rotations and linearly connected CNOT entanglement repeated 2 times\n",
    "variational_circuit = EfficientSU2(n_qubit=5, copies=2, entangle_strategy='linear')\n",
    "print(variational_circuit)\n",
    "print('---------------------------------------------------------------------------------------------------')\n",
    "# Add a readout qubit with XX entanglement (raised to some parameterised power, i.e. roughly equal to RXX)\n",
    "variational_circuit.add_readout('XX')\n",
    "variational_circuit"
   ]
  },
  {
   "cell_type": "code",
   "execution_count": 8,
   "metadata": {},
   "outputs": [
    {
     "data": {
      "text/plain": [
       "cirq.GridQubit(-1, -1)"
      ]
     },
     "execution_count": 8,
     "metadata": {},
     "output_type": "execute_result"
    }
   ],
   "source": [
    "variational_circuit.readout_qubit"
   ]
  }
 ],
 "metadata": {
  "colab": {
   "collapsed_sections": [],
   "name": "T06-Variational_Circuit.ipynb",
   "provenance": []
  },
  "kernelspec": {
   "display_name": "Python 3",
   "language": "python",
   "name": "python3"
  },
  "language_info": {
   "codemirror_mode": {
    "name": "ipython",
    "version": 3
   },
   "file_extension": ".py",
   "mimetype": "text/x-python",
   "name": "python",
   "nbconvert_exporter": "python",
   "pygments_lexer": "ipython3",
   "version": "3.7.10"
  }
 },
 "nbformat": 4,
 "nbformat_minor": 1
}
