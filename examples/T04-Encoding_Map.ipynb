{
 "cells": [
  {
   "cell_type": "code",
   "execution_count": 1,
   "id": "balanced-number",
   "metadata": {},
   "outputs": [],
   "source": [
    "if 'google.colab' in str(get_ipython()):\n",
    "  # install packages required for this tutorial\n",
    "  !pip install tensorflow==2.3.1\n",
    "  !pip install tensorflow_quantum==0.4.0\n",
    "  !pip install quple==0.7.5"
   ]
  },
  {
   "cell_type": "markdown",
   "id": "frank-mechanism",
   "metadata": {},
   "source": [
    "# Tutorial-04 Encoding Function\n",
    "\n",
    "In this tutorial, you will learn how to:\n",
    "\n",
    "- use various encoding functions for data encoding\n",
    "- create your own encoding functions"
   ]
  },
  {
   "cell_type": "markdown",
   "id": "median-ghost",
   "metadata": {},
   "source": [
    "# Encoding Function\n",
    "\n",
    "An encoding function $\\phi(\\mathbf{x})$ specifies how input features $\\mathbf{x}$ are encoded into the parameters of a unitary gate operation in an encoding circuit. Usually, the parameters involved in a unitary gate operation are the rotation angles about some axis of the single qubit or multi-qubit Bloch sphere depending on the number of qubits the gate operation is acting on. Therefore, for input features of dimension $n$, the encoding function is a map $f: \\mathbb{R}^n \\rightarrow \\mathbb{R}$. It is natural to restrict the range of the encoding function to be within $(0, 2\\pi)$ or $(-\\pi, \\pi)$ to correspond to the effective range of an angle of rotation. \n",
    "\t\n",
    "In Quple, encoding circuits from the `EncodingCircuit` class (see next tutorial) will have its gate operations parameterized by the expressions of the form $\\pi\\phi(\\mathbf{x})$ with the $\\pi$ factor extracted out by default which restricts the range of $\\phi(\\mathbf{x})$ to be within $[0, 2]$ or $[-1, 1]$. One can also remove this $\\pi$ factor by specifying the `parameter_scale` argument when initializing the `EncodingCircuit` instance. There are a number of encoding functions that are implemented in Quple which also put a restriction on the value of each input feature to be within $[-1, +1]$ to make sure the encoding functions will map input features of arbitrary dimension to a value of the required range.  Users can also create their own encoding function as  long as it takes an array like input $\\mathbf{x}$ and output a number that is within the required range. \n",
    "\n",
    "Some of the available encoding functions are\n",
    "\n",
    "| Encoding Function   |    Formula  ($n=1$)   |  <div style=\"width:500px\">     Formula($n>1$)    </div> | Domain  |  <div style=\"width:500px\">  Range  </div> |\n",
    "| :-----------------: |:-------------:| :-------------:| :-------:| :------:|\n",
    "| self_product      | $x_0$    | $\\prod_{i=0}^n x_i$ | [-1, +1] | [-1, +1] |\n",
    "|cosine_product | $x_0$ |$\\prod_{i=0}^n (\\cos(\\pi(x_i+1)/2))$ | [-1, +1] | [1, +1] |\t\n",
    "|distance_measure |$x_0$ |$\\prod_{i<j} (x_i-x_j)/2^{\\text{pairs}}$  | [-1, +1] | [-1, +1]  |\n",
    "|one_norm_distance |$x_0$ | $\\sum_{i<j} |x_i-x_j|/\\text{pairs}$ | [-1, +1] | [0, +2] |\t\t\t\t\t\t\t\n",
    "|two_norm_distance |$x_0$ | $[\\sum_{i<j} (x_i-x_j)^2/{\\text{pairs}}]^{1/2}$ | [-1, +1] | [0, +2]  |\t\n",
    "|arithmetic_mean | $x_0$ |\t$\\sum_{i=0}^n x_i/n$ | [-1, +1] | [-1, +1]  |\t\t\t\t\t\t\t\t\n",
    "|second_moment | $x_0$ |\t$[\\sum_{i=0}^n (x_i+1)^2/n]^{1/2}$ | [-1, +1] | [-1, +1]  |\t\t\t\t\t\t\t\t\n",
    "|cube_sum | \t$x_0$ |$\\sum_{i=0}^n x_i^3/n$ | [-1, +1] | [-1, +1]  |\t\t\t\t\t\t\t\t\n",
    "|exponential_square_sum | $x_0$ |\t$2\\exp[(\\sum_{i=0}^n x_i^2/n)-1]$ | [-1, +1] | [$2\\exp(-1)$, +2] |\t\t\t\t\t\t\t\t\n",
    "|exponential_cube_sum | $x_0$ |\t$2\\exp[(\\sum_{i=0}^n x_i^3/n)-1]$ | [-1, +1] | [$2\\exp(-2)$, +2] |\n",
    "|polynomial | $x_0^d$ |\t$[\\sum_{i=0}^n x_i/n]^d$ | [-1, +1] | [-1, +1] |"
   ]
  },
  {
   "cell_type": "code",
   "execution_count": 2,
   "id": "crazy-realtor",
   "metadata": {},
   "outputs": [],
   "source": [
    "from quple.data_encoding.encoding_maps import (self_product, cosine_product, modified_cosine_product, \n",
    "distance_measure, one_norm_distance, two_norm_distance, arithmetic_mean, second_moment, cube_sum, \n",
    "exponential_cube_sum, exponential_square_sum, polynomial)"
   ]
  },
  {
   "cell_type": "code",
   "execution_count": 3,
   "id": "joint-rotation",
   "metadata": {},
   "outputs": [],
   "source": [
    "# Prepare the parameter symbols\n",
    "import sympy as sp\n",
    "x = sp.symarray('x', 5)"
   ]
  },
  {
   "cell_type": "code",
   "execution_count": 4,
   "id": "joined-following",
   "metadata": {},
   "outputs": [
    {
     "data": {
      "text/latex": [
       "$\\displaystyle \\cos{\\left(x_{0} \\right)} \\cos{\\left(x_{1} \\right)} \\cos{\\left(x_{2} \\right)} \\cos{\\left(x_{3} \\right)} \\cos{\\left(x_{4} \\right)}$"
      ],
      "text/plain": [
       "cos(x_0)*cos(x_1)*cos(x_2)*cos(x_3)*cos(x_4)"
      ]
     },
     "execution_count": 4,
     "metadata": {},
     "output_type": "execute_result"
    }
   ],
   "source": [
    "# this version of cosine product is without rescaling the range of angles\n",
    "cosine_product(x)"
   ]
  },
  {
   "cell_type": "code",
   "execution_count": 5,
   "id": "adjusted-firewall",
   "metadata": {},
   "outputs": [
    {
     "data": {
      "text/latex": [
       "$\\displaystyle \\cos{\\left(\\pi \\left(\\frac{x_{0}}{2} + \\frac{1}{2}\\right) \\right)} \\cos{\\left(\\pi \\left(\\frac{x_{1}}{2} + \\frac{1}{2}\\right) \\right)} \\cos{\\left(\\pi \\left(\\frac{x_{2}}{2} + \\frac{1}{2}\\right) \\right)} \\cos{\\left(\\pi \\left(\\frac{x_{3}}{2} + \\frac{1}{2}\\right) \\right)} \\cos{\\left(\\pi \\left(\\frac{x_{4}}{2} + \\frac{1}{2}\\right) \\right)}$"
      ],
      "text/plain": [
       "cos(pi*(x_0/2 + 1/2))*cos(pi*(x_1/2 + 1/2))*cos(pi*(x_2/2 + 1/2))*cos(pi*(x_3/2 + 1/2))*cos(pi*(x_4/2 + 1/2))"
      ]
     },
     "execution_count": 5,
     "metadata": {},
     "output_type": "execute_result"
    }
   ],
   "source": [
    "# this version of cosine product will rescale the range of angles\n",
    "modified_cosine_product(x)"
   ]
  },
  {
   "cell_type": "code",
   "execution_count": 6,
   "id": "optical-brief",
   "metadata": {},
   "outputs": [
    {
     "data": {
      "text/latex": [
       "$\\displaystyle \\frac{\\left(- x_{0} + x_{4}\\right) \\left(x_{0} - x_{1}\\right) \\left(x_{1} - x_{2}\\right) \\left(x_{2} - x_{3}\\right) \\left(x_{3} - x_{4}\\right)}{32}$"
      ],
      "text/plain": [
       "(-x_0 + x_4)*(x_0 - x_1)*(x_1 - x_2)*(x_2 - x_3)*(x_3 - x_4)/32"
      ]
     },
     "execution_count": 6,
     "metadata": {},
     "output_type": "execute_result"
    }
   ],
   "source": [
    "distance_measure(x)"
   ]
  },
  {
   "cell_type": "code",
   "execution_count": 7,
   "id": "graphic-amplifier",
   "metadata": {},
   "outputs": [
    {
     "data": {
      "text/latex": [
       "$\\displaystyle \\frac{\\left|{x_{0} - x_{1}}\\right|}{5} + \\frac{\\left|{x_{0} - x_{4}}\\right|}{5} + \\frac{\\left|{x_{1} - x_{2}}\\right|}{5} + \\frac{\\left|{x_{2} - x_{3}}\\right|}{5} + \\frac{\\left|{x_{3} - x_{4}}\\right|}{5}$"
      ],
      "text/plain": [
       "Abs(x_0 - x_1)/5 + Abs(x_0 - x_4)/5 + Abs(x_1 - x_2)/5 + Abs(x_2 - x_3)/5 + Abs(x_3 - x_4)/5"
      ]
     },
     "execution_count": 7,
     "metadata": {},
     "output_type": "execute_result"
    }
   ],
   "source": [
    "one_norm_distance(x)"
   ]
  },
  {
   "cell_type": "code",
   "execution_count": 8,
   "id": "approved-monthly",
   "metadata": {},
   "outputs": [
    {
     "data": {
      "text/latex": [
       "$\\displaystyle \\left(\\frac{\\left(- x_{0} + x_{4}\\right)^{2}}{5} + \\frac{\\left(x_{0} - x_{1}\\right)^{2}}{5} + \\frac{\\left(x_{1} - x_{2}\\right)^{2}}{5} + \\frac{\\left(x_{2} - x_{3}\\right)^{2}}{5} + \\frac{\\left(x_{3} - x_{4}\\right)^{2}}{5}\\right)^{0.5}$"
      ],
      "text/plain": [
       "((-x_0 + x_4)**2/5 + (x_0 - x_1)**2/5 + (x_1 - x_2)**2/5 + (x_2 - x_3)**2/5 + (x_3 - x_4)**2/5)**0.5"
      ]
     },
     "execution_count": 8,
     "metadata": {},
     "output_type": "execute_result"
    }
   ],
   "source": [
    "two_norm_distance(x)"
   ]
  },
  {
   "cell_type": "code",
   "execution_count": 9,
   "id": "painted-carol",
   "metadata": {},
   "outputs": [
    {
     "data": {
      "text/latex": [
       "$\\displaystyle \\frac{x_{0}}{5} + \\frac{x_{1}}{5} + \\frac{x_{2}}{5} + \\frac{x_{3}}{5} + \\frac{x_{4}}{5}$"
      ],
      "text/plain": [
       "x_0/5 + x_1/5 + x_2/5 + x_3/5 + x_4/5"
      ]
     },
     "execution_count": 9,
     "metadata": {},
     "output_type": "execute_result"
    }
   ],
   "source": [
    "arithmetic_mean(x)"
   ]
  },
  {
   "cell_type": "code",
   "execution_count": 10,
   "id": "sublime-section",
   "metadata": {},
   "outputs": [
    {
     "data": {
      "text/latex": [
       "$\\displaystyle \\left(\\frac{\\left(x_{0} + 1\\right)^{2}}{5} + \\frac{\\left(x_{1} + 1\\right)^{2}}{5} + \\frac{\\left(x_{2} + 1\\right)^{2}}{5} + \\frac{\\left(x_{3} + 1\\right)^{2}}{5} + \\frac{\\left(x_{4} + 1\\right)^{2}}{5}\\right)^{0.5}$"
      ],
      "text/plain": [
       "((x_0 + 1)**2/5 + (x_1 + 1)**2/5 + (x_2 + 1)**2/5 + (x_3 + 1)**2/5 + (x_4 + 1)**2/5)**0.5"
      ]
     },
     "execution_count": 10,
     "metadata": {},
     "output_type": "execute_result"
    }
   ],
   "source": [
    "second_moment(x)"
   ]
  },
  {
   "cell_type": "code",
   "execution_count": 11,
   "id": "liked-stroke",
   "metadata": {},
   "outputs": [
    {
     "data": {
      "text/latex": [
       "$\\displaystyle \\frac{x_{0}^{3}}{5} + \\frac{x_{1}^{3}}{5} + \\frac{x_{2}^{3}}{5} + \\frac{x_{3}^{3}}{5} + \\frac{x_{4}^{3}}{5}$"
      ],
      "text/plain": [
       "x_0**3/5 + x_1**3/5 + x_2**3/5 + x_3**3/5 + x_4**3/5"
      ]
     },
     "execution_count": 11,
     "metadata": {},
     "output_type": "execute_result"
    }
   ],
   "source": [
    "cube_sum(x)"
   ]
  },
  {
   "cell_type": "code",
   "execution_count": 12,
   "id": "gorgeous-debate",
   "metadata": {},
   "outputs": [
    {
     "data": {
      "text/latex": [
       "$\\displaystyle 2 e^{\\frac{x_{0}^{2}}{5} + \\frac{x_{1}^{2}}{5} + \\frac{x_{2}^{2}}{5} + \\frac{x_{3}^{2}}{5} + \\frac{x_{4}^{2}}{5} - 1}$"
      ],
      "text/plain": [
       "2*exp(x_0**2/5 + x_1**2/5 + x_2**2/5 + x_3**2/5 + x_4**2/5 - 1)"
      ]
     },
     "execution_count": 12,
     "metadata": {},
     "output_type": "execute_result"
    }
   ],
   "source": [
    "exponential_square_sum(x)"
   ]
  },
  {
   "cell_type": "code",
   "execution_count": 13,
   "id": "romantic-video",
   "metadata": {},
   "outputs": [
    {
     "data": {
      "text/latex": [
       "$\\displaystyle 2 e^{\\frac{x_{0}^{3}}{5} + \\frac{x_{1}^{3}}{5} + \\frac{x_{2}^{3}}{5} + \\frac{x_{3}^{3}}{5} + \\frac{x_{4}^{3}}{5} - 1}$"
      ],
      "text/plain": [
       "2*exp(x_0**3/5 + x_1**3/5 + x_2**3/5 + x_3**3/5 + x_4**3/5 - 1)"
      ]
     },
     "execution_count": 13,
     "metadata": {},
     "output_type": "execute_result"
    }
   ],
   "source": [
    "exponential_cube_sum(x)"
   ]
  },
  {
   "cell_type": "code",
   "execution_count": 14,
   "id": "married-simple",
   "metadata": {},
   "outputs": [
    {
     "data": {
      "text/latex": [
       "$\\displaystyle \\frac{\\left(\\frac{x_{0}}{5} + \\frac{x_{1}}{5} + \\frac{x_{2}}{5} + \\frac{x_{3}}{5} + \\frac{x_{4}}{5}\\right)^{2}}{\\pi}$"
      ],
      "text/plain": [
       "(x_0/5 + x_1/5 + x_2/5 + x_3/5 + x_4/5)**2/pi"
      ]
     },
     "execution_count": 14,
     "metadata": {},
     "output_type": "execute_result"
    }
   ],
   "source": [
    "# for the \"polynomial\" encoding function, one can specify a degree parameter, d, to raise \n",
    "# the weighted sum of input values by the degree\n",
    "polynomial(degree=2)(x)"
   ]
  },
  {
   "cell_type": "code",
   "execution_count": 15,
   "id": "alternative-scheduling",
   "metadata": {},
   "outputs": [
    {
     "data": {
      "text/latex": [
       "$\\displaystyle \\left(\\frac{x_{0}}{5} + \\frac{x_{1}}{5} + \\frac{x_{2}}{5} + \\frac{x_{3}}{5} + \\frac{x_{4}}{5}\\right)^{5}$"
      ],
      "text/plain": [
       "(x_0/5 + x_1/5 + x_2/5 + x_3/5 + x_4/5)**5"
      ]
     },
     "execution_count": 15,
     "metadata": {},
     "output_type": "execute_result"
    }
   ],
   "source": [
    "polynomial(degree=5, scale_factor=1)(x)"
   ]
  },
  {
   "cell_type": "code",
   "execution_count": 16,
   "id": "sacred-channel",
   "metadata": {},
   "outputs": [
    {
     "data": {
      "text/html": [
       "<pre style=\"overflow: auto; white-space: pre;\">(0, 0): ───H───Rz(pi*&lt;x_0**3/pi&gt;)───@────────────────────────────────────@────────────────────────────────────────────\n",
       "                                    │                                    │\n",
       "(0, 1): ───H───Rz(pi*&lt;x_1**3/pi&gt;)───X───Rz(pi*&lt;(x_0/2 + x_1/2)**3/pi&gt;)───X───@────────────────────────────────────@───\n",
       "                                                                             │                                    │\n",
       "(0, 2): ───H───Rz(pi*&lt;x_2**3/pi&gt;)────────────────────────────────────────────X───Rz(pi*&lt;(x_1/2 + x_2/2)**3/pi&gt;)───X───</pre>"
      ],
      "text/plain": [
       "(0, 0): ───H───Rz(pi*<x_0**3/pi>)───@────────────────────────────────────@────────────────────────────────────────────\n",
       "                                    │                                    │\n",
       "(0, 1): ───H───Rz(pi*<x_1**3/pi>)───X───Rz(pi*<(x_0/2 + x_1/2)**3/pi>)───X───@────────────────────────────────────@───\n",
       "                                                                             │                                    │\n",
       "(0, 2): ───H───Rz(pi*<x_2**3/pi>)────────────────────────────────────────────X───Rz(pi*<(x_1/2 + x_2/2)**3/pi>)───X───"
      ]
     },
     "execution_count": 16,
     "metadata": {},
     "output_type": "execute_result"
    }
   ],
   "source": [
    "# now try out the encoding function on an EncodingCircuit instance\n",
    "from quple.data_encoding import GeneralPauliEncoding\n",
    "# Construct an encoding circuit with GeneralPauliEncoding using the Paulis 'Z' and 'ZZ' for encoding data of feature dimension 3 using the cube sum encoding function. \n",
    "encoding_circuit = GeneralPauliEncoding(feature_dimension=3, paulis=['Z', 'ZZ'],\n",
    "                                        encoding_map=polynomial(degree=3), entangle_strategy='linear', copies=1)\n",
    "encoding_circuit"
   ]
  },
  {
   "cell_type": "code",
   "execution_count": 17,
   "id": "mighty-bouquet",
   "metadata": {},
   "outputs": [
    {
     "data": {
      "text/html": [
       "<pre style=\"overflow: auto; white-space: pre;\">(0, 0): ───H───────────────Rz(pi*x_0)────────────────@──────────────────────────────────────────────────────@────────────────────────────────────────@──────────────────────────────────────────────────────────────────────────────────@─────────────────────────────────────────────────────────\n",
       "                                                     │                                                      │                                        │                                                                                  │\n",
       "(0, 1): ───────H────────────────────────Rz(pi*x_1)───X─────────────────────────Rz(pi*&lt;cos(x_0)*cos(x_1)&gt;)───X───@────────────────────────────────@───X────────────────────────────────────@─────────────────────────────────────────@───X───@─────────────────────────────────────────────────@───\n",
       "                                                                                                                │                                │                                        │                                         │       │                                                 │\n",
       "(0, 2): ───────────H─────────────────────────────────Rz(pi*x_2)─────────────────────────────────────────────────X───Rz(pi*&lt;cos(x_1)*cos(x_2)&gt;)───X───@────────────────────────────────@───X───Rz(pi*&lt;cos(x_0)*cos(x_1)*cos(x_2)&gt;)───X───────X───@─────────────────────────────────────────@───X───\n",
       "                                                                                                                                                     │                                │                                                         │                                         │\n",
       "(0, 3): ───────────────H──────────────────────────────────────────Rz(pi*x_3)─────────────────────────────────────────────────────────────────────────X───Rz(pi*&lt;cos(x_2)*cos(x_3)&gt;)───X─────────────────────────────────────────────────────────X───Rz(pi*&lt;cos(x_1)*cos(x_2)*cos(x_3)&gt;)───X───────</pre>"
      ],
      "text/plain": [
       "(0, 0): ───H───────────────Rz(pi*x_0)────────────────@──────────────────────────────────────────────────────@────────────────────────────────────────@──────────────────────────────────────────────────────────────────────────────────@─────────────────────────────────────────────────────────\n",
       "                                                     │                                                      │                                        │                                                                                  │\n",
       "(0, 1): ───────H────────────────────────Rz(pi*x_1)───X─────────────────────────Rz(pi*<cos(x_0)*cos(x_1)>)───X───@────────────────────────────────@───X────────────────────────────────────@─────────────────────────────────────────@───X───@─────────────────────────────────────────────────@───\n",
       "                                                                                                                │                                │                                        │                                         │       │                                                 │\n",
       "(0, 2): ───────────H─────────────────────────────────Rz(pi*x_2)─────────────────────────────────────────────────X───Rz(pi*<cos(x_1)*cos(x_2)>)───X───@────────────────────────────────@───X───Rz(pi*<cos(x_0)*cos(x_1)*cos(x_2)>)───X───────X───@─────────────────────────────────────────@───X───\n",
       "                                                                                                                                                     │                                │                                                         │                                         │\n",
       "(0, 3): ───────────────H──────────────────────────────────────────Rz(pi*x_3)─────────────────────────────────────────────────────────────────────────X───Rz(pi*<cos(x_2)*cos(x_3)>)───X─────────────────────────────────────────────────────────X───Rz(pi*<cos(x_1)*cos(x_2)*cos(x_3)>)───X───────"
      ]
     },
     "execution_count": 17,
     "metadata": {},
     "output_type": "execute_result"
    }
   ],
   "source": [
    "import cirq\n",
    "encoding_circuit = GeneralPauliEncoding(feature_dimension=4, paulis=['Z', 'ZZ', 'ZZZ'],\n",
    "                                        encoding_map='cosine_product', entangle_strategy='linear', copies=1,\n",
    "                                        insert_strategy=cirq.circuits.InsertStrategy.NEW)\n",
    "encoding_circuit"
   ]
  },
  {
   "cell_type": "markdown",
   "id": "continuing-falls",
   "metadata": {},
   "source": [
    "## Create customized encoding function"
   ]
  },
  {
   "cell_type": "code",
   "execution_count": 18,
   "id": "dedicated-puzzle",
   "metadata": {},
   "outputs": [],
   "source": [
    "def naive_encoding(x) -> float:\n",
    "    \"\"\"\n",
    "    Function: (x_0 + x_1 - x_2 + x_3 ...)/n\n",
    "    Domain: (-1, +1)\n",
    "    Range: (-1, +1)\n",
    "\n",
    "    Args:\n",
    "        x: data\n",
    "\n",
    "    Returns:\n",
    "        float: the mapped value\n",
    "    \"\"\"\n",
    "    coeff = 0\n",
    "    for i, x_ in enumerate(x):\n",
    "        if i % 2 == 0:\n",
    "            coeff += x_\n",
    "        else:\n",
    "            coeff -= x_\n",
    "    coeff /= len(x)\n",
    "    return coeff"
   ]
  },
  {
   "cell_type": "code",
   "execution_count": 19,
   "id": "asian-defense",
   "metadata": {},
   "outputs": [
    {
     "data": {
      "text/latex": [
       "$\\displaystyle \\frac{x_{0}}{5} - \\frac{x_{1}}{5} + \\frac{x_{2}}{5} - \\frac{x_{3}}{5} + \\frac{x_{4}}{5}$"
      ],
      "text/plain": [
       "x_0/5 - x_1/5 + x_2/5 - x_3/5 + x_4/5"
      ]
     },
     "execution_count": 19,
     "metadata": {},
     "output_type": "execute_result"
    }
   ],
   "source": [
    "naive_encoding(x)"
   ]
  },
  {
   "cell_type": "code",
   "execution_count": 20,
   "id": "referenced-administration",
   "metadata": {},
   "outputs": [
    {
     "data": {
      "text/html": [
       "<pre style=\"overflow: auto; white-space: pre;\">(0, 0): ───H───Rz(pi*x_0)───@────────────────────────────@────────────────────────────────────@──────────────────────────────────────────────────────────────────────────────────────────────────@─────────────────────────────────────────────────────────────────────────────────────────────────────\n",
       "                            │                            │                                    │                                                                                                  │\n",
       "(0, 1): ───H───Rz(pi*x_1)───X───Rz(pi*&lt;x_0/2 - x_1/2&gt;)───X───@────────────────────────────@───X────────────────────────────────@─────────────────────────────────────────────────────────────@───X───@────────────────────────────────────────────@────────────────────────────────────────────────────\n",
       "                                                             │                            │                                    │                                                             │       │                                            │\n",
       "(0, 2): ───H───Rz(pi*x_2)────────────────────────────────────X───Rz(pi*&lt;x_1/2 - x_2/2&gt;)───X───@────────────────────────────@───X────────────────────────────Rz(pi*&lt;x_0/3 - x_1/3 + x_2/3&gt;)───X───────X───@────────────────────────────────────@───X───@────────────────────────────────────────────@───\n",
       "                                                                                              │                            │                                                                             │                                    │       │                                            │\n",
       "(0, 3): ───H───Rz(pi*x_3)─────────────────────────────────────────────────────────────────────X───Rz(pi*&lt;x_2/2 - x_3/2&gt;)───X───@────────────────────────────@────────────────────────────────────────────X───Rz(pi*&lt;x_1/3 - x_2/3 + x_3/3&gt;)───X───────X───@────────────────────────────────────@───X───\n",
       "                                                                                                                               │                            │                                                                                             │                                    │\n",
       "(0, 4): ───H───Rz(pi*x_4)──────────────────────────────────────────────────────────────────────────────────────────────────────X───Rz(pi*&lt;x_3/2 - x_4/2&gt;)───X─────────────────────────────────────────────────────────────────────────────────────────────X───Rz(pi*&lt;x_2/3 - x_3/3 + x_4/3&gt;)───X───────</pre>"
      ],
      "text/plain": [
       "(0, 0): ───H───Rz(pi*x_0)───@────────────────────────────@────────────────────────────────────@──────────────────────────────────────────────────────────────────────────────────────────────────@─────────────────────────────────────────────────────────────────────────────────────────────────────\n",
       "                            │                            │                                    │                                                                                                  │\n",
       "(0, 1): ───H───Rz(pi*x_1)───X───Rz(pi*<x_0/2 - x_1/2>)───X───@────────────────────────────@───X────────────────────────────────@─────────────────────────────────────────────────────────────@───X───@────────────────────────────────────────────@────────────────────────────────────────────────────\n",
       "                                                             │                            │                                    │                                                             │       │                                            │\n",
       "(0, 2): ───H───Rz(pi*x_2)────────────────────────────────────X───Rz(pi*<x_1/2 - x_2/2>)───X───@────────────────────────────@───X────────────────────────────Rz(pi*<x_0/3 - x_1/3 + x_2/3>)───X───────X───@────────────────────────────────────@───X───@────────────────────────────────────────────@───\n",
       "                                                                                              │                            │                                                                             │                                    │       │                                            │\n",
       "(0, 3): ───H───Rz(pi*x_3)─────────────────────────────────────────────────────────────────────X───Rz(pi*<x_2/2 - x_3/2>)───X───@────────────────────────────@────────────────────────────────────────────X───Rz(pi*<x_1/3 - x_2/3 + x_3/3>)───X───────X───@────────────────────────────────────@───X───\n",
       "                                                                                                                               │                            │                                                                                             │                                    │\n",
       "(0, 4): ───H───Rz(pi*x_4)──────────────────────────────────────────────────────────────────────────────────────────────────────X───Rz(pi*<x_3/2 - x_4/2>)───X─────────────────────────────────────────────────────────────────────────────────────────────X───Rz(pi*<x_2/3 - x_3/3 + x_4/3>)───X───────"
      ]
     },
     "execution_count": 20,
     "metadata": {},
     "output_type": "execute_result"
    }
   ],
   "source": [
    "encoding_circuit = GeneralPauliEncoding(feature_dimension=5, paulis=['Z','ZZ', 'ZZZ'],\n",
    "                                        encoding_map=naive_encoding, entangle_strategy='linear', copies=1)\n",
    "encoding_circuit"
   ]
  },
  {
   "cell_type": "code",
   "execution_count": null,
   "id": "finite-banking",
   "metadata": {},
   "outputs": [],
   "source": []
  }
 ],
 "metadata": {
  "kernelspec": {
   "display_name": "Python 3",
   "language": "python",
   "name": "python3"
  },
  "language_info": {
   "codemirror_mode": {
    "name": "ipython",
    "version": 3
   },
   "file_extension": ".py",
   "mimetype": "text/x-python",
   "name": "python",
   "nbconvert_exporter": "python",
   "pygments_lexer": "ipython3",
   "version": "3.7.10"
  }
 },
 "nbformat": 4,
 "nbformat_minor": 5
}
