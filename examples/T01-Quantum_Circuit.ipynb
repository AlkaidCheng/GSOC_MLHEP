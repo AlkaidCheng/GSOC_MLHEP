{
 "cells": [
  {
   "cell_type": "code",
   "execution_count": 1,
   "id": "norwegian-thought",
   "metadata": {},
   "outputs": [],
   "source": [
    "if 'google.colab' in str(get_ipython()):\n",
    "  # install packages required for this tutorial\n",
    "  !pip install tensorflow==2.3.1\n",
    "  !pip install tensorflow_quantum==0.4.0\n",
    "  !pip install quple==0.7.4"
   ]
  },
  {
   "cell_type": "markdown",
   "id": "inclusive-delta",
   "metadata": {},
   "source": [
    "# Tutorial-01 Quantum Circuit\n",
    "\n",
    "In this tutorial, you will learn how to:\n",
    "\n",
    "- Create a quantum circuit with customizable qubit layout\n",
    "- Apply gate operations on specific set of qubits for a given circuit\n",
    "- Parameterise a gate operation and resolve the parameters with custom input values\n",
    "- Circuit simulation: statevector simulation and expectation simulation"
   ]
  },
  {
   "cell_type": "code",
   "execution_count": 1,
   "id": "arranged-wireless",
   "metadata": {},
   "outputs": [],
   "source": [
    "import cirq\n",
    "import numpy as np\n",
    "import sympy as sp\n",
    "import quple"
   ]
  },
  {
   "cell_type": "markdown",
   "id": "optical-advocacy",
   "metadata": {},
   "source": [
    "## Create Quantum Circuits\n",
    "\n",
    "- In quple, a base class for building quantum circuit is `quple.QuantumCircuit` which is derived from the `cirq.Circuits` class. So any methods applicable to `cirq.Circuits` can also be applied to `quple.QuantumCircuit`.\n",
    "- The `QuantumCircuit` class accepts the following arguments:\n",
    " - `n_qubit`: If int, it specifies the number of qubits in the circuit.\\\n",
    " If iterable of cirq.GridQubit object, it specifies the exact qubit layout of the circuit. \n",
    " - `name`: Name of the circuit\n",
    " - `insert_strategy`: The insertion strategy of gate operations in the circuit. Default is cirq.circuits.InsertStrategy.INLINE\n",
    " - `backend`: The backend for circuit simulation. If None, defaults to the native TensorFlow simulator"
   ]
  },
  {
   "cell_type": "code",
   "execution_count": 2,
   "id": "supported-jurisdiction",
   "metadata": {},
   "outputs": [],
   "source": [
    "from quple import QuantumCircuit"
   ]
  },
  {
   "cell_type": "code",
   "execution_count": 3,
   "id": "beautiful-license",
   "metadata": {},
   "outputs": [
    {
     "name": "stdout",
     "output_type": "stream",
     "text": [
      "Qubit layout for the circuit \"line_qubit_layout\":\n"
     ]
    },
    {
     "data": {
      "text/plain": [
       "[cirq.GridQubit(0, 0),\n",
       " cirq.GridQubit(0, 1),\n",
       " cirq.GridQubit(0, 2),\n",
       " cirq.GridQubit(0, 3),\n",
       " cirq.GridQubit(0, 4)]"
      ]
     },
     "execution_count": 3,
     "metadata": {},
     "output_type": "execute_result"
    }
   ],
   "source": [
    "cq = QuantumCircuit(n_qubit=5, name='line_qubit_layout')\n",
    "print('Qubit layout for the circuit \"{}\":'.format(cq.name))\n",
    "# by default, a line qubit layout is used\n",
    "cq.qubits"
   ]
  },
  {
   "cell_type": "code",
   "execution_count": 4,
   "id": "virgin-captain",
   "metadata": {},
   "outputs": [
    {
     "name": "stdout",
     "output_type": "stream",
     "text": [
      "Qubit layout for the circuit \"square_qubit_layout\":\n"
     ]
    },
    {
     "data": {
      "text/plain": [
       "[cirq.GridQubit(0, 0),\n",
       " cirq.GridQubit(0, 1),\n",
       " cirq.GridQubit(0, 2),\n",
       " cirq.GridQubit(1, 0),\n",
       " cirq.GridQubit(1, 1),\n",
       " cirq.GridQubit(1, 2),\n",
       " cirq.GridQubit(2, 0),\n",
       " cirq.GridQubit(2, 1),\n",
       " cirq.GridQubit(2, 2)]"
      ]
     },
     "execution_count": 4,
     "metadata": {},
     "output_type": "execute_result"
    }
   ],
   "source": [
    "# now let's try a square grid qubit layout\n",
    "qubits = cirq.GridQubit.rect(3, 3)\n",
    "cq_2 = QuantumCircuit(n_qubit=qubits, name='square_qubit_layout')\n",
    "print('Qubit layout for the circuit \"{}\":'.format(cq_2.name))\n",
    "# by default, a line qubit layout is used\n",
    "cq_2.qubits"
   ]
  },
  {
   "cell_type": "markdown",
   "id": "vertical-nutrition",
   "metadata": {},
   "source": [
    "## Apply gate operations\n",
    "\n",
    "- `QuantumCircuit` allows for easy application of gate operations with the following features:\n",
    " - Most gate operations are appened to the `QuantumCircuit` class methods. The gate operation can also be accessed by specifying its corresponding string representation.\n",
    " - Evey qubit in the circuit is represented by an index. So the target qubit(s) of a gate operation can be specified purely by the qubits' numeric indices. "
   ]
  },
  {
   "cell_type": "markdown",
   "id": "unlike-symposium",
   "metadata": {},
   "source": [
    "### Construction of the quantum circuit for a Bell state"
   ]
  },
  {
   "cell_type": "code",
   "execution_count": 5,
   "id": "parallel-phase",
   "metadata": {},
   "outputs": [
    {
     "data": {
      "text/html": [
       "<pre style=\"overflow: auto; white-space: pre;\">(0, 0): ───H───@───\n",
       "               │\n",
       "(0, 1): ───────X───</pre>"
      ],
      "text/plain": [
       "(0, 0): ───H───@───\n",
       "               │\n",
       "(0, 1): ───────X───"
      ]
     },
     "execution_count": 5,
     "metadata": {},
     "output_type": "execute_result"
    }
   ],
   "source": [
    "# Creates a circuit with 2 qubits\n",
    "cq = QuantumCircuit(2, name='BellCircuit')\n",
    "# Apply the Hadamard gate to the qubit with index 0 \n",
    "cq.H(0)\n",
    "# Apply the CNOT gate to qubits with indices 0 and 1\n",
    "# with the first one being the control qubit\n",
    "cq.CNOT((0,1))\n",
    "# Print out the circuit diagram\n",
    "cq"
   ]
  },
  {
   "cell_type": "markdown",
   "id": "dying-struggle",
   "metadata": {},
   "source": [
    "### Construction of a more complicated quantum circuit"
   ]
  },
  {
   "cell_type": "code",
   "execution_count": 6,
   "id": "binding-catch",
   "metadata": {},
   "outputs": [
    {
     "data": {
      "text/html": [
       "<pre style=\"overflow: auto; white-space: pre;\">(0, 0): ───H──────────────@───────────\n",
       "                          │\n",
       "(0, 1): ───H──────────────X───@───────\n",
       "                              │\n",
       "(0, 2): ───H───Rz(pi/4)───────┼───@───\n",
       "                              │   │\n",
       "(0, 3): ───H───Rz(pi/4)───────X───┼───\n",
       "                                  │\n",
       "(0, 4): ───H───Rz(pi/4)───────────X───</pre>"
      ],
      "text/plain": [
       "(0, 0): ───H──────────────@───────────\n",
       "                          │\n",
       "(0, 1): ───H──────────────X───@───────\n",
       "                              │\n",
       "(0, 2): ───H───Rz(pi/4)───────┼───@───\n",
       "                              │   │\n",
       "(0, 3): ───H───Rz(pi/4)───────X───┼───\n",
       "                                  │\n",
       "(0, 4): ───H───Rz(pi/4)───────────X───"
      ]
     },
     "execution_count": 6,
     "metadata": {},
     "output_type": "execute_result"
    }
   ],
   "source": [
    "# Creates a circuit with 5 qubits\n",
    "cq = QuantumCircuit(5)\n",
    "# Apply the Hadamard gate to all qubits\n",
    "cq.H(cq.qubits)\n",
    "# Apply the RZ gates to qubits 2,3 and 4 with a rotation angle of pi/4 \n",
    "cq.RZ(sp.pi/4, cq.qubits[2:5])\n",
    "# to make the circuit diagram looks less tangled for 2-qubit gates use the NEW insert strategy instead\n",
    "cq.set_insert_strategy(cirq.circuits.InsertStrategy.NEW)\n",
    "# Apply the CNOT gates to the qubit pairs (0, 1), (1, 3), (2, 4)\n",
    "cq.CNOT([(0, 1), (1, 3), (2,4)])\n",
    "# Print out the circuit diagram\n",
    "cq"
   ]
  },
  {
   "cell_type": "markdown",
   "id": "legal-basketball",
   "metadata": {},
   "source": [
    "Another approach to applying gate operation to a quantum circuit is via the `appply_gate_operation` method\n",
    "\n",
    "The arguments are:\n",
    "\n",
    "apply_gate_operation(operation:[str, cirq.Gate], qubit_expr, params=None)"
   ]
  },
  {
   "cell_type": "code",
   "execution_count": 7,
   "id": "narrative-virgin",
   "metadata": {},
   "outputs": [
    {
     "data": {
      "text/html": [
       "<pre style=\"overflow: auto; white-space: pre;\">(0, 0): ───H──────────────@───────────────\n",
       "                          │\n",
       "(0, 1): ───H──────────────X───@───────────\n",
       "                              │\n",
       "(0, 2): ───H───Rz(pi/4)───────┼───@───────\n",
       "                              │   │\n",
       "(0, 3): ───H───Rz(pi/4)───────X───┼───×───\n",
       "                                  │   │\n",
       "(0, 4): ───H───Rz(pi/4)───────────X───×───</pre>"
      ],
      "text/plain": [
       "(0, 0): ───H──────────────@───────────────\n",
       "                          │\n",
       "(0, 1): ───H──────────────X───@───────────\n",
       "                              │\n",
       "(0, 2): ───H───Rz(pi/4)───────┼───@───────\n",
       "                              │   │\n",
       "(0, 3): ───H───Rz(pi/4)───────X───┼───×───\n",
       "                                  │   │\n",
       "(0, 4): ───H───Rz(pi/4)───────────X───×───"
      ]
     },
     "execution_count": 7,
     "metadata": {},
     "output_type": "execute_result"
    }
   ],
   "source": [
    "# Creates a circuit with 5 qubits\n",
    "cq = QuantumCircuit(5)\n",
    "# Apply the Hadamard gate to all qubits\n",
    "cq.apply_gate_operation('H', cq.qubits)\n",
    "# Apply the RZ gates to qubits 2,3 and 4 with a rotation angle of pi/4 \n",
    "cq.apply_gate_operation('RZ', cq.qubits[2:5], {'rads': sp.pi/4})\n",
    "# to make the circuit diagram looks less tangled for 2-qubit gates use the NEW insert strategy instead\n",
    "cq.set_insert_strategy(cirq.circuits.InsertStrategy.NEW)\n",
    "# Apply the CNOT gate to the qubit pairs (0, 1), (1, 3), (2, 4)\n",
    "cq.apply_gate_operation('CNOT', [(0, 1), (1, 3), (2,4)])\n",
    "# Apply the SWAP gate to the qubit pairs (3,4)\n",
    "cq.apply_gate_operation('SWAP', (3,4))\n",
    "# Print out the circuit diagram\n",
    "cq"
   ]
  },
  {
   "cell_type": "code",
   "execution_count": 8,
   "id": "parallel-coupon",
   "metadata": {},
   "outputs": [
    {
     "data": {
      "text/plain": [
       "{'H': cirq.H,\n",
       " 'I': cirq.I,\n",
       " 'S': cirq.S,\n",
       " 'T': cirq.T,\n",
       " 'X': cirq.X,\n",
       " 'Y': cirq.Y,\n",
       " 'Z': cirq.Z,\n",
       " 'PauliX': cirq.X,\n",
       " 'PauliY': cirq.Y,\n",
       " 'PauliZ': cirq.Z,\n",
       " 'CX': cirq.CNOT,\n",
       " 'CNOT': cirq.CNOT,\n",
       " 'CZ': cirq.CZ,\n",
       " 'XX': cirq.XX,\n",
       " 'YY': cirq.YY,\n",
       " 'ZZ': cirq.ZZ,\n",
       " 'XPowGate': cirq.ops.common_gates.XPowGate,\n",
       " 'YPowGate': cirq.ops.common_gates.YPowGate,\n",
       " 'ZPowGate': cirq.ops.common_gates.ZPowGate,\n",
       " 'XXPowGate': cirq.ops.parity_gates.XXPowGate,\n",
       " 'YYPowGate': cirq.ops.parity_gates.YYPowGate,\n",
       " 'ZZPowGate': cirq.ops.parity_gates.ZZPowGate,\n",
       " 'MS': <function cirq.ion.ion_gates.ms(rads: float) -> cirq.ion.ion_gates.MSGate>,\n",
       " 'RXX': <function quple.components.gate_ops.RXX(theta: float) -> cirq.ops.parity_gates.XXPowGate>,\n",
       " 'RYY': <function quple.components.gate_ops.RYY(theta: float) -> cirq.ops.parity_gates.YYPowGate>,\n",
       " 'RZZ': <function quple.components.gate_ops.RZZ(theta: float) -> cirq.ops.parity_gates.ZZPowGate>,\n",
       " 'RX': <function cirq.ops.common_gates.rx(rads: Union[float, sympy.core.basic.Basic]) -> cirq.ops.common_gates.XPowGate>,\n",
       " 'RY': <function cirq.ops.common_gates.ry(rads: Union[float, sympy.core.basic.Basic]) -> cirq.ops.common_gates.YPowGate>,\n",
       " 'RZ': <function cirq.ops.common_gates.rz(rads: Union[float, sympy.core.basic.Basic]) -> cirq.ops.common_gates.ZPowGate>,\n",
       " 'CCNOT': cirq.TOFFOLI,\n",
       " 'CCX': cirq.TOFFOLI,\n",
       " 'Toffoli': cirq.TOFFOLI,\n",
       " 'SWAP': cirq.SWAP,\n",
       " 'CSWAP': cirq.FREDKIN,\n",
       " 'ISWAP': cirq.ISWAP,\n",
       " 'RISWAP': <function cirq.ops.swap_gates.riswap(rads: Union[float, sympy.core.basic.Basic]) -> cirq.ops.swap_gates.ISwapPowGate>,\n",
       " 'FSim': cirq.ops.fsim_gate.FSimGate,\n",
       " 'Fredkin': cirq.FREDKIN,\n",
       " 'CXPowGate': cirq.ops.common_gates.CXPowGate,\n",
       " 'CZPowGate': cirq.ops.common_gates.CZPowGate,\n",
       " 'CNOTPowGate': cirq.ops.common_gates.CXPowGate,\n",
       " 'PauliRotation': quple.components.gate_ops.PauliRotation}"
      ]
     },
     "execution_count": 8,
     "metadata": {},
     "output_type": "execute_result"
    }
   ],
   "source": [
    "# to check the list of mapping from string to gate operations:\n",
    "from quple.circuits.quantum_circuit import kGateMapping\n",
    "kGateMapping"
   ]
  },
  {
   "cell_type": "markdown",
   "id": "talented-difference",
   "metadata": {},
   "source": [
    "### Appending circuits/ Combining circuits"
   ]
  },
  {
   "cell_type": "code",
   "execution_count": 9,
   "id": "cosmetic-hampshire",
   "metadata": {},
   "outputs": [
    {
     "name": "stdout",
     "output_type": "stream",
     "text": [
      "circuit 1:\n",
      "(0, 0): ───H───\n",
      "\n",
      "(0, 1): ───H───\n",
      "\n",
      "(0, 2): ───H───\n",
      "\n",
      "circuit 2:\n",
      "(0, 0): ───X───\n",
      "\n",
      "(0, 1): ───X───\n",
      "\n",
      "(0, 2): ───X───\n"
     ]
    }
   ],
   "source": [
    "# create two circuits with 3 qubits\n",
    "cq_1 = QuantumCircuit(3)\n",
    "cq_1.H(cq_1.qubits)\n",
    "cq_2 = QuantumCircuit(3)\n",
    "cq_2.X(cq_1.qubits)\n",
    "print('circuit 1:')\n",
    "print(cq_1)\n",
    "print()\n",
    "print('circuit 2:')\n",
    "print(cq_2)"
   ]
  },
  {
   "cell_type": "code",
   "execution_count": 10,
   "id": "limited-navigation",
   "metadata": {},
   "outputs": [
    {
     "data": {
      "text/html": [
       "<pre style=\"overflow: auto; white-space: pre;\">(0, 0): ───H───X───\n",
       "\n",
       "(0, 1): ───H───X───\n",
       "\n",
       "(0, 2): ───H───X───</pre>"
      ],
      "text/plain": [
       "(0, 0): ───H───X───\n",
       "\n",
       "(0, 1): ───H───X───\n",
       "\n",
       "(0, 2): ───H───X───"
      ]
     },
     "execution_count": 10,
     "metadata": {},
     "output_type": "execute_result"
    }
   ],
   "source": [
    "# create a third circuit that is a combination of the above two circuits\n",
    "cq_3 = cq_1 + cq_2\n",
    "cq_3"
   ]
  },
  {
   "cell_type": "code",
   "execution_count": 11,
   "id": "compact-nutrition",
   "metadata": {},
   "outputs": [
    {
     "data": {
      "text/html": [
       "<pre style=\"overflow: auto; white-space: pre;\">(0, 0): ───H───X───\n",
       "\n",
       "(0, 1): ───H───X───\n",
       "\n",
       "(0, 2): ───H───X───</pre>"
      ],
      "text/plain": [
       "(0, 0): ───H───X───\n",
       "\n",
       "(0, 1): ───H───X───\n",
       "\n",
       "(0, 2): ───H───X───"
      ]
     },
     "execution_count": 11,
     "metadata": {},
     "output_type": "execute_result"
    }
   ],
   "source": [
    "# alternatively, append the 2nd circuit to the 1st in place\n",
    "cq_1 += cq_2\n",
    "cq_1"
   ]
  },
  {
   "cell_type": "markdown",
   "id": "exciting-remedy",
   "metadata": {},
   "source": [
    "## Parameterise a gate operation"
   ]
  },
  {
   "cell_type": "code",
   "execution_count": 12,
   "id": "pregnant-passion",
   "metadata": {},
   "outputs": [
    {
     "data": {
      "text/html": [
       "<pre style=\"overflow: auto; white-space: pre;\">(0, 0): ───Rz(θ_0)───@─────────────────@───\n",
       "                     │                 │\n",
       "(0, 1): ───Rz(θ_1)───X───Rz(θ_0*θ_1)───X───</pre>"
      ],
      "text/plain": [
       "(0, 0): ───Rz(θ_0)───@─────────────────@───\n",
       "                     │                 │\n",
       "(0, 1): ───Rz(θ_1)───X───Rz(θ_0*θ_1)───X───"
      ]
     },
     "execution_count": 12,
     "metadata": {},
     "output_type": "execute_result"
    }
   ],
   "source": [
    "# Creates a circuit with 2 qubits\n",
    "cq = QuantumCircuit(2)\n",
    "# Parameterize the angle of an RZ operation on qubit 0 by \"theta_0\"\n",
    "theta_0 = sp.Symbol('θ_0')\n",
    "cq.RZ(theta_0, 0)\n",
    "# Parameterize the angle of an RZ operation on qubit 1 by \"theta_1\"\n",
    "theta_1 = sp.Symbol('θ_1')\n",
    "cq.RZ(theta_1, 1)\n",
    "# Parameterize the angle of an RZZ operation on the qubit pair (0, 1) with qubit 1 being the target qubit by \"theta_0*theta_1\"\n",
    "cq.PauliRotation('ZZ', theta_0*theta_1, (0, 1))\n",
    "cq"
   ]
  },
  {
   "cell_type": "code",
   "execution_count": 13,
   "id": "qualified-tobacco",
   "metadata": {},
   "outputs": [
    {
     "data": {
      "text/plain": [
       "['θ_0', 'θ_1']"
      ]
     },
     "execution_count": 13,
     "metadata": {},
     "output_type": "execute_result"
    }
   ],
   "source": [
    "#check the circuit symbols\n",
    "cq.symbols"
   ]
  },
  {
   "cell_type": "markdown",
   "id": "compressed-receiver",
   "metadata": {},
   "source": [
    "### Circuit flattening\n",
    "\n",
    "To more efficiently resolve parameter symbols to specified values for a complicated circuits, it is better to flatten the circuit so that each \"expression\" in a gate operation is regarded as an independent symbol"
   ]
  },
  {
   "cell_type": "code",
   "execution_count": 14,
   "id": "diverse-shannon",
   "metadata": {},
   "outputs": [
    {
     "data": {
      "text/html": [
       "<pre style=\"overflow: auto; white-space: pre;\">(0, 0): ───Rz(pi*&lt;θ_0/pi&gt;)───@─────────────────────────@───\n",
       "                             │                         │\n",
       "(0, 1): ───Rz(pi*&lt;θ_1/pi&gt;)───X───Rz(pi*&lt;θ_0*θ_1/pi&gt;)───X───</pre>"
      ],
      "text/plain": [
       "(0, 0): ───Rz(pi*<θ_0/pi>)───@─────────────────────────@───\n",
       "                             │                         │\n",
       "(0, 1): ───Rz(pi*<θ_1/pi>)───X───Rz(pi*<θ_0*θ_1/pi>)───X───"
      ]
     },
     "execution_count": 14,
     "metadata": {},
     "output_type": "execute_result"
    }
   ],
   "source": [
    "# flatten the circuit\n",
    "cq.flatten()\n",
    "cq"
   ]
  },
  {
   "cell_type": "code",
   "execution_count": 15,
   "id": "proud-navigation",
   "metadata": {},
   "outputs": [
    {
     "data": {
      "text/plain": [
       "['<θ_0*θ_1/pi>', '<θ_0/pi>', '<θ_1/pi>']"
      ]
     },
     "execution_count": 15,
     "metadata": {},
     "output_type": "execute_result"
    }
   ],
   "source": [
    "# now check the symbols again\n",
    "cq.symbols"
   ]
  },
  {
   "cell_type": "code",
   "execution_count": 16,
   "id": "brazilian-jason",
   "metadata": {},
   "outputs": [
    {
     "data": {
      "text/plain": [
       "['θ_0', 'θ_1']"
      ]
     },
     "execution_count": 16,
     "metadata": {},
     "output_type": "execute_result"
    }
   ],
   "source": [
    "# get get the original symbols after flattening:\n",
    "cq.raw_symbols"
   ]
  },
  {
   "cell_type": "code",
   "execution_count": 17,
   "id": "opposite-solution",
   "metadata": {},
   "outputs": [
    {
     "data": {
      "text/html": [
       "<pre style=\"overflow: auto; white-space: pre;\">(0, 0): ───Rz(θ_0)───@─────────────────@───\n",
       "                     │                 │\n",
       "(0, 1): ───Rz(θ_1)───X───Rz(θ_0*θ_1)───X───</pre>"
      ],
      "text/plain": [
       "(0, 0): ───Rz(θ_0)───@─────────────────@───\n",
       "                     │                 │\n",
       "(0, 1): ───Rz(θ_1)───X───Rz(θ_0*θ_1)───X───"
      ]
     },
     "execution_count": 17,
     "metadata": {},
     "output_type": "execute_result"
    }
   ],
   "source": [
    "# unflatten the circuit\n",
    "cq.unflatten()\n",
    "cq"
   ]
  },
  {
   "cell_type": "markdown",
   "id": "minus-blogger",
   "metadata": {},
   "source": [
    "### Resolve parameters of a circuit\n",
    "\n",
    "To obtain circuit with its paramterised gate operations resolved by some designated values, one can use the `resolve_parameters` method"
   ]
  },
  {
   "cell_type": "code",
   "execution_count": 18,
   "id": "weighted-monroe",
   "metadata": {},
   "outputs": [
    {
     "data": {
      "text/html": [
       "<pre style=\"overflow: auto; white-space: pre;\">(0, 0): ───Rz(0)──────@───────────@───\n",
       "                      │           │\n",
       "(0, 1): ───Rz(0.5π)───X───Rz(0)───X───</pre>"
      ],
      "text/plain": [
       "(0, 0): ───Rz(0)──────@───────────@───\n",
       "                      │           │\n",
       "(0, 1): ───Rz(0.5π)───X───Rz(0)───X───"
      ]
     },
     "execution_count": 18,
     "metadata": {},
     "output_type": "execute_result"
    }
   ],
   "source": [
    "# resolve the values:  theta_0 = 0, theta_1 = pi/2\n",
    "resolved_cq = cq.resolve_parameters(np.array([[0, np.pi/2]]))\n",
    "resolved_cq"
   ]
  },
  {
   "cell_type": "code",
   "execution_count": 19,
   "id": "economic-maryland",
   "metadata": {},
   "outputs": [
    {
     "data": {
      "text/html": [
       "<pre style=\"overflow: auto; white-space: pre;\">(0, 0): ───Rz(0)──────@───────────@───\n",
       "                      │           │\n",
       "(0, 1): ───Rz(0.5π)───X───Rz(0)───X───</pre>"
      ],
      "text/plain": [
       "(0, 0): ───Rz(0)──────@───────────@───\n",
       "                      │           │\n",
       "(0, 1): ───Rz(0.5π)───X───Rz(0)───X───"
      ]
     },
     "execution_count": 19,
     "metadata": {},
     "output_type": "execute_result"
    }
   ],
   "source": [
    "# this also work for flattened circuit the usual way\n",
    "cq.flatten()\n",
    "resolved_cq = cq.resolve_parameters(np.array([[0, np.pi/2]]))\n",
    "resolved_cq"
   ]
  },
  {
   "cell_type": "code",
   "execution_count": 20,
   "id": "related-section",
   "metadata": {},
   "outputs": [],
   "source": [
    "cq.unflatten()"
   ]
  },
  {
   "cell_type": "code",
   "execution_count": 21,
   "id": "naked-plaza",
   "metadata": {},
   "outputs": [
    {
     "name": "stdout",
     "output_type": "stream",
     "text": [
      "------------------------------------------------\n",
      "resolved circuit 0:\n",
      "(0, 0): ───Rz(0)──────@───────────@───\n",
      "                      │           │\n",
      "(0, 1): ───Rz(0.5π)───X───Rz(0)───X───\n",
      "------------------------------------------------\n",
      "resolved circuit 1:\n",
      "(0, 0): ───Rz(0.333π)───@────────────────@───\n",
      "                        │                │\n",
      "(0, 1): ───Rz(0.25π)────X───Rz(0.262π)───X───\n",
      "------------------------------------------------\n"
     ]
    }
   ],
   "source": [
    "# resolve multiple set of values:  \n",
    "# [(theta_0 = 0, theta_1 = pi/2), (theta_0 = pi/3, theta_1 = pi/4)]\n",
    "resolved_cqs = cq.resolve_parameters(np.array([[0, np.pi/2], [np.pi/3, np.pi/4]]))\n",
    "print('------------------------------------------------')\n",
    "print('resolved circuit 0:')\n",
    "print(resolved_cqs[0])\n",
    "print('------------------------------------------------')\n",
    "print('resolved circuit 1:')\n",
    "print(resolved_cqs[1])\n",
    "print('------------------------------------------------')"
   ]
  },
  {
   "cell_type": "code",
   "execution_count": 22,
   "id": "numerous-oregon",
   "metadata": {},
   "outputs": [
    {
     "name": "stdout",
     "output_type": "stream",
     "text": [
      "------------------------------------------------\n",
      "(0, 0): ───Rz(-0.485π)───@───────────────@───\n",
      "                         │               │\n",
      "(0, 1): ───Rz(-0.758π)───X───Rz(1.16π)───X───\n",
      "------------------------------------------------\n",
      "(0, 0): ───Rz(0.741π)────@─────────────────@───\n",
      "                         │                 │\n",
      "(0, 1): ───Rz(-0.288π)───X───Rz(-0.669π)───X───\n",
      "------------------------------------------------\n",
      "(0, 0): ───Rz(0.064π)────@─────────────────@───\n",
      "                         │                 │\n",
      "(0, 1): ───Rz(-0.679π)───X───Rz(-0.137π)───X───\n",
      "------------------------------------------------\n",
      "(0, 0): ───Rz(-0.329π)───@─────────────────@───\n",
      "                         │                 │\n",
      "(0, 1): ───Rz(0.885π)────X───Rz(-0.914π)───X───\n",
      "------------------------------------------------\n",
      "(0, 0): ───Rz(0.274π)───@────────────────@───\n",
      "                        │                │\n",
      "(0, 1): ───Rz(0.18π)────X───Rz(0.155π)───X───\n",
      "------------------------------------------------\n"
     ]
    }
   ],
   "source": [
    "n_circuit = 5\n",
    "# let's try some random values from -pi to pi\n",
    "random_values = np.random.uniform(-np.pi, np.pi, (n_circuit, len(cq.symbols)))\n",
    "resolved_cqs = cq.resolve_parameters(random_values)\n",
    "for c in resolved_cqs:\n",
    "    print('------------------------------------------------')\n",
    "    print(c)\n",
    "print('------------------------------------------------')"
   ]
  },
  {
   "cell_type": "markdown",
   "id": "creative-bidder",
   "metadata": {},
   "source": [
    "## Circuit simulation\n",
    "\n",
    "The `QuantumCircuit` class has two build-in methods for easy statevector and expectation simulation which uses the `tensorflow_quantum` layers.\n",
    "\n",
    "Alternative, one can simply treat a `QuantumCircuit` instance as a `cirq.Circuit` instance and perform simulation using cirq or tensorflow quantum build-in utilities"
   ]
  },
  {
   "cell_type": "markdown",
   "id": "universal-abortion",
   "metadata": {},
   "source": [
    "### statevector simulation\n",
    "\n",
    "To perform statevector simulation, simply use the `get_state_vectors` method from `QuantumCircuit`\n",
    "\n",
    "The arguments are:\n",
    "- vals: The values feeded to the parameter resolver. Default is None for the case of a non-parameterised circuit. If dict, it represents the map from sympy.Symbol objects to symbol values. If list of dict, it represents a list of parameter resolvers each with a map from sympy.Symbol objects to symbol values. If numpy array, it represents a mapping of symbol values according to the symbol indices."
   ]
  },
  {
   "cell_type": "code",
   "execution_count": 23,
   "id": "allied-interest",
   "metadata": {},
   "outputs": [
    {
     "data": {
      "text/html": [
       "<pre style=\"overflow: auto; white-space: pre;\">(0, 0): ───H───@───\n",
       "               │\n",
       "(0, 1): ───────X───</pre>"
      ],
      "text/plain": [
       "(0, 0): ───H───@───\n",
       "               │\n",
       "(0, 1): ───────X───"
      ]
     },
     "execution_count": 23,
     "metadata": {},
     "output_type": "execute_result"
    }
   ],
   "source": [
    "# let's check the statevector for a Bell circuit\n",
    "cq = QuantumCircuit(2, name='BellCircuit')\n",
    "cq.H(0)\n",
    "cq.CNOT((0,1))\n",
    "cq"
   ]
  },
  {
   "cell_type": "code",
   "execution_count": 24,
   "id": "executive-tomato",
   "metadata": {},
   "outputs": [
    {
     "data": {
      "text/plain": [
       "array([[7.0710677e-01-1.2802769e-08j, 0.0000000e+00+0.0000000e+00j,\n",
       "        2.7021173e-15-3.0908620e-08j, 7.0710677e-01+6.1817239e-08j]],\n",
       "      dtype=complex64)"
      ]
     },
     "execution_count": 24,
     "metadata": {},
     "output_type": "execute_result"
    }
   ],
   "source": [
    "cq.get_state_vectors()"
   ]
  },
  {
   "cell_type": "code",
   "execution_count": 25,
   "id": "static-naples",
   "metadata": {},
   "outputs": [
    {
     "data": {
      "text/html": [
       "<pre style=\"overflow: auto; white-space: pre;\">(0, 0): ───H───Rz(x)───@───\n",
       "                       │\n",
       "(0, 1): ───H───Rz(x)───X───</pre>"
      ],
      "text/plain": [
       "(0, 0): ───H───Rz(x)───@───\n",
       "                       │\n",
       "(0, 1): ───H───Rz(x)───X───"
      ]
     },
     "execution_count": 25,
     "metadata": {},
     "output_type": "execute_result"
    }
   ],
   "source": [
    "# let's check the statevector for a simple parameterised circuit\n",
    "cq = QuantumCircuit(2)\n",
    "cq.H([0, 1])\n",
    "cq.RZ(sp.Symbol('x'), [0, 1])\n",
    "cq.CNOT((0,1))\n",
    "cq"
   ]
  },
  {
   "cell_type": "code",
   "execution_count": 26,
   "id": "pleased-jonathan",
   "metadata": {},
   "outputs": [
    {
     "data": {
      "text/plain": [
       "array([0.49999997-1.81058493e-08j, 0.49999997+1.28027695e-08j,\n",
       "       0.49999997+4.37113883e-08j, 0.49999997+1.28027704e-08j],\n",
       "      dtype=complex64)"
      ]
     },
     "execution_count": 26,
     "metadata": {},
     "output_type": "execute_result"
    }
   ],
   "source": [
    "# resolve the values of the symbol x from 0 to 2pi with intervals of 200\n",
    "symbol_values = np.linspace(0, 2*np.pi, 200)\n",
    "symbol_values = symbol_values.reshape((200, 1))\n",
    "state_vectors = cq.get_state_vectors(symbol_values)\n",
    "state_vectors[0]"
   ]
  },
  {
   "cell_type": "markdown",
   "id": "athletic-western",
   "metadata": {},
   "source": [
    "### expecation simulation\n",
    "\n",
    "To perform expectation simulation, simply use the `get_expectation` method from `QuantumCircuit`\n",
    "\n",
    "The arguments are:\n",
    "- vals: The values feeded to the parameter resolver. Default is None for the case of a non-parameterised circuit. If dict, it represents the map from sympy.Symbol objects to symbol values. If list of dict, it represents a list of parameter resolvers each with a map from sympy.Symbol objects to symbol values. If numpy array, it represents a mapping of symbol values according to the symbol indices.\n",
    "- operators: cirq operators for measuring the expecation value. If None, defaults to the PauliZ operator in the first qubit.\n",
    "- repetitions: Number of measurement for computing the expecation. Default is 5000."
   ]
  },
  {
   "cell_type": "code",
   "execution_count": 27,
   "id": "helpful-obligation",
   "metadata": {},
   "outputs": [
    {
     "data": {
      "text/html": [
       "<pre style=\"overflow: auto; white-space: pre;\">(0, 0): ───H───@───\n",
       "               │\n",
       "(0, 1): ───────X───</pre>"
      ],
      "text/plain": [
       "(0, 0): ───H───@───\n",
       "               │\n",
       "(0, 1): ───────X───"
      ]
     },
     "execution_count": 27,
     "metadata": {},
     "output_type": "execute_result"
    }
   ],
   "source": [
    "# let's check the expectation for the first qubit for a Bell circuit\n",
    "cq = QuantumCircuit(2, name='BellCircuit')\n",
    "cq.H(0)\n",
    "cq.CNOT((0,1))\n",
    "cq"
   ]
  },
  {
   "cell_type": "code",
   "execution_count": 28,
   "id": "spoken-niagara",
   "metadata": {},
   "outputs": [
    {
     "name": "stdout",
     "output_type": "stream",
     "text": [
      "[[-0.0044 -0.0044]]\n"
     ]
    }
   ],
   "source": [
    "result = cq.get_expectation(operators=[cirq.Z(qubits[0]), cirq.Z(qubits[1])], repetitions=5000)\n",
    "print(result)"
   ]
  },
  {
   "cell_type": "markdown",
   "id": "criminal-glossary",
   "metadata": {},
   "source": [
    "We can see that both qubits have expectation 0 for the PauliZ operator. This means for both qubits, they have equal probability of being in the spin up (i.e. measured Z value is 1) or spin down (i.e. measured Z value is -1) states"
   ]
  },
  {
   "cell_type": "code",
   "execution_count": 29,
   "id": "centered-retirement",
   "metadata": {},
   "outputs": [
    {
     "data": {
      "text/html": [
       "<pre style=\"overflow: auto; white-space: pre;\">(0, 0): ───Rx(x)───</pre>"
      ],
      "text/plain": [
       "(0, 0): ───Rx(x)───"
      ]
     },
     "execution_count": 29,
     "metadata": {},
     "output_type": "execute_result"
    }
   ],
   "source": [
    "# let's check the expectation for a simple parameterised circuit\n",
    "cq = QuantumCircuit(1)\n",
    "cq.RX(sp.Symbol('x'), 0)\n",
    "cq"
   ]
  },
  {
   "cell_type": "code",
   "execution_count": 30,
   "id": "heavy-pepper",
   "metadata": {},
   "outputs": [],
   "source": [
    "symbol_values = np.linspace(0, 2*np.pi, 200)\n",
    "symbol_values = symbol_values.reshape((200, 1))\n",
    "result = cq.get_expectation(symbol_values)"
   ]
  },
  {
   "cell_type": "code",
   "execution_count": 31,
   "id": "cutting-israeli",
   "metadata": {},
   "outputs": [
    {
     "data": {
      "text/plain": [
       "<module 'matplotlib.pyplot' from '/afs/cern.ch/work/c/chlcheng/public/local/conda/miniconda/envs/ml-base/lib/python3.7/site-packages/matplotlib/pyplot.py'>"
      ]
     },
     "execution_count": 31,
     "metadata": {},
     "output_type": "execute_result"
    },
    {
     "data": {
      "image/png": "[encoded data removed]",
      "text/plain": [
       "<Figure size 432x288 with 1 Axes>"
      ]
     },
     "metadata": {
      "needs_background": "light"
     },
     "output_type": "display_data"
    }
   ],
   "source": [
    "import matplotlib.pyplot as plt\n",
    "x = np.linspace(0, 2*np.pi, 200)\n",
    "y = result.reshape((200))\n",
    "plt.plot(x, y)\n",
    "plt.xlabel('x')\n",
    "plt.ylabel('Expecation(Z)')\n",
    "plt"
   ]
  },
  {
   "cell_type": "code",
   "execution_count": null,
   "id": "terminal-nevada",
   "metadata": {},
   "outputs": [],
   "source": []
  }
 ],
 "metadata": {
  "kernelspec": {
   "display_name": "Python 3",
   "language": "python",
   "name": "python3"
  },
  "language_info": {
   "codemirror_mode": {
    "name": "ipython",
    "version": 3
   },
   "file_extension": ".py",
   "mimetype": "text/x-python",
   "name": "python",
   "nbconvert_exporter": "python",
   "pygments_lexer": "ipython3",
   "version": "3.7.10"
  }
 },
 "nbformat": 4,
 "nbformat_minor": 5
}
