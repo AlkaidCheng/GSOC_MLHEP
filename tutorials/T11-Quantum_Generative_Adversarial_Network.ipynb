{
 "cells": [
  {
   "cell_type": "markdown",
   "id": "38654f29",
   "metadata": {},
   "source": [
    "# Quantum Generative Adversarial Network (QGAN)\n",
    "\n",
    "This tutorial demonstrates how to use the `QGAN` class from Quple. It implements the basic architecture of a Generative Adversarial Network (GAN) equipped with generator and discriminator networks in both classical and quantum settings."
   ]
  },
  {
   "cell_type": "markdown",
   "id": "5388f71e",
   "metadata": {},
   "source": [
    "# Introduction\n",
    "\n",
    "## Basic Principles of GAN\n",
    "\n",
    "A Generative Adversarial Network (GAN) consists of two neural networks: a **generator** and a \\btext{discriminator} (or critic) which compete with together in a minimax two-player game.\n",
    "\n",
    "The goal for the generator is to generate new data (the **fake data**) that **resembles** the given training data (the **real data**) as closely as possible. This training data can be images, text, audio or any kind of numerical data. The goal for the discriminator on the other hand is to distinguish fake data samples created by the generator from the real data samples.\n",
    "\n",
    "The generator $\\mathcal{G}$ takes as input the prior samples $z$ from a prior distribution $q$ and outputs a fake data $\\mathbf{x}_{g} = (\\mathbf{z})$ where $G$ denotes the transformation (i.e. the neural net) made by $\\mathcal{G}$. The prior of $\\mathcal{G}$ is conventionally a high-dimensional continuous normal distribution with zero mean and unit variance. \n",
    "\n",
    "The discriminator $\\mathcal{D}$ takes indenpently as inputs the real data $\\mathbf{x}$ and the fake data $G(\\mathbf{z})$ and outputs the values $D(\\mathbf{x})$ and $D(G(\\mathbf{z}))$ where $D$ denotes the transformation made by $\\mathcal{D}$.\n",
    "\n",
    "In the original GAN paper by [Goodfellow](https://arxiv.org/pdf/1406.2661.pdf), the method is applied to generate fake images  which uses deep convolution architectures in the generator and discriminator neural networks. The generator and discriminator are trained according to the adversarial **minimax loss function**\n",
    "\n",
    "$$\\min_G\\max_D L(D, G) = \\mathbb{E}_{x\\sim p_{r}(x)}[\\log D(x)] + \\mathbb{E}_{z\\sim q(z)} [\\log(1-D(G(z)))]$$\n",
    "$$ = \\mathbb{E}_{x\\sim p_{r}(x)}[\\log D(x)] + \\mathbb{E}_{x\\sim p_{g}(x)} [\\log(1-D(x))]$$\n",
    "\n",
    "where $p_{r}(x)$ is the data distribution over real sample $x$, $p_{g}(x)$ is the generator's distribution over data $x$.\n",
    "\n",
    "### Some remarks on the loss function - 1\n",
    "\n",
    "This loss function quantifies the similarity between the generative data distribution $p_{g}(x)$ and the real sample distribution $p_{r}(x)$ by the Jensen-Shannon divergence divergence when the discriminator is optimal:\n",
    "\n",
    "$$L(G,D^∗)=2JS(p_{r}||p_{g})−2log2$$\n",
    "\n",
    "where $D^*$ represents the optimal discriminator that maximizes the loss function, and $JS$ is the Jensen-Shannon divergence, i.e.\n",
    "\n",
    "$$ JS(p||q) = KL(p|| \\frac{p+q}{2}) + KL(q||\\frac{p+q}{2})$$\n",
    "\n",
    "where $KL$ is the Kullback-Leiber divergence.\n",
    "\n",
    "#### Some remarks on the loss function - 2\n",
    "\n",
    "The minimax loss function can cause the GAN to get stuck in the early stages of GAN training when the discriminator's job is too easy. The original paper suggested modifying the generator loss so that the generator tries to maximize $log D(G(z))$ instead\n",
    "\n",
    "## Basic principles of a Quantum GAN (QGAN)\n",
    "\n",
    "The essence of a quantum version of the Generative Adversarial Network (GAN) is to replace the generator and discriminator neural networks with quantum neural networks made up of parameterized quantum circuits (PQCs).\n",
    "\n",
    "Both quantum generator and discriminator neural networks consist of two key components. The first component is a data encoding circuit (i.e. the **input layer**) that maps classical input data $x\\in \\mathbb{R}^N$  of $N$ variables into a quantum state $|\\Phi(x)\\rangle = U_{\\Phi(x)}|0\\rangle^N$ using a quantum feature map (Ref [Temme](https://www.nature.com/articles/s41586-019-0980-2)) $\\Phi(\\mathbf{x})$. The quantum state is then passed to a PQC layer (represented by the circuit ($W(\\theta)$) made up of a series of parameterized local single-qubit rotations $U_{\\text{loc}}(\\boldsymbol{\\theta})$ and two-qubit entagling operations in which the circuit parameters represent the weights of a neural network. \n",
    "\n",
    "A pure quantum neural network therefore represents the combined circuit operation  $W(\\boldsymbol{\\theta}) | \\Phi(\\mathbf{x})\\rangle$.\n",
    "\n",
    "Finally a total of $R$ (repetitions) of measurements (via a measurement operator $M_i$ which usually is the Pauli $Z$ operator acting on the $i$-th qubit) is made on one or multiple qubits of the combined circuit to measure the expectation values $P_i(\\mathbf{x}) = \\langle \\Phi(\\mathbf{x}) | W(\\theta)^\\dagger M_i W(\\boldsymbol{\\theta})|\\Phi(\\mathbf{x})\\rangle$. \n",
    "\n",
    "\n",
    "## Implementation of the `QGAN` class\n",
    "\n",
    "- Similar to the classical case, the quantum generator would take as input $\\mathbf{z}$ which would be standard Gaussian distributed random variables of a certain dimension (called `latent_dim`) specified by the user.\n",
    "\n",
    "- The quantum generator and discriminator neural networks normally consist of multiple layers of `PQC` and/or `QConv2D` instances from Quple which inherit from the tensorflow Keras Layer API.\n",
    "\n",
    "- By default the `QGAN` class uses the binary cross-entropy loss function which is the same as the modified minimax loss function\n",
    "\n",
    "- A classical optimizer such as Adam will be used to tune the circuit parameters $\\boldsymbol{\\theta}_G$ and $\\boldsymbol{\\theta}_D$ in the quantum generator and discriminator."
   ]
  },
  {
   "cell_type": "markdown",
   "id": "9bedd8a0",
   "metadata": {},
   "source": [
    "To better illustrates how the `QGAN` class works and the various features supported by the `QGAN` class, we will create a simple test case for demonstration."
   ]
  },
  {
   "cell_type": "markdown",
   "id": "e607e115",
   "metadata": {},
   "source": [
    "## 0. Setup"
   ]
  },
  {
   "cell_type": "code",
   "execution_count": 1,
   "id": "f7f58a9f",
   "metadata": {},
   "outputs": [],
   "source": [
    "import sys\n",
    "# install modules if inside google Colab environment\n",
    "if 'google.colab' in sys.modules:\n",
    "    !pip install tensorflow==2.4.1\n",
    "    !pip install tensorflow-quantum\n",
    "    !pip install quple==0.9.0"
   ]
  },
  {
   "cell_type": "code",
   "execution_count": 2,
   "id": "a951be2b",
   "metadata": {},
   "outputs": [],
   "source": [
    "import numpy as np\n",
    "\n",
    "import tensorflow as tf\n",
    "import tensorflow_quantum as tfq\n",
    "\n",
    "from quple.utils.visualization import visualize_images\n",
    "from quple.data_encoding import FirstOrderPauliZEncoding\n",
    "from quple import ParameterisedCircuit\n",
    "\n",
    "from quple.interface.tfq.layers import PQC, QConv2D\n",
    "from quple.utils.data_preparation import rescale_data"
   ]
  },
  {
   "cell_type": "markdown",
   "id": "fdd7dd3d",
   "metadata": {},
   "source": [
    "## 1. Create test images\n",
    "\n",
    "- We will reuse the test images from the last tutorial (T10) on the `QConv2D` layer. They are two classes of 4x4 images:\n",
    "\n",
    "1. Dark pixels in the central 2x2 region and the four corners;\n",
    "2. Bright pixels in the central 2x2 region and the four corners (i.e. inverse of 1.)\n",
    "\n",
    "- This time our goal is to train a QGAN model to generate these test images instead of classifying them."
   ]
  },
  {
   "cell_type": "code",
   "execution_count": 3,
   "id": "81996b5c",
   "metadata": {},
   "outputs": [],
   "source": [
    "# set random seed for reproducibility\n",
    "np.random.seed(2021)\n",
    "\n",
    "sample_size = 1000\n",
    "x_class_1 = np.random.normal(1, 0.1, size=(sample_size, 4, 4))\n",
    "x_class_2 = np.random.normal(1, 0.1, size=(sample_size, 4, 4))\n",
    "mesh_1 = np.array([[0, 1, 1, 0],\n",
    "                   [1, 0, 0, 1],\n",
    "                   [1, 0, 0, 1],\n",
    "                   [0, 1, 1, 0]])\n",
    "mesh_2 = np.array([[1, 0, 0, 1],\n",
    "                   [0, 1, 1, 0],\n",
    "                   [0, 1, 1, 0],\n",
    "                   [1, 0, 0, 1]])\n",
    "x_class_1 = x_class_1 - mesh_1\n",
    "x_class_2 = x_class_2 - mesh_2\n",
    "\n",
    "# rescale the data to have pixel value between 0 and 1\n",
    "x_class_1 = rescale_data(x_class_1, val_range=(0, 1))\n",
    "x_class_2 = rescale_data(x_class_2, val_range=(0, 1))"
   ]
  },
  {
   "cell_type": "markdown",
   "id": "2481a092",
   "metadata": {},
   "source": [
    "Let's take a look at the two classes of images"
   ]
  },
  {
   "cell_type": "code",
   "execution_count": 4,
   "id": "23563f50",
   "metadata": {},
   "outputs": [
    {
     "name": "stdout",
     "output_type": "stream",
     "text": [
      "Image class 1:\n"
     ]
    },
    {
     "data": {
      "text/plain": [
       "<module 'matplotlib.pyplot' from '/afs/cern.ch/work/c/chlcheng/public/local/conda/miniconda/envs/ml-base/lib/python3.7/site-packages/matplotlib/pyplot.py'>"
      ]
     },
     "execution_count": 4,
     "metadata": {},
     "output_type": "execute_result"
    },
    {
     "data": {
      "text/plain": [
       "<Figure size 432x288 with 0 Axes>"
      ]
     },
     "metadata": {},
     "output_type": "display_data"
    },
    {
     "data": {
      "image/png": "[encoded data removed]",
      "text/plain": [
       "<Figure size 1440x648 with 16 Axes>"
      ]
     },
     "metadata": {
      "needs_background": "light"
     },
     "output_type": "display_data"
    }
   ],
   "source": [
    "print(\"Image class 1:\")\n",
    "visualize_images(x_class_1[:16])"
   ]
  },
  {
   "cell_type": "code",
   "execution_count": 5,
   "id": "27727161",
   "metadata": {},
   "outputs": [
    {
     "name": "stdout",
     "output_type": "stream",
     "text": [
      "Image class 2:\n"
     ]
    },
    {
     "data": {
      "text/plain": [
       "<module 'matplotlib.pyplot' from '/afs/cern.ch/work/c/chlcheng/public/local/conda/miniconda/envs/ml-base/lib/python3.7/site-packages/matplotlib/pyplot.py'>"
      ]
     },
     "execution_count": 5,
     "metadata": {},
     "output_type": "execute_result"
    },
    {
     "data": {
      "text/plain": [
       "<Figure size 432x288 with 0 Axes>"
      ]
     },
     "metadata": {},
     "output_type": "display_data"
    },
    {
     "data": {
      "image/png": "[encoded data removed]",
      "text/plain": [
       "<Figure size 1440x648 with 16 Axes>"
      ]
     },
     "metadata": {
      "needs_background": "light"
     },
     "output_type": "display_data"
    }
   ],
   "source": [
    "print(\"Image class 2:\")\n",
    "visualize_images(x_class_2[:16])"
   ]
  },
  {
   "cell_type": "markdown",
   "id": "0648d3ce",
   "metadata": {},
   "source": [
    "## 2. Construct Quantum Generator and Discriminator Neural Networks\n",
    "\n",
    "- We will use both the `QConv2D` layer and the `PQC` layer to construct our quantum generator and quantum discriminator neural networks"
   ]
  },
  {
   "cell_type": "markdown",
   "id": "be8e6d45",
   "metadata": {},
   "source": [
    "### Quantum Filters\n",
    "\n",
    "- We will use both 2x2 and 3x3 quantum filters for the `QConv2D` layer"
   ]
  },
  {
   "cell_type": "markdown",
   "id": "b764a469",
   "metadata": {},
   "source": [
    "The **data encoding circuits** for the quantum filters consist of a layer of **Hadamard gates** and a layer of **Rz rotation** with rotation angles parameterized by the pixel values of the input data patches. The two layers are **repeated 2 times**. "
   ]
  },
  {
   "cell_type": "code",
   "execution_count": 6,
   "id": "3bdf4c19",
   "metadata": {},
   "outputs": [
    {
     "data": {
      "text/html": [
       "<pre style=\"overflow: auto; white-space: pre;\">(0, 0): ───H───Rz(pi*&lt;x_0/pi&gt;)───H───Rz(pi*&lt;x_0/pi&gt;)───\n",
       "\n",
       "(0, 1): ───H───Rz(pi*&lt;x_1/pi&gt;)───H───Rz(pi*&lt;x_1/pi&gt;)───\n",
       "\n",
       "(0, 2): ───H───Rz(pi*&lt;x_2/pi&gt;)───H───Rz(pi*&lt;x_2/pi&gt;)───\n",
       "\n",
       "(0, 3): ───H───Rz(pi*&lt;x_3/pi&gt;)───H───Rz(pi*&lt;x_3/pi&gt;)───</pre>"
      ],
      "text/plain": [
       "(0, 0): ───H───Rz(pi*<x_0/pi>)───H───Rz(pi*<x_0/pi>)───\n",
       "\n",
       "(0, 1): ───H───Rz(pi*<x_1/pi>)───H───Rz(pi*<x_1/pi>)───\n",
       "\n",
       "(0, 2): ───H───Rz(pi*<x_2/pi>)───H───Rz(pi*<x_2/pi>)───\n",
       "\n",
       "(0, 3): ───H───Rz(pi*<x_3/pi>)───H───Rz(pi*<x_3/pi>)───"
      ]
     },
     "execution_count": 6,
     "metadata": {},
     "output_type": "execute_result"
    }
   ],
   "source": [
    "data_circuit_2x2 = FirstOrderPauliZEncoding(feature_dimension=4, copies=2, parameter_scale=1)\n",
    "data_circuit_2x2"
   ]
  },
  {
   "cell_type": "code",
   "execution_count": 7,
   "id": "b29ace72",
   "metadata": {},
   "outputs": [
    {
     "data": {
      "text/html": [
       "<pre style=\"overflow: auto; white-space: pre;\">(0, 0): ───H───Rz(pi*&lt;x_0/pi&gt;)───H───Rz(pi*&lt;x_0/pi&gt;)───\n",
       "\n",
       "(0, 1): ───H───Rz(pi*&lt;x_1/pi&gt;)───H───Rz(pi*&lt;x_1/pi&gt;)───\n",
       "\n",
       "(0, 2): ───H───Rz(pi*&lt;x_2/pi&gt;)───H───Rz(pi*&lt;x_2/pi&gt;)───\n",
       "\n",
       "(0, 3): ───H───Rz(pi*&lt;x_3/pi&gt;)───H───Rz(pi*&lt;x_3/pi&gt;)───\n",
       "\n",
       "(0, 4): ───H───Rz(pi*&lt;x_4/pi&gt;)───H───Rz(pi*&lt;x_4/pi&gt;)───\n",
       "\n",
       "(0, 5): ───H───Rz(pi*&lt;x_5/pi&gt;)───H───Rz(pi*&lt;x_5/pi&gt;)───\n",
       "\n",
       "(0, 6): ───H───Rz(pi*&lt;x_6/pi&gt;)───H───Rz(pi*&lt;x_6/pi&gt;)───\n",
       "\n",
       "(0, 7): ───H───Rz(pi*&lt;x_7/pi&gt;)───H───Rz(pi*&lt;x_7/pi&gt;)───\n",
       "\n",
       "(0, 8): ───H───Rz(pi*&lt;x_8/pi&gt;)───H───Rz(pi*&lt;x_8/pi&gt;)───</pre>"
      ],
      "text/plain": [
       "(0, 0): ───H───Rz(pi*<x_0/pi>)───H───Rz(pi*<x_0/pi>)───\n",
       "\n",
       "(0, 1): ───H───Rz(pi*<x_1/pi>)───H───Rz(pi*<x_1/pi>)───\n",
       "\n",
       "(0, 2): ───H───Rz(pi*<x_2/pi>)───H───Rz(pi*<x_2/pi>)───\n",
       "\n",
       "(0, 3): ───H───Rz(pi*<x_3/pi>)───H───Rz(pi*<x_3/pi>)───\n",
       "\n",
       "(0, 4): ───H───Rz(pi*<x_4/pi>)───H───Rz(pi*<x_4/pi>)───\n",
       "\n",
       "(0, 5): ───H───Rz(pi*<x_5/pi>)───H───Rz(pi*<x_5/pi>)───\n",
       "\n",
       "(0, 6): ───H───Rz(pi*<x_6/pi>)───H───Rz(pi*<x_6/pi>)───\n",
       "\n",
       "(0, 7): ───H───Rz(pi*<x_7/pi>)───H───Rz(pi*<x_7/pi>)───\n",
       "\n",
       "(0, 8): ───H───Rz(pi*<x_8/pi>)───H───Rz(pi*<x_8/pi>)───"
      ]
     },
     "execution_count": 7,
     "metadata": {},
     "output_type": "execute_result"
    }
   ],
   "source": [
    "data_circuit_3x3 = FirstOrderPauliZEncoding(feature_dimension=9, copies=2, parameter_scale=1)\n",
    "data_circuit_3x3"
   ]
  },
  {
   "cell_type": "markdown",
   "id": "0226cae9",
   "metadata": {},
   "source": [
    "The **kernel circuits** consist of a layer of **Ry and Rz rotations** parameterized by the neural network weights $\\theta$ followed by a layer of **CNOT gates for entanglement** with **linear nearest-neighbor connectivity** arranged in an \"alternate\" manner. "
   ]
  },
  {
   "cell_type": "code",
   "execution_count": 8,
   "id": "629e5610",
   "metadata": {},
   "outputs": [
    {
     "data": {
      "text/html": [
       "<pre style=\"overflow: auto; white-space: pre;\">(0, 0): ───Ry(θ_0)───Rz(θ_4)───@───Ry(θ_8)───Rz(θ_12)──────────────@───────\n",
       "                               │                                   │\n",
       "(0, 1): ───Ry(θ_1)───Rz(θ_5)───X───@─────────Ry(θ_9)────Rz(θ_13)───X───@───\n",
       "                                   │                                   │\n",
       "(0, 2): ───Ry(θ_2)───Rz(θ_6)───@───X─────────Ry(θ_10)───Rz(θ_14)───@───X───\n",
       "                               │                                   │\n",
       "(0, 3): ───Ry(θ_3)───Rz(θ_7)───X─────────────Ry(θ_11)───Rz(θ_15)───X───────</pre>"
      ],
      "text/plain": [
       "(0, 0): ───Ry(θ_0)───Rz(θ_4)───@───Ry(θ_8)───Rz(θ_12)──────────────@───────\n",
       "                               │                                   │\n",
       "(0, 1): ───Ry(θ_1)───Rz(θ_5)───X───@─────────Ry(θ_9)────Rz(θ_13)───X───@───\n",
       "                                   │                                   │\n",
       "(0, 2): ───Ry(θ_2)───Rz(θ_6)───@───X─────────Ry(θ_10)───Rz(θ_14)───@───X───\n",
       "                               │                                   │\n",
       "(0, 3): ───Ry(θ_3)───Rz(θ_7)───X─────────────Ry(θ_11)───Rz(θ_15)───X───────"
      ]
     },
     "execution_count": 8,
     "metadata": {},
     "output_type": "execute_result"
    }
   ],
   "source": [
    "kernel_circuit_2x2 = ParameterisedCircuit(n_qubit=4, copies=2, \n",
    "                                      rotation_blocks=[\"RY\", \"RZ\"],\n",
    "                                      entanglement_blocks=[\"CX\"],\n",
    "                                      entangle_strategy=\"alternate_linear\")\n",
    "kernel_circuit_2x2"
   ]
  },
  {
   "cell_type": "code",
   "execution_count": 9,
   "id": "00228e2e",
   "metadata": {},
   "outputs": [
    {
     "data": {
      "text/html": [
       "<pre style=\"overflow: auto; white-space: pre;\">(0, 0): ───Ry(θ_0)───Rz(θ_9)────@───Ry(θ_18)───Rz(θ_27)──────────────@───Ry(θ_36)───Rz(θ_45)──────────────\n",
       "                                │                                    │\n",
       "(0, 1): ───Ry(θ_1)───Rz(θ_10)───X───@──────────Ry(θ_19)───Rz(θ_28)───X───@──────────Ry(θ_37)───Rz(θ_46)───\n",
       "                                    │                                    │\n",
       "(0, 2): ───Ry(θ_2)───Rz(θ_11)───@───X──────────Ry(θ_20)───Rz(θ_29)───@───X──────────Ry(θ_38)───Rz(θ_47)───\n",
       "                                │                                    │\n",
       "(0, 3): ───Ry(θ_3)───Rz(θ_12)───X───@──────────Ry(θ_21)───Rz(θ_30)───X───@──────────Ry(θ_39)───Rz(θ_48)───\n",
       "                                    │                                    │\n",
       "(0, 4): ───Ry(θ_4)───Rz(θ_13)───@───X──────────Ry(θ_22)───Rz(θ_31)───@───X──────────Ry(θ_40)───Rz(θ_49)───\n",
       "                                │                                    │\n",
       "(0, 5): ───Ry(θ_5)───Rz(θ_14)───X───@──────────Ry(θ_23)───Rz(θ_32)───X───@──────────Ry(θ_41)───Rz(θ_50)───\n",
       "                                    │                                    │\n",
       "(0, 6): ───Ry(θ_6)───Rz(θ_15)───@───X──────────Ry(θ_24)───Rz(θ_33)───@───X──────────Ry(θ_42)───Rz(θ_51)───\n",
       "                                │                                    │\n",
       "(0, 7): ───Ry(θ_7)───Rz(θ_16)───X───@──────────Ry(θ_25)───Rz(θ_34)───X───@──────────Ry(θ_43)───Rz(θ_52)───\n",
       "                                    │                                    │\n",
       "(0, 8): ───Ry(θ_8)───Rz(θ_17)───────X──────────Ry(θ_26)───Rz(θ_35)───────X──────────Ry(θ_44)───Rz(θ_53)───</pre>"
      ],
      "text/plain": [
       "(0, 0): ───Ry(θ_0)───Rz(θ_9)────@───Ry(θ_18)───Rz(θ_27)──────────────@───Ry(θ_36)───Rz(θ_45)──────────────\n",
       "                                │                                    │\n",
       "(0, 1): ───Ry(θ_1)───Rz(θ_10)───X───@──────────Ry(θ_19)───Rz(θ_28)───X───@──────────Ry(θ_37)───Rz(θ_46)───\n",
       "                                    │                                    │\n",
       "(0, 2): ───Ry(θ_2)───Rz(θ_11)───@───X──────────Ry(θ_20)───Rz(θ_29)───@───X──────────Ry(θ_38)───Rz(θ_47)───\n",
       "                                │                                    │\n",
       "(0, 3): ───Ry(θ_3)───Rz(θ_12)───X───@──────────Ry(θ_21)───Rz(θ_30)───X───@──────────Ry(θ_39)───Rz(θ_48)───\n",
       "                                    │                                    │\n",
       "(0, 4): ───Ry(θ_4)───Rz(θ_13)───@───X──────────Ry(θ_22)───Rz(θ_31)───@───X──────────Ry(θ_40)───Rz(θ_49)───\n",
       "                                │                                    │\n",
       "(0, 5): ───Ry(θ_5)───Rz(θ_14)───X───@──────────Ry(θ_23)───Rz(θ_32)───X───@──────────Ry(θ_41)───Rz(θ_50)───\n",
       "                                    │                                    │\n",
       "(0, 6): ───Ry(θ_6)───Rz(θ_15)───@───X──────────Ry(θ_24)───Rz(θ_33)───@───X──────────Ry(θ_42)───Rz(θ_51)───\n",
       "                                │                                    │\n",
       "(0, 7): ───Ry(θ_7)───Rz(θ_16)───X───@──────────Ry(θ_25)───Rz(θ_34)───X───@──────────Ry(θ_43)───Rz(θ_52)───\n",
       "                                    │                                    │\n",
       "(0, 8): ───Ry(θ_8)───Rz(θ_17)───────X──────────Ry(θ_26)───Rz(θ_35)───────X──────────Ry(θ_44)───Rz(θ_53)───"
      ]
     },
     "execution_count": 9,
     "metadata": {},
     "output_type": "execute_result"
    }
   ],
   "source": [
    "kernel_circuit_3x3 = ParameterisedCircuit(n_qubit=9, copies=2, \n",
    "                                      rotation_blocks=[\"RY\", \"RZ\"],\n",
    "                                      entanglement_blocks=[\"CX\"],\n",
    "                                      entangle_strategy=\"alternate_linear\",\n",
    "                                      final_rotation_layer=True)\n",
    "kernel_circuit_3x3"
   ]
  },
  {
   "cell_type": "markdown",
   "id": "8bbcff36",
   "metadata": {},
   "source": [
    "### PQC layer\n",
    "\n",
    "- The PQC layer is applied to the end of the discriminator neural network for classifying the input images as being \"true\" or \"fake\". This layer is analogous to the fully connected layer in a classical CNN."
   ]
  },
  {
   "cell_type": "markdown",
   "id": "cf71322d",
   "metadata": {},
   "source": [
    "The data circuit used for the PQC layer has the same structure as the ones used for the quantum filters."
   ]
  },
  {
   "cell_type": "code",
   "execution_count": 10,
   "id": "e86dc286",
   "metadata": {},
   "outputs": [
    {
     "data": {
      "text/html": [
       "<pre style=\"overflow: auto; white-space: pre;\">(0, 0): ───H───Rz(pi*&lt;x_0/pi&gt;)───H───Rz(pi*&lt;x_0/pi&gt;)───\n",
       "\n",
       "(0, 1): ───H───Rz(pi*&lt;x_1/pi&gt;)───H───Rz(pi*&lt;x_1/pi&gt;)───\n",
       "\n",
       "(0, 2): ───H───Rz(pi*&lt;x_2/pi&gt;)───H───Rz(pi*&lt;x_2/pi&gt;)───\n",
       "\n",
       "(0, 3): ───H───Rz(pi*&lt;x_3/pi&gt;)───H───Rz(pi*&lt;x_3/pi&gt;)───</pre>"
      ],
      "text/plain": [
       "(0, 0): ───H───Rz(pi*<x_0/pi>)───H───Rz(pi*<x_0/pi>)───\n",
       "\n",
       "(0, 1): ───H───Rz(pi*<x_1/pi>)───H───Rz(pi*<x_1/pi>)───\n",
       "\n",
       "(0, 2): ───H───Rz(pi*<x_2/pi>)───H───Rz(pi*<x_2/pi>)───\n",
       "\n",
       "(0, 3): ───H───Rz(pi*<x_3/pi>)───H───Rz(pi*<x_3/pi>)───"
      ]
     },
     "execution_count": 10,
     "metadata": {},
     "output_type": "execute_result"
    }
   ],
   "source": [
    "pqc_data_circuit = FirstOrderPauliZEncoding(feature_dimension=4, copies=2, parameter_scale=1)\n",
    "pqc_data_circuit"
   ]
  },
  {
   "cell_type": "markdown",
   "id": "83153799",
   "metadata": {},
   "source": [
    "The model circuit for the PQC layer consists of 4 copies of single-qubit Ry Rz rotations and two-qubit ZZ and XX rotations all of which with angles parameterized by the neural network weights $\\theta$. "
   ]
  },
  {
   "cell_type": "code",
   "execution_count": 11,
   "id": "797ca8a3",
   "metadata": {},
   "outputs": [
    {
     "data": {
      "text/html": [
       "<pre style=\"overflow: auto; white-space: pre;\">                                                     ┌──────────────────┐                                       ┌──────────────────┐                                                              ┌──────────────────┐                                       ┌──────────────────┐                                                              ┌──────────────────┐                                       ┌──────────────────┐                                                              ┌──────────────────┐                                       ┌──────────────────┐\n",
       "(0, 0): ───Ry(θ_0)───Rz(θ_4)───ZZ─────────ZZ──────────ZZ────────────────────────────────XX──────────XX───────────XX────────────────────────────────Ry(θ_20)────Rz(θ_24)───ZZ──────────ZZ───────────ZZ────────────────────────────────XX──────────XX───────────XX────────────────────────────────Ry(θ_40)────Rz(θ_44)───ZZ──────────ZZ───────────ZZ────────────────────────────────XX──────────XX───────────XX────────────────────────────────Ry(θ_60)────Rz(θ_64)───ZZ──────────ZZ───────────ZZ────────────────────────────────XX──────────XX───────────XX────────────────────────────────────────────\n",
       "                               │          │           │                                 │           │            │                                                        │           │            │                                 │           │            │                                                        │           │            │                                 │           │            │                                                        │           │            │                                 │           │            │\n",
       "(0, 1): ───Ry(θ_1)───Rz(θ_5)───ZZ^(θ_8)───┼───────────┼────────ZZ───────────ZZ──────────XX^(θ_14)───┼────────────┼────────XX───────────XX──────────Ry(θ_21)────Rz(θ_25)───ZZ^(θ_28)───┼────────────┼────────ZZ───────────ZZ──────────XX^(θ_34)───┼────────────┼────────XX───────────XX──────────Ry(θ_41)────Rz(θ_45)───ZZ^(θ_48)───┼────────────┼────────ZZ───────────ZZ──────────XX^(θ_54)───┼────────────┼────────XX───────────XX──────────Ry(θ_61)────Rz(θ_65)───ZZ^(θ_68)───┼────────────┼────────ZZ───────────ZZ──────────XX^(θ_74)───┼────────────┼────────XX───────────XX──────────────────────\n",
       "                                          │           │        │            │                       │            │        │            │                                              │            │        │            │                       │            │        │            │                                              │            │        │            │                       │            │        │            │                                              │            │        │            │                       │            │        │            │\n",
       "(0, 2): ───Ry(θ_2)───Rz(θ_6)──────────────ZZ^(θ_9)────┼────────ZZ^(θ_11)────┼───────────ZZ──────────XX^(θ_15)────┼────────XX^(θ_17)────┼───────────XX──────────Ry(θ_22)───Rz(θ_26)────ZZ^(θ_29)────┼────────ZZ^(θ_31)────┼───────────ZZ──────────XX^(θ_35)────┼────────XX^(θ_37)────┼───────────XX──────────Ry(θ_42)───Rz(θ_46)────ZZ^(θ_49)────┼────────ZZ^(θ_51)────┼───────────ZZ──────────XX^(θ_55)────┼────────XX^(θ_57)────┼───────────XX──────────Ry(θ_62)───Rz(θ_66)────ZZ^(θ_69)────┼────────ZZ^(θ_71)────┼───────────ZZ──────────XX^(θ_75)────┼────────XX^(θ_77)────┼───────────XX──────────\n",
       "                                                      │                     │           │                        │                     │           │                                               │                     │           │                        │                     │           │                                               │                     │           │                        │                     │           │                                               │                     │           │                        │                     │           │\n",
       "(0, 3): ───Ry(θ_3)───Rz(θ_7)──────────────────────────ZZ^(θ_10)─────────────ZZ^(θ_12)───ZZ^(θ_13)────────────────XX^(θ_16)─────────────XX^(θ_18)───XX^(θ_19)───Ry(θ_23)───Rz(θ_27)─────────────────ZZ^(θ_30)─────────────ZZ^(θ_32)───ZZ^(θ_33)────────────────XX^(θ_36)─────────────XX^(θ_38)───XX^(θ_39)───Ry(θ_43)───Rz(θ_47)─────────────────ZZ^(θ_50)─────────────ZZ^(θ_52)───ZZ^(θ_53)────────────────XX^(θ_56)─────────────XX^(θ_58)───XX^(θ_59)───Ry(θ_63)───Rz(θ_67)─────────────────ZZ^(θ_70)─────────────ZZ^(θ_72)───ZZ^(θ_73)────────────────XX^(θ_76)─────────────XX^(θ_78)───XX^(θ_79)───\n",
       "                                                     └──────────────────┘                                       └──────────────────┘                                                              └──────────────────┘                                       └──────────────────┘                                                              └──────────────────┘                                       └──────────────────┘                                                              └──────────────────┘                                       └──────────────────┘</pre>"
      ],
      "text/plain": [
       "                                                     ┌──────────────────┐                                       ┌──────────────────┐                                                              ┌──────────────────┐                                       ┌──────────────────┐                                                              ┌──────────────────┐                                       ┌──────────────────┐                                                              ┌──────────────────┐                                       ┌──────────────────┐\n",
       "(0, 0): ───Ry(θ_0)───Rz(θ_4)───ZZ─────────ZZ──────────ZZ────────────────────────────────XX──────────XX───────────XX────────────────────────────────Ry(θ_20)────Rz(θ_24)───ZZ──────────ZZ───────────ZZ────────────────────────────────XX──────────XX───────────XX────────────────────────────────Ry(θ_40)────Rz(θ_44)───ZZ──────────ZZ───────────ZZ────────────────────────────────XX──────────XX───────────XX────────────────────────────────Ry(θ_60)────Rz(θ_64)───ZZ──────────ZZ───────────ZZ────────────────────────────────XX──────────XX───────────XX────────────────────────────────────────────\n",
       "                               │          │           │                                 │           │            │                                                        │           │            │                                 │           │            │                                                        │           │            │                                 │           │            │                                                        │           │            │                                 │           │            │\n",
       "(0, 1): ───Ry(θ_1)───Rz(θ_5)───ZZ^(θ_8)───┼───────────┼────────ZZ───────────ZZ──────────XX^(θ_14)───┼────────────┼────────XX───────────XX──────────Ry(θ_21)────Rz(θ_25)───ZZ^(θ_28)───┼────────────┼────────ZZ───────────ZZ──────────XX^(θ_34)───┼────────────┼────────XX───────────XX──────────Ry(θ_41)────Rz(θ_45)───ZZ^(θ_48)───┼────────────┼────────ZZ───────────ZZ──────────XX^(θ_54)───┼────────────┼────────XX───────────XX──────────Ry(θ_61)────Rz(θ_65)───ZZ^(θ_68)───┼────────────┼────────ZZ───────────ZZ──────────XX^(θ_74)───┼────────────┼────────XX───────────XX──────────────────────\n",
       "                                          │           │        │            │                       │            │        │            │                                              │            │        │            │                       │            │        │            │                                              │            │        │            │                       │            │        │            │                                              │            │        │            │                       │            │        │            │\n",
       "(0, 2): ───Ry(θ_2)───Rz(θ_6)──────────────ZZ^(θ_9)────┼────────ZZ^(θ_11)────┼───────────ZZ──────────XX^(θ_15)────┼────────XX^(θ_17)────┼───────────XX──────────Ry(θ_22)───Rz(θ_26)────ZZ^(θ_29)────┼────────ZZ^(θ_31)────┼───────────ZZ──────────XX^(θ_35)────┼────────XX^(θ_37)────┼───────────XX──────────Ry(θ_42)───Rz(θ_46)────ZZ^(θ_49)────┼────────ZZ^(θ_51)────┼───────────ZZ──────────XX^(θ_55)────┼────────XX^(θ_57)────┼───────────XX──────────Ry(θ_62)───Rz(θ_66)────ZZ^(θ_69)────┼────────ZZ^(θ_71)────┼───────────ZZ──────────XX^(θ_75)────┼────────XX^(θ_77)────┼───────────XX──────────\n",
       "                                                      │                     │           │                        │                     │           │                                               │                     │           │                        │                     │           │                                               │                     │           │                        │                     │           │                                               │                     │           │                        │                     │           │\n",
       "(0, 3): ───Ry(θ_3)───Rz(θ_7)──────────────────────────ZZ^(θ_10)─────────────ZZ^(θ_12)───ZZ^(θ_13)────────────────XX^(θ_16)─────────────XX^(θ_18)───XX^(θ_19)───Ry(θ_23)───Rz(θ_27)─────────────────ZZ^(θ_30)─────────────ZZ^(θ_32)───ZZ^(θ_33)────────────────XX^(θ_36)─────────────XX^(θ_38)───XX^(θ_39)───Ry(θ_43)───Rz(θ_47)─────────────────ZZ^(θ_50)─────────────ZZ^(θ_52)───ZZ^(θ_53)────────────────XX^(θ_56)─────────────XX^(θ_58)───XX^(θ_59)───Ry(θ_63)───Rz(θ_67)─────────────────ZZ^(θ_70)─────────────ZZ^(θ_72)───ZZ^(θ_73)────────────────XX^(θ_76)─────────────XX^(θ_78)───XX^(θ_79)───\n",
       "                                                     └──────────────────┘                                       └──────────────────┘                                                              └──────────────────┘                                       └──────────────────┘                                                              └──────────────────┘                                       └──────────────────┘                                                              └──────────────────┘                                       └──────────────────┘"
      ]
     },
     "execution_count": 11,
     "metadata": {},
     "output_type": "execute_result"
    }
   ],
   "source": [
    "pqc_model_circuit = ParameterisedCircuit(n_qubit=4, copies=4, \n",
    "                                      rotation_blocks=[\"RY\", \"RZ\"],\n",
    "                                      entanglement_blocks=[\"ZZ\",\"XX\"])\n",
    "pqc_model_circuit"
   ]
  },
  {
   "cell_type": "markdown",
   "id": "1b635b1f",
   "metadata": {},
   "source": [
    "We meausre the $Z$ component of the last qubit for the two quantum filters as well as the PQC."
   ]
  },
  {
   "cell_type": "code",
   "execution_count": 12,
   "id": "24445e1e",
   "metadata": {},
   "outputs": [],
   "source": [
    "readout_3x3 = kernel_circuit_3x3.get_gate_operation(\"Z\", -1)\n",
    "readout_2x2 = kernel_circuit_2x2.get_gate_operation(\"Z\", -1)\n",
    "PQC_readout = pqc_model_circuit.get_gate_operation(\"Z\", -1)"
   ]
  },
  {
   "cell_type": "markdown",
   "id": "90dc09dc",
   "metadata": {},
   "source": [
    "For the **quantun generator**, we use the following achitecture\n",
    "- The input data is a 4x4 image with each pixel value being a random variable sampled from the standard normal distribution.\n",
    "- A first quantum convolution layer (using the `QConv2D` class) with a 3x3 quantum filter. The following settings are used for this convolution layer:\n",
    "\n",
    "  1. `filters = 2`: A total of 2 filters are used (the same circuit structure but each filter has its own set of weights). The output from each filter constitute a unit depth for the output image. \n",
    "  2. `Strides = (1, 1)` and `padding = \"same\"`: The quantum filter moves cross the image horizontally and vertically 1 pixel at a time. Data patches around the corners and edges are zero-padded to make sure the output image has the same width and height as the input image. \n",
    "  3. `parameter sharing = False`. A new set of weights is used for the quantum filter at each data patches. Essentially, a different PQC (same structure but different weights) is applied to each data patches to output a new pixel value.\n",
    "  \n",
    "The output dimension of this layer is therefore 4 rows x 4 cols x 2 depth = (4, 4, 2).\n",
    "\n",
    "- A second quantum convolution layer (using the `QConv2D` class) with a 2x2 quantum filter. The following settings are used for this convolution layer:\n",
    "\n",
    "  1. `filters = 1`\n",
    "  2. `Strides = (1, 1)` and `padding = \"same\"`\n",
    "  3. `parameter sharing = True`. The same set of weights are used for the quantum filter when it scans across different data patches.\n",
    "  \n",
    "The final output dimension is therefore 4 rows x 4 cols x 1 depth = (4, 4, 1) which is the same as the dimension of the real data.\n",
    "\n",
    "Note: One can specify the random seed (via the `seed` argument) value to the `QConv2D` layer for reproducibility of the initial neural network weights."
   ]
  },
  {
   "cell_type": "code",
   "execution_count": 13,
   "id": "fc82e56d",
   "metadata": {},
   "outputs": [],
   "source": [
    "def create_quantum_generator():\n",
    "    model = tf.keras.Sequential()\n",
    "    model.add(tf.keras.layers.Input(shape=(16), dtype=tf.float32))\n",
    "    model.add(tf.keras.layers.Reshape((4, 4, 1)))\n",
    "    model.add(QConv2D(kernel_circuit_3x3, data_circuit_3x3, readout_3x3, kernel_size=(3, 3), \n",
    "                      filters=2, strides=(1, 1), padding=\"same\", parameter_sharing=False, seed=2021,\n",
    "                      ))\n",
    "    model.add(QConv2D(kernel_circuit_2x2, data_circuit_2x2, readout_2x2, kernel_size=(2, 2), \n",
    "                      filters=1, strides=(1, 1), padding=\"same\", parameter_sharing=True, seed=2022,\n",
    "                      ))\n",
    "    return model"
   ]
  },
  {
   "cell_type": "markdown",
   "id": "41944061",
   "metadata": {},
   "source": [
    "For the **quantun discriminator**, we use the following achitecture\n",
    "- The input data is a 4x4 image coming from either the \"fake\" image from the generator or the \"real\" image from the training data\n",
    "\n",
    "- A first quantum convolution layer (using the `QConv2D` class) with a 3x3 quantum filter. The following settings are used for this convolution layer:\n",
    "\n",
    "  1. `filters = 3`\n",
    "  2. `Strides = (1, 1)` and `padding = \"same\"`\n",
    "  3. `parameter sharing = True`.\n",
    "  \n",
    "The output dimension of this layer is therefore 4 rows x 4 cols x 2 depth = (4, 4, 3).\n",
    "\n",
    "- A second quantum convolution layer (using the `QConv2D` class) with a 2x2 quantum filter. The following settings are used for this convolution layer:\n",
    "\n",
    "  1. `filters = 1`\n",
    "  2. `Strides = (2, 2)` and `padding = \"same\"`: The quantum filter moves cross the image horizontally and vertically 1 pixel at a time. This essentially downsamples the input image to half the original size.\n",
    "  3. `parameter sharing = True`.\n",
    "  \n",
    "The output dimension of this layer is therefore 2 rows x 2 cols x 1 depth = (2, 2, 1).\n",
    "  \n",
    "- A final PQC layer that performs classifiaction on input data of dimension 2x2=4. "
   ]
  },
  {
   "cell_type": "code",
   "execution_count": 14,
   "id": "337010bd",
   "metadata": {},
   "outputs": [],
   "source": [
    "def create_quantum_discriminator():\n",
    "    model = tf.keras.Sequential()\n",
    "    model.add(tf.keras.layers.Input(shape=(4, 4, 1), dtype=tf.float32))\n",
    "    model.add(QConv2D(kernel_circuit_2x2, data_circuit_2x2, readout_2x2, kernel_size=(2, 2), \n",
    "                        filters=3, strides=(1, 1), padding=\"same\", parameter_sharing=True, seed=2023))\n",
    "    model.add(QConv2D(kernel_circuit_2x2, data_circuit_2x2, readout_2x2, kernel_size=(2, 2), \n",
    "                        filters=1, strides=(2, 2), padding=\"same\", parameter_sharing=True, seed=2024))\n",
    "    model.add(tf.keras.layers.Flatten())\n",
    "    model.add(PQC(pqc_model_circuit, pqc_data_circuit, PQC_readout, seed=2025))\n",
    "    return model"
   ]
  },
  {
   "cell_type": "markdown",
   "id": "a5ebcab8",
   "metadata": {},
   "source": [
    "## 3. Create the QGAN model\n",
    "\n",
    "The `QGAN` model is equivalent to a classical GAN model except the classical generator and discriminator are replaced by th quantum generator and discriminator.\n",
    "\n",
    "By default, the **modified minimax loss function** is used for the `QGAN`model. "
   ]
  },
  {
   "cell_type": "code",
   "execution_count": 15,
   "id": "2ff05e3d",
   "metadata": {},
   "outputs": [],
   "source": [
    "from quple.models.generative import QGAN"
   ]
  },
  {
   "cell_type": "markdown",
   "id": "6f921e78",
   "metadata": {},
   "source": [
    "We build the QGAN model with the following setup:\n",
    "\n",
    "- Number of epochs: 30\n",
    "- Generator optimizer: Adam (learning rate = 0.01)\n",
    "- Discriminator optimizer: Adam (learning rate = 0.01)\n",
    "- Batch size: 16\n",
    "- Number of discriminator iteration per generator iteration in each epoch: 1"
   ]
  },
  {
   "cell_type": "code",
   "execution_count": 16,
   "id": "0f2ce22f",
   "metadata": {},
   "outputs": [
    {
     "name": "stdout",
     "output_type": "stream",
     "text": [
      "Summary of Generator\n",
      "Model: \"sequential\"\n",
      "_________________________________________________________________\n",
      "Layer (type)                 Output Shape              Param #   \n",
      "=================================================================\n",
      "reshape (Reshape)            (None, 4, 4, 1)           0         \n",
      "_________________________________________________________________\n",
      "q_conv2d (QConv2D)           (None, 4, 4, 2)           1728      \n",
      "_________________________________________________________________\n",
      "q_conv2d_1 (QConv2D)         (None, 4, 4, 1)           32        \n",
      "=================================================================\n",
      "Total params: 1,760\n",
      "Trainable params: 1,760\n",
      "Non-trainable params: 0\n",
      "_________________________________________________________________\n",
      "Summary of Discriminator\n",
      "Model: \"sequential_1\"\n",
      "_________________________________________________________________\n",
      "Layer (type)                 Output Shape              Param #   \n",
      "=================================================================\n",
      "q_conv2d_2 (QConv2D)         (None, 4, 4, 3)           48        \n",
      "_________________________________________________________________\n",
      "q_conv2d_3 (QConv2D)         (None, 2, 2, 1)           48        \n",
      "_________________________________________________________________\n",
      "flatten (Flatten)            (None, 4)                 0         \n",
      "_________________________________________________________________\n",
      "pqc (PQC)                    (None, 1)                 80        \n",
      "=================================================================\n",
      "Total params: 176\n",
      "Trainable params: 176\n",
      "Non-trainable params: 0\n",
      "_________________________________________________________________\n"
     ]
    }
   ],
   "source": [
    "optimizer_kwargs = {\n",
    "    \"generator\": {\"learning_rate\": 1e-2},\n",
    "    \"discriminator\": {\"learning_rate\": 1e-2}\n",
    "}\n",
    "generator = create_quantum_generator()\n",
    "discriminator = create_quantum_discriminator()\n",
    "qgan = QGAN(generator, discriminator,\n",
    "            epochs=30, batch_size=16,\n",
    "            n_disc=1,\n",
    "            optimizer=\"adam\",\n",
    "            optimizer_kwargs=optimizer_kwargs,\n",
    "            random_state=2021, \n",
    "            checkpoint_dir=\"./training_checkpoints/QGAN/tutorial_image_4x4\")"
   ]
  },
  {
   "cell_type": "markdown",
   "id": "5a38226f",
   "metadata": {},
   "source": [
    "Let us enable visualization of the loss curve and the intermediate generated images at each epoch"
   ]
  },
  {
   "cell_type": "code",
   "execution_count": 17,
   "id": "86798f81",
   "metadata": {},
   "outputs": [],
   "source": [
    "# the first argument is the dimension of the input image which is 4x4; the \"n_image\" argument is the number of image to show,\n",
    "# the \"interval\" argument is the number of epochs between successive displays\n",
    "qgan.enable_visualization((4, 4), n_image=16, interval=1)"
   ]
  },
  {
   "cell_type": "markdown",
   "id": "52ca0859",
   "metadata": {},
   "source": [
    "We will use a sample size of 200 for training."
   ]
  },
  {
   "cell_type": "code",
   "execution_count": 18,
   "id": "31a69834",
   "metadata": {},
   "outputs": [
    {
     "data": {
      "image/png": "[encoded data removed]",
      "text/plain": [
       "<Figure size 1152x648 with 17 Axes>"
      ]
     },
     "metadata": {
      "needs_background": "light"
     },
     "output_type": "display_data"
    }
   ],
   "source": [
    "qgan.train(x_class_1[:200])"
   ]
  },
  {
   "cell_type": "markdown",
   "id": "c18076a0",
   "metadata": {},
   "source": [
    "Check out the images generated by the generator"
   ]
  },
  {
   "cell_type": "code",
   "execution_count": 19,
   "id": "619cb3df",
   "metadata": {},
   "outputs": [
    {
     "data": {
      "text/plain": [
       "<module 'matplotlib.pyplot' from '/afs/cern.ch/work/c/chlcheng/public/local/conda/miniconda/envs/ml-base/lib/python3.7/site-packages/matplotlib/pyplot.py'>"
      ]
     },
     "execution_count": 19,
     "metadata": {},
     "output_type": "execute_result"
    },
    {
     "data": {
      "text/plain": [
       "<Figure size 432x288 with 0 Axes>"
      ]
     },
     "metadata": {},
     "output_type": "display_data"
    },
    {
     "data": {
      "image/png": "[encoded data removed]",
      "text/plain": [
       "<Figure size 1440x648 with 16 Axes>"
      ]
     },
     "metadata": {
      "needs_background": "light"
     },
     "output_type": "display_data"
    }
   ],
   "source": [
    "x_gen = qgan.generate_samples(batch_size=16)\n",
    "visualize_images(x_gen)"
   ]
  },
  {
   "cell_type": "markdown",
   "id": "af9400a2",
   "metadata": {},
   "source": [
    "### Studying the Model Outputs\n",
    "\n",
    "- It is often helpful to study the output at various stages of the generator/discriminator especially for the QConv2D layers"
   ]
  },
  {
   "cell_type": "code",
   "execution_count": 20,
   "id": "3c532c6b",
   "metadata": {},
   "outputs": [
    {
     "data": {
      "text/plain": [
       "[<tensorflow.python.keras.layers.core.Reshape at 0x7f0caa65a2d0>,\n",
       " <quple.interface.tfq.layers.qconv2d.QConv2D at 0x7f0caa65a710>,\n",
       " <quple.interface.tfq.layers.qconv2d.QConv2D at 0x7f0caa5b9650>]"
      ]
     },
     "execution_count": 20,
     "metadata": {},
     "output_type": "execute_result"
    }
   ],
   "source": [
    "qgan.G.layers"
   ]
  },
  {
   "cell_type": "code",
   "execution_count": 21,
   "id": "89d62146",
   "metadata": {},
   "outputs": [],
   "source": [
    "generator_conv_1 = qgan.G.layers[1]\n",
    "generator_conv_2 = qgan.G.layers[2]"
   ]
  },
  {
   "cell_type": "code",
   "execution_count": 22,
   "id": "e6cae6d6",
   "metadata": {},
   "outputs": [
    {
     "data": {
      "text/plain": [
       "[<quple.interface.tfq.layers.qconv2d.QConv2D at 0x7f0caa582c10>,\n",
       " <quple.interface.tfq.layers.qconv2d.QConv2D at 0x7f0cbc188450>,\n",
       " <tensorflow.python.keras.layers.core.Flatten at 0x7f0caa975610>,\n",
       " <quple.interface.tfq.layers.pqc.PQC at 0x7f0caa48ee50>]"
      ]
     },
     "execution_count": 22,
     "metadata": {},
     "output_type": "execute_result"
    }
   ],
   "source": [
    "qgan.D.layers"
   ]
  },
  {
   "cell_type": "code",
   "execution_count": 23,
   "id": "2b4e4e9b",
   "metadata": {},
   "outputs": [],
   "source": [
    "discriminator_conv_1 = qgan.D.layers[0]\n",
    "discriminator_conv_2 = qgan.D.layers[1]"
   ]
  },
  {
   "cell_type": "code",
   "execution_count": 24,
   "id": "f1374db8",
   "metadata": {},
   "outputs": [],
   "source": [
    "# create prior samples for generator\n",
    "tf.random.set_seed(0)\n",
    "batch_size = 16\n",
    "z = tf.random.normal((batch_size, 4, 4, 1), seed=0)"
   ]
  },
  {
   "cell_type": "code",
   "execution_count": 25,
   "id": "637ab5cc",
   "metadata": {},
   "outputs": [],
   "source": [
    "generator_output_conv_1 = generator_conv_1(z)"
   ]
  },
  {
   "cell_type": "code",
   "execution_count": 26,
   "id": "c8a11b79",
   "metadata": {},
   "outputs": [
    {
     "data": {
      "text/plain": [
       "TensorShape([16, 4, 4, 2])"
      ]
     },
     "execution_count": 26,
     "metadata": {},
     "output_type": "execute_result"
    }
   ],
   "source": [
    "generator_output_conv_1.shape"
   ]
  },
  {
   "cell_type": "code",
   "execution_count": 27,
   "id": "8ed9890f",
   "metadata": {},
   "outputs": [
    {
     "name": "stdout",
     "output_type": "stream",
     "text": [
      "Output from the first quantum convolution layer for the generator (filter 1):\n"
     ]
    },
    {
     "data": {
      "text/plain": [
       "<module 'matplotlib.pyplot' from '/afs/cern.ch/work/c/chlcheng/public/local/conda/miniconda/envs/ml-base/lib/python3.7/site-packages/matplotlib/pyplot.py'>"
      ]
     },
     "execution_count": 27,
     "metadata": {},
     "output_type": "execute_result"
    },
    {
     "data": {
      "text/plain": [
       "<Figure size 432x288 with 0 Axes>"
      ]
     },
     "metadata": {},
     "output_type": "display_data"
    },
    {
     "data": {
      "image/png": "[encoded data removed]",
      "text/plain": [
       "<Figure size 1440x648 with 16 Axes>"
      ]
     },
     "metadata": {
      "needs_background": "light"
     },
     "output_type": "display_data"
    }
   ],
   "source": [
    "print(\"Output from the first quantum convolution layer for the generator (filter 1):\")\n",
    "visualize_images(generator_output_conv_1[:, :, :, 0])"
   ]
  },
  {
   "cell_type": "code",
   "execution_count": 28,
   "id": "afc05b5a",
   "metadata": {},
   "outputs": [
    {
     "name": "stdout",
     "output_type": "stream",
     "text": [
      "Output from the first quantum convolution layer for the generator (filter 2):\n"
     ]
    },
    {
     "data": {
      "text/plain": [
       "<module 'matplotlib.pyplot' from '/afs/cern.ch/work/c/chlcheng/public/local/conda/miniconda/envs/ml-base/lib/python3.7/site-packages/matplotlib/pyplot.py'>"
      ]
     },
     "execution_count": 28,
     "metadata": {},
     "output_type": "execute_result"
    },
    {
     "data": {
      "text/plain": [
       "<Figure size 432x288 with 0 Axes>"
      ]
     },
     "metadata": {},
     "output_type": "display_data"
    },
    {
     "data": {
      "image/png": "[encoded data removed]",
      "text/plain": [
       "<Figure size 1440x648 with 16 Axes>"
      ]
     },
     "metadata": {
      "needs_background": "light"
     },
     "output_type": "display_data"
    }
   ],
   "source": [
    "print(\"Output from the first quantum convolution layer for the generator (filter 2):\")\n",
    "visualize_images(generator_output_conv_1[:, :, :, 1])"
   ]
  },
  {
   "cell_type": "code",
   "execution_count": 29,
   "id": "2f6db39e",
   "metadata": {},
   "outputs": [
    {
     "data": {
      "text/plain": [
       "TensorShape([16, 4, 4, 1])"
      ]
     },
     "execution_count": 29,
     "metadata": {},
     "output_type": "execute_result"
    }
   ],
   "source": [
    "generator_output_conv_2 = generator_conv_2(generator_output_conv_1)\n",
    "generator_output_conv_2.shape"
   ]
  },
  {
   "cell_type": "code",
   "execution_count": 30,
   "id": "e48c5c03",
   "metadata": {},
   "outputs": [
    {
     "name": "stdout",
     "output_type": "stream",
     "text": [
      "Output from the second quantum convolution layer for the generator:\n"
     ]
    },
    {
     "data": {
      "text/plain": [
       "<module 'matplotlib.pyplot' from '/afs/cern.ch/work/c/chlcheng/public/local/conda/miniconda/envs/ml-base/lib/python3.7/site-packages/matplotlib/pyplot.py'>"
      ]
     },
     "execution_count": 30,
     "metadata": {},
     "output_type": "execute_result"
    },
    {
     "data": {
      "text/plain": [
       "<Figure size 432x288 with 0 Axes>"
      ]
     },
     "metadata": {},
     "output_type": "display_data"
    },
    {
     "data": {
      "image/png": "[encoded data removed]",
      "text/plain": [
       "<Figure size 1440x648 with 16 Axes>"
      ]
     },
     "metadata": {
      "needs_background": "light"
     },
     "output_type": "display_data"
    }
   ],
   "source": [
    "print(\"Output from the second quantum convolution layer for the generator:\")\n",
    "visualize_images(generator_output_conv_2[:, :, :, 0])"
   ]
  },
  {
   "cell_type": "code",
   "execution_count": 31,
   "id": "77b80688",
   "metadata": {},
   "outputs": [],
   "source": [
    "# use the real data for the discriminator input\n",
    "discriminator_output_conv_1 = discriminator_conv_1(x_class_1[:16])"
   ]
  },
  {
   "cell_type": "code",
   "execution_count": 32,
   "id": "fd8f6603",
   "metadata": {},
   "outputs": [
    {
     "data": {
      "text/plain": [
       "TensorShape([16, 4, 4, 3])"
      ]
     },
     "execution_count": 32,
     "metadata": {},
     "output_type": "execute_result"
    }
   ],
   "source": [
    "discriminator_output_conv_1.shape"
   ]
  },
  {
   "cell_type": "code",
   "execution_count": 33,
   "id": "fb6a7e00",
   "metadata": {},
   "outputs": [
    {
     "name": "stdout",
     "output_type": "stream",
     "text": [
      "Output from the first quantum convolution layer for the discriminator (filter 1):\n"
     ]
    },
    {
     "data": {
      "text/plain": [
       "<module 'matplotlib.pyplot' from '/afs/cern.ch/work/c/chlcheng/public/local/conda/miniconda/envs/ml-base/lib/python3.7/site-packages/matplotlib/pyplot.py'>"
      ]
     },
     "execution_count": 33,
     "metadata": {},
     "output_type": "execute_result"
    },
    {
     "data": {
      "text/plain": [
       "<Figure size 432x288 with 0 Axes>"
      ]
     },
     "metadata": {},
     "output_type": "display_data"
    },
    {
     "data": {
      "image/png": "[encoded data removed]",
      "text/plain": [
       "<Figure size 1440x648 with 16 Axes>"
      ]
     },
     "metadata": {
      "needs_background": "light"
     },
     "output_type": "display_data"
    }
   ],
   "source": [
    "print(\"Output from the first quantum convolution layer for the discriminator (filter 1):\")\n",
    "visualize_images(discriminator_output_conv_1[:, :, :, 0])"
   ]
  },
  {
   "cell_type": "code",
   "execution_count": 34,
   "id": "d8e9021d",
   "metadata": {},
   "outputs": [
    {
     "name": "stdout",
     "output_type": "stream",
     "text": [
      "Output from the first quantum convolution layer for the discriminator (filter 2):\n"
     ]
    },
    {
     "data": {
      "text/plain": [
       "<module 'matplotlib.pyplot' from '/afs/cern.ch/work/c/chlcheng/public/local/conda/miniconda/envs/ml-base/lib/python3.7/site-packages/matplotlib/pyplot.py'>"
      ]
     },
     "execution_count": 34,
     "metadata": {},
     "output_type": "execute_result"
    },
    {
     "data": {
      "text/plain": [
       "<Figure size 432x288 with 0 Axes>"
      ]
     },
     "metadata": {},
     "output_type": "display_data"
    },
    {
     "data": {
      "image/png": "[encoded data removed]",
      "text/plain": [
       "<Figure size 1440x648 with 16 Axes>"
      ]
     },
     "metadata": {
      "needs_background": "light"
     },
     "output_type": "display_data"
    }
   ],
   "source": [
    "print(\"Output from the first quantum convolution layer for the discriminator (filter 2):\")\n",
    "visualize_images(discriminator_output_conv_1[:, :, :, 1])"
   ]
  },
  {
   "cell_type": "code",
   "execution_count": 35,
   "id": "1ed06b42",
   "metadata": {},
   "outputs": [
    {
     "name": "stdout",
     "output_type": "stream",
     "text": [
      "Output from the first quantum convolution layer for the discriminator (filter 3):\n"
     ]
    },
    {
     "data": {
      "text/plain": [
       "<module 'matplotlib.pyplot' from '/afs/cern.ch/work/c/chlcheng/public/local/conda/miniconda/envs/ml-base/lib/python3.7/site-packages/matplotlib/pyplot.py'>"
      ]
     },
     "execution_count": 35,
     "metadata": {},
     "output_type": "execute_result"
    },
    {
     "data": {
      "text/plain": [
       "<Figure size 432x288 with 0 Axes>"
      ]
     },
     "metadata": {},
     "output_type": "display_data"
    },
    {
     "data": {
      "image/png": "[encoded data removed]",
      "text/plain": [
       "<Figure size 1440x648 with 16 Axes>"
      ]
     },
     "metadata": {
      "needs_background": "light"
     },
     "output_type": "display_data"
    }
   ],
   "source": [
    "print(\"Output from the first quantum convolution layer for the discriminator (filter 3):\")\n",
    "visualize_images(discriminator_output_conv_1[:, :, :, 2])"
   ]
  },
  {
   "cell_type": "code",
   "execution_count": 36,
   "id": "8d6f1c72",
   "metadata": {},
   "outputs": [
    {
     "data": {
      "text/plain": [
       "TensorShape([16, 2, 2, 1])"
      ]
     },
     "execution_count": 36,
     "metadata": {},
     "output_type": "execute_result"
    }
   ],
   "source": [
    "discriminator_output_conv_2 = discriminator_conv_2(discriminator_output_conv_1)\n",
    "discriminator_output_conv_2.shape"
   ]
  },
  {
   "cell_type": "code",
   "execution_count": 37,
   "id": "c6e2f0c9",
   "metadata": {},
   "outputs": [
    {
     "name": "stdout",
     "output_type": "stream",
     "text": [
      "Output from the second quantum convolution layer for the discriminator:\n"
     ]
    },
    {
     "data": {
      "text/plain": [
       "<module 'matplotlib.pyplot' from '/afs/cern.ch/work/c/chlcheng/public/local/conda/miniconda/envs/ml-base/lib/python3.7/site-packages/matplotlib/pyplot.py'>"
      ]
     },
     "execution_count": 37,
     "metadata": {},
     "output_type": "execute_result"
    },
    {
     "data": {
      "text/plain": [
       "<Figure size 432x288 with 0 Axes>"
      ]
     },
     "metadata": {},
     "output_type": "display_data"
    },
    {
     "data": {
      "image/png": "[encoded data removed]",
      "text/plain": [
       "<Figure size 1440x648 with 16 Axes>"
      ]
     },
     "metadata": {
      "needs_background": "light"
     },
     "output_type": "display_data"
    }
   ],
   "source": [
    "print(\"Output from the second quantum convolution layer for the discriminator:\")\n",
    "visualize_images(discriminator_output_conv_2[:, :, :, 0])"
   ]
  },
  {
   "cell_type": "code",
   "execution_count": 38,
   "id": "1ca04975",
   "metadata": {},
   "outputs": [
    {
     "name": "stdout",
     "output_type": "stream",
     "text": [
      "Output from the second quantum convolution layer for the discriminator (using noise as input):\n"
     ]
    },
    {
     "data": {
      "text/plain": [
       "<module 'matplotlib.pyplot' from '/afs/cern.ch/work/c/chlcheng/public/local/conda/miniconda/envs/ml-base/lib/python3.7/site-packages/matplotlib/pyplot.py'>"
      ]
     },
     "execution_count": 38,
     "metadata": {},
     "output_type": "execute_result"
    },
    {
     "data": {
      "text/plain": [
       "<Figure size 432x288 with 0 Axes>"
      ]
     },
     "metadata": {},
     "output_type": "display_data"
    },
    {
     "data": {
      "image/png": "[encoded data removed]",
      "text/plain": [
       "<Figure size 1440x648 with 16 Axes>"
      ]
     },
     "metadata": {
      "needs_background": "light"
     },
     "output_type": "display_data"
    }
   ],
   "source": [
    "# now compared to using a random noise as input\n",
    "discriminator_output_conv_1_noise = discriminator_conv_1(z)\n",
    "discriminator_output_conv_2_noise = discriminator_conv_2(discriminator_output_conv_1_noise)\n",
    "print(\"Output from the second quantum convolution layer for the discriminator (using noise as input):\")\n",
    "visualize_images(discriminator_output_conv_2_noise[:, :, :, 0])"
   ]
  },
  {
   "cell_type": "markdown",
   "id": "3eded618",
   "metadata": {},
   "source": [
    "We can definitely see a difference in the output pattern from a \"true\" input and \"random\" input!"
   ]
  },
  {
   "cell_type": "markdown",
   "id": "1601acc9",
   "metadata": {},
   "source": [
    "### Checkpointing\n",
    "\n",
    "- The `QGAN` class supports easy checkpointing by supplying the following arguments when instantiating the class:\n",
    "\n",
    "  - `checkpoint_dir`: The path to a directory in which to write checkpoints. If None, no checkpoint will be saved.\n",
    "  - `checkpoint_interval`: Number of epochs between each checkpoint. Default is 10.\n",
    "  - `checkpoint_max_to_keep`: Number of checkpoints to keep. If None, all checkpoints are kept. Default is None."
   ]
  },
  {
   "cell_type": "code",
   "execution_count": 39,
   "id": "de64c188",
   "metadata": {},
   "outputs": [
    {
     "data": {
      "text/plain": [
       "['./training_checkpoints/QGAN/tutorial_image_4x4/ckpt-1',\n",
       " './training_checkpoints/QGAN/tutorial_image_4x4/ckpt-2',\n",
       " './training_checkpoints/QGAN/tutorial_image_4x4/ckpt-3']"
      ]
     },
     "execution_count": 39,
     "metadata": {},
     "output_type": "execute_result"
    }
   ],
   "source": [
    "# to checkout available checkpoints:\n",
    "qgan.checkpoint_manager.checkpoints"
   ]
  },
  {
   "cell_type": "code",
   "execution_count": 40,
   "id": "5c1c94d8",
   "metadata": {},
   "outputs": [],
   "source": [
    "# restore the first checkpoint\n",
    "qgan.restore_checkpoint(qgan.checkpoint_manager.checkpoints[0])"
   ]
  },
  {
   "cell_type": "code",
   "execution_count": 41,
   "id": "3885e85a",
   "metadata": {},
   "outputs": [
    {
     "data": {
      "text/plain": [
       "<module 'matplotlib.pyplot' from '/afs/cern.ch/work/c/chlcheng/public/local/conda/miniconda/envs/ml-base/lib/python3.7/site-packages/matplotlib/pyplot.py'>"
      ]
     },
     "execution_count": 41,
     "metadata": {},
     "output_type": "execute_result"
    },
    {
     "data": {
      "text/plain": [
       "<Figure size 432x288 with 0 Axes>"
      ]
     },
     "metadata": {},
     "output_type": "display_data"
    },
    {
     "data": {
      "image/png": "[encoded data removed]",
      "text/plain": [
       "<Figure size 1440x648 with 16 Axes>"
      ]
     },
     "metadata": {
      "needs_background": "light"
     },
     "output_type": "display_data"
    }
   ],
   "source": [
    "# checkout the generated images at this checkpoint\n",
    "x_gen_ckpt_1 = qgan.generate_samples(batch_size=16)\n",
    "visualize_images(x_gen_ckpt_1)"
   ]
  },
  {
   "cell_type": "code",
   "execution_count": 42,
   "id": "57ac6c77",
   "metadata": {},
   "outputs": [],
   "source": [
    "# restore the second checkpoint\n",
    "qgan.restore_checkpoint(qgan.checkpoint_manager.checkpoints[1])"
   ]
  },
  {
   "cell_type": "code",
   "execution_count": 43,
   "id": "e4beb0a8",
   "metadata": {},
   "outputs": [
    {
     "data": {
      "text/plain": [
       "<module 'matplotlib.pyplot' from '/afs/cern.ch/work/c/chlcheng/public/local/conda/miniconda/envs/ml-base/lib/python3.7/site-packages/matplotlib/pyplot.py'>"
      ]
     },
     "execution_count": 43,
     "metadata": {},
     "output_type": "execute_result"
    },
    {
     "data": {
      "text/plain": [
       "<Figure size 432x288 with 0 Axes>"
      ]
     },
     "metadata": {},
     "output_type": "display_data"
    },
    {
     "data": {
      "image/png": "[encoded data removed]",
      "text/plain": [
       "<Figure size 1440x648 with 16 Axes>"
      ]
     },
     "metadata": {
      "needs_background": "light"
     },
     "output_type": "display_data"
    }
   ],
   "source": [
    "# checkout the generated images at this checkpoint\n",
    "x_gen_ckpt_2 = qgan.generate_samples(batch_size=16)\n",
    "visualize_images(x_gen_ckpt_2)"
   ]
  },
  {
   "cell_type": "code",
   "execution_count": 44,
   "id": "315e5938",
   "metadata": {},
   "outputs": [],
   "source": [
    "# restore the last checkpoint\n",
    "qgan.restore_checkpoint()"
   ]
  },
  {
   "cell_type": "code",
   "execution_count": 45,
   "id": "b4d619b3",
   "metadata": {},
   "outputs": [
    {
     "data": {
      "text/plain": [
       "<module 'matplotlib.pyplot' from '/afs/cern.ch/work/c/chlcheng/public/local/conda/miniconda/envs/ml-base/lib/python3.7/site-packages/matplotlib/pyplot.py'>"
      ]
     },
     "execution_count": 45,
     "metadata": {},
     "output_type": "execute_result"
    },
    {
     "data": {
      "text/plain": [
       "<Figure size 432x288 with 0 Axes>"
      ]
     },
     "metadata": {},
     "output_type": "display_data"
    },
    {
     "data": {
      "image/png": "[encoded data removed]",
      "text/plain": [
       "<Figure size 1440x648 with 16 Axes>"
      ]
     },
     "metadata": {
      "needs_background": "light"
     },
     "output_type": "display_data"
    }
   ],
   "source": [
    "# checkout the generated images at this checkpoint\n",
    "x_gen_latest_ckpt = qgan.generate_samples(batch_size=16)\n",
    "visualize_images(x_gen_latest_ckpt)"
   ]
  },
  {
   "cell_type": "markdown",
   "id": "f85ce27a",
   "metadata": {},
   "source": [
    "## 4. Quantum Wasserstein GAN (QWGAN)\n",
    "\n",
    "Some major shortcomings of the original GAN model are the mode-colapse and vanishing gradients. To circumvent these, the Wasserstein GAN is introduced by [Arjovsky](https://arxiv.org/pdf/1701.07875.pdf). Wasserstein GANs are less vulnerable to getting stuck than minimax-based GANs, and avoid problems with vanishing gradients.\n",
    "\n",
    "The key differences between the original GAN and the Wasserstein GANs are:\n",
    "\n",
    "1. Use of Wasserstein distance (Earth mover's distance) instead of the minimax loss function\n",
    "2. Use of critics instead of discriminator (functionally the same as discriminator) and allows multiple discriminator iterations per generator iteration\n",
    "3. Use of the RMSprop optimizer instead of the Adam optimizer\n",
    "4. Use of weight clipping so that weights throughout the GAN remain within a constrained range.\n",
    "\n",
    "The 4-th requirement is not necessary for a purely quantum Wasserstein GAN model since PQC weights are already bounded in the range $[-\\pi, \\pi]$ or $[0, 2\\pi]$.\n",
    "\n",
    "The `QWGAN` class from Quple inherits from the `QGAN` class with the only difference between the replacement of the modified minimax loss function by the **Wasserstein loss function**.\n",
    "\n",
    "Both `QGAN` and `QWGAN` classes support multiple discriminator iterations per generator iteration via the `n_disc` argument. Users can also choose different optimizers via the `optimizer` argument. "
   ]
  },
  {
   "cell_type": "markdown",
   "id": "1e344b5f",
   "metadata": {},
   "source": [
    "We build the QWGAN model with the following setup:\n",
    "\n",
    "- Number of epochs: 20\n",
    "- Generator optimizer: Adam (learning rate = 0.01)\n",
    "- Discriminator optimizer: Adam (learning rate = 0.01)\n",
    "- Batch size: 16\n",
    "- Number of discriminator iteration per generator iteration in each epoch: 3\n",
    "\n",
    "Note: The Adam optimizer is used because it converge faster than the RMSprop optimizer for the examples used in this tutorial. "
   ]
  },
  {
   "cell_type": "code",
   "execution_count": 46,
   "id": "cf1d4118",
   "metadata": {},
   "outputs": [],
   "source": [
    "from quple.models.generative import QWGAN"
   ]
  },
  {
   "cell_type": "code",
   "execution_count": 47,
   "id": "a4611ced",
   "metadata": {},
   "outputs": [
    {
     "name": "stdout",
     "output_type": "stream",
     "text": [
      "Summary of Generator\n",
      "Model: \"sequential_2\"\n",
      "_________________________________________________________________\n",
      "Layer (type)                 Output Shape              Param #   \n",
      "=================================================================\n",
      "reshape_1 (Reshape)          (None, 4, 4, 1)           0         \n",
      "_________________________________________________________________\n",
      "q_conv2d_4 (QConv2D)         (None, 4, 4, 2)           1728      \n",
      "_________________________________________________________________\n",
      "q_conv2d_5 (QConv2D)         (None, 4, 4, 1)           32        \n",
      "=================================================================\n",
      "Total params: 1,760\n",
      "Trainable params: 1,760\n",
      "Non-trainable params: 0\n",
      "_________________________________________________________________\n",
      "Summary of Discriminator\n",
      "Model: \"sequential_3\"\n",
      "_________________________________________________________________\n",
      "Layer (type)                 Output Shape              Param #   \n",
      "=================================================================\n",
      "q_conv2d_6 (QConv2D)         (None, 4, 4, 3)           48        \n",
      "_________________________________________________________________\n",
      "q_conv2d_7 (QConv2D)         (None, 2, 2, 1)           48        \n",
      "_________________________________________________________________\n",
      "flatten_1 (Flatten)          (None, 4)                 0         \n",
      "_________________________________________________________________\n",
      "pqc_1 (PQC)                  (None, 1)                 80        \n",
      "=================================================================\n",
      "Total params: 176\n",
      "Trainable params: 176\n",
      "Non-trainable params: 0\n",
      "_________________________________________________________________\n"
     ]
    }
   ],
   "source": [
    "optimizer_kwargs = {\n",
    "    \"generator\": {\"learning_rate\": 1e-2},\n",
    "    \"discriminator\": {\"learning_rate\": 1e-2}\n",
    "}\n",
    "generator = create_quantum_generator()\n",
    "#discriminator = create_classical_discriminator()\n",
    "discriminator = create_quantum_discriminator()\n",
    "qwgan = QWGAN(generator, discriminator,\n",
    "            epochs=20, batch_size=16,\n",
    "            n_disc=3,\n",
    "            optimizer=\"adam\",\n",
    "            optimizer_kwargs=optimizer_kwargs,\n",
    "            random_state=2021, \n",
    "            checkpoint_dir=\"./training_checkpoints/QWGAN/tutorial_image_4x4\")\n",
    "qwgan.enable_visualization((4, 4), n_image=16)"
   ]
  },
  {
   "cell_type": "markdown",
   "id": "75d4024a",
   "metadata": {},
   "source": [
    "We will use a sample size of 1000 for training.\n",
    "\n",
    "Note: More samples is used because the true batchsize is `n_disc*batch_size` and each discriminator iteration uses one batch of data. "
   ]
  },
  {
   "cell_type": "code",
   "execution_count": 48,
   "id": "1478bbe5",
   "metadata": {},
   "outputs": [
    {
     "data": {
      "image/png": "[encoded data removed]",
      "text/plain": [
       "<Figure size 1152x648 with 17 Axes>"
      ]
     },
     "metadata": {
      "needs_background": "light"
     },
     "output_type": "display_data"
    }
   ],
   "source": [
    "qwgan.train(x_class_1[:1000])"
   ]
  },
  {
   "cell_type": "markdown",
   "id": "488d90e4",
   "metadata": {},
   "source": [
    "### Extra: Try out the second image class"
   ]
  },
  {
   "cell_type": "code",
   "execution_count": 50,
   "id": "c009205f",
   "metadata": {},
   "outputs": [
    {
     "name": "stdout",
     "output_type": "stream",
     "text": [
      "Summary of Generator\n",
      "Model: \"sequential_6\"\n",
      "_________________________________________________________________\n",
      "Layer (type)                 Output Shape              Param #   \n",
      "=================================================================\n",
      "reshape_3 (Reshape)          (None, 4, 4, 1)           0         \n",
      "_________________________________________________________________\n",
      "q_conv2d_12 (QConv2D)        (None, 4, 4, 2)           1728      \n",
      "_________________________________________________________________\n",
      "q_conv2d_13 (QConv2D)        (None, 4, 4, 1)           32        \n",
      "=================================================================\n",
      "Total params: 1,760\n",
      "Trainable params: 1,760\n",
      "Non-trainable params: 0\n",
      "_________________________________________________________________\n",
      "Summary of Discriminator\n",
      "Model: \"sequential_7\"\n",
      "_________________________________________________________________\n",
      "Layer (type)                 Output Shape              Param #   \n",
      "=================================================================\n",
      "q_conv2d_14 (QConv2D)        (None, 4, 4, 3)           48        \n",
      "_________________________________________________________________\n",
      "q_conv2d_15 (QConv2D)        (None, 2, 2, 1)           48        \n",
      "_________________________________________________________________\n",
      "flatten_3 (Flatten)          (None, 4)                 0         \n",
      "_________________________________________________________________\n",
      "pqc_3 (PQC)                  (None, 1)                 80        \n",
      "=================================================================\n",
      "Total params: 176\n",
      "Trainable params: 176\n",
      "Non-trainable params: 0\n",
      "_________________________________________________________________\n"
     ]
    }
   ],
   "source": [
    "optimizer_kwargs = {\n",
    "    \"generator\": {\"learning_rate\": 1e-2},\n",
    "    \"discriminator\": {\"learning_rate\": 1e-2}\n",
    "}\n",
    "generator = create_quantum_generator()\n",
    "discriminator = create_quantum_discriminator()\n",
    "qgan2 = QWGAN(generator, discriminator,\n",
    "              epochs=50, batch_size=16,\n",
    "              n_disc=3,\n",
    "              optimizer=\"adam\",\n",
    "              optimizer_kwargs=optimizer_kwargs,\n",
    "              random_state=2021, \n",
    "              checkpoint_dir=\"./training_checkpoints/QWGAN/tutorial_image2_4x4\")\n",
    "qgan2.enable_visualization((4, 4), n_image=16)"
   ]
  },
  {
   "cell_type": "code",
   "execution_count": 51,
   "id": "32fa3497",
   "metadata": {},
   "outputs": [
    {
     "data": {
      "image/png": "[encoded data removed]",
      "text/plain": [
       "<Figure size 1152x648 with 17 Axes>"
      ]
     },
     "metadata": {
      "needs_background": "light"
     },
     "output_type": "display_data"
    }
   ],
   "source": [
    "qgan2.train(x_class_2[:1000])"
   ]
  },
  {
   "cell_type": "markdown",
   "id": "5fe82be1",
   "metadata": {},
   "source": [
    "Turns out the second image class is a little harder to train with the same architecture."
   ]
  }
 ],
 "metadata": {
  "kernelspec": {
   "display_name": "Python 3",
   "language": "python",
   "name": "python3"
  },
  "language_info": {
   "codemirror_mode": {
    "name": "ipython",
    "version": 3
   },
   "file_extension": ".py",
   "mimetype": "text/x-python",
   "name": "python",
   "nbconvert_exporter": "python",
   "pygments_lexer": "ipython3",
   "version": "3.7.10"
  }
 },
 "nbformat": 4,
 "nbformat_minor": 5
}
