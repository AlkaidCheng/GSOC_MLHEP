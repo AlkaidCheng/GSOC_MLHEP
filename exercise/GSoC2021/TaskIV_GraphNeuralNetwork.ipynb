{
  "nbformat": 4,
  "nbformat_minor": 0,
  "metadata": {
    "colab": {
      "name": "TaskIV-GraphNeuralNetwork.ipynb",
      "provenance": [],
      "collapsed_sections": [],
      "toc_visible": true,
      "authorship_tag": "ABX9TyOpFXlpNZF+cJp+DQNvBAqq",
      "include_colab_link": true
    },
    "kernelspec": {
      "name": "python3",
      "display_name": "Python 3"
    },
    "language_info": {
      "name": "python"
    }
  },
  "cells": [
    {
      "cell_type": "markdown",
      "metadata": {
        "id": "view-in-github",
        "colab_type": "text"
      },
      "source": [
        "<a href=\"https://colab.research.google.com/github/AlkaidCheng/GSoC2021_QMLHEP/blob/main/notebooks/TaskIV_GraphNeuralNetwork.ipynb\" target=\"_parent\"><img src=\"https://colab.research.google.com/assets/colab-badge.svg\" alt=\"Open In Colab\"/></a>"
      ]
    },
    {
      "cell_type": "markdown",
      "metadata": {
        "id": "1ofKYj322Ful"
      },
      "source": [
        "# Task IV - Graph Neural Network (GNN)\n"
      ]
    },
    {
      "cell_type": "code",
      "metadata": {
        "colab": {
          "base_uri": "https://localhost:8080/"
        },
        "id": "ZSyDhlnk3sdo",
        "outputId": "f29ac08c-2671-4d2f-ad4c-7038df562191"
      },
      "source": [
        "if 'google.colab' in str(get_ipython()):\n",
        "  # install packages needed for this task\n",
        "  !pip install dgl"
      ],
      "execution_count": 1,
      "outputs": [
        {
          "output_type": "stream",
          "text": [
            "Requirement already satisfied: dgl in /usr/local/lib/python3.7/dist-packages (0.6.0.post1)\n",
            "Requirement already satisfied: requests>=2.19.0 in /usr/local/lib/python3.7/dist-packages (from dgl) (2.23.0)\n",
            "Requirement already satisfied: scipy>=1.1.0 in /usr/local/lib/python3.7/dist-packages (from dgl) (1.4.1)\n",
            "Requirement already satisfied: numpy>=1.14.0 in /usr/local/lib/python3.7/dist-packages (from dgl) (1.19.5)\n",
            "Requirement already satisfied: networkx>=2.1 in /usr/local/lib/python3.7/dist-packages (from dgl) (2.5)\n",
            "Requirement already satisfied: chardet<4,>=3.0.2 in /usr/local/lib/python3.7/dist-packages (from requests>=2.19.0->dgl) (3.0.4)\n",
            "Requirement already satisfied: certifi>=2017.4.17 in /usr/local/lib/python3.7/dist-packages (from requests>=2.19.0->dgl) (2020.12.5)\n",
            "Requirement already satisfied: urllib3!=1.25.0,!=1.25.1,<1.26,>=1.21.1 in /usr/local/lib/python3.7/dist-packages (from requests>=2.19.0->dgl) (1.24.3)\n",
            "Requirement already satisfied: idna<3,>=2.5 in /usr/local/lib/python3.7/dist-packages (from requests>=2.19.0->dgl) (2.10)\n",
            "Requirement already satisfied: decorator>=4.3.0 in /usr/local/lib/python3.7/dist-packages (from networkx>=2.1->dgl) (4.4.2)\n"
          ],
          "name": "stdout"
        }
      ]
    },
    {
      "cell_type": "markdown",
      "metadata": {
        "id": "HULKWuoQ2Plh"
      },
      "source": [
        "# 1. Introduction\n",
        "\n",
        "### Goal\n",
        "\n",
        "- Perform Quark/Gluon jet classification on ParticleNet’s data for using Graph Neural Network (GNN)\n",
        "\n",
        "### On the packages used\n",
        "\n",
        "- In this task, we wil be using the `dgl` (deep graph library) package for constructing GNN models"
      ]
    },
    {
      "cell_type": "code",
      "metadata": {
        "id": "B-u4Bp1E2EuM"
      },
      "source": [
        "# load some basic packages first\n",
        "from datetime import datetime\n",
        "import numpy as np\n",
        "import pandas as pd\n",
        "import matplotlib.pyplot as plt\n",
        "\n",
        "import torch"
      ],
      "execution_count": 2,
      "outputs": []
    },
    {
      "cell_type": "markdown",
      "metadata": {
        "id": "GrDvVj4K2T1-"
      },
      "source": [
        "# 2. Create Graph Representation of Data\n",
        "\n",
        "References:\n",
        "\n",
        "How to create a graph  https://docs.dgl.ai/tutorials/basics/1_first.html\n",
        "\n",
        "How to assign features to edges:  https://docs.dgl.ai/guide/training-edge.html"
      ]
    },
    {
      "cell_type": "markdown",
      "metadata": {
        "id": "OotWg3oU2XBa"
      },
      "source": [
        "### Load Data\n",
        "\n",
        "The dataset contains:\n",
        "\n",
        "- 50k quark and 50k gluons with constitutes (charged or neural tracks) of the jets\n",
        "\n",
        "- Each jet is represented by a four-dimensional vector: $p_T, y, \\phi$, and PDGid. "
      ]
    },
    {
      "cell_type": "code",
      "metadata": {
        "colab": {
          "base_uri": "https://localhost:8080/"
        },
        "id": "r_Mcs52B2bAU",
        "outputId": "618310b2-2641-4210-eaca-892ef4e18008"
      },
      "source": [
        "if 'google.colab' in str(get_ipython()):\n",
        "  !wget https://zenodo.org/record/3164691/files/QG_jets.npz"
      ],
      "execution_count": 3,
      "outputs": [
        {
          "output_type": "stream",
          "text": [
            "--2021-03-24 20:24:55--  https://zenodo.org/record/3164691/files/QG_jets.npz\n",
            "Resolving zenodo.org (zenodo.org)... 137.138.76.77\n",
            "Connecting to zenodo.org (zenodo.org)|137.138.76.77|:443... connected.\n",
            "HTTP request sent, awaiting response... 200 OK\n",
            "Length: 106689379 (102M) [application/octet-stream]\n",
            "Saving to: ‘QG_jets.npz.5’\n",
            "\n",
            "QG_jets.npz.5       100%[===================>] 101.75M  5.72MB/s    in 16s     \n",
            "\n",
            "2021-03-24 20:25:12 (6.19 MB/s) - ‘QG_jets.npz.5’ saved [106689379/106689379]\n",
            "\n"
          ],
          "name": "stdout"
        }
      ]
    },
    {
      "cell_type": "code",
      "metadata": {
        "colab": {
          "base_uri": "https://localhost:8080/"
        },
        "id": "PRhsUmp82Rna",
        "outputId": "c973c74c-842d-48c0-e9eb-89a0bc76510c"
      },
      "source": [
        "data = dict(np.load('QG_jets.npz', allow_pickle=True))\n",
        "X, y = data['X'], {'label': torch.tensor(data['y']).long()}\n",
        "print('Dimension of input data: {}'.format(X.shape))"
      ],
      "execution_count": 4,
      "outputs": [
        {
          "output_type": "stream",
          "text": [
            "Dimension of input data: (100000, 139, 4)\n"
          ],
          "name": "stdout"
        }
      ]
    },
    {
      "cell_type": "markdown",
      "metadata": {
        "id": "-CLUNrwB3Ssy"
      },
      "source": [
        "### Create Graph Representation of Data\n",
        "\n",
        "A graph can have features in three different places or levels:\n",
        "\n",
        "- features for nodes\n",
        "- features for edges\n",
        "- features for the whole graph\n",
        "\n",
        "A **jet** is **encoded as a graph**.\n",
        "\n",
        "The **label** of whether it is a quark or a gluon is **encoded as the graph feature**.\n",
        "\n",
        "Each constitute (**track**) is encoded as a **node** of the graph, with the **four-dimensional vector** as its **node features**.\n",
        "\n",
        "Features are preprocessed to reflect a centred jets and normalised $p_T$ according to Eqn 3.1 of the original paper (https://arxiv.org/abs/1810.05165).\n",
        "\n",
        "**Nodes** are **connected by bi-directional edges** if they are **adjacent** in either $p_T, y, \\phi$.\n",
        "\n",
        "This ensures that each graph is connected.\n",
        "\n",
        "**Nodes index** are **ordered in descending order of $p_T$**."
      ]
    },
    {
      "cell_type": "code",
      "metadata": {
        "colab": {
          "base_uri": "https://localhost:8080/"
        },
        "id": "59TaKd4M2UVI",
        "outputId": "d162f4c3-06b8-4c16-b8ad-ef6166a49638"
      },
      "source": [
        "import dgl\n",
        "import networkx as nx\n",
        "from dgl.data.utils import save_graphs, load_graphs\n",
        "\n",
        "# https://github.com/dmlc/xgboost/issues/1715\n",
        "import os\n",
        "os.environ['KMP_DUPLICATE_LIB_OK']='True'\n",
        "\n",
        "class GenerateGraphs(object):\n",
        "    def describe(self): return self.__class__.__name__\n",
        "    def __init__(self, data, connect_style):\n",
        "        '''\n",
        "          Args:\n",
        "            data: np.ndarry\n",
        "              input data\n",
        "            connect_style: str\n",
        "              Type of edge connections\n",
        "        '''\n",
        "        self.data = data\n",
        "        self.label_name = 'label'\n",
        "        self.feature_name = 'feature'\n",
        "        self.connect_style = connect_style\n",
        "        self._current_data = None\n",
        "\n",
        "    def _assign_node_feature(self, graph):\n",
        "        ''' Each node presents a b-jet with four momentum and b-tagging score as features.\n",
        "        '''\n",
        "        feature_name = 'feature'\n",
        "        assert(self._current_data is not None)\n",
        "        graph.ndata[feature_name] = torch.tensor(self._current_data)\n",
        "        return graph\n",
        "\n",
        "    def _create_graph(self, ievent: int):\n",
        "        ''' Create a graph from a jet X [track multiplicity, \"4-momentum\"], where \"4-momentum\" is pt, rapidity, azimuthal angle, and pdgid.\n",
        "            data: https://zenodo.org/record/3164691#.YFeQey1Q0lp\n",
        "        '''\n",
        "        self._current_data = self.data[ievent][~np.all(self.data[ievent] == 0, axis=1)]\n",
        "\n",
        "        ''' Feature preprocessing: Sect 3.1 in https://arxiv.org/pdf/1810.05165.pdf\n",
        "            centering jets and normalizing pT\n",
        "            https://energyflow.network/examples/\n",
        "        '''\n",
        "        yphi_avg = np.average(self._current_data[:,1:3], weights=self._current_data[:,0], axis=0)\n",
        "        self._current_data[:,1:3] -= yphi_avg\n",
        "        self._current_data[:, 0] /= np.sum(self._current_data[:, 0])\n",
        "\n",
        "        ''' - Sort by pT (0th column) '''\n",
        "        self._current_data = self._current_data[self._current_data[:,0].argsort()][::-1].copy()\n",
        "\n",
        "        ''' Construct a graph '''\n",
        "        n_nodes = self._current_data.shape[0] # track multiplicity\n",
        "        if self.connect_style == 'bifully':\n",
        "            ''' Option 1: Fully connected graph '''\n",
        "            g = nx.complete_graph(n_nodes)\n",
        "            graph = dgl.from_networkx(g)\n",
        "        else:\n",
        "            ''' Option 2: Bi-directional connection in adjacent track in pT or eta or phi'''\n",
        "            pt_order = self._current_data[:,0].argsort()[::-1]\n",
        "            rapidity_order = self._current_data[:,1].argsort()[::-1]\n",
        "            eta_order = self._current_data[:,2].argsort()[::-1]\n",
        "\n",
        "            if self.connect_style == 'biadj_pt_y_phi':\n",
        "                in_node  = np.concatenate((pt_order[:-1], rapidity_order[:-1], eta_order[:-1]))\n",
        "                out_node = np.concatenate((pt_order[1: ], rapidity_order[1: ], eta_order[1: ]))\n",
        "            elif self.connect_style == 'biadj_pt_y':\n",
        "                in_node  = np.concatenate((pt_order[:-1], rapidity_order[:-1]))\n",
        "                out_node = np.concatenate((pt_order[1: ], rapidity_order[1: ]))\n",
        "            elif self.connect_style == 'biadj_pt_phi':\n",
        "                in_node  = np.concatenate((pt_order[:-1], eta_order[:-1]))\n",
        "                out_node = np.concatenate((pt_order[1: ], eta_order[1: ]))\n",
        "            elif self.connect_style == 'biadj_y_phi':\n",
        "                in_node  = np.concatenate((rapidity_order[:-1], eta_order[:-1]))\n",
        "                out_node = np.concatenate((rapidity_order[1: ], eta_order[1: ]))\n",
        "\n",
        "            g = dgl.graph(( in_node, out_node), num_nodes=n_nodes)\n",
        "            g = dgl.add_reverse_edges(g)\n",
        "            graph = dgl.add_self_loop(g)\n",
        "\n",
        "\n",
        "        ''' Assign node feature using \"current data\" '''\n",
        "        graph = self._assign_node_feature(graph)\n",
        "\n",
        "        return graph.int() # 32-bit integers for node and edge IDs to reduce memory\n",
        "\n",
        "    def create_graphs(self, stop=None):\n",
        "        ''' Create all graphs for all events.\n",
        "        '''\n",
        "\n",
        "        ''' PDGid to small float dictionary https://github.com/pkomiske/EnergyFlow/blob/master/energyflow/utils/data_utils.py#L188 '''\n",
        "        PID2FLOAT_MAP = {22: 0,\n",
        "                    211: .1, -211: .2,\n",
        "                    321: .3, -321: .4,\n",
        "                    130: .5,\n",
        "                    2112: .6, -2112: .7,\n",
        "                    2212: .8, -2212: .9,\n",
        "                    11: 1.0, -11: 1.1,\n",
        "                    13: 1.2, -13: 1.3,\n",
        "                    0: 0,}\n",
        "        for pid in np.unique(self.data[:, :, 3].flatten()):\n",
        "            np.place(self.data[:, :, 3], self.data[:, :, 3] == pid, PID2FLOAT_MAP[pid])\n",
        "\n",
        "        graphs = []\n",
        "        n_graphs = min(stop, self.data.shape[0]) if stop else self.data.shape[0]\n",
        "        \n",
        "        for i in range(n_graphs):\n",
        "            if i % 1000 == 0:\n",
        "                print(datetime.now().strftime('%Y-%m-%d %H:%M:%S'), '\\033[92m[INFO]\\033[0m', f'\\033[92mCreated {self.connect_style} graphs:\\033[0m'.rjust(40, ' '),  i, '/', n_graphs)\n",
        "            graph = self._create_graph(i)\n",
        "            graphs.append(graph)\n",
        "        return graphs"
      ],
      "execution_count": 5,
      "outputs": [
        {
          "output_type": "stream",
          "text": [
            "Using backend: pytorch\n"
          ],
          "name": "stderr"
        }
      ]
    },
    {
      "cell_type": "code",
      "metadata": {
        "colab": {
          "base_uri": "https://localhost:8080/"
        },
        "id": "-oVFYWp33_G_",
        "outputId": "d10dc25b-c54b-47b5-f526-a404438b9a82"
      },
      "source": [
        "# Let's connect the nodes if they are adjacent in either $p_T, y, \\phi$.\n",
        "generator = GenerateGraphs(X, connect_style='biadj_pt_y_phi')\n",
        "graphs = generator.create_graphs()\n",
        "graph_file_name = 'QG_jets_{connection}.bin'\n",
        "save_graphs(graph_file_name, graphs, y)"
      ],
      "execution_count": 6,
      "outputs": [
        {
          "output_type": "stream",
          "text": [
            "2021-03-24 20:25:21 \u001b[92m[INFO]\u001b[0m  \u001b[92mCreated biadj_pt_y_phi graphs:\u001b[0m 0 / 100000\n",
            "2021-03-24 20:25:22 \u001b[92m[INFO]\u001b[0m  \u001b[92mCreated biadj_pt_y_phi graphs:\u001b[0m 1000 / 100000\n",
            "2021-03-24 20:25:24 \u001b[92m[INFO]\u001b[0m  \u001b[92mCreated biadj_pt_y_phi graphs:\u001b[0m 2000 / 100000\n",
            "2021-03-24 20:25:26 \u001b[92m[INFO]\u001b[0m  \u001b[92mCreated biadj_pt_y_phi graphs:\u001b[0m 3000 / 100000\n",
            "2021-03-24 20:25:27 \u001b[92m[INFO]\u001b[0m  \u001b[92mCreated biadj_pt_y_phi graphs:\u001b[0m 4000 / 100000\n",
            "2021-03-24 20:25:29 \u001b[92m[INFO]\u001b[0m  \u001b[92mCreated biadj_pt_y_phi graphs:\u001b[0m 5000 / 100000\n",
            "2021-03-24 20:25:31 \u001b[92m[INFO]\u001b[0m  \u001b[92mCreated biadj_pt_y_phi graphs:\u001b[0m 6000 / 100000\n",
            "2021-03-24 20:25:32 \u001b[92m[INFO]\u001b[0m  \u001b[92mCreated biadj_pt_y_phi graphs:\u001b[0m 7000 / 100000\n",
            "2021-03-24 20:25:34 \u001b[92m[INFO]\u001b[0m  \u001b[92mCreated biadj_pt_y_phi graphs:\u001b[0m 8000 / 100000\n",
            "2021-03-24 20:25:35 \u001b[92m[INFO]\u001b[0m  \u001b[92mCreated biadj_pt_y_phi graphs:\u001b[0m 9000 / 100000\n",
            "2021-03-24 20:25:37 \u001b[92m[INFO]\u001b[0m  \u001b[92mCreated biadj_pt_y_phi graphs:\u001b[0m 10000 / 100000\n",
            "2021-03-24 20:25:39 \u001b[92m[INFO]\u001b[0m  \u001b[92mCreated biadj_pt_y_phi graphs:\u001b[0m 11000 / 100000\n",
            "2021-03-24 20:25:40 \u001b[92m[INFO]\u001b[0m  \u001b[92mCreated biadj_pt_y_phi graphs:\u001b[0m 12000 / 100000\n",
            "2021-03-24 20:25:42 \u001b[92m[INFO]\u001b[0m  \u001b[92mCreated biadj_pt_y_phi graphs:\u001b[0m 13000 / 100000\n",
            "2021-03-24 20:25:44 \u001b[92m[INFO]\u001b[0m  \u001b[92mCreated biadj_pt_y_phi graphs:\u001b[0m 14000 / 100000\n",
            "2021-03-24 20:25:45 \u001b[92m[INFO]\u001b[0m  \u001b[92mCreated biadj_pt_y_phi graphs:\u001b[0m 15000 / 100000\n",
            "2021-03-24 20:25:47 \u001b[92m[INFO]\u001b[0m  \u001b[92mCreated biadj_pt_y_phi graphs:\u001b[0m 16000 / 100000\n",
            "2021-03-24 20:25:48 \u001b[92m[INFO]\u001b[0m  \u001b[92mCreated biadj_pt_y_phi graphs:\u001b[0m 17000 / 100000\n",
            "2021-03-24 20:25:50 \u001b[92m[INFO]\u001b[0m  \u001b[92mCreated biadj_pt_y_phi graphs:\u001b[0m 18000 / 100000\n",
            "2021-03-24 20:25:52 \u001b[92m[INFO]\u001b[0m  \u001b[92mCreated biadj_pt_y_phi graphs:\u001b[0m 19000 / 100000\n",
            "2021-03-24 20:25:53 \u001b[92m[INFO]\u001b[0m  \u001b[92mCreated biadj_pt_y_phi graphs:\u001b[0m 20000 / 100000\n",
            "2021-03-24 20:25:55 \u001b[92m[INFO]\u001b[0m  \u001b[92mCreated biadj_pt_y_phi graphs:\u001b[0m 21000 / 100000\n",
            "2021-03-24 20:25:57 \u001b[92m[INFO]\u001b[0m  \u001b[92mCreated biadj_pt_y_phi graphs:\u001b[0m 22000 / 100000\n",
            "2021-03-24 20:25:58 \u001b[92m[INFO]\u001b[0m  \u001b[92mCreated biadj_pt_y_phi graphs:\u001b[0m 23000 / 100000\n",
            "2021-03-24 20:26:00 \u001b[92m[INFO]\u001b[0m  \u001b[92mCreated biadj_pt_y_phi graphs:\u001b[0m 24000 / 100000\n",
            "2021-03-24 20:26:01 \u001b[92m[INFO]\u001b[0m  \u001b[92mCreated biadj_pt_y_phi graphs:\u001b[0m 25000 / 100000\n",
            "2021-03-24 20:26:03 \u001b[92m[INFO]\u001b[0m  \u001b[92mCreated biadj_pt_y_phi graphs:\u001b[0m 26000 / 100000\n",
            "2021-03-24 20:26:05 \u001b[92m[INFO]\u001b[0m  \u001b[92mCreated biadj_pt_y_phi graphs:\u001b[0m 27000 / 100000\n",
            "2021-03-24 20:26:06 \u001b[92m[INFO]\u001b[0m  \u001b[92mCreated biadj_pt_y_phi graphs:\u001b[0m 28000 / 100000\n",
            "2021-03-24 20:26:08 \u001b[92m[INFO]\u001b[0m  \u001b[92mCreated biadj_pt_y_phi graphs:\u001b[0m 29000 / 100000\n",
            "2021-03-24 20:26:10 \u001b[92m[INFO]\u001b[0m  \u001b[92mCreated biadj_pt_y_phi graphs:\u001b[0m 30000 / 100000\n",
            "2021-03-24 20:26:11 \u001b[92m[INFO]\u001b[0m  \u001b[92mCreated biadj_pt_y_phi graphs:\u001b[0m 31000 / 100000\n",
            "2021-03-24 20:26:13 \u001b[92m[INFO]\u001b[0m  \u001b[92mCreated biadj_pt_y_phi graphs:\u001b[0m 32000 / 100000\n",
            "2021-03-24 20:26:14 \u001b[92m[INFO]\u001b[0m  \u001b[92mCreated biadj_pt_y_phi graphs:\u001b[0m 33000 / 100000\n",
            "2021-03-24 20:26:16 \u001b[92m[INFO]\u001b[0m  \u001b[92mCreated biadj_pt_y_phi graphs:\u001b[0m 34000 / 100000\n",
            "2021-03-24 20:26:18 \u001b[92m[INFO]\u001b[0m  \u001b[92mCreated biadj_pt_y_phi graphs:\u001b[0m 35000 / 100000\n",
            "2021-03-24 20:26:19 \u001b[92m[INFO]\u001b[0m  \u001b[92mCreated biadj_pt_y_phi graphs:\u001b[0m 36000 / 100000\n",
            "2021-03-24 20:26:21 \u001b[92m[INFO]\u001b[0m  \u001b[92mCreated biadj_pt_y_phi graphs:\u001b[0m 37000 / 100000\n",
            "2021-03-24 20:26:23 \u001b[92m[INFO]\u001b[0m  \u001b[92mCreated biadj_pt_y_phi graphs:\u001b[0m 38000 / 100000\n",
            "2021-03-24 20:26:24 \u001b[92m[INFO]\u001b[0m  \u001b[92mCreated biadj_pt_y_phi graphs:\u001b[0m 39000 / 100000\n",
            "2021-03-24 20:26:26 \u001b[92m[INFO]\u001b[0m  \u001b[92mCreated biadj_pt_y_phi graphs:\u001b[0m 40000 / 100000\n",
            "2021-03-24 20:26:28 \u001b[92m[INFO]\u001b[0m  \u001b[92mCreated biadj_pt_y_phi graphs:\u001b[0m 41000 / 100000\n",
            "2021-03-24 20:26:29 \u001b[92m[INFO]\u001b[0m  \u001b[92mCreated biadj_pt_y_phi graphs:\u001b[0m 42000 / 100000\n",
            "2021-03-24 20:26:31 \u001b[92m[INFO]\u001b[0m  \u001b[92mCreated biadj_pt_y_phi graphs:\u001b[0m 43000 / 100000\n",
            "2021-03-24 20:26:33 \u001b[92m[INFO]\u001b[0m  \u001b[92mCreated biadj_pt_y_phi graphs:\u001b[0m 44000 / 100000\n",
            "2021-03-24 20:26:34 \u001b[92m[INFO]\u001b[0m  \u001b[92mCreated biadj_pt_y_phi graphs:\u001b[0m 45000 / 100000\n",
            "2021-03-24 20:26:36 \u001b[92m[INFO]\u001b[0m  \u001b[92mCreated biadj_pt_y_phi graphs:\u001b[0m 46000 / 100000\n",
            "2021-03-24 20:26:38 \u001b[92m[INFO]\u001b[0m  \u001b[92mCreated biadj_pt_y_phi graphs:\u001b[0m 47000 / 100000\n",
            "2021-03-24 20:26:39 \u001b[92m[INFO]\u001b[0m  \u001b[92mCreated biadj_pt_y_phi graphs:\u001b[0m 48000 / 100000\n",
            "2021-03-24 20:26:41 \u001b[92m[INFO]\u001b[0m  \u001b[92mCreated biadj_pt_y_phi graphs:\u001b[0m 49000 / 100000\n",
            "2021-03-24 20:26:42 \u001b[92m[INFO]\u001b[0m  \u001b[92mCreated biadj_pt_y_phi graphs:\u001b[0m 50000 / 100000\n",
            "2021-03-24 20:26:44 \u001b[92m[INFO]\u001b[0m  \u001b[92mCreated biadj_pt_y_phi graphs:\u001b[0m 51000 / 100000\n",
            "2021-03-24 20:26:46 \u001b[92m[INFO]\u001b[0m  \u001b[92mCreated biadj_pt_y_phi graphs:\u001b[0m 52000 / 100000\n",
            "2021-03-24 20:26:47 \u001b[92m[INFO]\u001b[0m  \u001b[92mCreated biadj_pt_y_phi graphs:\u001b[0m 53000 / 100000\n",
            "2021-03-24 20:26:49 \u001b[92m[INFO]\u001b[0m  \u001b[92mCreated biadj_pt_y_phi graphs:\u001b[0m 54000 / 100000\n",
            "2021-03-24 20:26:51 \u001b[92m[INFO]\u001b[0m  \u001b[92mCreated biadj_pt_y_phi graphs:\u001b[0m 55000 / 100000\n",
            "2021-03-24 20:26:52 \u001b[92m[INFO]\u001b[0m  \u001b[92mCreated biadj_pt_y_phi graphs:\u001b[0m 56000 / 100000\n",
            "2021-03-24 20:26:54 \u001b[92m[INFO]\u001b[0m  \u001b[92mCreated biadj_pt_y_phi graphs:\u001b[0m 57000 / 100000\n",
            "2021-03-24 20:26:56 \u001b[92m[INFO]\u001b[0m  \u001b[92mCreated biadj_pt_y_phi graphs:\u001b[0m 58000 / 100000\n",
            "2021-03-24 20:26:57 \u001b[92m[INFO]\u001b[0m  \u001b[92mCreated biadj_pt_y_phi graphs:\u001b[0m 59000 / 100000\n",
            "2021-03-24 20:26:59 \u001b[92m[INFO]\u001b[0m  \u001b[92mCreated biadj_pt_y_phi graphs:\u001b[0m 60000 / 100000\n",
            "2021-03-24 20:27:00 \u001b[92m[INFO]\u001b[0m  \u001b[92mCreated biadj_pt_y_phi graphs:\u001b[0m 61000 / 100000\n",
            "2021-03-24 20:27:02 \u001b[92m[INFO]\u001b[0m  \u001b[92mCreated biadj_pt_y_phi graphs:\u001b[0m 62000 / 100000\n",
            "2021-03-24 20:27:03 \u001b[92m[INFO]\u001b[0m  \u001b[92mCreated biadj_pt_y_phi graphs:\u001b[0m 63000 / 100000\n",
            "2021-03-24 20:27:05 \u001b[92m[INFO]\u001b[0m  \u001b[92mCreated biadj_pt_y_phi graphs:\u001b[0m 64000 / 100000\n",
            "2021-03-24 20:27:07 \u001b[92m[INFO]\u001b[0m  \u001b[92mCreated biadj_pt_y_phi graphs:\u001b[0m 65000 / 100000\n",
            "2021-03-24 20:27:08 \u001b[92m[INFO]\u001b[0m  \u001b[92mCreated biadj_pt_y_phi graphs:\u001b[0m 66000 / 100000\n",
            "2021-03-24 20:27:10 \u001b[92m[INFO]\u001b[0m  \u001b[92mCreated biadj_pt_y_phi graphs:\u001b[0m 67000 / 100000\n",
            "2021-03-24 20:27:11 \u001b[92m[INFO]\u001b[0m  \u001b[92mCreated biadj_pt_y_phi graphs:\u001b[0m 68000 / 100000\n",
            "2021-03-24 20:27:13 \u001b[92m[INFO]\u001b[0m  \u001b[92mCreated biadj_pt_y_phi graphs:\u001b[0m 69000 / 100000\n",
            "2021-03-24 20:27:15 \u001b[92m[INFO]\u001b[0m  \u001b[92mCreated biadj_pt_y_phi graphs:\u001b[0m 70000 / 100000\n",
            "2021-03-24 20:27:17 \u001b[92m[INFO]\u001b[0m  \u001b[92mCreated biadj_pt_y_phi graphs:\u001b[0m 71000 / 100000\n",
            "2021-03-24 20:27:19 \u001b[92m[INFO]\u001b[0m  \u001b[92mCreated biadj_pt_y_phi graphs:\u001b[0m 72000 / 100000\n",
            "2021-03-24 20:27:20 \u001b[92m[INFO]\u001b[0m  \u001b[92mCreated biadj_pt_y_phi graphs:\u001b[0m 73000 / 100000\n",
            "2021-03-24 20:27:22 \u001b[92m[INFO]\u001b[0m  \u001b[92mCreated biadj_pt_y_phi graphs:\u001b[0m 74000 / 100000\n",
            "2021-03-24 20:27:23 \u001b[92m[INFO]\u001b[0m  \u001b[92mCreated biadj_pt_y_phi graphs:\u001b[0m 75000 / 100000\n",
            "2021-03-24 20:27:25 \u001b[92m[INFO]\u001b[0m  \u001b[92mCreated biadj_pt_y_phi graphs:\u001b[0m 76000 / 100000\n",
            "2021-03-24 20:27:26 \u001b[92m[INFO]\u001b[0m  \u001b[92mCreated biadj_pt_y_phi graphs:\u001b[0m 77000 / 100000\n",
            "2021-03-24 20:27:28 \u001b[92m[INFO]\u001b[0m  \u001b[92mCreated biadj_pt_y_phi graphs:\u001b[0m 78000 / 100000\n",
            "2021-03-24 20:27:30 \u001b[92m[INFO]\u001b[0m  \u001b[92mCreated biadj_pt_y_phi graphs:\u001b[0m 79000 / 100000\n",
            "2021-03-24 20:27:31 \u001b[92m[INFO]\u001b[0m  \u001b[92mCreated biadj_pt_y_phi graphs:\u001b[0m 80000 / 100000\n",
            "2021-03-24 20:27:33 \u001b[92m[INFO]\u001b[0m  \u001b[92mCreated biadj_pt_y_phi graphs:\u001b[0m 81000 / 100000\n",
            "2021-03-24 20:27:34 \u001b[92m[INFO]\u001b[0m  \u001b[92mCreated biadj_pt_y_phi graphs:\u001b[0m 82000 / 100000\n",
            "2021-03-24 20:27:36 \u001b[92m[INFO]\u001b[0m  \u001b[92mCreated biadj_pt_y_phi graphs:\u001b[0m 83000 / 100000\n",
            "2021-03-24 20:27:37 \u001b[92m[INFO]\u001b[0m  \u001b[92mCreated biadj_pt_y_phi graphs:\u001b[0m 84000 / 100000\n",
            "2021-03-24 20:27:39 \u001b[92m[INFO]\u001b[0m  \u001b[92mCreated biadj_pt_y_phi graphs:\u001b[0m 85000 / 100000\n",
            "2021-03-24 20:27:41 \u001b[92m[INFO]\u001b[0m  \u001b[92mCreated biadj_pt_y_phi graphs:\u001b[0m 86000 / 100000\n",
            "2021-03-24 20:27:43 \u001b[92m[INFO]\u001b[0m  \u001b[92mCreated biadj_pt_y_phi graphs:\u001b[0m 87000 / 100000\n",
            "2021-03-24 20:27:44 \u001b[92m[INFO]\u001b[0m  \u001b[92mCreated biadj_pt_y_phi graphs:\u001b[0m 88000 / 100000\n",
            "2021-03-24 20:27:46 \u001b[92m[INFO]\u001b[0m  \u001b[92mCreated biadj_pt_y_phi graphs:\u001b[0m 89000 / 100000\n",
            "2021-03-24 20:27:48 \u001b[92m[INFO]\u001b[0m  \u001b[92mCreated biadj_pt_y_phi graphs:\u001b[0m 90000 / 100000\n",
            "2021-03-24 20:27:49 \u001b[92m[INFO]\u001b[0m  \u001b[92mCreated biadj_pt_y_phi graphs:\u001b[0m 91000 / 100000\n",
            "2021-03-24 20:27:51 \u001b[92m[INFO]\u001b[0m  \u001b[92mCreated biadj_pt_y_phi graphs:\u001b[0m 92000 / 100000\n",
            "2021-03-24 20:27:52 \u001b[92m[INFO]\u001b[0m  \u001b[92mCreated biadj_pt_y_phi graphs:\u001b[0m 93000 / 100000\n",
            "2021-03-24 20:27:54 \u001b[92m[INFO]\u001b[0m  \u001b[92mCreated biadj_pt_y_phi graphs:\u001b[0m 94000 / 100000\n",
            "2021-03-24 20:27:56 \u001b[92m[INFO]\u001b[0m  \u001b[92mCreated biadj_pt_y_phi graphs:\u001b[0m 95000 / 100000\n",
            "2021-03-24 20:27:57 \u001b[92m[INFO]\u001b[0m  \u001b[92mCreated biadj_pt_y_phi graphs:\u001b[0m 96000 / 100000\n",
            "2021-03-24 20:27:59 \u001b[92m[INFO]\u001b[0m  \u001b[92mCreated biadj_pt_y_phi graphs:\u001b[0m 97000 / 100000\n",
            "2021-03-24 20:28:00 \u001b[92m[INFO]\u001b[0m  \u001b[92mCreated biadj_pt_y_phi graphs:\u001b[0m 98000 / 100000\n",
            "2021-03-24 20:28:02 \u001b[92m[INFO]\u001b[0m  \u001b[92mCreated biadj_pt_y_phi graphs:\u001b[0m 99000 / 100000\n"
          ],
          "name": "stdout"
        }
      ]
    },
    {
      "cell_type": "markdown",
      "metadata": {
        "id": "G9gdN-1j8Igs"
      },
      "source": [
        "### Visualize the graph"
      ]
    },
    {
      "cell_type": "code",
      "metadata": {
        "id": "oNxXAqo23nwa"
      },
      "source": [
        "def plot_graph(graph):\n",
        "    print('Number of nodes and edges: {} / {}'.format(graph.number_of_nodes(), graph.number_of_edges()))\n",
        "    nx.draw(graph.to_networkx(), with_labels=True, node_color=[[.7, .7, .7]])\n",
        "    plt.show()"
      ],
      "execution_count": 7,
      "outputs": []
    },
    {
      "cell_type": "code",
      "metadata": {
        "colab": {
          "base_uri": "https://localhost:8080/",
          "height": 336
        },
        "id": "JoSssZf58ZHG",
        "outputId": "51315966-b287-44ac-e76d-e739e5b7af90"
      },
      "source": [
        "# take the first graph as an example\n",
        "plot_graph(graphs[0])"
      ],
      "execution_count": 8,
      "outputs": [
        {
          "output_type": "stream",
          "text": [
            "Number of nodes and edges: 18 / 120\n"
          ],
          "name": "stdout"
        },
        {
          "output_type": "display_data",
          "data": {
            "image/png": "[encoded data removed]",
            "text/plain": [
              "<Figure size 432x288 with 1 Axes>"
            ]
          },
          "metadata": {
            "tags": []
          }
        }
      ]
    },
    {
      "cell_type": "markdown",
      "metadata": {
        "id": "bWP3B1VU8nKf"
      },
      "source": [
        "So for this particular jet, there are 18 constituents"
      ]
    },
    {
      "cell_type": "markdown",
      "metadata": {
        "id": "XTuWcflh-anC"
      },
      "source": [
        "### Prepare dataset for training, validation and test\n",
        "\n",
        "- We will split the data into training, validation and test dataset according to the ratios 0.6:0.2:0.2"
      ]
    },
    {
      "cell_type": "code",
      "metadata": {
        "colab": {
          "base_uri": "https://localhost:8080/"
        },
        "id": "t7Qez2hy8ecM",
        "outputId": "654ea2ae-2685-4ba4-c9ea-20e079f7d568"
      },
      "source": [
        "train_size = int(len(graphs) * 0.6)\n",
        "val_size = int(len(graphs) * 0.2)\n",
        "test_size = len(graphs) - train_size - val_size\n",
        "\n",
        "dataset = list(zip(graphs, y['label']))\n",
        "train_dataset, val_dataset, test_dataset = torch.utils.data.random_split(dataset, (train_size, val_size, test_size))\n",
        "\n",
        "# since the training is very slow, just let batch size be 1\n",
        "train_dataloader = dgl.dataloading.GraphDataLoader(train_dataset, batch_size = train_size, drop_last=False, shuffle=True)\n",
        "val_dataloader = dgl.dataloading.GraphDataLoader(val_dataset, batch_size = val_size, drop_last=False, shuffle=False)\n",
        "test_dataloader = dgl.dataloading.GraphDataLoader(test_dataset, batch_size = test_size, drop_last=False, shuffle=False)\n",
        "\n",
        "print('Train size: ', train_size)\n",
        "print('Validation size: ', val_size)\n",
        "print('Test size: ', test_size)"
      ],
      "execution_count": 9,
      "outputs": [
        {
          "output_type": "stream",
          "text": [
            "Train size:  60000\n",
            "Validation size:  20000\n",
            "Test size:  20000\n"
          ],
          "name": "stdout"
        }
      ]
    },
    {
      "cell_type": "markdown",
      "metadata": {
        "id": "EmM1wTL5_OtQ"
      },
      "source": [
        "# 3. Implementing Graph Neural Network Models\n",
        "\n",
        "Suppose we have a graph $G$ with $n$ nodes and $m$ edges. We have\\\n",
        "$X$ is the feature matix for the nodes\\\n",
        "$A$ is the adjacency matrix of the graph $G$\\\n",
        "$\\tilde{A}=A+I_n$ is the adjacency matrix with added self-loops\\\n",
        "$\\tilde{D}_{ij} = \\sum_{k} \\tilde{A}_{ik}\\delta_{ij}$ is the diagonal degree matrix\\\n",
        "$\\mathcal{N}$ is the neighborhood function\\\n",
        "$W$ is the weight matrix\n",
        "\n",
        "The essence of a GNN architecture is in its node representation $H^K$ where $K$ is the depth/iteraction. \n",
        "\n",
        "Here , a total of 5 GNN architectures is implemented using the popular `dgl` libraries. \n",
        "\n",
        "- **SGC** (Simplifying Graph Convolution) layer (https://arxiv.org/pdf/1902.07153.pdf): \\\n",
        "$H^K = (\\tilde{D}^{-1/2}\\tilde{A}\\tilde{D}^{-1/2})^KX\\Theta$\\\n",
        "where $\\Theta$ is a learned weight matrix\\\n",
        "\n",
        "- **SAGE** (SAmple and aggreGatE) convolution layer (https://arxiv.org/pdf/1706.02216.pdf): \\\n",
        "$H^{\\ell+1}_{\\mathcal{N}(i)} = \\text{aggregate}(\\{H_j^\\ell,\\forall j\\in \\mathcal{N}(i)\\})$\\\n",
        "where $\\text{aggregate}$ is a differentiable aggregator function\\\n",
        "Here the `mean` aggregator is used.\n",
        "\n",
        "- **GAT** (Graph Attention Network) (https://arxiv.org/pdf/1710.10903.pdf): \\\n",
        "$H^{\\ell+1}_i = \\sum_{j\\in \\mathcal{N}(i)}\\alpha_{i,j}W^{(\\ell)}H_j^{\\ell}$\\\n",
        "where $\\alpha_{i,j}$ is the attention score bewteen node $i$ and node $j$:\\\n",
        "$\\alpha_{ij}^{l} = \\mathrm{softmax_i} (e_{ij}^{l})$\\\n",
        "$e_{ij}^{l} = \\mathrm{LeakyReLU}\\left(\\vec{a}^T [W h_{i} \\| W h_{j}]\\right)$\n",
        "\n",
        "- **AGNN** (Attention-based Graph Neural Network) convolution layer (https://arxiv.org/abs/1803.03735): \\\n",
        "$H^{l+1} = P H^{l}$\\\n",
        "$P_{ij} = \\mathrm{softmax}_i ( \\beta \\cdot \\cos(h_i^l, h_j^l))$\\\n",
        "where $\\beta$ is a single scalar parameter.\n",
        "\n",
        "- **GCN** (Graph Convolutional Network) (https://arxiv.org/abs/1609.02907): \\\n",
        "$H^{(l+1)} = \\sigma(\\tilde{D}^{-\\frac{1}{2}}\\tilde{A}\\tilde{D}^{-\\frac{1}{2}}H^{(l)}W^{(l)})$\\\n",
        "where $\\sigma$ is an activation function\n"
      ]
    },
    {
      "cell_type": "code",
      "metadata": {
        "id": "oIqQHJF0-u64"
      },
      "source": [
        "import torch.nn as nn\n",
        "import torch.nn.functional as F\n",
        "import dgl.nn as dglnn\n",
        "from dgl.nn.pytorch.conv import GraphConv\n",
        "\n",
        "\n",
        "class SGC(nn.Module):\n",
        "    ''' \n",
        "        https://docs.dgl.ai/api/python/nn.pytorch.html?highlight=sageconv#sgconv\n",
        "    '''\n",
        "    def __init__(self, in_feats, hid_feats, out_feats):\n",
        "        super().__init__()\n",
        "        self.conv1 = dglnn.SGConv(in_feats=in_feats, out_feats=hid_feats)\n",
        "        self.conv2 = dglnn.SGConv(in_feats=hid_feats, out_feats=out_feats)\n",
        "\n",
        "    def forward(self, graph, inputs):\n",
        "        # inputs are features of nodes\n",
        "        h = self.conv1(graph, inputs)\n",
        "        h = F.elu(h)\n",
        "        h = self.conv2(graph, h)\n",
        "        h = torch.sigmoid(h)\n",
        "        return h\n",
        "\n",
        "class SAGE(nn.Module):\n",
        "    ''' Two layers of Inductive Representation Learning on Large Graphs.\n",
        "        https://docs.dgl.ai/api/python/nn.pytorch.html#sageconv\n",
        "    '''\n",
        "    def __init__(self, in_feats, hid_feats, out_feats):\n",
        "        super().__init__()\n",
        "        self.conv1 = dglnn.SAGEConv(in_feats=in_feats, out_feats=hid_feats, aggregator_type='mean')\n",
        "        self.conv2 = dglnn.SAGEConv(in_feats=hid_feats, out_feats=out_feats, aggregator_type='mean')\n",
        "\n",
        "    def forward(self, graph, inputs):\n",
        "        # inputs are features of nodes\n",
        "        h = self.conv1(graph, inputs)\n",
        "        h = F.elu(h)\n",
        "        h = self.conv2(graph, h)\n",
        "        h = torch.sigmoid(h)\n",
        "        return h\n",
        "\n",
        "class GAT(nn.Module):\n",
        "    ''' Two layers of Graph Attention Network.\n",
        "        https://docs.dgl.ai/api/python/nn.pytorch.html#gatconv\n",
        "    '''\n",
        "    def __init__(self, in_feats, hid_feats, out_feats):\n",
        "        super().__init__()\n",
        "        # input shape = (nodes, features=in_feats); output shape = (nodes, num_head, hid_feats)\n",
        "        self.gatconv1 = dglnn.GATConv(in_feats, hid_feats, num_heads=2)\n",
        "        # input shape = (nodes, hid_feats * num_heads_previous_layer); output shape = (nodes, num_head, out_feats)\n",
        "        self.gatconv2 = dglnn.GATConv(hid_feats * 2, out_feats, num_heads=1)\n",
        "\n",
        "    def forward(self, graph, inputs):\n",
        "        # input shape = (nodes , features)\n",
        "        # print('inputs', inputs.shape, inputs)\n",
        "        h = self.gatconv1(graph, inputs)\n",
        "        # here h shape = (nodes, num_head, hid_feats)\n",
        "        # print('h1', h.shape, h)\n",
        "        ''' Reshape h to flatten the num_heads '''\n",
        "        # here h shape = (nodes, num_head * hid_feats)\n",
        "        h = h.reshape(h.shape[0], np.prod(h.shape[1:]))\n",
        "        # print('h2', h.shape, h)\n",
        "        h = self.gatconv2(graph, h)\n",
        "        # print('h3', h.shape, h)\n",
        "\n",
        "        graph.ndata['tmp_feature'] = h\n",
        "        h = dgl.mean_nodes(graph, 'tmp_feature')\n",
        "        # print('h4', h.shape, h)\n",
        "        h = torch.sigmoid(h)\n",
        "        h = torch.squeeze(h)\n",
        "        # print('h9', h.shape, h)\n",
        "        return h\n",
        "\n",
        "class AGNNConv(nn.Module):\n",
        "    ''' Graph Attention Network.\n",
        "        https://docs.dgl.ai/api/python/nn.pytorch.html#agnnconv\n",
        "    '''\n",
        "    def __init__(self):\n",
        "        super().__init__()\n",
        "\n",
        "    def forward(self, graph, inputs):\n",
        "        # inputs are features of nodes\n",
        "        h = AGNNConv()(graph, inputs)\n",
        "        h = torch.sigmoid(h)\n",
        "        return h\n",
        "\n",
        "class GCN(nn.Module):\n",
        "    ''' Graph Convolutional Network\n",
        "        https://docs.dgl.ai/en/0.4.x/tutorials/basics/4_batch.html#graph-classification-tutorial\n",
        "        https://docs.dgl.ai/en/0.4.x/tutorials/models/1_gnn/1_gcn.html\n",
        "    '''\n",
        "    def __init__(self, in_dim, hidden_dim, out_feats):\n",
        "        super(GCN, self).__init__()\n",
        "        self.conv1 = GraphConv(in_dim, hidden_dim)\n",
        "        self.conv2 = GraphConv(hidden_dim, hidden_dim)\n",
        "        self.conv3 = GraphConv(hidden_dim, out_feats)\n",
        "        self.bn1 = nn.BatchNorm1d(num_features=hidden_dim)\n",
        "        self.bn2 = nn.BatchNorm1d(num_features=hidden_dim)\n",
        "        self.bn3 = nn.BatchNorm1d(num_features=out_feats)\n",
        "\n",
        "    def forward(self, graph, h):\n",
        "        # Use node degree as the initial node feature. For undirected graphs, the in-degree\n",
        "        # is the same as the out_degree.\n",
        "        # h = graph.in_degrees().view(-1, 1).float()\n",
        "        # Perform graph convolution and activation function.\n",
        "        h = F.relu(self.bn1(self.conv1(graph, h)))\n",
        "        h = F.relu(self.bn2(self.conv2(graph, h)))\n",
        "        h = F.relu(self.bn3(self.conv3(graph, h)))\n",
        "        graph.ndata['tmp_feature'] = h\n",
        "        h = dgl.mean_nodes(graph, 'tmp_feature')\n",
        "        # Calculate graph representation by averaging all the node representations.\n",
        "        h = torch.sigmoid(h)\n",
        "        h = (h-0.5) * 2\n",
        "        return h\n",
        "\n",
        "class MLPPredictor(nn.Module):\n",
        "    def __init__(self, in_features, out_classes):\n",
        "        super().__init__()\n",
        "        self.W = nn.Linear(in_features * 2, out_classes)\n",
        "\n",
        "    def apply_edges(self, edges):\n",
        "        h_u = edges.src['h']\n",
        "        h_v = edges.dst['h']\n",
        "        score = self.W(torch.cat([h_u, h_v], 1))\n",
        "        return {'score': score}\n",
        "\n",
        "    def forward(self, graph, h):\n",
        "        # h contains the node representations computed from the GNN defined\n",
        "        # in the node classification section (Section 5.1).\n",
        "        with graph.local_scope():\n",
        "            graph.ndata['h'] = h\n",
        "            graph.apply_edges(self.apply_edges)\n",
        "            return graph.edata['score']\n",
        "\n",
        "class GNNmodel(nn.Module):\n",
        "    def __init__(self, module, in_features, hidden_features, out_features, name='GNN'):\n",
        "        super().__init__()\n",
        "        \n",
        "        self.name = name\n",
        "\n",
        "        if module.lower() == 'sage':\n",
        "            # from dgl.nn import SAGEConv\n",
        "            self.module = SAGE(in_features, hidden_features, out_features)\n",
        "        elif module.lower() == 'gat':\n",
        "            # from dgl.nn import GATConv\n",
        "            self.module = GAT(in_features, hidden_features, out_features)\n",
        "        elif module.lower() == 'agnnconv':\n",
        "            # from dgl.nn import AGNNConv\n",
        "            self.module = AGNNConv()\n",
        "        elif module.lower() == 'sgc':\n",
        "            # from dgl.nn import SGConv\n",
        "            self.module = SGC(in_features, hidden_features, out_features)\n",
        "        elif module.lower() == 'gcn':\n",
        "            self.module = GCN(in_features, hidden_features, out_features)\n",
        "        else:\n",
        "            assert False, module + ' is not supported'\n",
        "\n",
        "        # self.pred = MLPPredictor(out_features, 1)\n",
        "\n",
        "    def forward(self, g, x):\n",
        "        h = self.module(g, x)\n",
        "        return torch.squeeze(h) #self.pred(g, h)"
      ],
      "execution_count": 10,
      "outputs": []
    },
    {
      "cell_type": "code",
      "metadata": {
        "id": "zKhtO-wSVRnh"
      },
      "source": [
        "class EarlyStopping:\n",
        "    \"\"\"Early stops the training if validation loss doesn't improve after a given patience.\"\"\"\n",
        "    def __init__(self, patience=7, verbose=False, delta=0, path='checkpoint.pt', trace_func=print):\n",
        "        \"\"\"\n",
        "        Args:\n",
        "            patience (int): How long to wait after last time validation loss improved.\n",
        "                            Default: 7\n",
        "            verbose (bool): If True, prints a message for each validation loss improvement. \n",
        "                            Default: False\n",
        "            delta (float): Minimum change in the monitored quantity to qualify as an improvement.\n",
        "                            Default: 0\n",
        "            path (str): Path for the checkpoint to be saved to.\n",
        "                            Default: 'checkpoint.pt'\n",
        "            trace_func (function): trace print function.\n",
        "                            Default: print            \n",
        "        \"\"\"\n",
        "        self.patience = patience\n",
        "        self.verbose = verbose\n",
        "        self.counter = 0\n",
        "        self.best_score = None\n",
        "        self.early_stop = False\n",
        "        self.val_loss_min = np.Inf\n",
        "        self.delta = delta\n",
        "        self.path = path\n",
        "        self.trace_func = trace_func\n",
        "    def __call__(self, val_loss, model):\n",
        "\n",
        "        score = -val_loss\n",
        "\n",
        "        if self.best_score is None:\n",
        "            self.best_score = score\n",
        "            self.save_checkpoint(val_loss, model)\n",
        "        elif score < self.best_score + self.delta:\n",
        "            self.counter += 1\n",
        "            if self.verbose:\n",
        "                self.trace_func(f'EarlyStopping counter: {self.counter} out of {self.patience}')\n",
        "            if self.counter >= self.patience:\n",
        "                self.early_stop = True\n",
        "        else:\n",
        "            self.best_score = score\n",
        "            self.save_checkpoint(val_loss, model)\n",
        "            self.counter = 0\n",
        "\n",
        "    def save_checkpoint(self, val_loss, model):\n",
        "        '''Saves model when validation loss decrease.'''\n",
        "        if self.verbose:\n",
        "            self.trace_func(f'Validation loss decreased ({self.val_loss_min:.6f} --> {val_loss:.6f}).  Saving model ...')\n",
        "        torch.save(model.state_dict(), self.path)\n",
        "        self.val_loss_min = val_loss\n",
        "\n"
      ],
      "execution_count": 11,
      "outputs": []
    },
    {
      "cell_type": "code",
      "metadata": {
        "id": "qYkc5dmMU1K5"
      },
      "source": [
        "# define training loop\n",
        "def train(model, optimizer, epochs=100, loss_func=nn.MSELoss()):\n",
        "  epoch_losses = {'train': [], 'val': []}\n",
        "  for epoch in range(epochs):\n",
        "      train_loss = 0\n",
        "      for ibatch, (batched_graph, labels) in enumerate(train_dataloader):\n",
        "          node_features = batched_graph.ndata['feature']\n",
        "          pred = model(batched_graph, node_features.float())\n",
        "          loss = loss_func(pred, labels.float())\n",
        "          optimizer.zero_grad()\n",
        "          loss.backward()\n",
        "          optimizer.step()\n",
        "\n",
        "          train_loss += loss.detach().item()\n",
        "\n",
        "      # The loss per epoch for all batch is the average of losses per batch in this epoch \n",
        "      train_loss /= (ibatch + 1)\n",
        "\n",
        "      # Store loss per epoch \n",
        "      epoch_losses['train'].append(train_loss)\n",
        "\n",
        "      # Evaluate validation loss\n",
        "      for ibatch, (batched_graph, labels) in enumerate(val_dataloader):\n",
        "          node_features = batched_graph.ndata['feature']\n",
        "          pred = model(batched_graph, node_features.float())\n",
        "          val_loss = loss_func(pred, labels.float()).detach().item()\n",
        "          epoch_losses['val'].append(val_loss)\n",
        "          assert(ibatch == 0)\n",
        "\n",
        "      print(datetime.now().strftime('%Y-%m-%d %H:%M:%S'), '\\033[92m[INFO]\\033[0m', '\\033[92mepoch, loss, val_loss:\\033[0m'.rjust(40, ' '),  epoch+1, '|', train_loss, '|', val_loss)\n",
        "\n",
        "      # Early stopping\n",
        "      early_stopping = EarlyStopping(patience=10, verbose=False, path='{}.checkpoint'.format(model.name))\n",
        "      # early_stopping needs the validation loss to check if it is decreasing, \n",
        "      # and if it is, it will make a checkpoint of the current model\n",
        "      early_stopping(val_loss, model)\n",
        "\n",
        "      if early_stopping.early_stop:\n",
        "          print(datetime.now().strftime('%Y-%m-%d %H:%M:%S'), '\\033[92m[INFO]\\033[0m', '\\033[92mepoch, loss, val_loss:\\033[0m'.rjust(40, ' '),  epoch+1, '|', train_loss, '|', val_loss)\n",
        "          print(datetime.now().strftime('%Y-%m-%d %H:%M:%S'), '\\033[92m[INFO]\\033[0m', '\\033[92mEarly stop at:\\033[0m'.rjust(40, ' '),  epoch)\n",
        "          break\n",
        "  return epoch_losses"
      ],
      "execution_count": 12,
      "outputs": []
    },
    {
      "cell_type": "markdown",
      "metadata": {
        "id": "DXBrq2NBbA9H"
      },
      "source": [
        "## Architecture 1: Graph Attention Network"
      ]
    },
    {
      "cell_type": "code",
      "metadata": {
        "id": "lsXcN-e1_o-A",
        "colab": {
          "base_uri": "https://localhost:8080/"
        },
        "outputId": "b519c754-aca8-4ffc-d9e1-375c1dcd58a3"
      },
      "source": [
        "hidden_features, out_features = 9, 1 # 2 = classifier predict\n",
        "torch.manual_seed(0)\n",
        "# create the model\n",
        "gat_model = GNNmodel('GAT', graphs[0].ndata[list(graphs[0].ndata.keys())[0]].shape[1], hidden_features, out_features, name='GAT')\n",
        "print('Node feature dimension evolution {}->{}->{}'.format(graphs[0].ndata[list(graphs[0].ndata.keys())[0]].shape[1], hidden_features, out_features))"
      ],
      "execution_count": 13,
      "outputs": [
        {
          "output_type": "stream",
          "text": [
            "Node feature dimension evolution 4->9->1\n"
          ],
          "name": "stdout"
        }
      ]
    },
    {
      "cell_type": "markdown",
      "metadata": {
        "id": "dFvvssbNa8cK"
      },
      "source": [
        "### Start Training"
      ]
    },
    {
      "cell_type": "code",
      "metadata": {
        "id": "ylcWRih4a6HO"
      },
      "source": [
        "optimizer = torch.optim.Adam(gat_model.parameters(), lr=0.1)"
      ],
      "execution_count": 14,
      "outputs": []
    },
    {
      "cell_type": "code",
      "metadata": {
        "colab": {
          "base_uri": "https://localhost:8080/"
        },
        "id": "RDcJ7aAPbigb",
        "outputId": "aecc18f2-9cae-424a-9feb-011d764f2df6"
      },
      "source": [
        "losses = train(gat_model, optimizer)"
      ],
      "execution_count": 15,
      "outputs": [
        {
          "output_type": "stream",
          "text": [
            "2021-03-24 20:28:30 \u001b[92m[INFO]\u001b[0m          \u001b[92mepoch, loss, val_loss:\u001b[0m 1 | 0.25052410364151 | 0.24799008667469025\n",
            "2021-03-24 20:28:41 \u001b[92m[INFO]\u001b[0m          \u001b[92mepoch, loss, val_loss:\u001b[0m 2 | 0.24802954494953156 | 0.2457846850156784\n",
            "2021-03-24 20:28:53 \u001b[92m[INFO]\u001b[0m          \u001b[92mepoch, loss, val_loss:\u001b[0m 3 | 0.24580667912960052 | 0.24166716635227203\n",
            "2021-03-24 20:29:05 \u001b[92m[INFO]\u001b[0m          \u001b[92mepoch, loss, val_loss:\u001b[0m 4 | 0.24158447980880737 | 0.23618681728839874\n",
            "2021-03-24 20:29:17 \u001b[92m[INFO]\u001b[0m          \u001b[92mepoch, loss, val_loss:\u001b[0m 5 | 0.23592235147953033 | 0.22967109084129333\n",
            "2021-03-24 20:29:29 \u001b[92m[INFO]\u001b[0m          \u001b[92mepoch, loss, val_loss:\u001b[0m 6 | 0.22918473184108734 | 0.22129979729652405\n",
            "2021-03-24 20:29:40 \u001b[92m[INFO]\u001b[0m          \u001b[92mepoch, loss, val_loss:\u001b[0m 7 | 0.22062121331691742 | 0.2115376740694046\n",
            "2021-03-24 20:29:52 \u001b[92m[INFO]\u001b[0m          \u001b[92mepoch, loss, val_loss:\u001b[0m 8 | 0.21066485345363617 | 0.20173482596874237\n",
            "2021-03-24 20:30:04 \u001b[92m[INFO]\u001b[0m          \u001b[92mepoch, loss, val_loss:\u001b[0m 9 | 0.20066194236278534 | 0.19311577081680298\n",
            "2021-03-24 20:30:16 \u001b[92m[INFO]\u001b[0m          \u001b[92mepoch, loss, val_loss:\u001b[0m 10 | 0.19183672964572906 | 0.18644581735134125\n",
            "2021-03-24 20:30:28 \u001b[92m[INFO]\u001b[0m          \u001b[92mepoch, loss, val_loss:\u001b[0m 11 | 0.18496650457382202 | 0.1820491999387741\n",
            "2021-03-24 20:30:39 \u001b[92m[INFO]\u001b[0m          \u001b[92mepoch, loss, val_loss:\u001b[0m 12 | 0.1803683340549469 | 0.17971989512443542\n",
            "2021-03-24 20:30:52 \u001b[92m[INFO]\u001b[0m          \u001b[92mepoch, loss, val_loss:\u001b[0m 13 | 0.17782926559448242 | 0.1787855476140976\n",
            "2021-03-24 20:31:03 \u001b[92m[INFO]\u001b[0m          \u001b[92mepoch, loss, val_loss:\u001b[0m 14 | 0.1767178475856781 | 0.17852722108364105\n",
            "2021-03-24 20:31:15 \u001b[92m[INFO]\u001b[0m          \u001b[92mepoch, loss, val_loss:\u001b[0m 15 | 0.176345095038414 | 0.1784573644399643\n",
            "2021-03-24 20:31:27 \u001b[92m[INFO]\u001b[0m          \u001b[92mepoch, loss, val_loss:\u001b[0m 16 | 0.17622752487659454 | 0.1782759726047516\n",
            "2021-03-24 20:31:39 \u001b[92m[INFO]\u001b[0m          \u001b[92mepoch, loss, val_loss:\u001b[0m 17 | 0.17606166005134583 | 0.1777777373790741\n",
            "2021-03-24 20:31:51 \u001b[92m[INFO]\u001b[0m          \u001b[92mepoch, loss, val_loss:\u001b[0m 18 | 0.17564404010772705 | 0.17686566710472107\n",
            "2021-03-24 20:32:02 \u001b[92m[INFO]\u001b[0m          \u001b[92mepoch, loss, val_loss:\u001b[0m 19 | 0.17483888566493988 | 0.1755106896162033\n",
            "2021-03-24 20:32:14 \u001b[92m[INFO]\u001b[0m          \u001b[92mepoch, loss, val_loss:\u001b[0m 20 | 0.1736096739768982 | 0.17383602261543274\n",
            "2021-03-24 20:32:25 \u001b[92m[INFO]\u001b[0m          \u001b[92mepoch, loss, val_loss:\u001b[0m 21 | 0.17200447618961334 | 0.1720319241285324\n",
            "2021-03-24 20:32:38 \u001b[92m[INFO]\u001b[0m          \u001b[92mepoch, loss, val_loss:\u001b[0m 22 | 0.17015936970710754 | 0.17031626403331757\n",
            "2021-03-24 20:32:49 \u001b[92m[INFO]\u001b[0m          \u001b[92mepoch, loss, val_loss:\u001b[0m 23 | 0.16837887465953827 | 0.16890619695186615\n",
            "2021-03-24 20:33:01 \u001b[92m[INFO]\u001b[0m          \u001b[92mepoch, loss, val_loss:\u001b[0m 24 | 0.16690370440483093 | 0.16774733364582062\n",
            "2021-03-24 20:33:13 \u001b[92m[INFO]\u001b[0m          \u001b[92mepoch, loss, val_loss:\u001b[0m 25 | 0.16575489938259125 | 0.16674387454986572\n",
            "2021-03-24 20:33:25 \u001b[92m[INFO]\u001b[0m          \u001b[92mepoch, loss, val_loss:\u001b[0m 26 | 0.16504231095314026 | 0.16625092923641205\n",
            "2021-03-24 20:33:37 \u001b[92m[INFO]\u001b[0m          \u001b[92mepoch, loss, val_loss:\u001b[0m 27 | 0.1649470329284668 | 0.16631372272968292\n",
            "2021-03-24 20:33:48 \u001b[92m[INFO]\u001b[0m          \u001b[92mepoch, loss, val_loss:\u001b[0m 28 | 0.16527363657951355 | 0.16642868518829346\n",
            "2021-03-24 20:34:00 \u001b[92m[INFO]\u001b[0m          \u001b[92mepoch, loss, val_loss:\u001b[0m 29 | 0.16545870900154114 | 0.1662231981754303\n",
            "2021-03-24 20:34:12 \u001b[92m[INFO]\u001b[0m          \u001b[92mepoch, loss, val_loss:\u001b[0m 30 | 0.1652383655309677 | 0.16582421958446503\n",
            "2021-03-24 20:34:24 \u001b[92m[INFO]\u001b[0m          \u001b[92mepoch, loss, val_loss:\u001b[0m 31 | 0.16477414965629578 | 0.16547632217407227\n",
            "2021-03-24 20:34:35 \u001b[92m[INFO]\u001b[0m          \u001b[92mepoch, loss, val_loss:\u001b[0m 32 | 0.16429978609085083 | 0.16524691879749298\n",
            "2021-03-24 20:34:48 \u001b[92m[INFO]\u001b[0m          \u001b[92mepoch, loss, val_loss:\u001b[0m 33 | 0.16390004754066467 | 0.16508062183856964\n",
            "2021-03-24 20:35:05 \u001b[92m[INFO]\u001b[0m          \u001b[92mepoch, loss, val_loss:\u001b[0m 34 | 0.16358458995819092 | 0.1649082899093628\n",
            "2021-03-24 20:35:17 \u001b[92m[INFO]\u001b[0m          \u001b[92mepoch, loss, val_loss:\u001b[0m 35 | 0.16326597332954407 | 0.16469471156597137\n",
            "2021-03-24 20:35:28 \u001b[92m[INFO]\u001b[0m          \u001b[92mepoch, loss, val_loss:\u001b[0m 36 | 0.1629246324300766 | 0.16447940468788147\n",
            "2021-03-24 20:35:40 \u001b[92m[INFO]\u001b[0m          \u001b[92mepoch, loss, val_loss:\u001b[0m 37 | 0.16261787712574005 | 0.1643470674753189\n",
            "2021-03-24 20:35:51 \u001b[92m[INFO]\u001b[0m          \u001b[92mepoch, loss, val_loss:\u001b[0m 38 | 0.1624312400817871 | 0.16436730325222015\n",
            "2021-03-24 20:36:04 \u001b[92m[INFO]\u001b[0m          \u001b[92mepoch, loss, val_loss:\u001b[0m 39 | 0.16241616010665894 | 0.164462149143219\n",
            "2021-03-24 20:36:16 \u001b[92m[INFO]\u001b[0m          \u001b[92mepoch, loss, val_loss:\u001b[0m 40 | 0.16246499121189117 | 0.16445745527744293\n",
            "2021-03-24 20:36:28 \u001b[92m[INFO]\u001b[0m          \u001b[92mepoch, loss, val_loss:\u001b[0m 41 | 0.16239380836486816 | 0.16428294777870178\n",
            "2021-03-24 20:36:39 \u001b[92m[INFO]\u001b[0m          \u001b[92mepoch, loss, val_loss:\u001b[0m 42 | 0.16213646531105042 | 0.1639971137046814\n",
            "2021-03-24 20:36:52 \u001b[92m[INFO]\u001b[0m          \u001b[92mepoch, loss, val_loss:\u001b[0m 43 | 0.1617630571126938 | 0.16368404030799866\n",
            "2021-03-24 20:37:03 \u001b[92m[INFO]\u001b[0m          \u001b[92mepoch, loss, val_loss:\u001b[0m 44 | 0.16140441596508026 | 0.16342496871948242\n",
            "2021-03-24 20:37:15 \u001b[92m[INFO]\u001b[0m          \u001b[92mepoch, loss, val_loss:\u001b[0m 45 | 0.1611413061618805 | 0.16322645545005798\n",
            "2021-03-24 20:37:26 \u001b[92m[INFO]\u001b[0m          \u001b[92mepoch, loss, val_loss:\u001b[0m 46 | 0.16097374260425568 | 0.1630365401506424\n",
            "2021-03-24 20:37:39 \u001b[92m[INFO]\u001b[0m          \u001b[92mepoch, loss, val_loss:\u001b[0m 47 | 0.16086435317993164 | 0.16283859312534332\n",
            "2021-03-24 20:37:50 \u001b[92m[INFO]\u001b[0m          \u001b[92mepoch, loss, val_loss:\u001b[0m 48 | 0.16076217591762543 | 0.16262832283973694\n",
            "2021-03-24 20:38:02 \u001b[92m[INFO]\u001b[0m          \u001b[92mepoch, loss, val_loss:\u001b[0m 49 | 0.16063760221004486 | 0.16248969733715057\n",
            "2021-03-24 20:38:13 \u001b[92m[INFO]\u001b[0m          \u001b[92mepoch, loss, val_loss:\u001b[0m 50 | 0.16052858531475067 | 0.1623777449131012\n",
            "2021-03-24 20:38:26 \u001b[92m[INFO]\u001b[0m          \u001b[92mepoch, loss, val_loss:\u001b[0m 51 | 0.16041967272758484 | 0.16227874159812927\n",
            "2021-03-24 20:38:37 \u001b[92m[INFO]\u001b[0m          \u001b[92mepoch, loss, val_loss:\u001b[0m 52 | 0.1602519303560257 | 0.16210414469242096\n",
            "2021-03-24 20:38:49 \u001b[92m[INFO]\u001b[0m          \u001b[92mepoch, loss, val_loss:\u001b[0m 53 | 0.16002486646175385 | 0.16216206550598145\n",
            "2021-03-24 20:39:00 \u001b[92m[INFO]\u001b[0m          \u001b[92mepoch, loss, val_loss:\u001b[0m 54 | 0.15990756452083588 | 0.16244079172611237\n",
            "2021-03-24 20:39:13 \u001b[92m[INFO]\u001b[0m          \u001b[92mepoch, loss, val_loss:\u001b[0m 55 | 0.1602562963962555 | 0.16343753039836884\n",
            "2021-03-24 20:39:24 \u001b[92m[INFO]\u001b[0m          \u001b[92mepoch, loss, val_loss:\u001b[0m 56 | 0.16097939014434814 | 0.16292035579681396\n",
            "2021-03-24 20:39:36 \u001b[92m[INFO]\u001b[0m          \u001b[92mepoch, loss, val_loss:\u001b[0m 57 | 0.16065038740634918 | 0.1622171252965927\n",
            "2021-03-24 20:39:48 \u001b[92m[INFO]\u001b[0m          \u001b[92mepoch, loss, val_loss:\u001b[0m 58 | 0.1598215401172638 | 0.16299834847450256\n",
            "2021-03-24 20:40:00 \u001b[92m[INFO]\u001b[0m          \u001b[92mepoch, loss, val_loss:\u001b[0m 59 | 0.16048595309257507 | 0.16241471469402313\n",
            "2021-03-24 20:40:12 \u001b[92m[INFO]\u001b[0m          \u001b[92mepoch, loss, val_loss:\u001b[0m 60 | 0.16002492606639862 | 0.16186265647411346\n",
            "2021-03-24 20:40:23 \u001b[92m[INFO]\u001b[0m          \u001b[92mepoch, loss, val_loss:\u001b[0m 61 | 0.15944021940231323 | 0.16270188987255096\n",
            "2021-03-24 20:40:35 \u001b[92m[INFO]\u001b[0m          \u001b[92mepoch, loss, val_loss:\u001b[0m 62 | 0.1602451354265213 | 0.16215959191322327\n",
            "2021-03-24 20:40:46 \u001b[92m[INFO]\u001b[0m          \u001b[92mepoch, loss, val_loss:\u001b[0m 63 | 0.1598605513572693 | 0.16169629991054535\n",
            "2021-03-24 20:40:59 \u001b[92m[INFO]\u001b[0m          \u001b[92mepoch, loss, val_loss:\u001b[0m 64 | 0.15942148864269257 | 0.16229203343391418\n",
            "2021-03-24 20:41:10 \u001b[92m[INFO]\u001b[0m          \u001b[92mepoch, loss, val_loss:\u001b[0m 65 | 0.15999314188957214 | 0.16165508329868317\n",
            "2021-03-24 20:41:22 \u001b[92m[INFO]\u001b[0m          \u001b[92mepoch, loss, val_loss:\u001b[0m 66 | 0.15944606065750122 | 0.16173206269741058\n",
            "2021-03-24 20:41:34 \u001b[92m[INFO]\u001b[0m          \u001b[92mepoch, loss, val_loss:\u001b[0m 67 | 0.15952855348587036 | 0.1619601547718048\n",
            "2021-03-24 20:41:46 \u001b[92m[INFO]\u001b[0m          \u001b[92mepoch, loss, val_loss:\u001b[0m 68 | 0.15966744720935822 | 0.161568745970726\n",
            "2021-03-24 20:41:58 \u001b[92m[INFO]\u001b[0m          \u001b[92mepoch, loss, val_loss:\u001b[0m 69 | 0.15928256511688232 | 0.16188786923885345\n",
            "2021-03-24 20:42:09 \u001b[92m[INFO]\u001b[0m          \u001b[92mepoch, loss, val_loss:\u001b[0m 70 | 0.15959636867046356 | 0.16160757839679718\n",
            "2021-03-24 20:42:21 \u001b[92m[INFO]\u001b[0m          \u001b[92mepoch, loss, val_loss:\u001b[0m 71 | 0.15924161672592163 | 0.1617659479379654\n",
            "2021-03-24 20:42:33 \u001b[92m[INFO]\u001b[0m          \u001b[92mepoch, loss, val_loss:\u001b[0m 72 | 0.15935549139976501 | 0.161833256483078\n",
            "2021-03-24 20:42:45 \u001b[92m[INFO]\u001b[0m          \u001b[92mepoch, loss, val_loss:\u001b[0m 73 | 0.1594141572713852 | 0.1616329401731491\n",
            "2021-03-24 20:42:56 \u001b[92m[INFO]\u001b[0m          \u001b[92mepoch, loss, val_loss:\u001b[0m 74 | 0.15917639434337616 | 0.16189177334308624\n",
            "2021-03-24 20:43:08 \u001b[92m[INFO]\u001b[0m          \u001b[92mepoch, loss, val_loss:\u001b[0m 75 | 0.1594056338071823 | 0.1616818904876709\n",
            "2021-03-24 20:43:20 \u001b[92m[INFO]\u001b[0m          \u001b[92mepoch, loss, val_loss:\u001b[0m 76 | 0.15921640396118164 | 0.16160307824611664\n",
            "2021-03-24 20:43:32 \u001b[92m[INFO]\u001b[0m          \u001b[92mepoch, loss, val_loss:\u001b[0m 77 | 0.15913905203342438 | 0.1617644727230072\n",
            "2021-03-24 20:43:43 \u001b[92m[INFO]\u001b[0m          \u001b[92mepoch, loss, val_loss:\u001b[0m 78 | 0.15927250683307648 | 0.1615375280380249\n",
            "2021-03-24 20:43:55 \u001b[92m[INFO]\u001b[0m          \u001b[92mepoch, loss, val_loss:\u001b[0m 79 | 0.15907959640026093 | 0.16159671545028687\n",
            "2021-03-24 20:44:08 \u001b[92m[INFO]\u001b[0m          \u001b[92mepoch, loss, val_loss:\u001b[0m 80 | 0.15915387868881226 | 0.16163116693496704\n",
            "2021-03-24 20:44:19 \u001b[92m[INFO]\u001b[0m          \u001b[92mepoch, loss, val_loss:\u001b[0m 81 | 0.15915009379386902 | 0.16148100793361664\n",
            "2021-03-24 20:44:30 \u001b[92m[INFO]\u001b[0m          \u001b[92mepoch, loss, val_loss:\u001b[0m 82 | 0.15901458263397217 | 0.16155774891376495\n",
            "2021-03-24 20:44:42 \u001b[92m[INFO]\u001b[0m          \u001b[92mepoch, loss, val_loss:\u001b[0m 83 | 0.15909914672374725 | 0.16154752671718597\n",
            "2021-03-24 20:44:54 \u001b[92m[INFO]\u001b[0m          \u001b[92mepoch, loss, val_loss:\u001b[0m 84 | 0.15904021263122559 | 0.16148078441619873\n",
            "2021-03-24 20:45:06 \u001b[92m[INFO]\u001b[0m          \u001b[92mepoch, loss, val_loss:\u001b[0m 85 | 0.15896043181419373 | 0.16155149042606354\n",
            "2021-03-24 20:45:22 \u001b[92m[INFO]\u001b[0m          \u001b[92mepoch, loss, val_loss:\u001b[0m 86 | 0.15901699662208557 | 0.1615409255027771\n",
            "2021-03-24 20:45:38 \u001b[92m[INFO]\u001b[0m          \u001b[92mepoch, loss, val_loss:\u001b[0m 87 | 0.15896472334861755 | 0.1614873707294464\n",
            "2021-03-24 20:45:49 \u001b[92m[INFO]\u001b[0m          \u001b[92mepoch, loss, val_loss:\u001b[0m 88 | 0.15890222787857056 | 0.161539226770401\n",
            "2021-03-24 20:46:02 \u001b[92m[INFO]\u001b[0m          \u001b[92mepoch, loss, val_loss:\u001b[0m 89 | 0.158949613571167 | 0.1615329533815384\n",
            "2021-03-24 20:46:14 \u001b[92m[INFO]\u001b[0m          \u001b[92mepoch, loss, val_loss:\u001b[0m 90 | 0.15892136096954346 | 0.1614709198474884\n",
            "2021-03-24 20:46:25 \u001b[92m[INFO]\u001b[0m          \u001b[92mepoch, loss, val_loss:\u001b[0m 91 | 0.1588584929704666 | 0.16148333251476288\n",
            "2021-03-24 20:46:37 \u001b[92m[INFO]\u001b[0m          \u001b[92mepoch, loss, val_loss:\u001b[0m 92 | 0.1588771790266037 | 0.16148161888122559\n",
            "2021-03-24 20:46:50 \u001b[92m[INFO]\u001b[0m          \u001b[92mepoch, loss, val_loss:\u001b[0m 93 | 0.15886522829532623 | 0.16141216456890106\n",
            "2021-03-24 20:47:01 \u001b[92m[INFO]\u001b[0m          \u001b[92mepoch, loss, val_loss:\u001b[0m 94 | 0.15881097316741943 | 0.16140373051166534\n",
            "2021-03-24 20:47:13 \u001b[92m[INFO]\u001b[0m          \u001b[92mepoch, loss, val_loss:\u001b[0m 95 | 0.1588076949119568 | 0.16142475605010986\n",
            "2021-03-24 20:47:25 \u001b[92m[INFO]\u001b[0m          \u001b[92mepoch, loss, val_loss:\u001b[0m 96 | 0.15881872177124023 | 0.16138434410095215\n",
            "2021-03-24 20:47:37 \u001b[92m[INFO]\u001b[0m          \u001b[92mepoch, loss, val_loss:\u001b[0m 97 | 0.15878325700759888 | 0.16136188805103302\n",
            "2021-03-24 20:47:49 \u001b[92m[INFO]\u001b[0m          \u001b[92mepoch, loss, val_loss:\u001b[0m 98 | 0.15874673426151276 | 0.16137921810150146\n",
            "2021-03-24 20:48:00 \u001b[92m[INFO]\u001b[0m          \u001b[92mepoch, loss, val_loss:\u001b[0m 99 | 0.1587473303079605 | 0.16138547658920288\n",
            "2021-03-24 20:48:12 \u001b[92m[INFO]\u001b[0m          \u001b[92mepoch, loss, val_loss:\u001b[0m 100 | 0.15874190628528595 | 0.16136915981769562\n"
          ],
          "name": "stdout"
        }
      ]
    },
    {
      "cell_type": "code",
      "metadata": {
        "id": "-XhpmCIBkoOz"
      },
      "source": [
        "# load the last checkpoint with the best model.\n",
        "gat_model.load_state_dict(torch.load(gat_model.name+'.checkpoint'))\n",
        "# save the model\n",
        "torch.save(gat_model, gat_model.name)"
      ],
      "execution_count": 17,
      "outputs": []
    },
    {
      "cell_type": "markdown",
      "metadata": {
        "id": "fJ7568aJtNEt"
      },
      "source": [
        "### Test the model"
      ]
    },
    {
      "cell_type": "code",
      "metadata": {
        "id": "inZz4Vzgk5tH"
      },
      "source": [
        " def test(model, loss_func=nn.MSELoss()):\n",
        "    epoch_losses = {'test': []}\n",
        "    with torch.no_grad():\n",
        "        ''' Final Evaluate train loss '''\n",
        "        train_pred = []\n",
        "        train_labels = []\n",
        "        for ibatch, (batched_graph, labels) in enumerate(train_dataloader):\n",
        "            node_features = batched_graph.ndata['feature']\n",
        "            pred = model(batched_graph, node_features.float()).detach()\n",
        "            # print('zhangr train pred', pred.shape, pred)\n",
        "            # print('zhangr train labels', labels.shape, labels)\n",
        "            train_pred.append(pred)\n",
        "            train_labels.append(labels)\n",
        "        train_pred = torch.cat(train_pred).numpy()\n",
        "        train_labels = torch.cat(train_labels).numpy()\n",
        "\n",
        "        ''' Final Evaluate val loss '''\n",
        "        val_pred = []\n",
        "        val_labels = []\n",
        "        for ibatch, (batched_graph, labels) in enumerate(train_dataloader):\n",
        "            node_features = batched_graph.ndata['feature']\n",
        "            pred = model(batched_graph, node_features.float()).detach()\n",
        "            val_pred.append(pred)\n",
        "            val_labels.append(labels)\n",
        "            assert(ibatch == 0)\n",
        "        val_pred = torch.cat(val_pred).numpy()\n",
        "        val_labels = torch.cat(val_labels).numpy()\n",
        "\n",
        "\n",
        "        ''' Evaluate test loss '''\n",
        "        test_pred = []\n",
        "        test_labels = []\n",
        "        for ibatch, (batched_graph, labels) in enumerate(test_dataloader):\n",
        "            node_features = batched_graph.ndata['feature']\n",
        "            pred = model(batched_graph, node_features.float()).detach()\n",
        "            test_loss = loss_func(pred, labels.float()).detach().item()\n",
        "            epoch_losses['test'].append(test_loss)\n",
        "            test_pred.append(pred)\n",
        "            test_labels.append(labels)\n",
        "            assert(ibatch == 0)\n",
        "        test_pred = torch.cat(test_pred).numpy()\n",
        "        test_labels = torch.cat(test_labels).numpy()\n",
        "    return epoch_losses, train_pred, train_labels, val_pred, val_labels, test_pred, test_labels"
      ],
      "execution_count": 18,
      "outputs": []
    },
    {
      "cell_type": "code",
      "metadata": {
        "id": "RhsFKKWdk68_"
      },
      "source": [
        "test_losses, train_pred, train_labels, val_pred, val_labels, test_pred, test_labels = test(gat_model)"
      ],
      "execution_count": 19,
      "outputs": []
    },
    {
      "cell_type": "code",
      "metadata": {
        "id": "eMTB27S1tjl6"
      },
      "source": [
        "# Plot the loss over time\n",
        "def plot_loss(*losses, labels=None):\n",
        "    plt.clf()\n",
        "    fig = plt.figure(figsize=(10, 5))\n",
        "    for loss in losses:\n",
        "        plt.plot(loss)\n",
        "    plt.ylabel('Loss', fontsize=15)\n",
        "    plt.xlabel('Epoch', fontsize=15)\n",
        "    if labels:\n",
        "      plt.legend(labels, loc='upper right', fontsize=15)\n",
        "    return plt"
      ],
      "execution_count": 22,
      "outputs": []
    },
    {
      "cell_type": "code",
      "metadata": {
        "colab": {
          "base_uri": "https://localhost:8080/",
          "height": 373
        },
        "id": "22sB6T4RuBS8",
        "outputId": "4ab93f19-9116-4295-96dd-b77dfe6e9d59"
      },
      "source": [
        "plot_loss(losses['train'], losses['val'], labels=['train', 'val'])"
      ],
      "execution_count": 23,
      "outputs": [
        {
          "output_type": "execute_result",
          "data": {
            "text/plain": [
              "<module 'matplotlib.pyplot' from '/usr/local/lib/python3.7/dist-packages/matplotlib/pyplot.py'>"
            ]
          },
          "metadata": {
            "tags": []
          },
          "execution_count": 23
        },
        {
          "output_type": "display_data",
          "data": {
            "text/plain": [
              "<Figure size 432x288 with 0 Axes>"
            ]
          },
          "metadata": {
            "tags": []
          }
        },
        {
          "output_type": "display_data",
          "data": {
            "image/png": "[encoded data removed]",
            "text/plain": [
              "<Figure size 720x360 with 1 Axes>"
            ]
          },
          "metadata": {
            "tags": [],
            "needs_background": "light"
          }
        }
      ]
    },
    {
      "cell_type": "code",
      "metadata": {
        "id": "JOfgG860u_hM"
      },
      "source": [
        "# Plot the ROC curve\n",
        "# this is taken from my own package `quple`\n",
        "from typing import List\n",
        "def plot_stacked_roc_curve(fpr_list:List[np.ndarray], \n",
        "                   tpr_list:List[np.ndarray], labels:List[str]=None, title:str='ROC Curve', with_auc:bool=True):\n",
        "    \"\"\"Plots multiple roc curves stacked together\n",
        "    \n",
        "    Args:\n",
        "        fpr: list/array of numpy array\n",
        "            A collection of arrays containing the false positive rates for \n",
        "            different experiments\n",
        "        tpr: list/array of numpy array\n",
        "            A collection of arrays containing the false positive rates for \n",
        "            different experiments\n",
        "        labels: list of str, default = None\n",
        "            List of labels for different experiments.\n",
        "        title: str, default = 'ROC Curve'\n",
        "            Title of the plot\n",
        "        with_auc: True or False\n",
        "            Whether to include the auc in the labels\n",
        "\n",
        "    Returns:\n",
        "        A matplotlib plot of the stacked roc curve\n",
        "    \"\"\"     \n",
        "    assert len(fpr_list) == len(tpr_list)\n",
        "    n = len(fpr_list)\n",
        "    if labels is None:\n",
        "        labels = ['']*n\n",
        "    assert len(labels) == n\n",
        "    from sklearn.metrics import roc_curve, auc\n",
        "    import matplotlib.pyplot as plt\n",
        "    plt.clf()\n",
        "    plt.rcParams[\"font.weight\"] = \"bold\"\n",
        "    plt.xlabel(\"Signal Efficiency\", fontsize=18,fontweight='bold')\n",
        "    plt.ylabel(\"Background Rejection\", fontsize=18,fontweight='bold')\n",
        "    plt.title(title, fontsize=16,fontweight='bold')\n",
        "    plt.xlim(0.0, 1.0)\n",
        "    plt.ylim(0.0, 1.0)\n",
        "    plt.grid(color='gray', linestyle='--', linewidth=1)  \n",
        "    for fpr,tpr,label in zip(fpr_list, tpr_list, labels):\n",
        "        if with_auc:\n",
        "            roc_auc = auc(fpr, tpr)\n",
        "            label += ', AUC={:.4f}'.format(roc_auc)\n",
        "        plt.plot(tpr,1-fpr, linestyle='-',label=label,linewidth=2)\n",
        "    plt.plot([0, 1], [1, 0], linestyle='--', color='black', label='Luck, AUC= 0.5')\n",
        "    plt.legend(loc='best',prop={'size': 8})    \n",
        "    return plt       \n",
        "\n",
        "\n",
        "def plot_roc_curve(fpr:np.ndarray, tpr:np.ndarray, label:str='', title:str='ROC Curve', with_auc:bool=True):\n",
        "    \"\"\"Plots a roc curve\n",
        "    \n",
        "    Args:\n",
        "        fpr: numpy array\n",
        "            An array containing the false positive rates\n",
        "        tpr: numpy array\n",
        "            An array containing the true positive rates\n",
        "        label: str\n",
        "            Label of the curve\n",
        "        title: str\n",
        "            Title of the plot\n",
        "        with_auc: True or False\n",
        "            Whether to include the auc in the labels\n",
        "    \n",
        "    Returns:\n",
        "        A matplotlib plot of the roc curve\n",
        "    \"\"\"        \n",
        "    return plot_stacked_roc_curve([fpr], [tpr], [label], title=title, with_auc=with_auc)  "
      ],
      "execution_count": 24,
      "outputs": []
    },
    {
      "cell_type": "code",
      "metadata": {
        "id": "jTBQEB_aepjo"
      },
      "source": [
        "from sklearn.metrics import roc_curve, auc\n",
        "train_fpr, train_tpr, _ = roc_curve(train_labels, train_pred)\n",
        "val_fpr, val_tpr, _ = roc_curve(val_labels, val_pred)\n",
        "test_fpr, test_tpr, _ = roc_curve(test_labels, test_pred)"
      ],
      "execution_count": 25,
      "outputs": []
    },
    {
      "cell_type": "code",
      "metadata": {
        "colab": {
          "base_uri": "https://localhost:8080/",
          "height": 322
        },
        "id": "oVNIe5BBupRa",
        "outputId": "832b93a4-ebea-44ee-9f92-dcdd4a4402cd"
      },
      "source": [
        "plot_stacked_roc_curve([train_fpr, val_fpr, test_fpr], [train_tpr, val_tpr, test_tpr], labels=['Train', 'Validation', 'Test'])"
      ],
      "execution_count": 26,
      "outputs": [
        {
          "output_type": "execute_result",
          "data": {
            "text/plain": [
              "<module 'matplotlib.pyplot' from '/usr/local/lib/python3.7/dist-packages/matplotlib/pyplot.py'>"
            ]
          },
          "metadata": {
            "tags": []
          },
          "execution_count": 26
        },
        {
          "output_type": "display_data",
          "data": {
            "image/png": "[encoded data removed]",
            "text/plain": [
              "<Figure size 432x288 with 1 Axes>"
            ]
          },
          "metadata": {
            "tags": [],
            "needs_background": "light"
          }
        }
      ]
    },
    {
      "cell_type": "markdown",
      "metadata": {
        "id": "EoyMmvGEAs1U"
      },
      "source": [
        "## Architecture 2: Graph Convolution Network"
      ]
    },
    {
      "cell_type": "code",
      "metadata": {
        "colab": {
          "base_uri": "https://localhost:8080/"
        },
        "id": "BX-7yNqxxEnI",
        "outputId": "7045a75e-ade0-4f13-8551-54e96777b614"
      },
      "source": [
        "hidden_features, out_features = 9, 1 # 2 = classifier predict\n",
        "torch.manual_seed(0)\n",
        "# create the model\n",
        "gcn_model = GNNmodel('GCN', graphs[0].ndata[list(graphs[0].ndata.keys())[0]].shape[1], hidden_features, out_features, name='GAT')\n",
        "print('Node feature dimension evolution {}->{}->{}'.format(graphs[0].ndata[list(graphs[0].ndata.keys())[0]].shape[1], hidden_features, out_features))"
      ],
      "execution_count": 28,
      "outputs": [
        {
          "output_type": "stream",
          "text": [
            "Node feature dimension evolution 4->9->1\n"
          ],
          "name": "stdout"
        }
      ]
    },
    {
      "cell_type": "markdown",
      "metadata": {
        "id": "8Elg8eqSBATp"
      },
      "source": [
        "### Start Training"
      ]
    },
    {
      "cell_type": "code",
      "metadata": {
        "id": "MEKjqITdA759"
      },
      "source": [
        "optimizer = torch.optim.Adam(gcn_model.parameters(), lr=0.1)"
      ],
      "execution_count": 30,
      "outputs": []
    },
    {
      "cell_type": "code",
      "metadata": {
        "colab": {
          "base_uri": "https://localhost:8080/"
        },
        "id": "itZbm6ceBDbN",
        "outputId": "ba9bb7bd-c98e-47c8-f3df-ae359c14191a"
      },
      "source": [
        "losses_2 = train(gcn_model, optimizer)"
      ],
      "execution_count": 31,
      "outputs": [
        {
          "output_type": "stream",
          "text": [
            "2021-03-24 20:55:23 \u001b[92m[INFO]\u001b[0m          \u001b[92mepoch, loss, val_loss:\u001b[0m 1 | 0.3448742628097534 | 0.2813892960548401\n",
            "2021-03-24 20:55:33 \u001b[92m[INFO]\u001b[0m          \u001b[92mepoch, loss, val_loss:\u001b[0m 2 | 0.2811126708984375 | 0.21414700150489807\n",
            "2021-03-24 20:55:43 \u001b[92m[INFO]\u001b[0m          \u001b[92mepoch, loss, val_loss:\u001b[0m 3 | 0.21329431235790253 | 0.19428750872612\n",
            "2021-03-24 20:55:52 \u001b[92m[INFO]\u001b[0m          \u001b[92mepoch, loss, val_loss:\u001b[0m 4 | 0.19374191761016846 | 0.18259280920028687\n",
            "2021-03-24 20:56:01 \u001b[92m[INFO]\u001b[0m          \u001b[92mepoch, loss, val_loss:\u001b[0m 5 | 0.18221718072891235 | 0.17261870205402374\n",
            "2021-03-24 20:56:10 \u001b[92m[INFO]\u001b[0m          \u001b[92mepoch, loss, val_loss:\u001b[0m 6 | 0.17212820053100586 | 0.1660073697566986\n",
            "2021-03-24 20:56:20 \u001b[92m[INFO]\u001b[0m          \u001b[92mepoch, loss, val_loss:\u001b[0m 7 | 0.16527646780014038 | 0.16197234392166138\n",
            "2021-03-24 20:56:29 \u001b[92m[INFO]\u001b[0m          \u001b[92mepoch, loss, val_loss:\u001b[0m 8 | 0.16106577217578888 | 0.15981940925121307\n",
            "2021-03-24 20:56:38 \u001b[92m[INFO]\u001b[0m          \u001b[92mepoch, loss, val_loss:\u001b[0m 9 | 0.1587996482849121 | 0.15880434215068817\n",
            "2021-03-24 20:56:47 \u001b[92m[INFO]\u001b[0m          \u001b[92mepoch, loss, val_loss:\u001b[0m 10 | 0.1576688140630722 | 0.15824691951274872\n",
            "2021-03-24 20:56:56 \u001b[92m[INFO]\u001b[0m          \u001b[92mepoch, loss, val_loss:\u001b[0m 11 | 0.15697944164276123 | 0.15779639780521393\n",
            "2021-03-24 20:57:06 \u001b[92m[INFO]\u001b[0m          \u001b[92mepoch, loss, val_loss:\u001b[0m 12 | 0.15635603666305542 | 0.15750640630722046\n",
            "2021-03-24 20:57:15 \u001b[92m[INFO]\u001b[0m          \u001b[92mepoch, loss, val_loss:\u001b[0m 13 | 0.15588603913784027 | 0.15755467116832733\n",
            "2021-03-24 20:57:24 \u001b[92m[INFO]\u001b[0m          \u001b[92mepoch, loss, val_loss:\u001b[0m 14 | 0.15580137073993683 | 0.15778294205665588\n",
            "2021-03-24 20:57:33 \u001b[92m[INFO]\u001b[0m          \u001b[92mepoch, loss, val_loss:\u001b[0m 15 | 0.15592314302921295 | 0.15778635442256927\n",
            "2021-03-24 20:57:43 \u001b[92m[INFO]\u001b[0m          \u001b[92mepoch, loss, val_loss:\u001b[0m 16 | 0.15588261187076569 | 0.15757110714912415\n",
            "2021-03-24 20:57:52 \u001b[92m[INFO]\u001b[0m          \u001b[92mepoch, loss, val_loss:\u001b[0m 17 | 0.15567909181118011 | 0.15728124976158142\n",
            "2021-03-24 20:58:01 \u001b[92m[INFO]\u001b[0m          \u001b[92mepoch, loss, val_loss:\u001b[0m 18 | 0.15543028712272644 | 0.15697665512561798\n",
            "2021-03-24 20:58:10 \u001b[92m[INFO]\u001b[0m          \u001b[92mepoch, loss, val_loss:\u001b[0m 19 | 0.1551823914051056 | 0.15667785704135895\n",
            "2021-03-24 20:58:20 \u001b[92m[INFO]\u001b[0m          \u001b[92mepoch, loss, val_loss:\u001b[0m 20 | 0.15494199097156525 | 0.15643611550331116\n",
            "2021-03-24 20:58:29 \u001b[92m[INFO]\u001b[0m          \u001b[92mepoch, loss, val_loss:\u001b[0m 21 | 0.15476015210151672 | 0.15630552172660828\n",
            "2021-03-24 20:58:38 \u001b[92m[INFO]\u001b[0m          \u001b[92mepoch, loss, val_loss:\u001b[0m 22 | 0.1546775847673416 | 0.15625691413879395\n",
            "2021-03-24 20:58:47 \u001b[92m[INFO]\u001b[0m          \u001b[92mepoch, loss, val_loss:\u001b[0m 23 | 0.15466144680976868 | 0.1562422662973404\n",
            "2021-03-24 20:58:56 \u001b[92m[INFO]\u001b[0m          \u001b[92mepoch, loss, val_loss:\u001b[0m 24 | 0.15466620028018951 | 0.15623241662979126\n",
            "2021-03-24 20:59:06 \u001b[92m[INFO]\u001b[0m          \u001b[92mepoch, loss, val_loss:\u001b[0m 25 | 0.15467460453510284 | 0.15621522068977356\n",
            "2021-03-24 20:59:15 \u001b[92m[INFO]\u001b[0m          \u001b[92mepoch, loss, val_loss:\u001b[0m 26 | 0.15468421578407288 | 0.15619075298309326\n",
            "2021-03-24 20:59:24 \u001b[92m[INFO]\u001b[0m          \u001b[92mepoch, loss, val_loss:\u001b[0m 27 | 0.15468600392341614 | 0.15615041553974152\n",
            "2021-03-24 20:59:33 \u001b[92m[INFO]\u001b[0m          \u001b[92mepoch, loss, val_loss:\u001b[0m 28 | 0.15466859936714172 | 0.15608686208724976\n",
            "2021-03-24 20:59:43 \u001b[92m[INFO]\u001b[0m          \u001b[92mepoch, loss, val_loss:\u001b[0m 29 | 0.15462404489517212 | 0.15600338578224182\n",
            "2021-03-24 20:59:52 \u001b[92m[INFO]\u001b[0m          \u001b[92mepoch, loss, val_loss:\u001b[0m 30 | 0.15454909205436707 | 0.15590158104896545\n",
            "2021-03-24 21:00:01 \u001b[92m[INFO]\u001b[0m          \u001b[92mepoch, loss, val_loss:\u001b[0m 31 | 0.15444862842559814 | 0.1557830423116684\n",
            "2021-03-24 21:00:11 \u001b[92m[INFO]\u001b[0m          \u001b[92mepoch, loss, val_loss:\u001b[0m 32 | 0.15432366728782654 | 0.1556452512741089\n",
            "2021-03-24 21:00:20 \u001b[92m[INFO]\u001b[0m          \u001b[92mepoch, loss, val_loss:\u001b[0m 33 | 0.15417173504829407 | 0.15549317002296448\n",
            "2021-03-24 21:00:30 \u001b[92m[INFO]\u001b[0m          \u001b[92mepoch, loss, val_loss:\u001b[0m 34 | 0.15399807691574097 | 0.1553385853767395\n",
            "2021-03-24 21:00:39 \u001b[92m[INFO]\u001b[0m          \u001b[92mepoch, loss, val_loss:\u001b[0m 35 | 0.15381667017936707 | 0.15520551800727844\n",
            "2021-03-24 21:00:48 \u001b[92m[INFO]\u001b[0m          \u001b[92mepoch, loss, val_loss:\u001b[0m 36 | 0.15364398062229156 | 0.15509632229804993\n",
            "2021-03-24 21:00:57 \u001b[92m[INFO]\u001b[0m          \u001b[92mepoch, loss, val_loss:\u001b[0m 37 | 0.15348570048809052 | 0.15499632060527802\n",
            "2021-03-24 21:01:07 \u001b[92m[INFO]\u001b[0m          \u001b[92mepoch, loss, val_loss:\u001b[0m 38 | 0.15332472324371338 | 0.15488338470458984\n",
            "2021-03-24 21:01:16 \u001b[92m[INFO]\u001b[0m          \u001b[92mepoch, loss, val_loss:\u001b[0m 39 | 0.153144970536232 | 0.15475332736968994\n",
            "2021-03-24 21:01:25 \u001b[92m[INFO]\u001b[0m          \u001b[92mepoch, loss, val_loss:\u001b[0m 40 | 0.152950718998909 | 0.15462888777256012\n",
            "2021-03-24 21:01:35 \u001b[92m[INFO]\u001b[0m          \u001b[92mepoch, loss, val_loss:\u001b[0m 41 | 0.15276800096035004 | 0.15452940762043\n",
            "2021-03-24 21:01:45 \u001b[92m[INFO]\u001b[0m          \u001b[92mepoch, loss, val_loss:\u001b[0m 42 | 0.15261539816856384 | 0.15442097187042236\n",
            "2021-03-24 21:01:54 \u001b[92m[INFO]\u001b[0m          \u001b[92mepoch, loss, val_loss:\u001b[0m 43 | 0.15246164798736572 | 0.1542523354291916\n",
            "2021-03-24 21:02:03 \u001b[92m[INFO]\u001b[0m          \u001b[92mepoch, loss, val_loss:\u001b[0m 44 | 0.15227040648460388 | 0.15404318273067474\n",
            "2021-03-24 21:02:13 \u001b[92m[INFO]\u001b[0m          \u001b[92mepoch, loss, val_loss:\u001b[0m 45 | 0.15205854177474976 | 0.15385878086090088\n",
            "2021-03-24 21:02:22 \u001b[92m[INFO]\u001b[0m          \u001b[92mepoch, loss, val_loss:\u001b[0m 46 | 0.1518772840499878 | 0.15371336042881012\n",
            "2021-03-24 21:02:32 \u001b[92m[INFO]\u001b[0m          \u001b[92mepoch, loss, val_loss:\u001b[0m 47 | 0.15172918140888214 | 0.153572216629982\n",
            "2021-03-24 21:02:41 \u001b[92m[INFO]\u001b[0m          \u001b[92mepoch, loss, val_loss:\u001b[0m 48 | 0.15158121287822723 | 0.15344537794589996\n",
            "2021-03-24 21:02:50 \u001b[92m[INFO]\u001b[0m          \u001b[92mepoch, loss, val_loss:\u001b[0m 49 | 0.15143714845180511 | 0.15336106717586517\n",
            "2021-03-24 21:02:59 \u001b[92m[INFO]\u001b[0m          \u001b[92mepoch, loss, val_loss:\u001b[0m 50 | 0.15133996307849884 | 0.1532997488975525\n",
            "2021-03-24 21:03:09 \u001b[92m[INFO]\u001b[0m          \u001b[92mepoch, loss, val_loss:\u001b[0m 51 | 0.15127447247505188 | 0.153208389878273\n",
            "2021-03-24 21:03:18 \u001b[92m[INFO]\u001b[0m          \u001b[92mepoch, loss, val_loss:\u001b[0m 52 | 0.15119726955890656 | 0.15309032797813416\n",
            "2021-03-24 21:03:28 \u001b[92m[INFO]\u001b[0m          \u001b[92mepoch, loss, val_loss:\u001b[0m 53 | 0.15110808610916138 | 0.15299831330776215\n",
            "2021-03-24 21:03:37 \u001b[92m[INFO]\u001b[0m          \u001b[92mepoch, loss, val_loss:\u001b[0m 54 | 0.15105457603931427 | 0.15293678641319275\n",
            "2021-03-24 21:03:47 \u001b[92m[INFO]\u001b[0m          \u001b[92mepoch, loss, val_loss:\u001b[0m 55 | 0.15102609992027283 | 0.15287186205387115\n",
            "2021-03-24 21:03:56 \u001b[92m[INFO]\u001b[0m          \u001b[92mepoch, loss, val_loss:\u001b[0m 56 | 0.15097500383853912 | 0.15279778838157654\n",
            "2021-03-24 21:04:06 \u001b[92m[INFO]\u001b[0m          \u001b[92mepoch, loss, val_loss:\u001b[0m 57 | 0.1508994847536087 | 0.15272308886051178\n",
            "2021-03-24 21:04:15 \u001b[92m[INFO]\u001b[0m          \u001b[92mepoch, loss, val_loss:\u001b[0m 58 | 0.15081383287906647 | 0.15264837443828583\n",
            "2021-03-24 21:04:24 \u001b[92m[INFO]\u001b[0m          \u001b[92mepoch, loss, val_loss:\u001b[0m 59 | 0.15072523057460785 | 0.1525963693857193\n",
            "2021-03-24 21:04:34 \u001b[92m[INFO]\u001b[0m          \u001b[92mepoch, loss, val_loss:\u001b[0m 60 | 0.15066681802272797 | 0.15255610644817352\n",
            "2021-03-24 21:04:43 \u001b[92m[INFO]\u001b[0m          \u001b[92mepoch, loss, val_loss:\u001b[0m 61 | 0.1506326049566269 | 0.15249158442020416\n",
            "2021-03-24 21:04:52 \u001b[92m[INFO]\u001b[0m          \u001b[92mepoch, loss, val_loss:\u001b[0m 62 | 0.15058065950870514 | 0.15241484344005585\n",
            "2021-03-24 21:05:01 \u001b[92m[INFO]\u001b[0m          \u001b[92mepoch, loss, val_loss:\u001b[0m 63 | 0.15052476525306702 | 0.15235519409179688\n",
            "2021-03-24 21:05:11 \u001b[92m[INFO]\u001b[0m          \u001b[92mepoch, loss, val_loss:\u001b[0m 64 | 0.15048977732658386 | 0.15229862928390503\n",
            "2021-03-24 21:05:20 \u001b[92m[INFO]\u001b[0m          \u001b[92mepoch, loss, val_loss:\u001b[0m 65 | 0.15045559406280518 | 0.15222430229187012\n",
            "2021-03-24 21:05:29 \u001b[92m[INFO]\u001b[0m          \u001b[92mepoch, loss, val_loss:\u001b[0m 66 | 0.15040342509746552 | 0.15213575959205627\n",
            "2021-03-24 21:05:38 \u001b[92m[INFO]\u001b[0m          \u001b[92mepoch, loss, val_loss:\u001b[0m 67 | 0.1503354161977768 | 0.15205183625221252\n",
            "2021-03-24 21:05:48 \u001b[92m[INFO]\u001b[0m          \u001b[92mepoch, loss, val_loss:\u001b[0m 68 | 0.1502659171819687 | 0.1519869863986969\n",
            "2021-03-24 21:05:58 \u001b[92m[INFO]\u001b[0m          \u001b[92mepoch, loss, val_loss:\u001b[0m 69 | 0.15021029114723206 | 0.15193581581115723\n",
            "2021-03-24 21:06:07 \u001b[92m[INFO]\u001b[0m          \u001b[92mepoch, loss, val_loss:\u001b[0m 70 | 0.15016904473304749 | 0.15187683701515198\n",
            "2021-03-24 21:06:16 \u001b[92m[INFO]\u001b[0m          \u001b[92mepoch, loss, val_loss:\u001b[0m 71 | 0.15012426674365997 | 0.151809424161911\n",
            "2021-03-24 21:06:26 \u001b[92m[INFO]\u001b[0m          \u001b[92mepoch, loss, val_loss:\u001b[0m 72 | 0.1500711441040039 | 0.15174724161624908\n",
            "2021-03-24 21:06:36 \u001b[92m[INFO]\u001b[0m          \u001b[92mepoch, loss, val_loss:\u001b[0m 73 | 0.15002216398715973 | 0.15168695151805878\n",
            "2021-03-24 21:06:45 \u001b[92m[INFO]\u001b[0m          \u001b[92mepoch, loss, val_loss:\u001b[0m 74 | 0.14997155964374542 | 0.15161779522895813\n",
            "2021-03-24 21:06:54 \u001b[92m[INFO]\u001b[0m          \u001b[92mepoch, loss, val_loss:\u001b[0m 75 | 0.14990970492362976 | 0.15155622363090515\n",
            "2021-03-24 21:07:03 \u001b[92m[INFO]\u001b[0m          \u001b[92mepoch, loss, val_loss:\u001b[0m 76 | 0.1498522162437439 | 0.15151163935661316\n",
            "2021-03-24 21:07:14 \u001b[92m[INFO]\u001b[0m          \u001b[92mepoch, loss, val_loss:\u001b[0m 77 | 0.14980684220790863 | 0.15147021412849426\n",
            "2021-03-24 21:07:23 \u001b[92m[INFO]\u001b[0m          \u001b[92mepoch, loss, val_loss:\u001b[0m 78 | 0.1497645229101181 | 0.15142197906970978\n",
            "2021-03-24 21:07:32 \u001b[92m[INFO]\u001b[0m          \u001b[92mepoch, loss, val_loss:\u001b[0m 79 | 0.14971843361854553 | 0.1513783186674118\n",
            "2021-03-24 21:07:41 \u001b[92m[INFO]\u001b[0m          \u001b[92mepoch, loss, val_loss:\u001b[0m 80 | 0.1496787816286087 | 0.15133801102638245\n",
            "2021-03-24 21:07:51 \u001b[92m[INFO]\u001b[0m          \u001b[92mepoch, loss, val_loss:\u001b[0m 81 | 0.1496463567018509 | 0.1512933373451233\n",
            "2021-03-24 21:08:00 \u001b[92m[INFO]\u001b[0m          \u001b[92mepoch, loss, val_loss:\u001b[0m 82 | 0.14960768818855286 | 0.15125016868114471\n",
            "2021-03-24 21:08:09 \u001b[92m[INFO]\u001b[0m          \u001b[92mepoch, loss, val_loss:\u001b[0m 83 | 0.14957091212272644 | 0.151214599609375\n",
            "2021-03-24 21:08:19 \u001b[92m[INFO]\u001b[0m          \u001b[92mepoch, loss, val_loss:\u001b[0m 84 | 0.1495417058467865 | 0.151170551776886\n",
            "2021-03-24 21:08:28 \u001b[92m[INFO]\u001b[0m          \u001b[92mepoch, loss, val_loss:\u001b[0m 85 | 0.1495087593793869 | 0.1511199027299881\n",
            "2021-03-24 21:08:38 \u001b[92m[INFO]\u001b[0m          \u001b[92mepoch, loss, val_loss:\u001b[0m 86 | 0.14947493374347687 | 0.15107207000255585\n",
            "2021-03-24 21:08:48 \u001b[92m[INFO]\u001b[0m          \u001b[92mepoch, loss, val_loss:\u001b[0m 87 | 0.14944297075271606 | 0.15102338790893555\n",
            "2021-03-24 21:08:57 \u001b[92m[INFO]\u001b[0m          \u001b[92mepoch, loss, val_loss:\u001b[0m 88 | 0.14940810203552246 | 0.15098431706428528\n",
            "2021-03-24 21:09:06 \u001b[92m[INFO]\u001b[0m          \u001b[92mepoch, loss, val_loss:\u001b[0m 89 | 0.14937610924243927 | 0.15095505118370056\n",
            "2021-03-24 21:09:16 \u001b[92m[INFO]\u001b[0m          \u001b[92mepoch, loss, val_loss:\u001b[0m 90 | 0.14934754371643066 | 0.150924414396286\n",
            "2021-03-24 21:09:25 \u001b[92m[INFO]\u001b[0m          \u001b[92mepoch, loss, val_loss:\u001b[0m 91 | 0.14931738376617432 | 0.1508922576904297\n",
            "2021-03-24 21:09:34 \u001b[92m[INFO]\u001b[0m          \u001b[92mepoch, loss, val_loss:\u001b[0m 92 | 0.14928984642028809 | 0.15085768699645996\n",
            "2021-03-24 21:09:43 \u001b[92m[INFO]\u001b[0m          \u001b[92mepoch, loss, val_loss:\u001b[0m 93 | 0.1492607593536377 | 0.15082721412181854\n",
            "2021-03-24 21:09:53 \u001b[92m[INFO]\u001b[0m          \u001b[92mepoch, loss, val_loss:\u001b[0m 94 | 0.14923232793807983 | 0.15080401301383972\n",
            "2021-03-24 21:10:04 \u001b[92m[INFO]\u001b[0m          \u001b[92mepoch, loss, val_loss:\u001b[0m 95 | 0.14920465648174286 | 0.15078425407409668\n",
            "2021-03-24 21:10:18 \u001b[92m[INFO]\u001b[0m          \u001b[92mepoch, loss, val_loss:\u001b[0m 96 | 0.14917483925819397 | 0.15076813101768494\n",
            "2021-03-24 21:10:27 \u001b[92m[INFO]\u001b[0m          \u001b[92mepoch, loss, val_loss:\u001b[0m 97 | 0.14914612472057343 | 0.1507512629032135\n",
            "2021-03-24 21:10:36 \u001b[92m[INFO]\u001b[0m          \u001b[92mepoch, loss, val_loss:\u001b[0m 98 | 0.14911966025829315 | 0.15073299407958984\n",
            "2021-03-24 21:10:46 \u001b[92m[INFO]\u001b[0m          \u001b[92mepoch, loss, val_loss:\u001b[0m 99 | 0.14909444749355316 | 0.15071286261081696\n",
            "2021-03-24 21:10:55 \u001b[92m[INFO]\u001b[0m          \u001b[92mepoch, loss, val_loss:\u001b[0m 100 | 0.14906993508338928 | 0.15069596469402313\n"
          ],
          "name": "stdout"
        }
      ]
    },
    {
      "cell_type": "code",
      "metadata": {
        "id": "ucL7kn1iBQIa"
      },
      "source": [
        "# load the last checkpoint with the best model.\n",
        "gcn_model.load_state_dict(torch.load(gcn_model.name+'.checkpoint'))\n",
        "# save the model\n",
        "torch.save(gcn_model, gcn_model.name)"
      ],
      "execution_count": 32,
      "outputs": []
    },
    {
      "cell_type": "markdown",
      "metadata": {
        "id": "_yR6sZaXBUn0"
      },
      "source": [
        "### Test the model"
      ]
    },
    {
      "cell_type": "code",
      "metadata": {
        "id": "xIdMf6s8BaGd"
      },
      "source": [
        "test_losses2, train_pred2, train_labels2, val_pred2, val_labels2, test_pred2, test_labels2 = test(gcn_model)"
      ],
      "execution_count": 34,
      "outputs": []
    },
    {
      "cell_type": "code",
      "metadata": {
        "colab": {
          "base_uri": "https://localhost:8080/",
          "height": 373
        },
        "id": "2Nd8dmKXBfDR",
        "outputId": "8cc45ded-4eb1-4b38-f427-f4d698ef5666"
      },
      "source": [
        "plot_loss(losses_2['train'], losses_2['val'], labels=['train', 'val'])"
      ],
      "execution_count": 35,
      "outputs": [
        {
          "output_type": "execute_result",
          "data": {
            "text/plain": [
              "<module 'matplotlib.pyplot' from '/usr/local/lib/python3.7/dist-packages/matplotlib/pyplot.py'>"
            ]
          },
          "metadata": {
            "tags": []
          },
          "execution_count": 35
        },
        {
          "output_type": "display_data",
          "data": {
            "text/plain": [
              "<Figure size 432x288 with 0 Axes>"
            ]
          },
          "metadata": {
            "tags": []
          }
        },
        {
          "output_type": "display_data",
          "data": {
            "image/png": "[encoded data removed]",
            "text/plain": [
              "<Figure size 720x360 with 1 Axes>"
            ]
          },
          "metadata": {
            "tags": [],
            "needs_background": "light"
          }
        }
      ]
    },
    {
      "cell_type": "code",
      "metadata": {
        "id": "o51Sg_PqBisp"
      },
      "source": [
        "from sklearn.metrics import roc_curve, auc\n",
        "train_fpr2, train_tpr2, _ = roc_curve(train_labels2, train_pred2)\n",
        "val_fpr2, val_tpr2, _ = roc_curve(val_labels2, val_pred2)\n",
        "test_fpr2, test_tpr2, _ = roc_curve(test_labels2, test_pred2)"
      ],
      "execution_count": 36,
      "outputs": []
    },
    {
      "cell_type": "code",
      "metadata": {
        "colab": {
          "base_uri": "https://localhost:8080/",
          "height": 322
        },
        "id": "aZgDrGxDBkqW",
        "outputId": "3ee24d4e-7a83-401c-b5bc-d733b0f52319"
      },
      "source": [
        "plot_stacked_roc_curve([train_fpr2, val_fpr2, test_fpr2], [train_tpr2, val_tpr2, test_tpr2], labels=['Train', 'Validation', 'Test'])"
      ],
      "execution_count": 37,
      "outputs": [
        {
          "output_type": "execute_result",
          "data": {
            "text/plain": [
              "<module 'matplotlib.pyplot' from '/usr/local/lib/python3.7/dist-packages/matplotlib/pyplot.py'>"
            ]
          },
          "metadata": {
            "tags": []
          },
          "execution_count": 37
        },
        {
          "output_type": "display_data",
          "data": {
            "image/png": "[encoded data removed]",
            "text/plain": [
              "<Figure size 432x288 with 1 Axes>"
            ]
          },
          "metadata": {
            "tags": [],
            "needs_background": "light"
          }
        }
      ]
    },
    {
      "cell_type": "markdown",
      "metadata": {
        "id": "hnXJ0W4t_Zlr"
      },
      "source": [
        "So we just tried two different GNN architectures:\n",
        "1. Two layers of Graph Attention Network (GAT)\n",
        "2. Three layers of Graph Convolution Network (GCN)\n",
        "\n",
        "These architectures are quite well know in the GNN domain, while the number of layer is arbitrarily chosen.\n",
        "\n",
        "Without much tuning on the hyperparameters for both cases, it is clear that the networks have quite good separation power, in particular the GCN.\n",
        "\n",
        "The AUC in the original paper (https://arxiv.org/abs/1810.05165) for the dataset is around 0.9 (Table 3), whereas the GCN gives 0.864. So, there are still rooms to improve.\n",
        "\n",
        "Here we only used one of the training dataset is only 1 file from the linked original files. Using more training jets could improve the performance.\n",
        "\n",
        "No obvious overtraining is seen from the loss values and from the ROC and Response plots."
      ]
    },
    {
      "cell_type": "code",
      "metadata": {
        "id": "KuAgTG2wIwCY"
      },
      "source": [
        ""
      ],
      "execution_count": null,
      "outputs": []
    }
  ]
}