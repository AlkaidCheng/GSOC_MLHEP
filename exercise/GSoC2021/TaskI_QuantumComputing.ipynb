{
  "nbformat": 4,
  "nbformat_minor": 0,
  "metadata": {
    "colab": {
      "name": "QMLHEP_Exercise_Quantum_Computing_Part.ipynb",
      "provenance": [],
      "collapsed_sections": [],
      "authorship_tag": "ABX9TyOQK5Ih3jbFPMl1AkDX8PIP",
      "include_colab_link": true
    },
    "kernelspec": {
      "name": "python3",
      "display_name": "Python 3"
    }
  },
  "cells": [
    {
      "cell_type": "markdown",
      "metadata": {
        "id": "view-in-github",
        "colab_type": "text"
      },
      "source": [
        "<a href=\"https://colab.research.google.com/github/AlkaidCheng/GSoC2021_QMLHEP/blob/main/notebooks/TaskI_QuantumComputing.ipynb\" target=\"_parent\"><img src=\"https://colab.research.google.com/assets/colab-badge.svg\" alt=\"Open In Colab\"/></a>"
      ]
    },
    {
      "cell_type": "markdown",
      "metadata": {
        "id": "9_Rw8VDcM-9q"
      },
      "source": [
        "# Task I - Quantum Computing\n",
        "\n"
      ]
    },
    {
      "cell_type": "markdown",
      "metadata": {
        "id": "AjmpGCPgNHeW"
      },
      "source": [
        "* Install `cirq` library"
      ]
    },
    {
      "cell_type": "code",
      "metadata": {
        "id": "u_uOOcmn5Td6",
        "colab": {
          "base_uri": "https://localhost:8080/",
          "height": 1000
        },
        "outputId": "76c0f846-08bd-46f9-a579-a9fdbc79d563"
      },
      "source": [
        "!pip install cirq"
      ],
      "execution_count": null,
      "outputs": [
        {
          "output_type": "stream",
          "text": [
            "Collecting cirq\n",
            "\u001b[?25l  Downloading https://files.pythonhosted.org/packages/53/29/a66c4c28306dae359745e37c4c10120e477da44cb050d06d8ceb1117a22a/cirq-0.7.0-py3-none-any.whl (1.2MB)\n",
            "\u001b[K     |████████████████████████████████| 1.2MB 4.8MB/s \n",
            "\u001b[?25hCollecting sympy==1.4\n",
            "\u001b[?25l  Downloading https://files.pythonhosted.org/packages/21/21/f4105795ca7f35c541d82c5b06be684dd2f5cb4f508fb487cd7aea4de776/sympy-1.4-py2.py3-none-any.whl (5.3MB)\n",
            "\u001b[K     |████████████████████████████████| 5.3MB 25.7MB/s \n",
            "\u001b[?25hCollecting protobuf==3.8.0\n",
            "\u001b[?25l  Downloading https://files.pythonhosted.org/packages/d2/fb/29de8d08967f0cce1bb10b39846d836b0f3bf6776ddc36aed7c73498ca7e/protobuf-3.8.0-cp36-cp36m-manylinux1_x86_64.whl (1.2MB)\n",
            "\u001b[K     |████████████████████████████████| 1.2MB 49.4MB/s \n",
            "\u001b[?25hCollecting networkx==2.3\n",
            "\u001b[?25l  Downloading https://files.pythonhosted.org/packages/85/08/f20aef11d4c343b557e5de6b9548761811eb16e438cee3d32b1c66c8566b/networkx-2.3.zip (1.7MB)\n",
            "\u001b[K     |████████████████████████████████| 1.8MB 49.9MB/s \n",
            "\u001b[?25hRequirement already satisfied: pandas in /usr/local/lib/python3.6/dist-packages (from cirq) (0.25.3)\n",
            "Requirement already satisfied: google-api-python-client~=1.6 in /usr/local/lib/python3.6/dist-packages (from cirq) (1.7.11)\n",
            "Requirement already satisfied: sortedcontainers~=2.0 in /usr/local/lib/python3.6/dist-packages (from cirq) (2.1.0)\n",
            "Requirement already satisfied: numpy~=1.16 in /usr/local/lib/python3.6/dist-packages (from cirq) (1.17.5)\n",
            "Requirement already satisfied: dataclasses; python_version < \"3.7\" in /usr/local/lib/python3.6/dist-packages (from cirq) (0.7)\n",
            "Requirement already satisfied: scipy in /usr/local/lib/python3.6/dist-packages (from cirq) (1.4.1)\n",
            "Requirement already satisfied: typing-extensions in /usr/local/lib/python3.6/dist-packages (from cirq) (3.6.6)\n",
            "Requirement already satisfied: matplotlib~=3.0 in /usr/local/lib/python3.6/dist-packages (from cirq) (3.1.3)\n",
            "Requirement already satisfied: requests~=2.18 in /usr/local/lib/python3.6/dist-packages (from cirq) (2.21.0)\n",
            "Requirement already satisfied: mpmath>=0.19 in /usr/local/lib/python3.6/dist-packages (from sympy==1.4->cirq) (1.1.0)\n",
            "Requirement already satisfied: six>=1.9 in /usr/local/lib/python3.6/dist-packages (from protobuf==3.8.0->cirq) (1.12.0)\n",
            "Requirement already satisfied: setuptools in /usr/local/lib/python3.6/dist-packages (from protobuf==3.8.0->cirq) (45.2.0)\n",
            "Requirement already satisfied: decorator>=4.3.0 in /usr/local/lib/python3.6/dist-packages (from networkx==2.3->cirq) (4.4.1)\n",
            "Requirement already satisfied: python-dateutil>=2.6.1 in /usr/local/lib/python3.6/dist-packages (from pandas->cirq) (2.6.1)\n",
            "Requirement already satisfied: pytz>=2017.2 in /usr/local/lib/python3.6/dist-packages (from pandas->cirq) (2018.9)\n",
            "Requirement already satisfied: google-auth-httplib2>=0.0.3 in /usr/local/lib/python3.6/dist-packages (from google-api-python-client~=1.6->cirq) (0.0.3)\n",
            "Requirement already satisfied: httplib2<1dev,>=0.9.2 in /usr/local/lib/python3.6/dist-packages (from google-api-python-client~=1.6->cirq) (0.11.3)\n",
            "Requirement already satisfied: google-auth>=1.4.1 in /usr/local/lib/python3.6/dist-packages (from google-api-python-client~=1.6->cirq) (1.7.2)\n",
            "Requirement already satisfied: uritemplate<4dev,>=3.0.0 in /usr/local/lib/python3.6/dist-packages (from google-api-python-client~=1.6->cirq) (3.0.1)\n",
            "Requirement already satisfied: kiwisolver>=1.0.1 in /usr/local/lib/python3.6/dist-packages (from matplotlib~=3.0->cirq) (1.1.0)\n",
            "Requirement already satisfied: pyparsing!=2.0.4,!=2.1.2,!=2.1.6,>=2.0.1 in /usr/local/lib/python3.6/dist-packages (from matplotlib~=3.0->cirq) (2.4.6)\n",
            "Requirement already satisfied: cycler>=0.10 in /usr/local/lib/python3.6/dist-packages (from matplotlib~=3.0->cirq) (0.10.0)\n",
            "Requirement already satisfied: urllib3<1.25,>=1.21.1 in /usr/local/lib/python3.6/dist-packages (from requests~=2.18->cirq) (1.24.3)\n",
            "Requirement already satisfied: certifi>=2017.4.17 in /usr/local/lib/python3.6/dist-packages (from requests~=2.18->cirq) (2019.11.28)\n",
            "Requirement already satisfied: idna<2.9,>=2.5 in /usr/local/lib/python3.6/dist-packages (from requests~=2.18->cirq) (2.8)\n",
            "Requirement already satisfied: chardet<3.1.0,>=3.0.2 in /usr/local/lib/python3.6/dist-packages (from requests~=2.18->cirq) (3.0.4)\n",
            "Requirement already satisfied: pyasn1-modules>=0.2.1 in /usr/local/lib/python3.6/dist-packages (from google-auth>=1.4.1->google-api-python-client~=1.6->cirq) (0.2.8)\n",
            "Requirement already satisfied: cachetools<3.2,>=2.0.0 in /usr/local/lib/python3.6/dist-packages (from google-auth>=1.4.1->google-api-python-client~=1.6->cirq) (3.1.1)\n",
            "Requirement already satisfied: rsa<4.1,>=3.1.4 in /usr/local/lib/python3.6/dist-packages (from google-auth>=1.4.1->google-api-python-client~=1.6->cirq) (4.0)\n",
            "Requirement already satisfied: pyasn1<0.5.0,>=0.4.6 in /usr/local/lib/python3.6/dist-packages (from pyasn1-modules>=0.2.1->google-auth>=1.4.1->google-api-python-client~=1.6->cirq) (0.4.8)\n",
            "Building wheels for collected packages: networkx\n",
            "  Building wheel for networkx (setup.py) ... \u001b[?25l\u001b[?25hdone\n",
            "  Created wheel for networkx: filename=networkx-2.3-py2.py3-none-any.whl size=1556408 sha256=47ddaca2b95138d575b4d7a9c91b27931f55510f7287cb39b3958397f69b9d9f\n",
            "  Stored in directory: /root/.cache/pip/wheels/de/63/64/3699be2a9d0ccdb37c7f16329acf3863fd76eda58c39c737af\n",
            "Successfully built networkx\n",
            "\u001b[31mERROR: albumentations 0.1.12 has requirement imgaug<0.2.7,>=0.2.5, but you'll have imgaug 0.2.9 which is incompatible.\u001b[0m\n",
            "Installing collected packages: sympy, protobuf, networkx, cirq\n",
            "  Found existing installation: sympy 1.1.1\n",
            "    Uninstalling sympy-1.1.1:\n",
            "      Successfully uninstalled sympy-1.1.1\n",
            "  Found existing installation: protobuf 3.10.0\n",
            "    Uninstalling protobuf-3.10.0:\n",
            "      Successfully uninstalled protobuf-3.10.0\n",
            "  Found existing installation: networkx 2.4\n",
            "    Uninstalling networkx-2.4:\n",
            "      Successfully uninstalled networkx-2.4\n",
            "Successfully installed cirq-0.7.0 networkx-2.3 protobuf-3.8.0 sympy-1.4\n"
          ],
          "name": "stdout"
        },
        {
          "output_type": "display_data",
          "data": {
            "application/vnd.colab-display-data+json": {
              "pip_warning": {
                "packages": [
                  "google"
                ]
              }
            }
          },
          "metadata": {
            "tags": []
          }
        }
      ]
    },
    {
      "cell_type": "markdown",
      "metadata": {
        "id": "JasKCdCPVAqG"
      },
      "source": [
        "### Task I - Implement a simple quantum operation with Cirq"
      ]
    },
    {
      "cell_type": "markdown",
      "metadata": {
        "id": "BMy8FQ86N9XZ"
      },
      "source": [
        "* Importing libraries"
      ]
    },
    {
      "cell_type": "code",
      "metadata": {
        "id": "DVg3FbdMB7x8"
      },
      "source": [
        "import cirq\n",
        "from cirq.ops import H, CNOT, SWAP,rx, measure\n",
        "import numpy as np\n",
        "from cirq.circuits import InsertStrategy"
      ],
      "execution_count": null,
      "outputs": []
    },
    {
      "cell_type": "markdown",
      "metadata": {
        "id": "RkWfXjvROBCX"
      },
      "source": [
        "* Preparing the qubits"
      ]
    },
    {
      "cell_type": "code",
      "metadata": {
        "id": "0u3ZLyD-OEZC"
      },
      "source": [
        "# Create a circuit with 5 qubits\n",
        "q0, q1, q2, q3, q4 = [cirq.GridQubit(i, 0) for i in range(5)]"
      ],
      "execution_count": null,
      "outputs": []
    },
    {
      "cell_type": "markdown",
      "metadata": {
        "id": "kK-0Gqg_OGjj"
      },
      "source": [
        "* Constructing the circuit"
      ]
    },
    {
      "cell_type": "code",
      "metadata": {
        "id": "Q7utlzPMCAJt"
      },
      "source": [
        "circuit = cirq.Circuit()\n",
        "# Apply Hadamard operation on every qubit\n",
        "circuit.append([H(q0),H(q1),H(q2),H(q3),H(q4)], strategy=InsertStrategy.NEW_THEN_INLINE)\n",
        "# Apply CNOT operation on (0, 1), (1,2), (2,3), (3,4)\n",
        "circuit.append([CNOT(q0,q1),CNOT(q1,q2),CNOT(q2,q3),CNOT(q3,q4)])\n",
        "# SWAP (0, 4)\n",
        "circuit.append([SWAP(q0,q4)], strategy=InsertStrategy.NEW_THEN_INLINE)\n",
        "# Rotate every qubit abouot the x axis by pi/2\n",
        "circuit.append([rx(np.pi/2)(q0),rx(np.pi/2)(q1),rx(np.pi/2)(q2),rx(np.pi/2)(q3),rx(np.pi/2)(q4)], strategy=InsertStrategy.NEW_THEN_INLINE)"
      ],
      "execution_count": null,
      "outputs": []
    },
    {
      "cell_type": "markdown",
      "metadata": {
        "id": "gP92wK0tOJR7"
      },
      "source": [
        "* Visualizing the circuit"
      ]
    },
    {
      "cell_type": "code",
      "metadata": {
        "id": "klJYRmfODOE6",
        "colab": {
          "base_uri": "https://localhost:8080/",
          "height": 181
        },
        "outputId": "353746f5-e435-4776-c868-996170a18439"
      },
      "source": [
        "print(circuit)"
      ],
      "execution_count": null,
      "outputs": [
        {
          "output_type": "stream",
          "text": [
            "(0, 0): ───H───@───────────────×───Rx(0.5π)───\n",
            "               │               │\n",
            "(1, 0): ───H───X───@───────────┼───Rx(0.5π)───\n",
            "                   │           │\n",
            "(2, 0): ───H───────X───@───────┼───Rx(0.5π)───\n",
            "                       │       │\n",
            "(3, 0): ───H───────────X───@───┼───Rx(0.5π)───\n",
            "                           │   │\n",
            "(4, 0): ───H───────────────X───×───Rx(0.5π)───\n"
          ],
          "name": "stdout"
        }
      ]
    },
    {
      "cell_type": "markdown",
      "metadata": {
        "id": "0tE7AOuANzHa"
      },
      "source": [
        "### Task II - Quantum Qubit Measurement"
      ]
    },
    {
      "cell_type": "code",
      "metadata": {
        "id": "IlAQTzlQDUzH"
      },
      "source": [
        "trials = 1000\n",
        "Rx_theta = np.linspace(0,2*np.pi,500)\n",
        "proba_0_state = []\n",
        "for theta in Rx_theta:\n",
        "  # create a circuit\n",
        "  circuit = cirq.Circuit()\n",
        "  # apply Rx rotation by theta to the first qubit\n",
        "  circuit.append([rx(theta)(q0)])\n",
        "  # measure the qubit\n",
        "  circuit.append([measure(q0, key = 'm')])\n",
        "  simulator = cirq.Simulator()\n",
        "  # do the measurements for `trials` times\n",
        "  result = simulator.run(circuit, repetitions=trials).measurements['m']\n",
        "  # count the number of times the qubit is in the 0 and 1 states\n",
        "  N_state_1 = np.count_nonzero(result)\n",
        "  N_state_0 = trials - N_state_1\n",
        "  proba = N_state_0/trials\n",
        "  proba_0_state.append(proba)"
      ],
      "execution_count": null,
      "outputs": []
    },
    {
      "cell_type": "code",
      "metadata": {
        "id": "O5GpBvdG2n90",
        "colab": {
          "base_uri": "https://localhost:8080/",
          "height": 308
        },
        "outputId": "ededa89b-6087-4082-def1-1234683b729a"
      },
      "source": [
        "import matplotlib.pyplot as plt\n",
        "plt.plot(Rx_theta,proba_0_state,'.-')\n",
        "plt.xlabel(r\"$\\theta_X$\", fontsize = 18, fontweight = 'bold')\n",
        "plt.ylabel(r\"Probability\", fontsize = 18, fontweight = 'bold')\n",
        "plt.title(\"Qubit Measurement\", fontsize = 16, fontweight = 'bold')\n",
        "plt.savefig('QubitMeasurement.eps')\n",
        "plt.savefig('QubitMeasurement.png')"
      ],
      "execution_count": null,
      "outputs": [
        {
          "output_type": "display_data",
          "data": {
            "image/png": "[encoded data removed]",
            "text/plain": [
              "<Figure size 432x288 with 1 Axes>"
            ]
          },
          "metadata": {
            "tags": []
          }
        }
      ]
    },
    {
      "cell_type": "code",
      "metadata": {
        "id": "rs0LpxuKov5y"
      },
      "source": [
        " "
      ],
      "execution_count": null,
      "outputs": []
    }
  ]
}
