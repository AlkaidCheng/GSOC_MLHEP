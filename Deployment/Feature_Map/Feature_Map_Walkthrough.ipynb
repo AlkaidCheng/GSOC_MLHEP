{
  "nbformat": 4,
  "nbformat_minor": 0,
  "metadata": {
    "kernelspec": {
      "display_name": "Python 3",
      "language": "python",
      "name": "python3"
    },
    "language_info": {
      "codemirror_mode": {
        "name": "ipython",
        "version": 3
      },
      "file_extension": ".py",
      "mimetype": "text/x-python",
      "name": "python",
      "nbconvert_exporter": "python",
      "pygments_lexer": "ipython3",
      "version": "3.7.6"
    },
    "colab": {
      "name": "Feature_Map_Walkthrough.ipynb",
      "provenance": []
    }
  },
  "cells": [
    {
      "cell_type": "markdown",
      "metadata": {
        "id": "NJi-na5mbv4L",
        "colab_type": "text"
      },
      "source": [
        "Import the Quple Feature Map modules"
      ]
    },
    {
      "cell_type": "code",
      "metadata": {
        "id": "7COg_NQLbv4M",
        "colab_type": "code",
        "colab": {}
      },
      "source": [
        "!pip install quple"
      ],
      "execution_count": null,
      "outputs": []
    },
    {
      "cell_type": "code",
      "metadata": {
        "id": "JL4d-reZbv4P",
        "colab_type": "code",
        "colab": {}
      },
      "source": [
        "from quple.data_encoding.pauli_expansion import PauliExpansion\n",
        "from quple.data_encoding.pauli_z_expansion import PauliZExpansion\n",
        "from quple.data_encoding.first_order_expansion import FirstOrderExpansion\n",
        "from quple.data_encoding.second_order_expansion import SecondOrderExpansion"
      ],
      "execution_count": null,
      "outputs": []
    },
    {
      "cell_type": "markdown",
      "metadata": {
        "id": "uoI8MIdDbv4R",
        "colab_type": "text"
      },
      "source": [
        "Import the Qiskit Feature Map modules (most updated)"
      ]
    },
    {
      "cell_type": "code",
      "metadata": {
        "id": "QDiPRrUjbv4S",
        "colab_type": "code",
        "colab": {}
      },
      "source": [
        "!pip install qiskit"
      ],
      "execution_count": null,
      "outputs": []
    },
    {
      "cell_type": "code",
      "metadata": {
        "id": "YbmK-aUnbv4U",
        "colab_type": "code",
        "colab": {}
      },
      "source": [
        "from qiskit.circuit.library.data_preparation.pauli_feature_map import PauliFeatureMap\n",
        "from qiskit.circuit.library.data_preparation.z_feature_map import ZFeatureMap\n",
        "from qiskit.circuit.library.data_preparation.zz_feature_map import ZZFeatureMap"
      ],
      "execution_count": null,
      "outputs": []
    },
    {
      "cell_type": "markdown",
      "metadata": {
        "id": "LO2RGUMobv4X",
        "colab_type": "text"
      },
      "source": [
        "Feature Map: Pauli Expansion"
      ]
    },
    {
      "cell_type": "code",
      "metadata": {
        "id": "so8Fa1Fvbv4X",
        "colab_type": "code",
        "colab": {}
      },
      "source": [
        "# For Quple\n",
        "cq = PauliExpansion(feature_dimension=3, copies=1, paulis=['X', 'Y'])\n",
        "print(cq)"
      ],
      "execution_count": null,
      "outputs": []
    },
    {
      "cell_type": "code",
      "metadata": {
        "id": "61Y3jGbUbv4a",
        "colab_type": "code",
        "colab": {}
      },
      "source": [
        "# For Qiskit\n",
        "cq = PauliFeatureMap(feature_dimension=3, reps=1, paulis=['X','Y'])\n",
        "print(cq)"
      ],
      "execution_count": null,
      "outputs": []
    },
    {
      "cell_type": "markdown",
      "metadata": {
        "id": "K2k-qUzGbv4d",
        "colab_type": "text"
      },
      "source": [
        "Feature Map: Pauli Z Expansion"
      ]
    },
    {
      "cell_type": "code",
      "metadata": {
        "id": "qaQAH-JHbv4d",
        "colab_type": "code",
        "colab": {}
      },
      "source": [
        "# For Quple\n",
        "cq = PauliZExpansion(feature_dimension=4, copies=2, z_order=2)\n",
        "print(cq)"
      ],
      "execution_count": null,
      "outputs": []
    },
    {
      "cell_type": "code",
      "metadata": {
        "id": "ts-tHxITbv4g",
        "colab_type": "code",
        "colab": {}
      },
      "source": [
        "# For Qiskit\n",
        "cq = PauliFeatureMap(feature_dimension=4, reps=2, paulis=['Z','ZZ'])\n",
        "print(cq)"
      ],
      "execution_count": null,
      "outputs": []
    },
    {
      "cell_type": "markdown",
      "metadata": {
        "id": "mjOg8j-5bv4i",
        "colab_type": "text"
      },
      "source": [
        "Feature Map: First Order Expansion"
      ]
    },
    {
      "cell_type": "code",
      "metadata": {
        "id": "3rF-3gbWbv4j",
        "colab_type": "code",
        "colab": {}
      },
      "source": [
        "# For Quple\n",
        "cq = FirstOrderExpansion(feature_dimension=10, copies=3)\n",
        "print(cq)"
      ],
      "execution_count": null,
      "outputs": []
    },
    {
      "cell_type": "code",
      "metadata": {
        "id": "OGEGZV2ibv4l",
        "colab_type": "code",
        "colab": {}
      },
      "source": [
        "# For Qiskit\n",
        "cq = ZFeatureMap(feature_dimension=10, reps=3)\n",
        "print(cq)"
      ],
      "execution_count": null,
      "outputs": []
    },
    {
      "cell_type": "markdown",
      "metadata": {
        "id": "mmxr5PhLbv4n",
        "colab_type": "text"
      },
      "source": [
        "Feature Map: Second Order Expansion"
      ]
    },
    {
      "cell_type": "code",
      "metadata": {
        "id": "ma2FPfhzbv4o",
        "colab_type": "code",
        "colab": {}
      },
      "source": [
        "# For Quple\n",
        "cq = SecondOrderExpansion(feature_dimension=5, copies=2)\n",
        "print(cq)"
      ],
      "execution_count": null,
      "outputs": []
    },
    {
      "cell_type": "code",
      "metadata": {
        "id": "CvEJ_Vvabv4r",
        "colab_type": "code",
        "colab": {}
      },
      "source": [
        "# For Qiskit\n",
        "cq = ZZFeatureMap(feature_dimension=5, reps=2)\n",
        "print(cq)"
      ],
      "execution_count": null,
      "outputs": []
    },
    {
      "cell_type": "markdown",
      "metadata": {
        "id": "bGRqU4w4bv4t",
        "colab_type": "text"
      },
      "source": [
        "Basic Usage: Applying Qubit Operations"
      ]
    },
    {
      "cell_type": "code",
      "metadata": {
        "id": "BKwVOAYibv4t",
        "colab_type": "code",
        "colab": {}
      },
      "source": [
        "from quple.circuit.quantum_circuit import QuantumCircuit\n",
        "import numpy as np\n",
        "# Build a circuit\n",
        "cq = QuantumCircuit(n_qubit=5)\n",
        "# Perform H gate on qibits 0,3 and 4\n",
        "cq.H([0,3,4])\n",
        "# Perform H gate on all qubits\n",
        "cq.H(range(cq.n_qubit))\n",
        "# Perform Rz gate with theta = pi on qubit 3\n",
        "cq.Rz(np.pi, 3)\n",
        "# Perform Rx gate with theta = pi/2 on qubit 1,2 and 4\n",
        "cq.Rx(np.pi/2, [1,2,4])\n",
        "# Perform CNOT gate on qubits 0 and qubit 1 with 0 being the control qubit\n",
        "cq.CNOT((0,1))\n",
        "# Perform a series of CNOT gate on qubits (0,1), (1,2), (2,3), (3,4)\n",
        "cq.CNOT([(0,1),(1,2),(2,3),(3,4)])\n",
        "# print the circuit\n",
        "print(cq) # or cq.diagram\n",
        "# Entangle qubits 0, 1 and 3 with CNOT gate\n",
        "cq.entangle([0,1,3])\n",
        "print(cq)\n",
        "# Perform measurement on first qubit\n",
        "cq.measure(0, key='my_measurement')\n",
        "print(cq)"
      ],
      "execution_count": null,
      "outputs": []
    },
    {
      "cell_type": "markdown",
      "metadata": {
        "id": "1iEqF_0xbv4v",
        "colab_type": "text"
      },
      "source": [
        "Basic Usage: Parametrise Circuit"
      ]
    },
    {
      "cell_type": "code",
      "metadata": {
        "id": "SqibpJ1ybv4w",
        "colab_type": "code",
        "colab": {}
      },
      "source": [
        "from quple.circuit.quantum_circuit import QuantumCircuit\n",
        "import numpy as np\n",
        "# Build a circuit\n",
        "cq = QuantumCircuit(n_qubit=5)\n",
        "# add variable x\n",
        "cq.parameter_table.append('x')\n",
        "print(cq.parameter_table.params)\n",
        "# add variable x,y and z\n",
        "cq.parameter_table.append(['x','y','z'])\n",
        "print(cq.parameter_table.params)\n",
        "# add an array variable θ of size 10\n",
        "cq.parameter_table.append_array('θ', 10)\n",
        "print(cq.parameter_table.params)\n",
        "# retrieve the variable θ\n",
        "cq.parameter_table['θ']\n",
        "# remove the parameter θ\n",
        "cq.parameter_table.pop('θ')\n",
        "\n",
        "# perform Rz by (x[0]+x[1])*pi/2 degree on qubits 1,2,4\n",
        "cq.parameter_table.append_array('x', 2)\n",
        "x = cq.parameter_table['x']\n",
        "cq.Rz((x[0]+x[1])*np.pi/2, [1,2,4])\n",
        "print(cq)"
      ],
      "execution_count": null,
      "outputs": []
    },
    {
      "cell_type": "markdown",
      "metadata": {
        "id": "DsXlFG9bbv41",
        "colab_type": "text"
      },
      "source": [
        "Basic Usage: Get / Create an entangling map for a circuit\n",
        "\n",
        "**Deprecated**: Entangling map is now changed to connectivity graphs, for details please check the Parameterised Circuit Tutorial"
      ]
    },
    {
      "cell_type": "markdown",
      "metadata": {
        "id": "8Z4fJX8Fbv44",
        "colab_type": "text"
      },
      "source": [
        "Build Your Own Feature Map"
      ]
    },
    {
      "cell_type": "markdown",
      "metadata": {
        "id": "h47Sy_Xtbv44",
        "colab_type": "text"
      },
      "source": [
        "**Deprecated**: For details please check the Parameterised Circuit Tutorial"
      ]
    }
  ]
}