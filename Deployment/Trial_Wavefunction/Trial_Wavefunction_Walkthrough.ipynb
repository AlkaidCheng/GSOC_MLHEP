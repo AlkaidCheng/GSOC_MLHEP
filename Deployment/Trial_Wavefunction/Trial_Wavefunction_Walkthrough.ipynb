{
  "nbformat": 4,
  "nbformat_minor": 0,
  "metadata": {
    "colab": {
      "name": "Trial_Wavefunction_Walkthrough.ipynb",
      "provenance": [],
      "collapsed_sections": []
    },
    "kernelspec": {
      "name": "python3",
      "display_name": "Python 3"
    }
  },
  "cells": [
    {
      "cell_type": "markdown",
      "metadata": {
        "id": "clO0wF9_jLWQ",
        "colab_type": "text"
      },
      "source": [
        "Change Log:\n",
        "1. Removed the module `quple.circuit.entanglement_circuit`, the entangle method is moved to the module `quple.circuit.quantum_circuit`\n",
        "2. `Entangler map` is renamed as `connectivity graph` and is defined in the module `quple.components.connectivity_gprahs`. There are five build in methods:\n",
        "\n",
        "    I. full (fully connected undirected graphs)\n",
        "\n",
        "    II. all_to_all (fully connected directed graphs)\n",
        "\n",
        "    III. linear or nearest_neighbor\n",
        "\n",
        "    IV. cyclic or circular\n",
        "\n",
        "    V. star\n",
        "3. Added new module `quple.circuit.parameterised_circuit`. The class `ParameterisedCircuit` allows construction of parameterised circuit as alternating layers of single qubit `rotation blocks` and two qubit `entanglement blocks`. It can count the number of parameters needed to parameterise the circuit and reserve the corresponding number of parameters to the circuit.\n",
        "4. Added new module `quple.circuit.templates.template_circuit_block`. The class `TemplateCircuitBlock` allows construction of customized circuit blocks that can be feeded to the entanglement layers of a parameterised circuit. An example is the template `PauliBlock` found in `quple.circuit.templates.pauli_block` which defines individual blocks in a `PauliExpansion circuit`\n",
        "5. Added a gate operation map in the module `quple.circuit.quantum_circuit` which is a directionary that maps the string representating a gate operation to the corresponding cirq gate operation\n",
        "\n",
        "\n"
      ]
    },
    {
      "cell_type": "code",
      "metadata": {
        "id": "51GJW7ccahP8",
        "colab_type": "code",
        "colab": {
          "base_uri": "https://localhost:8080/",
          "height": 963
        },
        "outputId": "b306dc41-c169-408f-cfc7-9f7bed190df8"
      },
      "source": [
        "!pip install quple"
      ],
      "execution_count": 1,
      "outputs": [
        {
          "output_type": "stream",
          "text": [
            "Collecting quple\n",
            "  Downloading https://files.pythonhosted.org/packages/d7/ec/d47b63e1b8a606f29e1dd3c965f66c70adc3ec316861f93098acd28d9082/quple-0.3.4-py3-none-any.whl\n",
            "Requirement already satisfied: numpy in /usr/local/lib/python3.6/dist-packages (from quple) (1.18.5)\n",
            "Collecting cirq\n",
            "\u001b[?25l  Downloading https://files.pythonhosted.org/packages/a2/a4/2bcd91b3d99f34482d43ec3fbd1399105c8e61b78606ce907b019bb0135c/cirq-0.8.1-py3-none-any.whl (1.4MB)\n",
            "\u001b[K     |████████████████████████████████| 1.4MB 6.6MB/s \n",
            "\u001b[?25hRequirement already satisfied: google-api-core[grpc]<2.0.0dev,>=1.14.0 in /usr/local/lib/python3.6/dist-packages (from cirq->quple) (1.16.0)\n",
            "Requirement already satisfied: sortedcontainers~=2.0 in /usr/local/lib/python3.6/dist-packages (from cirq->quple) (2.2.2)\n",
            "Requirement already satisfied: sympy in /usr/local/lib/python3.6/dist-packages (from cirq->quple) (1.1.1)\n",
            "Requirement already satisfied: pandas in /usr/local/lib/python3.6/dist-packages (from cirq->quple) (1.0.5)\n",
            "Requirement already satisfied: networkx~=2.4 in /usr/local/lib/python3.6/dist-packages (from cirq->quple) (2.4)\n",
            "Requirement already satisfied: matplotlib~=3.0 in /usr/local/lib/python3.6/dist-packages (from cirq->quple) (3.2.2)\n",
            "Collecting protobuf==3.8.0\n",
            "\u001b[?25l  Downloading https://files.pythonhosted.org/packages/d2/fb/29de8d08967f0cce1bb10b39846d836b0f3bf6776ddc36aed7c73498ca7e/protobuf-3.8.0-cp36-cp36m-manylinux1_x86_64.whl (1.2MB)\n",
            "\u001b[K     |████████████████████████████████| 1.2MB 25.6MB/s \n",
            "\u001b[?25hRequirement already satisfied: dataclasses; python_version < \"3.7\" in /usr/local/lib/python3.6/dist-packages (from cirq->quple) (0.7)\n",
            "Requirement already satisfied: requests~=2.18 in /usr/local/lib/python3.6/dist-packages (from cirq->quple) (2.23.0)\n",
            "Requirement already satisfied: typing-extensions in /usr/local/lib/python3.6/dist-packages (from cirq->quple) (3.6.6)\n",
            "Requirement already satisfied: scipy in /usr/local/lib/python3.6/dist-packages (from cirq->quple) (1.4.1)\n",
            "Collecting freezegun~=0.3.15\n",
            "  Downloading https://files.pythonhosted.org/packages/17/5d/1b9d6d3c7995fff473f35861d674e0113a5f0bd5a72fe0199c3f254665c7/freezegun-0.3.15-py2.py3-none-any.whl\n",
            "Requirement already satisfied: googleapis-common-protos<2.0dev,>=1.6.0 in /usr/local/lib/python3.6/dist-packages (from google-api-core[grpc]<2.0.0dev,>=1.14.0->cirq->quple) (1.52.0)\n",
            "Requirement already satisfied: pytz in /usr/local/lib/python3.6/dist-packages (from google-api-core[grpc]<2.0.0dev,>=1.14.0->cirq->quple) (2018.9)\n",
            "Requirement already satisfied: setuptools>=34.0.0 in /usr/local/lib/python3.6/dist-packages (from google-api-core[grpc]<2.0.0dev,>=1.14.0->cirq->quple) (47.3.1)\n",
            "Requirement already satisfied: google-auth<2.0dev,>=0.4.0 in /usr/local/lib/python3.6/dist-packages (from google-api-core[grpc]<2.0.0dev,>=1.14.0->cirq->quple) (1.17.2)\n",
            "Requirement already satisfied: six>=1.10.0 in /usr/local/lib/python3.6/dist-packages (from google-api-core[grpc]<2.0.0dev,>=1.14.0->cirq->quple) (1.12.0)\n",
            "Requirement already satisfied: grpcio<2.0dev,>=1.8.2; extra == \"grpc\" in /usr/local/lib/python3.6/dist-packages (from google-api-core[grpc]<2.0.0dev,>=1.14.0->cirq->quple) (1.30.0)\n",
            "Requirement already satisfied: mpmath>=0.19 in /usr/local/lib/python3.6/dist-packages (from sympy->cirq->quple) (1.1.0)\n",
            "Requirement already satisfied: python-dateutil>=2.6.1 in /usr/local/lib/python3.6/dist-packages (from pandas->cirq->quple) (2.8.1)\n",
            "Requirement already satisfied: decorator>=4.3.0 in /usr/local/lib/python3.6/dist-packages (from networkx~=2.4->cirq->quple) (4.4.2)\n",
            "Requirement already satisfied: pyparsing!=2.0.4,!=2.1.2,!=2.1.6,>=2.0.1 in /usr/local/lib/python3.6/dist-packages (from matplotlib~=3.0->cirq->quple) (2.4.7)\n",
            "Requirement already satisfied: cycler>=0.10 in /usr/local/lib/python3.6/dist-packages (from matplotlib~=3.0->cirq->quple) (0.10.0)\n",
            "Requirement already satisfied: kiwisolver>=1.0.1 in /usr/local/lib/python3.6/dist-packages (from matplotlib~=3.0->cirq->quple) (1.2.0)\n",
            "Requirement already satisfied: certifi>=2017.4.17 in /usr/local/lib/python3.6/dist-packages (from requests~=2.18->cirq->quple) (2020.6.20)\n",
            "Requirement already satisfied: urllib3!=1.25.0,!=1.25.1,<1.26,>=1.21.1 in /usr/local/lib/python3.6/dist-packages (from requests~=2.18->cirq->quple) (1.24.3)\n",
            "Requirement already satisfied: chardet<4,>=3.0.2 in /usr/local/lib/python3.6/dist-packages (from requests~=2.18->cirq->quple) (3.0.4)\n",
            "Requirement already satisfied: idna<3,>=2.5 in /usr/local/lib/python3.6/dist-packages (from requests~=2.18->cirq->quple) (2.9)\n",
            "Requirement already satisfied: pyasn1-modules>=0.2.1 in /usr/local/lib/python3.6/dist-packages (from google-auth<2.0dev,>=0.4.0->google-api-core[grpc]<2.0.0dev,>=1.14.0->cirq->quple) (0.2.8)\n",
            "Requirement already satisfied: rsa<5,>=3.1.4; python_version >= \"3\" in /usr/local/lib/python3.6/dist-packages (from google-auth<2.0dev,>=0.4.0->google-api-core[grpc]<2.0.0dev,>=1.14.0->cirq->quple) (4.6)\n",
            "Requirement already satisfied: cachetools<5.0,>=2.0.0 in /usr/local/lib/python3.6/dist-packages (from google-auth<2.0dev,>=0.4.0->google-api-core[grpc]<2.0.0dev,>=1.14.0->cirq->quple) (4.1.0)\n",
            "Requirement already satisfied: pyasn1<0.5.0,>=0.4.6 in /usr/local/lib/python3.6/dist-packages (from pyasn1-modules>=0.2.1->google-auth<2.0dev,>=0.4.0->google-api-core[grpc]<2.0.0dev,>=1.14.0->cirq->quple) (0.4.8)\n",
            "Installing collected packages: protobuf, freezegun, cirq, quple\n",
            "  Found existing installation: protobuf 3.10.0\n",
            "    Uninstalling protobuf-3.10.0:\n",
            "      Successfully uninstalled protobuf-3.10.0\n",
            "Successfully installed cirq-0.8.1 freezegun-0.3.15 protobuf-3.8.0 quple-0.3.4\n"
          ],
          "name": "stdout"
        },
        {
          "output_type": "display_data",
          "data": {
            "application/vnd.colab-display-data+json": {
              "pip_warning": {
                "packages": [
                  "google"
                ]
              }
            }
          },
          "metadata": {
            "tags": []
          }
        }
      ]
    },
    {
      "cell_type": "markdown",
      "metadata": {
        "id": "1gBQhFszmKO-",
        "colab_type": "text"
      },
      "source": [
        "#Trial Wavefunction"
      ]
    },
    {
      "cell_type": "markdown",
      "metadata": {
        "id": "UeV5ZRhzmXwP",
        "colab_type": "text"
      },
      "source": [
        "Import the relevant modules"
      ]
    },
    {
      "cell_type": "code",
      "metadata": {
        "id": "sL3GezogaYyn",
        "colab_type": "code",
        "colab": {}
      },
      "source": [
        "from quple.trial_wavefunction.excitation_preserving import ExcitationPreserving\n",
        "from quple.trial_wavefunction.real_amplitudes import RealAmplitudes\n",
        "from quple.trial_wavefunction.efficient_su2 import EfficientSU2"
      ],
      "execution_count": 2,
      "outputs": []
    },
    {
      "cell_type": "markdown",
      "metadata": {
        "id": "uNjTNhUIsk0K",
        "colab_type": "text"
      },
      "source": [
        "##Trial Wavefunction - Real Amplitudes\n",
        "This is essentially a rotation layer with `RY` rotation gates and entanglement layer with `CNOT` gates and `full` entanglement (with a final rotation layer)"
      ]
    },
    {
      "cell_type": "code",
      "metadata": {
        "id": "FSdAzznlagqv",
        "colab_type": "code",
        "colab": {
          "base_uri": "https://localhost:8080/",
          "height": 217
        },
        "outputId": "7618b261-1ce6-4544-adfe-78a54097df79"
      },
      "source": [
        "# Real Amplitudes wavefunction constructed from RY rotations and fully connected CNOT entanglement repeated 2 times for 5 qubits (with a final rotation layer) \n",
        "cq = RealAmplitudes(n_qubit=5, copies=2)\n",
        "print(cq)"
      ],
      "execution_count": 3,
      "outputs": [
        {
          "output_type": "stream",
          "text": [
            "                                 ┌──┐       ┌──┐                                 ┌──┐       ┌──┐\n",
            "(0, 0): ───Ry(θ_0)───@───@───@────@────────────────────────Ry(θ_5)───@───@───@────@────────────────────────Ry(θ_10)───\n",
            "                     │   │   │    │                                  │   │   │    │\n",
            "(1, 0): ───Ry(θ_1)───X───┼───┼────┼@────@────@─────────────Ry(θ_6)───X───┼───┼────┼@────@────@─────────────Ry(θ_11)───\n",
            "                         │   │    ││    │    │                           │   │    ││    │    │\n",
            "(2, 0): ───Ry(θ_2)───────X───┼────┼X────┼────┼@────@───────Ry(θ_7)───────X───┼────┼X────┼────┼@────@───────Ry(θ_12)───\n",
            "                             │    │     │    ││    │                         │    │     │    ││    │\n",
            "(3, 0): ───Ry(θ_3)───────────X────┼─────X────┼X────┼───@───Ry(θ_8)───────────X────┼─────X────┼X────┼───@───Ry(θ_13)───\n",
            "                                  │          │     │   │                          │          │     │   │\n",
            "(4, 0): ───Ry(θ_4)────────────────X──────────X─────X───X───Ry(θ_9)────────────────X──────────X─────X───X───Ry(θ_14)───\n",
            "                                 └──┘       └──┘                                 └──┘       └──┘\n"
          ],
          "name": "stdout"
        }
      ]
    },
    {
      "cell_type": "code",
      "metadata": {
        "id": "DzYT5D4LtZ2O",
        "colab_type": "code",
        "colab": {
          "base_uri": "https://localhost:8080/",
          "height": 145
        },
        "outputId": "3ebd7685-7c3e-4df9-90cf-6bd53679bb87"
      },
      "source": [
        "# Real Amplitudes wavefunction constructed from RY rotations and cyclic CNOT entanglement repeated 3 times for 4 qubits (with a final rotation layer) \n",
        "cq = RealAmplitudes(n_qubit=4, copies=3, entangle_strategy='cyclic')\n",
        "print(cq)"
      ],
      "execution_count": 4,
      "outputs": [
        {
          "output_type": "stream",
          "text": [
            "(0, 0): ───Ry(θ_0)───@───────────X───Ry(θ_4)───@───────────X───Ry(θ_8)────@───────────X───Ry(θ_12)───\n",
            "                     │           │             │           │              │           │\n",
            "(1, 0): ───Ry(θ_1)───X───@───────┼───Ry(θ_5)───X───@───────┼───Ry(θ_9)────X───@───────┼───Ry(θ_13)───\n",
            "                         │       │                 │       │                  │       │\n",
            "(2, 0): ───Ry(θ_2)───────X───@───┼───Ry(θ_6)───────X───@───┼───Ry(θ_10)───────X───@───┼───Ry(θ_14)───\n",
            "                             │   │                     │   │                      │   │\n",
            "(3, 0): ───Ry(θ_3)───────────X───@───Ry(θ_7)───────────X───@───Ry(θ_11)───────────X───@───Ry(θ_15)───\n"
          ],
          "name": "stdout"
        }
      ]
    },
    {
      "cell_type": "markdown",
      "metadata": {
        "id": "2f4TalKemctU",
        "colab_type": "text"
      },
      "source": [
        "##Trial Wavefunction - Efficient SU2\n",
        "\n",
        "This is essentially a rotation layer with `['RY','RZ']` rotation gates and entanglement layer with `CNOT` gates and `full` entanglement"
      ]
    },
    {
      "cell_type": "code",
      "metadata": {
        "id": "l0n71qChm4QV",
        "colab_type": "code",
        "colab": {
          "base_uri": "https://localhost:8080/",
          "height": 217
        },
        "outputId": "300c6268-6a6f-4a9c-c4b9-000a8f318dc8"
      },
      "source": [
        "# Efficient SU2 wavefunction constructed from ['RY', 'RZ'] rotations and fully connected CNOT entanglement repeated 2 times for 5 qubits (with a final rotation layer) \n",
        "cq = EfficientSU2(n_qubit=5, copies=2)\n",
        "print(cq)"
      ],
      "execution_count": 5,
      "outputs": [
        {
          "output_type": "stream",
          "text": [
            "                                           ┌──┐       ┌──┐                                             ┌──┐       ┌──┐\n",
            "(0, 0): ───Ry(θ_0)───Rz(θ_5)───@───@───@────@────────────────────────Ry(θ_10)───Rz(θ_15)───@───@───@────@────────────────────────Ry(θ_20)───Rz(θ_25)───\n",
            "                               │   │   │    │                                              │   │   │    │\n",
            "(1, 0): ───Ry(θ_1)───Rz(θ_6)───X───┼───┼────┼@────@────@─────────────Ry(θ_11)───Rz(θ_16)───X───┼───┼────┼@────@────@─────────────Ry(θ_21)───Rz(θ_26)───\n",
            "                                   │   │    ││    │    │                                       │   │    ││    │    │\n",
            "(2, 0): ───Ry(θ_2)───Rz(θ_7)───────X───┼────┼X────┼────┼@────@───────Ry(θ_12)───Rz(θ_17)───────X───┼────┼X────┼────┼@────@───────Ry(θ_22)───Rz(θ_27)───\n",
            "                                       │    │     │    ││    │                                     │    │     │    ││    │\n",
            "(3, 0): ───Ry(θ_3)───Rz(θ_8)───────────X────┼─────X────┼X────┼───@───Ry(θ_13)───Rz(θ_18)───────────X────┼─────X────┼X────┼───@───Ry(θ_23)───Rz(θ_28)───\n",
            "                                            │          │     │   │                                      │          │     │   │\n",
            "(4, 0): ───Ry(θ_4)───Rz(θ_9)────────────────X──────────X─────X───X───Ry(θ_14)───Rz(θ_19)────────────────X──────────X─────X───X───Ry(θ_24)───Rz(θ_29)───\n",
            "                                           └──┘       └──┘                                             └──┘       └──┘\n"
          ],
          "name": "stdout"
        }
      ]
    },
    {
      "cell_type": "code",
      "metadata": {
        "id": "ZYsiA3yPoqx9",
        "colab_type": "code",
        "colab": {
          "base_uri": "https://localhost:8080/",
          "height": 181
        },
        "outputId": "0d843bc1-51b7-4d1c-fb5e-10f00589d48f"
      },
      "source": [
        "# Efficient SU2 wavefunction constructed from ['RX', 'RY'] rotations and fully connected CNOT entanglement repeated 3 times for 4 qubits (with a final rotation layer)\n",
        "# Warning there is no validation for su2_gates yet so a non-su2_gates may be passed without throwing error\n",
        "cq = EfficientSU2(n_qubit=4, copies=3, su2_gates=['RX','RY'])\n",
        "print(cq)"
      ],
      "execution_count": 6,
      "outputs": [
        {
          "output_type": "stream",
          "text": [
            "                                       ┌──┐                                         ┌──┐                                         ┌──┐\n",
            "(0, 0): ───Rx(θ_0)───Ry(θ_4)───@───@────@─────────────Rx(θ_8)────Ry(θ_12)───@───@────@─────────────Rx(θ_16)───Ry(θ_20)───@───@────@─────────────Rx(θ_24)───Ry(θ_28)───\n",
            "                               │   │    │                                   │   │    │                                   │   │    │\n",
            "(1, 0): ───Rx(θ_1)───Ry(θ_5)───X───┼────┼@────@───────Rx(θ_9)────Ry(θ_13)───X───┼────┼@────@───────Rx(θ_17)───Ry(θ_21)───X───┼────┼@────@───────Rx(θ_25)───Ry(θ_29)───\n",
            "                                   │    ││    │                                 │    ││    │                                 │    ││    │\n",
            "(2, 0): ───Rx(θ_2)───Ry(θ_6)───────X────┼X────┼───@───Rx(θ_10)───Ry(θ_14)───────X────┼X────┼───@───Rx(θ_18)───Ry(θ_22)───────X────┼X────┼───@───Rx(θ_26)───Ry(θ_30)───\n",
            "                                        │     │   │                                  │     │   │                                  │     │   │\n",
            "(3, 0): ───Rx(θ_3)───Ry(θ_7)────────────X─────X───X───Rx(θ_11)───Ry(θ_15)────────────X─────X───X───Rx(θ_19)───Ry(θ_23)────────────X─────X───X───Rx(θ_27)───Ry(θ_31)───\n",
            "                                       └──┘                                         └──┘                                         └──┘\n"
          ],
          "name": "stdout"
        }
      ]
    },
    {
      "cell_type": "code",
      "metadata": {
        "id": "DcSLT61ZpT5e",
        "colab_type": "code",
        "colab": {
          "base_uri": "https://localhost:8080/",
          "height": 181
        },
        "outputId": "3a66ed2b-1d9a-4174-b482-2ac6fe4870b8"
      },
      "source": [
        "# Efficient SU2 wavefunction constructed from ['RY', 'RZ'] rotations and linearly connected CNOT entanglement repeated 2 times for 5 qubits (with a final rotation layer) \n",
        "# Warning there is no validation for su2_gates yet so a non-su2_gates may be passed without throwing error\n",
        "cq = EfficientSU2(n_qubit=5, copies=2, entangle_strategy='linear')\n",
        "print(cq)"
      ],
      "execution_count": 7,
      "outputs": [
        {
          "output_type": "stream",
          "text": [
            "(0, 0): ───Ry(θ_0)───Rz(θ_5)───@───────────────Ry(θ_10)───Rz(θ_15)───@───────────────Ry(θ_20)───Rz(θ_25)───\n",
            "                               │                                     │\n",
            "(1, 0): ───Ry(θ_1)───Rz(θ_6)───X───@───────────Ry(θ_11)───Rz(θ_16)───X───@───────────Ry(θ_21)───Rz(θ_26)───\n",
            "                                   │                                     │\n",
            "(2, 0): ───Ry(θ_2)───Rz(θ_7)───────X───@───────Ry(θ_12)───Rz(θ_17)───────X───@───────Ry(θ_22)───Rz(θ_27)───\n",
            "                                       │                                     │\n",
            "(3, 0): ───Ry(θ_3)───Rz(θ_8)───────────X───@───Ry(θ_13)───Rz(θ_18)───────────X───@───Ry(θ_23)───Rz(θ_28)───\n",
            "                                           │                                     │\n",
            "(4, 0): ───Ry(θ_4)───Rz(θ_9)───────────────X───Ry(θ_14)───Rz(θ_19)───────────────X───Ry(θ_24)───Rz(θ_29)───\n"
          ],
          "name": "stdout"
        }
      ]
    },
    {
      "cell_type": "markdown",
      "metadata": {
        "id": "orqyRTB4uH1c",
        "colab_type": "text"
      },
      "source": [
        "##Trial Wavefunction - Excitation Preserving\n",
        "\n",
        "This is essentially a rotation layer with `RZ` rotation gates and entanglement layer with `RISWAP` or `FSim` gates and `full` entanglement (with a final rotation layer) "
      ]
    },
    {
      "cell_type": "code",
      "metadata": {
        "id": "B_p_CW_tbeEM",
        "colab_type": "code",
        "colab": {
          "base_uri": "https://localhost:8080/",
          "height": 237
        },
        "outputId": "7a3cabb5-ac25-43d6-c1ef-0700fb374864"
      },
      "source": [
        "# Excitation Preserving wavefunction constructed from RZ rotations and fully connected RISWAP entanglement repeated 2 times for 5 qubits (with a final rotation layer) \n",
        "cq = ExcitationPreserving(n_qubit=5, copies=2)\n",
        "print(cq)"
      ],
      "execution_count": 8,
      "outputs": [
        {
          "output_type": "stream",
          "text": [
            "                                                                              ┌────────────────────────────────┐                       ┌──────────────────────────────────┐                                                                                                                  ┌──────────────────────────────────┐                       ┌──────────────────────────────────┐\n",
            "(0, 0): ───Rz(θ_0)───iSwap──────────────iSwap──────────────iSwap───────────────iSwap──────────────────────────────────────────────────────────────────────────────────────────────────────────────────────────────────Rz(θ_15)───iSwap───────────────iSwap───────────────iSwap────────────────iSwap────────────────────────────────────────────────────────────────────────────────────────────────────────────────────────────────────Rz(θ_30)───\n",
            "                     │                  │                  │                   │                                                                                                                                                 │                   │                   │                    │\n",
            "(1, 0): ───Rz(θ_1)───iSwap^(2*θ_5/pi)───┼──────────────────┼───────────────────┼───────────────iSwap───────────────iSwap────────────────iSwap─────────────────────────────────────────────────────────────────────────Rz(θ_16)───iSwap^(2*θ_20/pi)───┼───────────────────┼────────────────────┼────────────────iSwap────────────────iSwap────────────────iSwap─────────────────────────────────────────────────────────────────────────Rz(θ_31)───\n",
            "                                        │                  │                   │               │                   │                    │                                                                                                            │                   │                    │                │                    │                    │\n",
            "(2, 0): ───Rz(θ_2)──────────────────────iSwap^(2*θ_6/pi)───┼───────────────────┼───────────────iSwap^(2*θ_9/pi)────┼────────────────────┼────────────────iSwap────────────────iSwap───────────────────────────────────Rz(θ_17)───────────────────────iSwap^(2*θ_21/pi)───┼────────────────────┼────────────────iSwap^(2*θ_24/pi)────┼────────────────────┼────────────────iSwap────────────────iSwap───────────────────────────────────Rz(θ_32)───\n",
            "                                                           │                   │                                   │                    │                │                    │                                                                                          │                    │                                     │                    │                │                    │\n",
            "(3, 0): ───Rz(θ_3)─────────────────────────────────────────iSwap^(2*θ_7/pi)────┼───────────────────────────────────iSwap^(2*θ_10/pi)────┼────────────────iSwap^(2*θ_12/pi)────┼───────────────────iSwap───────────────Rz(θ_18)───────────────────────────────────────────iSwap^(2*θ_22/pi)────┼─────────────────────────────────────iSwap^(2*θ_25/pi)────┼────────────────iSwap^(2*θ_27/pi)────┼───────────────────iSwap───────────────Rz(θ_33)───\n",
            "                                                                               │                                                        │                                     │                   │                                                                                           │                                                          │                                     │                   │\n",
            "(4, 0): ───Rz(θ_4)─────────────────────────────────────────────────────────────iSwap^(2*θ_8/pi)─────────────────────────────────────────iSwap^(2*θ_11/pi)─────────────────────iSwap^(2*θ_13/pi)───iSwap^(2*θ_14/pi)───Rz(θ_19)────────────────────────────────────────────────────────────────iSwap^(2*θ_23/pi)──────────────────────────────────────────iSwap^(2*θ_26/pi)─────────────────────iSwap^(2*θ_28/pi)───iSwap^(2*θ_29/pi)───Rz(θ_34)───\n",
            "                                                                              └────────────────────────────────┘                       └──────────────────────────────────┘                                                                                                                  └──────────────────────────────────┘                       └──────────────────────────────────┘\n"
          ],
          "name": "stdout"
        }
      ]
    },
    {
      "cell_type": "code",
      "metadata": {
        "id": "c7uoFOkBbnoA",
        "colab_type": "code",
        "colab": {
          "base_uri": "https://localhost:8080/",
          "height": 237
        },
        "outputId": "aaee63bd-5f61-471f-a885-736a5924317f"
      },
      "source": [
        "# Excitation Preserving wavefunction constructed from RZ rotations and fully connected FSim entanglement repeated 2 times for 5 qubits (with a final rotation layer) \n",
        "cq = ExcitationPreserving(n_qubit=5, copies=2, entanglement_gate='FSim')\n",
        "print(cq)"
      ],
      "execution_count": 9,
      "outputs": [
        {
          "output_type": "stream",
          "text": [
            "                                                                         ┌────────────────────────────────┐                      ┌────────────────────────────────┐                                                                                                             ┌────────────────────────────────┐                      ┌────────────────────────────────┐\n",
            "(0, 0): ───Rz(θ_0)───fsim(θ_5, θ_6)───fsim(θ_7, θ_8)───fsim(θ_9, θ_10)────fsim(θ_11, θ_12)──────────────────────────────────────────────────────────────────────────────────────────────────────────────────Rz(θ_25)───fsim(θ_30, θ_31)───fsim(θ_32, θ_33)───fsim(θ_34, θ_35)────fsim(θ_36, θ_37)──────────────────────────────────────────────────────────────────────────────────────────────────────────────────Rz(θ_50)───\n",
            "                     │                │                │                  │                                                                                                                                            │                  │                  │                   │\n",
            "(1, 0): ───Rz(θ_1)───#2───────────────┼────────────────┼──────────────────┼───────────────fsim(θ_13, θ_14)────fsim(θ_15, θ_16)────fsim(θ_17, θ_18)──────────────────────────────────────────────────────────Rz(θ_26)───#2─────────────────┼──────────────────┼───────────────────┼───────────────fsim(θ_38, θ_39)────fsim(θ_40, θ_41)────fsim(θ_42, θ_43)──────────────────────────────────────────────────────────Rz(θ_51)───\n",
            "                                      │                │                  │               │                   │                   │                                                                                                       │                  │                   │               │                   │                   │\n",
            "(2, 0): ───Rz(θ_2)────────────────────#2───────────────┼──────────────────┼───────────────#2──────────────────┼───────────────────┼───────────────fsim(θ_19, θ_20)────fsim(θ_21, θ_22)──────────────────────Rz(θ_27)──────────────────────#2─────────────────┼───────────────────┼───────────────#2──────────────────┼───────────────────┼───────────────fsim(θ_44, θ_45)────fsim(θ_46, θ_47)──────────────────────Rz(θ_52)───\n",
            "                                                       │                  │                                   │                   │               │                   │                                                                                      │                   │                                   │                   │               │                   │\n",
            "(3, 0): ───Rz(θ_3)─────────────────────────────────────#2─────────────────┼───────────────────────────────────#2──────────────────┼───────────────#2──────────────────┼──────────────────fsim(θ_23, θ_24)───Rz(θ_28)─────────────────────────────────────────#2──────────────────┼───────────────────────────────────#2──────────────────┼───────────────#2──────────────────┼──────────────────fsim(θ_48, θ_49)───Rz(θ_53)───\n",
            "                                                                          │                                                       │                                   │                  │                                                                                       │                                                       │                                   │                  │\n",
            "(4, 0): ───Rz(θ_4)────────────────────────────────────────────────────────#2──────────────────────────────────────────────────────#2──────────────────────────────────#2─────────────────#2─────────────────Rz(θ_29)─────────────────────────────────────────────────────────────#2──────────────────────────────────────────────────────#2──────────────────────────────────#2─────────────────#2─────────────────Rz(θ_54)───\n",
            "                                                                         └────────────────────────────────┘                      └────────────────────────────────┘                                                                                                             └────────────────────────────────┘                      └────────────────────────────────┘\n"
          ],
          "name": "stdout"
        }
      ]
    },
    {
      "cell_type": "code",
      "metadata": {
        "id": "sj0RFVvbuoLO",
        "colab_type": "code",
        "colab": {
          "base_uri": "https://localhost:8080/",
          "height": 181
        },
        "outputId": "2c9413ef-3f88-485b-9870-cdd66d8bceae"
      },
      "source": [
        "# Excitation Preserving wavefunction constructed from RZ rotations and star connected FSim entanglement repeated 3 times for 4 qubits (with a final rotation layer) \n",
        "cq = ExcitationPreserving(n_qubit=5, copies=2, entanglement_gate='FSim', entangle_strategy='star')\n",
        "print(cq)"
      ],
      "execution_count": 10,
      "outputs": [
        {
          "output_type": "stream",
          "text": [
            "(0, 0): ───Rz(θ_0)───fsim(θ_5, θ_6)───fsim(θ_7, θ_8)───fsim(θ_9, θ_10)───fsim(θ_11, θ_12)───Rz(θ_13)───fsim(θ_18, θ_19)───fsim(θ_20, θ_21)───fsim(θ_22, θ_23)───fsim(θ_24, θ_25)───Rz(θ_26)───\n",
            "                     │                │                │                 │                             │                  │                  │                  │\n",
            "(1, 0): ───Rz(θ_1)───#2───────────────┼────────────────┼─────────────────┼──────────────────Rz(θ_14)───#2─────────────────┼──────────────────┼──────────────────┼──────────────────Rz(θ_27)───\n",
            "                                      │                │                 │                                                │                  │                  │\n",
            "(2, 0): ───Rz(θ_2)────────────────────#2───────────────┼─────────────────┼──────────────────Rz(θ_15)──────────────────────#2─────────────────┼──────────────────┼──────────────────Rz(θ_28)───\n",
            "                                                       │                 │                                                                   │                  │\n",
            "(3, 0): ───Rz(θ_3)─────────────────────────────────────#2────────────────┼──────────────────Rz(θ_16)─────────────────────────────────────────#2─────────────────┼──────────────────Rz(θ_29)───\n",
            "                                                                         │                                                                                      │\n",
            "(4, 0): ───Rz(θ_4)───────────────────────────────────────────────────────#2─────────────────Rz(θ_17)────────────────────────────────────────────────────────────#2─────────────────Rz(θ_30)───\n"
          ],
          "name": "stdout"
        }
      ]
    },
    {
      "cell_type": "markdown",
      "metadata": {
        "id": "H2rNS25LvfXF",
        "colab_type": "text"
      },
      "source": [
        "# Construct your own parameterised circuit"
      ]
    },
    {
      "cell_type": "markdown",
      "metadata": {
        "id": "uGJ5U8L9viFa",
        "colab_type": "text"
      },
      "source": [
        "import the parameterised circuit module"
      ]
    },
    {
      "cell_type": "code",
      "metadata": {
        "id": "d-MQBNLKuwMM",
        "colab_type": "code",
        "colab": {}
      },
      "source": [
        "from quple import ParameterisedCircuit"
      ],
      "execution_count": 11,
      "outputs": []
    },
    {
      "cell_type": "code",
      "metadata": {
        "id": "o4Ko7GNwvrC1",
        "colab_type": "code",
        "colab": {
          "base_uri": "https://localhost:8080/",
          "height": 217
        },
        "outputId": "bd8d1030-13d5-4cf6-a61e-e9d16d92c4c1"
      },
      "source": [
        "# Wavefunction constructed from H,X,Y rotations and CX nearest neighbor entanglement repeated 2 times for 6 qubits (with a final rotation layer) \n",
        "# This circuit has no parameterisation \n",
        "cq = ParameterisedCircuit(n_qubit=6, copies=2, rotation_blocks=['H','X','Y'],entanglement_blocks='CX',entangle_strategy='nearest_neighbor', final_rotation_layer=True)\n",
        "print(cq)"
      ],
      "execution_count": 12,
      "outputs": [
        {
          "output_type": "stream",
          "text": [
            "(0, 0): ───H───X───Y───@───────────────────H───X───Y───@───────────────────H───X───Y───\n",
            "                       │                               │\n",
            "(1, 0): ───H───X───Y───X───@───────────────H───X───Y───X───@───────────────H───X───Y───\n",
            "                           │                               │\n",
            "(2, 0): ───H───X───Y───────X───@───────────H───X───Y───────X───@───────────H───X───Y───\n",
            "                               │                               │\n",
            "(3, 0): ───H───X───Y───────────X───@───────H───X───Y───────────X───@───────H───X───Y───\n",
            "                                   │                               │\n",
            "(4, 0): ───H───X───Y───────────────X───@───H───X───Y───────────────X───@───H───X───Y───\n",
            "                                       │                               │\n",
            "(5, 0): ───H───X───Y───────────────────X───H───X───Y───────────────────X───H───X───Y───\n"
          ],
          "name": "stdout"
        }
      ]
    },
    {
      "cell_type": "code",
      "metadata": {
        "id": "6KWVsIgBwDmz",
        "colab_type": "code",
        "colab": {
          "base_uri": "https://localhost:8080/",
          "height": 254
        },
        "outputId": "3bd0e1f8-2399-4caa-fd08-e1111192fbd4"
      },
      "source": [
        "# Wavefunction constructed from H, RX,RY,RZ rotations and cyclic connected CX,CZ entanglement repeated 1 time for 7 qubits (WITHOUT a final rotation layer) \n",
        "# This circuit has no parameterisation \n",
        "cq = ParameterisedCircuit(n_qubit=7, copies=1, rotation_blocks=['H','RX','RY','RZ'],entanglement_blocks=['CX','CZ'],entangle_strategy='cyclic')\n",
        "print(cq)"
      ],
      "execution_count": 13,
      "outputs": [
        {
          "output_type": "stream",
          "text": [
            "(0, 0): ───H───Rx(pi*<θ_0/pi>)───Ry(pi*<θ_7/pi>)────Rz(pi*<θ_14/pi>)───@───────────────────────X───@───────────────────────@───\n",
            "                                                                       │                       │   │                       │\n",
            "(1, 0): ───H───Rx(pi*<θ_1/pi>)───Ry(pi*<θ_8/pi>)────Rz(pi*<θ_15/pi>)───X───@───────────────────┼───@───@───────────────────┼───\n",
            "                                                                           │                   │       │                   │\n",
            "(2, 0): ───H───Rx(pi*<θ_2/pi>)───Ry(pi*<θ_9/pi>)────Rz(pi*<θ_16/pi>)───────X───@───────────────┼───────@───@───────────────┼───\n",
            "                                                                               │               │           │               │\n",
            "(3, 0): ───H───Rx(pi*<θ_3/pi>)───Ry(pi*<θ_10/pi>)───Rz(pi*<θ_17/pi>)───────────X───@───────────┼───────────@───@───────────┼───\n",
            "                                                                                   │           │               │           │\n",
            "(4, 0): ───H───Rx(pi*<θ_4/pi>)───Ry(pi*<θ_11/pi>)───Rz(pi*<θ_18/pi>)───────────────X───@───────┼───────────────@───@───────┼───\n",
            "                                                                                       │       │                   │       │\n",
            "(5, 0): ───H───Rx(pi*<θ_5/pi>)───Ry(pi*<θ_12/pi>)───Rz(pi*<θ_19/pi>)───────────────────X───@───┼───────────────────@───@───┼───\n",
            "                                                                                           │   │                       │   │\n",
            "(6, 0): ───H───Rx(pi*<θ_6/pi>)───Ry(pi*<θ_13/pi>)───Rz(pi*<θ_20/pi>)───────────────────────X───@───────────────────────@───@───\n"
          ],
          "name": "stdout"
        }
      ]
    },
    {
      "cell_type": "code",
      "metadata": {
        "id": "hOzcHH14wjuk",
        "colab_type": "code",
        "colab": {
          "base_uri": "https://localhost:8080/",
          "height": 419
        },
        "outputId": "e8c3707e-c88b-4748-857e-bbca6502f1bb"
      },
      "source": [
        "# Wavefunction constructed from H, RX rotations and fully connected RISWAP entanglement repeated 2 times for 10 qubits (WITHOUT a final rotation layer)  and with parameter symbol 'x'\n",
        "# This circuit has no parameterisation \n",
        "cq = ParameterisedCircuit(n_qubit=10, copies=2, rotation_blocks=['H','RX'],entanglement_blocks=['RISWAP'],entangle_strategy='full',parameter_symbol='x')\n",
        "print(cq)"
      ],
      "execution_count": 14,
      "outputs": [
        {
          "output_type": "stream",
          "text": [
            "                                                                                                                                                                                                                 ┌──────────────────────────────────────┐                                                                                                                                       ┌──────────────────────────────────────┐                                                                                                                 ┌──────────────────────────────────────┐                                                                                           ┌──────────────────────────────────────┐                                                                     ┌──────────────────────────────────────┐                                               ┌──────────────────────────────────────┐                         ┌──────────────────────────────────────┐                                                                                                                                                                                                                                                      ┌──────────────────────────────────────┐                                                                                                                                       ┌──────────────────────────────────────┐                                                                                                                 ┌──────────────────────────────────────┐                                                                                           ┌──────────────────────────────────────┐                                                                     ┌───────────────────────────────────────┐                                                 ┌────────────────────────────────────────┐                          ┌────────────────────────────────────────┐\n",
            "(0, 0): ───H───Rx(pi*<x_0/pi>)───iSwap─────────────────iSwap─────────────────iSwap─────────────────iSwap─────────────────iSwap─────────────────iSwap─────────────────iSwap─────────────────iSwap──────────────────iSwap─────────────────────────────────────────────────────────────────────────────────────────────────────────────────────────────────────────────────────────────────────────────────────────────────────────────────────────────────────────────────────────────────────────────────────────────────────────────────────────────────────────────────────────────────────────────────────────────────────────────────────────────────────────────────────────────────────────────────────────────────────────────────────────────────────────────────────────────────────────────────────────────────────────────────────────────────────────────────────────────────────────────────────────────────────────────────────────────────────────────────────────────────────────────────────────────────────────────────────────────────H───Rx(pi*<x_55/pi>)───iSwap─────────────────iSwap─────────────────iSwap─────────────────iSwap─────────────────iSwap─────────────────iSwap─────────────────iSwap─────────────────iSwap──────────────────iSwap───────────────────────────────────────────────────────────────────────────────────────────────────────────────────────────────────────────────────────────────────────────────────────────────────────────────────────────────────────────────────────────────────────────────────────────────────────────────────────────────────────────────────────────────────────────────────────────────────────────────────────────────────────────────────────────────────────────────────────────────────────────────────────────────────────────────────────────────────────────────────────────────────────────────────────────────────────────────────────────────────────────────────────────────────────────────────────────────────────────────────────────────────────────────────────────────────────────────────────────────────────────\n",
            "                                 │                     │                     │                     │                     │                     │                     │                     │                      │                                                                                                                                                                                                                                                                                                                                                                                                                                                                                                                                                                                                                                                                                                                                                                                                                                                            │                     │                     │                     │                     │                     │                     │                     │                      │\n",
            "(1, 0): ───H───Rx(pi*<x_1/pi>)───iSwap^(<2*x_10/pi>)───┼─────────────────────┼─────────────────────┼─────────────────────┼─────────────────────┼─────────────────────┼─────────────────────┼──────────────────────┼──────────────────iSwap──────────────────iSwap─────────────────iSwap─────────────────iSwap─────────────────iSwap─────────────────iSwap─────────────────iSwap──────────────────iSwap──────────────────────────────────────────────────────────────────────────────────────────────────────────────────────────────────────────────────────────────────────────────────────────────────────────────────────────────────────────────────────────────────────────────────────────────────────────────────────────────────────────────────────────────────────────────────────────────────────────────────────────────────────────────────────────────────────────────────────────────────────────────────────────────────────────────────────────────────────────────────────────────────────────────────────────────────────────────────H───Rx(pi*<x_56/pi>)───iSwap^(<2*x_65/pi>)───┼─────────────────────┼─────────────────────┼─────────────────────┼─────────────────────┼─────────────────────┼─────────────────────┼──────────────────────┼──────────────────iSwap──────────────────iSwap─────────────────iSwap─────────────────iSwap─────────────────iSwap─────────────────iSwap─────────────────iSwap──────────────────iSwap────────────────────────────────────────────────────────────────────────────────────────────────────────────────────────────────────────────────────────────────────────────────────────────────────────────────────────────────────────────────────────────────────────────────────────────────────────────────────────────────────────────────────────────────────────────────────────────────────────────────────────────────────────────────────────────────────────────────────────────────────────────────────────────────────────────────────────────────────────────────────────────────────────────────────────────────────────────────────────────\n",
            "                                                       │                     │                     │                     │                     │                     │                     │                      │                  │                      │                     │                     │                     │                     │                     │                      │                                                                                                                                                                                                                                                                                                                                                                                                                                                                                                                                                                                                                                                                                                   │                     │                     │                     │                     │                     │                     │                      │                  │                      │                     │                     │                     │                     │                     │                      │\n",
            "(2, 0): ───H───Rx(pi*<x_2/pi>)─────────────────────────iSwap^(<2*x_11/pi>)───┼─────────────────────┼─────────────────────┼─────────────────────┼─────────────────────┼─────────────────────┼──────────────────────┼──────────────────iSwap^(<2*x_19/pi>)────┼─────────────────────┼─────────────────────┼─────────────────────┼─────────────────────┼─────────────────────┼──────────────────────┼──────────────────iSwap──────────────────iSwap─────────────────iSwap─────────────────iSwap─────────────────iSwap─────────────────iSwap──────────────────iSwap─────────────────────────────────────────────────────────────────────────────────────────────────────────────────────────────────────────────────────────────────────────────────────────────────────────────────────────────────────────────────────────────────────────────────────────────────────────────────────────────────────────────────────────────────────────────────────────────────────────────────────────────────────────────────────────────────────────────────────────H───Rx(pi*<x_57/pi>)─────────────────────────iSwap^(<2*x_66/pi>)───┼─────────────────────┼─────────────────────┼─────────────────────┼─────────────────────┼─────────────────────┼──────────────────────┼──────────────────iSwap^(<2*x_74/pi>)────┼─────────────────────┼─────────────────────┼─────────────────────┼─────────────────────┼─────────────────────┼──────────────────────┼──────────────────iSwap──────────────────iSwap─────────────────iSwap─────────────────iSwap─────────────────iSwap─────────────────iSwap──────────────────iSwap───────────────────────────────────────────────────────────────────────────────────────────────────────────────────────────────────────────────────────────────────────────────────────────────────────────────────────────────────────────────────────────────────────────────────────────────────────────────────────────────────────────────────────────────────────────────────────────────────────────────────────────────────────────────────────────────────────────────────────────────────\n",
            "                                                                             │                     │                     │                     │                     │                     │                      │                                         │                     │                     │                     │                     │                     │                      │                  │                      │                     │                     │                     │                     │                      │                                                                                                                                                                                                                                                                                                                                                                                                                                                                                                                                                                │                     │                     │                     │                     │                     │                      │                                         │                     │                     │                     │                     │                     │                      │                  │                      │                     │                     │                     │                     │                      │\n",
            "(3, 0): ───H───Rx(pi*<x_3/pi>)───────────────────────────────────────────────iSwap^(<2*x_12/pi>)───┼─────────────────────┼─────────────────────┼─────────────────────┼─────────────────────┼──────────────────────┼─────────────────────────────────────────iSwap^(<2*x_20/pi>)───┼─────────────────────┼─────────────────────┼─────────────────────┼─────────────────────┼──────────────────────┼──────────────────iSwap^(<2*x_27/pi>)────┼─────────────────────┼─────────────────────┼─────────────────────┼─────────────────────┼──────────────────────┼──────────────────iSwap──────────────────iSwap─────────────────iSwap─────────────────iSwap─────────────────iSwap──────────────────iSwap──────────────────────────────────────────────────────────────────────────────────────────────────────────────────────────────────────────────────────────────────────────────────────────────────────────────────────────────────────────────────────────────────────────────────────────────────────────────────────────────────────────────────────H───Rx(pi*<x_58/pi>)───────────────────────────────────────────────iSwap^(<2*x_67/pi>)───┼─────────────────────┼─────────────────────┼─────────────────────┼─────────────────────┼──────────────────────┼─────────────────────────────────────────iSwap^(<2*x_75/pi>)───┼─────────────────────┼─────────────────────┼─────────────────────┼─────────────────────┼──────────────────────┼──────────────────iSwap^(<2*x_82/pi>)────┼─────────────────────┼─────────────────────┼─────────────────────┼─────────────────────┼──────────────────────┼──────────────────iSwap──────────────────iSwap─────────────────iSwap─────────────────iSwap─────────────────iSwap──────────────────iSwap────────────────────────────────────────────────────────────────────────────────────────────────────────────────────────────────────────────────────────────────────────────────────────────────────────────────────────────────────────────────────────────────────────────────────────────────────────────────────────────────────────────────────────────────\n",
            "                                                                                                   │                     │                     │                     │                     │                      │                                                               │                     │                     │                     │                     │                      │                                         │                     │                     │                     │                     │                      │                  │                      │                     │                     │                     │                      │                                                                                                                                                                                                                                                                                                                                                                                                                                                   │                     │                     │                     │                     │                      │                                                               │                     │                     │                     │                     │                      │                                         │                     │                     │                     │                     │                      │                  │                      │                     │                     │                     │                      │\n",
            "(4, 0): ───H───Rx(pi*<x_4/pi>)─────────────────────────────────────────────────────────────────────iSwap^(<2*x_13/pi>)───┼─────────────────────┼─────────────────────┼─────────────────────┼──────────────────────┼───────────────────────────────────────────────────────────────iSwap^(<2*x_21/pi>)───┼─────────────────────┼─────────────────────┼─────────────────────┼──────────────────────┼─────────────────────────────────────────iSwap^(<2*x_28/pi>)───┼─────────────────────┼─────────────────────┼─────────────────────┼──────────────────────┼──────────────────iSwap^(<2*x_34/pi>)────┼─────────────────────┼─────────────────────┼─────────────────────┼──────────────────────┼──────────────────iSwap──────────────────iSwap─────────────────iSwap─────────────────iSwap──────────────────iSwap─────────────────────────────────────────────────────────────────────────────────────────────────────────────────────────────────────────────────────────────────────────────────────────────────────────────────────────────────────────H───Rx(pi*<x_59/pi>)─────────────────────────────────────────────────────────────────────iSwap^(<2*x_68/pi>)───┼─────────────────────┼─────────────────────┼─────────────────────┼──────────────────────┼───────────────────────────────────────────────────────────────iSwap^(<2*x_76/pi>)───┼─────────────────────┼─────────────────────┼─────────────────────┼──────────────────────┼─────────────────────────────────────────iSwap^(<2*x_83/pi>)───┼─────────────────────┼─────────────────────┼─────────────────────┼──────────────────────┼──────────────────iSwap^(<2*x_89/pi>)────┼─────────────────────┼─────────────────────┼─────────────────────┼──────────────────────┼──────────────────iSwap──────────────────iSwap─────────────────iSwap─────────────────iSwap──────────────────iSwap───────────────────────────────────────────────────────────────────────────────────────────────────────────────────────────────────────────────────────────────────────────────────────────────────────────────────────────────────────────────────\n",
            "                                                                                                                         │                     │                     │                     │                      │                                                                                     │                     │                     │                     │                      │                                                               │                     │                     │                     │                      │                                         │                     │                     │                     │                      │                  │                      │                     │                     │                      │                                                                                                                                                                                                                                                                                                                                                            │                     │                     │                     │                      │                                                                                     │                     │                     │                     │                      │                                                               │                     │                     │                     │                      │                                         │                     │                     │                     │                      │                  │                      │                     │                     │                      │\n",
            "(5, 0): ───H───Rx(pi*<x_5/pi>)───────────────────────────────────────────────────────────────────────────────────────────iSwap^(<2*x_14/pi>)───┼─────────────────────┼─────────────────────┼──────────────────────┼─────────────────────────────────────────────────────────────────────────────────────iSwap^(<2*x_22/pi>)───┼─────────────────────┼─────────────────────┼──────────────────────┼───────────────────────────────────────────────────────────────iSwap^(<2*x_29/pi>)───┼─────────────────────┼─────────────────────┼──────────────────────┼─────────────────────────────────────────iSwap^(<2*x_35/pi>)───┼─────────────────────┼─────────────────────┼──────────────────────┼──────────────────iSwap^(<2*x_40/pi>)────┼─────────────────────┼─────────────────────┼──────────────────────┼──────────────────iSwap──────────────────iSwap─────────────────iSwap──────────────────iSwap──────────────────────────────────────────────────────────────────────────────────────────────────────────────────────────────────────────────────H───Rx(pi*<x_60/pi>)───────────────────────────────────────────────────────────────────────────────────────────iSwap^(<2*x_69/pi>)───┼─────────────────────┼─────────────────────┼──────────────────────┼─────────────────────────────────────────────────────────────────────────────────────iSwap^(<2*x_77/pi>)───┼─────────────────────┼─────────────────────┼──────────────────────┼───────────────────────────────────────────────────────────────iSwap^(<2*x_84/pi>)───┼─────────────────────┼─────────────────────┼──────────────────────┼─────────────────────────────────────────iSwap^(<2*x_90/pi>)───┼─────────────────────┼─────────────────────┼──────────────────────┼──────────────────iSwap^(<2*x_95/pi>)────┼─────────────────────┼─────────────────────┼──────────────────────┼──────────────────iSwap───────────────────iSwap──────────────────iSwap───────────────────iSwap─────────────────────────────────────────────────────────────────────────────────────────────────────────────────────────────────────────────────────────\n",
            "                                                                                                                                               │                     │                     │                      │                                                                                                           │                     │                     │                      │                                                                                     │                     │                     │                      │                                                               │                     │                     │                      │                                         │                     │                     │                      │                  │                      │                     │                      │                                                                                                                                                                                                                                                                                           │                     │                     │                      │                                                                                                           │                     │                     │                      │                                                                                     │                     │                     │                      │                                                               │                     │                     │                      │                                         │                     │                     │                      │                  │                       │                      │                       │\n",
            "(6, 0): ───H───Rx(pi*<x_6/pi>)─────────────────────────────────────────────────────────────────────────────────────────────────────────────────iSwap^(<2*x_15/pi>)───┼─────────────────────┼──────────────────────┼───────────────────────────────────────────────────────────────────────────────────────────────────────────iSwap^(<2*x_23/pi>)───┼─────────────────────┼──────────────────────┼─────────────────────────────────────────────────────────────────────────────────────iSwap^(<2*x_30/pi>)───┼─────────────────────┼──────────────────────┼───────────────────────────────────────────────────────────────iSwap^(<2*x_36/pi>)───┼─────────────────────┼──────────────────────┼─────────────────────────────────────────iSwap^(<2*x_41/pi>)───┼─────────────────────┼──────────────────────┼──────────────────iSwap^(<2*x_45/pi>)────┼─────────────────────┼──────────────────────┼──────────────────iSwap──────────────────iSwap──────────────────iSwap─────────────────────────────────────────────────────────────────────────────────H───Rx(pi*<x_61/pi>)─────────────────────────────────────────────────────────────────────────────────────────────────────────────────iSwap^(<2*x_70/pi>)───┼─────────────────────┼──────────────────────┼───────────────────────────────────────────────────────────────────────────────────────────────────────────iSwap^(<2*x_78/pi>)───┼─────────────────────┼──────────────────────┼─────────────────────────────────────────────────────────────────────────────────────iSwap^(<2*x_85/pi>)───┼─────────────────────┼──────────────────────┼───────────────────────────────────────────────────────────────iSwap^(<2*x_91/pi>)───┼─────────────────────┼──────────────────────┼─────────────────────────────────────────iSwap^(<2*x_96/pi>)───┼─────────────────────┼──────────────────────┼──────────────────iSwap^(<2*x_100/pi>)────┼──────────────────────┼───────────────────────┼───────────────────iSwap───────────────────iSwap───────────────────iSwap─────────────────────────────────────────────────────────────────────────────────────\n",
            "                                                                                                                                                                     │                     │                      │                                                                                                                                 │                     │                      │                                                                                                           │                     │                      │                                                                                     │                     │                      │                                                               │                     │                      │                                         │                     │                      │                  │                      │                      │                                                                                                                                                                                                                                                │                     │                      │                                                                                                                                 │                     │                      │                                                                                                           │                     │                      │                                                                                     │                     │                      │                                                               │                     │                      │                                          │                      │                       │                   │                       │                       │\n",
            "(7, 0): ───H───Rx(pi*<x_7/pi>)───────────────────────────────────────────────────────────────────────────────────────────────────────────────────────────────────────iSwap^(<2*x_16/pi>)───┼──────────────────────┼─────────────────────────────────────────────────────────────────────────────────────────────────────────────────────────────────iSwap^(<2*x_24/pi>)───┼──────────────────────┼───────────────────────────────────────────────────────────────────────────────────────────────────────────iSwap^(<2*x_31/pi>)───┼──────────────────────┼─────────────────────────────────────────────────────────────────────────────────────iSwap^(<2*x_37/pi>)───┼──────────────────────┼───────────────────────────────────────────────────────────────iSwap^(<2*x_42/pi>)───┼──────────────────────┼─────────────────────────────────────────iSwap^(<2*x_46/pi>)───┼──────────────────────┼──────────────────iSwap^(<2*x_49/pi>)────┼──────────────────────┼──────────────────iSwap──────────────────iSwap───────────────────────────────────────H───Rx(pi*<x_62/pi>)───────────────────────────────────────────────────────────────────────────────────────────────────────────────────────────────────────iSwap^(<2*x_71/pi>)───┼──────────────────────┼─────────────────────────────────────────────────────────────────────────────────────────────────────────────────────────────────iSwap^(<2*x_79/pi>)───┼──────────────────────┼───────────────────────────────────────────────────────────────────────────────────────────────────────────iSwap^(<2*x_86/pi>)───┼──────────────────────┼─────────────────────────────────────────────────────────────────────────────────────iSwap^(<2*x_92/pi>)───┼──────────────────────┼───────────────────────────────────────────────────────────────iSwap^(<2*x_97/pi>)───┼──────────────────────┼──────────────────────────────────────────iSwap^(<2*x_101/pi>)───┼───────────────────────┼───────────────────iSwap^(<2*x_104/pi>)────┼───────────────────────┼───────────────────iSwap───────────────────iSwap─────────────────────────────────────────\n",
            "                                                                                                                                                                                           │                      │                                                                                                                                                       │                      │                                                                                                                                 │                      │                                                                                                           │                      │                                                                                     │                      │                                                               │                      │                                         │                      │                  │                      │                                                                                                                                                                                                                            │                      │                                                                                                                                                       │                      │                                                                                                                                 │                      │                                                                                                           │                      │                                                                                     │                      │                                                                 │                       │                                           │                       │                   │                       │\n",
            "(8, 0): ───H───Rx(pi*<x_8/pi>)─────────────────────────────────────────────────────────────────────────────────────────────────────────────────────────────────────────────────────────────iSwap^(<2*x_17/pi>)────┼───────────────────────────────────────────────────────────────────────────────────────────────────────────────────────────────────────────────────────iSwap^(<2*x_25/pi>)────┼─────────────────────────────────────────────────────────────────────────────────────────────────────────────────────────────────iSwap^(<2*x_32/pi>)────┼───────────────────────────────────────────────────────────────────────────────────────────────────────────iSwap^(<2*x_38/pi>)────┼─────────────────────────────────────────────────────────────────────────────────────iSwap^(<2*x_43/pi>)────┼───────────────────────────────────────────────────────────────iSwap^(<2*x_47/pi>)────┼─────────────────────────────────────────iSwap^(<2*x_50/pi>)────┼──────────────────iSwap^(<2*x_52/pi>)────┼─────────────────────iSwap─────────────────H───Rx(pi*<x_63/pi>)─────────────────────────────────────────────────────────────────────────────────────────────────────────────────────────────────────────────────────────────iSwap^(<2*x_72/pi>)────┼───────────────────────────────────────────────────────────────────────────────────────────────────────────────────────────────────────────────────────iSwap^(<2*x_80/pi>)────┼─────────────────────────────────────────────────────────────────────────────────────────────────────────────────────────────────iSwap^(<2*x_87/pi>)────┼───────────────────────────────────────────────────────────────────────────────────────────────────────────iSwap^(<2*x_93/pi>)────┼─────────────────────────────────────────────────────────────────────────────────────iSwap^(<2*x_98/pi>)────┼─────────────────────────────────────────────────────────────────iSwap^(<2*x_102/pi>)────┼───────────────────────────────────────────iSwap^(<2*x_105/pi>)────┼───────────────────iSwap^(<2*x_107/pi>)────┼──────────────────────iSwap──────────────────\n",
            "                                                                                                                                                                                                                  │                                                                                                                                                                              │                                                                                                                                                        │                                                                                                                                  │                                                                                                            │                                                                                      │                                                                │                                         │                     │                                                                                                                                                                                                                             │                                                                                                                                                                              │                                                                                                                                                        │                                                                                                                                  │                                                                                                            │                                                                                         │                                                                   │                                           │                      │\n",
            "(9, 0): ───H───Rx(pi*<x_9/pi>)────────────────────────────────────────────────────────────────────────────────────────────────────────────────────────────────────────────────────────────────────────────────────iSwap^(<2*x_18/pi>)────────────────────────────────────────────────────────────────────────────────────────────────────────────────────────────────────────────────────────────iSwap^(<2*x_26/pi>)──────────────────────────────────────────────────────────────────────────────────────────────────────────────────────────────────────iSwap^(<2*x_33/pi>)────────────────────────────────────────────────────────────────────────────────────────────────────────────────iSwap^(<2*x_39/pi>)──────────────────────────────────────────────────────────────────────────────────────────iSwap^(<2*x_44/pi>)────────────────────────────────────────────────────────────────────iSwap^(<2*x_48/pi>)──────────────────────────────────────────────iSwap^(<2*x_51/pi>)───────────────────────iSwap^(<2*x_53/pi>)───iSwap^(<2*x_54/pi>)───H───Rx(pi*<x_64/pi>)────────────────────────────────────────────────────────────────────────────────────────────────────────────────────────────────────────────────────────────────────────────────────iSwap^(<2*x_73/pi>)────────────────────────────────────────────────────────────────────────────────────────────────────────────────────────────────────────────────────────────iSwap^(<2*x_81/pi>)──────────────────────────────────────────────────────────────────────────────────────────────────────────────────────────────────────iSwap^(<2*x_88/pi>)────────────────────────────────────────────────────────────────────────────────────────────────────────────────iSwap^(<2*x_94/pi>)──────────────────────────────────────────────────────────────────────────────────────────iSwap^(<2*x_99/pi>)───────────────────────────────────────────────────────────────────────iSwap^(<2*x_103/pi>)────────────────────────────────────────────────iSwap^(<2*x_106/pi>)────────────────────────iSwap^(<2*x_108/pi>)───iSwap^(<2*x_109/pi>)───\n",
            "                                                                                                                                                                                                                 └──────────────────────────────────────┘                                                                                                                                       └──────────────────────────────────────┘                                                                                                                 └──────────────────────────────────────┘                                                                                           └──────────────────────────────────────┘                                                                     └──────────────────────────────────────┘                                               └──────────────────────────────────────┘                         └──────────────────────────────────────┘                                                                                                                                                                                                                                                      └──────────────────────────────────────┘                                                                                                                                       └──────────────────────────────────────┘                                                                                                                 └──────────────────────────────────────┘                                                                                           └──────────────────────────────────────┘                                                                     └───────────────────────────────────────┘                                                 └────────────────────────────────────────┘                          └────────────────────────────────────────┘\n"
          ],
          "name": "stdout"
        }
      ]
    },
    {
      "cell_type": "markdown",
      "metadata": {
        "id": "hqNWJERWxCql",
        "colab_type": "text"
      },
      "source": [
        "##Customized Circuit Block"
      ]
    },
    {
      "cell_type": "markdown",
      "metadata": {
        "id": "U6Pbxn9JySWi",
        "colab_type": "text"
      },
      "source": [
        "###Example I: RISWAP block\n",
        "\n",
        "## You need:\n",
        "1. Inherit from TemplateCircuitBlock class\n",
        "2. Define num_params : number of parameters required for this circuit block\n",
        "3. Define num_block_qubits: number of qubits expected to be involved in this circuit block\n",
        "4. Implement the build method:\n",
        "  Args:\n",
        "    circuit: the circuit which the circuit block is built on\n",
        "    qubits: the indices of the qubits involved in this circuit block, e.g. (2,3,5) means qubits 2, 3 and 5 will be involved\n",
        "    "
      ]
    },
    {
      "cell_type": "code",
      "metadata": {
        "id": "5EUd-fkFw8Te",
        "colab_type": "code",
        "colab": {}
      },
      "source": [
        "from typing import Sequence\n",
        "import numpy as np\n",
        "\n",
        "from quple import TemplateCircuitBlock\n",
        "\n",
        "class RISWAPBlock(TemplateCircuitBlock):\n",
        "    \n",
        "    @staticmethod\n",
        "    def RYY(circuit:ParameterisedCircuit, theta, qubits:Sequence[int]):\n",
        "        circuit.RX(np.pi/2, list(qubits))\n",
        "        circuit.CX(tuple(qubits))\n",
        "        circuit.RZ(theta, qubits[1])\n",
        "        circuit.CX(tuple(qubits))\n",
        "        circuit.RX(-np.pi/2, list(qubits))\n",
        "        \n",
        "    @staticmethod\n",
        "    def RXX(circuit:ParameterisedCircuit, theta, qubits:Sequence[int]):\n",
        "        circuit.H(list(qubits))\n",
        "        circuit.CX(tuple(qubits))\n",
        "        circuit.RZ(theta, qubits[1])\n",
        "        circuit.CX(tuple(qubits))\n",
        "        circuit.H(list(qubits))\n",
        "        \n",
        "\n",
        "    def build(self, circuit:ParameterisedCircuit, qubits:Sequence[int]):\n",
        "        theta = circuit.new_param()\n",
        "        RISWAPBlock.RXX(circuit, theta, qubits)\n",
        "        RISWAPBlock.RYY(circuit, theta, qubits)\n",
        "    @property\n",
        "    def num_params(self) -> int:\n",
        "        return 1\n",
        "    \n",
        "    @property\n",
        "    def num_block_qubits(self) -> int:\n",
        "        return 2"
      ],
      "execution_count": 15,
      "outputs": []
    },
    {
      "cell_type": "markdown",
      "metadata": {
        "id": "L9bFJ1e5zgrX",
        "colab_type": "text"
      },
      "source": [
        "Pass the circuit block instance to a parameterised circuit "
      ]
    },
    {
      "cell_type": "code",
      "metadata": {
        "id": "uxuy2PRxzeH4",
        "colab_type": "code",
        "colab": {
          "base_uri": "https://localhost:8080/",
          "height": 165
        },
        "outputId": "2caba140-03ce-4726-fdbd-c2b075a7dd6c"
      },
      "source": [
        "iswap_block = RISWAPBlock()\n",
        "cq = ParameterisedCircuit(n_qubit=4, copies=1, rotation_blocks=['RX'],entanglement_blocks=iswap_block,entangle_strategy='full')\n",
        "cq.assemble()\n",
        "print(cq)"
      ],
      "execution_count": 16,
      "outputs": [
        {
          "output_type": "stream",
          "text": [
            "(0, 0): ───Rx(pi*<θ_0/pi>)───H───@─────────────────────@───H───Rx(0.5π)───@─────────────────────@───Rx(-0.5π)───H───@─────────────────────@───H───Rx(0.5π)───@─────────────────────@───Rx(-0.5π)───H───@─────────────────────@───H───Rx(0.5π)───@─────────────────────@───Rx(-0.5π)────────────────────────────────────────────────────────────────────────────────────────────────────────────────────────────────────────────────────────────────────────────────────────────────────────────────────────────────────────────────────────\n",
            "                                 │                     │                  │                     │                   │                     │                  │                     │                   │                     │                  │                     │\n",
            "(1, 0): ───Rx(pi*<θ_1/pi>)───H───X───Rz(pi*<θ_4/pi>)───X───H───Rx(0.5π)───X───Rz(pi*<θ_4/pi>)───X───Rx(-0.5π)───────┼─────────────────────┼──────────────────┼─────────────────────┼───────────────────┼─────────────────────┼──────────────────┼─────────────────────┼───H───────────@─────────────────────@───H───Rx(0.5π)───@─────────────────────@───Rx(-0.5π)───H───@─────────────────────@───H───Rx(0.5π)───@─────────────────────@───Rx(-0.5π)──────────────────────────────────────────────────────────────────────────────────────\n",
            "                                                                                                                    │                     │                  │                     │                   │                     │                  │                     │               │                     │                  │                     │                   │                     │                  │                     │\n",
            "(2, 0): ───Rx(pi*<θ_2/pi>)──────────────────────────────────────────────────────────────────────────────────────H───X───Rz(pi*<θ_5/pi>)───X───H───Rx(0.5π)───X───Rz(pi*<θ_5/pi>)───X───Rx(-0.5π)───────┼─────────────────────┼──────────────────┼─────────────────────┼───H───────────X───Rz(pi*<θ_7/pi>)───X───H───Rx(0.5π)───X───Rz(pi*<θ_7/pi>)───X───Rx(-0.5π)───────┼─────────────────────┼──────────────────┼─────────────────────┼───H───────────────@─────────────────────@───H───Rx(0.5π)───@─────────────────────@───Rx(-0.5π)───\n",
            "                                                                                                                                                                                                       │                     │                  │                     │                                                                                                  │                     │                  │                     │                   │                     │                  │                     │\n",
            "(3, 0): ───Rx(pi*<θ_3/pi>)─────────────────────────────────────────────────────────────────────────────────────────────────────────────────────────────────────────────────────────────────────────H───X───Rz(pi*<θ_6/pi>)───X───H───Rx(0.5π)───X───Rz(pi*<θ_6/pi>)───X───Rx(-0.5π)──────────────────────────────────────────────────────────────────────────────────H───X───Rz(pi*<θ_8/pi>)───X───H───Rx(0.5π)───X───Rz(pi*<θ_8/pi>)───X───Rx(-0.5π)───H───X───Rz(pi*<θ_9/pi>)───X───H───Rx(0.5π)───X───Rz(pi*<θ_9/pi>)───X───Rx(-0.5π)───\n"
          ],
          "name": "stdout"
        }
      ]
    },
    {
      "cell_type": "markdown",
      "metadata": {
        "id": "CzVPX64m0VEP",
        "colab_type": "text"
      },
      "source": [
        "##Customize connectivity graphs\n",
        "\n",
        "Connectivity graphs is a `list` of `tuples` of `integers` denoting the sequence of groups of qubits which the two qubit entanglement gates or circuit block will act on\n",
        "\n",
        "- For example `connectivity_graphs = [(0,1),(1,2),(2,3),(3,4)]` will be a fully connected graph for circuit with 5 qubits\n",
        "\n",
        "- To make your own connectivity graph, you need to write a function that maps `n=number of qubits in circuit` and `m=number of qubits involved in the gate operation (i.e. 2) or in the circuit block (can be any number)` to a `list` of `tuples` of `integers` denoting the connectivity graph"
      ]
    },
    {
      "cell_type": "code",
      "metadata": {
        "id": "Z-GzZ5fdz8zM",
        "colab_type": "code",
        "colab": {}
      },
      "source": [
        "from typing import List, Tuple\n",
        "import itertools\n",
        "# fully connected graph\n",
        "def fully_connected(n:int, m:int=2) -> List[Tuple[int]]:\n",
        "    return list(itertools.combinations(list(range(n)), m))\n",
        "# some toy graph\n",
        "def toy(n:int, m:int=2) -> List[Tuple[int]]:\n",
        "    return [tuple(k+2*i for i in range(m)) for k in range(n-m*2+2)]"
      ],
      "execution_count": 17,
      "outputs": []
    },
    {
      "cell_type": "markdown",
      "metadata": {
        "id": "DLrABr1s1vPN",
        "colab_type": "text"
      },
      "source": [
        "apply your newly developed connectivity graph"
      ]
    },
    {
      "cell_type": "code",
      "metadata": {
        "id": "UKbmOsec1qLs",
        "colab_type": "code",
        "colab": {
          "base_uri": "https://localhost:8080/",
          "height": 419
        },
        "outputId": "51c38522-9cfd-4b1a-dc60-8e12e6321b4c"
      },
      "source": [
        "# using the custom made `fully_connected` connectivity graph\n",
        "cq = ParameterisedCircuit(n_qubit=10, copies=1, rotation_blocks=['RX'],entanglement_blocks='CX',entangle_strategy=fully_connected,final_rotation_layer=True)\n",
        "print(cq)"
      ],
      "execution_count": 18,
      "outputs": [
        {
          "output_type": "stream",
          "text": [
            "                                                             ┌──┐                           ┌──┐                       ┌──┐                   ┌──┐               ┌──┐           ┌──┐       ┌──┐\n",
            "(0, 0): ───Rx(pi*<θ_0/pi>)───@───@───@───@───@───@───@───@────@───────────────────────────────────────────────────────────────────────────────────────────────────────────────────────────────────────────Rx(pi*<θ_10/pi>)───\n",
            "                             │   │   │   │   │   │   │   │    │\n",
            "(1, 0): ───Rx(pi*<θ_1/pi>)───X───┼───┼───┼───┼───┼───┼───┼────┼@────@───@───@───@───@───@────@────────────────────────────────────────────────────────────────────────────────────────────────────────────Rx(pi*<θ_11/pi>)───\n",
            "                                 │   │   │   │   │   │   │    ││    │   │   │   │   │   │    │\n",
            "(2, 0): ───Rx(pi*<θ_2/pi>)───────X───┼───┼───┼───┼───┼───┼────┼X────┼───┼───┼───┼───┼───┼────┼@────@───@───@───@───@────@─────────────────────────────────────────────────────────────────────────────────Rx(pi*<θ_12/pi>)───\n",
            "                                     │   │   │   │   │   │    │     │   │   │   │   │   │    ││    │   │   │   │   │    │\n",
            "(3, 0): ───Rx(pi*<θ_3/pi>)───────────X───┼───┼───┼───┼───┼────┼─────X───┼───┼───┼───┼───┼────┼X────┼───┼───┼───┼───┼────┼@────@───@───@───@────@──────────────────────────────────────────────────────────Rx(pi*<θ_13/pi>)───\n",
            "                                         │   │   │   │   │    │         │   │   │   │   │    │     │   │   │   │   │    ││    │   │   │   │    │\n",
            "(4, 0): ───Rx(pi*<θ_4/pi>)───────────────X───┼───┼───┼───┼────┼─────────X───┼───┼───┼───┼────┼─────X───┼───┼───┼───┼────┼X────┼───┼───┼───┼────┼@────@───@───@────@───────────────────────────────────────Rx(pi*<θ_14/pi>)───\n",
            "                                             │   │   │   │    │             │   │   │   │    │         │   │   │   │    │     │   │   │   │    ││    │   │   │    │\n",
            "(5, 0): ───Rx(pi*<θ_5/pi>)───────────────────X───┼───┼───┼────┼─────────────X───┼───┼───┼────┼─────────X───┼───┼───┼────┼─────X───┼───┼───┼────┼X────┼───┼───┼────┼@────@───@────@────────────────────────Rx(pi*<θ_15/pi>)───\n",
            "                                                 │   │   │    │                 │   │   │    │             │   │   │    │         │   │   │    │     │   │   │    ││    │   │    │\n",
            "(6, 0): ───Rx(pi*<θ_6/pi>)───────────────────────X───┼───┼────┼─────────────────X───┼───┼────┼─────────────X───┼───┼────┼─────────X───┼───┼────┼─────X───┼───┼────┼X────┼───┼────┼@────@────@─────────────Rx(pi*<θ_16/pi>)───\n",
            "                                                     │   │    │                     │   │    │                 │   │    │             │   │    │         │   │    │     │   │    ││    │    │\n",
            "(7, 0): ───Rx(pi*<θ_7/pi>)───────────────────────────X───┼────┼─────────────────────X───┼────┼─────────────────X───┼────┼─────────────X───┼────┼─────────X───┼────┼─────X───┼────┼X────┼────┼@────@───────Rx(pi*<θ_17/pi>)───\n",
            "                                                         │    │                         │    │                     │    │                 │    │             │    │         │    │     │    ││    │\n",
            "(8, 0): ───Rx(pi*<θ_8/pi>)───────────────────────────────X────┼─────────────────────────X────┼─────────────────────X────┼─────────────────X────┼─────────────X────┼─────────X────┼─────X────┼X────┼───@───Rx(pi*<θ_18/pi>)───\n",
            "                                                              │                              │                          │                      │                  │              │          │     │   │\n",
            "(9, 0): ───Rx(pi*<θ_9/pi>)────────────────────────────────────X──────────────────────────────X──────────────────────────X──────────────────────X──────────────────X──────────────X──────────X─────X───X───Rx(pi*<θ_19/pi>)───\n",
            "                                                             └──┘                           └──┘                       └──┘                   └──┘               └──┘           └──┘       └──┘\n"
          ],
          "name": "stdout"
        }
      ]
    },
    {
      "cell_type": "code",
      "metadata": {
        "id": "-yrEEP5x14IO",
        "colab_type": "code",
        "colab": {
          "base_uri": "https://localhost:8080/",
          "height": 399
        },
        "outputId": "60b52e27-27f1-452d-86ea-a6b65284179a"
      },
      "source": [
        "# using the custom made `toy` connectivity graph\n",
        "cq = ParameterisedCircuit(n_qubit=10, copies=1, rotation_blocks=['RX'],entanglement_blocks='CX',entangle_strategy=toy,final_rotation_layer=True)\n",
        "print(cq)"
      ],
      "execution_count": 19,
      "outputs": [
        {
          "output_type": "stream",
          "text": [
            "                             ┌──┐   ┌──┐   ┌──┐   ┌──┐\n",
            "(0, 0): ───Rx(pi*<θ_0/pi>)────@──────────────────────────Rx(pi*<θ_10/pi>)───\n",
            "                              │\n",
            "(1, 0): ───Rx(pi*<θ_1/pi>)────┼@─────────────────────────Rx(pi*<θ_11/pi>)───\n",
            "                              ││\n",
            "(2, 0): ───Rx(pi*<θ_2/pi>)────X┼─────@───────────────────Rx(pi*<θ_12/pi>)───\n",
            "                               │     │\n",
            "(3, 0): ───Rx(pi*<θ_3/pi>)─────X─────┼@──────────────────Rx(pi*<θ_13/pi>)───\n",
            "                                     ││\n",
            "(4, 0): ───Rx(pi*<θ_4/pi>)───────────X┼─────@────────────Rx(pi*<θ_14/pi>)───\n",
            "                                      │     │\n",
            "(5, 0): ───Rx(pi*<θ_5/pi>)────────────X─────┼@───────────Rx(pi*<θ_15/pi>)───\n",
            "                                            ││\n",
            "(6, 0): ───Rx(pi*<θ_6/pi>)──────────────────X┼─────@─────Rx(pi*<θ_16/pi>)───\n",
            "                                             │     │\n",
            "(7, 0): ───Rx(pi*<θ_7/pi>)───────────────────X─────┼@────Rx(pi*<θ_17/pi>)───\n",
            "                                                   ││\n",
            "(8, 0): ───Rx(pi*<θ_8/pi>)─────────────────────────X┼────Rx(pi*<θ_18/pi>)───\n",
            "                                                    │\n",
            "(9, 0): ───Rx(pi*<θ_9/pi>)──────────────────────────X────Rx(pi*<θ_19/pi>)───\n",
            "                             └──┘   └──┘   └──┘   └──┘\n"
          ],
          "name": "stdout"
        }
      ]
    },
    {
      "cell_type": "markdown",
      "metadata": {
        "id": "QG2OmqDLg59p",
        "colab_type": "text"
      },
      "source": [
        "##Measure qubit"
      ]
    },
    {
      "cell_type": "code",
      "metadata": {
        "id": "8DiRrzbTg-l_",
        "colab_type": "code",
        "colab": {
          "base_uri": "https://localhost:8080/",
          "height": 217
        },
        "outputId": "b72bc71a-6962-47bf-9494-0bd9b9340215"
      },
      "source": [
        "# Real Amplitudes wavefunction constructed from RY rotations and fully connected CNOT entanglement repeated 2 times for 5 qubits (with a final rotation layer) \n",
        "# And measure the first qubit\n",
        "cq = RealAmplitudes(n_qubit=5, copies=2, measure_qubit=0)\n",
        "print(cq)"
      ],
      "execution_count": 20,
      "outputs": [
        {
          "output_type": "stream",
          "text": [
            "                                 ┌──┐       ┌──┐                                 ┌──┐       ┌──┐\n",
            "(0, 0): ───Ry(θ_0)───@───@───@────@────────────────────────Ry(θ_5)───@───@───@────@────────────────────────Ry(θ_10)───M───\n",
            "                     │   │   │    │                                  │   │   │    │\n",
            "(1, 0): ───Ry(θ_1)───X───┼───┼────┼@────@────@─────────────Ry(θ_6)───X───┼───┼────┼@────@────@─────────────Ry(θ_11)───────\n",
            "                         │   │    ││    │    │                           │   │    ││    │    │\n",
            "(2, 0): ───Ry(θ_2)───────X───┼────┼X────┼────┼@────@───────Ry(θ_7)───────X───┼────┼X────┼────┼@────@───────Ry(θ_12)───────\n",
            "                             │    │     │    ││    │                         │    │     │    ││    │\n",
            "(3, 0): ───Ry(θ_3)───────────X────┼─────X────┼X────┼───@───Ry(θ_8)───────────X────┼─────X────┼X────┼───@───Ry(θ_13)───────\n",
            "                                  │          │     │   │                          │          │     │   │\n",
            "(4, 0): ───Ry(θ_4)────────────────X──────────X─────X───X───Ry(θ_9)────────────────X──────────X─────X───X───Ry(θ_14)───────\n",
            "                                 └──┘       └──┘                                 └──┘       └──┘\n"
          ],
          "name": "stdout"
        }
      ]
    },
    {
      "cell_type": "code",
      "metadata": {
        "id": "Bf1-EMjqhFw-",
        "colab_type": "code",
        "colab": {}
      },
      "source": [
        ""
      ],
      "execution_count": null,
      "outputs": []
    }
  ]
}
